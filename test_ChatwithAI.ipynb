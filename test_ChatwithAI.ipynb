{
  "cells": [
    {
      "cell_type": "markdown",
      "metadata": {
        "id": "MUdb91GdtaFG"
      },
      "source": [
        "# Dependencies"
      ]
    },
    {
      "cell_type": "code",
      "source": [
        "!pip install openai python-docx PyPDF2 python-pptx influxdb-client"
      ],
      "metadata": {
        "id": "r5R-jYLmZKrd",
        "colab": {
          "base_uri": "https://localhost:8080/"
        },
        "outputId": "a50f3768-3c79-470a-d71c-2848e678fd5a"
      },
      "execution_count": 1,
      "outputs": [
        {
          "output_type": "stream",
          "name": "stdout",
          "text": [
            "Requirement already satisfied: openai in /usr/local/lib/python3.10/dist-packages (1.23.4)\n",
            "Requirement already satisfied: python-docx in /usr/local/lib/python3.10/dist-packages (1.1.0)\n",
            "Requirement already satisfied: PyPDF2 in /usr/local/lib/python3.10/dist-packages (3.0.1)\n",
            "Requirement already satisfied: python-pptx in /usr/local/lib/python3.10/dist-packages (0.6.23)\n",
            "Requirement already satisfied: influxdb-client in /usr/local/lib/python3.10/dist-packages (1.42.0)\n",
            "Requirement already satisfied: anyio<5,>=3.5.0 in /usr/local/lib/python3.10/dist-packages (from openai) (3.7.1)\n",
            "Requirement already satisfied: distro<2,>=1.7.0 in /usr/lib/python3/dist-packages (from openai) (1.7.0)\n",
            "Requirement already satisfied: httpx<1,>=0.23.0 in /usr/local/lib/python3.10/dist-packages (from openai) (0.27.0)\n",
            "Requirement already satisfied: pydantic<3,>=1.9.0 in /usr/local/lib/python3.10/dist-packages (from openai) (2.7.0)\n",
            "Requirement already satisfied: sniffio in /usr/local/lib/python3.10/dist-packages (from openai) (1.3.1)\n",
            "Requirement already satisfied: tqdm>4 in /usr/local/lib/python3.10/dist-packages (from openai) (4.66.2)\n",
            "Requirement already satisfied: typing-extensions<5,>=4.7 in /usr/local/lib/python3.10/dist-packages (from openai) (4.11.0)\n",
            "Requirement already satisfied: lxml>=3.1.0 in /usr/local/lib/python3.10/dist-packages (from python-docx) (4.9.4)\n",
            "Requirement already satisfied: Pillow>=3.3.2 in /usr/local/lib/python3.10/dist-packages (from python-pptx) (9.4.0)\n",
            "Requirement already satisfied: XlsxWriter>=0.5.7 in /usr/local/lib/python3.10/dist-packages (from python-pptx) (3.2.0)\n",
            "Requirement already satisfied: reactivex>=4.0.4 in /usr/local/lib/python3.10/dist-packages (from influxdb-client) (4.0.4)\n",
            "Requirement already satisfied: certifi>=14.05.14 in /usr/local/lib/python3.10/dist-packages (from influxdb-client) (2024.2.2)\n",
            "Requirement already satisfied: python-dateutil>=2.5.3 in /usr/local/lib/python3.10/dist-packages (from influxdb-client) (2.8.2)\n",
            "Requirement already satisfied: setuptools>=21.0.0 in /usr/local/lib/python3.10/dist-packages (from influxdb-client) (67.7.2)\n",
            "Requirement already satisfied: urllib3>=1.26.0 in /usr/local/lib/python3.10/dist-packages (from influxdb-client) (2.0.7)\n",
            "Requirement already satisfied: idna>=2.8 in /usr/local/lib/python3.10/dist-packages (from anyio<5,>=3.5.0->openai) (3.7)\n",
            "Requirement already satisfied: exceptiongroup in /usr/local/lib/python3.10/dist-packages (from anyio<5,>=3.5.0->openai) (1.2.1)\n",
            "Requirement already satisfied: httpcore==1.* in /usr/local/lib/python3.10/dist-packages (from httpx<1,>=0.23.0->openai) (1.0.5)\n",
            "Requirement already satisfied: h11<0.15,>=0.13 in /usr/local/lib/python3.10/dist-packages (from httpcore==1.*->httpx<1,>=0.23.0->openai) (0.14.0)\n",
            "Requirement already satisfied: annotated-types>=0.4.0 in /usr/local/lib/python3.10/dist-packages (from pydantic<3,>=1.9.0->openai) (0.6.0)\n",
            "Requirement already satisfied: pydantic-core==2.18.1 in /usr/local/lib/python3.10/dist-packages (from pydantic<3,>=1.9.0->openai) (2.18.1)\n",
            "Requirement already satisfied: six>=1.5 in /usr/local/lib/python3.10/dist-packages (from python-dateutil>=2.5.3->influxdb-client) (1.16.0)\n"
          ]
        }
      ]
    },
    {
      "cell_type": "code",
      "execution_count": 2,
      "metadata": {
        "id": "OcVS-f_ctaFK"
      },
      "outputs": [],
      "source": [
        "import json\n",
        "import chat_with_ai_azureopenai\n",
        "from chat_with_ai_azureopenai import FileProcessor"
      ]
    },
    {
      "cell_type": "markdown",
      "source": [
        "**Functioncalling + Polygon**"
      ],
      "metadata": {
        "id": "_4KJ2nrPVNEp"
      }
    },
    {
      "cell_type": "code",
      "source": [
        "from openai import OpenAI\n",
        "import os\n",
        "from typing import Optional\n",
        "import requests\n",
        "from typing import Optional\n",
        "from dateutil.relativedelta import relativedelta\n",
        "from openai import AzureOpenAI\n",
        "import json\n",
        "from functions_json import functions\n",
        "from functions_python import *\n",
        "from utils import date_validation, monthdelta"
      ],
      "metadata": {
        "id": "63x_ZYc8cl3u"
      },
      "execution_count": 3,
      "outputs": []
    },
    {
      "cell_type": "code",
      "execution_count": 6,
      "metadata": {
        "id": "JjgpJZS4taFN",
        "colab": {
          "base_uri": "https://localhost:8080/"
        },
        "outputId": "3d63d708-e442-416a-a90b-d6722236ac95"
      },
      "outputs": [
        {
          "output_type": "stream",
          "name": "stdout",
          "text": [
            "from(bucket:\"bronze\") \n",
            "                |> range(start: time(v:2023-03-10T23:45:30Z), stop: time(v: 2023-03-11T23:45:30Z))\n",
            "                |> filter(fn: (r) => r[\"_measurement\"] == \"NQ\" and                    r[\"timeframe\"] == \"1min\" and                    r[\"liq_threshold\"] == \"-1\")\n",
            "                |> pivot(rowKey:[\"_time\"], columnKey:[\"_field\"], valueColumn:\"_value\")\n",
            "                \n",
            "[Error] result output is not DataFrame\n",
            "There is no data for this period of time...\n",
            "What is the trend of NQ stock from 3/10/2023 15:45:30 until 3/11/2023 15:45:30?    =>    None\n",
            "What is the trend of NQ stock for the past week?    =>    None\n",
            "What is the trend of NQ?    =>    The trend of the NQ stock is a mild bearish (downward) trend.\n",
            "What is the trend?    =>    The trend of the NQ stock is a mild bearish (downward) trend.\n",
            "Show me the trend of ES from 2024-03-25 11:12:17 to 2024-04-01 9:31:23.    =>    None\n",
            "Trend of GC, 2024-03-25 11:12:17 to 2024-04-01 9:31:23    =>    The trend of the GC stock from 2024-03-25 11:12:17 to 2024-04-01 9:31:23 is a mild bullish (upward) trend.\n",
            "from(bucket:\"bronze\") \n",
            "                |> range(start: time(v:2024-04-25T03:26:04Z), stop: time(v: 2024-04-25T05:26:04Z))\n",
            "                |> filter(fn: (r) => r[\"_measurement\"] == \"GC\" and                    r[\"timeframe\"] == \"1min\" and                    r[\"liq_threshold\"] == \"-1\")\n",
            "                |> pivot(rowKey:[\"_time\"], columnKey:[\"_field\"], valueColumn:\"_value\")\n",
            "                \n",
            "[Error] result output is not DataFrame\n",
            "There is no data for this period of time...\n",
            "Trend of GC, past 2 hours    =>    None\n",
            "Calculate Support and Resistance Levels based on YM by looking back up to past 10 days and timeframe of 1 hour.    =>    Based on my calculations of support and resistance levels for the YM stock by looking back up to the past 10 days with a timeframe of 1 hour, I have identified the following levels:\n",
            "\n",
            "- Support Levels: 37463.0, 38060.0, 38208.0, 38431.0, 38450.0, 38470.0, 38478.0, 38520.0, 38770.0\n",
            "- Resistance Levels: 38801.0\n",
            "\n",
            "These levels represent price points on the chart where the odds favor a pause or reversal of the prevailing trend. The levels are determined based on historical data and can provide insights into potential areas of buying and selling pressure.\n",
            "How much is the sr of CL for the past week?    =>    I apologize, but it seems that there are no support and resistance levels available for the CL stock for the past week.\n",
            "Get data for AAPL from 2024.04.02 to 2024.04.12 in range of day    =>                     time    open   close    high       low       volume\n",
            "0 2024-04-01 04:00:00  171.19  170.03  171.25  169.4750   46240500.0\n",
            "1 2024-04-02 04:00:00  169.08  168.84  169.34  168.2302   49297581.0\n",
            "2 2024-04-03 04:00:00  168.79  169.65  170.68  168.5800   47691715.0\n",
            "3 2024-04-04 04:00:00  170.29  168.82  171.92  168.8200   53682486.0\n",
            "4 2024-04-05 04:00:00  169.59  169.58  170.39  168.9500   42104826.0\n",
            "5 2024-04-08 04:00:00  169.03  168.45  169.20  168.2400   37425513.0\n",
            "6 2024-04-09 04:00:00  168.70  169.67  170.08  168.3500   42451209.0\n",
            "7 2024-04-10 04:00:00  168.80  167.78  169.09  167.1100   49691936.0\n",
            "8 2024-04-11 04:00:00  168.34  175.04  175.46  168.1600   91053075.0\n",
            "9 2024-04-12 04:00:00  174.26  176.55  178.36  174.2100  101282386.0\n"
          ]
        }
      ],
      "source": [
        "messages = chat_with_ai_azureopenai.messages\n",
        "\n",
        "# providing prompt samples\n",
        "prompts = [\n",
        "    # detect_trend\n",
        "    \"What is the trend of NQ stock from 3/10/2023 15:45:30 until 3/11/2023 15:45:30?\",\n",
        "    \"What is the trend of NQ stock for the past week?\",\n",
        "    \"What is the trend of NQ?\",\n",
        "    \"What is the trend?\",\n",
        "    \"Show me the trend of ES from 2024-03-25 11:12:17 to 2024-04-01 9:31:23.\",\n",
        "    \"Trend of GC, 2024-03-25 11:12:17 to 2024-04-01 9:31:23\",\n",
        "    \"Trend of GC, past 2 hours\",\n",
        "    # calculate_sr\n",
        "    \"Calculate Support and Resistance Levels based on YM by looking back up to past 10 days and timeframe of 1 hour.\",\n",
        "    \"How much is the sr of CL for the past week?\",\n",
        "    \"Get data for AAPL from 2024.04.02 to 2024.04.12 in range of day\"\n",
        "]\n",
        "\n",
        "# saving the answer of the prompt in a dictionary which its key is the prompt and its value is the answer to that prompt\n",
        "results = {}\n",
        "\n",
        "# getting the answer of the prompts\n",
        "try:\n",
        "    processor = FileProcessor()\n",
        "    for prompt in prompts:\n",
        "        #api = 'openai'\n",
        "        api = 'azureopenai'\n",
        "        #result = processor.get_user_input(file_path=None, prompt=prompt, messages=messages, api)\n",
        "        result = processor.get_user_input(None, prompt, messages, api)\n",
        "        print(f\"{prompt}    =>    {result}\")\n",
        "        results[prompt]=result\n",
        "\n",
        "except Exception as e:\n",
        "    print(f\"The following exception occured:\\n{e}\")\n"
      ]
    },
    {
      "cell_type": "code",
      "source": [
        "!pip install openai\n",
        "import json\n",
        "import chat_with_ai_azureopenai\n",
        "from chat_with_ai_azureopenai import FileProcessor\n",
        "from openai import OpenAI\n",
        "import os\n",
        "from typing import Optional\n",
        "import requests\n",
        "from typing import Optional\n",
        "from dateutil.relativedelta import relativedelta\n",
        "from openai import AzureOpenAI\n",
        "import json\n",
        "from functions_json import functions\n",
        "from functions_python import *\n",
        "from utils import date_validation, monthdelta\n",
        "\n",
        "messages = chat_with_ai_azureopenai.messages\n",
        "# providing prompt samples\n",
        "#prompt = \"Get data for AAPL from 2024-04-02T22:18:47 to 2024-04-12T22:18:47 in range of day\"\n",
        "prompt = \"Get data for AAPL from 2024-04-02 to 2024-04-12 in range of day\"\n",
        "processor = FileProcessor()\n",
        "\n",
        "api = 'azureopenai'\n",
        "print(processor.get_user_input(None, prompt, messages, api))"
      ],
      "metadata": {
        "colab": {
          "base_uri": "https://localhost:8080/"
        },
        "id": "bgspAeos6jhO",
        "outputId": "25b8fc33-0bc9-44d1-be1f-29aae1915967"
      },
      "execution_count": 1,
      "outputs": [
        {
          "output_type": "stream",
          "name": "stdout",
          "text": [
            "Requirement already satisfied: openai in /usr/local/lib/python3.10/dist-packages (1.23.4)\n",
            "Requirement already satisfied: anyio<5,>=3.5.0 in /usr/local/lib/python3.10/dist-packages (from openai) (3.7.1)\n",
            "Requirement already satisfied: distro<2,>=1.7.0 in /usr/lib/python3/dist-packages (from openai) (1.7.0)\n",
            "Requirement already satisfied: httpx<1,>=0.23.0 in /usr/local/lib/python3.10/dist-packages (from openai) (0.27.0)\n",
            "Requirement already satisfied: pydantic<3,>=1.9.0 in /usr/local/lib/python3.10/dist-packages (from openai) (2.7.0)\n",
            "Requirement already satisfied: sniffio in /usr/local/lib/python3.10/dist-packages (from openai) (1.3.1)\n",
            "Requirement already satisfied: tqdm>4 in /usr/local/lib/python3.10/dist-packages (from openai) (4.66.2)\n",
            "Requirement already satisfied: typing-extensions<5,>=4.7 in /usr/local/lib/python3.10/dist-packages (from openai) (4.11.0)\n",
            "Requirement already satisfied: idna>=2.8 in /usr/local/lib/python3.10/dist-packages (from anyio<5,>=3.5.0->openai) (3.7)\n",
            "Requirement already satisfied: exceptiongroup in /usr/local/lib/python3.10/dist-packages (from anyio<5,>=3.5.0->openai) (1.2.1)\n",
            "Requirement already satisfied: certifi in /usr/local/lib/python3.10/dist-packages (from httpx<1,>=0.23.0->openai) (2024.2.2)\n",
            "Requirement already satisfied: httpcore==1.* in /usr/local/lib/python3.10/dist-packages (from httpx<1,>=0.23.0->openai) (1.0.5)\n",
            "Requirement already satisfied: h11<0.15,>=0.13 in /usr/local/lib/python3.10/dist-packages (from httpcore==1.*->httpx<1,>=0.23.0->openai) (0.14.0)\n",
            "Requirement already satisfied: annotated-types>=0.4.0 in /usr/local/lib/python3.10/dist-packages (from pydantic<3,>=1.9.0->openai) (0.6.0)\n",
            "Requirement already satisfied: pydantic-core==2.18.1 in /usr/local/lib/python3.10/dist-packages (from pydantic<3,>=1.9.0->openai) (2.18.1)\n",
            "                 time    open   close    high       low       volume\n",
            "0 2024-04-01 04:00:00  171.19  170.03  171.25  169.4750   46240500.0\n",
            "1 2024-04-02 04:00:00  169.08  168.84  169.34  168.2302   49297581.0\n",
            "2 2024-04-03 04:00:00  168.79  169.65  170.68  168.5800   47691715.0\n",
            "3 2024-04-04 04:00:00  170.29  168.82  171.92  168.8200   53682486.0\n",
            "4 2024-04-05 04:00:00  169.59  169.58  170.39  168.9500   42104826.0\n",
            "5 2024-04-08 04:00:00  169.03  168.45  169.20  168.2400   37425513.0\n",
            "6 2024-04-09 04:00:00  168.70  169.67  170.08  168.3500   42451209.0\n",
            "7 2024-04-10 04:00:00  168.80  167.78  169.09  167.1100   49691936.0\n",
            "8 2024-04-11 04:00:00  168.34  175.04  175.46  168.1600   91053075.0\n",
            "9 2024-04-12 04:00:00  174.26  176.55  178.36  174.2100  101282386.0\n"
          ]
        }
      ]
    },
    {
      "cell_type": "markdown",
      "metadata": {
        "id": "bJ0XixSDtaFO"
      },
      "source": [
        "# File"
      ]
    },
    {
      "cell_type": "code",
      "source": [
        "!pip install openai python-docx PyPDF2 python-pptx influxdb-client"
      ],
      "metadata": {
        "id": "mpEdZ3Awusn9"
      },
      "execution_count": null,
      "outputs": []
    },
    {
      "cell_type": "code",
      "execution_count": 2,
      "metadata": {
        "id": "KV7RTe8StaFP",
        "colab": {
          "base_uri": "https://localhost:8080/"
        },
        "outputId": "9549c73c-a85a-42e4-8229-64bf4b3f2bb1"
      },
      "outputs": [
        {
          "output_type": "stream",
          "name": "stdout",
          "text": [
            "CSV file detected. Extracting text...\n",
            "Extraction complete.\n",
            "The main idea of this file is to record details about various dining experiences, including the total bill, tip amount, gender of the person paying, whether they are a smoker or not, the day and time of the dining experience, and the size of the party.\n",
            "Powerpoint document detected. Extracting text...\n",
            "Extraction complete.\n",
            "The main idea of this file is to provide an overview and introduction to the field of Artificial Intelligence (AI). It discusses the definition of AI, its relation to other disciplines such as computer science, cognitive science, psychology, philosophy, linguistics, and neuroscience. It also explores the concept of intelligence and the Physical Symbol System Hypothesis. Additionally, it introduces the Turing Test and the Eliza program as examples of early attempts to create AI systems.\n",
            "Image file detected. VisionGPT processing...\n",
            "An error occurred while processing the image: 401 Client Error: Unauthorized for url: https://api.openai.com/v1/chat/completions\n",
            "The main idea of this file is to provide an overview and introduction to the field of Artificial Intelligence (AI). It discusses various aspects of AI, including its definition, its relationship with other disciplines, the concept of intelligence, the Physical Symbol System Hypothesis, and the Turing Test. It also mentions the early programs like Eliza that aimed to replicate human-like conversations. Overall, the file aims to provide foundational knowledge and raise questions about the nature and potential of AI.\n",
            "Excel file detected. Extracting text...\n",
            "Extraction complete.\n",
            "The main idea of this file appears to be a collection of job listings in the field of Artificial Intelligence (AI). Each job listing includes details such as the company name, job title, required experience, application date, salary, phone number, location, work days, site address, start time, and job requirements. The file provides a list of various AI-related job opportunities available, including positions for data scientists, machine learning specialists, AI researchers, and data analysts.\n",
            "PDF file detected. Extracting text...\n",
            "Extraction complete.\n",
            "The main idea of this file is to provide guidance and education for investors about the different types of orders they can use to buy and sell stocks through a brokerage firm. The file explains market orders and limit orders, which are the most common order types. It also introduces special orders and trading instructions such as stop orders, stop-limit orders, day orders, good-til-cancelled orders, immediate-or-cancel orders, fill-or-kill orders, and all-or-none orders. The purpose of the file is to help investors understand the various order types available to them and the risks and benefits associated with each type.\n",
            "Text file detected. Extracting text...\n",
            "Extraction complete.\n",
            "The main idea of this file is to describe a model that has been trained on a large dataset of English audio and text. The model is optimized for transcribing audio files containing English speech but can also transcribe audio files in other languages. The output of the model is English text, regardless of the input language. The file emphasizes that the model can handle mixed language audio inputs and still provide transcriptions in English. It also mentions the option of using the whisper model through a short movie for transcription purposes. The main focus is on the capabilities and features of the transcribing model.\n",
            "Speech file detected. Processing speech...\n",
            "An error occurred while processing the speech file: Error code: 401 - {'error': {'message': 'Incorrect API key provided: sk-arabY***************************************ZWlN. You can find your API key at https://platform.openai.com/account/api-keys.', 'type': 'invalid_request_error', 'param': None, 'code': 'invalid_api_key'}}\n",
            "Apologies for the misunderstanding earlier. The main idea of this file is to provide information about a trained model that is capable of transcribing audio files containing speech in multiple languages to English text. The model has been trained using a large dataset of English audio and text and is optimized for transcribing English speech. However, it can also transcribe audio containing speech in other languages. The output of the model is always in English text, regardless of the input language. The file also mentions the option of using the whisper model via a short movie for transcription purposes, with no difference in readability of the transcribed text. Overall, the file emphasizes the model's ability to transcribe audio files in various languages to English text.\n",
            "Word document detected. Extracting text...\n",
            "Extraction complete.\n",
            "The main idea of this file is to explain the concept of the Beez algorithm, a type of optimization algorithm used to solve complex optimization problems. The algorithm takes inspiration from the behavior of bees in nature to perform both local and global search to find optimal solutions. It involves sending scout bees to search for initial solutions, evaluating and rearranging these solutions based on their costs, and then iterating through multiple repetitions to refine the solutions by generating new ones around elite and non-elite sites. The process continues until the maximum number of iterations is reached, resulting in an optimal solution. The file emphasizes that the Beez algorithm guarantees convergence and can be applied to various optimization problems.\n",
            "from(bucket:\"bronze\") \n",
            "                |> range(start: time(v:2023-03-10T23:45:30Z), stop: time(v: 2023-03-11T23:45:30Z))\n",
            "                |> filter(fn: (r) => r[\"_measurement\"] == \"NQ\" and                    r[\"timeframe\"] == \"1min\" and                    r[\"liq_threshold\"] == \"-1\")\n",
            "                |> pivot(rowKey:[\"_time\"], columnKey:[\"_field\"], valueColumn:\"_value\")\n",
            "                \n",
            "[Error] result output is not DataFrame\n",
            "There is no data for this period of time...\n",
            "The trend of the NQ stock from 3/10/2023 15:45:30 until 3/11/2023 15:45:30 is not specified. To analyze the trend, it is necessary to provide either the start and end datetime or the desired lookback duration. Please specify the desired timeframe for trend analysis.\n"
          ]
        }
      ],
      "source": [
        "import json\n",
        "import chat_with_ai_azureopenai\n",
        "from chat_with_ai_azureopenai import FileProcessor\n",
        "# Define the list of file paths and prompts\n",
        "messages = chat_with_ai_azureopenai.messages\n",
        "file_paths = ['/content/tips.csv', '/content/intro.pptx', \"/content/TjqcZqip.png\", '/content/applyjobs.xlsx',\n",
        "              '/content/sample.pdf', '/content/transcription.txt', '/content/english.mp3', '/content/paper.docx',  None]\n",
        "prompts = [\"what is the main idea of this file?\",\n",
        "           \"what is the main idea of this file?\",\n",
        "           \"what is the main idea of this file?\",\n",
        "           \"what is the main idea of this file?\",\n",
        "           \"what is the main idea of this file?\",\n",
        "           \"what is the main idea of this file?\",\n",
        "           \"what is the main idea of this file?\",\n",
        "           \"what is the main idea of this file?\",\n",
        "           \"What is the trend of NQ stock from 3/10/2023 15:45:30 until 3/11/2023 15:45:30?\"]\n",
        "\n",
        "\n",
        "# Iterate over file_paths and prompts and run the code\n",
        "for file_path, prompt in zip(file_paths, prompts):\n",
        "    try:\n",
        "        processor = FileProcessor()\n",
        "        #api = 'openai'\n",
        "        api = 'azureopenai'\n",
        "        print(processor.get_user_input(file_path, prompt, messages, api))\n",
        "    except Exception as e:\n",
        "        print(f\"An error occurred: {e}\")"
      ]
    },
    {
      "cell_type": "code",
      "source": [],
      "metadata": {
        "id": "q1EiyKuUyhJz"
      },
      "execution_count": null,
      "outputs": []
    }
  ],
  "metadata": {
    "kernelspec": {
      "display_name": "sepehr",
      "language": "python",
      "name": "python3"
    },
    "language_info": {
      "codemirror_mode": {
        "name": "ipython",
        "version": 3
      },
      "file_extension": ".py",
      "mimetype": "text/x-python",
      "name": "python",
      "nbconvert_exporter": "python",
      "pygments_lexer": "ipython3",
      "version": "3.10.13"
    },
    "colab": {
      "provenance": []
    }
  },
  "nbformat": 4,
  "nbformat_minor": 0
}