{
 "cells": [
  {
   "cell_type": "markdown",
   "metadata": {},
   "source": [
    "# Dependencies"
   ]
  },
  {
   "cell_type": "code",
   "execution_count": 1,
   "metadata": {},
   "outputs": [],
   "source": [
    "import json\n",
    "from main import llm_surf\n",
    "from single_agent import input_filter"
   ]
  },
  {
   "cell_type": "markdown",
   "metadata": {},
   "source": [
    "# Text"
   ]
  },
  {
   "cell_type": "markdown",
   "metadata": {},
   "source": [
    "## Testing each function individualy"
   ]
  },
  {
   "cell_type": "markdown",
   "metadata": {},
   "source": [
    "### Detect Trend"
   ]
  },
  {
   "cell_type": "code",
   "execution_count": 2,
   "metadata": {},
   "outputs": [],
   "source": [
    "messages = []\n",
    "\n",
    "detect_trend_prompts = [\n",
    "    # Normal Prompts\n",
    "    \"What is the trend of NQ stock from May-1-2024 12:00:00 until May-5-2024 12:00:00?\",\n",
    "    # \"What is the trend of NQ stock for the past week?\",\n",
    "    # \"What is the trend of NQ?\",\n",
    "    # \"What is the trend?\",\n",
    "    # # \"Show me the trend of ES from May-1-2024 12:00:00 to May-5-2024 12:00:00.\",\n",
    "    # # \"Trend of GC, May-1-2024 12:00:00 to May-5-2024 12:00:00\",\n",
    "    # # \"Trend of GC, past 2 hours\",\n",
    "    # # \"What is the trend of NQ from May-1-2024 12:00:00 until now?\",\n",
    "    # # # Challenging Prompts\n",
    "    # \"What is the trend of NQ stock from 3/4/2024/45 15:45:30 until 3/4/2024/67 15:45:30?\",\n",
    "    # # \"What is the trend of NQ stock from 20/5/2024 15:45:30 until 24/4/2024 15:45:30?\",\n",
    "    # # \"What is the trend of NQ stock from 20/4/2024 15:45:30 until 24/3/2024 15:45:30?\",\n",
    "    # # \"What is the trend of NQ stock from 4/20/2024 15:45:30 until 4/24/2024 15:45:30?\",\n",
    "    # \"Trend of Gold in the last month?\",\n",
    "    # \"Trend in the last month\",\n",
    "]"
   ]
  },
  {
   "cell_type": "code",
   "execution_count": 4,
   "metadata": {},
   "outputs": [
    {
     "name": "stdout",
     "output_type": "stream",
     "text": [
      "[{'role': 'system', 'content': \"Don't make assumptions about what values to plug into functions. Ask for clarification if a user request is ambiguous.\\nYou are a trading assistant called “TenSurf Brain”, you are the brain behind “TenSurf Hub” charting platform with the following guidelines:\\nTool usage: Make sure to restrict your function calls to the provided list of functions. Do not assume the availability of any functions beyond those explicitly listed. Ensure that your implementations and queries adhere strictly to the functions specified.\\nAccuracy: Ensure that the information provided is accurate and up-to-date. Use reliable financial data and current market analysis to inform your responses.\\nClarity: Deliver answers in a clear, concise, and understandable manner. Avoid jargon unless the user demonstrates familiarity with financial terms.\\nPromptness: Aim to provide responses quickly to facilitate timely decision-making for users.\\nConfidentiality: Do not ask for or handle personal investment details or sensitive financial information.\"}, {'role': 'user', 'content': 'What is the trend of NQ stock from May-1-2024 12:00:00 until May-5-2024 12:00:00?'}, ChatCompletionMessage(content=None, role='assistant', function_call=FunctionCall(arguments='{\\n  \"symbol\": \"NQ\",\\n  \"start_datetime\": \"May-1-2024 12:00:00\",\\n  \"end_datetime\": \"May-5-2024 12:00:00\"\\n}', name='detect_trend'), tool_calls=None), {'role': 'system', 'content': \"The result of the function calling with function detect_trend has become 1. At any situations, never return the number which is the output of the detect_trend function. Instead, use its correcsponding explanation which is in the detect_trend function's description. Make sure to mention the start_datetime and end_datetime or the lookback parameter if the user have mentioned in their last message. If the user provide neither specified both start_datetime and end_datetime nor lookback parameters, politely tell them that they should and introduce these parameters to them so that they can use them. Do not mention the name of the parameters of the functions directly in the final answer. Instead, briefly explain them and use other meaningfuly related synonyms. Now generate a proper response.\"}, {'role': 'system', 'content': \"Don't make assumptions about what values to plug into functions. Ask for clarification if a user request is ambiguous.\\nYou are a trading assistant called “TenSurf Brain”, you are the brain behind “TenSurf Hub” charting platform with the following guidelines:\\nTool usage: Make sure to restrict your function calls to the provided list of functions. Do not assume the availability of any functions beyond those explicitly listed. Ensure that your implementations and queries adhere strictly to the functions specified.\\nAccuracy: Ensure that the information provided is accurate and up-to-date. Use reliable financial data and current market analysis to inform your responses.\\nClarity: Deliver answers in a clear, concise, and understandable manner. Avoid jargon unless the user demonstrates familiarity with financial terms.\\nPromptness: Aim to provide responses quickly to facilitate timely decision-making for users.\\nConfidentiality: Do not ask for or handle personal investment details or sensitive financial information.\"}, {'role': 'user', 'content': 'What is the trend of NQ stock from May-1-2024 12:00:00 until May-5-2024 12:00:00?'}]\n",
      "\n",
      "ChatCompletionMessage(content=None, role='assistant', function_call=FunctionCall(arguments='{\\n  \"symbol\": \"NQ\",\\n  \"start_datetime\": \"May-1-2024 12:00:00\",\\n  \"end_datetime\": \"May-5-2024 12:00:00\"\\n}', name='detect_trend'), tool_calls=None)\n",
      "\n",
      "What is the trend of NQ stock from May-1-2024 12:00:00 until May-5-2024 12:00:00?    =>    {'response': 'The trend of NQ stock from May-1-2024 12:00:00 until May-5-2024 12:00:00 is a mild bullish (upward) trend.', 'symbol': 'NQ', 'file': None, 'function_call': 'detect_trend', 'chart_info': {}}\n"
     ]
    }
   ],
   "source": [
    "# saving the answer of the prompt in a dictionary which its key is the prompt and its value is the answer to that prompt\n",
    "calculate_sl_results = {}\n",
    "\n",
    "# getting the answer of the prompts\n",
    "# try:\n",
    "\n",
    "for prompt in detect_trend_prompts:\n",
    "    input_json = {\n",
    "        \"file\": None,\n",
    "        \"new_message\": prompt,\n",
    "        \"history_message\": messages,\n",
    "        \"timezone\": -210,\n",
    "        \"symbol\": \"NQ\",\n",
    "        \"start_datetime\": \"\",\n",
    "        \"end_datetime\": \"\",\n",
    "        \"timeframe\": \"1min\",\n",
    "        \"user_id\": \"1\",\n",
    "    }\n",
    "    output_json = llm_surf(input_json)\n",
    "    print(f\"{prompt}    =>    {output_json}\")\n",
    "    calculate_sl_results[prompt]=output_json\n",
    "\n",
    "# except Exception as e:\n",
    "#     print(f\"The following exception occured:\\n{e}\")\n",
    "\n",
    "# finally:\n",
    "# saving the answers\n",
    "# with open(\"test_results/detect_trend_test_results.json\", \"w\") as outputfile: \n",
    "#     json.dump(detect_trend_results, outputfile)"
   ]
  },
  {
   "cell_type": "markdown",
   "metadata": {},
   "source": [
    "### Calculate Support and Resistance"
   ]
  },
  {
   "cell_type": "code",
   "execution_count": 21,
   "metadata": {},
   "outputs": [],
   "source": [
    "messages = []\n",
    "\n",
    "calculate_sr_prompts = [\n",
    "    # Normal Prompts\n",
    "    \"Calculate Support and Resistance Levels based on YM by looking back up to past 10 days and timeframe of 10 minutes.\",\n",
    "    \"Calculate Support and Resistance Levels based on YM by looking back up to past 10 days.\",\n",
    "    \"Calculate Support and Resistance Levels based on YM by the timeframe of 1 hour.\",\n",
    "    \"How much is the sr of CL for the past week?\",\n",
    "    # Challenging prompts\n",
    "]"
   ]
  },
  {
   "cell_type": "code",
   "execution_count": 22,
   "metadata": {},
   "outputs": [
    {
     "name": "stdout",
     "output_type": "stream",
     "text": [
      "[{'role': 'system', 'content': \"Don't make assumptions about what values to plug into functions. Ask for clarification if a user request is ambiguous.\\nYou are a trading assistant called “TenSurf Brain”, you are the brain behind “TenSurf Hub” charting platform with the following guidelines:\\nTool usage: Make sure to restrict your function calls to the provided list of functions. Do not assume the availability of any functions beyond those explicitly listed. Ensure that your implementations and queries adhere strictly to the functions specified.\\nAccuracy: Ensure that the information provided is accurate and up-to-date. Use reliable financial data and current market analysis to inform your responses.\\nClarity: Deliver answers in a clear, concise, and understandable manner. Avoid jargon unless the user demonstrates familiarity with financial terms.\\nPromptness: Aim to provide responses quickly to facilitate timely decision-making for users.\\nConfidentiality: Do not ask for or handle personal investment details or sensitive financial information.\"}, {'role': 'user', 'content': 'Calculate Support and Resistance Levels based on YM by looking back up to past 10 days and timeframe of 10 minutes.'}]\n",
      "\n",
      "ChatCompletionMessage(content=None, role='assistant', function_call=FunctionCall(arguments='{\\n  \"symbol\": \"YM\",\\n  \"lookback_days\": \"10 days\",\\n  \"timeframe\": \"10min\"\\n}', name='calculate_sr'), tool_calls=None)\n",
      "\n",
      "Calculate Support and Resistance Levels based on YM by looking back up to past 10 days and timeframe of 10 minutes.    =>    {'response': '', 'symbol': 'NQ', 'file': None, 'function_call': None, 'levels': None}\n",
      "[{'role': 'system', 'content': \"Don't make assumptions about what values to plug into functions. Ask for clarification if a user request is ambiguous.\\nYou are a trading assistant called “TenSurf Brain”, you are the brain behind “TenSurf Hub” charting platform with the following guidelines:\\nTool usage: Make sure to restrict your function calls to the provided list of functions. Do not assume the availability of any functions beyond those explicitly listed. Ensure that your implementations and queries adhere strictly to the functions specified.\\nAccuracy: Ensure that the information provided is accurate and up-to-date. Use reliable financial data and current market analysis to inform your responses.\\nClarity: Deliver answers in a clear, concise, and understandable manner. Avoid jargon unless the user demonstrates familiarity with financial terms.\\nPromptness: Aim to provide responses quickly to facilitate timely decision-making for users.\\nConfidentiality: Do not ask for or handle personal investment details or sensitive financial information.\"}, {'role': 'user', 'content': 'Calculate Support and Resistance Levels based on YM by looking back up to past 10 days and timeframe of 10 minutes.'}, ChatCompletionMessage(content=None, role='assistant', function_call=FunctionCall(arguments='{\\n  \"symbol\": \"YM\",\\n  \"lookback_days\": \"10 days\",\\n  \"timeframe\": \"10min\"\\n}', name='calculate_sr'), tool_calls=None), {'role': 'system', 'content': \"The result of the function calling with function calculate_sr has become [39405.0, 39488.0, 39652.0, 39880.0, 39926.0, 39955.0, 39973.0, 39986.0, 40036.0, 40213.0] for levels_prices, [Timestamp('2024-05-14 05:30:00'), Timestamp('2024-05-14 10:10:00'), Timestamp('2024-05-15 05:20:00'), Timestamp('2024-05-15 09:00:00'), Timestamp('2024-05-15 10:40:00'), Timestamp('2024-05-17 01:00:00'), Timestamp('2024-05-17 06:20:00'), Timestamp('2024-05-17 11:20:00'), Timestamp('2024-05-20 06:40:00'), Timestamp('2024-05-20 08:30:00')] for levels_start_timestamps, [Timestamp('2024-05-14 06:20:00'), Timestamp('2024-05-14 11:00:00'), Timestamp('2024-05-15 06:10:00'), Timestamp('2024-05-15 09:50:00'), Timestamp('2024-05-15 11:30:00'), Timestamp('2024-05-17 01:50:00'), Timestamp('2024-05-17 07:10:00'), Timestamp('2024-05-17 12:10:00'), Timestamp('2024-05-20 07:30:00'), Timestamp('2024-05-20 09:20:00')] for levels_detect_timestamps, [Timestamp('2024-05-20 10:08:00'), Timestamp('2024-05-20 10:08:00'), Timestamp('2024-05-20 10:08:00'), Timestamp('2024-05-20 10:08:00'), Timestamp('2024-05-20 10:08:00'), Timestamp('2024-05-20 10:08:00'), Timestamp('2024-05-20 10:08:00'), Timestamp('2024-05-20 10:08:00'), Timestamp('2024-05-20 10:08:00'), Timestamp('2024-05-20 10:08:00')] for levels_end_timestamps and [6.2, 4.1, 7.5, 3.8, 3.3, 6.9, 10.1, 4.9, 5.2, 4.7] for levels_scores with {'symbol': 'YM', 'lookback_days': '10 days', 'timeframe': '10min'} as its parameters. Do not mention the name of the parameters of the functions directly in the final answer. Instead, briefly explain them and use other meaningfuly related synonyms. Do not mention the name of the levels that the level is support or resistance. The final answer should also contain the following texts: These levels are determined based on historical price data and indicate areas where the price is likely to encounter support or resistance. The associated scores indicate the strength or significance of each level, with higher scores indicating stronger levels.\"}, {'role': 'system', 'content': \"Don't make assumptions about what values to plug into functions. Ask for clarification if a user request is ambiguous.\\nYou are a trading assistant called “TenSurf Brain”, you are the brain behind “TenSurf Hub” charting platform with the following guidelines:\\nTool usage: Make sure to restrict your function calls to the provided list of functions. Do not assume the availability of any functions beyond those explicitly listed. Ensure that your implementations and queries adhere strictly to the functions specified.\\nAccuracy: Ensure that the information provided is accurate and up-to-date. Use reliable financial data and current market analysis to inform your responses.\\nClarity: Deliver answers in a clear, concise, and understandable manner. Avoid jargon unless the user demonstrates familiarity with financial terms.\\nPromptness: Aim to provide responses quickly to facilitate timely decision-making for users.\\nConfidentiality: Do not ask for or handle personal investment details or sensitive financial information.\"}, {'role': 'user', 'content': 'Calculate Support and Resistance Levels based on YM by looking back up to past 10 days.'}]\n",
      "\n",
      "ChatCompletionMessage(content=None, role='assistant', function_call=FunctionCall(arguments='{\\n  \"symbol\": \"YM\",\\n  \"lookback_days\": \"10 days\"\\n}', name='calculate_sr'), tool_calls=None)\n",
      "\n",
      "Calculate Support and Resistance Levels based on YM by looking back up to past 10 days.    =>    {'response': '', 'symbol': 'NQ', 'file': None, 'function_call': None, 'levels': None}\n",
      "[{'role': 'system', 'content': \"Don't make assumptions about what values to plug into functions. Ask for clarification if a user request is ambiguous.\\nYou are a trading assistant called “TenSurf Brain”, you are the brain behind “TenSurf Hub” charting platform with the following guidelines:\\nTool usage: Make sure to restrict your function calls to the provided list of functions. Do not assume the availability of any functions beyond those explicitly listed. Ensure that your implementations and queries adhere strictly to the functions specified.\\nAccuracy: Ensure that the information provided is accurate and up-to-date. Use reliable financial data and current market analysis to inform your responses.\\nClarity: Deliver answers in a clear, concise, and understandable manner. Avoid jargon unless the user demonstrates familiarity with financial terms.\\nPromptness: Aim to provide responses quickly to facilitate timely decision-making for users.\\nConfidentiality: Do not ask for or handle personal investment details or sensitive financial information.\"}, {'role': 'user', 'content': 'Calculate Support and Resistance Levels based on YM by looking back up to past 10 days and timeframe of 10 minutes.'}, ChatCompletionMessage(content=None, role='assistant', function_call=FunctionCall(arguments='{\\n  \"symbol\": \"YM\",\\n  \"lookback_days\": \"10 days\",\\n  \"timeframe\": \"10min\"\\n}', name='calculate_sr'), tool_calls=None), {'role': 'system', 'content': \"The result of the function calling with function calculate_sr has become [39405.0, 39488.0, 39652.0, 39880.0, 39926.0, 39955.0, 39973.0, 39986.0, 40036.0, 40213.0] for levels_prices, [Timestamp('2024-05-14 05:30:00'), Timestamp('2024-05-14 10:10:00'), Timestamp('2024-05-15 05:20:00'), Timestamp('2024-05-15 09:00:00'), Timestamp('2024-05-15 10:40:00'), Timestamp('2024-05-17 01:00:00'), Timestamp('2024-05-17 06:20:00'), Timestamp('2024-05-17 11:20:00'), Timestamp('2024-05-20 06:40:00'), Timestamp('2024-05-20 08:30:00')] for levels_start_timestamps, [Timestamp('2024-05-14 06:20:00'), Timestamp('2024-05-14 11:00:00'), Timestamp('2024-05-15 06:10:00'), Timestamp('2024-05-15 09:50:00'), Timestamp('2024-05-15 11:30:00'), Timestamp('2024-05-17 01:50:00'), Timestamp('2024-05-17 07:10:00'), Timestamp('2024-05-17 12:10:00'), Timestamp('2024-05-20 07:30:00'), Timestamp('2024-05-20 09:20:00')] for levels_detect_timestamps, [Timestamp('2024-05-20 10:08:00'), Timestamp('2024-05-20 10:08:00'), Timestamp('2024-05-20 10:08:00'), Timestamp('2024-05-20 10:08:00'), Timestamp('2024-05-20 10:08:00'), Timestamp('2024-05-20 10:08:00'), Timestamp('2024-05-20 10:08:00'), Timestamp('2024-05-20 10:08:00'), Timestamp('2024-05-20 10:08:00'), Timestamp('2024-05-20 10:08:00')] for levels_end_timestamps and [6.2, 4.1, 7.5, 3.8, 3.3, 6.9, 10.1, 4.9, 5.2, 4.7] for levels_scores with {'symbol': 'YM', 'lookback_days': '10 days', 'timeframe': '10min'} as its parameters. Do not mention the name of the parameters of the functions directly in the final answer. Instead, briefly explain them and use other meaningfuly related synonyms. Do not mention the name of the levels that the level is support or resistance. The final answer should also contain the following texts: These levels are determined based on historical price data and indicate areas where the price is likely to encounter support or resistance. The associated scores indicate the strength or significance of each level, with higher scores indicating stronger levels.\"}, {'role': 'system', 'content': \"Don't make assumptions about what values to plug into functions. Ask for clarification if a user request is ambiguous.\\nYou are a trading assistant called “TenSurf Brain”, you are the brain behind “TenSurf Hub” charting platform with the following guidelines:\\nTool usage: Make sure to restrict your function calls to the provided list of functions. Do not assume the availability of any functions beyond those explicitly listed. Ensure that your implementations and queries adhere strictly to the functions specified.\\nAccuracy: Ensure that the information provided is accurate and up-to-date. Use reliable financial data and current market analysis to inform your responses.\\nClarity: Deliver answers in a clear, concise, and understandable manner. Avoid jargon unless the user demonstrates familiarity with financial terms.\\nPromptness: Aim to provide responses quickly to facilitate timely decision-making for users.\\nConfidentiality: Do not ask for or handle personal investment details or sensitive financial information.\"}, {'role': 'user', 'content': 'Calculate Support and Resistance Levels based on YM by looking back up to past 10 days.'}, ChatCompletionMessage(content=None, role='assistant', function_call=FunctionCall(arguments='{\\n  \"symbol\": \"YM\",\\n  \"lookback_days\": \"10 days\"\\n}', name='calculate_sr'), tool_calls=None), {'role': 'system', 'content': \"The result of the function calling with function calculate_sr has become [39405.0, 39488.0, 39501.0, 39511.0, 39650.0, 39652.0, 39781.0, 39790.0, 39800.0, 39805.0, 39811.0, 39870.0, 39872.0, 39880.0, 39898.0, 39926.0, 39936.0, 39943.0, 39946.0, 39955.0, 39963.0, 39964.0, 39973.0, 39982.0, 39986.0, 40019.0, 40036.0, 40091.0, 40213.0, 40145.0, 40162.0, 40143.0, 40135.0, 40132.0] for levels_prices, [Timestamp('2024-05-14 05:30:00'), Timestamp('2024-05-14 10:16:00'), Timestamp('2024-05-14 10:32:00'), Timestamp('2024-05-14 10:51:00'), Timestamp('2024-05-14 11:46:00'), Timestamp('2024-05-15 05:21:00'), Timestamp('2024-05-15 05:39:00'), Timestamp('2024-05-15 06:23:00'), Timestamp('2024-05-15 07:02:00'), Timestamp('2024-05-15 07:15:00'), Timestamp('2024-05-15 07:26:00'), Timestamp('2024-05-15 07:51:00'), Timestamp('2024-05-15 08:01:00'), Timestamp('2024-05-15 09:07:00'), Timestamp('2024-05-15 09:22:00'), Timestamp('2024-05-15 10:49:00'), Timestamp('2024-05-15 11:35:00'), Timestamp('2024-05-15 11:47:00'), Timestamp('2024-05-15 12:06:00'), Timestamp('2024-05-17 01:08:00'), Timestamp('2024-05-17 01:34:00'), Timestamp('2024-05-17 01:46:00'), Timestamp('2024-05-17 06:29:00'), Timestamp('2024-05-17 06:37:00'), Timestamp('2024-05-17 11:23:00'), Timestamp('2024-05-17 11:44:00'), Timestamp('2024-05-20 06:44:00'), Timestamp('2024-05-20 07:02:00'), Timestamp('2024-05-20 08:32:00'), Timestamp('2024-05-20 09:02:00'), Timestamp('2024-05-20 09:06:00'), Timestamp('2024-05-20 09:15:00'), Timestamp('2024-05-20 09:29:00'), Timestamp('2024-05-20 09:39:00')] for levels_start_timestamps, [Timestamp('2024-05-14 05:35:00'), Timestamp('2024-05-14 10:21:00'), Timestamp('2024-05-14 10:37:00'), Timestamp('2024-05-14 10:56:00'), Timestamp('2024-05-14 11:51:00'), Timestamp('2024-05-15 05:26:00'), Timestamp('2024-05-15 05:44:00'), Timestamp('2024-05-15 06:28:00'), Timestamp('2024-05-15 07:07:00'), Timestamp('2024-05-15 07:20:00'), Timestamp('2024-05-15 07:31:00'), Timestamp('2024-05-15 07:56:00'), Timestamp('2024-05-15 08:06:00'), Timestamp('2024-05-15 09:12:00'), Timestamp('2024-05-15 09:27:00'), Timestamp('2024-05-15 10:54:00'), Timestamp('2024-05-15 11:40:00'), Timestamp('2024-05-15 11:52:00'), Timestamp('2024-05-15 12:11:00'), Timestamp('2024-05-17 01:13:00'), Timestamp('2024-05-17 01:39:00'), Timestamp('2024-05-17 01:51:00'), Timestamp('2024-05-17 06:34:00'), Timestamp('2024-05-17 06:42:00'), Timestamp('2024-05-17 11:28:00'), Timestamp('2024-05-17 11:49:00'), Timestamp('2024-05-20 06:49:00'), Timestamp('2024-05-20 07:07:00'), Timestamp('2024-05-20 08:37:00'), Timestamp('2024-05-20 09:07:00'), Timestamp('2024-05-20 09:11:00'), Timestamp('2024-05-20 09:20:00'), Timestamp('2024-05-20 09:34:00'), Timestamp('2024-05-20 09:44:00')] for levels_detect_timestamps, [Timestamp('2024-05-20 10:08:00'), Timestamp('2024-05-20 10:08:00'), Timestamp('2024-05-20 10:08:00'), Timestamp('2024-05-20 10:08:00'), Timestamp('2024-05-20 10:08:00'), Timestamp('2024-05-20 10:08:00'), Timestamp('2024-05-20 10:08:00'), Timestamp('2024-05-20 10:08:00'), Timestamp('2024-05-20 10:08:00'), Timestamp('2024-05-20 10:08:00'), Timestamp('2024-05-20 10:08:00'), Timestamp('2024-05-20 10:08:00'), Timestamp('2024-05-20 10:08:00'), Timestamp('2024-05-20 10:08:00'), Timestamp('2024-05-20 10:08:00'), Timestamp('2024-05-20 10:08:00'), Timestamp('2024-05-20 10:08:00'), Timestamp('2024-05-20 10:08:00'), Timestamp('2024-05-20 10:08:00'), Timestamp('2024-05-20 10:08:00'), Timestamp('2024-05-20 10:08:00'), Timestamp('2024-05-20 10:08:00'), Timestamp('2024-05-20 10:08:00'), Timestamp('2024-05-20 10:08:00'), Timestamp('2024-05-20 10:08:00'), Timestamp('2024-05-20 10:08:00'), Timestamp('2024-05-20 10:08:00'), Timestamp('2024-05-20 10:08:00'), Timestamp('2024-05-20 10:08:00'), Timestamp('2024-05-20 10:08:00'), Timestamp('2024-05-20 10:08:00'), Timestamp('2024-05-20 10:08:00'), Timestamp('2024-05-20 10:08:00'), Timestamp('2024-05-20 10:08:00')] for levels_end_timestamps and [7.8, 4.0, 3.9, 3.4, 14.3, 7.8, 2.8, 9.6, 5.6, 5.8, 3.8, 5.4, 6.7, 4.7, 3.8, 6.1, 4.3, 6.6, 4.0, 4.4, 15.5, 8.4, 6.5, 6.0, 4.9, 4.7, 4.6, 4.0, 2.7, 5.3, 5.5, 3.1, 5.8, 3.3] for levels_scores with {'symbol': 'YM', 'lookback_days': '10 days', 'timeframe': '1min'} as its parameters. Do not mention the name of the parameters of the functions directly in the final answer. Instead, briefly explain them and use other meaningfuly related synonyms. Do not mention the name of the levels that the level is support or resistance. The final answer should also contain the following texts: These levels are determined based on historical price data and indicate areas where the price is likely to encounter support or resistance. The associated scores indicate the strength or significance of each level, with higher scores indicating stronger levels.\"}, {'role': 'system', 'content': \"Don't make assumptions about what values to plug into functions. Ask for clarification if a user request is ambiguous.\\nYou are a trading assistant called “TenSurf Brain”, you are the brain behind “TenSurf Hub” charting platform with the following guidelines:\\nTool usage: Make sure to restrict your function calls to the provided list of functions. Do not assume the availability of any functions beyond those explicitly listed. Ensure that your implementations and queries adhere strictly to the functions specified.\\nAccuracy: Ensure that the information provided is accurate and up-to-date. Use reliable financial data and current market analysis to inform your responses.\\nClarity: Deliver answers in a clear, concise, and understandable manner. Avoid jargon unless the user demonstrates familiarity with financial terms.\\nPromptness: Aim to provide responses quickly to facilitate timely decision-making for users.\\nConfidentiality: Do not ask for or handle personal investment details or sensitive financial information.\"}, {'role': 'user', 'content': 'Calculate Support and Resistance Levels based on YM by the timeframe of 1 hour.'}]\n",
      "\n",
      "ChatCompletionMessage(content=None, role='assistant', function_call=FunctionCall(arguments='{\\n  \"symbol\": \"YM\",\\n  \"timeframe\": \"1h\",\\n  \"lookback_days\": \"10 days\"\\n}', name='calculate_sr'), tool_calls=None)\n",
      "\n",
      "Calculate Support and Resistance Levels based on YM by the timeframe of 1 hour.    =>    {'response': '', 'symbol': 'NQ', 'file': None, 'function_call': None, 'levels': None}\n",
      "[{'role': 'system', 'content': \"Don't make assumptions about what values to plug into functions. Ask for clarification if a user request is ambiguous.\\nYou are a trading assistant called “TenSurf Brain”, you are the brain behind “TenSurf Hub” charting platform with the following guidelines:\\nTool usage: Make sure to restrict your function calls to the provided list of functions. Do not assume the availability of any functions beyond those explicitly listed. Ensure that your implementations and queries adhere strictly to the functions specified.\\nAccuracy: Ensure that the information provided is accurate and up-to-date. Use reliable financial data and current market analysis to inform your responses.\\nClarity: Deliver answers in a clear, concise, and understandable manner. Avoid jargon unless the user demonstrates familiarity with financial terms.\\nPromptness: Aim to provide responses quickly to facilitate timely decision-making for users.\\nConfidentiality: Do not ask for or handle personal investment details or sensitive financial information.\"}, {'role': 'user', 'content': 'Calculate Support and Resistance Levels based on YM by looking back up to past 10 days and timeframe of 10 minutes.'}, ChatCompletionMessage(content=None, role='assistant', function_call=FunctionCall(arguments='{\\n  \"symbol\": \"YM\",\\n  \"lookback_days\": \"10 days\",\\n  \"timeframe\": \"10min\"\\n}', name='calculate_sr'), tool_calls=None), {'role': 'system', 'content': \"The result of the function calling with function calculate_sr has become [39405.0, 39488.0, 39652.0, 39880.0, 39926.0, 39955.0, 39973.0, 39986.0, 40036.0, 40213.0] for levels_prices, [Timestamp('2024-05-14 05:30:00'), Timestamp('2024-05-14 10:10:00'), Timestamp('2024-05-15 05:20:00'), Timestamp('2024-05-15 09:00:00'), Timestamp('2024-05-15 10:40:00'), Timestamp('2024-05-17 01:00:00'), Timestamp('2024-05-17 06:20:00'), Timestamp('2024-05-17 11:20:00'), Timestamp('2024-05-20 06:40:00'), Timestamp('2024-05-20 08:30:00')] for levels_start_timestamps, [Timestamp('2024-05-14 06:20:00'), Timestamp('2024-05-14 11:00:00'), Timestamp('2024-05-15 06:10:00'), Timestamp('2024-05-15 09:50:00'), Timestamp('2024-05-15 11:30:00'), Timestamp('2024-05-17 01:50:00'), Timestamp('2024-05-17 07:10:00'), Timestamp('2024-05-17 12:10:00'), Timestamp('2024-05-20 07:30:00'), Timestamp('2024-05-20 09:20:00')] for levels_detect_timestamps, [Timestamp('2024-05-20 10:08:00'), Timestamp('2024-05-20 10:08:00'), Timestamp('2024-05-20 10:08:00'), Timestamp('2024-05-20 10:08:00'), Timestamp('2024-05-20 10:08:00'), Timestamp('2024-05-20 10:08:00'), Timestamp('2024-05-20 10:08:00'), Timestamp('2024-05-20 10:08:00'), Timestamp('2024-05-20 10:08:00'), Timestamp('2024-05-20 10:08:00')] for levels_end_timestamps and [6.2, 4.1, 7.5, 3.8, 3.3, 6.9, 10.1, 4.9, 5.2, 4.7] for levels_scores with {'symbol': 'YM', 'lookback_days': '10 days', 'timeframe': '10min'} as its parameters. Do not mention the name of the parameters of the functions directly in the final answer. Instead, briefly explain them and use other meaningfuly related synonyms. Do not mention the name of the levels that the level is support or resistance. The final answer should also contain the following texts: These levels are determined based on historical price data and indicate areas where the price is likely to encounter support or resistance. The associated scores indicate the strength or significance of each level, with higher scores indicating stronger levels.\"}, {'role': 'system', 'content': \"Don't make assumptions about what values to plug into functions. Ask for clarification if a user request is ambiguous.\\nYou are a trading assistant called “TenSurf Brain”, you are the brain behind “TenSurf Hub” charting platform with the following guidelines:\\nTool usage: Make sure to restrict your function calls to the provided list of functions. Do not assume the availability of any functions beyond those explicitly listed. Ensure that your implementations and queries adhere strictly to the functions specified.\\nAccuracy: Ensure that the information provided is accurate and up-to-date. Use reliable financial data and current market analysis to inform your responses.\\nClarity: Deliver answers in a clear, concise, and understandable manner. Avoid jargon unless the user demonstrates familiarity with financial terms.\\nPromptness: Aim to provide responses quickly to facilitate timely decision-making for users.\\nConfidentiality: Do not ask for or handle personal investment details or sensitive financial information.\"}, {'role': 'user', 'content': 'Calculate Support and Resistance Levels based on YM by looking back up to past 10 days.'}, ChatCompletionMessage(content=None, role='assistant', function_call=FunctionCall(arguments='{\\n  \"symbol\": \"YM\",\\n  \"lookback_days\": \"10 days\"\\n}', name='calculate_sr'), tool_calls=None), {'role': 'system', 'content': \"The result of the function calling with function calculate_sr has become [39405.0, 39488.0, 39501.0, 39511.0, 39650.0, 39652.0, 39781.0, 39790.0, 39800.0, 39805.0, 39811.0, 39870.0, 39872.0, 39880.0, 39898.0, 39926.0, 39936.0, 39943.0, 39946.0, 39955.0, 39963.0, 39964.0, 39973.0, 39982.0, 39986.0, 40019.0, 40036.0, 40091.0, 40213.0, 40145.0, 40162.0, 40143.0, 40135.0, 40132.0] for levels_prices, [Timestamp('2024-05-14 05:30:00'), Timestamp('2024-05-14 10:16:00'), Timestamp('2024-05-14 10:32:00'), Timestamp('2024-05-14 10:51:00'), Timestamp('2024-05-14 11:46:00'), Timestamp('2024-05-15 05:21:00'), Timestamp('2024-05-15 05:39:00'), Timestamp('2024-05-15 06:23:00'), Timestamp('2024-05-15 07:02:00'), Timestamp('2024-05-15 07:15:00'), Timestamp('2024-05-15 07:26:00'), Timestamp('2024-05-15 07:51:00'), Timestamp('2024-05-15 08:01:00'), Timestamp('2024-05-15 09:07:00'), Timestamp('2024-05-15 09:22:00'), Timestamp('2024-05-15 10:49:00'), Timestamp('2024-05-15 11:35:00'), Timestamp('2024-05-15 11:47:00'), Timestamp('2024-05-15 12:06:00'), Timestamp('2024-05-17 01:08:00'), Timestamp('2024-05-17 01:34:00'), Timestamp('2024-05-17 01:46:00'), Timestamp('2024-05-17 06:29:00'), Timestamp('2024-05-17 06:37:00'), Timestamp('2024-05-17 11:23:00'), Timestamp('2024-05-17 11:44:00'), Timestamp('2024-05-20 06:44:00'), Timestamp('2024-05-20 07:02:00'), Timestamp('2024-05-20 08:32:00'), Timestamp('2024-05-20 09:02:00'), Timestamp('2024-05-20 09:06:00'), Timestamp('2024-05-20 09:15:00'), Timestamp('2024-05-20 09:29:00'), Timestamp('2024-05-20 09:39:00')] for levels_start_timestamps, [Timestamp('2024-05-14 05:35:00'), Timestamp('2024-05-14 10:21:00'), Timestamp('2024-05-14 10:37:00'), Timestamp('2024-05-14 10:56:00'), Timestamp('2024-05-14 11:51:00'), Timestamp('2024-05-15 05:26:00'), Timestamp('2024-05-15 05:44:00'), Timestamp('2024-05-15 06:28:00'), Timestamp('2024-05-15 07:07:00'), Timestamp('2024-05-15 07:20:00'), Timestamp('2024-05-15 07:31:00'), Timestamp('2024-05-15 07:56:00'), Timestamp('2024-05-15 08:06:00'), Timestamp('2024-05-15 09:12:00'), Timestamp('2024-05-15 09:27:00'), Timestamp('2024-05-15 10:54:00'), Timestamp('2024-05-15 11:40:00'), Timestamp('2024-05-15 11:52:00'), Timestamp('2024-05-15 12:11:00'), Timestamp('2024-05-17 01:13:00'), Timestamp('2024-05-17 01:39:00'), Timestamp('2024-05-17 01:51:00'), Timestamp('2024-05-17 06:34:00'), Timestamp('2024-05-17 06:42:00'), Timestamp('2024-05-17 11:28:00'), Timestamp('2024-05-17 11:49:00'), Timestamp('2024-05-20 06:49:00'), Timestamp('2024-05-20 07:07:00'), Timestamp('2024-05-20 08:37:00'), Timestamp('2024-05-20 09:07:00'), Timestamp('2024-05-20 09:11:00'), Timestamp('2024-05-20 09:20:00'), Timestamp('2024-05-20 09:34:00'), Timestamp('2024-05-20 09:44:00')] for levels_detect_timestamps, [Timestamp('2024-05-20 10:08:00'), Timestamp('2024-05-20 10:08:00'), Timestamp('2024-05-20 10:08:00'), Timestamp('2024-05-20 10:08:00'), Timestamp('2024-05-20 10:08:00'), Timestamp('2024-05-20 10:08:00'), Timestamp('2024-05-20 10:08:00'), Timestamp('2024-05-20 10:08:00'), Timestamp('2024-05-20 10:08:00'), Timestamp('2024-05-20 10:08:00'), Timestamp('2024-05-20 10:08:00'), Timestamp('2024-05-20 10:08:00'), Timestamp('2024-05-20 10:08:00'), Timestamp('2024-05-20 10:08:00'), Timestamp('2024-05-20 10:08:00'), Timestamp('2024-05-20 10:08:00'), Timestamp('2024-05-20 10:08:00'), Timestamp('2024-05-20 10:08:00'), Timestamp('2024-05-20 10:08:00'), Timestamp('2024-05-20 10:08:00'), Timestamp('2024-05-20 10:08:00'), Timestamp('2024-05-20 10:08:00'), Timestamp('2024-05-20 10:08:00'), Timestamp('2024-05-20 10:08:00'), Timestamp('2024-05-20 10:08:00'), Timestamp('2024-05-20 10:08:00'), Timestamp('2024-05-20 10:08:00'), Timestamp('2024-05-20 10:08:00'), Timestamp('2024-05-20 10:08:00'), Timestamp('2024-05-20 10:08:00'), Timestamp('2024-05-20 10:08:00'), Timestamp('2024-05-20 10:08:00'), Timestamp('2024-05-20 10:08:00'), Timestamp('2024-05-20 10:08:00')] for levels_end_timestamps and [7.8, 4.0, 3.9, 3.4, 14.3, 7.8, 2.8, 9.6, 5.6, 5.8, 3.8, 5.4, 6.7, 4.7, 3.8, 6.1, 4.3, 6.6, 4.0, 4.4, 15.5, 8.4, 6.5, 6.0, 4.9, 4.7, 4.6, 4.0, 2.7, 5.3, 5.5, 3.1, 5.8, 3.3] for levels_scores with {'symbol': 'YM', 'lookback_days': '10 days', 'timeframe': '1min'} as its parameters. Do not mention the name of the parameters of the functions directly in the final answer. Instead, briefly explain them and use other meaningfuly related synonyms. Do not mention the name of the levels that the level is support or resistance. The final answer should also contain the following texts: These levels are determined based on historical price data and indicate areas where the price is likely to encounter support or resistance. The associated scores indicate the strength or significance of each level, with higher scores indicating stronger levels.\"}, {'role': 'system', 'content': \"Don't make assumptions about what values to plug into functions. Ask for clarification if a user request is ambiguous.\\nYou are a trading assistant called “TenSurf Brain”, you are the brain behind “TenSurf Hub” charting platform with the following guidelines:\\nTool usage: Make sure to restrict your function calls to the provided list of functions. Do not assume the availability of any functions beyond those explicitly listed. Ensure that your implementations and queries adhere strictly to the functions specified.\\nAccuracy: Ensure that the information provided is accurate and up-to-date. Use reliable financial data and current market analysis to inform your responses.\\nClarity: Deliver answers in a clear, concise, and understandable manner. Avoid jargon unless the user demonstrates familiarity with financial terms.\\nPromptness: Aim to provide responses quickly to facilitate timely decision-making for users.\\nConfidentiality: Do not ask for or handle personal investment details or sensitive financial information.\"}, {'role': 'user', 'content': 'Calculate Support and Resistance Levels based on YM by the timeframe of 1 hour.'}, ChatCompletionMessage(content=None, role='assistant', function_call=FunctionCall(arguments='{\\n  \"symbol\": \"YM\",\\n  \"timeframe\": \"1h\",\\n  \"lookback_days\": \"10 days\"\\n}', name='calculate_sr'), tool_calls=None), {'role': 'system', 'content': \"The result of the function calling with function calculate_sr has become [39405.0, 39488.0, 39652.0, 39955.0, 39973.0, 39986.0, 40036.0, 40213.0] for levels_prices, [Timestamp('2024-05-14 05:00:00'), Timestamp('2024-05-14 10:00:00'), Timestamp('2024-05-15 05:00:00'), Timestamp('2024-05-17 01:00:00'), Timestamp('2024-05-17 06:00:00'), Timestamp('2024-05-17 11:00:00'), Timestamp('2024-05-20 06:00:00'), Timestamp('2024-05-20 08:00:00')] for levels_start_timestamps, [Timestamp('2024-05-14 07:00:00'), Timestamp('2024-05-14 12:00:00'), Timestamp('2024-05-15 07:00:00'), Timestamp('2024-05-17 03:00:00'), Timestamp('2024-05-17 08:00:00'), Timestamp('2024-05-17 13:00:00'), Timestamp('2024-05-20 08:00:00'), Timestamp('2024-05-20 10:00:00')] for levels_detect_timestamps, [Timestamp('2024-05-20 10:08:00'), Timestamp('2024-05-20 10:08:00'), Timestamp('2024-05-20 10:08:00'), Timestamp('2024-05-20 10:08:00'), Timestamp('2024-05-20 10:08:00'), Timestamp('2024-05-20 10:08:00'), Timestamp('2024-05-20 10:08:00'), Timestamp('2024-05-20 10:08:00')] for levels_end_timestamps and [5.9, 4.1, 6.1, 5.9, 6.7, 4.1, 5.1, 3.8] for levels_scores with {'symbol': 'YM', 'timeframe': '1h', 'lookback_days': '10 days'} as its parameters. Do not mention the name of the parameters of the functions directly in the final answer. Instead, briefly explain them and use other meaningfuly related synonyms. Do not mention the name of the levels that the level is support or resistance. The final answer should also contain the following texts: These levels are determined based on historical price data and indicate areas where the price is likely to encounter support or resistance. The associated scores indicate the strength or significance of each level, with higher scores indicating stronger levels.\"}, {'role': 'system', 'content': \"Don't make assumptions about what values to plug into functions. Ask for clarification if a user request is ambiguous.\\nYou are a trading assistant called “TenSurf Brain”, you are the brain behind “TenSurf Hub” charting platform with the following guidelines:\\nTool usage: Make sure to restrict your function calls to the provided list of functions. Do not assume the availability of any functions beyond those explicitly listed. Ensure that your implementations and queries adhere strictly to the functions specified.\\nAccuracy: Ensure that the information provided is accurate and up-to-date. Use reliable financial data and current market analysis to inform your responses.\\nClarity: Deliver answers in a clear, concise, and understandable manner. Avoid jargon unless the user demonstrates familiarity with financial terms.\\nPromptness: Aim to provide responses quickly to facilitate timely decision-making for users.\\nConfidentiality: Do not ask for or handle personal investment details or sensitive financial information.\"}, {'role': 'user', 'content': 'How much is the sr of CL for the past week?'}]\n",
      "\n",
      "ChatCompletionMessage(content=None, role='assistant', function_call=FunctionCall(arguments='{\\n  \"symbol\": \"CL\",\\n  \"lookback_days\": \"7 days\"\\n}', name='calculate_sr'), tool_calls=None)\n",
      "\n",
      "How much is the sr of CL for the past week?    =>    {'response': '', 'symbol': 'NQ', 'file': None, 'function_call': None, 'levels': None}\n"
     ]
    }
   ],
   "source": [
    "# saving the answer of the prompt in a dictionary which its key is the prompt and its value is the answer to that prompt\n",
    "calculate_sl_results = {}\n",
    "\n",
    "# getting the answer of the prompts\n",
    "# try:\n",
    "\n",
    "for prompt in calculate_sr_prompts:\n",
    "    input_json = {\n",
    "        \"file\": None,\n",
    "        \"new_message\": prompt,\n",
    "        \"history_message\": messages,\n",
    "        \"timezone\": -210,\n",
    "        \"symbol\": \"NQ\",\n",
    "        \"start_datetime\": \"\",\n",
    "        \"end_datetime\": \"\",\n",
    "        \"timeframe\": \"1min\",\n",
    "        \"user_id\": \"1\",\n",
    "    }\n",
    "    output_json = llm_surf(input_json)\n",
    "    print(f\"{prompt}    =>    {output_json}\")\n",
    "    calculate_sl_results[prompt]=output_json\n",
    "\n",
    "# except Exception as e:\n",
    "#     print(f\"The following exception occured:\\n{e}\")\n",
    "\n",
    "# finally:\n",
    "# saving the answers\n",
    "# with open(\"test_results/detect_trend_test_results.json\", \"w\") as outputfile: \n",
    "#     json.dump(detect_trend_results, outputfile)"
   ]
  },
  {
   "cell_type": "markdown",
   "metadata": {},
   "source": [
    "### Calculate Stop Loss"
   ]
  },
  {
   "cell_type": "code",
   "execution_count": 24,
   "metadata": {},
   "outputs": [],
   "source": [
    "messages = []\n",
    "\n",
    "calculate_sl_prompts = [\n",
    "    # Normal Prompts\n",
    "    # \"What would be the stop loss of trading short positinos based on NQ and minmax method by looking back up to 30 candles?\",\n",
    "    # \"What would be the stop loss of trading long positinos based on ES and swing method?\",\n",
    "    # \"What would be the stop loss of trading short positinos based on NQ and atr method and attribute coefficient of 1.3?\",\n",
    "    \"What would be the stop loss of trading long positinos based on YM and level method?\",\n",
    "    \"What would be the stop loss of trading long positinos based on NQ and DVWAP_band method?\",\n",
    "    \"What would be the stop loss of trading short positinos based on NQ and WVWAP_band method?\",\n",
    "    \"What would be the stop loss of trading short positinos based on GC and zigzag method?\",\n",
    "    \"What would be the stop loss of trading long positinos based on ES?\",\n",
    "    # Challenging prompts\n",
    "    \"How much would be the stop loss for trading?\",\n",
    "    \n",
    "]"
   ]
  },
  {
   "cell_type": "code",
   "execution_count": 25,
   "metadata": {},
   "outputs": [
    {
     "name": "stdout",
     "output_type": "stream",
     "text": [
      "[{'role': 'system', 'content': \"Don't make assumptions about what values to plug into functions. Ask for clarification if a user request is ambiguous.\\nYou are a trading assistant called “TenSurf Brain”, you are the brain behind “TenSurf Hub” charting platform with the following guidelines:\\nTool usage: Make sure to restrict your function calls to the provided list of functions. Do not assume the availability of any functions beyond those explicitly listed. Ensure that your implementations and queries adhere strictly to the functions specified.\\nAccuracy: Ensure that the information provided is accurate and up-to-date. Use reliable financial data and current market analysis to inform your responses.\\nClarity: Deliver answers in a clear, concise, and understandable manner. Avoid jargon unless the user demonstrates familiarity with financial terms.\\nPromptness: Aim to provide responses quickly to facilitate timely decision-making for users.\\nConfidentiality: Do not ask for or handle personal investment details or sensitive financial information.\"}, {'role': 'user', 'content': 'What would be the stop loss of trading long positinos based on YM and level method?'}]\n",
      "\n",
      "ChatCompletionMessage(content=None, role='assistant', function_call=FunctionCall(arguments='{\\n  \"symbol\": \"YM\",\\n  \"method\": \"level\",\\n  \"direction\": \"1\"\\n}', name='calculate_sl'), tool_calls=None)\n",
      "\n",
      "What would be the stop loss of trading long positinos based on YM and level method?    =>    {'response': '', 'symbol': 'NQ', 'file': None, 'function_call': None, 'levels': None}\n",
      "[{'role': 'system', 'content': \"Don't make assumptions about what values to plug into functions. Ask for clarification if a user request is ambiguous.\\nYou are a trading assistant called “TenSurf Brain”, you are the brain behind “TenSurf Hub” charting platform with the following guidelines:\\nTool usage: Make sure to restrict your function calls to the provided list of functions. Do not assume the availability of any functions beyond those explicitly listed. Ensure that your implementations and queries adhere strictly to the functions specified.\\nAccuracy: Ensure that the information provided is accurate and up-to-date. Use reliable financial data and current market analysis to inform your responses.\\nClarity: Deliver answers in a clear, concise, and understandable manner. Avoid jargon unless the user demonstrates familiarity with financial terms.\\nPromptness: Aim to provide responses quickly to facilitate timely decision-making for users.\\nConfidentiality: Do not ask for or handle personal investment details or sensitive financial information.\"}, {'role': 'user', 'content': 'What would be the stop loss of trading long positinos based on YM and level method?'}, ChatCompletionMessage(content=None, role='assistant', function_call=FunctionCall(arguments='{\\n  \"symbol\": \"YM\",\\n  \"method\": \"level\",\\n  \"direction\": \"1\"\\n}', name='calculate_sl'), tool_calls=None), {'role': 'system', 'content': \"The result of the function calling with function calculate_sl has become {'sl': [40111.0, 40101.0, 40101.0, 40085.0, 40081.0, 40081.0, 40062.0, 40062.0, 40042.0, 40036.0, 40036.0, 40036.0, 39979.0], 'risk': [6.0, 16.0, 16.0, 32.0, 36.0, 36.0, 55.0, 55.0, 75.0, 81.0, 81.0, 81.0, 138.0], 'info': ['calculated based on the level Overnight_low', 'calculated based on the level VWAP_Bottom_Band_2', 'calculated based on the level WVWAP_Bottom_Band_2', 'calculated based on the level prev_session_mid', 'calculated based on the level VWAP_Bottom_Band_3', 'calculated based on the level WVWAP_Bottom_Band_3', 'calculated based on the level VWAP_Bottom_Band_4', 'calculated based on the level WVWAP_Bottom_Band_4', 'calculated based on the level VP_VAL', 'calculated based on the level initial_balance_low', 'calculate based on hourly SR level starting from 2024-05-20 13:44:00.000000', 'calculate based on 5min SR level starting from 2024-05-20 13:45:00.000000', 'calculated based on the level prev_session_min']}. Do not mention the name of the parameters of the functions directly in the final answer. Instead, briefly explain them and use other meaningfuly related synonyms. The unit of every number in the answer should be mentioned. Now generate a proper response\"}, {'role': 'system', 'content': \"Don't make assumptions about what values to plug into functions. Ask for clarification if a user request is ambiguous.\\nYou are a trading assistant called “TenSurf Brain”, you are the brain behind “TenSurf Hub” charting platform with the following guidelines:\\nTool usage: Make sure to restrict your function calls to the provided list of functions. Do not assume the availability of any functions beyond those explicitly listed. Ensure that your implementations and queries adhere strictly to the functions specified.\\nAccuracy: Ensure that the information provided is accurate and up-to-date. Use reliable financial data and current market analysis to inform your responses.\\nClarity: Deliver answers in a clear, concise, and understandable manner. Avoid jargon unless the user demonstrates familiarity with financial terms.\\nPromptness: Aim to provide responses quickly to facilitate timely decision-making for users.\\nConfidentiality: Do not ask for or handle personal investment details or sensitive financial information.\"}, {'role': 'user', 'content': 'What would be the stop loss of trading long positinos based on NQ and DVWAP_band method?'}]\n",
      "\n",
      "ChatCompletionMessage(content=None, role='assistant', function_call=FunctionCall(arguments='{\\n  \"symbol\": \"NQ\",\\n  \"method\": \"DVWAP_band\",\\n  \"direction\": \"1\"\\n}', name='calculate_sl'), tool_calls=None)\n",
      "\n",
      "What would be the stop loss of trading long positinos based on NQ and DVWAP_band method?    =>    {'response': '', 'symbol': 'NQ', 'file': None, 'function_call': None, 'levels': None}\n",
      "[{'role': 'system', 'content': \"Don't make assumptions about what values to plug into functions. Ask for clarification if a user request is ambiguous.\\nYou are a trading assistant called “TenSurf Brain”, you are the brain behind “TenSurf Hub” charting platform with the following guidelines:\\nTool usage: Make sure to restrict your function calls to the provided list of functions. Do not assume the availability of any functions beyond those explicitly listed. Ensure that your implementations and queries adhere strictly to the functions specified.\\nAccuracy: Ensure that the information provided is accurate and up-to-date. Use reliable financial data and current market analysis to inform your responses.\\nClarity: Deliver answers in a clear, concise, and understandable manner. Avoid jargon unless the user demonstrates familiarity with financial terms.\\nPromptness: Aim to provide responses quickly to facilitate timely decision-making for users.\\nConfidentiality: Do not ask for or handle personal investment details or sensitive financial information.\"}, {'role': 'user', 'content': 'What would be the stop loss of trading long positinos based on YM and level method?'}, ChatCompletionMessage(content=None, role='assistant', function_call=FunctionCall(arguments='{\\n  \"symbol\": \"YM\",\\n  \"method\": \"level\",\\n  \"direction\": \"1\"\\n}', name='calculate_sl'), tool_calls=None), {'role': 'system', 'content': \"The result of the function calling with function calculate_sl has become {'sl': [40111.0, 40101.0, 40101.0, 40085.0, 40081.0, 40081.0, 40062.0, 40062.0, 40042.0, 40036.0, 40036.0, 40036.0, 39979.0], 'risk': [6.0, 16.0, 16.0, 32.0, 36.0, 36.0, 55.0, 55.0, 75.0, 81.0, 81.0, 81.0, 138.0], 'info': ['calculated based on the level Overnight_low', 'calculated based on the level VWAP_Bottom_Band_2', 'calculated based on the level WVWAP_Bottom_Band_2', 'calculated based on the level prev_session_mid', 'calculated based on the level VWAP_Bottom_Band_3', 'calculated based on the level WVWAP_Bottom_Band_3', 'calculated based on the level VWAP_Bottom_Band_4', 'calculated based on the level WVWAP_Bottom_Band_4', 'calculated based on the level VP_VAL', 'calculated based on the level initial_balance_low', 'calculate based on hourly SR level starting from 2024-05-20 13:44:00.000000', 'calculate based on 5min SR level starting from 2024-05-20 13:45:00.000000', 'calculated based on the level prev_session_min']}. Do not mention the name of the parameters of the functions directly in the final answer. Instead, briefly explain them and use other meaningfuly related synonyms. The unit of every number in the answer should be mentioned. Now generate a proper response\"}, {'role': 'system', 'content': \"Don't make assumptions about what values to plug into functions. Ask for clarification if a user request is ambiguous.\\nYou are a trading assistant called “TenSurf Brain”, you are the brain behind “TenSurf Hub” charting platform with the following guidelines:\\nTool usage: Make sure to restrict your function calls to the provided list of functions. Do not assume the availability of any functions beyond those explicitly listed. Ensure that your implementations and queries adhere strictly to the functions specified.\\nAccuracy: Ensure that the information provided is accurate and up-to-date. Use reliable financial data and current market analysis to inform your responses.\\nClarity: Deliver answers in a clear, concise, and understandable manner. Avoid jargon unless the user demonstrates familiarity with financial terms.\\nPromptness: Aim to provide responses quickly to facilitate timely decision-making for users.\\nConfidentiality: Do not ask for or handle personal investment details or sensitive financial information.\"}, {'role': 'user', 'content': 'What would be the stop loss of trading long positinos based on NQ and DVWAP_band method?'}, ChatCompletionMessage(content=None, role='assistant', function_call=FunctionCall(arguments='{\\n  \"symbol\": \"NQ\",\\n  \"method\": \"DVWAP_band\",\\n  \"direction\": \"1\"\\n}', name='calculate_sl'), tool_calls=None), {'role': 'system', 'content': \"The result of the function calling with function calculate_sl has become {'sl': [18741.75], 'risk': [41.25], 'info': ['calculated based on VWAP_Top_Band_1 as the bottom of vwap zone 2 (current price is inside vwap zone 3)']}. Do not mention the name of the parameters of the functions directly in the final answer. Instead, briefly explain them and use other meaningfuly related synonyms. The unit of every number in the answer should be mentioned. Now generate a proper response\"}, {'role': 'system', 'content': \"Don't make assumptions about what values to plug into functions. Ask for clarification if a user request is ambiguous.\\nYou are a trading assistant called “TenSurf Brain”, you are the brain behind “TenSurf Hub” charting platform with the following guidelines:\\nTool usage: Make sure to restrict your function calls to the provided list of functions. Do not assume the availability of any functions beyond those explicitly listed. Ensure that your implementations and queries adhere strictly to the functions specified.\\nAccuracy: Ensure that the information provided is accurate and up-to-date. Use reliable financial data and current market analysis to inform your responses.\\nClarity: Deliver answers in a clear, concise, and understandable manner. Avoid jargon unless the user demonstrates familiarity with financial terms.\\nPromptness: Aim to provide responses quickly to facilitate timely decision-making for users.\\nConfidentiality: Do not ask for or handle personal investment details or sensitive financial information.\"}, {'role': 'user', 'content': 'What would be the stop loss of trading short positinos based on NQ and WVWAP_band method?'}]\n",
      "\n",
      "ChatCompletionMessage(content=None, role='assistant', function_call=FunctionCall(arguments='{\\n  \"symbol\": \"NQ\",\\n  \"method\": \"WVWAP_band\",\\n  \"direction\": \"-1\"\\n}', name='calculate_sl'), tool_calls=None)\n",
      "\n",
      "What would be the stop loss of trading short positinos based on NQ and WVWAP_band method?    =>    {'response': '', 'symbol': 'NQ', 'file': None, 'function_call': None, 'levels': None}\n",
      "[{'role': 'system', 'content': \"Don't make assumptions about what values to plug into functions. Ask for clarification if a user request is ambiguous.\\nYou are a trading assistant called “TenSurf Brain”, you are the brain behind “TenSurf Hub” charting platform with the following guidelines:\\nTool usage: Make sure to restrict your function calls to the provided list of functions. Do not assume the availability of any functions beyond those explicitly listed. Ensure that your implementations and queries adhere strictly to the functions specified.\\nAccuracy: Ensure that the information provided is accurate and up-to-date. Use reliable financial data and current market analysis to inform your responses.\\nClarity: Deliver answers in a clear, concise, and understandable manner. Avoid jargon unless the user demonstrates familiarity with financial terms.\\nPromptness: Aim to provide responses quickly to facilitate timely decision-making for users.\\nConfidentiality: Do not ask for or handle personal investment details or sensitive financial information.\"}, {'role': 'user', 'content': 'What would be the stop loss of trading long positinos based on YM and level method?'}, ChatCompletionMessage(content=None, role='assistant', function_call=FunctionCall(arguments='{\\n  \"symbol\": \"YM\",\\n  \"method\": \"level\",\\n  \"direction\": \"1\"\\n}', name='calculate_sl'), tool_calls=None), {'role': 'system', 'content': \"The result of the function calling with function calculate_sl has become {'sl': [40111.0, 40101.0, 40101.0, 40085.0, 40081.0, 40081.0, 40062.0, 40062.0, 40042.0, 40036.0, 40036.0, 40036.0, 39979.0], 'risk': [6.0, 16.0, 16.0, 32.0, 36.0, 36.0, 55.0, 55.0, 75.0, 81.0, 81.0, 81.0, 138.0], 'info': ['calculated based on the level Overnight_low', 'calculated based on the level VWAP_Bottom_Band_2', 'calculated based on the level WVWAP_Bottom_Band_2', 'calculated based on the level prev_session_mid', 'calculated based on the level VWAP_Bottom_Band_3', 'calculated based on the level WVWAP_Bottom_Band_3', 'calculated based on the level VWAP_Bottom_Band_4', 'calculated based on the level WVWAP_Bottom_Band_4', 'calculated based on the level VP_VAL', 'calculated based on the level initial_balance_low', 'calculate based on hourly SR level starting from 2024-05-20 13:44:00.000000', 'calculate based on 5min SR level starting from 2024-05-20 13:45:00.000000', 'calculated based on the level prev_session_min']}. Do not mention the name of the parameters of the functions directly in the final answer. Instead, briefly explain them and use other meaningfuly related synonyms. The unit of every number in the answer should be mentioned. Now generate a proper response\"}, {'role': 'system', 'content': \"Don't make assumptions about what values to plug into functions. Ask for clarification if a user request is ambiguous.\\nYou are a trading assistant called “TenSurf Brain”, you are the brain behind “TenSurf Hub” charting platform with the following guidelines:\\nTool usage: Make sure to restrict your function calls to the provided list of functions. Do not assume the availability of any functions beyond those explicitly listed. Ensure that your implementations and queries adhere strictly to the functions specified.\\nAccuracy: Ensure that the information provided is accurate and up-to-date. Use reliable financial data and current market analysis to inform your responses.\\nClarity: Deliver answers in a clear, concise, and understandable manner. Avoid jargon unless the user demonstrates familiarity with financial terms.\\nPromptness: Aim to provide responses quickly to facilitate timely decision-making for users.\\nConfidentiality: Do not ask for or handle personal investment details or sensitive financial information.\"}, {'role': 'user', 'content': 'What would be the stop loss of trading long positinos based on NQ and DVWAP_band method?'}, ChatCompletionMessage(content=None, role='assistant', function_call=FunctionCall(arguments='{\\n  \"symbol\": \"NQ\",\\n  \"method\": \"DVWAP_band\",\\n  \"direction\": \"1\"\\n}', name='calculate_sl'), tool_calls=None), {'role': 'system', 'content': \"The result of the function calling with function calculate_sl has become {'sl': [18741.75], 'risk': [41.25], 'info': ['calculated based on VWAP_Top_Band_1 as the bottom of vwap zone 2 (current price is inside vwap zone 3)']}. Do not mention the name of the parameters of the functions directly in the final answer. Instead, briefly explain them and use other meaningfuly related synonyms. The unit of every number in the answer should be mentioned. Now generate a proper response\"}, {'role': 'system', 'content': \"Don't make assumptions about what values to plug into functions. Ask for clarification if a user request is ambiguous.\\nYou are a trading assistant called “TenSurf Brain”, you are the brain behind “TenSurf Hub” charting platform with the following guidelines:\\nTool usage: Make sure to restrict your function calls to the provided list of functions. Do not assume the availability of any functions beyond those explicitly listed. Ensure that your implementations and queries adhere strictly to the functions specified.\\nAccuracy: Ensure that the information provided is accurate and up-to-date. Use reliable financial data and current market analysis to inform your responses.\\nClarity: Deliver answers in a clear, concise, and understandable manner. Avoid jargon unless the user demonstrates familiarity with financial terms.\\nPromptness: Aim to provide responses quickly to facilitate timely decision-making for users.\\nConfidentiality: Do not ask for or handle personal investment details or sensitive financial information.\"}, {'role': 'user', 'content': 'What would be the stop loss of trading short positinos based on NQ and WVWAP_band method?'}, ChatCompletionMessage(content=None, role='assistant', function_call=FunctionCall(arguments='{\\n  \"symbol\": \"NQ\",\\n  \"method\": \"WVWAP_band\",\\n  \"direction\": \"-1\"\\n}', name='calculate_sl'), tool_calls=None), {'role': 'system', 'content': \"The result of the function calling with function calculate_sl has become {'sl': [18805.0], 'risk': [22.0], 'info': ['calculated based on WVWAP_Top_Band_4 as the ceiling of wvwap zone 4 (current price is inside wvwap zone 3)']}. Do not mention the name of the parameters of the functions directly in the final answer. Instead, briefly explain them and use other meaningfuly related synonyms. The unit of every number in the answer should be mentioned. Now generate a proper response\"}, {'role': 'system', 'content': \"Don't make assumptions about what values to plug into functions. Ask for clarification if a user request is ambiguous.\\nYou are a trading assistant called “TenSurf Brain”, you are the brain behind “TenSurf Hub” charting platform with the following guidelines:\\nTool usage: Make sure to restrict your function calls to the provided list of functions. Do not assume the availability of any functions beyond those explicitly listed. Ensure that your implementations and queries adhere strictly to the functions specified.\\nAccuracy: Ensure that the information provided is accurate and up-to-date. Use reliable financial data and current market analysis to inform your responses.\\nClarity: Deliver answers in a clear, concise, and understandable manner. Avoid jargon unless the user demonstrates familiarity with financial terms.\\nPromptness: Aim to provide responses quickly to facilitate timely decision-making for users.\\nConfidentiality: Do not ask for or handle personal investment details or sensitive financial information.\"}, {'role': 'user', 'content': 'What would be the stop loss of trading short positinos based on GC and zigzag method?'}]\n",
      "\n",
      "ChatCompletionMessage(content=None, role='assistant', function_call=FunctionCall(arguments='{\\n  \"symbol\": \"GC\",\\n  \"method\": \"zigzag\",\\n  \"direction\": \"-1\"\\n}', name='calculate_sl'), tool_calls=None)\n",
      "\n",
      "What would be the stop loss of trading short positinos based on GC and zigzag method?    =>    {'response': '', 'symbol': 'NQ', 'file': None, 'function_call': None, 'levels': None}\n",
      "[{'role': 'system', 'content': \"Don't make assumptions about what values to plug into functions. Ask for clarification if a user request is ambiguous.\\nYou are a trading assistant called “TenSurf Brain”, you are the brain behind “TenSurf Hub” charting platform with the following guidelines:\\nTool usage: Make sure to restrict your function calls to the provided list of functions. Do not assume the availability of any functions beyond those explicitly listed. Ensure that your implementations and queries adhere strictly to the functions specified.\\nAccuracy: Ensure that the information provided is accurate and up-to-date. Use reliable financial data and current market analysis to inform your responses.\\nClarity: Deliver answers in a clear, concise, and understandable manner. Avoid jargon unless the user demonstrates familiarity with financial terms.\\nPromptness: Aim to provide responses quickly to facilitate timely decision-making for users.\\nConfidentiality: Do not ask for or handle personal investment details or sensitive financial information.\"}, {'role': 'user', 'content': 'What would be the stop loss of trading long positinos based on YM and level method?'}, ChatCompletionMessage(content=None, role='assistant', function_call=FunctionCall(arguments='{\\n  \"symbol\": \"YM\",\\n  \"method\": \"level\",\\n  \"direction\": \"1\"\\n}', name='calculate_sl'), tool_calls=None), {'role': 'system', 'content': \"The result of the function calling with function calculate_sl has become {'sl': [40111.0, 40101.0, 40101.0, 40085.0, 40081.0, 40081.0, 40062.0, 40062.0, 40042.0, 40036.0, 40036.0, 40036.0, 39979.0], 'risk': [6.0, 16.0, 16.0, 32.0, 36.0, 36.0, 55.0, 55.0, 75.0, 81.0, 81.0, 81.0, 138.0], 'info': ['calculated based on the level Overnight_low', 'calculated based on the level VWAP_Bottom_Band_2', 'calculated based on the level WVWAP_Bottom_Band_2', 'calculated based on the level prev_session_mid', 'calculated based on the level VWAP_Bottom_Band_3', 'calculated based on the level WVWAP_Bottom_Band_3', 'calculated based on the level VWAP_Bottom_Band_4', 'calculated based on the level WVWAP_Bottom_Band_4', 'calculated based on the level VP_VAL', 'calculated based on the level initial_balance_low', 'calculate based on hourly SR level starting from 2024-05-20 13:44:00.000000', 'calculate based on 5min SR level starting from 2024-05-20 13:45:00.000000', 'calculated based on the level prev_session_min']}. Do not mention the name of the parameters of the functions directly in the final answer. Instead, briefly explain them and use other meaningfuly related synonyms. The unit of every number in the answer should be mentioned. Now generate a proper response\"}, {'role': 'system', 'content': \"Don't make assumptions about what values to plug into functions. Ask for clarification if a user request is ambiguous.\\nYou are a trading assistant called “TenSurf Brain”, you are the brain behind “TenSurf Hub” charting platform with the following guidelines:\\nTool usage: Make sure to restrict your function calls to the provided list of functions. Do not assume the availability of any functions beyond those explicitly listed. Ensure that your implementations and queries adhere strictly to the functions specified.\\nAccuracy: Ensure that the information provided is accurate and up-to-date. Use reliable financial data and current market analysis to inform your responses.\\nClarity: Deliver answers in a clear, concise, and understandable manner. Avoid jargon unless the user demonstrates familiarity with financial terms.\\nPromptness: Aim to provide responses quickly to facilitate timely decision-making for users.\\nConfidentiality: Do not ask for or handle personal investment details or sensitive financial information.\"}, {'role': 'user', 'content': 'What would be the stop loss of trading long positinos based on NQ and DVWAP_band method?'}, ChatCompletionMessage(content=None, role='assistant', function_call=FunctionCall(arguments='{\\n  \"symbol\": \"NQ\",\\n  \"method\": \"DVWAP_band\",\\n  \"direction\": \"1\"\\n}', name='calculate_sl'), tool_calls=None), {'role': 'system', 'content': \"The result of the function calling with function calculate_sl has become {'sl': [18741.75], 'risk': [41.25], 'info': ['calculated based on VWAP_Top_Band_1 as the bottom of vwap zone 2 (current price is inside vwap zone 3)']}. Do not mention the name of the parameters of the functions directly in the final answer. Instead, briefly explain them and use other meaningfuly related synonyms. The unit of every number in the answer should be mentioned. Now generate a proper response\"}, {'role': 'system', 'content': \"Don't make assumptions about what values to plug into functions. Ask for clarification if a user request is ambiguous.\\nYou are a trading assistant called “TenSurf Brain”, you are the brain behind “TenSurf Hub” charting platform with the following guidelines:\\nTool usage: Make sure to restrict your function calls to the provided list of functions. Do not assume the availability of any functions beyond those explicitly listed. Ensure that your implementations and queries adhere strictly to the functions specified.\\nAccuracy: Ensure that the information provided is accurate and up-to-date. Use reliable financial data and current market analysis to inform your responses.\\nClarity: Deliver answers in a clear, concise, and understandable manner. Avoid jargon unless the user demonstrates familiarity with financial terms.\\nPromptness: Aim to provide responses quickly to facilitate timely decision-making for users.\\nConfidentiality: Do not ask for or handle personal investment details or sensitive financial information.\"}, {'role': 'user', 'content': 'What would be the stop loss of trading short positinos based on NQ and WVWAP_band method?'}, ChatCompletionMessage(content=None, role='assistant', function_call=FunctionCall(arguments='{\\n  \"symbol\": \"NQ\",\\n  \"method\": \"WVWAP_band\",\\n  \"direction\": \"-1\"\\n}', name='calculate_sl'), tool_calls=None), {'role': 'system', 'content': \"The result of the function calling with function calculate_sl has become {'sl': [18805.0], 'risk': [22.0], 'info': ['calculated based on WVWAP_Top_Band_4 as the ceiling of wvwap zone 4 (current price is inside wvwap zone 3)']}. Do not mention the name of the parameters of the functions directly in the final answer. Instead, briefly explain them and use other meaningfuly related synonyms. The unit of every number in the answer should be mentioned. Now generate a proper response\"}, {'role': 'system', 'content': \"Don't make assumptions about what values to plug into functions. Ask for clarification if a user request is ambiguous.\\nYou are a trading assistant called “TenSurf Brain”, you are the brain behind “TenSurf Hub” charting platform with the following guidelines:\\nTool usage: Make sure to restrict your function calls to the provided list of functions. Do not assume the availability of any functions beyond those explicitly listed. Ensure that your implementations and queries adhere strictly to the functions specified.\\nAccuracy: Ensure that the information provided is accurate and up-to-date. Use reliable financial data and current market analysis to inform your responses.\\nClarity: Deliver answers in a clear, concise, and understandable manner. Avoid jargon unless the user demonstrates familiarity with financial terms.\\nPromptness: Aim to provide responses quickly to facilitate timely decision-making for users.\\nConfidentiality: Do not ask for or handle personal investment details or sensitive financial information.\"}, {'role': 'user', 'content': 'What would be the stop loss of trading short positinos based on GC and zigzag method?'}, ChatCompletionMessage(content=None, role='assistant', function_call=FunctionCall(arguments='{\\n  \"symbol\": \"GC\",\\n  \"method\": \"zigzag\",\\n  \"direction\": \"-1\"\\n}', name='calculate_sl'), tool_calls=None), {'role': 'system', 'content': \"The result of the function calling with function calculate_sl has become {'sl': [2438.24, 2438.54], 'risk': [4.44, 4.74], 'info': ['Calculated based on the last 5 zigzag legs of the same day of the week', 'Calculated based on the last session zigzag']}. Do not mention the name of the parameters of the functions directly in the final answer. Instead, briefly explain them and use other meaningfuly related synonyms. The unit of every number in the answer should be mentioned. Now generate a proper response\"}, {'role': 'system', 'content': \"Don't make assumptions about what values to plug into functions. Ask for clarification if a user request is ambiguous.\\nYou are a trading assistant called “TenSurf Brain”, you are the brain behind “TenSurf Hub” charting platform with the following guidelines:\\nTool usage: Make sure to restrict your function calls to the provided list of functions. Do not assume the availability of any functions beyond those explicitly listed. Ensure that your implementations and queries adhere strictly to the functions specified.\\nAccuracy: Ensure that the information provided is accurate and up-to-date. Use reliable financial data and current market analysis to inform your responses.\\nClarity: Deliver answers in a clear, concise, and understandable manner. Avoid jargon unless the user demonstrates familiarity with financial terms.\\nPromptness: Aim to provide responses quickly to facilitate timely decision-making for users.\\nConfidentiality: Do not ask for or handle personal investment details or sensitive financial information.\"}, {'role': 'user', 'content': 'What would be the stop loss of trading long positinos based on ES?'}]\n",
      "\n",
      "ChatCompletionMessage(content=None, role='assistant', function_call=FunctionCall(arguments='{\\n  \"symbol\": \"ES\",\\n  \"direction\": \"1\"\\n}', name='calculate_sl'), tool_calls=None)\n",
      "\n",
      "What would be the stop loss of trading long positinos based on ES?    =>    {'response': '', 'symbol': 'NQ', 'file': None, 'function_call': None, 'levels': None}\n",
      "[{'role': 'system', 'content': \"Don't make assumptions about what values to plug into functions. Ask for clarification if a user request is ambiguous.\\nYou are a trading assistant called “TenSurf Brain”, you are the brain behind “TenSurf Hub” charting platform with the following guidelines:\\nTool usage: Make sure to restrict your function calls to the provided list of functions. Do not assume the availability of any functions beyond those explicitly listed. Ensure that your implementations and queries adhere strictly to the functions specified.\\nAccuracy: Ensure that the information provided is accurate and up-to-date. Use reliable financial data and current market analysis to inform your responses.\\nClarity: Deliver answers in a clear, concise, and understandable manner. Avoid jargon unless the user demonstrates familiarity with financial terms.\\nPromptness: Aim to provide responses quickly to facilitate timely decision-making for users.\\nConfidentiality: Do not ask for or handle personal investment details or sensitive financial information.\"}, {'role': 'user', 'content': 'What would be the stop loss of trading long positinos based on YM and level method?'}, ChatCompletionMessage(content=None, role='assistant', function_call=FunctionCall(arguments='{\\n  \"symbol\": \"YM\",\\n  \"method\": \"level\",\\n  \"direction\": \"1\"\\n}', name='calculate_sl'), tool_calls=None), {'role': 'system', 'content': \"The result of the function calling with function calculate_sl has become {'sl': [40111.0, 40101.0, 40101.0, 40085.0, 40081.0, 40081.0, 40062.0, 40062.0, 40042.0, 40036.0, 40036.0, 40036.0, 39979.0], 'risk': [6.0, 16.0, 16.0, 32.0, 36.0, 36.0, 55.0, 55.0, 75.0, 81.0, 81.0, 81.0, 138.0], 'info': ['calculated based on the level Overnight_low', 'calculated based on the level VWAP_Bottom_Band_2', 'calculated based on the level WVWAP_Bottom_Band_2', 'calculated based on the level prev_session_mid', 'calculated based on the level VWAP_Bottom_Band_3', 'calculated based on the level WVWAP_Bottom_Band_3', 'calculated based on the level VWAP_Bottom_Band_4', 'calculated based on the level WVWAP_Bottom_Band_4', 'calculated based on the level VP_VAL', 'calculated based on the level initial_balance_low', 'calculate based on hourly SR level starting from 2024-05-20 13:44:00.000000', 'calculate based on 5min SR level starting from 2024-05-20 13:45:00.000000', 'calculated based on the level prev_session_min']}. Do not mention the name of the parameters of the functions directly in the final answer. Instead, briefly explain them and use other meaningfuly related synonyms. The unit of every number in the answer should be mentioned. Now generate a proper response\"}, {'role': 'system', 'content': \"Don't make assumptions about what values to plug into functions. Ask for clarification if a user request is ambiguous.\\nYou are a trading assistant called “TenSurf Brain”, you are the brain behind “TenSurf Hub” charting platform with the following guidelines:\\nTool usage: Make sure to restrict your function calls to the provided list of functions. Do not assume the availability of any functions beyond those explicitly listed. Ensure that your implementations and queries adhere strictly to the functions specified.\\nAccuracy: Ensure that the information provided is accurate and up-to-date. Use reliable financial data and current market analysis to inform your responses.\\nClarity: Deliver answers in a clear, concise, and understandable manner. Avoid jargon unless the user demonstrates familiarity with financial terms.\\nPromptness: Aim to provide responses quickly to facilitate timely decision-making for users.\\nConfidentiality: Do not ask for or handle personal investment details or sensitive financial information.\"}, {'role': 'user', 'content': 'What would be the stop loss of trading long positinos based on NQ and DVWAP_band method?'}, ChatCompletionMessage(content=None, role='assistant', function_call=FunctionCall(arguments='{\\n  \"symbol\": \"NQ\",\\n  \"method\": \"DVWAP_band\",\\n  \"direction\": \"1\"\\n}', name='calculate_sl'), tool_calls=None), {'role': 'system', 'content': \"The result of the function calling with function calculate_sl has become {'sl': [18741.75], 'risk': [41.25], 'info': ['calculated based on VWAP_Top_Band_1 as the bottom of vwap zone 2 (current price is inside vwap zone 3)']}. Do not mention the name of the parameters of the functions directly in the final answer. Instead, briefly explain them and use other meaningfuly related synonyms. The unit of every number in the answer should be mentioned. Now generate a proper response\"}, {'role': 'system', 'content': \"Don't make assumptions about what values to plug into functions. Ask for clarification if a user request is ambiguous.\\nYou are a trading assistant called “TenSurf Brain”, you are the brain behind “TenSurf Hub” charting platform with the following guidelines:\\nTool usage: Make sure to restrict your function calls to the provided list of functions. Do not assume the availability of any functions beyond those explicitly listed. Ensure that your implementations and queries adhere strictly to the functions specified.\\nAccuracy: Ensure that the information provided is accurate and up-to-date. Use reliable financial data and current market analysis to inform your responses.\\nClarity: Deliver answers in a clear, concise, and understandable manner. Avoid jargon unless the user demonstrates familiarity with financial terms.\\nPromptness: Aim to provide responses quickly to facilitate timely decision-making for users.\\nConfidentiality: Do not ask for or handle personal investment details or sensitive financial information.\"}, {'role': 'user', 'content': 'What would be the stop loss of trading short positinos based on NQ and WVWAP_band method?'}, ChatCompletionMessage(content=None, role='assistant', function_call=FunctionCall(arguments='{\\n  \"symbol\": \"NQ\",\\n  \"method\": \"WVWAP_band\",\\n  \"direction\": \"-1\"\\n}', name='calculate_sl'), tool_calls=None), {'role': 'system', 'content': \"The result of the function calling with function calculate_sl has become {'sl': [18805.0], 'risk': [22.0], 'info': ['calculated based on WVWAP_Top_Band_4 as the ceiling of wvwap zone 4 (current price is inside wvwap zone 3)']}. Do not mention the name of the parameters of the functions directly in the final answer. Instead, briefly explain them and use other meaningfuly related synonyms. The unit of every number in the answer should be mentioned. Now generate a proper response\"}, {'role': 'system', 'content': \"Don't make assumptions about what values to plug into functions. Ask for clarification if a user request is ambiguous.\\nYou are a trading assistant called “TenSurf Brain”, you are the brain behind “TenSurf Hub” charting platform with the following guidelines:\\nTool usage: Make sure to restrict your function calls to the provided list of functions. Do not assume the availability of any functions beyond those explicitly listed. Ensure that your implementations and queries adhere strictly to the functions specified.\\nAccuracy: Ensure that the information provided is accurate and up-to-date. Use reliable financial data and current market analysis to inform your responses.\\nClarity: Deliver answers in a clear, concise, and understandable manner. Avoid jargon unless the user demonstrates familiarity with financial terms.\\nPromptness: Aim to provide responses quickly to facilitate timely decision-making for users.\\nConfidentiality: Do not ask for or handle personal investment details or sensitive financial information.\"}, {'role': 'user', 'content': 'What would be the stop loss of trading short positinos based on GC and zigzag method?'}, ChatCompletionMessage(content=None, role='assistant', function_call=FunctionCall(arguments='{\\n  \"symbol\": \"GC\",\\n  \"method\": \"zigzag\",\\n  \"direction\": \"-1\"\\n}', name='calculate_sl'), tool_calls=None), {'role': 'system', 'content': \"The result of the function calling with function calculate_sl has become {'sl': [2438.24, 2438.54], 'risk': [4.44, 4.74], 'info': ['Calculated based on the last 5 zigzag legs of the same day of the week', 'Calculated based on the last session zigzag']}. Do not mention the name of the parameters of the functions directly in the final answer. Instead, briefly explain them and use other meaningfuly related synonyms. The unit of every number in the answer should be mentioned. Now generate a proper response\"}, {'role': 'system', 'content': \"Don't make assumptions about what values to plug into functions. Ask for clarification if a user request is ambiguous.\\nYou are a trading assistant called “TenSurf Brain”, you are the brain behind “TenSurf Hub” charting platform with the following guidelines:\\nTool usage: Make sure to restrict your function calls to the provided list of functions. Do not assume the availability of any functions beyond those explicitly listed. Ensure that your implementations and queries adhere strictly to the functions specified.\\nAccuracy: Ensure that the information provided is accurate and up-to-date. Use reliable financial data and current market analysis to inform your responses.\\nClarity: Deliver answers in a clear, concise, and understandable manner. Avoid jargon unless the user demonstrates familiarity with financial terms.\\nPromptness: Aim to provide responses quickly to facilitate timely decision-making for users.\\nConfidentiality: Do not ask for or handle personal investment details or sensitive financial information.\"}, {'role': 'user', 'content': 'What would be the stop loss of trading long positinos based on ES?'}, ChatCompletionMessage(content=None, role='assistant', function_call=FunctionCall(arguments='{\\n  \"symbol\": \"ES\",\\n  \"direction\": \"1\"\\n}', name='calculate_sl'), tool_calls=None), {'role': 'system', 'content': \"The result of the function calling with function calculate_sl has become {'sl': [5342.75, 5342.75, 5342.0, 5341.75, 5340.5, 5340.0, 5340.0, 5340.0, 5340.0, 5339.5, 5337.25, 5337.25, 5335.75, 5335.0, 5334.25, 5334.25, 5332.25, 5331.5, 5331.5, 5328.75, 5328.75, 5328.25, 5327.0, 5326.0, 5324.5, 5320.5, 5320.5, 5320.5, 5320.0, 5319.5, 5319.25, 5316.5, 5316.25, 5316.0, 5315.75, 5315.75, 5315.5, 5313.25, 5312.75, 5305.75], 'risk': [1.25, 1.25, 2.0, 2.25, 3.5, 4.0, 4.0, 4.0, 4.0, 4.5, 6.75, 6.75, 8.25, 9.0, 9.75, 9.75, 11.75, 12.5, 12.5, 15.25, 15.25, 15.75, 17.0, 18.0, 19.5, 23.5, 23.5, 23.5, 24.0, 24.5, 24.75, 27.5, 27.75, 28.0, 28.25, 28.25, 28.5, 30.75, 31.25, 38.25], 'info': ['calculated based on the level VWAP_Top_Band_1', 'calculated based on the level WVWAP_Top_Band_1', 'calculate based on 5min SR level starting from 2024-05-16 17:15:00.000000', 'calculated based on the level VP_VAH', 'calculated based on ATR with length 14 multiplied by the coefficient 1.5', 'calculated based on VWAP as the bottom of vwap zone 1 (current price is inside vwap zone 2)', 'calculated based on WVWAP as the bottom of wvwap zone 1 (current price is inside wvwap zone 2)', 'calculated based on the level VWAP', 'calculated based on the level WVWAP', 'Calculated based on the last 5 zigzag legs of the same day of the week', 'calculated based on the level VWAP_Bottom_Band_1', 'calculated based on the level WVWAP_Bottom_Band_1', 'Calculated based on the last session zigzag', 'calculated based on the level VP_POC', 'calculated based on the level VWAP_Bottom_Band_2', 'calculated based on the level WVWAP_Bottom_Band_2', 'calculated based on the level prev_session_mid', 'calculated based on the level VWAP_Bottom_Band_3', 'calculated based on the level WVWAP_Bottom_Band_3', 'calculated based on the level VWAP_Bottom_Band_4', 'calculated based on the level WVWAP_Bottom_Band_4', 'calculate based on hourly SR level starting from 2024-05-16 14:07:00.000000', 'calculated based on the level VP_VAL', 'calculated based on the level Overnight_high', 'calculated based on the level initial_balance_high', 'calculated based on low swing with neighborhood parameter of 20 candles', 'calculated based on low swing with neighborhood parameter of 20 candles', 'calculated based on minimum low price of previous 100 candles', 'calculated based on the level initial_balance_mid', 'calculated based on the level Overnight_mid', 'calculated based on low swing with neighborhood parameter of 20 candles', 'calculated based on low swing with neighborhood parameter of 20 candles', 'calculated based on low swing with neighborhood parameter of 20 candles', 'calculated based on low swing with neighborhood parameter of 20 candles', 'calculated based on low swing with neighborhood parameter of 20 candles', 'calculated based on the level initial_balance_low', 'calculated based on the level prev_session_min', 'calculated based on the level Overnight_low', 'calculated based on low swing with neighborhood parameter of 20 candles', 'calculated based on low swing with neighborhood parameter of 20 candles']}. Do not mention the name of the parameters of the functions directly in the final answer. Instead, briefly explain them and use other meaningfuly related synonyms. The unit of every number in the answer should be mentioned. Now generate a proper response\"}, {'role': 'system', 'content': \"Don't make assumptions about what values to plug into functions. Ask for clarification if a user request is ambiguous.\\nYou are a trading assistant called “TenSurf Brain”, you are the brain behind “TenSurf Hub” charting platform with the following guidelines:\\nTool usage: Make sure to restrict your function calls to the provided list of functions. Do not assume the availability of any functions beyond those explicitly listed. Ensure that your implementations and queries adhere strictly to the functions specified.\\nAccuracy: Ensure that the information provided is accurate and up-to-date. Use reliable financial data and current market analysis to inform your responses.\\nClarity: Deliver answers in a clear, concise, and understandable manner. Avoid jargon unless the user demonstrates familiarity with financial terms.\\nPromptness: Aim to provide responses quickly to facilitate timely decision-making for users.\\nConfidentiality: Do not ask for or handle personal investment details or sensitive financial information.\"}, {'role': 'user', 'content': 'How much would be the stop loss for trading?'}]\n",
      "\n",
      "ChatCompletionMessage(content=None, role='assistant', function_call=FunctionCall(arguments='{}', name='calculate_sl'), tool_calls=None)\n",
      "\n",
      "How much would be the stop loss for trading?    =>    {'response': '', 'symbol': 'NQ', 'file': None, 'function_call': None, 'levels': None}\n"
     ]
    }
   ],
   "source": [
    "# saving the answer of the prompt in a dictionary which its key is the prompt and its value is the answer to that prompt\n",
    "calculate_sl_results = {}\n",
    "\n",
    "# getting the answer of the prompts\n",
    "# try:\n",
    "\n",
    "for prompt in calculate_sl_prompts:\n",
    "    input_json = {\n",
    "        \"file\": None,\n",
    "        \"new_message\": prompt,\n",
    "        \"history_message\": messages,\n",
    "        \"timezone\": -210,\n",
    "        \"symbol\": \"NQ\",\n",
    "        \"start_datetime\": \"\",\n",
    "        \"end_datetime\": \"\",\n",
    "        \"timeframe\": \"1min\",\n",
    "        \"user_id\": \"1\",\n",
    "    }\n",
    "    output_json = llm_surf(input_json)\n",
    "    print(f\"{prompt}    =>    {output_json}\")\n",
    "    calculate_sl_results[prompt]=output_json\n",
    "\n",
    "# except Exception as e:\n",
    "#     print(f\"The following exception occured:\\n{e}\")\n",
    "\n",
    "# finally:\n",
    "# saving the answers\n",
    "# with open(\"test_results/detect_trend_test_results.json\", \"w\") as outputfile: \n",
    "#     json.dump(detect_trend_results, outputfile)"
   ]
  },
  {
   "cell_type": "markdown",
   "metadata": {},
   "source": [
    "### Calculate Take-Profit"
   ]
  },
  {
   "cell_type": "code",
   "execution_count": 26,
   "metadata": {},
   "outputs": [],
   "source": [
    "messages = []\n",
    "\n",
    "calculate_tp_prompts = [\n",
    "    # Normal Prompts\n",
    "    \"How much would be the take-profit of the NQ with the stop loss of 10 and direction of 1?\",\n",
    "    \"How much would be the take-profit of the NQ with the stop loss of 10?\",\n",
    "    \"How much would be the take-profit of the NQ with direction of 1?\",\n",
    "    \"How much would be the take-profit with the stop loss of 10 and direction of 1?\",\n",
    "    \"How much would be the take-profit?\",\n",
    "    # Challenging prompts\n",
    "    \n",
    "]"
   ]
  },
  {
   "cell_type": "code",
   "execution_count": 27,
   "metadata": {},
   "outputs": [
    {
     "name": "stdout",
     "output_type": "stream",
     "text": [
      "[{'role': 'system', 'content': \"Don't make assumptions about what values to plug into functions. Ask for clarification if a user request is ambiguous.\\nYou are a trading assistant called “TenSurf Brain”, you are the brain behind “TenSurf Hub” charting platform with the following guidelines:\\nTool usage: Make sure to restrict your function calls to the provided list of functions. Do not assume the availability of any functions beyond those explicitly listed. Ensure that your implementations and queries adhere strictly to the functions specified.\\nAccuracy: Ensure that the information provided is accurate and up-to-date. Use reliable financial data and current market analysis to inform your responses.\\nClarity: Deliver answers in a clear, concise, and understandable manner. Avoid jargon unless the user demonstrates familiarity with financial terms.\\nPromptness: Aim to provide responses quickly to facilitate timely decision-making for users.\\nConfidentiality: Do not ask for or handle personal investment details or sensitive financial information.\"}, {'role': 'user', 'content': 'How much would be the take-profit of the NQ with the stop loss of 10 and direction of 1?'}]\n",
      "\n",
      "ChatCompletionMessage(content=None, role='assistant', function_call=FunctionCall(arguments='{\\n  \"symbol\": \"NQ\",\\n  \"direction\": \"1\",\\n  \"stoploss\": 10\\n}', name='calculate_tp'), tool_calls=None)\n",
      "\n",
      "How much would be the take-profit of the NQ with the stop loss of 10 and direction of 1?    =>    {'response': '', 'symbol': 'NQ', 'file': None, 'function_call': None, 'levels': None}\n",
      "[{'role': 'system', 'content': \"Don't make assumptions about what values to plug into functions. Ask for clarification if a user request is ambiguous.\\nYou are a trading assistant called “TenSurf Brain”, you are the brain behind “TenSurf Hub” charting platform with the following guidelines:\\nTool usage: Make sure to restrict your function calls to the provided list of functions. Do not assume the availability of any functions beyond those explicitly listed. Ensure that your implementations and queries adhere strictly to the functions specified.\\nAccuracy: Ensure that the information provided is accurate and up-to-date. Use reliable financial data and current market analysis to inform your responses.\\nClarity: Deliver answers in a clear, concise, and understandable manner. Avoid jargon unless the user demonstrates familiarity with financial terms.\\nPromptness: Aim to provide responses quickly to facilitate timely decision-making for users.\\nConfidentiality: Do not ask for or handle personal investment details or sensitive financial information.\"}, {'role': 'user', 'content': 'How much would be the take-profit of the NQ with the stop loss of 10 and direction of 1?'}, ChatCompletionMessage(content=None, role='assistant', function_call=FunctionCall(arguments='{\\n  \"symbol\": \"NQ\",\\n  \"direction\": \"1\",\\n  \"stoploss\": 10\\n}', name='calculate_tp'), tool_calls=None), {'role': 'system', 'content': \"The result of the function calling with function calculate_tp has become {'tp': [], 'info': []}. Do not mention the name of the parameters of the functions directly in the final answer. Instead, briefly explain them and use other meaningfuly related synonyms. Now generate a proper response\"}, {'role': 'system', 'content': \"Don't make assumptions about what values to plug into functions. Ask for clarification if a user request is ambiguous.\\nYou are a trading assistant called “TenSurf Brain”, you are the brain behind “TenSurf Hub” charting platform with the following guidelines:\\nTool usage: Make sure to restrict your function calls to the provided list of functions. Do not assume the availability of any functions beyond those explicitly listed. Ensure that your implementations and queries adhere strictly to the functions specified.\\nAccuracy: Ensure that the information provided is accurate and up-to-date. Use reliable financial data and current market analysis to inform your responses.\\nClarity: Deliver answers in a clear, concise, and understandable manner. Avoid jargon unless the user demonstrates familiarity with financial terms.\\nPromptness: Aim to provide responses quickly to facilitate timely decision-making for users.\\nConfidentiality: Do not ask for or handle personal investment details or sensitive financial information.\"}, {'role': 'user', 'content': 'How much would be the take-profit of the NQ with the stop loss of 10?'}]\n",
      "\n",
      "ChatCompletionMessage(content=None, role='assistant', function_call=FunctionCall(arguments='{\\n  \"symbol\": \"NQ\",\\n  \"direction\": \"1\",\\n  \"stoploss\": 10\\n}', name='calculate_tp'), tool_calls=None)\n",
      "\n",
      "How much would be the take-profit of the NQ with the stop loss of 10?    =>    {'response': '', 'symbol': 'NQ', 'file': None, 'function_call': None, 'levels': None}\n",
      "[{'role': 'system', 'content': \"Don't make assumptions about what values to plug into functions. Ask for clarification if a user request is ambiguous.\\nYou are a trading assistant called “TenSurf Brain”, you are the brain behind “TenSurf Hub” charting platform with the following guidelines:\\nTool usage: Make sure to restrict your function calls to the provided list of functions. Do not assume the availability of any functions beyond those explicitly listed. Ensure that your implementations and queries adhere strictly to the functions specified.\\nAccuracy: Ensure that the information provided is accurate and up-to-date. Use reliable financial data and current market analysis to inform your responses.\\nClarity: Deliver answers in a clear, concise, and understandable manner. Avoid jargon unless the user demonstrates familiarity with financial terms.\\nPromptness: Aim to provide responses quickly to facilitate timely decision-making for users.\\nConfidentiality: Do not ask for or handle personal investment details or sensitive financial information.\"}, {'role': 'user', 'content': 'How much would be the take-profit of the NQ with the stop loss of 10 and direction of 1?'}, ChatCompletionMessage(content=None, role='assistant', function_call=FunctionCall(arguments='{\\n  \"symbol\": \"NQ\",\\n  \"direction\": \"1\",\\n  \"stoploss\": 10\\n}', name='calculate_tp'), tool_calls=None), {'role': 'system', 'content': \"The result of the function calling with function calculate_tp has become {'tp': [], 'info': []}. Do not mention the name of the parameters of the functions directly in the final answer. Instead, briefly explain them and use other meaningfuly related synonyms. Now generate a proper response\"}, {'role': 'system', 'content': \"Don't make assumptions about what values to plug into functions. Ask for clarification if a user request is ambiguous.\\nYou are a trading assistant called “TenSurf Brain”, you are the brain behind “TenSurf Hub” charting platform with the following guidelines:\\nTool usage: Make sure to restrict your function calls to the provided list of functions. Do not assume the availability of any functions beyond those explicitly listed. Ensure that your implementations and queries adhere strictly to the functions specified.\\nAccuracy: Ensure that the information provided is accurate and up-to-date. Use reliable financial data and current market analysis to inform your responses.\\nClarity: Deliver answers in a clear, concise, and understandable manner. Avoid jargon unless the user demonstrates familiarity with financial terms.\\nPromptness: Aim to provide responses quickly to facilitate timely decision-making for users.\\nConfidentiality: Do not ask for or handle personal investment details or sensitive financial information.\"}, {'role': 'user', 'content': 'How much would be the take-profit of the NQ with the stop loss of 10?'}, ChatCompletionMessage(content=None, role='assistant', function_call=FunctionCall(arguments='{\\n  \"symbol\": \"NQ\",\\n  \"direction\": \"1\",\\n  \"stoploss\": 10\\n}', name='calculate_tp'), tool_calls=None), {'role': 'system', 'content': \"The result of the function calling with function calculate_tp has become {'tp': [], 'info': []}. Do not mention the name of the parameters of the functions directly in the final answer. Instead, briefly explain them and use other meaningfuly related synonyms. Now generate a proper response\"}, {'role': 'system', 'content': \"Don't make assumptions about what values to plug into functions. Ask for clarification if a user request is ambiguous.\\nYou are a trading assistant called “TenSurf Brain”, you are the brain behind “TenSurf Hub” charting platform with the following guidelines:\\nTool usage: Make sure to restrict your function calls to the provided list of functions. Do not assume the availability of any functions beyond those explicitly listed. Ensure that your implementations and queries adhere strictly to the functions specified.\\nAccuracy: Ensure that the information provided is accurate and up-to-date. Use reliable financial data and current market analysis to inform your responses.\\nClarity: Deliver answers in a clear, concise, and understandable manner. Avoid jargon unless the user demonstrates familiarity with financial terms.\\nPromptness: Aim to provide responses quickly to facilitate timely decision-making for users.\\nConfidentiality: Do not ask for or handle personal investment details or sensitive financial information.\"}, {'role': 'user', 'content': 'How much would be the take-profit of the NQ with direction of 1?'}]\n",
      "\n",
      "ChatCompletionMessage(content=None, role='assistant', function_call=FunctionCall(arguments='{\\n  \"symbol\": \"NQ\",\\n  \"direction\": \"1\"\\n}', name='calculate_tp'), tool_calls=None)\n",
      "\n",
      "How much would be the take-profit of the NQ with direction of 1?    =>    {'response': '', 'symbol': 'NQ', 'file': None, 'function_call': None, 'levels': None}\n",
      "[{'role': 'system', 'content': \"Don't make assumptions about what values to plug into functions. Ask for clarification if a user request is ambiguous.\\nYou are a trading assistant called “TenSurf Brain”, you are the brain behind “TenSurf Hub” charting platform with the following guidelines:\\nTool usage: Make sure to restrict your function calls to the provided list of functions. Do not assume the availability of any functions beyond those explicitly listed. Ensure that your implementations and queries adhere strictly to the functions specified.\\nAccuracy: Ensure that the information provided is accurate and up-to-date. Use reliable financial data and current market analysis to inform your responses.\\nClarity: Deliver answers in a clear, concise, and understandable manner. Avoid jargon unless the user demonstrates familiarity with financial terms.\\nPromptness: Aim to provide responses quickly to facilitate timely decision-making for users.\\nConfidentiality: Do not ask for or handle personal investment details or sensitive financial information.\"}, {'role': 'user', 'content': 'How much would be the take-profit of the NQ with the stop loss of 10 and direction of 1?'}, ChatCompletionMessage(content=None, role='assistant', function_call=FunctionCall(arguments='{\\n  \"symbol\": \"NQ\",\\n  \"direction\": \"1\",\\n  \"stoploss\": 10\\n}', name='calculate_tp'), tool_calls=None), {'role': 'system', 'content': \"The result of the function calling with function calculate_tp has become {'tp': [], 'info': []}. Do not mention the name of the parameters of the functions directly in the final answer. Instead, briefly explain them and use other meaningfuly related synonyms. Now generate a proper response\"}, {'role': 'system', 'content': \"Don't make assumptions about what values to plug into functions. Ask for clarification if a user request is ambiguous.\\nYou are a trading assistant called “TenSurf Brain”, you are the brain behind “TenSurf Hub” charting platform with the following guidelines:\\nTool usage: Make sure to restrict your function calls to the provided list of functions. Do not assume the availability of any functions beyond those explicitly listed. Ensure that your implementations and queries adhere strictly to the functions specified.\\nAccuracy: Ensure that the information provided is accurate and up-to-date. Use reliable financial data and current market analysis to inform your responses.\\nClarity: Deliver answers in a clear, concise, and understandable manner. Avoid jargon unless the user demonstrates familiarity with financial terms.\\nPromptness: Aim to provide responses quickly to facilitate timely decision-making for users.\\nConfidentiality: Do not ask for or handle personal investment details or sensitive financial information.\"}, {'role': 'user', 'content': 'How much would be the take-profit of the NQ with the stop loss of 10?'}, ChatCompletionMessage(content=None, role='assistant', function_call=FunctionCall(arguments='{\\n  \"symbol\": \"NQ\",\\n  \"direction\": \"1\",\\n  \"stoploss\": 10\\n}', name='calculate_tp'), tool_calls=None), {'role': 'system', 'content': \"The result of the function calling with function calculate_tp has become {'tp': [], 'info': []}. Do not mention the name of the parameters of the functions directly in the final answer. Instead, briefly explain them and use other meaningfuly related synonyms. Now generate a proper response\"}, {'role': 'system', 'content': \"Don't make assumptions about what values to plug into functions. Ask for clarification if a user request is ambiguous.\\nYou are a trading assistant called “TenSurf Brain”, you are the brain behind “TenSurf Hub” charting platform with the following guidelines:\\nTool usage: Make sure to restrict your function calls to the provided list of functions. Do not assume the availability of any functions beyond those explicitly listed. Ensure that your implementations and queries adhere strictly to the functions specified.\\nAccuracy: Ensure that the information provided is accurate and up-to-date. Use reliable financial data and current market analysis to inform your responses.\\nClarity: Deliver answers in a clear, concise, and understandable manner. Avoid jargon unless the user demonstrates familiarity with financial terms.\\nPromptness: Aim to provide responses quickly to facilitate timely decision-making for users.\\nConfidentiality: Do not ask for or handle personal investment details or sensitive financial information.\"}, {'role': 'user', 'content': 'How much would be the take-profit of the NQ with direction of 1?'}, ChatCompletionMessage(content=None, role='assistant', function_call=FunctionCall(arguments='{\\n  \"symbol\": \"NQ\",\\n  \"direction\": \"1\"\\n}', name='calculate_tp'), tool_calls=None), {'role': 'system', 'content': \"The result of the function calling with function calculate_tp has become {'tp': [], 'info': []}. Do not mention the name of the parameters of the functions directly in the final answer. Instead, briefly explain them and use other meaningfuly related synonyms. Now generate a proper response\"}, {'role': 'system', 'content': \"Don't make assumptions about what values to plug into functions. Ask for clarification if a user request is ambiguous.\\nYou are a trading assistant called “TenSurf Brain”, you are the brain behind “TenSurf Hub” charting platform with the following guidelines:\\nTool usage: Make sure to restrict your function calls to the provided list of functions. Do not assume the availability of any functions beyond those explicitly listed. Ensure that your implementations and queries adhere strictly to the functions specified.\\nAccuracy: Ensure that the information provided is accurate and up-to-date. Use reliable financial data and current market analysis to inform your responses.\\nClarity: Deliver answers in a clear, concise, and understandable manner. Avoid jargon unless the user demonstrates familiarity with financial terms.\\nPromptness: Aim to provide responses quickly to facilitate timely decision-making for users.\\nConfidentiality: Do not ask for or handle personal investment details or sensitive financial information.\"}, {'role': 'user', 'content': 'How much would be the take-profit with the stop loss of 10 and direction of 1?'}]\n",
      "\n",
      "ChatCompletionMessage(content=None, role='assistant', function_call=FunctionCall(arguments='{\\n  \"symbol\": \"NQ\",\\n  \"direction\": \"1\",\\n  \"stoploss\": 10\\n}', name='calculate_tp'), tool_calls=None)\n",
      "\n",
      "How much would be the take-profit with the stop loss of 10 and direction of 1?    =>    {'response': '', 'symbol': 'NQ', 'file': None, 'function_call': None, 'levels': None}\n",
      "[{'role': 'system', 'content': \"Don't make assumptions about what values to plug into functions. Ask for clarification if a user request is ambiguous.\\nYou are a trading assistant called “TenSurf Brain”, you are the brain behind “TenSurf Hub” charting platform with the following guidelines:\\nTool usage: Make sure to restrict your function calls to the provided list of functions. Do not assume the availability of any functions beyond those explicitly listed. Ensure that your implementations and queries adhere strictly to the functions specified.\\nAccuracy: Ensure that the information provided is accurate and up-to-date. Use reliable financial data and current market analysis to inform your responses.\\nClarity: Deliver answers in a clear, concise, and understandable manner. Avoid jargon unless the user demonstrates familiarity with financial terms.\\nPromptness: Aim to provide responses quickly to facilitate timely decision-making for users.\\nConfidentiality: Do not ask for or handle personal investment details or sensitive financial information.\"}, {'role': 'user', 'content': 'How much would be the take-profit of the NQ with the stop loss of 10 and direction of 1?'}, ChatCompletionMessage(content=None, role='assistant', function_call=FunctionCall(arguments='{\\n  \"symbol\": \"NQ\",\\n  \"direction\": \"1\",\\n  \"stoploss\": 10\\n}', name='calculate_tp'), tool_calls=None), {'role': 'system', 'content': \"The result of the function calling with function calculate_tp has become {'tp': [], 'info': []}. Do not mention the name of the parameters of the functions directly in the final answer. Instead, briefly explain them and use other meaningfuly related synonyms. Now generate a proper response\"}, {'role': 'system', 'content': \"Don't make assumptions about what values to plug into functions. Ask for clarification if a user request is ambiguous.\\nYou are a trading assistant called “TenSurf Brain”, you are the brain behind “TenSurf Hub” charting platform with the following guidelines:\\nTool usage: Make sure to restrict your function calls to the provided list of functions. Do not assume the availability of any functions beyond those explicitly listed. Ensure that your implementations and queries adhere strictly to the functions specified.\\nAccuracy: Ensure that the information provided is accurate and up-to-date. Use reliable financial data and current market analysis to inform your responses.\\nClarity: Deliver answers in a clear, concise, and understandable manner. Avoid jargon unless the user demonstrates familiarity with financial terms.\\nPromptness: Aim to provide responses quickly to facilitate timely decision-making for users.\\nConfidentiality: Do not ask for or handle personal investment details or sensitive financial information.\"}, {'role': 'user', 'content': 'How much would be the take-profit of the NQ with the stop loss of 10?'}, ChatCompletionMessage(content=None, role='assistant', function_call=FunctionCall(arguments='{\\n  \"symbol\": \"NQ\",\\n  \"direction\": \"1\",\\n  \"stoploss\": 10\\n}', name='calculate_tp'), tool_calls=None), {'role': 'system', 'content': \"The result of the function calling with function calculate_tp has become {'tp': [], 'info': []}. Do not mention the name of the parameters of the functions directly in the final answer. Instead, briefly explain them and use other meaningfuly related synonyms. Now generate a proper response\"}, {'role': 'system', 'content': \"Don't make assumptions about what values to plug into functions. Ask for clarification if a user request is ambiguous.\\nYou are a trading assistant called “TenSurf Brain”, you are the brain behind “TenSurf Hub” charting platform with the following guidelines:\\nTool usage: Make sure to restrict your function calls to the provided list of functions. Do not assume the availability of any functions beyond those explicitly listed. Ensure that your implementations and queries adhere strictly to the functions specified.\\nAccuracy: Ensure that the information provided is accurate and up-to-date. Use reliable financial data and current market analysis to inform your responses.\\nClarity: Deliver answers in a clear, concise, and understandable manner. Avoid jargon unless the user demonstrates familiarity with financial terms.\\nPromptness: Aim to provide responses quickly to facilitate timely decision-making for users.\\nConfidentiality: Do not ask for or handle personal investment details or sensitive financial information.\"}, {'role': 'user', 'content': 'How much would be the take-profit of the NQ with direction of 1?'}, ChatCompletionMessage(content=None, role='assistant', function_call=FunctionCall(arguments='{\\n  \"symbol\": \"NQ\",\\n  \"direction\": \"1\"\\n}', name='calculate_tp'), tool_calls=None), {'role': 'system', 'content': \"The result of the function calling with function calculate_tp has become {'tp': [], 'info': []}. Do not mention the name of the parameters of the functions directly in the final answer. Instead, briefly explain them and use other meaningfuly related synonyms. Now generate a proper response\"}, {'role': 'system', 'content': \"Don't make assumptions about what values to plug into functions. Ask for clarification if a user request is ambiguous.\\nYou are a trading assistant called “TenSurf Brain”, you are the brain behind “TenSurf Hub” charting platform with the following guidelines:\\nTool usage: Make sure to restrict your function calls to the provided list of functions. Do not assume the availability of any functions beyond those explicitly listed. Ensure that your implementations and queries adhere strictly to the functions specified.\\nAccuracy: Ensure that the information provided is accurate and up-to-date. Use reliable financial data and current market analysis to inform your responses.\\nClarity: Deliver answers in a clear, concise, and understandable manner. Avoid jargon unless the user demonstrates familiarity with financial terms.\\nPromptness: Aim to provide responses quickly to facilitate timely decision-making for users.\\nConfidentiality: Do not ask for or handle personal investment details or sensitive financial information.\"}, {'role': 'user', 'content': 'How much would be the take-profit with the stop loss of 10 and direction of 1?'}, ChatCompletionMessage(content=None, role='assistant', function_call=FunctionCall(arguments='{\\n  \"symbol\": \"NQ\",\\n  \"direction\": \"1\",\\n  \"stoploss\": 10\\n}', name='calculate_tp'), tool_calls=None), {'role': 'system', 'content': \"The result of the function calling with function calculate_tp has become {'tp': [], 'info': []}. Do not mention the name of the parameters of the functions directly in the final answer. Instead, briefly explain them and use other meaningfuly related synonyms. Now generate a proper response\"}, {'role': 'system', 'content': \"Don't make assumptions about what values to plug into functions. Ask for clarification if a user request is ambiguous.\\nYou are a trading assistant called “TenSurf Brain”, you are the brain behind “TenSurf Hub” charting platform with the following guidelines:\\nTool usage: Make sure to restrict your function calls to the provided list of functions. Do not assume the availability of any functions beyond those explicitly listed. Ensure that your implementations and queries adhere strictly to the functions specified.\\nAccuracy: Ensure that the information provided is accurate and up-to-date. Use reliable financial data and current market analysis to inform your responses.\\nClarity: Deliver answers in a clear, concise, and understandable manner. Avoid jargon unless the user demonstrates familiarity with financial terms.\\nPromptness: Aim to provide responses quickly to facilitate timely decision-making for users.\\nConfidentiality: Do not ask for or handle personal investment details or sensitive financial information.\"}, {'role': 'user', 'content': 'How much would be the take-profit?'}]\n",
      "\n",
      "ChatCompletionMessage(content=None, role='assistant', function_call=FunctionCall(arguments='{\\n  \"symbol\": \"NQ\",\\n  \"direction\": \"1\"\\n}', name='calculate_tp'), tool_calls=None)\n",
      "\n",
      "How much would be the take-profit?    =>    {'response': '', 'symbol': 'NQ', 'file': None, 'function_call': None, 'levels': None}\n"
     ]
    }
   ],
   "source": [
    "# saving the answer of the prompt in a dictionary which its key is the prompt and its value is the answer to that prompt\n",
    "get_bias_results = {}\n",
    "\n",
    "# getting the answer of the prompts\n",
    "# try:\n",
    "\n",
    "for prompt in calculate_tp_prompts:\n",
    "    input_json = {\n",
    "        \"file\": None,\n",
    "        \"new_message\": prompt,\n",
    "        \"history_message\": messages,\n",
    "        \"timezone\": -210,\n",
    "        \"symbol\": \"NQ\",\n",
    "        \"start_datetime\": \"\",\n",
    "        \"end_datetime\": \"\",\n",
    "        \"timeframe\": \"1min\",\n",
    "        \"user_id\": \"1\",\n",
    "    }\n",
    "    output_json = llm_surf(input_json)\n",
    "    print(f\"{prompt}    =>    {output_json}\")\n",
    "    get_bias_results[prompt]=output_json\n",
    "\n",
    "# except Exception as e:\n",
    "#     print(f\"The following exception occured:\\n{e}\")\n",
    "\n",
    "# finally:\n",
    "# saving the answers\n",
    "# with open(\"test_results/detect_trend_test_results.json\", \"w\") as outputfile: \n",
    "#     json.dump(detect_trend_results, outputfile)"
   ]
  },
  {
   "cell_type": "markdown",
   "metadata": {},
   "source": [
    "### Get Bias"
   ]
  },
  {
   "cell_type": "code",
   "execution_count": 28,
   "metadata": {},
   "outputs": [],
   "source": [
    "messages = []\n",
    "\n",
    "get_bias_prompts = [\n",
    "    # Normal Prompts\n",
    "    \"Tell me about the bias of ES on the market.\",\n",
    "    \"What is the current trading bias for ES?\",\n",
    "    # Challenging prompts\n",
    "    \n",
    "]"
   ]
  },
  {
   "cell_type": "code",
   "execution_count": 29,
   "metadata": {},
   "outputs": [
    {
     "name": "stdout",
     "output_type": "stream",
     "text": [
      "[{'role': 'system', 'content': \"Don't make assumptions about what values to plug into functions. Ask for clarification if a user request is ambiguous.\\nYou are a trading assistant called “TenSurf Brain”, you are the brain behind “TenSurf Hub” charting platform with the following guidelines:\\nTool usage: Make sure to restrict your function calls to the provided list of functions. Do not assume the availability of any functions beyond those explicitly listed. Ensure that your implementations and queries adhere strictly to the functions specified.\\nAccuracy: Ensure that the information provided is accurate and up-to-date. Use reliable financial data and current market analysis to inform your responses.\\nClarity: Deliver answers in a clear, concise, and understandable manner. Avoid jargon unless the user demonstrates familiarity with financial terms.\\nPromptness: Aim to provide responses quickly to facilitate timely decision-making for users.\\nConfidentiality: Do not ask for or handle personal investment details or sensitive financial information.\"}, {'role': 'user', 'content': 'Tell me about the bias of ES on the market.'}]\n",
      "\n",
      "ChatCompletionMessage(content=None, role='assistant', function_call=FunctionCall(arguments='{\\n  \"symbol\": \"ES\"\\n}', name='bias_detection'), tool_calls=None)\n",
      "\n",
      "Tell me about the bias of ES on the market.    =>    {'response': '', 'symbol': 'NQ', 'file': None, 'function_call': None, 'levels': None}\n",
      "[{'role': 'system', 'content': \"Don't make assumptions about what values to plug into functions. Ask for clarification if a user request is ambiguous.\\nYou are a trading assistant called “TenSurf Brain”, you are the brain behind “TenSurf Hub” charting platform with the following guidelines:\\nTool usage: Make sure to restrict your function calls to the provided list of functions. Do not assume the availability of any functions beyond those explicitly listed. Ensure that your implementations and queries adhere strictly to the functions specified.\\nAccuracy: Ensure that the information provided is accurate and up-to-date. Use reliable financial data and current market analysis to inform your responses.\\nClarity: Deliver answers in a clear, concise, and understandable manner. Avoid jargon unless the user demonstrates familiarity with financial terms.\\nPromptness: Aim to provide responses quickly to facilitate timely decision-making for users.\\nConfidentiality: Do not ask for or handle personal investment details or sensitive financial information.\"}, {'role': 'user', 'content': 'Tell me about the bias of ES on the market.'}, ChatCompletionMessage(content=None, role='assistant', function_call=FunctionCall(arguments='{\\n  \"symbol\": \"ES\"\\n}', name='bias_detection'), tool_calls=None), {'role': 'system', 'content': \"The result of the function calling with function bias_detection has become {'bias': [-1, 1, 1, 1, 1, 1, -1], 'info': ['Calculated based on weekly VWAP', 'Calculated based on VAL/VAH of volume profile', 'Calculated based on short term trend', 'Calculated based on mid term trend', 'Calculated based on long term trend', 'Calculated based on trend of last hour', 'Calculated based on counter ratio and power ratio'], 'combined_bias': 1}. Do not mention the name of the parameters of the functions directly in the final answer. Instead, briefly explain them and use other meaningfuly related synonyms. Now generate a proper response\"}, {'role': 'system', 'content': \"Don't make assumptions about what values to plug into functions. Ask for clarification if a user request is ambiguous.\\nYou are a trading assistant called “TenSurf Brain”, you are the brain behind “TenSurf Hub” charting platform with the following guidelines:\\nTool usage: Make sure to restrict your function calls to the provided list of functions. Do not assume the availability of any functions beyond those explicitly listed. Ensure that your implementations and queries adhere strictly to the functions specified.\\nAccuracy: Ensure that the information provided is accurate and up-to-date. Use reliable financial data and current market analysis to inform your responses.\\nClarity: Deliver answers in a clear, concise, and understandable manner. Avoid jargon unless the user demonstrates familiarity with financial terms.\\nPromptness: Aim to provide responses quickly to facilitate timely decision-making for users.\\nConfidentiality: Do not ask for or handle personal investment details or sensitive financial information.\"}, {'role': 'user', 'content': 'What is the current trading bias for ES?'}]\n",
      "\n",
      "ChatCompletionMessage(content=None, role='assistant', function_call=FunctionCall(arguments='{\\n  \"symbol\": \"ES\"\\n}', name='bias_detection'), tool_calls=None)\n",
      "\n",
      "What is the current trading bias for ES?    =>    {'response': '', 'symbol': 'NQ', 'file': None, 'function_call': None, 'levels': None}\n"
     ]
    }
   ],
   "source": [
    "# saving the answer of the prompt in a dictionary which its key is the prompt and its value is the answer to that prompt\n",
    "get_bias_results = {}\n",
    "\n",
    "# getting the answer of the prompts\n",
    "# try:\n",
    "\n",
    "for prompt in get_bias_prompts:\n",
    "    input_json = {\n",
    "        \"file\": None,\n",
    "        \"new_message\": prompt,\n",
    "        \"history_message\": messages,\n",
    "        \"timezone\": -210,\n",
    "        \"symbol\": \"NQ\",\n",
    "        \"start_datetime\": \"\",\n",
    "        \"end_datetime\": \"\",\n",
    "        \"timeframe\": \"1min\",\n",
    "        \"user_id\": \"1\",\n",
    "    }\n",
    "    output_json = llm_surf(input_json)\n",
    "    print(f\"{prompt}    =>    {output_json}\")\n",
    "    get_bias_results[prompt]=output_json\n",
    "\n",
    "# except Exception as e:\n",
    "#     print(f\"The following exception occured:\\n{e}\")\n",
    "\n",
    "# finally:\n",
    "# saving the answers\n",
    "# with open(\"test_results/detect_trend_test_results.json\", \"w\") as outputfile: \n",
    "#     json.dump(detect_trend_results, outputfile)"
   ]
  },
  {
   "cell_type": "markdown",
   "metadata": {},
   "source": [
    "### Introduction"
   ]
  },
  {
   "cell_type": "code",
   "execution_count": null,
   "metadata": {},
   "outputs": [],
   "source": [
    "messages = []\n",
    "\n",
    "introduction_prompts = [\n",
    "    # Normal Prompts\n",
    "    \"Who are you?\",\n",
    "    \"What are you?\",\n",
    "    \"What can you do for me?\",\n",
    "    \"What are your functionalities?\",\n",
    "    \"How can you help me?\",\n",
    "    # Challenging prompts\n",
    "    \"Hi!\",\n",
    "    \"Good Morning!\",\n",
    "    \"What's up!?\",\n",
    "    \"How can I start?\",\n",
    "    \"Please help me!\",\n",
    "    \"What is TenSurf?\",\n",
    "    \"How could you help me?\",\n",
    "    \"What about market today?\",\n",
    "    \"Could you guide me on how to use tensurf?\",\n",
    "]"
   ]
  },
  {
   "cell_type": "code",
   "execution_count": null,
   "metadata": {},
   "outputs": [
    {
     "name": "stdout",
     "output_type": "stream",
     "text": [
      "Who are you?    =>    I'm here to help with trading and financial market queries. If you think your ask relates to trading and isn't addressed, please report a bug using the bottom right panel.\n",
      "What are you?    =>    I'm here to help with trading and financial market queries. If you think your ask relates to trading and isn't addressed, please report a bug using the bottom right panel.\n",
      "\n",
      "ChatCompletionMessage(content=None, role='assistant', function_call=FunctionCall(arguments='{}', name='introduction'), tool_calls=None)\n",
      "\n",
      "What can you do for me?    =>    ('I\\'m TenSurf Brain, your AI trading assistant within TenSurf Hub platform, designed to enhance your trading experience with advanced analytical and data-driven tools:\\n\\n1. Trend Detection: I can analyze and report the trend of financial instruments over your specified period. For example, ask me, \"What is the trend of NQ stock from May-1-2024 12:00:00 until May-5-2024 12:00:00?\"\\n\\n2. Support and Resistance Levels: I identify and score key price levels that may influence market behavior based on historical data. Try, \"Calculate Support and Resistance Levels based on YM by looking back up to the past 10 days and a timeframe of 1 hour.\"\\n\\n3. Stop Loss Calculation: I determine optimal stop loss points to help you manage risk effectively. Query me like, \"How much would be the optimal stop loss for a short trade on NQ?\"\\n\\n4. Take Profit Calculation: I calculate the ideal exit points for securing profits before a potential trend reversal. For example, \"How much would be the take-profit of a short position on Dow Jones with the stop loss of 10 points?\"\\n\\n5. Trading Bias Identification: I analyze market conditions to detect the best trading biases and directions, whether for long or short positions. Ask me, \"What is the current trading bias for ES?\"\\n\\nEach tool is tailored to help you make smarter, faster, and more informed trading decisions. Enjoy!', {})\n",
      "What are your functionalities?    =>    ('As TenSurf Brain, I offer several functionalities to assist you in your trading activities. Here are some of the key functionalities I provide:\\n\\n1. Trend Analysis: I can analyze the trend of a specified financial instrument over a given time range. This helps you gauge the general direction of a security or market index. I provide a numerical value that indicates the trend intensity and direction.\\n\\n2. Support and Resistance Calculation: I can calculate support and resistance levels for a financial instrument based on candlestick charts. These levels represent price points where the odds favor a pause or reversal of a prevailing trend. I provide the levels, their start and end timestamps, and their respective strengths.\\n\\n3. Stop Loss Calculation: I can calculate stop loss levels for your trades based on different methods such as swing, minmax, ATR (Average True Range), and more. Stop loss helps limit potential losses in a position. I provide the stop loss value, the risk on the trade, and additional information about the calculation method.\\n\\n4. Take Profit Calculation: I can calculate take profit levels for your trades. Take profit represents the price level at which you aim to close a position to secure profits before the market reverses. I provide the take profit prices and information about the calculation method.\\n\\n5. Bias Detection: I can help you detect the trading bias for a financial instrument using various methods such as trend detection, moving averages, volume profile, and more. This helps you determine the appropriate entry point for a long or short trade.\\n\\nPlease let me know if you would like to explore any specific functionality or if you have any other questions.', {})\n",
      "How can you help me?    =>    ('As TenSurf Brain, I can help you in several ways to enhance your trading activities. Here are some ways I can assist you:\\n\\n1. Trend Analysis: I can analyze the trend of a specific financial instrument over a given time range. By providing a numerical value indicating the trend intensity and direction, I can help you understand the overall market sentiment and make informed trading decisions.\\n\\n2. Support and Resistance Calculation: I can calculate support and resistance levels for a financial instrument based on historical price data. These levels are crucial in identifying potential entry and exit points for your trades. By providing the levels, their strengths, and relevant timestamps, I can assist you in determining optimal trading strategies.\\n\\n3. Stop Loss Calculation: I can calculate stop loss levels for your trades using various methods such as swing, minmax, and ATR (Average True Range). Stop loss helps limit potential losses in a position, and I can provide you with the stop loss value, the associated risk, and information about the calculation method.\\n\\n4. Take Profit Calculation: I can calculate take profit levels for your trades, which represent the price at which you aim to close a position to secure profits. By considering factors such as market conditions and key levels, I can provide you with take profit prices and information about the calculation method.\\n\\n5. Bias Detection: I can help you detect the trading bias for a financial instrument using different methods such as trend detection, moving averages, and volume profile analysis. This can assist you in identifying the appropriate entry point for a long or short trade.\\n\\nBy utilizing these functionalities, you can gain valuable insights into the market, make more informed trading decisions, and potentially improve your trading performance. Please let me know if you would like to explore any specific functionality or if you have any other questions.', {})\n",
      "Hi!    =>    I'm here to help with trading and financial market queries. If you think your ask relates to trading and isn't addressed, please report a bug using the bottom right panel.\n",
      "Good Morning!    =>    I'm here to help with trading and financial market queries. If you think your ask relates to trading and isn't addressed, please report a bug using the bottom right panel.\n",
      "What's up!?    =>    I'm here to help with trading and financial market queries. If you think your ask relates to trading and isn't addressed, please report a bug using the bottom right panel.\n",
      "How can I start?    =>    (\"To get started with TenSurf Brain, you can follow these steps:\\n\\n1. Specify the Financial Instrument: Let me know the ticker symbol of the financial instrument you want to analyze. You can choose from symbols such as NQ, ES, GC, YM, RTY, or CL.\\n\\n2. Select a Functionality: Decide which functionality you would like to use. You can choose from trend analysis, support and resistance calculation, stop loss calculation, take profit calculation, or bias detection.\\n\\n3. Provide Additional Parameters: Depending on the functionality you selected, you may need to provide additional parameters such as the time range for trend analysis, the lookback period for support and resistance calculation, the method for stop loss or take profit calculation, and the direction of your trade (long or short).\\n\\n4. Receive Results: Once you have provided the necessary information, I will process your request and provide you with the relevant results. These may include trend intensity and direction, support and resistance levels, stop loss values, take profit prices, or trading bias information.\\n\\n5. Analyze and Make Informed Decisions: Use the information and insights provided by TenSurf Brain to analyze the market and make informed trading decisions. Consider the trend analysis, support and resistance levels, stop loss and take profit values, and trading bias to develop your trading strategies.\\n\\nRemember, TenSurf Brain is here to assist you, but it's important to conduct your own research and analysis before making any trading decisions. If you have any questions or need further assistance, feel free to ask.\", {})\n",
      "Please help me!    =>    I'm here to help with trading and financial market queries. If you think your ask relates to trading and isn't addressed, please report a bug using the bottom right panel.\n",
      "What is TenSurf?    =>    I'm here to help with trading and financial market queries. If you think your ask relates to trading and isn't addressed, please report a bug using the bottom right panel.\n",
      "How could you help me?    =>    ('As TenSurf Brain, I can help you in various ways to enhance your trading experience and decision-making process. Here are some ways I can assist you:\\n\\n1. Trend Analysis: I can analyze the trend of a specific financial instrument over a given time range. By evaluating historical price data, I can provide you with insights into the direction and intensity of the trend. This information can help you identify potential opportunities and make more informed trading decisions.\\n\\n2. Support and Resistance Levels: I can calculate support and resistance levels for a financial instrument. These levels indicate price points where the market has historically shown a tendency to pause, reverse, or continue a trend. By considering these levels, you can determine potential entry and exit points for your trades.\\n\\n3. Stop Loss Calculation: I can calculate stop loss levels for your trades using various methods such as swing, minmax, and ATR (Average True Range). Stop loss levels help you limit potential losses by defining a price level at which you would exit a trade. By considering factors such as volatility and historical price movements, I can assist you in setting appropriate stop loss levels.\\n\\n4. Take Profit Calculation: I can calculate take profit levels for your trades. Take profit levels represent price levels at which you would like to close a trade to secure profits. By considering factors such as market conditions and key levels, I can help you determine optimal take profit levels.\\n\\n5. Bias Detection: I can assist you in detecting the trading bias for a financial instrument using various methods such as trend detection, moving averages, volume profile analysis, and more. Understanding the prevailing bias can help you align your trades with the overall market sentiment.\\n\\nBy utilizing these functionalities, you can gain valuable insights, identify potential trading opportunities, manage risk effectively, and improve your trading strategies. Please let me know if you would like to explore any specific functionality or if you have any other questions.', {})\n",
      "\n",
      "ChatCompletionMessage(content=None, role='assistant', function_call=FunctionCall(arguments='{\\n  \"symbol\": \"NQ\",\\n  \"lookback\": \"1d\"\\n}', name='detect_trend'), tool_calls=None)\n",
      "\n",
      "Error reading data from InfluxDB: ('Connection broken: IncompleteRead(5 bytes read, 4091 more expected)', IncompleteRead(5 bytes read, 4091 more expected))\n",
      " Query is from(bucket:\"bronze\") \n",
      "                |> range(start: time(v:2024-05-12T20:00:51Z), stop: time(v: 2024-05-13T20:00:51Z))\n",
      "                |> filter(fn: (r) => r[\"_measurement\"] == \"NQ\" and                    r[\"timeframe\"] == \"1min\" and                    r[\"liq_threshold\"] == \"-1\")\n",
      "                |> pivot(rowKey:[\"_time\"], columnKey:[\"_field\"], valueColumn:\"_value\")\n",
      "                \n",
      "There is no data for this period of time...\n",
      "What about market today?    =>    (\"Based on the analysis of the NQ symbol over the past day, there is no significant trend detected. This means that the market is currently in a neutral state without a clear directional bias. It's important to note that market conditions can change rapidly, so it's advisable to stay updated with real-time data and analysis to make informed trading decisions. If you have any specific questions or need further assistance, feel free to ask.\", {})\n",
      "Could you guide me on how to use tensurf?    =>    I'm here to help with trading and financial market queries. If you think your ask relates to trading and isn't addressed, please report a bug using the bottom right panel.\n"
     ]
    }
   ],
   "source": [
    "# saving the answer of the prompt in a dictionary which its key is the prompt and its value is the answer to that prompt\n",
    "introduction_results = {}\n",
    "\n",
    "# # getting the answer of the prompts\n",
    "# try:\n",
    "for prompt in introduction_prompts:\n",
    "    input_json = {\n",
    "        \"file_path\": None,\n",
    "        \"prompt\": prompt,\n",
    "        \"messages\": messages,\n",
    "        \"front_json\": input_filter.front_end_json_sample\n",
    "    }\n",
    "    output_json = main.main(input_json)\n",
    "    print(f\"{prompt}    =>    {output_json}\")\n",
    "    introduction_results[prompt]=output_json\n",
    "\n",
    "# except Exception as e:\n",
    "#     print(f\"The following exception occured:\\n{e}\")\n",
    "\n",
    "# finally:\n",
    "# saving the answers\n",
    "with open(\"test_results/introduction_results.json\", \"w\") as outputfile: \n",
    "    json.dump(introduction_results, outputfile)"
   ]
  },
  {
   "cell_type": "markdown",
   "metadata": {},
   "source": [
    "## Long Chat Scenario"
   ]
  },
  {
   "cell_type": "code",
   "execution_count": null,
   "metadata": {},
   "outputs": [],
   "source": [
    "long_chat_scenario_prompts = [\n",
    "    # Normal Prompts\n",
    "    \"Hello\",\n",
    "    \"Who are you?\",\n",
    "    \"What can you do for me?\",\n",
    "    \"What is the trend of NQ?\",\n",
    "    \"For the past week\",\n",
    "    \"Can you also calculate the sr of it, too?\",\n",
    "    \"But how about the trend of it for the last month?\",\n",
    "    \"But how about the trend of it for the last year?\",\n",
    "    \"But how about the trend of it for the last day?\",\n",
    "    \"But how about the trend of it for the last hour?\",\n",
    "    \"Hi!\",\n",
    "    \"Can you calculate the sr of it?\",\n",
    "    \"What else can you do?\",\n",
    "    \"So how would be the stop loss for the short position?\",\n",
    "    \"How about long ones?\",\n",
    "    \"So what would be the take profit based on this stop loss?\",\n",
    "    # Challenging prompts\n",
    "    \n",
    "]"
   ]
  },
  {
   "cell_type": "code",
   "execution_count": null,
   "metadata": {},
   "outputs": [
    {
     "name": "stdout",
     "output_type": "stream",
     "text": [
      "Hello    =>    I'm here to help with trading and financial market queries. If you think your ask relates to trading and isn't addressed, please report a bug using the bottom right panel.\n",
      "\n",
      "Who are you?    =>    I'm here to help with trading and financial market queries. If you think your ask relates to trading and isn't addressed, please report a bug using the bottom right panel.\n",
      "\n",
      "\n",
      "ChatCompletionMessage(content=None, role='assistant', function_call=FunctionCall(arguments='{}', name='introduction'), tool_calls=None)\n",
      "\n",
      "What can you do for me?    =>    ('I\\'m TenSurf Brain, your AI trading assistant within TenSurf Hub platform, designed to enhance your trading experience with advanced analytical and data-driven tools:\\n\\n1. Trend Detection: I can analyze and report the trend of financial instruments over your specified period. For example, ask me, \"What is the trend of NQ stock from May-1-2024 12:00:00 until May-5-2024 12:00:00?\"\\n\\n2. Support and Resistance Levels: I identify and score key price levels that may influence market behavior based on historical data. Try, \"Calculate Support and Resistance Levels based on YM by looking back up to the past 10 days and a timeframe of 1 hour.\"\\n\\n3. Stop Loss Calculation: I determine optimal stop loss points to help you manage risk effectively. Query me like, \"How much would be the optimal stop loss for a short trade on NQ?\"\\n\\n4. Take Profit Calculation: I calculate the ideal exit points for securing profits before a potential trend reversal. For example, \"How much would be the take-profit of a short position on Dow Jones with the stop loss of 10 points?\"\\n\\n5. Trading Bias Identification: I analyze market conditions to detect the best trading biases and directions, whether for long or short positions. Ask me, \"What is the current trading bias for ES?\"\\n\\nEach tool is tailored to help you make smarter, faster, and more informed trading decisions. Enjoy!', {})\n",
      "\n",
      "\n",
      "ChatCompletionMessage(content=None, role='assistant', function_call=FunctionCall(arguments='{\\n  \"symbol\": \"NQ\",\\n  \"lookback\": \"1d\"\\n}', name='detect_trend'), tool_calls=None)\n",
      "\n",
      "What is the trend of NQ?    =>    (\"Based on the analysis of the NQ symbol over the past day, there is a strong bullish (upward) trend detected. This indicates that the market has been showing significant upward momentum. However, please note that market conditions can change rapidly, and it's important to stay updated with real-time data and analysis for making informed trading decisions. If you have any specific questions or need further assistance, feel free to ask.\", {})\n",
      "\n",
      "For the past week    =>    I'm here to help with trading and financial market queries. If you think your ask relates to trading and isn't addressed, please report a bug using the bottom right panel.\n",
      "\n",
      "\n",
      "ChatCompletionMessage(content=None, role='assistant', function_call=FunctionCall(arguments='{\\n  \"symbol\": \"NQ\",\\n  \"lookback_days\": \"10 days\"\\n}', name='calculate_sr'), tool_calls=None)\n",
      "\n",
      "Can you also calculate the sr of it, too?    =>    (\"Based on historical price data, I have calculated the support and resistance levels for the NQ symbol over the past 10 days. These levels indicate areas where the price is likely to encounter support or resistance. The associated scores indicate the strength or significance of each level, with higher scores indicating stronger levels.\\n\\nPlease note that support and resistance levels are dynamic and can change over time as market conditions evolve. It's important to regularly update your analysis and consider other factors when making trading decisions.\\n\\nIf you have any further questions or need additional assistance, feel free to ask.\", {'levels_prices': [18067.25, 18072.5, 18103.75, 18108.75, 18348.0, 18188.5, 18228.75, 18252.0, 18300.75], 'levels_start_timestamps': [Timestamp('2024-05-06 09:00:00'), Timestamp('2024-05-08 05:00:00'), Timestamp('2024-05-09 02:00:00'), Timestamp('2024-05-09 06:00:00'), Timestamp('2024-05-10 06:00:00'), Timestamp('2024-05-10 07:00:00'), Timestamp('2024-05-12 15:00:00'), Timestamp('2024-05-12 20:00:00'), Timestamp('2024-05-12 23:00:00')], 'levels_end_timestamps': [Timestamp('2024-05-13 02:58:00'), Timestamp('2024-05-13 02:58:00'), Timestamp('2024-05-13 02:58:00'), Timestamp('2024-05-13 02:58:00'), Timestamp('2024-05-13 02:58:00'), Timestamp('2024-05-13 02:58:00'), Timestamp('2024-05-13 02:58:00'), Timestamp('2024-05-13 02:58:00'), Timestamp('2024-05-13 02:58:00')], 'levels_scores': [8.7, 6.1, 7.4, 4.4, 5.7, 4.8, 1.7, 2.9, 2.4]})\n",
      "\n",
      "\n",
      "ChatCompletionMessage(content=None, role='assistant', function_call=FunctionCall(arguments='{\\n  \"symbol\": \"NQ\",\\n  \"lookback\": \"1 month\"\\n}', name='detect_trend'), tool_calls=None)\n",
      "\n",
      "But how about the trend of it for the last month?    =>    ('', {})\n",
      "\n",
      "\n",
      "ChatCompletionMessage(content=None, role='assistant', function_call=FunctionCall(arguments='{\\n  \"symbol\": \"NQ\",\\n  \"lookback\": \"1 year\"\\n}', name='detect_trend'), tool_calls=None)\n",
      "\n",
      "Error reading data from InfluxDB: ('Connection broken: IncompleteRead(1781 bytes read, 2315 more expected)', IncompleteRead(1781 bytes read, 2315 more expected))\n",
      " Query is from(bucket:\"bronze\") \n",
      "                |> range(start: time(v:2023-05-13T20:00:51Z), stop: time(v: 2024-05-13T20:00:51Z))\n",
      "                |> filter(fn: (r) => r[\"_measurement\"] == \"NQ\" and                    r[\"timeframe\"] == \"1min\" and                    r[\"liq_threshold\"] == \"-1\")\n",
      "                |> pivot(rowKey:[\"_time\"], columnKey:[\"_field\"], valueColumn:\"_value\")\n",
      "                \n",
      "There is no data for this period of time...\n",
      "But how about the trend of it for the last year?    =>    ('', {})\n",
      "\n",
      "\n",
      "ChatCompletionMessage(content=None, role='assistant', function_call=FunctionCall(arguments='{\\n  \"symbol\": \"NQ\",\\n  \"lookback\": \"1d\"\\n}', name='detect_trend'), tool_calls=None)\n",
      "\n",
      "But how about the trend of it for the last day?    =>    ('', {})\n",
      "\n",
      "\n",
      "ChatCompletionMessage(content=None, role='assistant', function_call=FunctionCall(arguments='{\\n  \"symbol\": \"NQ\",\\n  \"lookback\": \"1h\"\\n}', name='detect_trend'), tool_calls=None)\n",
      "\n",
      "from(bucket:\"bronze\") \n",
      "                |> range(start: time(v:2024-05-13T19:00:51Z), stop: time(v: 2024-05-13T20:00:51Z))\n",
      "                |> filter(fn: (r) => r[\"_measurement\"] == \"NQ\" and                    r[\"timeframe\"] == \"1min\" and                    r[\"liq_threshold\"] == \"-1\")\n",
      "                |> pivot(rowKey:[\"_time\"], columnKey:[\"_field\"], valueColumn:\"_value\")\n",
      "                \n",
      "[Error] result output is not DataFrame\n",
      "There is no data for this period of time...\n",
      "But how about the trend of it for the last hour?    =>    ('', {})\n",
      "\n",
      "Hi!    =>    I'm here to help with trading and financial market queries. If you think your ask relates to trading and isn't addressed, please report a bug using the bottom right panel.\n",
      "\n",
      "\n",
      "ChatCompletionMessage(content=None, role='assistant', function_call=FunctionCall(arguments='{\\n  \"symbol\": \"NQ\",\\n  \"lookback_days\": \"10 days\"\\n}', name='calculate_sr'), tool_calls=None)\n",
      "\n",
      "Can you calculate the sr of it?    =>    ('', {'levels_prices': [18067.25, 18072.5, 18103.75, 18108.75, 18348.0, 18188.5, 18228.75, 18252.0, 18300.75], 'levels_start_timestamps': [Timestamp('2024-05-06 09:00:00'), Timestamp('2024-05-08 05:00:00'), Timestamp('2024-05-09 02:00:00'), Timestamp('2024-05-09 06:00:00'), Timestamp('2024-05-10 06:00:00'), Timestamp('2024-05-10 07:00:00'), Timestamp('2024-05-12 15:00:00'), Timestamp('2024-05-12 20:00:00'), Timestamp('2024-05-12 23:00:00')], 'levels_end_timestamps': [Timestamp('2024-05-13 02:58:00'), Timestamp('2024-05-13 02:58:00'), Timestamp('2024-05-13 02:58:00'), Timestamp('2024-05-13 02:58:00'), Timestamp('2024-05-13 02:58:00'), Timestamp('2024-05-13 02:58:00'), Timestamp('2024-05-13 02:58:00'), Timestamp('2024-05-13 02:58:00'), Timestamp('2024-05-13 02:58:00')], 'levels_scores': [8.7, 6.1, 7.4, 4.4, 5.7, 4.8, 1.7, 2.9, 2.4]})\n",
      "\n",
      "What else can you do?    =>    I'm here to help with trading and financial market queries. If you think your ask relates to trading and isn't addressed, please report a bug using the bottom right panel.\n",
      "\n",
      "\n",
      "ChatCompletionMessage(content=None, role='assistant', function_call=FunctionCall(arguments='{\\n  \"symbol\": \"NQ\",\\n  \"method\": \"level\",\\n  \"direction\": \"-1\"\\n}', name='calculate_sl'), tool_calls=None)\n",
      "\n",
      "So how would be the stop loss for the short position?    =>    ('For a short position in NQ, the calculated stop loss levels are as follows:\\n\\n1. Stop Loss 1: 18293.25 (Risk: 5.0 points)\\n   - Calculated based on the level VWAP_Top_Band_2\\n\\n2. Stop Loss 2: 18293.25 (Risk: 5.0 points)\\n   - Calculated based on the level WVWAP_Top_Band_2\\n\\n3. Stop Loss 3: 18298.0 (Risk: 9.75 points)\\n   - Calculated based on the 5-minute support and resistance level starting from 2024-05-13 07:10:00\\n\\n4. Stop Loss 4: 18302.75 (Risk: 14.5 points)\\n   - Calculated based on the level VWAP_Top_Band_3\\n\\n5. Stop Loss 5: 18302.75 (Risk: 14.5 points)\\n   - Calculated based on the level WVWAP_Top_Band_3\\n\\n6. Stop Loss 6: 18306.75 (Risk: 18.5 points)\\n   - Calculated based on the hourly support and resistance level starting from 2024-05-10 09:42:00\\n\\n7. Stop Loss 7: 18312.25 (Risk: 24.0 points)\\n   - Calculated based on the level VWAP_Top_Band_4\\n\\n8. Stop Loss 8: 18312.25 (Risk: 24.0 points)\\n   - Calculated based on the level WVWAP_Top_Band_4\\n\\n9. Stop Loss 9: 18348.0 (Risk: 59.75 points)\\n   - Calculated based on the level Overnight_high\\n\\nThese stop loss levels indicate the price at which you may consider exiting your short position to limit potential losses. The associated risk values represent the potential point loss if the stop loss is triggered. Please note that these levels are calculated based on specific levels and historical data. Adjustments may be necessary based on your trading strategy and risk tolerance.', {})\n",
      "\n",
      "How about long ones?    =>    I'm here to help with trading and financial market queries. If you think your ask relates to trading and isn't addressed, please report a bug using the bottom right panel.\n",
      "\n",
      "\n",
      "ChatCompletionMessage(content=None, role='assistant', function_call=FunctionCall(arguments='{\\n  \"symbol\": \"NQ\",\\n  \"direction\": \"-1\",\\n  \"stoploss\": 18293.25\\n}', name='calculate_tp'), tool_calls=None)\n",
      "\n",
      "So what would be the take profit based on this stop loss?    =>    ('Based on the provided stop loss level of 18293.25 for a short position on NQ, the calculated take profit levels are as follows:\\n\\n1. 18306.75\\n2. 18298.0\\n3. 18274.25\\n4. 18268.25\\n5. 18264.75\\n6. 18255.25\\n7. 18245.75\\n8. 18244.5\\n9. 18243.5\\n10. 18242.25\\n11. 18236.25\\n12. 18233.0\\n13. 18215.0\\n14. 18188.5\\n15. 18181.75\\n\\nThese take profit levels are calculated based on various factors such as support and resistance levels, VWAP (Volume Weighted Average Price), WVWAP (Volume Weighted VWAP), initial balance levels, and value area levels.\\n\\nPlease note that these levels are provided for informational purposes and should be used in conjunction with your own analysis and trading strategy.', {})\n",
      "\n"
     ]
    },
    {
     "ename": "TypeError",
     "evalue": "Object of type Timestamp is not JSON serializable",
     "output_type": "error",
     "traceback": [
      "\u001b[1;31m---------------------------------------------------------------------------\u001b[0m",
      "\u001b[1;31mTypeError\u001b[0m                                 Traceback (most recent call last)",
      "Cell \u001b[1;32mIn[20], line 18\u001b[0m\n\u001b[0;32m     12\u001b[0m \u001b[38;5;66;03m# except Exception as e:\u001b[39;00m\n\u001b[0;32m     13\u001b[0m \u001b[38;5;66;03m#     print(f\"The following exception occured:\\n{e}\")\u001b[39;00m\n\u001b[0;32m     14\u001b[0m \n\u001b[0;32m     15\u001b[0m \u001b[38;5;66;03m# finally:\u001b[39;00m\n\u001b[0;32m     16\u001b[0m \u001b[38;5;66;03m# saving the answers\u001b[39;00m\n\u001b[0;32m     17\u001b[0m \u001b[38;5;28;01mwith\u001b[39;00m \u001b[38;5;28mopen\u001b[39m(\u001b[38;5;124m\"\u001b[39m\u001b[38;5;124mtest_results/long_chat_scenario_test_results.json\u001b[39m\u001b[38;5;124m\"\u001b[39m, \u001b[38;5;124m\"\u001b[39m\u001b[38;5;124mw\u001b[39m\u001b[38;5;124m\"\u001b[39m) \u001b[38;5;28;01mas\u001b[39;00m outfile: \n\u001b[1;32m---> 18\u001b[0m     \u001b[43mjson\u001b[49m\u001b[38;5;241;43m.\u001b[39;49m\u001b[43mdump\u001b[49m\u001b[43m(\u001b[49m\u001b[43mlong_chat_scenario_results\u001b[49m\u001b[43m,\u001b[49m\u001b[43m \u001b[49m\u001b[43moutfile\u001b[49m\u001b[43m)\u001b[49m\n",
      "File \u001b[1;32mc:\\Users\\Sepehr\\anaconda3\\envs\\sepehr\\lib\\json\\__init__.py:179\u001b[0m, in \u001b[0;36mdump\u001b[1;34m(obj, fp, skipkeys, ensure_ascii, check_circular, allow_nan, cls, indent, separators, default, sort_keys, **kw)\u001b[0m\n\u001b[0;32m    173\u001b[0m     iterable \u001b[38;5;241m=\u001b[39m \u001b[38;5;28mcls\u001b[39m(skipkeys\u001b[38;5;241m=\u001b[39mskipkeys, ensure_ascii\u001b[38;5;241m=\u001b[39mensure_ascii,\n\u001b[0;32m    174\u001b[0m         check_circular\u001b[38;5;241m=\u001b[39mcheck_circular, allow_nan\u001b[38;5;241m=\u001b[39mallow_nan, indent\u001b[38;5;241m=\u001b[39mindent,\n\u001b[0;32m    175\u001b[0m         separators\u001b[38;5;241m=\u001b[39mseparators,\n\u001b[0;32m    176\u001b[0m         default\u001b[38;5;241m=\u001b[39mdefault, sort_keys\u001b[38;5;241m=\u001b[39msort_keys, \u001b[38;5;241m*\u001b[39m\u001b[38;5;241m*\u001b[39mkw)\u001b[38;5;241m.\u001b[39miterencode(obj)\n\u001b[0;32m    177\u001b[0m \u001b[38;5;66;03m# could accelerate with writelines in some versions of Python, at\u001b[39;00m\n\u001b[0;32m    178\u001b[0m \u001b[38;5;66;03m# a debuggability cost\u001b[39;00m\n\u001b[1;32m--> 179\u001b[0m \u001b[38;5;28;01mfor\u001b[39;00m chunk \u001b[38;5;129;01min\u001b[39;00m iterable:\n\u001b[0;32m    180\u001b[0m     fp\u001b[38;5;241m.\u001b[39mwrite(chunk)\n",
      "File \u001b[1;32mc:\\Users\\Sepehr\\anaconda3\\envs\\sepehr\\lib\\json\\encoder.py:431\u001b[0m, in \u001b[0;36m_make_iterencode.<locals>._iterencode\u001b[1;34m(o, _current_indent_level)\u001b[0m\n\u001b[0;32m    429\u001b[0m     \u001b[38;5;28;01myield from\u001b[39;00m _iterencode_list(o, _current_indent_level)\n\u001b[0;32m    430\u001b[0m \u001b[38;5;28;01melif\u001b[39;00m \u001b[38;5;28misinstance\u001b[39m(o, \u001b[38;5;28mdict\u001b[39m):\n\u001b[1;32m--> 431\u001b[0m     \u001b[38;5;28;01myield from\u001b[39;00m _iterencode_dict(o, _current_indent_level)\n\u001b[0;32m    432\u001b[0m \u001b[38;5;28;01melse\u001b[39;00m:\n\u001b[0;32m    433\u001b[0m     \u001b[38;5;28;01mif\u001b[39;00m markers \u001b[38;5;129;01mis\u001b[39;00m \u001b[38;5;129;01mnot\u001b[39;00m \u001b[38;5;28;01mNone\u001b[39;00m:\n",
      "File \u001b[1;32mc:\\Users\\Sepehr\\anaconda3\\envs\\sepehr\\lib\\json\\encoder.py:405\u001b[0m, in \u001b[0;36m_make_iterencode.<locals>._iterencode_dict\u001b[1;34m(dct, _current_indent_level)\u001b[0m\n\u001b[0;32m    403\u001b[0m         \u001b[38;5;28;01melse\u001b[39;00m:\n\u001b[0;32m    404\u001b[0m             chunks \u001b[38;5;241m=\u001b[39m _iterencode(value, _current_indent_level)\n\u001b[1;32m--> 405\u001b[0m         \u001b[38;5;28;01myield from\u001b[39;00m chunks\n\u001b[0;32m    406\u001b[0m \u001b[38;5;28;01mif\u001b[39;00m newline_indent \u001b[38;5;129;01mis\u001b[39;00m \u001b[38;5;129;01mnot\u001b[39;00m \u001b[38;5;28;01mNone\u001b[39;00m:\n\u001b[0;32m    407\u001b[0m     _current_indent_level \u001b[38;5;241m-\u001b[39m\u001b[38;5;241m=\u001b[39m \u001b[38;5;241m1\u001b[39m\n",
      "File \u001b[1;32mc:\\Users\\Sepehr\\anaconda3\\envs\\sepehr\\lib\\json\\encoder.py:325\u001b[0m, in \u001b[0;36m_make_iterencode.<locals>._iterencode_list\u001b[1;34m(lst, _current_indent_level)\u001b[0m\n\u001b[0;32m    323\u001b[0m         \u001b[38;5;28;01melse\u001b[39;00m:\n\u001b[0;32m    324\u001b[0m             chunks \u001b[38;5;241m=\u001b[39m _iterencode(value, _current_indent_level)\n\u001b[1;32m--> 325\u001b[0m         \u001b[38;5;28;01myield from\u001b[39;00m chunks\n\u001b[0;32m    326\u001b[0m \u001b[38;5;28;01mif\u001b[39;00m newline_indent \u001b[38;5;129;01mis\u001b[39;00m \u001b[38;5;129;01mnot\u001b[39;00m \u001b[38;5;28;01mNone\u001b[39;00m:\n\u001b[0;32m    327\u001b[0m     _current_indent_level \u001b[38;5;241m-\u001b[39m\u001b[38;5;241m=\u001b[39m \u001b[38;5;241m1\u001b[39m\n",
      "File \u001b[1;32mc:\\Users\\Sepehr\\anaconda3\\envs\\sepehr\\lib\\json\\encoder.py:405\u001b[0m, in \u001b[0;36m_make_iterencode.<locals>._iterencode_dict\u001b[1;34m(dct, _current_indent_level)\u001b[0m\n\u001b[0;32m    403\u001b[0m         \u001b[38;5;28;01melse\u001b[39;00m:\n\u001b[0;32m    404\u001b[0m             chunks \u001b[38;5;241m=\u001b[39m _iterencode(value, _current_indent_level)\n\u001b[1;32m--> 405\u001b[0m         \u001b[38;5;28;01myield from\u001b[39;00m chunks\n\u001b[0;32m    406\u001b[0m \u001b[38;5;28;01mif\u001b[39;00m newline_indent \u001b[38;5;129;01mis\u001b[39;00m \u001b[38;5;129;01mnot\u001b[39;00m \u001b[38;5;28;01mNone\u001b[39;00m:\n\u001b[0;32m    407\u001b[0m     _current_indent_level \u001b[38;5;241m-\u001b[39m\u001b[38;5;241m=\u001b[39m \u001b[38;5;241m1\u001b[39m\n",
      "File \u001b[1;32mc:\\Users\\Sepehr\\anaconda3\\envs\\sepehr\\lib\\json\\encoder.py:325\u001b[0m, in \u001b[0;36m_make_iterencode.<locals>._iterencode_list\u001b[1;34m(lst, _current_indent_level)\u001b[0m\n\u001b[0;32m    323\u001b[0m         \u001b[38;5;28;01melse\u001b[39;00m:\n\u001b[0;32m    324\u001b[0m             chunks \u001b[38;5;241m=\u001b[39m _iterencode(value, _current_indent_level)\n\u001b[1;32m--> 325\u001b[0m         \u001b[38;5;28;01myield from\u001b[39;00m chunks\n\u001b[0;32m    326\u001b[0m \u001b[38;5;28;01mif\u001b[39;00m newline_indent \u001b[38;5;129;01mis\u001b[39;00m \u001b[38;5;129;01mnot\u001b[39;00m \u001b[38;5;28;01mNone\u001b[39;00m:\n\u001b[0;32m    327\u001b[0m     _current_indent_level \u001b[38;5;241m-\u001b[39m\u001b[38;5;241m=\u001b[39m \u001b[38;5;241m1\u001b[39m\n",
      "File \u001b[1;32mc:\\Users\\Sepehr\\anaconda3\\envs\\sepehr\\lib\\json\\encoder.py:438\u001b[0m, in \u001b[0;36m_make_iterencode.<locals>._iterencode\u001b[1;34m(o, _current_indent_level)\u001b[0m\n\u001b[0;32m    436\u001b[0m         \u001b[38;5;28;01mraise\u001b[39;00m \u001b[38;5;167;01mValueError\u001b[39;00m(\u001b[38;5;124m\"\u001b[39m\u001b[38;5;124mCircular reference detected\u001b[39m\u001b[38;5;124m\"\u001b[39m)\n\u001b[0;32m    437\u001b[0m     markers[markerid] \u001b[38;5;241m=\u001b[39m o\n\u001b[1;32m--> 438\u001b[0m o \u001b[38;5;241m=\u001b[39m \u001b[43m_default\u001b[49m\u001b[43m(\u001b[49m\u001b[43mo\u001b[49m\u001b[43m)\u001b[49m\n\u001b[0;32m    439\u001b[0m \u001b[38;5;28;01myield from\u001b[39;00m _iterencode(o, _current_indent_level)\n\u001b[0;32m    440\u001b[0m \u001b[38;5;28;01mif\u001b[39;00m markers \u001b[38;5;129;01mis\u001b[39;00m \u001b[38;5;129;01mnot\u001b[39;00m \u001b[38;5;28;01mNone\u001b[39;00m:\n",
      "File \u001b[1;32mc:\\Users\\Sepehr\\anaconda3\\envs\\sepehr\\lib\\json\\encoder.py:179\u001b[0m, in \u001b[0;36mJSONEncoder.default\u001b[1;34m(self, o)\u001b[0m\n\u001b[0;32m    160\u001b[0m \u001b[38;5;28;01mdef\u001b[39;00m \u001b[38;5;21mdefault\u001b[39m(\u001b[38;5;28mself\u001b[39m, o):\n\u001b[0;32m    161\u001b[0m \u001b[38;5;250m    \u001b[39m\u001b[38;5;124;03m\"\"\"Implement this method in a subclass such that it returns\u001b[39;00m\n\u001b[0;32m    162\u001b[0m \u001b[38;5;124;03m    a serializable object for ``o``, or calls the base implementation\u001b[39;00m\n\u001b[0;32m    163\u001b[0m \u001b[38;5;124;03m    (to raise a ``TypeError``).\u001b[39;00m\n\u001b[1;32m   (...)\u001b[0m\n\u001b[0;32m    177\u001b[0m \n\u001b[0;32m    178\u001b[0m \u001b[38;5;124;03m    \"\"\"\u001b[39;00m\n\u001b[1;32m--> 179\u001b[0m     \u001b[38;5;28;01mraise\u001b[39;00m \u001b[38;5;167;01mTypeError\u001b[39;00m(\u001b[38;5;124mf\u001b[39m\u001b[38;5;124m'\u001b[39m\u001b[38;5;124mObject of type \u001b[39m\u001b[38;5;132;01m{\u001b[39;00mo\u001b[38;5;241m.\u001b[39m\u001b[38;5;18m__class__\u001b[39m\u001b[38;5;241m.\u001b[39m\u001b[38;5;18m__name__\u001b[39m\u001b[38;5;132;01m}\u001b[39;00m\u001b[38;5;124m \u001b[39m\u001b[38;5;124m'\u001b[39m\n\u001b[0;32m    180\u001b[0m                     \u001b[38;5;124mf\u001b[39m\u001b[38;5;124m'\u001b[39m\u001b[38;5;124mis not JSON serializable\u001b[39m\u001b[38;5;124m'\u001b[39m)\n",
      "\u001b[1;31mTypeError\u001b[0m: Object of type Timestamp is not JSON serializable"
     ]
    }
   ],
   "source": [
    "# saving the answer of the prompt in a dictionary which its key is the prompt and its value is the answer to that prompt\n",
    "long_chat_scenario_results = {}\n",
    "\n",
    "# # getting the answer of the prompts\n",
    "# messages = []\n",
    "# try:\n",
    "for prompt in long_chat_scenario_prompts:\n",
    "    input_json = {\n",
    "        \"file_path\": None,\n",
    "        \"prompt\": prompt,\n",
    "        \"messages\": messages,\n",
    "        \"front_json\": input_filter.front_end_json_sample\n",
    "    }\n",
    "    output_json = main.main(input_json)\n",
    "    print(f\"{prompt}    =>    {output_json}\\n\")\n",
    "    long_chat_scenario_results[prompt]=output_json\n",
    "\n",
    "# except Exception as e:\n",
    "#     print(f\"The following exception occured:\\n{e}\")\n",
    "\n",
    "# finally:\n",
    "# saving the answers\n",
    "with open(\"test_results/long_chat_scenario_test_results.json\", \"w\") as outputfile: \n",
    "    json.dump(long_chat_scenario_results, outputfile)"
   ]
  },
  {
   "cell_type": "markdown",
   "metadata": {},
   "source": [
    "## Parallel Function Calling"
   ]
  },
  {
   "cell_type": "code",
   "execution_count": null,
   "metadata": {},
   "outputs": [],
   "source": [
    "parallel_function_calling_prompts = [\n",
    "    # Normal Prompts\n",
    "    \"What is the ternd and sr of NQ?\",\n",
    "    # Challenging prompts\n",
    "    \n",
    "]"
   ]
  },
  {
   "cell_type": "code",
   "execution_count": null,
   "metadata": {},
   "outputs": [],
   "source": [
    "# saving the answer of the prompt in a dictionary which its key is the prompt and its value is the answer to that prompt\n",
    "parallel_function_calling_results = {}\n",
    "\n",
    "# # getting the answer of the prompts\n",
    "# try:\n",
    "for prompt in parallel_function_calling_prompts:\n",
    "    input_json = {\n",
    "        \"file_path\": None,\n",
    "        \"prompt\": prompt,\n",
    "        \"messages\": messages,\n",
    "        \"front_json\": input_filter.front_end_json_sample\n",
    "    }\n",
    "    output_json = main.main(input_json)\n",
    "    print(f\"{prompt}    =>    {output_json}\")\n",
    "    parallel_function_calling_results[prompt]=output_json\n",
    "\n",
    "# except Exception as e:\n",
    "#     print(f\"The following exception occured:\\n{e}\")\n",
    "\n",
    "# finally:\n",
    "# saving the answers\n",
    "with open(\"test_results/parallel_function_calling_test_results.json\", \"w\") as outputfile: \n",
    "    json.dump(parallel_function_calling_results, outputfile)"
   ]
  },
  {
   "cell_type": "markdown",
   "metadata": {},
   "source": [
    "## Unit Test"
   ]
  },
  {
   "cell_type": "markdown",
   "metadata": {},
   "source": [
    "# File"
   ]
  },
  {
   "cell_type": "code",
   "execution_count": null,
   "metadata": {},
   "outputs": [],
   "source": [
    "# Define the list of file paths and prompts\n",
    "messages = []\n",
    "\n",
    "file_paths = [\"samplefiles/TjqcZqip.png\", 'samplefiles/applyjobs.xlsx', 'samplefiles/paper.docx',\n",
    "              'samplefiles/sample.pdf', 'samplefiles/transcription.txt', 'samplefiles/english.mp3', None]\n",
    "\n",
    "prompts = [\"what is the main idea of this file?\",\n",
    "           \"what is the main idea of this file?\",\n",
    "           \"what is the main idea of this file?\",\n",
    "           \"what is the main idea of this file?\",\n",
    "           \"what is the main idea of this file?\",\n",
    "           \"what is the main idea of this file?\",\n",
    "           \"What is the trend of NQ stock from 3/10/2023 15:45:30 until 3/11/2023 15:45:30?\"]\n",
    "\n",
    "# Iterate over file_paths and prompts and run the code\n",
    "for file_path, prompt in zip(file_paths, prompts):\n",
    "    input_json = {\n",
    "        \"file_path\": file_path,\n",
    "        \"prompt\": prompt,\n",
    "        \"messages\": messages,\n",
    "        \"front_json\": input_filter.front_end_json_sample\n",
    "    }\n",
    "    output_json = main.main(input_json)\n",
    "    print(f\"{prompt}    =>    {output_json}\")\n",
    "# except Exception as e:\n",
    "#     print(f\"An error occurred: {e}\")"
   ]
  },
  {
   "cell_type": "code",
   "execution_count": 3,
   "metadata": {},
   "outputs": [
    {
     "name": "stdout",
     "output_type": "stream",
     "text": [
      "What is the speed of light?    =>    I'm here to help with trading and financial market queries. If you think your ask relates to trading and isn't addressed, please report a bug using the bottom right panel.\n",
      "tell me about english teaching    =>    I'm here to help with trading and financial market queries. If you think your ask relates to trading and isn't addressed, please report a bug using the bottom right panel.\n"
     ]
    }
   ],
   "source": [
    "irrelevant_prompts = [\n",
    "    # Normal Prompts\n",
    "    \"What is the speed of light?\",\n",
    "    \"tell me about english teaching\",\n",
    "    # Challenging prompts\n",
    "    \n",
    "]\n",
    "\n",
    "# saving the answer of the prompt in a dictionary which its key is the prompt and its value is the answer to that prompt\n",
    "irrelevant_results = {}\n",
    "\n",
    "# # getting the answer of the prompts\n",
    "# try:\n",
    "for prompt in irrelevant_prompts:\n",
    "    input_json = {\n",
    "        \"file_path\": file_path,\n",
    "        \"prompt\": prompt,\n",
    "        \"messages\": messages,\n",
    "        \"front_json\": input_filter.front_end_json_sample\n",
    "    }\n",
    "    output_json = main.main(input_json)\n",
    "    print(f\"{prompt}    =>    {output_json}\")\n",
    "    irrelevant_results[prompt]=output_json\n",
    "\n",
    "# except Exception as e:\n",
    "#     print(f\"The following exception occured:\\n{e}\")\n",
    "\n",
    "# finally:\n",
    "# saving the answers\n",
    "with open(\"test_results/irrelevant_prompts_results.json\", \"w\") as outputfile: \n",
    "    json.dump(irrelevant_results, outputfile)"
   ]
  },
  {
   "cell_type": "code",
   "execution_count": 2,
   "metadata": {},
   "outputs": [
    {
     "name": "stdout",
     "output_type": "stream",
     "text": [
      "Speech file detected. Processing speech...\n",
      "Speech processing complete.\n"
     ]
    },
    {
     "data": {
      "text/plain": [
       "(\"The main idea of this file is to provide information about long-term trading in the stock market. It explains that long-term trading involves buying shares of a company and holding onto them for an extended period, with the goal of benefiting from the company's growth over time and earning dividends. Long-term traders are often categorized as investors or position traders.\",\n",
       " {})"
      ]
     },
     "execution_count": 2,
     "metadata": {},
     "output_type": "execute_result"
    }
   ],
   "source": [
    "file_path = 'samplefiles/tts_test.mp3'\n",
    "messages = []\n",
    "prompt = None\n",
    "\n",
    "input_json = {\n",
    "    \"file_path\": file_path,\n",
    "    \"prompt\": None,\n",
    "    \"messages\": messages,\n",
    "    \"front_json\": input_filter.front_end_json_sample\n",
    "}\n",
    "\n",
    "output_json = main.main(input_json)"
   ]
  },
  {
   "cell_type": "markdown",
   "metadata": {},
   "source": [
    "# OpenAI API Test"
   ]
  },
  {
   "cell_type": "code",
   "execution_count": 10,
   "metadata": {},
   "outputs": [
    {
     "name": "stdout",
     "output_type": "stream",
     "text": [
      "The founders of Microsoft are Bill Gates and Paul Allen. They established the company on April 4, 1975, with the goal of developing and selling software for personal computers. Bill Gates is particularly known for his role in shaping the company's vision and strategy, while Paul Allen played a significant role in technical aspects and product development.\n"
     ]
    }
   ],
   "source": [
    "#########\n",
    "from openai import AzureOpenAI\n",
    "api_type = \"azure\"\n",
    "api_endpoint = 'https://tensurf.openai.azure.com/'\n",
    "api_version = '2023-10-01-preview'\n",
    "api_key = '74b3de375b964f73a6b7668fe459e26f'\n",
    "client = AzureOpenAI(\n",
    "    api_key= api_key,\n",
    "    api_version= api_version,\n",
    "    azure_endpoint= api_endpoint\n",
    ")\n",
    "#########\n",
    "response = client.chat.completions.create(\n",
    "    model=\"gpt_35\", # model = \"deployment_name\".\n",
    "    messages=[\n",
    "        {\"role\": \"system\", \"content\": \"Assistant is a large language model trained by OpenAI.\"},\n",
    "        {\"role\": \"user\", \"content\": \"Who were the founders of Microsoft?\"}\n",
    "    ]\n",
    ")\n",
    "print(response.choices[0].message.content)"
   ]
  },
  {
   "cell_type": "code",
   "execution_count": 11,
   "metadata": {},
   "outputs": [
    {
     "name": "stdout",
     "output_type": "stream",
     "text": [
      "Microsoft Corporation was founded by Bill Gates and Paul Allen. Bill Gates, currently one of the world's wealthiest individuals, served as Microsoft's Chairman and CEO for many years before transitioning to a role as a technology advisor. Paul Allen was a prominent philanthropist and entrepreneur who co-founded Microsoft with Bill Gates, but he passed away in 2018.\n"
     ]
    }
   ],
   "source": [
    "from openai import AzureOpenAI\n",
    "api_type = \"azure\"\n",
    "api_endpoint = 'https://tensurfbrain1.openai.azure.com/'\n",
    "api_version = '2023-10-01-preview'\n",
    "api_key = '80ddd1ad72504f2fa226755d49491a61'\n",
    "client = AzureOpenAI(\n",
    "    api_key= api_key,\n",
    "    api_version= api_version,\n",
    "    azure_endpoint= api_endpoint\n",
    ")\n",
    "#########\n",
    "response = client.chat.completions.create(\n",
    "    model=\"gpt_35\", \n",
    "    messages=[\n",
    "        {\"role\": \"system\", \"content\": \"Assistant is a large language model trained by OpenAI.\"},\n",
    "        {\"role\": \"user\", \"content\": \"Who were the founders of Microsoft?\"}\n",
    "    ]\n",
    ")\n",
    "print(response.choices[0].message.content)"
   ]
  },
  {
   "cell_type": "markdown",
   "metadata": {},
   "source": [
    "# Korbes"
   ]
  },
  {
   "cell_type": "code",
   "execution_count": null,
   "metadata": {},
   "outputs": [],
   "source": [
    "messages = []\n",
    "\n",
    "\n",
    "Korbes_prompts = [\n",
    "    \"Hello.\",\n",
    "    \"Can you help me prepare for my trading day?\",\n",
    "    \"Should I looking for longs or shorts for today on the ES?\",\n",
    "    \"Did my last question ocnfuse you?\",\n",
    "    \"Do you see any good trade ideas for the ES today?\",\n",
    "    \"Are there any news event today that might disturb the ES?\",\n",
    "    \"Can you show me the best support and resisatnce levels on the ES today?\",\n",
    "    \"Based on the last 30 days of my performance what should I be focusing on today?\",\n",
    "    \"What markets are opening in gap today?\",\n",
    "    \"Based on my account size, what should my daily stoploss be?\"\n",
    "]\n",
    "\n",
    "\n",
    "llm = merged.FileProcessor()\n",
    "f = open(\"Korbs.txt\", \"w\")\n",
    "for prompt in Korbes_prompts:\n",
    "    output_json = llm.get_user_input(file_path=None, prompt=prompt, messages=messages, front_json=input_filter.front_end_json_sample)\n",
    "    print(f\"{prompt}    =>    {output_json[0]}\")\n",
    "    f.write(f\"{prompt}    =>    {output_json[0]}\\n\\n\\n\\n\")\n",
    "f.close()\n"
   ]
  },
  {
   "cell_type": "markdown",
   "metadata": {},
   "source": [
    "# The new Temperary Test"
   ]
  },
  {
   "cell_type": "code",
   "execution_count": 1,
   "metadata": {},
   "outputs": [
    {
     "name": "stdout",
     "output_type": "stream",
     "text": [
      "\n",
      "ChatCompletionMessage(content=None, role='assistant', function_call=FunctionCall(arguments='{\\n  \"symbol\": \"NQ\",\\n  \"lookback_days\": \"30 days\"\\n}', name='calculate_sr'), tool_calls=None)\n",
      "\n"
     ]
    },
    {
     "data": {
      "text/plain": [
       "('The support and resistance levels for NQ over the last month have been calculated based on historical price data. These levels indicate areas where the price is likely to encounter support or resistance. The associated scores indicate the strength or significance of each level, with higher scores indicating stronger levels.',\n",
       " {'levels_prices': [17113.25,\n",
       "   17148.5,\n",
       "   17286.25,\n",
       "   17308.25,\n",
       "   17386.25,\n",
       "   17719.5,\n",
       "   17740.25,\n",
       "   17983.75,\n",
       "   18067.25,\n",
       "   18072.5,\n",
       "   18103.75,\n",
       "   18108.75,\n",
       "   18348.0,\n",
       "   18188.5,\n",
       "   18228.75,\n",
       "   18336.25],\n",
       "  'levels_start_timestamps': [Timestamp('2024-04-19 12:00:00'),\n",
       "   Timestamp('2024-04-22 08:00:00'),\n",
       "   Timestamp('2024-04-22 16:00:00'),\n",
       "   Timestamp('2024-04-25 06:00:00'),\n",
       "   Timestamp('2024-05-02 07:00:00'),\n",
       "   Timestamp('2024-05-03 00:00:00'),\n",
       "   Timestamp('2024-05-03 04:00:00'),\n",
       "   Timestamp('2024-05-05 22:00:00'),\n",
       "   Timestamp('2024-05-06 09:00:00'),\n",
       "   Timestamp('2024-05-08 05:00:00'),\n",
       "   Timestamp('2024-05-09 02:00:00'),\n",
       "   Timestamp('2024-05-09 06:00:00'),\n",
       "   Timestamp('2024-05-10 06:00:00'),\n",
       "   Timestamp('2024-05-10 07:00:00'),\n",
       "   Timestamp('2024-05-12 15:00:00'),\n",
       "   Timestamp('2024-05-13 06:00:00')],\n",
       "  'levels_end_timestamps': [Timestamp('2024-05-13 11:18:00'),\n",
       "   Timestamp('2024-05-13 11:18:00'),\n",
       "   Timestamp('2024-05-13 11:18:00'),\n",
       "   Timestamp('2024-05-13 11:18:00'),\n",
       "   Timestamp('2024-05-13 11:18:00'),\n",
       "   Timestamp('2024-05-13 11:18:00'),\n",
       "   Timestamp('2024-05-13 11:18:00'),\n",
       "   Timestamp('2024-05-13 11:18:00'),\n",
       "   Timestamp('2024-05-13 11:18:00'),\n",
       "   Timestamp('2024-05-13 11:18:00'),\n",
       "   Timestamp('2024-05-13 11:18:00'),\n",
       "   Timestamp('2024-05-13 11:18:00'),\n",
       "   Timestamp('2024-05-13 11:18:00'),\n",
       "   Timestamp('2024-05-13 11:18:00'),\n",
       "   Timestamp('2024-05-13 11:18:00'),\n",
       "   Timestamp('2024-05-13 11:18:00')],\n",
       "  'levels_scores': [2.8,\n",
       "   5.1,\n",
       "   4.3,\n",
       "   3.5,\n",
       "   4.3,\n",
       "   8.8,\n",
       "   7.5,\n",
       "   2.8,\n",
       "   8.7,\n",
       "   6.1,\n",
       "   7.4,\n",
       "   4.4,\n",
       "   8.8,\n",
       "   4.8,\n",
       "   1.7,\n",
       "   4.1]})"
      ]
     },
     "execution_count": 1,
     "metadata": {},
     "output_type": "execute_result"
    }
   ],
   "source": [
    "import main\n",
    "import input_filter\n",
    "\n",
    "prompt = \"What is the sr of NQ for the last month?\"\n",
    "messages = []\n",
    "\n",
    "main.main(file_path=None, prompt=prompt, messages=messages, front_json=input_filter.front_end_json_sample)"
   ]
  }
 ],
 "metadata": {
  "kernelspec": {
   "display_name": "sepehr",
   "language": "python",
   "name": "python3"
  },
  "language_info": {
   "codemirror_mode": {
    "name": "ipython",
    "version": 3
   },
   "file_extension": ".py",
   "mimetype": "text/x-python",
   "name": "python",
   "nbconvert_exporter": "python",
   "pygments_lexer": "ipython3",
   "version": "3.10.13"
  }
 },
 "nbformat": 4,
 "nbformat_minor": 2
}
