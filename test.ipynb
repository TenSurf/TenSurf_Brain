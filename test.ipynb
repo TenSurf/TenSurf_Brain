{
 "cells": [
  {
   "cell_type": "markdown",
   "metadata": {},
   "source": [
    "# Dependencies"
   ]
  },
  {
   "cell_type": "code",
   "execution_count": 2,
   "metadata": {},
   "outputs": [],
   "source": [
    "import json\n",
    "import merged"
   ]
  },
  {
   "cell_type": "markdown",
   "metadata": {},
   "source": [
    "# Text"
   ]
  },
  {
   "cell_type": "code",
   "execution_count": 3,
   "metadata": {},
   "outputs": [
    {
     "name": "stdout",
     "output_type": "stream",
     "text": [
      "\n",
      "ChatCompletionMessage(content=None, role='assistant', function_call=FunctionCall(arguments='{\\n  \"symbol\": \"NQ\",\\n  \"start_datetime\": \"3/4/2024 15:45:30\",\\n  \"end_datetime\": \"13/4/2024 15:45:30\"\\n}', name='detect_trend'), tool_calls=None)\n",
      "\n"
     ]
    },
    {
     "name": "stderr",
     "output_type": "stream",
     "text": [
      "c:\\Sepehr\\Science\\AI\\3.LearningAlgorithms\\DeepLearning\\TenSurf\\FunctionCalling\\GradioFunctionCallingApp\\functions_python.py:680: UserWarning: Parsing dates in %d/%m/%Y %H:%M:%S format when dayfirst=False (the default) was specified. Pass `dayfirst=True` or specify a format to silence this warning.\n",
      "  end_datetime = pd.to_datetime(end_datetime)\n"
     ]
    },
    {
     "name": "stdout",
     "output_type": "stream",
     "text": [
      "What is the trend of NQ stock from 3/4/2024 15:45:30 until 13/4/2024 15:45:30?    =>    The trend of NQ stock from 3/4/2024 15:45:30 until 13/4/2024 15:45:30 is without significant trend.\n",
      "\n",
      "ChatCompletionMessage(content=None, role='assistant', function_call=FunctionCall(arguments='{\\n  \"symbol\": \"NQ\",\\n  \"lookback\": \"1 week\"\\n}', name='detect_trend'), tool_calls=None)\n",
      "\n",
      "What is the trend of NQ stock for the past week?    =>    The trend of NQ stock for the past week is without significant trend.\n",
      "\n",
      "ChatCompletionMessage(content=None, role='assistant', function_call=FunctionCall(arguments='{\\n  \"symbol\": \"NQ\"\\n}', name='detect_trend'), tool_calls=None)\n",
      "\n",
      "What is the trend of NQ?    =>    The trend of NQ stock is a mild bearish (downward) trend.\n",
      "\n",
      "ChatCompletionMessage(content=None, role='assistant', function_call=FunctionCall(arguments='{\\n  \"symbol\": \"NQ\"\\n}', name='detect_trend'), tool_calls=None)\n",
      "\n",
      "What is the trend?    =>    The trend of NQ stock is a mild bearish (downward) trend.\n",
      "\n",
      "ChatCompletionMessage(content=None, role='assistant', function_call=FunctionCall(arguments='{\\n  \"symbol\": \"ES\",\\n  \"start_datetime\": \"2024-03-25 11:12:17\",\\n  \"end_datetime\": \"2024-04-01 9:31:23\"\\n}', name='detect_trend'), tool_calls=None)\n",
      "\n",
      "Show me the trend of ES from 2024-03-25 11:12:17 to 2024-04-01 9:31:23.    =>    The trend of ES stock from 2024-03-25 11:12:17 to 2024-04-01 9:31:23 is without significant trend.\n",
      "\n",
      "ChatCompletionMessage(content=None, role='assistant', function_call=FunctionCall(arguments='{\\n  \"symbol\": \"GC\",\\n  \"start_datetime\": \"2024-03-25 11:12:17\",\\n  \"end_datetime\": \"2024-04-01 9:31:23\"\\n}', name='detect_trend'), tool_calls=None)\n",
      "\n",
      "Trend of GC, 2024-03-25 11:12:17 to 2024-04-01 9:31:23    =>    The trend of GC stock from 2024-03-25 11:12:17 to 2024-04-01 9:31:23 is a mild bullish (upward) trend.\n",
      "\n",
      "ChatCompletionMessage(content=None, role='assistant', function_call=FunctionCall(arguments='{\\n  \"symbol\": \"GC\",\\n  \"lookback\": \"2 hours\"\\n}', name='detect_trend'), tool_calls=None)\n",
      "\n",
      "from(bucket:\"bronze\") \n",
      "                |> range(start: 2024-04-25T14:39:58Z, stop: 2024-04-25T16:39:58Z)\n",
      "                |> filter(fn: (r) => r[\"_measurement\"] == \"GC\" and\n",
      "                    r[\"timeframe\"] == \"1min\" and\n",
      "                    r[\"liq_threshold\"] == \"-1\")\n",
      "                |> pivot(rowKey:[\"_time\"], columnKey:[\"_field\"], valueColumn:\"_value\")\n",
      "                \n",
      "[Error] result output is not DataFrame\n",
      "There is no data for this period of time...\n",
      "Trend of GC, past 2 hours    =>    The trend of GC stock for the past 2 hours is without significant trend.\n",
      "\n",
      "ChatCompletionMessage(content=None, role='assistant', function_call=FunctionCall(arguments='{\\n  \"symbol\": \"YM\",\\n  \"timeframe\": \"1 hour\",\\n  \"lookback_days\": \"10 days\"\\n}', name='calculate_sr'), tool_calls=None)\n",
      "\n",
      "The following exception occured:\n",
      "'1 hour'\n"
     ]
    }
   ],
   "source": [
    "messages = merged.messages\n",
    "\n",
    "# providing prompt samples\n",
    "prompts = [\n",
    "    # detect_trend\n",
    "    \"What is the trend of NQ stock from 3/4/2024 15:45:30 until 13/4/2024 15:45:30?\",\n",
    "    \"What is the trend of NQ stock for the past week?\",\n",
    "    \"What is the trend of NQ?\",\n",
    "    \"What is the trend?\",\n",
    "    \"Show me the trend of ES from 2024-03-25 11:12:17 to 2024-04-01 9:31:23.\",\n",
    "    \"Trend of GC, 2024-03-25 11:12:17 to 2024-04-01 9:31:23\",\n",
    "    \"Trend of GC, past 2 hours\",\n",
    "    # calculate_sr\n",
    "    \"Calculate Support and Resistance Levels based on YM by looking back up to past 10 days and timeframe of 1 hour.\",\n",
    "    \"How much is the sr of CL for the past week?\"\n",
    "]\n",
    "\n",
    "# # for finding bugs\n",
    "# challenging_prompts = [\n",
    "#     # detect_trend\n",
    "#     \"What is the trend of NQ stock from 3/4/2024/45 15:45:30 until 3/4/2024/67 15:45:30?\",\n",
    "#     \"What is the trend of NQ stock from 2024/4/3 15:45:30 until 2024/4/13 15:45:30?\",\n",
    "#     \"What is the trend of NQ stock from 2024/4/13 15:45:30 until 2024/4/3 15:45:30?\",\n",
    "    \n",
    "#     # calculate_sr\n",
    "#     \"\"\n",
    "# ]\n",
    "\n",
    "\n",
    "# saving the answer of the prompt in a dictionary which its key is the prompt and its value is the answer to that prompt\n",
    "results = {}\n",
    "\n",
    "# getting the answer of the prompts\n",
    "try:\n",
    "    llm = merged.FileProcessor()\n",
    "    for prompt in prompts:\n",
    "        result = llm.get_user_input(file_path=None, prompt=prompt, messages=messages)\n",
    "        print(f\"{prompt}    =>    {result}\")\n",
    "        results[prompt]=result\n",
    "\n",
    "except Exception as e:\n",
    "    print(f\"The following exception occured:\\n{e}\")\n",
    "\n",
    "finally:\n",
    "    # saving the answers\n",
    "    with open(\"test_results.json\", \"w\") as outfile: \n",
    "        json.dump(results, outfile)"
   ]
  },
  {
   "cell_type": "markdown",
   "metadata": {},
   "source": [
    "# File"
   ]
  },
  {
   "cell_type": "code",
   "execution_count": 5,
   "metadata": {},
   "outputs": [
    {
     "name": "stdout",
     "output_type": "stream",
     "text": [
      "Image file detected. VisionGPT processing...\n",
      "Image processing complete.\n",
      "It seems that you've described a financial chart for Cardano (ADA) against the US Dollar (USDT), highlighting key elements such as candlestick bars, exponential moving averages (EMAs), a descending channel pattern, the relative strength index (RSI), and a timestamp. However, the description ends abruptly with \"Price Values: The right side of the chart displays price levels corresponding to...\" Is there a specific question or action you'd like to take based on this chart? Feel free to share any further details or requests you may have.\n",
      "Excel file detected. Extracting text...\n",
      "Extraction complete.\n",
      "This content appears to be a list of job vacancies and required qualifications, including details such as company names, job titles, experience requirements, application dates, salaries, phone numbers, locations, work days, start times, and site addresses. Additionally, there are mentions of work requirements, technical skills, and previous job experience related to AI, machine learning, data analysis, and other IT fields.\n",
      "\n",
      "If you have a specific question or need assistance with interpreting or processing this information, please feel free to let me know how I can help!\n",
      "Word document detected. Extracting text...\n",
      "Extraction complete.\n",
      "The content provided appears to describe the Beez algorithm as an optimization algorithm that uses a combination of exploratory local search and global search to solve complex optimization problems. The explanation includes details about the scouting process, evaluation and rearrangement of initial solutions based on their costs, and the iterative search for the best solution within the desired area. It also highlights the use of elite and non-elite solutions, random solution replacement, and the repetition of the search method to converge towards the optimal solution.\n",
      "\n",
      "Additionally, the reference to the guaranteed convergence of the Beez algorithm is noted. It seems that the content aims to provide a detailed overview of the algorithm and its application to optimization problems.\n",
      "\n",
      "If you have specific questions or need further assistance related to the Beez algorithm or any related topic, please feel free to ask!\n",
      "PDF file detected. Extracting text...\n",
      "Extraction complete.\n",
      "The content provided appears to be an informational bulletin issued by the U.S. Securities and Exchange Commission (SEC) to educate investors about different types of orders and trading instructions available for buying and selling stocks through brokerage firms. The bulletin includes general descriptions of common order types such as market orders, limit orders, stop orders, stop-limit orders, along with special orders and trading instructions like Good-til-Cancelled (GtC) orders, Day orders, Fill-Or-Kill (FOK) orders, All-Or-None (AON) orders, and Immediate-or-Cancel (IoC) orders.\n",
      "\n",
      "Additionally, it provides examples and important considerations for each type of order, including the implications of short-term market fluctuations, specific rules regarding stop and stop-limit orders for certain types of stocks, and the availability of certain order types and trading instructions based on specific brokerage firms.\n",
      "\n",
      "The document aims to help investors understand the different options available when placing orders for buying and selling stocks through brokerage firms and includes related information and references to additional educational materials provided by the SEC's Office of Investor Education and Advocacy.\n",
      "\n",
      "If there are specific details within the content that you would like to discuss or if you have further questions, please feel free to let me know!\n",
      "Text file detected. Extracting text...\n",
      "Extraction complete.\n",
      "The content provided appears to describe a model that is trained on a large dataset of English audio and text. The model is optimized for transcribing audio files containing speech in English but can also transcribe audio files with speech in other languages. The output of the model is English text, regardless of the language spoken in the audio files. The content highlights the flexibility of the model to transcribe mixed language audio input and produce English output. Additionally, it mentions the option to choose between using the \"whisper\" model via a short movie, indicating that the readability of the transcribed text remains consistent regardless of the chosen option.\n",
      "\n",
      "If there are specific details within the content that you would like to discuss further or if you have specific questions related to this model, feel free to share!\n",
      "Speech file detected. Processing speech...\n",
      "Speech processing complete.\n",
      "The main idea conveyed in the provided content is the advocacy for natural, independent learning as the most effective approach for acquiring proficiency in the English language. The passage discusses the limitations and shortcomings of traditional, institutionalized education systems, particularly in their methods of teaching English. It criticizes the inherent inefficiency of rote memorization and passive learning, highlighting that the prescribed methodology often fails to foster genuine fluency in the language.\n",
      "\n",
      "The content emphasizes the need for a departure from the institutional educational framework and encourages individuals to pursue an independent learning path. It stresses the significance of listening as the foundational skill for natural English learning and advocates for the formation of supportive and interactive learning communities to complement individual study.\n",
      "\n",
      "Furthermore, the passage suggests that English learners should prioritize enjoyable and social interactions within learning communities, fostering an environment free from pressure and stress while leveraging the brain's natural capacity for accelerated and effective learning.\n",
      "\n",
      "Ultimately, the overarching message advocates for a shift from institutional learning methods toward a natural, independent learning approach, emphasizing the advantages of enhanced efficiency and enjoyment in the language acquisition process.\n",
      "\n",
      "If there are specific aspects of this concept that you would like to explore further, feel free to share!\n",
      "\n",
      "ChatCompletionMessage(content=None, role='assistant', function_call=FunctionCall(arguments='{\"symbol\":\"NQ\",\"start_datetime\":\"2023-03-10T15:45:30\",\"end_datetime\":\"2023-03-11T15:45:30\"}', name='detect_trend'), tool_calls=None)\n",
      "\n",
      "from(bucket:\"bronze\") \n",
      "                |> range(start: time(v:2023-03-10T23:45:30Z), stop: time(v: 2023-03-11T23:45:30Z))\n",
      "                |> filter(fn: (r) => r[\"_measurement\"] == \"NQ\" and                    r[\"timeframe\"] == \"1min\" and                    r[\"liq_threshold\"] == \"-1\")\n",
      "                |> pivot(rowKey:[\"_time\"], columnKey:[\"_field\"], valueColumn:\"_value\")\n",
      "                \n",
      "[Error] result output is not DataFrame\n",
      "There is no data for this period of time...\n",
      "The trend of the NQ stock from 3/10/2023 15:45:30 until 3/11/2023 15:45:30 indicates that there is no significant trend during this time period. If you have any other questions or need further assistance, feel free to ask!\n"
     ]
    }
   ],
   "source": [
    "# Define the list of file paths and prompts\n",
    "messages = merged.messages\n",
    "file_paths = [\"samplefiles/TjqcZqip.png\", 'samplefiles/applyjobs.xlsx', 'samplefiles/paper.docx',\n",
    "              'samplefiles/sample.pdf', 'samplefiles/transcription.txt', 'samplefiles/english.mp3', None]\n",
    "prompts = [\"what is the main idea of this file?\",\n",
    "           \"what is the main idea of this file?\",\n",
    "           \"what is the main idea of this file?\",\n",
    "           \"what is the main idea of this file?\",\n",
    "           \"what is the main idea of this file?\",\n",
    "           \"what is the main idea of this file?\",\n",
    "           \"What is the trend of NQ stock from 3/10/2023 15:45:30 until 3/11/2023 15:45:30?\"]\n",
    "\n",
    "# Iterate over file_paths and prompts and run the code\n",
    "for file_path, prompt in zip(file_paths, prompts):\n",
    "    try:\n",
    "        processor = merged.FileProcessor()\n",
    "        print(processor.get_user_input(file_path, prompt, messages))\n",
    "    except Exception as e:\n",
    "        print(f\"An error occurred: {e}\")"
   ]
  },
  {
   "cell_type": "code",
   "execution_count": 3,
   "metadata": {},
   "outputs": [
    {
     "name": "stdout",
     "output_type": "stream",
     "text": [
      "Microsoft was founded by Bill Gates and Paul Allen. Bill Gates is a well-known figure in the technology industry and served as the CEO of Microsoft until 2000, and subsequently as the Chairman of the Board until 2014. Paul Allen was a childhood friend of Gates and served as the company's executive vice president until his departure in 1983. Together, Gates and Allen played a pivotal role in establishing Microsoft as one of the most influential and successful technology companies in the world.\n"
     ]
    }
   ],
   "source": [
    "#########\n",
    "import os\n",
    "from openai import AzureOpenAI\n",
    "api_type = \"azure\"\n",
    "api_endpoint = 'https://tensurf.openai.azure.com/'\n",
    "api_version = '2023-10-01-preview'\n",
    "api_key = '74b3de375b964f73a6b7668fe459e26f'\n",
    "client = AzureOpenAI(\n",
    "    api_key= api_key,\n",
    "    api_version= api_version,\n",
    "    azure_endpoint= api_endpoint\n",
    ")\n",
    "#########\n",
    "response = client.chat.completions.create(\n",
    "    model=\"gpt_35\", # model = \"deployment_name\".\n",
    "    messages=[\n",
    "        {\"role\": \"system\", \"content\": \"Assistant is a large language model trained by OpenAI.\"},\n",
    "        {\"role\": \"user\", \"content\": \"Who were the founders of Microsoft?\"}\n",
    "    ]\n",
    ")\n",
    "print(response.choices[0].message.content)"
   ]
  },
  {
   "cell_type": "code",
   "execution_count": null,
   "metadata": {},
   "outputs": [],
   "source": []
  }
 ],
 "metadata": {
  "kernelspec": {
   "display_name": "sepehr",
   "language": "python",
   "name": "python3"
  },
  "language_info": {
   "codemirror_mode": {
    "name": "ipython",
    "version": 3
   },
   "file_extension": ".py",
   "mimetype": "text/x-python",
   "name": "python",
   "nbconvert_exporter": "python",
   "pygments_lexer": "ipython3",
   "version": "3.10.13"
  }
 },
 "nbformat": 4,
 "nbformat_minor": 2
}
