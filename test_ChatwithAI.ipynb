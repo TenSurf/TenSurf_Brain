{
  "cells": [
    {
      "cell_type": "markdown",
      "metadata": {
        "id": "MUdb91GdtaFG"
      },
      "source": [
        "# Dependencies"
      ]
    },
    {
      "cell_type": "code",
      "source": [
        "!pip install openai python-docx PyPDF2 python-pptx influxdb-client"
      ],
      "metadata": {
        "id": "r5R-jYLmZKrd",
        "colab": {
          "base_uri": "https://localhost:8080/"
        },
        "outputId": "e11172fc-e405-41d9-cc50-781585b6a7a8"
      },
      "execution_count": 1,
      "outputs": [
        {
          "output_type": "stream",
          "name": "stdout",
          "text": [
            "Requirement already satisfied: openai in /usr/local/lib/python3.10/dist-packages (1.25.1)\n",
            "Requirement already satisfied: python-docx in /usr/local/lib/python3.10/dist-packages (1.1.2)\n",
            "Requirement already satisfied: PyPDF2 in /usr/local/lib/python3.10/dist-packages (3.0.1)\n",
            "Requirement already satisfied: python-pptx in /usr/local/lib/python3.10/dist-packages (0.6.23)\n",
            "Requirement already satisfied: influxdb-client in /usr/local/lib/python3.10/dist-packages (1.42.0)\n",
            "Requirement already satisfied: anyio<5,>=3.5.0 in /usr/local/lib/python3.10/dist-packages (from openai) (3.7.1)\n",
            "Requirement already satisfied: distro<2,>=1.7.0 in /usr/lib/python3/dist-packages (from openai) (1.7.0)\n",
            "Requirement already satisfied: httpx<1,>=0.23.0 in /usr/local/lib/python3.10/dist-packages (from openai) (0.27.0)\n",
            "Requirement already satisfied: pydantic<3,>=1.9.0 in /usr/local/lib/python3.10/dist-packages (from openai) (2.7.1)\n",
            "Requirement already satisfied: sniffio in /usr/local/lib/python3.10/dist-packages (from openai) (1.3.1)\n",
            "Requirement already satisfied: tqdm>4 in /usr/local/lib/python3.10/dist-packages (from openai) (4.66.2)\n",
            "Requirement already satisfied: typing-extensions<5,>=4.7 in /usr/local/lib/python3.10/dist-packages (from openai) (4.11.0)\n",
            "Requirement already satisfied: lxml>=3.1.0 in /usr/local/lib/python3.10/dist-packages (from python-docx) (4.9.4)\n",
            "Requirement already satisfied: Pillow>=3.3.2 in /usr/local/lib/python3.10/dist-packages (from python-pptx) (9.4.0)\n",
            "Requirement already satisfied: XlsxWriter>=0.5.7 in /usr/local/lib/python3.10/dist-packages (from python-pptx) (3.2.0)\n",
            "Requirement already satisfied: reactivex>=4.0.4 in /usr/local/lib/python3.10/dist-packages (from influxdb-client) (4.0.4)\n",
            "Requirement already satisfied: certifi>=14.05.14 in /usr/local/lib/python3.10/dist-packages (from influxdb-client) (2024.2.2)\n",
            "Requirement already satisfied: python-dateutil>=2.5.3 in /usr/local/lib/python3.10/dist-packages (from influxdb-client) (2.8.2)\n",
            "Requirement already satisfied: setuptools>=21.0.0 in /usr/local/lib/python3.10/dist-packages (from influxdb-client) (67.7.2)\n",
            "Requirement already satisfied: urllib3>=1.26.0 in /usr/local/lib/python3.10/dist-packages (from influxdb-client) (2.0.7)\n",
            "Requirement already satisfied: idna>=2.8 in /usr/local/lib/python3.10/dist-packages (from anyio<5,>=3.5.0->openai) (3.7)\n",
            "Requirement already satisfied: exceptiongroup in /usr/local/lib/python3.10/dist-packages (from anyio<5,>=3.5.0->openai) (1.2.1)\n",
            "Requirement already satisfied: httpcore==1.* in /usr/local/lib/python3.10/dist-packages (from httpx<1,>=0.23.0->openai) (1.0.5)\n",
            "Requirement already satisfied: h11<0.15,>=0.13 in /usr/local/lib/python3.10/dist-packages (from httpcore==1.*->httpx<1,>=0.23.0->openai) (0.14.0)\n",
            "Requirement already satisfied: annotated-types>=0.4.0 in /usr/local/lib/python3.10/dist-packages (from pydantic<3,>=1.9.0->openai) (0.6.0)\n",
            "Requirement already satisfied: pydantic-core==2.18.2 in /usr/local/lib/python3.10/dist-packages (from pydantic<3,>=1.9.0->openai) (2.18.2)\n",
            "Requirement already satisfied: six>=1.5 in /usr/local/lib/python3.10/dist-packages (from python-dateutil>=2.5.3->influxdb-client) (1.16.0)\n"
          ]
        }
      ]
    },
    {
      "cell_type": "code",
      "execution_count": null,
      "metadata": {
        "id": "OcVS-f_ctaFK"
      },
      "outputs": [],
      "source": [
        "import json\n",
        "import chat_with_ai_azureopenai\n",
        "from chat_with_ai_azureopenai import FileProcessor"
      ]
    },
    {
      "cell_type": "markdown",
      "source": [
        "**Functioncalling + Polygon**"
      ],
      "metadata": {
        "id": "_4KJ2nrPVNEp"
      }
    },
    {
      "cell_type": "code",
      "source": [
        "from openai import OpenAI\n",
        "import os\n",
        "from typing import Optional\n",
        "import requests\n",
        "from typing import Optional\n",
        "from dateutil.relativedelta import relativedelta\n",
        "from openai import AzureOpenAI\n",
        "import json\n",
        "from functions_json import functions\n",
        "from functions_python import *\n",
        "from utils import date_validation, monthdelta"
      ],
      "metadata": {
        "id": "63x_ZYc8cl3u"
      },
      "execution_count": null,
      "outputs": []
    },
    {
      "cell_type": "code",
      "execution_count": null,
      "metadata": {
        "id": "JjgpJZS4taFN"
      },
      "outputs": [],
      "source": [
        "messages = chat_with_ai_azureopenai.messages\n",
        "\n",
        "# providing prompt samples\n",
        "prompts = [\n",
        "    # detect_trend\n",
        "    \"What is the trend of NQ stock from 3/10/2023 15:45:30 until 3/11/2023 15:45:30?\",\n",
        "    \"What is the trend of NQ stock for the past week?\",\n",
        "    \"What is the trend of NQ?\",\n",
        "    \"What is the trend?\",\n",
        "    \"Show me the trend of ES from 2024-03-25 11:12:17 to 2024-04-01 9:31:23.\",\n",
        "    \"Trend of GC, 2024-03-25 11:12:17 to 2024-04-01 9:31:23\",\n",
        "    \"Trend of GC, past 2 hours\",\n",
        "    # calculate_sr\n",
        "    \"Calculate Support and Resistance Levels based on YM by looking back up to past 10 days and timeframe of 1 hour.\",\n",
        "    \"How much is the sr of CL for the past week?\",\n",
        "    \"Get data for AAPL from 2024.04.02 to 2024.04.12 in range of day\"\n",
        "]\n",
        "\n",
        "# saving the answer of the prompt in a dictionary which its key is the prompt and its value is the answer to that prompt\n",
        "results = {}\n",
        "\n",
        "# getting the answer of the prompts\n",
        "try:\n",
        "    #api = 'openai'\n",
        "    api = 'azureopenai'\n",
        "    processor = FileProcessor(api)\n",
        "    for prompt in prompts:\n",
        "        #result = processor.get_user_input(file_path=None, prompt=prompt, messages=messages, api)\n",
        "        result = processor.get_user_input(None, prompt, messages)\n",
        "        print(f\"{prompt}    =>    {result}\")\n",
        "        results[prompt]=result\n",
        "\n",
        "except Exception as e:\n",
        "    print(f\"The following exception occured:\\n{e}\")\n"
      ]
    },
    {
      "cell_type": "code",
      "source": [
        "!pip install openai\n",
        "import json\n",
        "import chat_with_ai_azureopenai\n",
        "from chat_with_ai_azureopenai import FileProcessor\n",
        "from openai import OpenAI\n",
        "import os\n",
        "from typing import Optional\n",
        "import requests\n",
        "from typing import Optional\n",
        "from dateutil.relativedelta import relativedelta\n",
        "from openai import AzureOpenAI\n",
        "import json\n",
        "from functions_json import functions\n",
        "from functions_python import *\n",
        "from utils import date_validation, monthdelta\n",
        "\n",
        "messages = chat_with_ai_azureopenai.messages\n",
        "# providing prompt samples\n",
        "prompt = \"Get data for AAPL from 2024-04-02T22:18:47 to 2024-04-12T22:18:47 in range of day\"\n",
        "#prompt = \"Get data for AAPL from 2024-04-02 to 2024-04-12 in range of day\"\n",
        "api = 'azureopenai'\n",
        "processor = FileProcessor(api)\n",
        "print(processor.get_user_input(None, prompt, messages))\n",
        "\n",
        "from IPython.display import HTML\n",
        "HTML(filename='candlestick_chart.html')"
      ],
      "metadata": {
        "id": "bgspAeos6jhO",
        "colab": {
          "base_uri": "https://localhost:8080/"
        },
        "outputId": "65e3bdcd-a5ac-4a16-b79e-c0d3fd6bafc9"
      },
      "execution_count": 2,
      "outputs": [
        {
          "output_type": "stream",
          "name": "stdout",
          "text": [
            "Requirement already satisfied: openai in /usr/local/lib/python3.10/dist-packages (1.25.1)\n",
            "Requirement already satisfied: anyio<5,>=3.5.0 in /usr/local/lib/python3.10/dist-packages (from openai) (3.7.1)\n",
            "Requirement already satisfied: distro<2,>=1.7.0 in /usr/lib/python3/dist-packages (from openai) (1.7.0)\n",
            "Requirement already satisfied: httpx<1,>=0.23.0 in /usr/local/lib/python3.10/dist-packages (from openai) (0.27.0)\n",
            "Requirement already satisfied: pydantic<3,>=1.9.0 in /usr/local/lib/python3.10/dist-packages (from openai) (2.7.1)\n",
            "Requirement already satisfied: sniffio in /usr/local/lib/python3.10/dist-packages (from openai) (1.3.1)\n",
            "Requirement already satisfied: tqdm>4 in /usr/local/lib/python3.10/dist-packages (from openai) (4.66.2)\n",
            "Requirement already satisfied: typing-extensions<5,>=4.7 in /usr/local/lib/python3.10/dist-packages (from openai) (4.11.0)\n",
            "Requirement already satisfied: idna>=2.8 in /usr/local/lib/python3.10/dist-packages (from anyio<5,>=3.5.0->openai) (3.7)\n",
            "Requirement already satisfied: exceptiongroup in /usr/local/lib/python3.10/dist-packages (from anyio<5,>=3.5.0->openai) (1.2.1)\n",
            "Requirement already satisfied: certifi in /usr/local/lib/python3.10/dist-packages (from httpx<1,>=0.23.0->openai) (2024.2.2)\n",
            "Requirement already satisfied: httpcore==1.* in /usr/local/lib/python3.10/dist-packages (from httpx<1,>=0.23.0->openai) (1.0.5)\n",
            "Requirement already satisfied: h11<0.15,>=0.13 in /usr/local/lib/python3.10/dist-packages (from httpcore==1.*->httpx<1,>=0.23.0->openai) (0.14.0)\n",
            "Requirement already satisfied: annotated-types>=0.4.0 in /usr/local/lib/python3.10/dist-packages (from pydantic<3,>=1.9.0->openai) (0.6.0)\n",
            "Requirement already satisfied: pydantic-core==2.18.2 in /usr/local/lib/python3.10/dist-packages (from pydantic<3,>=1.9.0->openai) (2.18.2)\n",
            "\n",
            "ChatCompletionMessage(content=None, role='assistant', function_call=FunctionCall(arguments='{\\n  \"ticker\": \"AAPL\",\\n  \"start_datetime_str\": \"2024-04-02T22:18:47\",\\n  \"end_datetime_str\": \"2024-04-12T22:18:47\",\\n  \"timeframe\": \"day\",\\n  \"data_type\": \"historical\"\\n}', name='visualize_data'), tool_calls=None)\n",
            "\n",
            "                 time    open   close    high       low       volume\n",
            "0 2024-04-02 04:00:00  169.08  168.84  169.34  168.2302   49297581.0\n",
            "1 2024-04-03 04:00:00  168.79  169.65  170.68  168.5800   47691715.0\n",
            "2 2024-04-04 04:00:00  170.29  168.82  171.92  168.8200   53682486.0\n",
            "3 2024-04-05 04:00:00  169.59  169.58  170.39  168.9500   42104826.0\n",
            "4 2024-04-08 04:00:00  169.03  168.45  169.20  168.2400   37425513.0\n",
            "5 2024-04-09 04:00:00  168.70  169.67  170.08  168.3500   42451209.0\n",
            "6 2024-04-10 04:00:00  168.80  167.78  169.09  167.1100   49691936.0\n",
            "7 2024-04-11 04:00:00  168.34  175.04  175.46  168.1600   91053075.0\n",
            "8 2024-04-12 04:00:00  174.26  176.55  178.36  174.2100  101282386.0\n"
          ]
        }
      ]
    },
    {
      "cell_type": "code",
      "source": [
        "# Define a list of prompt titles and their corresponding prompts\n",
        "prompts = [\n",
        "    #\"Fetch Historical Prices\"\n",
        "     \"Retrieve the historical prices for Apple Inc. (AAPL) from January 1st, 2022 to January 31st, 2022.\",\n",
        "    #\"Real-time Price Streaming\"\n",
        "     \"Stream real-time price updates for Tesla Inc. (TSLA) and display updates every 5 seconds.\",\n",
        "    #\"Multi-Ticker Fetch\"\n",
        "     \"Fetch the current prices for Google (GOOGL), Amazon (AMZN), and Facebook (FB) simultaneously.\",\n",
        "    #\"Adjust for Splits and Dividends\"\n",
        "     \"Get the adjusted close prices for Netflix (NFLX) for the last year, accounting for any splits and dividends.\",\n",
        "    #\"Aggregates for Custom Interval\"\n",
        "     \"Calculate and display the average closing price for Microsoft (MSFT) in 7-minute intervals for the trading day of April 15th, 2023.\",\n",
        "    #\"Ticker Metadata\"\n",
        "     \"Retrieve and display the market cap, sector, and previous close for Nvidia Corporation (NVDA).\",\n",
        "    #\"Error Handling for API Limits\"\n",
        "     \"Simulate multiple rapid consecutive API calls to test handling of rate limit exceeded errors for data requests.\",\n",
        "    #\"Filter by Trading Volume\"\n",
        "     \"List days where the trading volume for IBM exceeded 5 million shares within the last month.\",\n",
        "    #\"Intraday Price Movements\"\n",
        "     \"Track the intraday price changes for the SPDR S&P 500 ETF (SPY) and highlight any price changes greater than 1% within the day.\",\n",
        "    #\"Convert Currency\"\n",
        "     \"Fetch the latest price for Sony Corp ADR (SNE) and convert it from USD to JPY using the current exchange rate.\",\n",
        "    #\"Historical Price on Specific Date\"\n",
        "     \"Find the closing price for Alibaba (BABA) on March 5th, 2021.\",\n",
        "    #\"Data Consistency Check\"\n",
        "     \"Make consecutive API calls to fetch the current price for Coca-Cola (KO) and compare the consistency of the data returned.\",\n",
        "    #\"Opening and Closing Prices\"\n",
        "     \"Retrieve the opening and closing prices for General Motors (GM) for every day in February 2023.\",\n",
        "    #\"Price Change Notification\"\n",
        "     \"Set up a notification to alert when the price of Bitcoin ETF (BITO) increases by more than 5% within a trading hour.\",\n",
        "    #\"Extended Hours Data\"\n",
        "     \"Fetch pre-market and post-market trading data for Advanced Micro Devices (AMD) on the latest trading day.\",\n",
        "    #\"Response Time Analysis\"\n",
        "     \"Log the response times for fetching the current stock prices for the entire Dow Jones Industrial Average.\",\n",
        "    #\"Data Pagination\"\n",
        "     \"Request all transactions for Pfizer (PFE) on a particularly active day and handle pagination to retrieve all data.\",\n",
        "    #\"Invalid Ticker Handling\"\n",
        "     \"Attempt to fetch data for a nonexistent ticker symbol 'FAKE123' and handle the error gracefully.\",\n",
        "    #\"Date Range Validation\"\n",
        "     \"Request historical data for Ford (F) from December 1st, 2023 to November 1st, 2023 and handle the invalid date range error.\",\n",
        "    #\"Cache Implementation\"\n",
        "     \"Test the caching mechanism by repeatedly querying the last trade price for Shopify (SHOP) and ensuring the cache reduces API call frequency.\"]\n",
        "\n",
        "api = 'azureopenai'  # Assuming the processor handles the API switch\n",
        "# Initialize the FileProcessor\n",
        "processor = FileProcessor(api)\n",
        "\n",
        "# Iterate through each prompt and print the outputs\n",
        "for i, (title, prompt) in enumerate(prompts, start=1):\n",
        "    print(f\"{i}. 'Title of prompt: {title}'\")\n",
        "    try:\n",
        "        # Simulate passing messages if necessary (assuming 'messages' should be defined elsewhere if needed)\n",
        "        messages = []\n",
        "        result = processor.get_user_input(None, prompt, messages)\n",
        "        print(f\"Prompt: \\\"{prompt}\\\"\\nAnswer: {result}\\n\")\n",
        "    except Exception as e:\n",
        "        print(f\"Error while processing prompt titled '{title}': {e}\\n\")\n"
      ],
      "metadata": {
        "id": "zZN9FLb-Xax9",
        "colab": {
          "base_uri": "https://localhost:8080/",
          "height": 211
        },
        "outputId": "56fd9a62-965d-4749-f913-4f926d7256fd"
      },
      "execution_count": null,
      "outputs": [
        {
          "output_type": "error",
          "ename": "ValueError",
          "evalue": "too many values to unpack (expected 2)",
          "traceback": [
            "\u001b[0;31m---------------------------------------------------------------------------\u001b[0m",
            "\u001b[0;31mValueError\u001b[0m                                Traceback (most recent call last)",
            "\u001b[0;32m<ipython-input-8-926a1a330044>\u001b[0m in \u001b[0;36m<cell line: 49>\u001b[0;34m()\u001b[0m\n\u001b[1;32m     47\u001b[0m \u001b[0;34m\u001b[0m\u001b[0m\n\u001b[1;32m     48\u001b[0m \u001b[0;31m# Iterate through each prompt and print the outputs\u001b[0m\u001b[0;34m\u001b[0m\u001b[0;34m\u001b[0m\u001b[0m\n\u001b[0;32m---> 49\u001b[0;31m \u001b[0;32mfor\u001b[0m \u001b[0mi\u001b[0m\u001b[0;34m,\u001b[0m \u001b[0;34m(\u001b[0m\u001b[0mtitle\u001b[0m\u001b[0;34m,\u001b[0m \u001b[0mprompt\u001b[0m\u001b[0;34m)\u001b[0m \u001b[0;32min\u001b[0m \u001b[0menumerate\u001b[0m\u001b[0;34m(\u001b[0m\u001b[0mprompts\u001b[0m\u001b[0;34m,\u001b[0m \u001b[0mstart\u001b[0m\u001b[0;34m=\u001b[0m\u001b[0;36m1\u001b[0m\u001b[0;34m)\u001b[0m\u001b[0;34m:\u001b[0m\u001b[0;34m\u001b[0m\u001b[0;34m\u001b[0m\u001b[0m\n\u001b[0m\u001b[1;32m     50\u001b[0m     \u001b[0mprint\u001b[0m\u001b[0;34m(\u001b[0m\u001b[0;34mf\"{i}. 'Title of prompt: {title}'\"\u001b[0m\u001b[0;34m)\u001b[0m\u001b[0;34m\u001b[0m\u001b[0;34m\u001b[0m\u001b[0m\n\u001b[1;32m     51\u001b[0m     \u001b[0;32mtry\u001b[0m\u001b[0;34m:\u001b[0m\u001b[0;34m\u001b[0m\u001b[0;34m\u001b[0m\u001b[0m\n",
            "\u001b[0;31mValueError\u001b[0m: too many values to unpack (expected 2)"
          ]
        }
      ]
    },
    {
      "cell_type": "markdown",
      "metadata": {
        "id": "bJ0XixSDtaFO"
      },
      "source": [
        "# File"
      ]
    },
    {
      "cell_type": "code",
      "source": [
        "!pip install openai python-docx PyPDF2 python-pptx influxdb-client"
      ],
      "metadata": {
        "id": "mpEdZ3Awusn9",
        "colab": {
          "base_uri": "https://localhost:8080/"
        },
        "outputId": "fffe4b42-e988-4788-bc6f-ca749d6d7208"
      },
      "execution_count": null,
      "outputs": [
        {
          "output_type": "stream",
          "name": "stdout",
          "text": [
            "Requirement already satisfied: openai in /usr/local/lib/python3.10/dist-packages (1.24.0)\n",
            "Requirement already satisfied: python-docx in /usr/local/lib/python3.10/dist-packages (1.1.1)\n",
            "Requirement already satisfied: PyPDF2 in /usr/local/lib/python3.10/dist-packages (3.0.1)\n",
            "Requirement already satisfied: python-pptx in /usr/local/lib/python3.10/dist-packages (0.6.23)\n",
            "Requirement already satisfied: influxdb-client in /usr/local/lib/python3.10/dist-packages (1.42.0)\n",
            "Requirement already satisfied: anyio<5,>=3.5.0 in /usr/local/lib/python3.10/dist-packages (from openai) (3.7.1)\n",
            "Requirement already satisfied: distro<2,>=1.7.0 in /usr/lib/python3/dist-packages (from openai) (1.7.0)\n",
            "Requirement already satisfied: httpx<1,>=0.23.0 in /usr/local/lib/python3.10/dist-packages (from openai) (0.27.0)\n",
            "Requirement already satisfied: pydantic<3,>=1.9.0 in /usr/local/lib/python3.10/dist-packages (from openai) (2.7.0)\n",
            "Requirement already satisfied: sniffio in /usr/local/lib/python3.10/dist-packages (from openai) (1.3.1)\n",
            "Requirement already satisfied: tqdm>4 in /usr/local/lib/python3.10/dist-packages (from openai) (4.66.2)\n",
            "Requirement already satisfied: typing-extensions<5,>=4.7 in /usr/local/lib/python3.10/dist-packages (from openai) (4.11.0)\n",
            "Requirement already satisfied: lxml<=4.9.2,>=3.1.0 in /usr/local/lib/python3.10/dist-packages (from python-docx) (4.9.2)\n",
            "Requirement already satisfied: Pillow>=3.3.2 in /usr/local/lib/python3.10/dist-packages (from python-pptx) (9.4.0)\n",
            "Requirement already satisfied: XlsxWriter>=0.5.7 in /usr/local/lib/python3.10/dist-packages (from python-pptx) (3.2.0)\n",
            "Requirement already satisfied: reactivex>=4.0.4 in /usr/local/lib/python3.10/dist-packages (from influxdb-client) (4.0.4)\n",
            "Requirement already satisfied: certifi>=14.05.14 in /usr/local/lib/python3.10/dist-packages (from influxdb-client) (2024.2.2)\n",
            "Requirement already satisfied: python-dateutil>=2.5.3 in /usr/local/lib/python3.10/dist-packages (from influxdb-client) (2.8.2)\n",
            "Requirement already satisfied: setuptools>=21.0.0 in /usr/local/lib/python3.10/dist-packages (from influxdb-client) (67.7.2)\n",
            "Requirement already satisfied: urllib3>=1.26.0 in /usr/local/lib/python3.10/dist-packages (from influxdb-client) (2.0.7)\n",
            "Requirement already satisfied: idna>=2.8 in /usr/local/lib/python3.10/dist-packages (from anyio<5,>=3.5.0->openai) (3.7)\n",
            "Requirement already satisfied: exceptiongroup in /usr/local/lib/python3.10/dist-packages (from anyio<5,>=3.5.0->openai) (1.2.1)\n",
            "Requirement already satisfied: httpcore==1.* in /usr/local/lib/python3.10/dist-packages (from httpx<1,>=0.23.0->openai) (1.0.5)\n",
            "Requirement already satisfied: h11<0.15,>=0.13 in /usr/local/lib/python3.10/dist-packages (from httpcore==1.*->httpx<1,>=0.23.0->openai) (0.14.0)\n",
            "Requirement already satisfied: annotated-types>=0.4.0 in /usr/local/lib/python3.10/dist-packages (from pydantic<3,>=1.9.0->openai) (0.6.0)\n",
            "Requirement already satisfied: pydantic-core==2.18.1 in /usr/local/lib/python3.10/dist-packages (from pydantic<3,>=1.9.0->openai) (2.18.1)\n",
            "Requirement already satisfied: six>=1.5 in /usr/local/lib/python3.10/dist-packages (from python-dateutil>=2.5.3->influxdb-client) (1.16.0)\n"
          ]
        }
      ]
    },
    {
      "cell_type": "code",
      "execution_count": null,
      "metadata": {
        "id": "KV7RTe8StaFP"
      },
      "outputs": [],
      "source": [
        "import json\n",
        "import chat_with_ai_azureopenai\n",
        "from chat_with_ai_azureopenai import FileProcessor\n",
        "# Define the list of file paths and prompts\n",
        "messages = chat_with_ai_azureopenai.messages\n",
        "file_paths = ['/content/tips.csv', '/content/intro.pptx', \"/content/TjqcZqip.png\", '/content/applyjobs.xlsx',\n",
        "              '/content/sample.pdf', '/content/transcription.txt', '/content/english.mp3', '/content/paper.docx',  None]\n",
        "prompts = [\"what is the main idea of this file?\",\n",
        "           \"what is the main idea of this file?\",\n",
        "           \"what is the main idea of this file?\",\n",
        "           \"what is the main idea of this file?\",\n",
        "           \"what is the main idea of this file?\",\n",
        "           \"what is the main idea of this file?\",\n",
        "           \"what is the main idea of this file?\",\n",
        "           \"what is the main idea of this file?\",\n",
        "           \"What is the trend of NQ stock from 3/10/2023 15:45:30 until 3/11/2023 15:45:30?\"]\n",
        "\n",
        "\n",
        "# Iterate over file_paths and prompts and run the code\n",
        "for file_path, prompt in zip(file_paths, prompts):\n",
        "    try:\n",
        "        #api = 'openai'\n",
        "        api = 'azureopenai'\n",
        "        processor = FileProcessor(api)\n",
        "        print(processor.get_user_input(file_path, prompt, messages))\n",
        "    except Exception as e:\n",
        "        print(f\"An error occurred: {e}\")"
      ]
    },
    {
      "cell_type": "code",
      "source": [
        "!pip install openai python-docx PyPDF2 python-pptx influxdb-client\n",
        "import json\n",
        "import chat_with_ai_azureopenai\n",
        "from chat_with_ai_azureopenai import FileProcessor\n",
        "# Define the list of file paths and prompts\n",
        "messages = chat_with_ai_azureopenai.messages\n",
        "api = 'azureopenai'\n",
        "processor = FileProcessor(api)\n",
        "#relevant prompt\n",
        "prompt = \"What are the current trends in the NASDAQ Composite Index?\"\n",
        "prompt = 'How does the release of a blockbuster movie impact entertainment stocks and correlated market indices?'\n",
        "#irrelevant prompt\n",
        "prompt = \"What is the speed of light?\"\n",
        "prompt ='tell me about english teaching'\n",
        "print(processor.get_user_input(None, prompt , messages))"
      ],
      "metadata": {
        "id": "q1EiyKuUyhJz"
      },
      "execution_count": null,
      "outputs": []
    },
    {
      "cell_type": "code",
      "source": [
        "## Test just tts\n",
        "!pip install openai python-docx PyPDF2 python-pptx influxdb-client\n",
        "import json\n",
        "import chat_with_ai_azureopenai\n",
        "from chat_with_ai_azureopenai import FileProcessor\n",
        "file_path = '/content/tts_test.mp3'\n",
        "#file_path = '/content/english.mp3'\n",
        "# Define the list of file paths and prompts\n",
        "messages = chat_with_ai_azureopenai.messages\n",
        "api = 'azureopenai'\n",
        "processor = FileProcessor(api)\n",
        "#prompt = 'what is the main idea?'\n",
        "prompt = None\n",
        "if file_path == '/content/tts_test.mp3':\n",
        "  print(processor.get_user_input(file_path, prompt, messages)[0])\n",
        "else:\n",
        "  print(processor.get_user_input(file_path, prompt, messages))\n"
      ],
      "metadata": {
        "id": "zKImB6oRjtxo",
        "colab": {
          "base_uri": "https://localhost:8080/"
        },
        "outputId": "2155a8c3-9f87-46bc-99d1-10de5c2b12a3"
      },
      "execution_count": 6,
      "outputs": [
        {
          "output_type": "stream",
          "name": "stdout",
          "text": [
            "Requirement already satisfied: openai in /usr/local/lib/python3.10/dist-packages (1.25.1)\n",
            "Requirement already satisfied: python-docx in /usr/local/lib/python3.10/dist-packages (1.1.2)\n",
            "Requirement already satisfied: PyPDF2 in /usr/local/lib/python3.10/dist-packages (3.0.1)\n",
            "Requirement already satisfied: python-pptx in /usr/local/lib/python3.10/dist-packages (0.6.23)\n",
            "Requirement already satisfied: influxdb-client in /usr/local/lib/python3.10/dist-packages (1.42.0)\n",
            "Requirement already satisfied: anyio<5,>=3.5.0 in /usr/local/lib/python3.10/dist-packages (from openai) (3.7.1)\n",
            "Requirement already satisfied: distro<2,>=1.7.0 in /usr/lib/python3/dist-packages (from openai) (1.7.0)\n",
            "Requirement already satisfied: httpx<1,>=0.23.0 in /usr/local/lib/python3.10/dist-packages (from openai) (0.27.0)\n",
            "Requirement already satisfied: pydantic<3,>=1.9.0 in /usr/local/lib/python3.10/dist-packages (from openai) (2.7.1)\n",
            "Requirement already satisfied: sniffio in /usr/local/lib/python3.10/dist-packages (from openai) (1.3.1)\n",
            "Requirement already satisfied: tqdm>4 in /usr/local/lib/python3.10/dist-packages (from openai) (4.66.2)\n",
            "Requirement already satisfied: typing-extensions<5,>=4.7 in /usr/local/lib/python3.10/dist-packages (from openai) (4.11.0)\n",
            "Requirement already satisfied: lxml>=3.1.0 in /usr/local/lib/python3.10/dist-packages (from python-docx) (4.9.4)\n",
            "Requirement already satisfied: Pillow>=3.3.2 in /usr/local/lib/python3.10/dist-packages (from python-pptx) (9.4.0)\n",
            "Requirement already satisfied: XlsxWriter>=0.5.7 in /usr/local/lib/python3.10/dist-packages (from python-pptx) (3.2.0)\n",
            "Requirement already satisfied: reactivex>=4.0.4 in /usr/local/lib/python3.10/dist-packages (from influxdb-client) (4.0.4)\n",
            "Requirement already satisfied: certifi>=14.05.14 in /usr/local/lib/python3.10/dist-packages (from influxdb-client) (2024.2.2)\n",
            "Requirement already satisfied: python-dateutil>=2.5.3 in /usr/local/lib/python3.10/dist-packages (from influxdb-client) (2.8.2)\n",
            "Requirement already satisfied: setuptools>=21.0.0 in /usr/local/lib/python3.10/dist-packages (from influxdb-client) (67.7.2)\n",
            "Requirement already satisfied: urllib3>=1.26.0 in /usr/local/lib/python3.10/dist-packages (from influxdb-client) (2.0.7)\n",
            "Requirement already satisfied: idna>=2.8 in /usr/local/lib/python3.10/dist-packages (from anyio<5,>=3.5.0->openai) (3.7)\n",
            "Requirement already satisfied: exceptiongroup in /usr/local/lib/python3.10/dist-packages (from anyio<5,>=3.5.0->openai) (1.2.1)\n",
            "Requirement already satisfied: httpcore==1.* in /usr/local/lib/python3.10/dist-packages (from httpx<1,>=0.23.0->openai) (1.0.5)\n",
            "Requirement already satisfied: h11<0.15,>=0.13 in /usr/local/lib/python3.10/dist-packages (from httpcore==1.*->httpx<1,>=0.23.0->openai) (0.14.0)\n",
            "Requirement already satisfied: annotated-types>=0.4.0 in /usr/local/lib/python3.10/dist-packages (from pydantic<3,>=1.9.0->openai) (0.6.0)\n",
            "Requirement already satisfied: pydantic-core==2.18.2 in /usr/local/lib/python3.10/dist-packages (from pydantic<3,>=1.9.0->openai) (2.18.2)\n",
            "Requirement already satisfied: six>=1.5 in /usr/local/lib/python3.10/dist-packages (from python-dateutil>=2.5.3->influxdb-client) (1.16.0)\n",
            "Speech file detected. Processing speech...\n",
            "Speech processing complete.\n",
            "The main idea is to explain the concept of long-term trading in the stock market. Long-term trading involves purchasing shares of a company with the intention of holding them for a substantial duration, typically years or even decades. The objective of long-term trading is to profit from the long-term growth potential of the company and earn recurring dividends. This type of trading is often associated with investment strategies rather than short-term speculation, and those who employ these strategies are referred to as long-term buy-and-hold traders or position traders.\n"
          ]
        }
      ]
    },
    {
      "cell_type": "code",
      "source": [],
      "metadata": {
        "id": "EVaKL8bZqYFs"
      },
      "execution_count": null,
      "outputs": []
    }
  ],
  "metadata": {
    "kernelspec": {
      "display_name": "sepehr",
      "language": "python",
      "name": "python3"
    },
    "language_info": {
      "codemirror_mode": {
        "name": "ipython",
        "version": 3
      },
      "file_extension": ".py",
      "mimetype": "text/x-python",
      "name": "python",
      "nbconvert_exporter": "python",
      "pygments_lexer": "ipython3",
      "version": "3.10.13"
    },
    "colab": {
      "provenance": []
    }
  },
  "nbformat": 4,
  "nbformat_minor": 0
}