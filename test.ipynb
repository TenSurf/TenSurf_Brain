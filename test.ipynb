{
 "cells": [
  {
   "cell_type": "markdown",
   "metadata": {},
   "source": [
    "# Dependencies"
   ]
  },
  {
   "cell_type": "code",
   "execution_count": 1,
   "metadata": {},
   "outputs": [
    {
     "name": "stderr",
     "output_type": "stream",
     "text": [
      "/usr/lib/python3/dist-packages/requests/__init__.py:87: RequestsDependencyWarning: urllib3 (2.2.1) or chardet (4.0.0) doesn't match a supported version!\n",
      "  warnings.warn(\"urllib3 ({}) or chardet ({}) doesn't match a supported \"\n"
     ]
    }
   ],
   "source": [
    "import json\n",
    "from main import llm_surf\n",
    "from function_calling import input_filter"
   ]
  },
  {
   "cell_type": "markdown",
   "metadata": {},
   "source": [
    "# Text"
   ]
  },
  {
   "cell_type": "markdown",
   "metadata": {},
   "source": [
    "## Testing each function individualy"
   ]
  },
  {
   "cell_type": "markdown",
   "metadata": {},
   "source": [
    "### Detect Trend"
   ]
  },
  {
   "cell_type": "code",
   "execution_count": 3,
   "metadata": {},
   "outputs": [],
   "source": [
    "messages = []\n",
    "\n",
    "detect_trend_prompts = [\n",
    "    # Normal Prompts\n",
    "    \"What is the trend of NQ stock from May-1-2024 12:00:00 until May-5-2024 12:00:00?\",\n",
    "    \"What is the trend of NQ stock for the past week?\",\n",
    "    \"What is the trend of NQ?\",\n",
    "    \"What is the trend?\",\n",
    "    # \"Show me the trend of ES from May-1-2024 12:00:00 to May-5-2024 12:00:00.\",\n",
    "    # \"Trend of GC, May-1-2024 12:00:00 to May-5-2024 12:00:00\",\n",
    "    # \"Trend of GC, past 2 hours\",\n",
    "    # \"What is the trend of NQ from May-1-2024 12:00:00 until now?\",\n",
    "    # # Challenging Prompts\n",
    "    \"What is the trend of NQ stock from 3/4/2024/45 15:45:30 until 3/4/2024/67 15:45:30?\",\n",
    "    # \"What is the trend of NQ stock from 20/5/2024 15:45:30 until 24/4/2024 15:45:30?\",\n",
    "    # \"What is the trend of NQ stock from 20/4/2024 15:45:30 until 24/3/2024 15:45:30?\",\n",
    "    # \"What is the trend of NQ stock from 4/20/2024 15:45:30 until 4/24/2024 15:45:30?\",\n",
    "    \"Trend of Gold in the last month?\",\n",
    "    \"Trend in the last month\",\n",
    "]"
   ]
  },
  {
   "cell_type": "code",
   "execution_count": 4,
   "metadata": {},
   "outputs": [
    {
     "name": "stdout",
     "output_type": "stream",
     "text": [
      "[{'role': 'system', 'content': \"Don't make assumptions about what values to plug into functions. Ask for clarification if a user request is ambiguous.\\nYou are a trading assistant called “TenSurf Brain”, you are the brain behind “TenSurf Hub” charting platform with the following guidelines:\\nTool usage: Make sure to restrict your function calls to the provided list of functions. Do not assume the availability of any functions beyond those explicitly listed. Ensure that your implementations and queries adhere strictly to the functions specified.\\nAccuracy: Ensure that the information provided is accurate and up-to-date. Use reliable financial data and current market analysis to inform your responses.\\nClarity: Deliver answers in a clear, concise, and understandable manner. Avoid jargon unless the user demonstrates familiarity with financial terms.\\nPromptness: Aim to provide responses quickly to facilitate timely decision-making for users.\\nConfidentiality: Do not ask for or handle personal investment details or sensitive financial information.\"}, {'role': 'user', 'content': 'What is the trend of NQ stock from May-1-2024 12:00:00 until May-5-2024 12:00:00?'}]\n"
     ]
    },
    {
     "ename": "BadRequestError",
     "evalue": "Error code: 400 - {'error': {'message': \"'Support and resistance levels are key concepts in technical analysis, representing price points on a chart where the odds favor a pause or reversal of a prevailing trend. This function analyzes candlestick charts over a specified timeframe and lookback period to calculate these levels and their respective strengths. Returns a dictionary containing four lists, each corresponding to a specific aspect of the calculated support and resistance levels: 1. levels_prices (list of floats): The prices at which support and resistance levels have been identified. 2. levels_start_timestamps (list of timestamps): The starting timestamps for each identified level, indicating when the level first became relevant. 3. levels_detect_timestamps (list of timestamps): The timestamps in which the levels have been recognized.4. levels_end_timestamps (list of timestamps): The ending timestamps for each level, marking when the level was last relevant. 5. levels_scores (list of floats): Scores associated with each level, indicating the strength or significance of the level. Higher scores typically imply stronger levels.' is too long - 'functions.1.description'\", 'type': 'invalid_request_error', 'param': None, 'code': None}}",
     "output_type": "error",
     "traceback": [
      "\u001b[0;31m---------------------------------------------------------------------------\u001b[0m",
      "\u001b[0;31mBadRequestError\u001b[0m                           Traceback (most recent call last)",
      "Cell \u001b[0;32mIn[4], line 19\u001b[0m\n\u001b[1;32m      7\u001b[0m \u001b[38;5;28;01mfor\u001b[39;00m prompt \u001b[38;5;129;01min\u001b[39;00m detect_trend_prompts:\n\u001b[1;32m      8\u001b[0m     input_json \u001b[38;5;241m=\u001b[39m {\n\u001b[1;32m      9\u001b[0m         \u001b[38;5;124m\"\u001b[39m\u001b[38;5;124mfile\u001b[39m\u001b[38;5;124m\"\u001b[39m: \u001b[38;5;28;01mNone\u001b[39;00m,\n\u001b[1;32m     10\u001b[0m         \u001b[38;5;124m\"\u001b[39m\u001b[38;5;124mnew_message\u001b[39m\u001b[38;5;124m\"\u001b[39m: prompt,\n\u001b[0;32m   (...)\u001b[0m\n\u001b[1;32m     17\u001b[0m         \u001b[38;5;124m\"\u001b[39m\u001b[38;5;124muser_id\u001b[39m\u001b[38;5;124m\"\u001b[39m: \u001b[38;5;124m\"\u001b[39m\u001b[38;5;124m1\u001b[39m\u001b[38;5;124m\"\u001b[39m,\n\u001b[1;32m     18\u001b[0m     }\n\u001b[0;32m---> 19\u001b[0m     result \u001b[38;5;241m=\u001b[39m \u001b[43mllm_surf\u001b[49m\u001b[43m(\u001b[49m\u001b[43minput_json\u001b[49m\u001b[43m)\u001b[49m\n\u001b[1;32m     20\u001b[0m     \u001b[38;5;28mprint\u001b[39m(\u001b[38;5;124mf\u001b[39m\u001b[38;5;124m\"\u001b[39m\u001b[38;5;132;01m{\u001b[39;00mprompt\u001b[38;5;132;01m}\u001b[39;00m\u001b[38;5;124m    =>    \u001b[39m\u001b[38;5;132;01m{\u001b[39;00mresult\u001b[38;5;132;01m}\u001b[39;00m\u001b[38;5;124m\"\u001b[39m)\n\u001b[1;32m     21\u001b[0m     detect_trend_results[prompt]\u001b[38;5;241m=\u001b[39mresult\n",
      "File \u001b[0;32m~/tensurf/TenSurf_Brain/main.py:98\u001b[0m, in \u001b[0;36mllm_surf\u001b[0;34m(llm_input)\u001b[0m\n\u001b[1;32m     95\u001b[0m     content \u001b[38;5;241m+\u001b[39m\u001b[38;5;241m=\u001b[39m fileProcessor\u001b[38;5;241m.\u001b[39mdefault_prompt \u001b[38;5;241m+\u001b[39m \u001b[38;5;124m\"\u001b[39m\u001b[38;5;130;01m\\n\u001b[39;00m\u001b[38;5;124m\"\u001b[39m\n\u001b[1;32m     97\u001b[0m functionCalling \u001b[38;5;241m=\u001b[39m FunctionCalling(azure_connector_surf\u001b[38;5;241m.\u001b[39mclient)\n\u001b[0;32m---> 98\u001b[0m \u001b[43mfunctionCalling\u001b[49m\u001b[38;5;241;43m.\u001b[39;49m\u001b[43mgenerate_answer\u001b[49m\u001b[43m(\u001b[49m\u001b[43mllm_input\u001b[49m\u001b[38;5;241;43m=\u001b[39;49m\u001b[43mllm_input\u001b[49m\u001b[43m,\u001b[49m\u001b[43m \u001b[49m\u001b[43mcontent\u001b[49m\u001b[38;5;241;43m=\u001b[39;49m\u001b[43mcontent\u001b[49m\u001b[43m)\u001b[49m\n\u001b[1;32m    100\u001b[0m llm_output[\u001b[38;5;124m\"\u001b[39m\u001b[38;5;124mfile\u001b[39m\u001b[38;5;124m\"\u001b[39m] \u001b[38;5;241m=\u001b[39m fileProcessor\u001b[38;5;241m.\u001b[39mtext_to_speech(res)\n\u001b[1;32m    101\u001b[0m \u001b[38;5;28;01mreturn\u001b[39;00m llm_output\n",
      "File \u001b[0;32m~/tensurf/TenSurf_Brain/function_calling/view.py:250\u001b[0m, in \u001b[0;36mFunctionCalling.generate_answer\u001b[0;34m(self, llm_input, content)\u001b[0m\n\u001b[1;32m    248\u001b[0m \u001b[38;5;66;03m# getting the result of the prompt\u001b[39;00m\n\u001b[1;32m    249\u001b[0m \u001b[38;5;28mprint\u001b[39m(llm_input\u001b[38;5;241m.\u001b[39mget(\u001b[38;5;124m\"\u001b[39m\u001b[38;5;124mhistory_message\u001b[39m\u001b[38;5;124m\"\u001b[39m))\n\u001b[0;32m--> 250\u001b[0m response \u001b[38;5;241m=\u001b[39m \u001b[38;5;28;43mself\u001b[39;49m\u001b[38;5;241;43m.\u001b[39;49m\u001b[43mgenerate_llm_response\u001b[49m\u001b[43m(\u001b[49m\n\u001b[1;32m    251\u001b[0m \u001b[43m    \u001b[49m\u001b[43mllm_input\u001b[49m\u001b[38;5;241;43m.\u001b[39;49m\u001b[43mget\u001b[49m\u001b[43m(\u001b[49m\u001b[38;5;124;43m\"\u001b[39;49m\u001b[38;5;124;43mhistory_message\u001b[39;49m\u001b[38;5;124;43m\"\u001b[39;49m\u001b[43m)\u001b[49m\u001b[43m,\u001b[49m\n\u001b[1;32m    252\u001b[0m \u001b[43m    \u001b[49m\u001b[43mfunctions\u001b[49m\u001b[43m,\u001b[49m\n\u001b[1;32m    253\u001b[0m \u001b[43m    \u001b[49m\u001b[43mos\u001b[49m\u001b[38;5;241;43m.\u001b[39;49m\u001b[43mgetenv\u001b[49m\u001b[43m(\u001b[49m\u001b[38;5;124;43m\"\u001b[39;49m\u001b[38;5;124;43mazure_GPT_MODEL_3\u001b[39;49m\u001b[38;5;124;43m\"\u001b[39;49m\u001b[43m)\u001b[49m\u001b[43m,\u001b[49m\n\u001b[1;32m    254\u001b[0m \u001b[43m    \u001b[49m\u001b[38;5;124;43m\"\u001b[39;49m\u001b[38;5;124;43mauto\u001b[39;49m\u001b[38;5;124;43m\"\u001b[39;49m\u001b[43m,\u001b[49m\n\u001b[1;32m    255\u001b[0m \u001b[43m    \u001b[49m\u001b[38;5;241;43m0.2\u001b[39;49m\u001b[43m,\u001b[49m\n\u001b[1;32m    256\u001b[0m \u001b[43m\u001b[49m\u001b[43m)\u001b[49m\n\u001b[1;32m    257\u001b[0m \u001b[38;5;28mprint\u001b[39m(\u001b[38;5;241m2\u001b[39m)\n\u001b[1;32m    258\u001b[0m res \u001b[38;5;241m=\u001b[39m \u001b[38;5;28mself\u001b[39m\u001b[38;5;241m.\u001b[39mget_results(\n\u001b[1;32m    259\u001b[0m     llm_input,\n\u001b[1;32m    260\u001b[0m     response,\n\u001b[1;32m    261\u001b[0m )\n",
      "File \u001b[0;32m~/tensurf/TenSurf_Brain/function_calling/view.py:31\u001b[0m, in \u001b[0;36mFunctionCalling.generate_llm_response\u001b[0;34m(self, messages, functions, model, function_call, temperature)\u001b[0m\n\u001b[1;32m     28\u001b[0m \u001b[38;5;28;01mdef\u001b[39;00m \u001b[38;5;21mgenerate_llm_response\u001b[39m(\n\u001b[1;32m     29\u001b[0m     \u001b[38;5;28mself\u001b[39m, messages, functions, model, function_call, temperature\u001b[38;5;241m=\u001b[39m\u001b[38;5;241m0.2\u001b[39m\n\u001b[1;32m     30\u001b[0m ):\n\u001b[0;32m---> 31\u001b[0m     response \u001b[38;5;241m=\u001b[39m \u001b[38;5;28;43mself\u001b[39;49m\u001b[38;5;241;43m.\u001b[39;49m\u001b[43mclient\u001b[49m\u001b[38;5;241;43m.\u001b[39;49m\u001b[43mchat\u001b[49m\u001b[38;5;241;43m.\u001b[39;49m\u001b[43mcompletions\u001b[49m\u001b[38;5;241;43m.\u001b[39;49m\u001b[43mcreate\u001b[49m\u001b[43m(\u001b[49m\n\u001b[1;32m     32\u001b[0m \u001b[43m        \u001b[49m\u001b[43mmodel\u001b[49m\u001b[38;5;241;43m=\u001b[39;49m\u001b[43mmodel\u001b[49m\u001b[43m,\u001b[49m\n\u001b[1;32m     33\u001b[0m \u001b[43m        \u001b[49m\u001b[43mmessages\u001b[49m\u001b[38;5;241;43m=\u001b[39;49m\u001b[43mmessages\u001b[49m\u001b[43m,\u001b[49m\n\u001b[1;32m     34\u001b[0m \u001b[43m        \u001b[49m\u001b[43mfunctions\u001b[49m\u001b[38;5;241;43m=\u001b[39;49m\u001b[43mfunctions\u001b[49m\u001b[43m,\u001b[49m\n\u001b[1;32m     35\u001b[0m \u001b[43m        \u001b[49m\u001b[43mfunction_call\u001b[49m\u001b[38;5;241;43m=\u001b[39;49m\u001b[43mfunction_call\u001b[49m\u001b[43m,\u001b[49m\n\u001b[1;32m     36\u001b[0m \u001b[43m        \u001b[49m\u001b[43mtemperature\u001b[49m\u001b[38;5;241;43m=\u001b[39;49m\u001b[43mtemperature\u001b[49m\u001b[43m,\u001b[49m\n\u001b[1;32m     37\u001b[0m \u001b[43m    \u001b[49m\u001b[43m)\u001b[49m\n\u001b[1;32m     38\u001b[0m     \u001b[38;5;28;01mreturn\u001b[39;00m response\n",
      "File \u001b[0;32m~/.local/lib/python3.10/site-packages/openai/_utils/_utils.py:275\u001b[0m, in \u001b[0;36mrequired_args.<locals>.inner.<locals>.wrapper\u001b[0;34m(*args, **kwargs)\u001b[0m\n\u001b[1;32m    273\u001b[0m             msg \u001b[38;5;241m=\u001b[39m \u001b[38;5;124mf\u001b[39m\u001b[38;5;124m\"\u001b[39m\u001b[38;5;124mMissing required argument: \u001b[39m\u001b[38;5;132;01m{\u001b[39;00mquote(missing[\u001b[38;5;241m0\u001b[39m])\u001b[38;5;132;01m}\u001b[39;00m\u001b[38;5;124m\"\u001b[39m\n\u001b[1;32m    274\u001b[0m     \u001b[38;5;28;01mraise\u001b[39;00m \u001b[38;5;167;01mTypeError\u001b[39;00m(msg)\n\u001b[0;32m--> 275\u001b[0m \u001b[38;5;28;01mreturn\u001b[39;00m \u001b[43mfunc\u001b[49m\u001b[43m(\u001b[49m\u001b[38;5;241;43m*\u001b[39;49m\u001b[43margs\u001b[49m\u001b[43m,\u001b[49m\u001b[43m \u001b[49m\u001b[38;5;241;43m*\u001b[39;49m\u001b[38;5;241;43m*\u001b[39;49m\u001b[43mkwargs\u001b[49m\u001b[43m)\u001b[49m\n",
      "File \u001b[0;32m~/.local/lib/python3.10/site-packages/openai/resources/chat/completions.py:667\u001b[0m, in \u001b[0;36mCompletions.create\u001b[0;34m(self, messages, model, frequency_penalty, function_call, functions, logit_bias, logprobs, max_tokens, n, presence_penalty, response_format, seed, stop, stream, temperature, tool_choice, tools, top_logprobs, top_p, user, extra_headers, extra_query, extra_body, timeout)\u001b[0m\n\u001b[1;32m    615\u001b[0m \u001b[38;5;129m@required_args\u001b[39m([\u001b[38;5;124m\"\u001b[39m\u001b[38;5;124mmessages\u001b[39m\u001b[38;5;124m\"\u001b[39m, \u001b[38;5;124m\"\u001b[39m\u001b[38;5;124mmodel\u001b[39m\u001b[38;5;124m\"\u001b[39m], [\u001b[38;5;124m\"\u001b[39m\u001b[38;5;124mmessages\u001b[39m\u001b[38;5;124m\"\u001b[39m, \u001b[38;5;124m\"\u001b[39m\u001b[38;5;124mmodel\u001b[39m\u001b[38;5;124m\"\u001b[39m, \u001b[38;5;124m\"\u001b[39m\u001b[38;5;124mstream\u001b[39m\u001b[38;5;124m\"\u001b[39m])\n\u001b[1;32m    616\u001b[0m \u001b[38;5;28;01mdef\u001b[39;00m \u001b[38;5;21mcreate\u001b[39m(\n\u001b[1;32m    617\u001b[0m     \u001b[38;5;28mself\u001b[39m,\n\u001b[0;32m   (...)\u001b[0m\n\u001b[1;32m    665\u001b[0m     timeout: \u001b[38;5;28mfloat\u001b[39m \u001b[38;5;241m|\u001b[39m httpx\u001b[38;5;241m.\u001b[39mTimeout \u001b[38;5;241m|\u001b[39m \u001b[38;5;28;01mNone\u001b[39;00m \u001b[38;5;241m|\u001b[39m NotGiven \u001b[38;5;241m=\u001b[39m NOT_GIVEN,\n\u001b[1;32m    666\u001b[0m ) \u001b[38;5;241m-\u001b[39m\u001b[38;5;241m>\u001b[39m ChatCompletion \u001b[38;5;241m|\u001b[39m Stream[ChatCompletionChunk]:\n\u001b[0;32m--> 667\u001b[0m     \u001b[38;5;28;01mreturn\u001b[39;00m \u001b[38;5;28;43mself\u001b[39;49m\u001b[38;5;241;43m.\u001b[39;49m\u001b[43m_post\u001b[49m\u001b[43m(\u001b[49m\n\u001b[1;32m    668\u001b[0m \u001b[43m        \u001b[49m\u001b[38;5;124;43m\"\u001b[39;49m\u001b[38;5;124;43m/chat/completions\u001b[39;49m\u001b[38;5;124;43m\"\u001b[39;49m\u001b[43m,\u001b[49m\n\u001b[1;32m    669\u001b[0m \u001b[43m        \u001b[49m\u001b[43mbody\u001b[49m\u001b[38;5;241;43m=\u001b[39;49m\u001b[43mmaybe_transform\u001b[49m\u001b[43m(\u001b[49m\n\u001b[1;32m    670\u001b[0m \u001b[43m            \u001b[49m\u001b[43m{\u001b[49m\n\u001b[1;32m    671\u001b[0m \u001b[43m                \u001b[49m\u001b[38;5;124;43m\"\u001b[39;49m\u001b[38;5;124;43mmessages\u001b[39;49m\u001b[38;5;124;43m\"\u001b[39;49m\u001b[43m:\u001b[49m\u001b[43m \u001b[49m\u001b[43mmessages\u001b[49m\u001b[43m,\u001b[49m\n\u001b[1;32m    672\u001b[0m \u001b[43m                \u001b[49m\u001b[38;5;124;43m\"\u001b[39;49m\u001b[38;5;124;43mmodel\u001b[39;49m\u001b[38;5;124;43m\"\u001b[39;49m\u001b[43m:\u001b[49m\u001b[43m \u001b[49m\u001b[43mmodel\u001b[49m\u001b[43m,\u001b[49m\n\u001b[1;32m    673\u001b[0m \u001b[43m                \u001b[49m\u001b[38;5;124;43m\"\u001b[39;49m\u001b[38;5;124;43mfrequency_penalty\u001b[39;49m\u001b[38;5;124;43m\"\u001b[39;49m\u001b[43m:\u001b[49m\u001b[43m \u001b[49m\u001b[43mfrequency_penalty\u001b[49m\u001b[43m,\u001b[49m\n\u001b[1;32m    674\u001b[0m \u001b[43m                \u001b[49m\u001b[38;5;124;43m\"\u001b[39;49m\u001b[38;5;124;43mfunction_call\u001b[39;49m\u001b[38;5;124;43m\"\u001b[39;49m\u001b[43m:\u001b[49m\u001b[43m \u001b[49m\u001b[43mfunction_call\u001b[49m\u001b[43m,\u001b[49m\n\u001b[1;32m    675\u001b[0m \u001b[43m                \u001b[49m\u001b[38;5;124;43m\"\u001b[39;49m\u001b[38;5;124;43mfunctions\u001b[39;49m\u001b[38;5;124;43m\"\u001b[39;49m\u001b[43m:\u001b[49m\u001b[43m \u001b[49m\u001b[43mfunctions\u001b[49m\u001b[43m,\u001b[49m\n\u001b[1;32m    676\u001b[0m \u001b[43m                \u001b[49m\u001b[38;5;124;43m\"\u001b[39;49m\u001b[38;5;124;43mlogit_bias\u001b[39;49m\u001b[38;5;124;43m\"\u001b[39;49m\u001b[43m:\u001b[49m\u001b[43m \u001b[49m\u001b[43mlogit_bias\u001b[49m\u001b[43m,\u001b[49m\n\u001b[1;32m    677\u001b[0m \u001b[43m                \u001b[49m\u001b[38;5;124;43m\"\u001b[39;49m\u001b[38;5;124;43mlogprobs\u001b[39;49m\u001b[38;5;124;43m\"\u001b[39;49m\u001b[43m:\u001b[49m\u001b[43m \u001b[49m\u001b[43mlogprobs\u001b[49m\u001b[43m,\u001b[49m\n\u001b[1;32m    678\u001b[0m \u001b[43m                \u001b[49m\u001b[38;5;124;43m\"\u001b[39;49m\u001b[38;5;124;43mmax_tokens\u001b[39;49m\u001b[38;5;124;43m\"\u001b[39;49m\u001b[43m:\u001b[49m\u001b[43m \u001b[49m\u001b[43mmax_tokens\u001b[49m\u001b[43m,\u001b[49m\n\u001b[1;32m    679\u001b[0m \u001b[43m                \u001b[49m\u001b[38;5;124;43m\"\u001b[39;49m\u001b[38;5;124;43mn\u001b[39;49m\u001b[38;5;124;43m\"\u001b[39;49m\u001b[43m:\u001b[49m\u001b[43m \u001b[49m\u001b[43mn\u001b[49m\u001b[43m,\u001b[49m\n\u001b[1;32m    680\u001b[0m \u001b[43m                \u001b[49m\u001b[38;5;124;43m\"\u001b[39;49m\u001b[38;5;124;43mpresence_penalty\u001b[39;49m\u001b[38;5;124;43m\"\u001b[39;49m\u001b[43m:\u001b[49m\u001b[43m \u001b[49m\u001b[43mpresence_penalty\u001b[49m\u001b[43m,\u001b[49m\n\u001b[1;32m    681\u001b[0m \u001b[43m                \u001b[49m\u001b[38;5;124;43m\"\u001b[39;49m\u001b[38;5;124;43mresponse_format\u001b[39;49m\u001b[38;5;124;43m\"\u001b[39;49m\u001b[43m:\u001b[49m\u001b[43m \u001b[49m\u001b[43mresponse_format\u001b[49m\u001b[43m,\u001b[49m\n\u001b[1;32m    682\u001b[0m \u001b[43m                \u001b[49m\u001b[38;5;124;43m\"\u001b[39;49m\u001b[38;5;124;43mseed\u001b[39;49m\u001b[38;5;124;43m\"\u001b[39;49m\u001b[43m:\u001b[49m\u001b[43m \u001b[49m\u001b[43mseed\u001b[49m\u001b[43m,\u001b[49m\n\u001b[1;32m    683\u001b[0m \u001b[43m                \u001b[49m\u001b[38;5;124;43m\"\u001b[39;49m\u001b[38;5;124;43mstop\u001b[39;49m\u001b[38;5;124;43m\"\u001b[39;49m\u001b[43m:\u001b[49m\u001b[43m \u001b[49m\u001b[43mstop\u001b[49m\u001b[43m,\u001b[49m\n\u001b[1;32m    684\u001b[0m \u001b[43m                \u001b[49m\u001b[38;5;124;43m\"\u001b[39;49m\u001b[38;5;124;43mstream\u001b[39;49m\u001b[38;5;124;43m\"\u001b[39;49m\u001b[43m:\u001b[49m\u001b[43m \u001b[49m\u001b[43mstream\u001b[49m\u001b[43m,\u001b[49m\n\u001b[1;32m    685\u001b[0m \u001b[43m                \u001b[49m\u001b[38;5;124;43m\"\u001b[39;49m\u001b[38;5;124;43mtemperature\u001b[39;49m\u001b[38;5;124;43m\"\u001b[39;49m\u001b[43m:\u001b[49m\u001b[43m \u001b[49m\u001b[43mtemperature\u001b[49m\u001b[43m,\u001b[49m\n\u001b[1;32m    686\u001b[0m \u001b[43m                \u001b[49m\u001b[38;5;124;43m\"\u001b[39;49m\u001b[38;5;124;43mtool_choice\u001b[39;49m\u001b[38;5;124;43m\"\u001b[39;49m\u001b[43m:\u001b[49m\u001b[43m \u001b[49m\u001b[43mtool_choice\u001b[49m\u001b[43m,\u001b[49m\n\u001b[1;32m    687\u001b[0m \u001b[43m                \u001b[49m\u001b[38;5;124;43m\"\u001b[39;49m\u001b[38;5;124;43mtools\u001b[39;49m\u001b[38;5;124;43m\"\u001b[39;49m\u001b[43m:\u001b[49m\u001b[43m \u001b[49m\u001b[43mtools\u001b[49m\u001b[43m,\u001b[49m\n\u001b[1;32m    688\u001b[0m \u001b[43m                \u001b[49m\u001b[38;5;124;43m\"\u001b[39;49m\u001b[38;5;124;43mtop_logprobs\u001b[39;49m\u001b[38;5;124;43m\"\u001b[39;49m\u001b[43m:\u001b[49m\u001b[43m \u001b[49m\u001b[43mtop_logprobs\u001b[49m\u001b[43m,\u001b[49m\n\u001b[1;32m    689\u001b[0m \u001b[43m                \u001b[49m\u001b[38;5;124;43m\"\u001b[39;49m\u001b[38;5;124;43mtop_p\u001b[39;49m\u001b[38;5;124;43m\"\u001b[39;49m\u001b[43m:\u001b[49m\u001b[43m \u001b[49m\u001b[43mtop_p\u001b[49m\u001b[43m,\u001b[49m\n\u001b[1;32m    690\u001b[0m \u001b[43m                \u001b[49m\u001b[38;5;124;43m\"\u001b[39;49m\u001b[38;5;124;43muser\u001b[39;49m\u001b[38;5;124;43m\"\u001b[39;49m\u001b[43m:\u001b[49m\u001b[43m \u001b[49m\u001b[43muser\u001b[49m\u001b[43m,\u001b[49m\n\u001b[1;32m    691\u001b[0m \u001b[43m            \u001b[49m\u001b[43m}\u001b[49m\u001b[43m,\u001b[49m\n\u001b[1;32m    692\u001b[0m \u001b[43m            \u001b[49m\u001b[43mcompletion_create_params\u001b[49m\u001b[38;5;241;43m.\u001b[39;49m\u001b[43mCompletionCreateParams\u001b[49m\u001b[43m,\u001b[49m\n\u001b[1;32m    693\u001b[0m \u001b[43m        \u001b[49m\u001b[43m)\u001b[49m\u001b[43m,\u001b[49m\n\u001b[1;32m    694\u001b[0m \u001b[43m        \u001b[49m\u001b[43moptions\u001b[49m\u001b[38;5;241;43m=\u001b[39;49m\u001b[43mmake_request_options\u001b[49m\u001b[43m(\u001b[49m\n\u001b[1;32m    695\u001b[0m \u001b[43m            \u001b[49m\u001b[43mextra_headers\u001b[49m\u001b[38;5;241;43m=\u001b[39;49m\u001b[43mextra_headers\u001b[49m\u001b[43m,\u001b[49m\u001b[43m \u001b[49m\u001b[43mextra_query\u001b[49m\u001b[38;5;241;43m=\u001b[39;49m\u001b[43mextra_query\u001b[49m\u001b[43m,\u001b[49m\u001b[43m \u001b[49m\u001b[43mextra_body\u001b[49m\u001b[38;5;241;43m=\u001b[39;49m\u001b[43mextra_body\u001b[49m\u001b[43m,\u001b[49m\u001b[43m \u001b[49m\u001b[43mtimeout\u001b[49m\u001b[38;5;241;43m=\u001b[39;49m\u001b[43mtimeout\u001b[49m\n\u001b[1;32m    696\u001b[0m \u001b[43m        \u001b[49m\u001b[43m)\u001b[49m\u001b[43m,\u001b[49m\n\u001b[1;32m    697\u001b[0m \u001b[43m        \u001b[49m\u001b[43mcast_to\u001b[49m\u001b[38;5;241;43m=\u001b[39;49m\u001b[43mChatCompletion\u001b[49m\u001b[43m,\u001b[49m\n\u001b[1;32m    698\u001b[0m \u001b[43m        \u001b[49m\u001b[43mstream\u001b[49m\u001b[38;5;241;43m=\u001b[39;49m\u001b[43mstream\u001b[49m\u001b[43m \u001b[49m\u001b[38;5;129;43;01mor\u001b[39;49;00m\u001b[43m \u001b[49m\u001b[38;5;28;43;01mFalse\u001b[39;49;00m\u001b[43m,\u001b[49m\n\u001b[1;32m    699\u001b[0m \u001b[43m        \u001b[49m\u001b[43mstream_cls\u001b[49m\u001b[38;5;241;43m=\u001b[39;49m\u001b[43mStream\u001b[49m\u001b[43m[\u001b[49m\u001b[43mChatCompletionChunk\u001b[49m\u001b[43m]\u001b[49m\u001b[43m,\u001b[49m\n\u001b[1;32m    700\u001b[0m \u001b[43m    \u001b[49m\u001b[43m)\u001b[49m\n",
      "File \u001b[0;32m~/.local/lib/python3.10/site-packages/openai/_base_client.py:1233\u001b[0m, in \u001b[0;36mSyncAPIClient.post\u001b[0;34m(self, path, cast_to, body, options, files, stream, stream_cls)\u001b[0m\n\u001b[1;32m   1219\u001b[0m \u001b[38;5;28;01mdef\u001b[39;00m \u001b[38;5;21mpost\u001b[39m(\n\u001b[1;32m   1220\u001b[0m     \u001b[38;5;28mself\u001b[39m,\n\u001b[1;32m   1221\u001b[0m     path: \u001b[38;5;28mstr\u001b[39m,\n\u001b[0;32m   (...)\u001b[0m\n\u001b[1;32m   1228\u001b[0m     stream_cls: \u001b[38;5;28mtype\u001b[39m[_StreamT] \u001b[38;5;241m|\u001b[39m \u001b[38;5;28;01mNone\u001b[39;00m \u001b[38;5;241m=\u001b[39m \u001b[38;5;28;01mNone\u001b[39;00m,\n\u001b[1;32m   1229\u001b[0m ) \u001b[38;5;241m-\u001b[39m\u001b[38;5;241m>\u001b[39m ResponseT \u001b[38;5;241m|\u001b[39m _StreamT:\n\u001b[1;32m   1230\u001b[0m     opts \u001b[38;5;241m=\u001b[39m FinalRequestOptions\u001b[38;5;241m.\u001b[39mconstruct(\n\u001b[1;32m   1231\u001b[0m         method\u001b[38;5;241m=\u001b[39m\u001b[38;5;124m\"\u001b[39m\u001b[38;5;124mpost\u001b[39m\u001b[38;5;124m\"\u001b[39m, url\u001b[38;5;241m=\u001b[39mpath, json_data\u001b[38;5;241m=\u001b[39mbody, files\u001b[38;5;241m=\u001b[39mto_httpx_files(files), \u001b[38;5;241m*\u001b[39m\u001b[38;5;241m*\u001b[39moptions\n\u001b[1;32m   1232\u001b[0m     )\n\u001b[0;32m-> 1233\u001b[0m     \u001b[38;5;28;01mreturn\u001b[39;00m cast(ResponseT, \u001b[38;5;28;43mself\u001b[39;49m\u001b[38;5;241;43m.\u001b[39;49m\u001b[43mrequest\u001b[49m\u001b[43m(\u001b[49m\u001b[43mcast_to\u001b[49m\u001b[43m,\u001b[49m\u001b[43m \u001b[49m\u001b[43mopts\u001b[49m\u001b[43m,\u001b[49m\u001b[43m \u001b[49m\u001b[43mstream\u001b[49m\u001b[38;5;241;43m=\u001b[39;49m\u001b[43mstream\u001b[49m\u001b[43m,\u001b[49m\u001b[43m \u001b[49m\u001b[43mstream_cls\u001b[49m\u001b[38;5;241;43m=\u001b[39;49m\u001b[43mstream_cls\u001b[49m\u001b[43m)\u001b[49m)\n",
      "File \u001b[0;32m~/.local/lib/python3.10/site-packages/openai/_base_client.py:922\u001b[0m, in \u001b[0;36mSyncAPIClient.request\u001b[0;34m(self, cast_to, options, remaining_retries, stream, stream_cls)\u001b[0m\n\u001b[1;32m    913\u001b[0m \u001b[38;5;28;01mdef\u001b[39;00m \u001b[38;5;21mrequest\u001b[39m(\n\u001b[1;32m    914\u001b[0m     \u001b[38;5;28mself\u001b[39m,\n\u001b[1;32m    915\u001b[0m     cast_to: Type[ResponseT],\n\u001b[0;32m   (...)\u001b[0m\n\u001b[1;32m    920\u001b[0m     stream_cls: \u001b[38;5;28mtype\u001b[39m[_StreamT] \u001b[38;5;241m|\u001b[39m \u001b[38;5;28;01mNone\u001b[39;00m \u001b[38;5;241m=\u001b[39m \u001b[38;5;28;01mNone\u001b[39;00m,\n\u001b[1;32m    921\u001b[0m ) \u001b[38;5;241m-\u001b[39m\u001b[38;5;241m>\u001b[39m ResponseT \u001b[38;5;241m|\u001b[39m _StreamT:\n\u001b[0;32m--> 922\u001b[0m     \u001b[38;5;28;01mreturn\u001b[39;00m \u001b[38;5;28;43mself\u001b[39;49m\u001b[38;5;241;43m.\u001b[39;49m\u001b[43m_request\u001b[49m\u001b[43m(\u001b[49m\n\u001b[1;32m    923\u001b[0m \u001b[43m        \u001b[49m\u001b[43mcast_to\u001b[49m\u001b[38;5;241;43m=\u001b[39;49m\u001b[43mcast_to\u001b[49m\u001b[43m,\u001b[49m\n\u001b[1;32m    924\u001b[0m \u001b[43m        \u001b[49m\u001b[43moptions\u001b[49m\u001b[38;5;241;43m=\u001b[39;49m\u001b[43moptions\u001b[49m\u001b[43m,\u001b[49m\n\u001b[1;32m    925\u001b[0m \u001b[43m        \u001b[49m\u001b[43mstream\u001b[49m\u001b[38;5;241;43m=\u001b[39;49m\u001b[43mstream\u001b[49m\u001b[43m,\u001b[49m\n\u001b[1;32m    926\u001b[0m \u001b[43m        \u001b[49m\u001b[43mstream_cls\u001b[49m\u001b[38;5;241;43m=\u001b[39;49m\u001b[43mstream_cls\u001b[49m\u001b[43m,\u001b[49m\n\u001b[1;32m    927\u001b[0m \u001b[43m        \u001b[49m\u001b[43mremaining_retries\u001b[49m\u001b[38;5;241;43m=\u001b[39;49m\u001b[43mremaining_retries\u001b[49m\u001b[43m,\u001b[49m\n\u001b[1;32m    928\u001b[0m \u001b[43m    \u001b[49m\u001b[43m)\u001b[49m\n",
      "File \u001b[0;32m~/.local/lib/python3.10/site-packages/openai/_base_client.py:1013\u001b[0m, in \u001b[0;36mSyncAPIClient._request\u001b[0;34m(self, cast_to, options, remaining_retries, stream, stream_cls)\u001b[0m\n\u001b[1;32m   1010\u001b[0m         err\u001b[38;5;241m.\u001b[39mresponse\u001b[38;5;241m.\u001b[39mread()\n\u001b[1;32m   1012\u001b[0m     log\u001b[38;5;241m.\u001b[39mdebug(\u001b[38;5;124m\"\u001b[39m\u001b[38;5;124mRe-raising status error\u001b[39m\u001b[38;5;124m\"\u001b[39m)\n\u001b[0;32m-> 1013\u001b[0m     \u001b[38;5;28;01mraise\u001b[39;00m \u001b[38;5;28mself\u001b[39m\u001b[38;5;241m.\u001b[39m_make_status_error_from_response(err\u001b[38;5;241m.\u001b[39mresponse) \u001b[38;5;28;01mfrom\u001b[39;00m \u001b[38;5;28;01mNone\u001b[39;00m\n\u001b[1;32m   1015\u001b[0m \u001b[38;5;28;01mreturn\u001b[39;00m \u001b[38;5;28mself\u001b[39m\u001b[38;5;241m.\u001b[39m_process_response(\n\u001b[1;32m   1016\u001b[0m     cast_to\u001b[38;5;241m=\u001b[39mcast_to,\n\u001b[1;32m   1017\u001b[0m     options\u001b[38;5;241m=\u001b[39moptions,\n\u001b[0;32m   (...)\u001b[0m\n\u001b[1;32m   1020\u001b[0m     stream_cls\u001b[38;5;241m=\u001b[39mstream_cls,\n\u001b[1;32m   1021\u001b[0m )\n",
      "\u001b[0;31mBadRequestError\u001b[0m: Error code: 400 - {'error': {'message': \"'Support and resistance levels are key concepts in technical analysis, representing price points on a chart where the odds favor a pause or reversal of a prevailing trend. This function analyzes candlestick charts over a specified timeframe and lookback period to calculate these levels and their respective strengths. Returns a dictionary containing four lists, each corresponding to a specific aspect of the calculated support and resistance levels: 1. levels_prices (list of floats): The prices at which support and resistance levels have been identified. 2. levels_start_timestamps (list of timestamps): The starting timestamps for each identified level, indicating when the level first became relevant. 3. levels_detect_timestamps (list of timestamps): The timestamps in which the levels have been recognized.4. levels_end_timestamps (list of timestamps): The ending timestamps for each level, marking when the level was last relevant. 5. levels_scores (list of floats): Scores associated with each level, indicating the strength or significance of the level. Higher scores typically imply stronger levels.' is too long - 'functions.1.description'\", 'type': 'invalid_request_error', 'param': None, 'code': None}}"
     ]
    }
   ],
   "source": [
    "# saving the answer of the prompt in a dictionary which its key is the prompt and its value is the answer to that prompt\n",
    "detect_trend_results = {}\n",
    "\n",
    "# getting the answer of the prompts\n",
    "# try:\n",
    "\n",
    "for prompt in detect_trend_prompts:\n",
    "    input_json = {\n",
    "        \"file\": None,\n",
    "        \"new_message\": prompt,\n",
    "        \"history_message\": messages,\n",
    "        \"timezone\": -210,\n",
    "        \"symbol\": \"NQ\",\n",
    "        \"start_datetime\": \"\",\n",
    "        \"end_datetime\": \"\",\n",
    "        \"timeframe\": \"1m\",\n",
    "        \"user_id\": \"1\",\n",
    "    }\n",
    "    result = llm_surf(input_json)\n",
    "    print(f\"{prompt}    =>    {result}\")\n",
    "    detect_trend_results[prompt]=result\n",
    "\n",
    "# except Exception as e:\n",
    "#     print(f\"The following exception occured:\\n{e}\")\n",
    "\n",
    "# finally:\n",
    "# saving the answers\n",
    "with open(\"test_results/detect_trend_test_results.json\", \"w\") as outputfile: \n",
    "    json.dump(detect_trend_results, outputfile)"
   ]
  },
  {
   "cell_type": "markdown",
   "metadata": {},
   "source": [
    "### Calculate Support and Resistance"
   ]
  },
  {
   "cell_type": "code",
   "execution_count": null,
   "metadata": {},
   "outputs": [
    {
     "ename": "",
     "evalue": "",
     "output_type": "error",
     "traceback": [
      "\u001b[1;31mFailed to start the Kernel. \n",
      "\u001b[1;31mView Jupyter <a href='command:jupyter.viewOutput'>log</a> for further details."
     ]
    }
   ],
   "source": [
    "messages = []\n",
    "\n",
    "calculate_sr_prompts = [\n",
    "    # Normal Prompts\n",
    "    \"Calculate Support and Resistance Levels based on YM by looking back up to past 10 days and timeframe of 10 minutes.\",\n",
    "    \"Calculate Support and Resistance Levels based on YM by looking back up to past 10 days.\",\n",
    "    \"Calculate Support and Resistance Levels based on YM by the timeframe of 1 hour.\",\n",
    "    \"How much is the sr of CL for the past week?\",\n",
    "    # Challenging prompts\n",
    "]"
   ]
  },
  {
   "cell_type": "code",
   "execution_count": 3,
   "metadata": {},
   "outputs": [
    {
     "name": "stdout",
     "output_type": "stream",
     "text": [
      "\n",
      "ChatCompletionMessage(content=None, role='assistant', function_call=FunctionCall(arguments='{\\n  \"symbol\": \"YM\",\\n  \"lookback_days\": \"10 days\",\\n  \"timeframe\": \"10min\"\\n}', name='calculate_sr'), tool_calls=None)\n",
      "\n",
      "Calculate Support and Resistance Levels based on YM by looking back up to past 10 days and timeframe of 10 minutes.    =>    ('Based on historical price data, the support and resistance levels for YM (E-mini Dow Jones Futures) over the past 10 days with a timeframe of 10 minutes are as follows:\\n\\n- Support Levels:\\n  - Level 1: 38834.0\\n  - Level 2: 38897.0\\n  - Level 3: 38936.0\\n  - Level 4: 39059.0\\n  - Level 5: 39086.0\\n  - Level 6: 39092.0\\n  - Level 7: 39335.0\\n  - Level 8: 39781.0\\n  - Level 9: 39405.0\\n  - Level 10: 39488.0\\n\\n- Resistance Levels:\\n  - Level 1: 39736.0\\n  - Level 2: 39656.0\\n\\nThese levels indicate areas where the price is likely to encounter support or resistance. The associated scores indicate the strength or significance of each level, with higher scores indicating stronger levels.', {'levels_prices': [38834.0, 38897.0, 38936.0, 39059.0, 39086.0, 39092.0, 39335.0, 39781.0, 39405.0, 39488.0, 39736.0, 39656.0], 'levels_start_timestamps': [Timestamp('2024-05-06 09:20:00'), Timestamp('2024-05-06 12:10:00'), Timestamp('2024-05-08 05:30:00'), Timestamp('2024-05-08 09:30:00'), Timestamp('2024-05-09 02:10:00'), Timestamp('2024-05-09 05:10:00'), Timestamp('2024-05-09 09:10:00'), Timestamp('2024-05-13 06:30:00'), Timestamp('2024-05-14 05:30:00'), Timestamp('2024-05-14 10:10:00'), Timestamp('2024-05-14 12:20:00'), Timestamp('2024-05-14 13:00:00')], 'levels_detect_timestamps': [Timestamp('2024-05-06 10:10:00'), Timestamp('2024-05-06 13:00:00'), Timestamp('2024-05-08 06:20:00'), Timestamp('2024-05-08 10:20:00'), Timestamp('2024-05-09 03:00:00'), Timestamp('2024-05-09 06:00:00'), Timestamp('2024-05-09 10:00:00'), Timestamp('2024-05-13 07:20:00'), Timestamp('2024-05-14 06:20:00'), Timestamp('2024-05-14 11:00:00'), Timestamp('2024-05-14 13:10:00'), Timestamp('2024-05-14 13:50:00')], 'levels_end_timestamps': [Timestamp('2024-05-14 15:46:00'), Timestamp('2024-05-14 15:46:00'), Timestamp('2024-05-14 15:46:00'), Timestamp('2024-05-14 15:46:00'), Timestamp('2024-05-14 15:46:00'), Timestamp('2024-05-14 15:46:00'), Timestamp('2024-05-14 15:46:00'), Timestamp('2024-05-14 15:46:00'), Timestamp('2024-05-14 15:46:00'), Timestamp('2024-05-14 15:46:00'), Timestamp('2024-05-14 15:46:00'), Timestamp('2024-05-14 15:46:00')], 'levels_scores': [4.3, 4.4, 3.5, 3.0, 8.2, 3.5, 4.6, 3.6, 6.2, 4.1, 3.1, 2.1], 'symbol': 'YM'})\n",
      "\n",
      "ChatCompletionMessage(content=None, role='assistant', function_call=FunctionCall(arguments='{\\n  \"symbol\": \"YM\",\\n  \"lookback_days\": \"10 days\"\\n}', name='calculate_sr'), tool_calls=None)\n",
      "\n",
      "Calculate Support and Resistance Levels based on YM by looking back up to past 10 days.    =>    ('Based on historical price data, the support and resistance levels for YM (E-mini Dow Jones Futures) over the past 10 days have been identified. The levels are as follows: 38834.0, 38936.0, 39086.0, 39092.0, 39781.0, 39405.0, 39488.0, and 39736.0. These levels indicate areas where the price is likely to encounter support or resistance. The associated scores for each level range from 2.0 to 9.5, with higher scores indicating stronger levels. Please note that these levels are based on historical data and may not guarantee future price movements.', {'levels_prices': [38834.0, 38936.0, 39086.0, 39092.0, 39781.0, 39405.0, 39488.0, 39736.0], 'levels_start_timestamps': [Timestamp('2024-05-06 09:00:00'), Timestamp('2024-05-08 05:00:00'), Timestamp('2024-05-09 02:00:00'), Timestamp('2024-05-09 05:00:00'), Timestamp('2024-05-13 06:00:00'), Timestamp('2024-05-14 05:00:00'), Timestamp('2024-05-14 10:00:00'), Timestamp('2024-05-14 12:00:00')], 'levels_detect_timestamps': [Timestamp('2024-05-06 11:00:00'), Timestamp('2024-05-08 07:00:00'), Timestamp('2024-05-09 04:00:00'), Timestamp('2024-05-09 07:00:00'), Timestamp('2024-05-13 08:00:00'), Timestamp('2024-05-14 07:00:00'), Timestamp('2024-05-14 12:00:00'), Timestamp('2024-05-14 15:00:00')], 'levels_end_timestamps': [Timestamp('2024-05-14 15:49:00'), Timestamp('2024-05-14 15:49:00'), Timestamp('2024-05-14 15:49:00'), Timestamp('2024-05-14 15:49:00'), Timestamp('2024-05-14 15:49:00'), Timestamp('2024-05-14 15:49:00'), Timestamp('2024-05-14 15:49:00'), Timestamp('2024-05-14 15:49:00')], 'levels_scores': [4.2, 5.2, 9.5, 7.4, 5.3, 5.9, 4.1, 2.0], 'symbol': 'YM'})\n",
      "\n",
      "ChatCompletionMessage(content=None, role='assistant', function_call=FunctionCall(arguments='{\\n  \"symbol\": \"YM\",\\n  \"timeframe\": \"1h\"\\n}', name='calculate_sr'), tool_calls=None)\n",
      "\n",
      "Calculate Support and Resistance Levels based on YM by the timeframe of 1 hour.    =>    ('Based on historical price data, the support and resistance levels for YM (E-mini Dow Jones Industrial Average) with a timeframe of 1 hour and a lookback period of 10 days are as follows:\\n\\n- Support Levels: 38834.0, 38936.0, 39086.0, 39092.0, 39405.0\\n- Resistance Levels: 39781.0, 39488.0, 39736.0\\n\\nThese levels indicate areas where the price is likely to encounter support or resistance. The associated scores indicate the strength or significance of each level, with higher scores indicating stronger levels.', {'levels_prices': [38834.0, 38936.0, 39086.0, 39092.0, 39781.0, 39405.0, 39488.0, 39736.0], 'levels_start_timestamps': [Timestamp('2024-05-06 09:00:00'), Timestamp('2024-05-08 05:00:00'), Timestamp('2024-05-09 02:00:00'), Timestamp('2024-05-09 05:00:00'), Timestamp('2024-05-13 06:00:00'), Timestamp('2024-05-14 05:00:00'), Timestamp('2024-05-14 10:00:00'), Timestamp('2024-05-14 12:00:00')], 'levels_detect_timestamps': [Timestamp('2024-05-06 11:00:00'), Timestamp('2024-05-08 07:00:00'), Timestamp('2024-05-09 04:00:00'), Timestamp('2024-05-09 07:00:00'), Timestamp('2024-05-13 08:00:00'), Timestamp('2024-05-14 07:00:00'), Timestamp('2024-05-14 12:00:00'), Timestamp('2024-05-14 15:00:00')], 'levels_end_timestamps': [Timestamp('2024-05-14 15:50:00'), Timestamp('2024-05-14 15:50:00'), Timestamp('2024-05-14 15:50:00'), Timestamp('2024-05-14 15:50:00'), Timestamp('2024-05-14 15:50:00'), Timestamp('2024-05-14 15:50:00'), Timestamp('2024-05-14 15:50:00'), Timestamp('2024-05-14 15:50:00')], 'levels_scores': [4.2, 5.2, 9.5, 7.4, 5.3, 5.9, 4.1, 2.0], 'symbol': 'YM'})\n",
      "\n",
      "ChatCompletionMessage(content=None, role='assistant', function_call=FunctionCall(arguments='{\\n  \"symbol\": \"CL\",\\n  \"lookback_days\": \"7 days\"\\n}', name='calculate_sr'), tool_calls=None)\n",
      "\n",
      "How much is the sr of CL for the past week?    =>    (\"Based on the past week's data, the support and resistance levels for CL (Crude Oil) are as follows:\\n\\n- Support Levels: 79.96, 79.95, 79.49, 79.38, 79.3, 77.68, 77.74\\n- Resistance Levels: None\\n\\nThese levels are determined based on historical price data and indicate areas where the price is likely to encounter support or resistance. The associated scores indicate the strength or significance of each level, with higher scores indicating stronger levels.\", {'levels_prices': [79.96, 79.95, 79.49, 79.38, 79.3, 77.68, 77.74], 'levels_start_timestamps': [Timestamp('2024-05-10 03:00:00'), Timestamp('2024-05-10 06:00:00'), Timestamp('2024-05-13 07:00:00'), Timestamp('2024-05-13 18:00:00'), Timestamp('2024-05-13 22:00:00'), Timestamp('2024-05-14 06:00:00'), Timestamp('2024-05-14 09:00:00')], 'levels_detect_timestamps': [Timestamp('2024-05-10 05:00:00'), Timestamp('2024-05-10 08:00:00'), Timestamp('2024-05-13 09:00:00'), Timestamp('2024-05-13 20:00:00'), Timestamp('2024-05-14 00:00:00'), Timestamp('2024-05-14 08:00:00'), Timestamp('2024-05-14 11:00:00')], 'levels_end_timestamps': [Timestamp('2024-05-14 15:51:00'), Timestamp('2024-05-14 15:51:00'), Timestamp('2024-05-14 15:51:00'), Timestamp('2024-05-14 15:51:00'), Timestamp('2024-05-14 15:51:00'), Timestamp('2024-05-14 15:51:00'), Timestamp('2024-05-14 15:51:00')], 'levels_scores': [9.0, 6.3, 5.0, 7.4, 2.4, 5.9, 2.3], 'symbol': 'CL'})\n"
     ]
    }
   ],
   "source": [
    "# saving the answer of the prompt in a dictionary which its key is the prompt and its value is the answer to that prompt\n",
    "calculate_sr_results = {}\n",
    "\n",
    "# getting the answer of the prompts\n",
    "# try:\n",
    "for prompt in calculate_sr_prompts:\n",
    "    input_json = {\n",
    "        \"file_path\": None,\n",
    "        \"prompt\": prompt,\n",
    "        \"messages\": messages,\n",
    "        \"front_json\": input_filter.front_end_json_sample\n",
    "    }\n",
    "    result = main.main(input_json)\n",
    "    print(f\"{prompt}    =>    {result}\")\n",
    "    calculate_sr_results[prompt]=result[0]\n",
    "\n",
    "# except Exception as e:\n",
    "#     print(f\"The following exception occured:\\n{e}\")\n",
    "\n",
    "# finally:\n",
    "# saving the answers\n",
    "with open(\"test_results/calculate_sr_test_results.json\", \"w\") as outputfile: \n",
    "    json.dump(calculate_sr_results, outputfile)"
   ]
  },
  {
   "cell_type": "markdown",
   "metadata": {},
   "source": [
    "### Calculate Stop Loss"
   ]
  },
  {
   "cell_type": "code",
   "execution_count": 7,
   "metadata": {},
   "outputs": [],
   "source": [
    "messages = []\n",
    "\n",
    "calculate_sl_prompts = [\n",
    "    # Normal Prompts\n",
    "    \"What would be the stop loss of trading short positinos based on NQ and minmax method by looking back up to 30 candles?\",\n",
    "    \"What would be the stop loss of trading long positinos based on ES and swing method?\",\n",
    "    \"What would be the stop loss of trading short positinos based on NQ and atr method and attribute coefficient of 1.3?\",\n",
    "    \"What would be the stop loss of trading long positinos based on YM and level method?\",\n",
    "    \"What would be the stop loss of trading long positinos based on NQ and DVWAP_band method?\",\n",
    "    \"What would be the stop loss of trading short positinos based on NQ and WVWAP_band method?\",\n",
    "    \"What would be the stop loss of trading short positinos based on GC and zigzag method?\",\n",
    "    \"What would be the stop loss of trading long positinos based on ES?\",\n",
    "    # Challenging prompts\n",
    "    \"How much would be the stop loss for trading?\",\n",
    "    \n",
    "]"
   ]
  },
  {
   "cell_type": "code",
   "execution_count": 5,
   "metadata": {},
   "outputs": [
    {
     "ename": "NameError",
     "evalue": "name 'calculate_sl_prompts' is not defined",
     "output_type": "error",
     "traceback": [
      "\u001b[0;31m---------------------------------------------------------------------------\u001b[0m",
      "\u001b[0;31mNameError\u001b[0m                                 Traceback (most recent call last)",
      "Cell \u001b[0;32mIn[5], line 6\u001b[0m\n\u001b[1;32m      2\u001b[0m calculate_sl_results \u001b[38;5;241m=\u001b[39m {}\n\u001b[1;32m      4\u001b[0m \u001b[38;5;66;03m# getting the answer of the prompts\u001b[39;00m\n\u001b[1;32m      5\u001b[0m \u001b[38;5;66;03m# try:\u001b[39;00m\n\u001b[0;32m----> 6\u001b[0m \u001b[38;5;28;01mfor\u001b[39;00m prompt \u001b[38;5;129;01min\u001b[39;00m \u001b[43mcalculate_sl_prompts\u001b[49m:\n\u001b[1;32m      7\u001b[0m     input_json \u001b[38;5;241m=\u001b[39m {\n\u001b[1;32m      8\u001b[0m         \u001b[38;5;124m\"\u001b[39m\u001b[38;5;124msymbol\u001b[39m\u001b[38;5;124m\"\u001b[39m: \u001b[38;5;124m\"\u001b[39m\u001b[38;5;124mNQ\u001b[39m\u001b[38;5;124m\"\u001b[39m,\n\u001b[1;32m      9\u001b[0m         \u001b[38;5;124m\"\u001b[39m\u001b[38;5;124mstart_datetime\u001b[39m\u001b[38;5;124m\"\u001b[39m: \u001b[38;5;124m\"\u001b[39m\u001b[38;5;124m\"\u001b[39m,\n\u001b[0;32m   (...)\u001b[0m\n\u001b[1;32m     16\u001b[0m         \u001b[38;5;124m\"\u001b[39m\u001b[38;5;124mfile\u001b[39m\u001b[38;5;124m\"\u001b[39m: \u001b[38;5;28;01mNone\u001b[39;00m,\n\u001b[1;32m     17\u001b[0m     }\n\u001b[1;32m     18\u001b[0m     result \u001b[38;5;241m=\u001b[39m llm_surf(input_json)\n",
      "\u001b[0;31mNameError\u001b[0m: name 'calculate_sl_prompts' is not defined"
     ]
    }
   ],
   "source": [
    "# saving the answer of the prompt in a dictionary which its key is the prompt and its value is the answer to that prompt\n",
    "calculate_sl_results = {}\n",
    "\n",
    "# getting the answer of the prompts\n",
    "# try:\n",
    "for prompt in calculate_sl_prompts:\n",
    "    input_json = {\n",
    "        \"symbol\": \"NQ\",\n",
    "        \"start_datetime\": \"\",\n",
    "        \"end_datetime\": \"\",\n",
    "        \"timeframe\": \"1m\",\n",
    "        \"timezone\": -210,\n",
    "        \"user_id\": 1,\n",
    "        \"history_message\": [],\n",
    "        \"new_message\": prompt,\n",
    "        \"file\": None,\n",
    "    }\n",
    "    result = llm_surf(input_json)\n",
    "    print(f\"{prompt}    =>    {result}\")\n",
    "    calculate_sl_results[prompt]=result\n",
    "\n",
    "# except Exception as e:\n",
    "#     print(f\"The following exception occured:\\n{e}\")\n",
    "\n",
    "# finally:\n",
    "# saving the answers\n",
    "with open(\"test_results/calculate_sl_test_results.json\", \"w\") as outputfile: \n",
    "    json.dump(calculate_sl_results, outputfile)"
   ]
  },
  {
   "cell_type": "markdown",
   "metadata": {},
   "source": [
    "### Calculate Take-Profit"
   ]
  },
  {
   "cell_type": "code",
   "execution_count": 9,
   "metadata": {},
   "outputs": [],
   "source": [
    "messages = []\n",
    "\n",
    "calculate_tp_prompts = [\n",
    "    # Normal Prompts\n",
    "    \"How much would be the take-profit of the NQ with the stop loss of 10 and direction of 1?\",\n",
    "    \"How much would be the take-profit of the NQ with the stop loss of 10?\",\n",
    "    \"How much would be the take-profit of the NQ with direction of 1?\",\n",
    "    \"How much would be the take-profit with the stop loss of 10 and direction of 1?\",\n",
    "    \"How much would be the take-profit?\",\n",
    "    # Challenging prompts\n",
    "    \n",
    "]"
   ]
  },
  {
   "cell_type": "code",
   "execution_count": 10,
   "metadata": {},
   "outputs": [
    {
     "name": "stdout",
     "output_type": "stream",
     "text": [
      "\n",
      "ChatCompletionMessage(content=None, role='assistant', function_call=FunctionCall(arguments='{\\n  \"symbol\": \"NQ\",\\n  \"direction\": \"1\",\\n  \"stoploss\": 10\\n}', name='calculate_tp'), tool_calls=None)\n",
      "\n",
      "How much would be the take-profit of the NQ with the stop loss of 10 and direction of 1?    =>    ('Based on the provided parameters, the take-profit (TP) for the NQ with a stop loss of 10 and a direction of 1 (long position) is not available. The function did not return any take-profit levels or information. It is recommended to consult with a financial advisor or use alternative methods to determine the appropriate take-profit levels for your trading strategy.', {})\n",
      "\n",
      "ChatCompletionMessage(content=None, role='assistant', function_call=FunctionCall(arguments='{\\n  \"symbol\": \"NQ\",\\n  \"direction\": \"1\",\\n  \"stoploss\": 10\\n}', name='calculate_tp'), tool_calls=None)\n",
      "\n",
      "How much would be the take-profit of the NQ with the stop loss of 10?    =>    ('Based on the current market conditions and the provided stop loss of 10 points for a long position on NQ, there are no specific take-profit levels calculated at the moment. It is recommended to monitor the market and adjust your take-profit levels based on price action and market trends.', {})\n",
      "\n",
      "ChatCompletionMessage(content=None, role='assistant', function_call=FunctionCall(arguments='{\\n  \"symbol\": \"NQ\",\\n  \"direction\": \"1\"\\n}', name='calculate_tp'), tool_calls=None)\n",
      "\n",
      "How much would be the take-profit of the NQ with direction of 1?    =>    ('Based on the current market conditions and the direction of 1 (indicating a long position), the take-profit levels for NQ are not available at the moment. Please note that take-profit levels are determined based on various factors and may vary depending on market conditions. It is recommended to regularly monitor the market and consult with a financial advisor for the most up-to-date and accurate take-profit levels.', {})\n",
      "\n",
      "ChatCompletionMessage(content=None, role='assistant', function_call=FunctionCall(arguments='{\\n  \"symbol\": \"NQ\",\\n  \"direction\": \"1\",\\n  \"stoploss\": 10\\n}', name='calculate_tp'), tool_calls=None)\n",
      "\n",
      "How much would be the take-profit with the stop loss of 10 and direction of 1?    =>    ('Based on the current market data, the take-profit level for a long position on NQ with a stop loss of 10 points cannot be determined at the moment. The function calculate_tp did not provide any take-profit levels or information. It is recommended to consult with a financial advisor or use other technical analysis tools to determine the appropriate take-profit level for your trade.', {})\n",
      "\n",
      "ChatCompletionMessage(content=None, role='assistant', function_call=FunctionCall(arguments='{\\n  \"symbol\": \"NQ\",\\n  \"direction\": \"1\"\\n}', name='calculate_tp'), tool_calls=None)\n",
      "\n",
      "How much would be the take-profit?    =>    ('Based on the current data, the take-profit value for the NQ with a direction of 1 cannot be determined. Please make sure to provide the necessary parameters such as the stop loss value in order to calculate the take-profit.', {})\n"
     ]
    }
   ],
   "source": [
    "# saving the answer of the prompt in a dictionary which its key is the prompt and its value is the answer to that prompt\n",
    "calculate_tp_results = {}\n",
    "\n",
    "# getting the answer of the prompts\n",
    "# try:\n",
    "for prompt in calculate_tp_prompts:\n",
    "    input_json = {\n",
    "        \"file_path\": None,\n",
    "        \"prompt\": prompt,\n",
    "        \"messages\": messages,\n",
    "        \"front_json\": input_filter.front_end_json_sample\n",
    "    }\n",
    "    result = main.main(input_json)\n",
    "    print(f\"{prompt}    =>    {result}\")\n",
    "    calculate_tp_results[prompt]=result\n",
    "\n",
    "# except Exception as e:\n",
    "#     print(f\"The following exception occured:\\n{e}\")\n",
    "\n",
    "# finally:\n",
    "# saving the answers\n",
    "with open(\"test_results/calculate_tp_test_results.json\", \"w\") as outputfile: \n",
    "    json.dump(calculate_tp_results, outputfile)"
   ]
  },
  {
   "cell_type": "markdown",
   "metadata": {},
   "source": [
    "### Get Bias"
   ]
  },
  {
   "cell_type": "code",
   "execution_count": 15,
   "metadata": {},
   "outputs": [],
   "source": [
    "messages = []\n",
    "\n",
    "get_bias_prompts = [\n",
    "    # Normal Prompts\n",
    "    \"Tell me about the bias of ES on the market.\",\n",
    "    \"What is the current trading bias for ES?\",\n",
    "    # Challenging prompts\n",
    "    \n",
    "]"
   ]
  },
  {
   "cell_type": "code",
   "execution_count": 16,
   "metadata": {},
   "outputs": [
    {
     "name": "stdout",
     "output_type": "stream",
     "text": [
      "\n",
      "ChatCompletionMessage(content=None, role='assistant', function_call=FunctionCall(arguments='{\\n  \"symbol\": \"ES\"\\n}', name='bias_detection'), tool_calls=None)\n",
      "\n",
      "Tell me about the bias of ES on the market.    =>    (\"The bias of ES (E-mini S&P 500) in the market is currently showing a mixed trend. Based on various analysis methods, the bias has been calculated as follows:\\n\\n- Calculated based on weekly VWAP: The bias is slightly bearish.\\n- Calculated based on VAL/VAH of volume profile: The bias is slightly bullish.\\n- Calculated based on short-term trend: The bias is bullish.\\n- Calculated based on mid-term trend: The bias is neutral.\\n- Calculated based on long-term trend: The bias is bullish.\\n- Calculated based on the trend of the last hour: The bias is bullish.\\n- Calculated based on counter ratio and power ratio: The bias is neutral.\\n\\nWhen combining these different biases, the overall bias for ES is currently leaning towards a bullish sentiment. However, it's important to note that market conditions can change rapidly, so it's advisable to monitor the situation closely.\", {})\n",
      "\n",
      "ChatCompletionMessage(content=None, role='assistant', function_call=FunctionCall(arguments='{\\n  \"symbol\": \"ES\"\\n}', name='bias_detection'), tool_calls=None)\n",
      "\n",
      "What is the current trading bias for ES?    =>    (\"The current trading bias for ES (E-mini S&P 500) is positive. This is determined based on various factors, including the weekly VWAP (Volume Weighted Average Price), VAL/VAH (Value Area Low/Value Area High) of the volume profile, short-term trend, mid-term trend, long-term trend, trend of the last hour, and counter ratio and power ratio. These indicators suggest a generally bullish sentiment in the market. However, it's important to note that market conditions can change rapidly, so it's always recommended to stay updated with the latest market analysis.\", {})\n"
     ]
    }
   ],
   "source": [
    "# saving the answer of the prompt in a dictionary which its key is the prompt and its value is the answer to that prompt\n",
    "get_bias_results = {}\n",
    "\n",
    "# getting the answer of the prompts\n",
    "# try:\n",
    "for prompt in get_bias_prompts:\n",
    "    input_json = {\n",
    "        \"file_path\": None,\n",
    "        \"prompt\": prompt,\n",
    "        \"messages\": messages,\n",
    "        \"front_json\": input_filter.front_end_json_sample\n",
    "    }\n",
    "    result = main.main(input_json)\n",
    "    print(f\"{prompt}    =>    {result}\")\n",
    "    get_bias_results[prompt]=result\n",
    "\n",
    "# except Exception as e:\n",
    "#     print(f\"The following exception occured:\\n{e}\")\n",
    "\n",
    "# finally:\n",
    "# saving the answers\n",
    "with open(\"test_results/get_bias_test_results.json\", \"w\") as outputfile: \n",
    "    json.dump(get_bias_results, outputfile)"
   ]
  },
  {
   "cell_type": "markdown",
   "metadata": {},
   "source": [
    "### Introduction"
   ]
  },
  {
   "cell_type": "code",
   "execution_count": 17,
   "metadata": {},
   "outputs": [],
   "source": [
    "messages = []\n",
    "\n",
    "introduction_prompts = [\n",
    "    # Normal Prompts\n",
    "    \"Who are you?\",\n",
    "    \"What are you?\",\n",
    "    \"What can you do for me?\",\n",
    "    \"What are your functionalities?\",\n",
    "    \"How can you help me?\",\n",
    "    # Challenging prompts\n",
    "    \"Hi!\",\n",
    "    \"Good Morning!\",\n",
    "    \"What's up!?\",\n",
    "    \"How can I start?\",\n",
    "    \"Please help me!\",\n",
    "    \"What is TenSurf?\",\n",
    "    \"How could you help me?\",\n",
    "    \"What about market today?\",\n",
    "    \"Could you guide me on how to use tensurf?\",\n",
    "]"
   ]
  },
  {
   "cell_type": "code",
   "execution_count": 18,
   "metadata": {},
   "outputs": [
    {
     "name": "stdout",
     "output_type": "stream",
     "text": [
      "Who are you?    =>    I'm here to help with trading and financial market queries. If you think your ask relates to trading and isn't addressed, please report a bug using the bottom right panel.\n",
      "What are you?    =>    I'm here to help with trading and financial market queries. If you think your ask relates to trading and isn't addressed, please report a bug using the bottom right panel.\n",
      "\n",
      "ChatCompletionMessage(content=None, role='assistant', function_call=FunctionCall(arguments='{}', name='introduction'), tool_calls=None)\n",
      "\n",
      "What can you do for me?    =>    ('I\\'m TenSurf Brain, your AI trading assistant within TenSurf Hub platform, designed to enhance your trading experience with advanced analytical and data-driven tools:\\n\\n1. Trend Detection: I can analyze and report the trend of financial instruments over your specified period. For example, ask me, \"What is the trend of NQ stock from May-1-2024 12:00:00 until May-5-2024 12:00:00?\"\\n\\n2. Support and Resistance Levels: I identify and score key price levels that may influence market behavior based on historical data. Try, \"Calculate Support and Resistance Levels based on YM by looking back up to the past 10 days and a timeframe of 1 hour.\"\\n\\n3. Stop Loss Calculation: I determine optimal stop loss points to help you manage risk effectively. Query me like, \"How much would be the optimal stop loss for a short trade on NQ?\"\\n\\n4. Take Profit Calculation: I calculate the ideal exit points for securing profits before a potential trend reversal. For example, \"How much would be the take-profit of a short position on Dow Jones with the stop loss of 10 points?\"\\n\\n5. Trading Bias Identification: I analyze market conditions to detect the best trading biases and directions, whether for long or short positions. Ask me, \"What is the current trading bias for ES?\"\\n\\nEach tool is tailored to help you make smarter, faster, and more informed trading decisions. Enjoy!', {})\n",
      "What are your functionalities?    =>    ('As TenSurf Brain, I offer several functionalities to assist you in your trading activities. Here are some of the key functionalities I provide:\\n\\n1. Trend Analysis: I can analyze the trend of a specified financial instrument over a given time range. This helps you gauge the general direction of a security or market index. I provide a numerical value that indicates the trend intensity and direction.\\n\\n2. Support and Resistance Calculation: I can calculate support and resistance levels for a financial instrument based on candlestick charts. These levels represent price points where the odds favor a pause or reversal of a prevailing trend. I provide the levels, their start and end timestamps, and their respective strengths.\\n\\n3. Stop Loss Calculation: I can calculate stop loss levels for your trades based on different methods such as swing, minmax, ATR (Average True Range), and more. Stop loss helps limit potential losses in a position. I provide the stop loss value, the risk on the trade, and additional information about the calculation method.\\n\\n4. Take Profit Calculation: I can calculate take profit levels for your trades. Take profit represents the price level at which you aim to close a position to secure profits before the market reverses. I provide the take profit prices and information about the calculation method.\\n\\n5. Bias Detection: I can help you detect the trading bias for a financial instrument using various methods such as trend detection, moving averages, volume profile, and more. This helps you determine the appropriate entry point for a long or short trade.\\n\\nPlease let me know if you would like to explore any specific functionality or if you have any other questions.', {})\n",
      "How can you help me?    =>    ('As TenSurf Brain, I can help you in several ways to enhance your trading activities. Here are some ways I can assist you:\\n\\n1. Trend Analysis: I can analyze the trend of a specific financial instrument over a given time range. By providing a numerical value indicating the trend intensity and direction, I can help you understand the overall market sentiment and make informed trading decisions.\\n\\n2. Support and Resistance Calculation: I can calculate support and resistance levels for a financial instrument based on historical price data. These levels are crucial in identifying potential entry and exit points for your trades. By providing the levels, their strengths, and relevant timestamps, I can assist you in determining optimal trading strategies.\\n\\n3. Stop Loss Calculation: I can calculate stop loss levels for your trades using various methods such as swing, minmax, and ATR (Average True Range). Stop loss helps limit potential losses in a position, and I can provide you with the stop loss value, the associated risk, and information about the calculation method.\\n\\n4. Take Profit Calculation: I can calculate take profit levels for your trades, which represent the price at which you aim to close a position to secure profits. By considering factors such as market conditions and key levels, I can provide you with take profit prices and information about the calculation method.\\n\\n5. Bias Detection: I can help you detect the trading bias for a financial instrument using different methods such as trend detection, moving averages, and volume profile analysis. This can assist you in identifying the appropriate entry point for a long or short trade.\\n\\nBy utilizing these functionalities, you can gain valuable insights into the market, make more informed trading decisions, and potentially improve your trading performance. Please let me know if you would like to explore any specific functionality or if you have any other questions.', {})\n",
      "Hi!    =>    I'm here to help with trading and financial market queries. If you think your ask relates to trading and isn't addressed, please report a bug using the bottom right panel.\n",
      "Good Morning!    =>    I'm here to help with trading and financial market queries. If you think your ask relates to trading and isn't addressed, please report a bug using the bottom right panel.\n",
      "What's up!?    =>    I'm here to help with trading and financial market queries. If you think your ask relates to trading and isn't addressed, please report a bug using the bottom right panel.\n",
      "How can I start?    =>    (\"To get started with TenSurf Brain, you can follow these steps:\\n\\n1. Specify the Financial Instrument: Let me know the ticker symbol of the financial instrument you want to analyze. You can choose from symbols such as NQ, ES, GC, YM, RTY, or CL.\\n\\n2. Select a Functionality: Decide which functionality you would like to use. You can choose from trend analysis, support and resistance calculation, stop loss calculation, take profit calculation, or bias detection.\\n\\n3. Provide Additional Parameters: Depending on the functionality you selected, you may need to provide additional parameters such as the time range for trend analysis, the lookback period for support and resistance calculation, the method for stop loss or take profit calculation, and the direction of your trade (long or short).\\n\\n4. Receive Results: Once you have provided the necessary information, I will process your request and provide you with the relevant results. These may include trend intensity and direction, support and resistance levels, stop loss values, take profit prices, or trading bias information.\\n\\n5. Analyze and Make Informed Decisions: Use the information and insights provided by TenSurf Brain to analyze the market and make informed trading decisions. Consider the trend analysis, support and resistance levels, stop loss and take profit values, and trading bias to develop your trading strategies.\\n\\nRemember, TenSurf Brain is here to assist you, but it's important to conduct your own research and analysis before making any trading decisions. If you have any questions or need further assistance, feel free to ask.\", {})\n",
      "Please help me!    =>    I'm here to help with trading and financial market queries. If you think your ask relates to trading and isn't addressed, please report a bug using the bottom right panel.\n",
      "What is TenSurf?    =>    I'm here to help with trading and financial market queries. If you think your ask relates to trading and isn't addressed, please report a bug using the bottom right panel.\n",
      "How could you help me?    =>    ('As TenSurf Brain, I can help you in various ways to enhance your trading experience and decision-making process. Here are some ways I can assist you:\\n\\n1. Trend Analysis: I can analyze the trend of a specific financial instrument over a given time range. By evaluating historical price data, I can provide you with insights into the direction and intensity of the trend. This information can help you identify potential opportunities and make more informed trading decisions.\\n\\n2. Support and Resistance Levels: I can calculate support and resistance levels for a financial instrument. These levels indicate price points where the market has historically shown a tendency to pause, reverse, or continue a trend. By considering these levels, you can determine potential entry and exit points for your trades.\\n\\n3. Stop Loss Calculation: I can calculate stop loss levels for your trades using various methods such as swing, minmax, and ATR (Average True Range). Stop loss levels help you limit potential losses by defining a price level at which you would exit a trade. By considering factors such as volatility and historical price movements, I can assist you in setting appropriate stop loss levels.\\n\\n4. Take Profit Calculation: I can calculate take profit levels for your trades. Take profit levels represent price levels at which you would like to close a trade to secure profits. By considering factors such as market conditions and key levels, I can help you determine optimal take profit levels.\\n\\n5. Bias Detection: I can assist you in detecting the trading bias for a financial instrument using various methods such as trend detection, moving averages, volume profile analysis, and more. Understanding the prevailing bias can help you align your trades with the overall market sentiment.\\n\\nBy utilizing these functionalities, you can gain valuable insights, identify potential trading opportunities, manage risk effectively, and improve your trading strategies. Please let me know if you would like to explore any specific functionality or if you have any other questions.', {})\n",
      "\n",
      "ChatCompletionMessage(content=None, role='assistant', function_call=FunctionCall(arguments='{\\n  \"symbol\": \"NQ\",\\n  \"lookback\": \"1d\"\\n}', name='detect_trend'), tool_calls=None)\n",
      "\n",
      "Error reading data from InfluxDB: ('Connection broken: IncompleteRead(5 bytes read, 4091 more expected)', IncompleteRead(5 bytes read, 4091 more expected))\n",
      " Query is from(bucket:\"bronze\") \n",
      "                |> range(start: time(v:2024-05-12T20:00:51Z), stop: time(v: 2024-05-13T20:00:51Z))\n",
      "                |> filter(fn: (r) => r[\"_measurement\"] == \"NQ\" and                    r[\"timeframe\"] == \"1min\" and                    r[\"liq_threshold\"] == \"-1\")\n",
      "                |> pivot(rowKey:[\"_time\"], columnKey:[\"_field\"], valueColumn:\"_value\")\n",
      "                \n",
      "There is no data for this period of time...\n",
      "What about market today?    =>    (\"Based on the analysis of the NQ symbol over the past day, there is no significant trend detected. This means that the market is currently in a neutral state without a clear directional bias. It's important to note that market conditions can change rapidly, so it's advisable to stay updated with real-time data and analysis to make informed trading decisions. If you have any specific questions or need further assistance, feel free to ask.\", {})\n",
      "Could you guide me on how to use tensurf?    =>    I'm here to help with trading and financial market queries. If you think your ask relates to trading and isn't addressed, please report a bug using the bottom right panel.\n"
     ]
    }
   ],
   "source": [
    "# saving the answer of the prompt in a dictionary which its key is the prompt and its value is the answer to that prompt\n",
    "introduction_results = {}\n",
    "\n",
    "# # getting the answer of the prompts\n",
    "# try:\n",
    "for prompt in introduction_prompts:\n",
    "    input_json = {\n",
    "        \"file_path\": None,\n",
    "        \"prompt\": prompt,\n",
    "        \"messages\": messages,\n",
    "        \"front_json\": input_filter.front_end_json_sample\n",
    "    }\n",
    "    result = main.main(input_json)\n",
    "    print(f\"{prompt}    =>    {result}\")\n",
    "    introduction_results[prompt]=result\n",
    "\n",
    "# except Exception as e:\n",
    "#     print(f\"The following exception occured:\\n{e}\")\n",
    "\n",
    "# finally:\n",
    "# saving the answers\n",
    "with open(\"test_results/introduction_results.json\", \"w\") as outputfile: \n",
    "    json.dump(introduction_results, outputfile)"
   ]
  },
  {
   "cell_type": "markdown",
   "metadata": {},
   "source": [
    "## Long Chat Scenario"
   ]
  },
  {
   "cell_type": "code",
   "execution_count": 19,
   "metadata": {},
   "outputs": [],
   "source": [
    "long_chat_scenario_prompts = [\n",
    "    # Normal Prompts\n",
    "    \"Hello\",\n",
    "    \"Who are you?\",\n",
    "    \"What can you do for me?\",\n",
    "    \"What is the trend of NQ?\",\n",
    "    \"For the past week\",\n",
    "    \"Can you also calculate the sr of it, too?\",\n",
    "    \"But how about the trend of it for the last month?\",\n",
    "    \"But how about the trend of it for the last year?\",\n",
    "    \"But how about the trend of it for the last day?\",\n",
    "    \"But how about the trend of it for the last hour?\",\n",
    "    \"Hi!\",\n",
    "    \"Can you calculate the sr of it?\",\n",
    "    \"What else can you do?\",\n",
    "    \"So how would be the stop loss for the short position?\",\n",
    "    \"How about long ones?\",\n",
    "    \"So what would be the take profit based on this stop loss?\",\n",
    "    # Challenging prompts\n",
    "    \n",
    "]"
   ]
  },
  {
   "cell_type": "code",
   "execution_count": 20,
   "metadata": {},
   "outputs": [
    {
     "name": "stdout",
     "output_type": "stream",
     "text": [
      "Hello    =>    I'm here to help with trading and financial market queries. If you think your ask relates to trading and isn't addressed, please report a bug using the bottom right panel.\n",
      "\n",
      "Who are you?    =>    I'm here to help with trading and financial market queries. If you think your ask relates to trading and isn't addressed, please report a bug using the bottom right panel.\n",
      "\n",
      "\n",
      "ChatCompletionMessage(content=None, role='assistant', function_call=FunctionCall(arguments='{}', name='introduction'), tool_calls=None)\n",
      "\n",
      "What can you do for me?    =>    ('I\\'m TenSurf Brain, your AI trading assistant within TenSurf Hub platform, designed to enhance your trading experience with advanced analytical and data-driven tools:\\n\\n1. Trend Detection: I can analyze and report the trend of financial instruments over your specified period. For example, ask me, \"What is the trend of NQ stock from May-1-2024 12:00:00 until May-5-2024 12:00:00?\"\\n\\n2. Support and Resistance Levels: I identify and score key price levels that may influence market behavior based on historical data. Try, \"Calculate Support and Resistance Levels based on YM by looking back up to the past 10 days and a timeframe of 1 hour.\"\\n\\n3. Stop Loss Calculation: I determine optimal stop loss points to help you manage risk effectively. Query me like, \"How much would be the optimal stop loss for a short trade on NQ?\"\\n\\n4. Take Profit Calculation: I calculate the ideal exit points for securing profits before a potential trend reversal. For example, \"How much would be the take-profit of a short position on Dow Jones with the stop loss of 10 points?\"\\n\\n5. Trading Bias Identification: I analyze market conditions to detect the best trading biases and directions, whether for long or short positions. Ask me, \"What is the current trading bias for ES?\"\\n\\nEach tool is tailored to help you make smarter, faster, and more informed trading decisions. Enjoy!', {})\n",
      "\n",
      "\n",
      "ChatCompletionMessage(content=None, role='assistant', function_call=FunctionCall(arguments='{\\n  \"symbol\": \"NQ\",\\n  \"lookback\": \"1d\"\\n}', name='detect_trend'), tool_calls=None)\n",
      "\n",
      "What is the trend of NQ?    =>    (\"Based on the analysis of the NQ symbol over the past day, there is a strong bullish (upward) trend detected. This indicates that the market has been showing significant upward momentum. However, please note that market conditions can change rapidly, and it's important to stay updated with real-time data and analysis for making informed trading decisions. If you have any specific questions or need further assistance, feel free to ask.\", {})\n",
      "\n",
      "For the past week    =>    I'm here to help with trading and financial market queries. If you think your ask relates to trading and isn't addressed, please report a bug using the bottom right panel.\n",
      "\n",
      "\n",
      "ChatCompletionMessage(content=None, role='assistant', function_call=FunctionCall(arguments='{\\n  \"symbol\": \"NQ\",\\n  \"lookback_days\": \"10 days\"\\n}', name='calculate_sr'), tool_calls=None)\n",
      "\n",
      "Can you also calculate the sr of it, too?    =>    (\"Based on historical price data, I have calculated the support and resistance levels for the NQ symbol over the past 10 days. These levels indicate areas where the price is likely to encounter support or resistance. The associated scores indicate the strength or significance of each level, with higher scores indicating stronger levels.\\n\\nPlease note that support and resistance levels are dynamic and can change over time as market conditions evolve. It's important to regularly update your analysis and consider other factors when making trading decisions.\\n\\nIf you have any further questions or need additional assistance, feel free to ask.\", {'levels_prices': [18067.25, 18072.5, 18103.75, 18108.75, 18348.0, 18188.5, 18228.75, 18252.0, 18300.75], 'levels_start_timestamps': [Timestamp('2024-05-06 09:00:00'), Timestamp('2024-05-08 05:00:00'), Timestamp('2024-05-09 02:00:00'), Timestamp('2024-05-09 06:00:00'), Timestamp('2024-05-10 06:00:00'), Timestamp('2024-05-10 07:00:00'), Timestamp('2024-05-12 15:00:00'), Timestamp('2024-05-12 20:00:00'), Timestamp('2024-05-12 23:00:00')], 'levels_end_timestamps': [Timestamp('2024-05-13 02:58:00'), Timestamp('2024-05-13 02:58:00'), Timestamp('2024-05-13 02:58:00'), Timestamp('2024-05-13 02:58:00'), Timestamp('2024-05-13 02:58:00'), Timestamp('2024-05-13 02:58:00'), Timestamp('2024-05-13 02:58:00'), Timestamp('2024-05-13 02:58:00'), Timestamp('2024-05-13 02:58:00')], 'levels_scores': [8.7, 6.1, 7.4, 4.4, 5.7, 4.8, 1.7, 2.9, 2.4]})\n",
      "\n",
      "\n",
      "ChatCompletionMessage(content=None, role='assistant', function_call=FunctionCall(arguments='{\\n  \"symbol\": \"NQ\",\\n  \"lookback\": \"1 month\"\\n}', name='detect_trend'), tool_calls=None)\n",
      "\n",
      "But how about the trend of it for the last month?    =>    ('', {})\n",
      "\n",
      "\n",
      "ChatCompletionMessage(content=None, role='assistant', function_call=FunctionCall(arguments='{\\n  \"symbol\": \"NQ\",\\n  \"lookback\": \"1 year\"\\n}', name='detect_trend'), tool_calls=None)\n",
      "\n",
      "Error reading data from InfluxDB: ('Connection broken: IncompleteRead(1781 bytes read, 2315 more expected)', IncompleteRead(1781 bytes read, 2315 more expected))\n",
      " Query is from(bucket:\"bronze\") \n",
      "                |> range(start: time(v:2023-05-13T20:00:51Z), stop: time(v: 2024-05-13T20:00:51Z))\n",
      "                |> filter(fn: (r) => r[\"_measurement\"] == \"NQ\" and                    r[\"timeframe\"] == \"1min\" and                    r[\"liq_threshold\"] == \"-1\")\n",
      "                |> pivot(rowKey:[\"_time\"], columnKey:[\"_field\"], valueColumn:\"_value\")\n",
      "                \n",
      "There is no data for this period of time...\n",
      "But how about the trend of it for the last year?    =>    ('', {})\n",
      "\n",
      "\n",
      "ChatCompletionMessage(content=None, role='assistant', function_call=FunctionCall(arguments='{\\n  \"symbol\": \"NQ\",\\n  \"lookback\": \"1d\"\\n}', name='detect_trend'), tool_calls=None)\n",
      "\n",
      "But how about the trend of it for the last day?    =>    ('', {})\n",
      "\n",
      "\n",
      "ChatCompletionMessage(content=None, role='assistant', function_call=FunctionCall(arguments='{\\n  \"symbol\": \"NQ\",\\n  \"lookback\": \"1h\"\\n}', name='detect_trend'), tool_calls=None)\n",
      "\n",
      "from(bucket:\"bronze\") \n",
      "                |> range(start: time(v:2024-05-13T19:00:51Z), stop: time(v: 2024-05-13T20:00:51Z))\n",
      "                |> filter(fn: (r) => r[\"_measurement\"] == \"NQ\" and                    r[\"timeframe\"] == \"1min\" and                    r[\"liq_threshold\"] == \"-1\")\n",
      "                |> pivot(rowKey:[\"_time\"], columnKey:[\"_field\"], valueColumn:\"_value\")\n",
      "                \n",
      "[Error] result output is not DataFrame\n",
      "There is no data for this period of time...\n",
      "But how about the trend of it for the last hour?    =>    ('', {})\n",
      "\n",
      "Hi!    =>    I'm here to help with trading and financial market queries. If you think your ask relates to trading and isn't addressed, please report a bug using the bottom right panel.\n",
      "\n",
      "\n",
      "ChatCompletionMessage(content=None, role='assistant', function_call=FunctionCall(arguments='{\\n  \"symbol\": \"NQ\",\\n  \"lookback_days\": \"10 days\"\\n}', name='calculate_sr'), tool_calls=None)\n",
      "\n",
      "Can you calculate the sr of it?    =>    ('', {'levels_prices': [18067.25, 18072.5, 18103.75, 18108.75, 18348.0, 18188.5, 18228.75, 18252.0, 18300.75], 'levels_start_timestamps': [Timestamp('2024-05-06 09:00:00'), Timestamp('2024-05-08 05:00:00'), Timestamp('2024-05-09 02:00:00'), Timestamp('2024-05-09 06:00:00'), Timestamp('2024-05-10 06:00:00'), Timestamp('2024-05-10 07:00:00'), Timestamp('2024-05-12 15:00:00'), Timestamp('2024-05-12 20:00:00'), Timestamp('2024-05-12 23:00:00')], 'levels_end_timestamps': [Timestamp('2024-05-13 02:58:00'), Timestamp('2024-05-13 02:58:00'), Timestamp('2024-05-13 02:58:00'), Timestamp('2024-05-13 02:58:00'), Timestamp('2024-05-13 02:58:00'), Timestamp('2024-05-13 02:58:00'), Timestamp('2024-05-13 02:58:00'), Timestamp('2024-05-13 02:58:00'), Timestamp('2024-05-13 02:58:00')], 'levels_scores': [8.7, 6.1, 7.4, 4.4, 5.7, 4.8, 1.7, 2.9, 2.4]})\n",
      "\n",
      "What else can you do?    =>    I'm here to help with trading and financial market queries. If you think your ask relates to trading and isn't addressed, please report a bug using the bottom right panel.\n",
      "\n",
      "\n",
      "ChatCompletionMessage(content=None, role='assistant', function_call=FunctionCall(arguments='{\\n  \"symbol\": \"NQ\",\\n  \"method\": \"level\",\\n  \"direction\": \"-1\"\\n}', name='calculate_sl'), tool_calls=None)\n",
      "\n",
      "So how would be the stop loss for the short position?    =>    ('For a short position in NQ, the calculated stop loss levels are as follows:\\n\\n1. Stop Loss 1: 18293.25 (Risk: 5.0 points)\\n   - Calculated based on the level VWAP_Top_Band_2\\n\\n2. Stop Loss 2: 18293.25 (Risk: 5.0 points)\\n   - Calculated based on the level WVWAP_Top_Band_2\\n\\n3. Stop Loss 3: 18298.0 (Risk: 9.75 points)\\n   - Calculated based on the 5-minute support and resistance level starting from 2024-05-13 07:10:00\\n\\n4. Stop Loss 4: 18302.75 (Risk: 14.5 points)\\n   - Calculated based on the level VWAP_Top_Band_3\\n\\n5. Stop Loss 5: 18302.75 (Risk: 14.5 points)\\n   - Calculated based on the level WVWAP_Top_Band_3\\n\\n6. Stop Loss 6: 18306.75 (Risk: 18.5 points)\\n   - Calculated based on the hourly support and resistance level starting from 2024-05-10 09:42:00\\n\\n7. Stop Loss 7: 18312.25 (Risk: 24.0 points)\\n   - Calculated based on the level VWAP_Top_Band_4\\n\\n8. Stop Loss 8: 18312.25 (Risk: 24.0 points)\\n   - Calculated based on the level WVWAP_Top_Band_4\\n\\n9. Stop Loss 9: 18348.0 (Risk: 59.75 points)\\n   - Calculated based on the level Overnight_high\\n\\nThese stop loss levels indicate the price at which you may consider exiting your short position to limit potential losses. The associated risk values represent the potential point loss if the stop loss is triggered. Please note that these levels are calculated based on specific levels and historical data. Adjustments may be necessary based on your trading strategy and risk tolerance.', {})\n",
      "\n",
      "How about long ones?    =>    I'm here to help with trading and financial market queries. If you think your ask relates to trading and isn't addressed, please report a bug using the bottom right panel.\n",
      "\n",
      "\n",
      "ChatCompletionMessage(content=None, role='assistant', function_call=FunctionCall(arguments='{\\n  \"symbol\": \"NQ\",\\n  \"direction\": \"-1\",\\n  \"stoploss\": 18293.25\\n}', name='calculate_tp'), tool_calls=None)\n",
      "\n",
      "So what would be the take profit based on this stop loss?    =>    ('Based on the provided stop loss level of 18293.25 for a short position on NQ, the calculated take profit levels are as follows:\\n\\n1. 18306.75\\n2. 18298.0\\n3. 18274.25\\n4. 18268.25\\n5. 18264.75\\n6. 18255.25\\n7. 18245.75\\n8. 18244.5\\n9. 18243.5\\n10. 18242.25\\n11. 18236.25\\n12. 18233.0\\n13. 18215.0\\n14. 18188.5\\n15. 18181.75\\n\\nThese take profit levels are calculated based on various factors such as support and resistance levels, VWAP (Volume Weighted Average Price), WVWAP (Volume Weighted VWAP), initial balance levels, and value area levels.\\n\\nPlease note that these levels are provided for informational purposes and should be used in conjunction with your own analysis and trading strategy.', {})\n",
      "\n"
     ]
    },
    {
     "ename": "TypeError",
     "evalue": "Object of type Timestamp is not JSON serializable",
     "output_type": "error",
     "traceback": [
      "\u001b[1;31m---------------------------------------------------------------------------\u001b[0m",
      "\u001b[1;31mTypeError\u001b[0m                                 Traceback (most recent call last)",
      "Cell \u001b[1;32mIn[20], line 18\u001b[0m\n\u001b[0;32m     12\u001b[0m \u001b[38;5;66;03m# except Exception as e:\u001b[39;00m\n\u001b[0;32m     13\u001b[0m \u001b[38;5;66;03m#     print(f\"The following exception occured:\\n{e}\")\u001b[39;00m\n\u001b[0;32m     14\u001b[0m \n\u001b[0;32m     15\u001b[0m \u001b[38;5;66;03m# finally:\u001b[39;00m\n\u001b[0;32m     16\u001b[0m \u001b[38;5;66;03m# saving the answers\u001b[39;00m\n\u001b[0;32m     17\u001b[0m \u001b[38;5;28;01mwith\u001b[39;00m \u001b[38;5;28mopen\u001b[39m(\u001b[38;5;124m\"\u001b[39m\u001b[38;5;124mtest_results/long_chat_scenario_test_results.json\u001b[39m\u001b[38;5;124m\"\u001b[39m, \u001b[38;5;124m\"\u001b[39m\u001b[38;5;124mw\u001b[39m\u001b[38;5;124m\"\u001b[39m) \u001b[38;5;28;01mas\u001b[39;00m outfile: \n\u001b[1;32m---> 18\u001b[0m     \u001b[43mjson\u001b[49m\u001b[38;5;241;43m.\u001b[39;49m\u001b[43mdump\u001b[49m\u001b[43m(\u001b[49m\u001b[43mlong_chat_scenario_results\u001b[49m\u001b[43m,\u001b[49m\u001b[43m \u001b[49m\u001b[43moutfile\u001b[49m\u001b[43m)\u001b[49m\n",
      "File \u001b[1;32mc:\\Users\\Sepehr\\anaconda3\\envs\\sepehr\\lib\\json\\__init__.py:179\u001b[0m, in \u001b[0;36mdump\u001b[1;34m(obj, fp, skipkeys, ensure_ascii, check_circular, allow_nan, cls, indent, separators, default, sort_keys, **kw)\u001b[0m\n\u001b[0;32m    173\u001b[0m     iterable \u001b[38;5;241m=\u001b[39m \u001b[38;5;28mcls\u001b[39m(skipkeys\u001b[38;5;241m=\u001b[39mskipkeys, ensure_ascii\u001b[38;5;241m=\u001b[39mensure_ascii,\n\u001b[0;32m    174\u001b[0m         check_circular\u001b[38;5;241m=\u001b[39mcheck_circular, allow_nan\u001b[38;5;241m=\u001b[39mallow_nan, indent\u001b[38;5;241m=\u001b[39mindent,\n\u001b[0;32m    175\u001b[0m         separators\u001b[38;5;241m=\u001b[39mseparators,\n\u001b[0;32m    176\u001b[0m         default\u001b[38;5;241m=\u001b[39mdefault, sort_keys\u001b[38;5;241m=\u001b[39msort_keys, \u001b[38;5;241m*\u001b[39m\u001b[38;5;241m*\u001b[39mkw)\u001b[38;5;241m.\u001b[39miterencode(obj)\n\u001b[0;32m    177\u001b[0m \u001b[38;5;66;03m# could accelerate with writelines in some versions of Python, at\u001b[39;00m\n\u001b[0;32m    178\u001b[0m \u001b[38;5;66;03m# a debuggability cost\u001b[39;00m\n\u001b[1;32m--> 179\u001b[0m \u001b[38;5;28;01mfor\u001b[39;00m chunk \u001b[38;5;129;01min\u001b[39;00m iterable:\n\u001b[0;32m    180\u001b[0m     fp\u001b[38;5;241m.\u001b[39mwrite(chunk)\n",
      "File \u001b[1;32mc:\\Users\\Sepehr\\anaconda3\\envs\\sepehr\\lib\\json\\encoder.py:431\u001b[0m, in \u001b[0;36m_make_iterencode.<locals>._iterencode\u001b[1;34m(o, _current_indent_level)\u001b[0m\n\u001b[0;32m    429\u001b[0m     \u001b[38;5;28;01myield from\u001b[39;00m _iterencode_list(o, _current_indent_level)\n\u001b[0;32m    430\u001b[0m \u001b[38;5;28;01melif\u001b[39;00m \u001b[38;5;28misinstance\u001b[39m(o, \u001b[38;5;28mdict\u001b[39m):\n\u001b[1;32m--> 431\u001b[0m     \u001b[38;5;28;01myield from\u001b[39;00m _iterencode_dict(o, _current_indent_level)\n\u001b[0;32m    432\u001b[0m \u001b[38;5;28;01melse\u001b[39;00m:\n\u001b[0;32m    433\u001b[0m     \u001b[38;5;28;01mif\u001b[39;00m markers \u001b[38;5;129;01mis\u001b[39;00m \u001b[38;5;129;01mnot\u001b[39;00m \u001b[38;5;28;01mNone\u001b[39;00m:\n",
      "File \u001b[1;32mc:\\Users\\Sepehr\\anaconda3\\envs\\sepehr\\lib\\json\\encoder.py:405\u001b[0m, in \u001b[0;36m_make_iterencode.<locals>._iterencode_dict\u001b[1;34m(dct, _current_indent_level)\u001b[0m\n\u001b[0;32m    403\u001b[0m         \u001b[38;5;28;01melse\u001b[39;00m:\n\u001b[0;32m    404\u001b[0m             chunks \u001b[38;5;241m=\u001b[39m _iterencode(value, _current_indent_level)\n\u001b[1;32m--> 405\u001b[0m         \u001b[38;5;28;01myield from\u001b[39;00m chunks\n\u001b[0;32m    406\u001b[0m \u001b[38;5;28;01mif\u001b[39;00m newline_indent \u001b[38;5;129;01mis\u001b[39;00m \u001b[38;5;129;01mnot\u001b[39;00m \u001b[38;5;28;01mNone\u001b[39;00m:\n\u001b[0;32m    407\u001b[0m     _current_indent_level \u001b[38;5;241m-\u001b[39m\u001b[38;5;241m=\u001b[39m \u001b[38;5;241m1\u001b[39m\n",
      "File \u001b[1;32mc:\\Users\\Sepehr\\anaconda3\\envs\\sepehr\\lib\\json\\encoder.py:325\u001b[0m, in \u001b[0;36m_make_iterencode.<locals>._iterencode_list\u001b[1;34m(lst, _current_indent_level)\u001b[0m\n\u001b[0;32m    323\u001b[0m         \u001b[38;5;28;01melse\u001b[39;00m:\n\u001b[0;32m    324\u001b[0m             chunks \u001b[38;5;241m=\u001b[39m _iterencode(value, _current_indent_level)\n\u001b[1;32m--> 325\u001b[0m         \u001b[38;5;28;01myield from\u001b[39;00m chunks\n\u001b[0;32m    326\u001b[0m \u001b[38;5;28;01mif\u001b[39;00m newline_indent \u001b[38;5;129;01mis\u001b[39;00m \u001b[38;5;129;01mnot\u001b[39;00m \u001b[38;5;28;01mNone\u001b[39;00m:\n\u001b[0;32m    327\u001b[0m     _current_indent_level \u001b[38;5;241m-\u001b[39m\u001b[38;5;241m=\u001b[39m \u001b[38;5;241m1\u001b[39m\n",
      "File \u001b[1;32mc:\\Users\\Sepehr\\anaconda3\\envs\\sepehr\\lib\\json\\encoder.py:405\u001b[0m, in \u001b[0;36m_make_iterencode.<locals>._iterencode_dict\u001b[1;34m(dct, _current_indent_level)\u001b[0m\n\u001b[0;32m    403\u001b[0m         \u001b[38;5;28;01melse\u001b[39;00m:\n\u001b[0;32m    404\u001b[0m             chunks \u001b[38;5;241m=\u001b[39m _iterencode(value, _current_indent_level)\n\u001b[1;32m--> 405\u001b[0m         \u001b[38;5;28;01myield from\u001b[39;00m chunks\n\u001b[0;32m    406\u001b[0m \u001b[38;5;28;01mif\u001b[39;00m newline_indent \u001b[38;5;129;01mis\u001b[39;00m \u001b[38;5;129;01mnot\u001b[39;00m \u001b[38;5;28;01mNone\u001b[39;00m:\n\u001b[0;32m    407\u001b[0m     _current_indent_level \u001b[38;5;241m-\u001b[39m\u001b[38;5;241m=\u001b[39m \u001b[38;5;241m1\u001b[39m\n",
      "File \u001b[1;32mc:\\Users\\Sepehr\\anaconda3\\envs\\sepehr\\lib\\json\\encoder.py:325\u001b[0m, in \u001b[0;36m_make_iterencode.<locals>._iterencode_list\u001b[1;34m(lst, _current_indent_level)\u001b[0m\n\u001b[0;32m    323\u001b[0m         \u001b[38;5;28;01melse\u001b[39;00m:\n\u001b[0;32m    324\u001b[0m             chunks \u001b[38;5;241m=\u001b[39m _iterencode(value, _current_indent_level)\n\u001b[1;32m--> 325\u001b[0m         \u001b[38;5;28;01myield from\u001b[39;00m chunks\n\u001b[0;32m    326\u001b[0m \u001b[38;5;28;01mif\u001b[39;00m newline_indent \u001b[38;5;129;01mis\u001b[39;00m \u001b[38;5;129;01mnot\u001b[39;00m \u001b[38;5;28;01mNone\u001b[39;00m:\n\u001b[0;32m    327\u001b[0m     _current_indent_level \u001b[38;5;241m-\u001b[39m\u001b[38;5;241m=\u001b[39m \u001b[38;5;241m1\u001b[39m\n",
      "File \u001b[1;32mc:\\Users\\Sepehr\\anaconda3\\envs\\sepehr\\lib\\json\\encoder.py:438\u001b[0m, in \u001b[0;36m_make_iterencode.<locals>._iterencode\u001b[1;34m(o, _current_indent_level)\u001b[0m\n\u001b[0;32m    436\u001b[0m         \u001b[38;5;28;01mraise\u001b[39;00m \u001b[38;5;167;01mValueError\u001b[39;00m(\u001b[38;5;124m\"\u001b[39m\u001b[38;5;124mCircular reference detected\u001b[39m\u001b[38;5;124m\"\u001b[39m)\n\u001b[0;32m    437\u001b[0m     markers[markerid] \u001b[38;5;241m=\u001b[39m o\n\u001b[1;32m--> 438\u001b[0m o \u001b[38;5;241m=\u001b[39m \u001b[43m_default\u001b[49m\u001b[43m(\u001b[49m\u001b[43mo\u001b[49m\u001b[43m)\u001b[49m\n\u001b[0;32m    439\u001b[0m \u001b[38;5;28;01myield from\u001b[39;00m _iterencode(o, _current_indent_level)\n\u001b[0;32m    440\u001b[0m \u001b[38;5;28;01mif\u001b[39;00m markers \u001b[38;5;129;01mis\u001b[39;00m \u001b[38;5;129;01mnot\u001b[39;00m \u001b[38;5;28;01mNone\u001b[39;00m:\n",
      "File \u001b[1;32mc:\\Users\\Sepehr\\anaconda3\\envs\\sepehr\\lib\\json\\encoder.py:179\u001b[0m, in \u001b[0;36mJSONEncoder.default\u001b[1;34m(self, o)\u001b[0m\n\u001b[0;32m    160\u001b[0m \u001b[38;5;28;01mdef\u001b[39;00m \u001b[38;5;21mdefault\u001b[39m(\u001b[38;5;28mself\u001b[39m, o):\n\u001b[0;32m    161\u001b[0m \u001b[38;5;250m    \u001b[39m\u001b[38;5;124;03m\"\"\"Implement this method in a subclass such that it returns\u001b[39;00m\n\u001b[0;32m    162\u001b[0m \u001b[38;5;124;03m    a serializable object for ``o``, or calls the base implementation\u001b[39;00m\n\u001b[0;32m    163\u001b[0m \u001b[38;5;124;03m    (to raise a ``TypeError``).\u001b[39;00m\n\u001b[1;32m   (...)\u001b[0m\n\u001b[0;32m    177\u001b[0m \n\u001b[0;32m    178\u001b[0m \u001b[38;5;124;03m    \"\"\"\u001b[39;00m\n\u001b[1;32m--> 179\u001b[0m     \u001b[38;5;28;01mraise\u001b[39;00m \u001b[38;5;167;01mTypeError\u001b[39;00m(\u001b[38;5;124mf\u001b[39m\u001b[38;5;124m'\u001b[39m\u001b[38;5;124mObject of type \u001b[39m\u001b[38;5;132;01m{\u001b[39;00mo\u001b[38;5;241m.\u001b[39m\u001b[38;5;18m__class__\u001b[39m\u001b[38;5;241m.\u001b[39m\u001b[38;5;18m__name__\u001b[39m\u001b[38;5;132;01m}\u001b[39;00m\u001b[38;5;124m \u001b[39m\u001b[38;5;124m'\u001b[39m\n\u001b[0;32m    180\u001b[0m                     \u001b[38;5;124mf\u001b[39m\u001b[38;5;124m'\u001b[39m\u001b[38;5;124mis not JSON serializable\u001b[39m\u001b[38;5;124m'\u001b[39m)\n",
      "\u001b[1;31mTypeError\u001b[0m: Object of type Timestamp is not JSON serializable"
     ]
    }
   ],
   "source": [
    "# saving the answer of the prompt in a dictionary which its key is the prompt and its value is the answer to that prompt\n",
    "long_chat_scenario_results = {}\n",
    "\n",
    "# # getting the answer of the prompts\n",
    "# messages = []\n",
    "# try:\n",
    "for prompt in long_chat_scenario_prompts:\n",
    "    input_json = {\n",
    "        \"file_path\": None,\n",
    "        \"prompt\": prompt,\n",
    "        \"messages\": messages,\n",
    "        \"front_json\": input_filter.front_end_json_sample\n",
    "    }\n",
    "    result = main.main(input_json)\n",
    "    print(f\"{prompt}    =>    {result}\\n\")\n",
    "    long_chat_scenario_results[prompt]=result\n",
    "\n",
    "# except Exception as e:\n",
    "#     print(f\"The following exception occured:\\n{e}\")\n",
    "\n",
    "# finally:\n",
    "# saving the answers\n",
    "with open(\"test_results/long_chat_scenario_test_results.json\", \"w\") as outputfile: \n",
    "    json.dump(long_chat_scenario_results, outputfile)"
   ]
  },
  {
   "cell_type": "markdown",
   "metadata": {},
   "source": [
    "## Parallel Function Calling"
   ]
  },
  {
   "cell_type": "code",
   "execution_count": null,
   "metadata": {},
   "outputs": [],
   "source": [
    "parallel_function_calling_prompts = [\n",
    "    # Normal Prompts\n",
    "    \"What is the ternd and sr of NQ?\",\n",
    "    # Challenging prompts\n",
    "    \n",
    "]"
   ]
  },
  {
   "cell_type": "code",
   "execution_count": null,
   "metadata": {},
   "outputs": [],
   "source": [
    "# saving the answer of the prompt in a dictionary which its key is the prompt and its value is the answer to that prompt\n",
    "parallel_function_calling_results = {}\n",
    "\n",
    "# # getting the answer of the prompts\n",
    "# try:\n",
    "for prompt in parallel_function_calling_prompts:\n",
    "    input_json = {\n",
    "        \"file_path\": None,\n",
    "        \"prompt\": prompt,\n",
    "        \"messages\": messages,\n",
    "        \"front_json\": input_filter.front_end_json_sample\n",
    "    }\n",
    "    result = main.main(input_json)\n",
    "    print(f\"{prompt}    =>    {result}\")\n",
    "    parallel_function_calling_results[prompt]=result\n",
    "\n",
    "# except Exception as e:\n",
    "#     print(f\"The following exception occured:\\n{e}\")\n",
    "\n",
    "# finally:\n",
    "# saving the answers\n",
    "with open(\"test_results/parallel_function_calling_test_results.json\", \"w\") as outputfile: \n",
    "    json.dump(parallel_function_calling_results, outputfile)"
   ]
  },
  {
   "cell_type": "markdown",
   "metadata": {},
   "source": [
    "## Unit Test"
   ]
  },
  {
   "cell_type": "markdown",
   "metadata": {},
   "source": [
    "# File"
   ]
  },
  {
   "cell_type": "code",
   "execution_count": null,
   "metadata": {},
   "outputs": [],
   "source": [
    "# Define the list of file paths and prompts\n",
    "messages = []\n",
    "\n",
    "file_paths = [\"samplefiles/TjqcZqip.png\", 'samplefiles/applyjobs.xlsx', 'samplefiles/paper.docx',\n",
    "              'samplefiles/sample.pdf', 'samplefiles/transcription.txt', 'samplefiles/english.mp3', None]\n",
    "\n",
    "prompts = [\"what is the main idea of this file?\",\n",
    "           \"what is the main idea of this file?\",\n",
    "           \"what is the main idea of this file?\",\n",
    "           \"what is the main idea of this file?\",\n",
    "           \"what is the main idea of this file?\",\n",
    "           \"what is the main idea of this file?\",\n",
    "           \"What is the trend of NQ stock from 3/10/2023 15:45:30 until 3/11/2023 15:45:30?\"]\n",
    "\n",
    "# Iterate over file_paths and prompts and run the code\n",
    "for file_path, prompt in zip(file_paths, prompts):\n",
    "    input_json = {\n",
    "        \"file_path\": file_path,\n",
    "        \"prompt\": prompt,\n",
    "        \"messages\": messages,\n",
    "        \"front_json\": input_filter.front_end_json_sample\n",
    "    }\n",
    "    result = main.main(input_json)\n",
    "    print(f\"{prompt}    =>    {result}\")\n",
    "# except Exception as e:\n",
    "#     print(f\"An error occurred: {e}\")"
   ]
  },
  {
   "cell_type": "code",
   "execution_count": 3,
   "metadata": {},
   "outputs": [
    {
     "name": "stdout",
     "output_type": "stream",
     "text": [
      "What is the speed of light?    =>    I'm here to help with trading and financial market queries. If you think your ask relates to trading and isn't addressed, please report a bug using the bottom right panel.\n",
      "tell me about english teaching    =>    I'm here to help with trading and financial market queries. If you think your ask relates to trading and isn't addressed, please report a bug using the bottom right panel.\n"
     ]
    }
   ],
   "source": [
    "irrelevant_prompts = [\n",
    "    # Normal Prompts\n",
    "    \"What is the speed of light?\",\n",
    "    \"tell me about english teaching\",\n",
    "    # Challenging prompts\n",
    "    \n",
    "]\n",
    "\n",
    "# saving the answer of the prompt in a dictionary which its key is the prompt and its value is the answer to that prompt\n",
    "irrelevant_results = {}\n",
    "\n",
    "# # getting the answer of the prompts\n",
    "# try:\n",
    "for prompt in irrelevant_prompts:\n",
    "    input_json = {\n",
    "        \"file_path\": file_path,\n",
    "        \"prompt\": prompt,\n",
    "        \"messages\": messages,\n",
    "        \"front_json\": input_filter.front_end_json_sample\n",
    "    }\n",
    "    result = main.main(input_json)\n",
    "    print(f\"{prompt}    =>    {result}\")\n",
    "    irrelevant_results[prompt]=result\n",
    "\n",
    "# except Exception as e:\n",
    "#     print(f\"The following exception occured:\\n{e}\")\n",
    "\n",
    "# finally:\n",
    "# saving the answers\n",
    "with open(\"test_results/irrelevant_prompts_results.json\", \"w\") as outputfile: \n",
    "    json.dump(irrelevant_results, outputfile)"
   ]
  },
  {
   "cell_type": "code",
   "execution_count": 2,
   "metadata": {},
   "outputs": [
    {
     "name": "stdout",
     "output_type": "stream",
     "text": [
      "Speech file detected. Processing speech...\n",
      "Speech processing complete.\n"
     ]
    },
    {
     "data": {
      "text/plain": [
       "(\"The main idea of this file is to provide information about long-term trading in the stock market. It explains that long-term trading involves buying shares of a company and holding onto them for an extended period, with the goal of benefiting from the company's growth over time and earning dividends. Long-term traders are often categorized as investors or position traders.\",\n",
       " {})"
      ]
     },
     "execution_count": 2,
     "metadata": {},
     "output_type": "execute_result"
    }
   ],
   "source": [
    "file_path = 'samplefiles/tts_test.mp3'\n",
    "messages = []\n",
    "prompt = None\n",
    "\n",
    "input_json = {\n",
    "    \"file_path\": file_path,\n",
    "    \"prompt\": None,\n",
    "    \"messages\": messages,\n",
    "    \"front_json\": input_filter.front_end_json_sample\n",
    "}\n",
    "\n",
    "result = main.main(input_json)"
   ]
  },
  {
   "cell_type": "markdown",
   "metadata": {},
   "source": [
    "# OpenAI API Test"
   ]
  },
  {
   "cell_type": "code",
   "execution_count": 10,
   "metadata": {},
   "outputs": [
    {
     "name": "stdout",
     "output_type": "stream",
     "text": [
      "The founders of Microsoft are Bill Gates and Paul Allen. They established the company on April 4, 1975, with the goal of developing and selling software for personal computers. Bill Gates is particularly known for his role in shaping the company's vision and strategy, while Paul Allen played a significant role in technical aspects and product development.\n"
     ]
    }
   ],
   "source": [
    "#########\n",
    "from openai import AzureOpenAI\n",
    "api_type = \"azure\"\n",
    "api_endpoint = 'https://tensurf.openai.azure.com/'\n",
    "api_version = '2023-10-01-preview'\n",
    "api_key = '74b3de375b964f73a6b7668fe459e26f'\n",
    "client = AzureOpenAI(\n",
    "    api_key= api_key,\n",
    "    api_version= api_version,\n",
    "    azure_endpoint= api_endpoint\n",
    ")\n",
    "#########\n",
    "response = client.chat.completions.create(\n",
    "    model=\"gpt_35\", # model = \"deployment_name\".\n",
    "    messages=[\n",
    "        {\"role\": \"system\", \"content\": \"Assistant is a large language model trained by OpenAI.\"},\n",
    "        {\"role\": \"user\", \"content\": \"Who were the founders of Microsoft?\"}\n",
    "    ]\n",
    ")\n",
    "print(response.choices[0].message.content)"
   ]
  },
  {
   "cell_type": "code",
   "execution_count": 11,
   "metadata": {},
   "outputs": [
    {
     "name": "stdout",
     "output_type": "stream",
     "text": [
      "Microsoft Corporation was founded by Bill Gates and Paul Allen. Bill Gates, currently one of the world's wealthiest individuals, served as Microsoft's Chairman and CEO for many years before transitioning to a role as a technology advisor. Paul Allen was a prominent philanthropist and entrepreneur who co-founded Microsoft with Bill Gates, but he passed away in 2018.\n"
     ]
    }
   ],
   "source": [
    "from openai import AzureOpenAI\n",
    "api_type = \"azure\"\n",
    "api_endpoint = 'https://tensurfbrain1.openai.azure.com/'\n",
    "api_version = '2023-10-01-preview'\n",
    "api_key = '80ddd1ad72504f2fa226755d49491a61'\n",
    "client = AzureOpenAI(\n",
    "    api_key= api_key,\n",
    "    api_version= api_version,\n",
    "    azure_endpoint= api_endpoint\n",
    ")\n",
    "#########\n",
    "response = client.chat.completions.create(\n",
    "    model=\"gpt_35\", \n",
    "    messages=[\n",
    "        {\"role\": \"system\", \"content\": \"Assistant is a large language model trained by OpenAI.\"},\n",
    "        {\"role\": \"user\", \"content\": \"Who were the founders of Microsoft?\"}\n",
    "    ]\n",
    ")\n",
    "print(response.choices[0].message.content)"
   ]
  },
  {
   "cell_type": "markdown",
   "metadata": {},
   "source": [
    "# Korbes"
   ]
  },
  {
   "cell_type": "code",
   "execution_count": null,
   "metadata": {},
   "outputs": [],
   "source": [
    "messages = []\n",
    "\n",
    "\n",
    "Korbes_prompts = [\n",
    "    \"Hello.\",\n",
    "    \"Can you help me prepare for my trading day?\",\n",
    "    \"Should I looking for longs or shorts for today on the ES?\",\n",
    "    \"Did my last question ocnfuse you?\",\n",
    "    \"Do you see any good trade ideas for the ES today?\",\n",
    "    \"Are there any news event today that might disturb the ES?\",\n",
    "    \"Can you show me the best support and resisatnce levels on the ES today?\",\n",
    "    \"Based on the last 30 days of my performance what should I be focusing on today?\",\n",
    "    \"What markets are opening in gap today?\",\n",
    "    \"Based on my account size, what should my daily stoploss be?\"\n",
    "]\n",
    "\n",
    "\n",
    "llm = merged.FileProcessor()\n",
    "f = open(\"Korbs.txt\", \"w\")\n",
    "for prompt in Korbes_prompts:\n",
    "    result = llm.get_user_input(file_path=None, prompt=prompt, messages=messages, front_json=input_filter.front_end_json_sample)\n",
    "    print(f\"{prompt}    =>    {result[0]}\")\n",
    "    f.write(f\"{prompt}    =>    {result[0]}\\n\\n\\n\\n\")\n",
    "f.close()\n"
   ]
  },
  {
   "cell_type": "markdown",
   "metadata": {},
   "source": [
    "# The new Temperary Test"
   ]
  },
  {
   "cell_type": "code",
   "execution_count": 1,
   "metadata": {},
   "outputs": [
    {
     "name": "stdout",
     "output_type": "stream",
     "text": [
      "\n",
      "ChatCompletionMessage(content=None, role='assistant', function_call=FunctionCall(arguments='{\\n  \"symbol\": \"NQ\",\\n  \"lookback_days\": \"30 days\"\\n}', name='calculate_sr'), tool_calls=None)\n",
      "\n"
     ]
    },
    {
     "data": {
      "text/plain": [
       "('The support and resistance levels for NQ over the last month have been calculated based on historical price data. These levels indicate areas where the price is likely to encounter support or resistance. The associated scores indicate the strength or significance of each level, with higher scores indicating stronger levels.',\n",
       " {'levels_prices': [17113.25,\n",
       "   17148.5,\n",
       "   17286.25,\n",
       "   17308.25,\n",
       "   17386.25,\n",
       "   17719.5,\n",
       "   17740.25,\n",
       "   17983.75,\n",
       "   18067.25,\n",
       "   18072.5,\n",
       "   18103.75,\n",
       "   18108.75,\n",
       "   18348.0,\n",
       "   18188.5,\n",
       "   18228.75,\n",
       "   18336.25],\n",
       "  'levels_start_timestamps': [Timestamp('2024-04-19 12:00:00'),\n",
       "   Timestamp('2024-04-22 08:00:00'),\n",
       "   Timestamp('2024-04-22 16:00:00'),\n",
       "   Timestamp('2024-04-25 06:00:00'),\n",
       "   Timestamp('2024-05-02 07:00:00'),\n",
       "   Timestamp('2024-05-03 00:00:00'),\n",
       "   Timestamp('2024-05-03 04:00:00'),\n",
       "   Timestamp('2024-05-05 22:00:00'),\n",
       "   Timestamp('2024-05-06 09:00:00'),\n",
       "   Timestamp('2024-05-08 05:00:00'),\n",
       "   Timestamp('2024-05-09 02:00:00'),\n",
       "   Timestamp('2024-05-09 06:00:00'),\n",
       "   Timestamp('2024-05-10 06:00:00'),\n",
       "   Timestamp('2024-05-10 07:00:00'),\n",
       "   Timestamp('2024-05-12 15:00:00'),\n",
       "   Timestamp('2024-05-13 06:00:00')],\n",
       "  'levels_end_timestamps': [Timestamp('2024-05-13 11:18:00'),\n",
       "   Timestamp('2024-05-13 11:18:00'),\n",
       "   Timestamp('2024-05-13 11:18:00'),\n",
       "   Timestamp('2024-05-13 11:18:00'),\n",
       "   Timestamp('2024-05-13 11:18:00'),\n",
       "   Timestamp('2024-05-13 11:18:00'),\n",
       "   Timestamp('2024-05-13 11:18:00'),\n",
       "   Timestamp('2024-05-13 11:18:00'),\n",
       "   Timestamp('2024-05-13 11:18:00'),\n",
       "   Timestamp('2024-05-13 11:18:00'),\n",
       "   Timestamp('2024-05-13 11:18:00'),\n",
       "   Timestamp('2024-05-13 11:18:00'),\n",
       "   Timestamp('2024-05-13 11:18:00'),\n",
       "   Timestamp('2024-05-13 11:18:00'),\n",
       "   Timestamp('2024-05-13 11:18:00'),\n",
       "   Timestamp('2024-05-13 11:18:00')],\n",
       "  'levels_scores': [2.8,\n",
       "   5.1,\n",
       "   4.3,\n",
       "   3.5,\n",
       "   4.3,\n",
       "   8.8,\n",
       "   7.5,\n",
       "   2.8,\n",
       "   8.7,\n",
       "   6.1,\n",
       "   7.4,\n",
       "   4.4,\n",
       "   8.8,\n",
       "   4.8,\n",
       "   1.7,\n",
       "   4.1]})"
      ]
     },
     "execution_count": 1,
     "metadata": {},
     "output_type": "execute_result"
    }
   ],
   "source": [
    "import main\n",
    "import input_filter\n",
    "\n",
    "prompt = \"What is the sr of NQ for the last month?\"\n",
    "messages = []\n",
    "\n",
    "main.main(file_path=None, prompt=prompt, messages=messages, front_json=input_filter.front_end_json_sample)"
   ]
  }
 ],
 "metadata": {
  "kernelspec": {
   "display_name": "Python 3 (ipykernel)",
   "language": "python",
   "name": "python3"
  },
  "language_info": {
   "codemirror_mode": {
    "name": "ipython",
    "version": 3
   },
   "file_extension": ".py",
   "mimetype": "text/x-python",
   "name": "python",
   "nbconvert_exporter": "python",
   "pygments_lexer": "ipython3",
   "version": "3.10.12"
  }
 },
 "nbformat": 4,
 "nbformat_minor": 2
}
