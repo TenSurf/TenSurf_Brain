{
  "cells": [
    {
      "cell_type": "markdown",
      "metadata": {
        "id": "MUdb91GdtaFG"
      },
      "source": [
        "# Dependencies"
      ]
    },
    {
      "cell_type": "code",
      "source": [
        "!pip install openai\n",
        "!pip install python-docx\n",
        "!pip install PyPDF2\n",
        "!pip install python-pptx\n",
        "!pip install influxdb-client"
      ],
      "metadata": {
        "id": "r5R-jYLmZKrd"
      },
      "execution_count": null,
      "outputs": []
    },
    {
      "cell_type": "code",
      "execution_count": 2,
      "metadata": {
        "id": "OcVS-f_ctaFK"
      },
      "outputs": [],
      "source": [
        "import json\n",
        "import chat_with_ai_azureopenai\n",
        "from chat_with_ai_azureopenai import FileProcessor"
      ]
    },
    {
      "cell_type": "markdown",
      "metadata": {
        "id": "1fCzrEi_taFM"
      },
      "source": [
        "# Text"
      ]
    },
    {
      "cell_type": "code",
      "execution_count": 3,
      "metadata": {
        "id": "JjgpJZS4taFN",
        "colab": {
          "base_uri": "https://localhost:8080/"
        },
        "outputId": "7a44c31d-a5c8-4a84-aab3-13b1ae0c3791"
      },
      "outputs": [
        {
          "output_type": "stream",
          "name": "stdout",
          "text": [
            "\n",
            "ChatCompletionMessage(content=None, role='assistant', function_call=FunctionCall(arguments='{\\n  \"symbol\": \"NQ\",\\n  \"start_datetime\": \"3/10/2023 15:45:30\",\\n  \"end_datetime\": \"3/11/2023 15:45:30\"\\n}', name='detect_trend'), tool_calls=None)\n",
            "\n",
            "from(bucket:\"bronze\") \n",
            "                |> range(start: time(v:2023-03-10T23:45:30Z), stop: time(v: 2023-03-11T23:45:30Z))\n",
            "                |> filter(fn: (r) => r[\"_measurement\"] == \"NQ\" and                    r[\"timeframe\"] == \"1min\" and                    r[\"liq_threshold\"] == \"-1\")\n",
            "                |> pivot(rowKey:[\"_time\"], columnKey:[\"_field\"], valueColumn:\"_value\")\n",
            "                \n",
            "[Error] result output is not DataFrame\n",
            "There is no data for this period of time...\n",
            "What is the trend of NQ stock from 3/10/2023 15:45:30 until 3/11/2023 15:45:30?    =>    The trend of NQ stock from 3/10/2023 15:45:30 until 3/11/2023 15:45:30 is without a significant trend.\n",
            "\n",
            "ChatCompletionMessage(content=None, role='assistant', function_call=FunctionCall(arguments='{\\n  \"symbol\": \"NQ\",\\n  \"lookback\": \"1 week\"\\n}', name='detect_trend'), tool_calls=None)\n",
            "\n",
            "What is the trend of NQ stock for the past week?    =>    The trend of NQ stock for the past week has been a strong bearish (downward) trend.\n",
            "\n",
            "ChatCompletionMessage(content=None, role='assistant', function_call=FunctionCall(arguments='{\\n  \"symbol\": \"NQ\"\\n}', name='detect_trend'), tool_calls=None)\n",
            "\n",
            "What is the trend of NQ?    =>    The trend of NQ stock is currently a strong bearish (downward) trend.\n",
            "\n",
            "ChatCompletionMessage(content=None, role='assistant', function_call=FunctionCall(arguments='{\\n  \"symbol\": \"NQ\"\\n}', name='detect_trend'), tool_calls=None)\n",
            "\n",
            "What is the trend?    =>    The trend of the NQ stock is currently a strong bearish (downward) trend.\n",
            "\n",
            "ChatCompletionMessage(content=None, role='assistant', function_call=FunctionCall(arguments='{\\n  \"symbol\": \"ES\",\\n  \"start_datetime\": \"2024-03-25 11:12:17\",\\n  \"end_datetime\": \"2024-04-01 9:31:23\"\\n}', name='detect_trend'), tool_calls=None)\n",
            "\n",
            "Show me the trend of ES from 2024-03-25 11:12:17 to 2024-04-01 9:31:23.    =>    The trend of ES stock from 2024-03-25 11:12:17 to 2024-04-01 9:31:23 is without a significant trend.\n",
            "\n",
            "ChatCompletionMessage(content=None, role='assistant', function_call=FunctionCall(arguments='{\\n  \"symbol\": \"GC\",\\n  \"start_datetime\": \"2024-03-25 11:12:17\",\\n  \"end_datetime\": \"2024-04-01 9:31:23\"\\n}', name='detect_trend'), tool_calls=None)\n",
            "\n",
            "Trend of GC, 2024-03-25 11:12:17 to 2024-04-01 9:31:23    =>    The trend of GC stock from 2024-03-25 11:12:17 to 2024-04-01 9:31:23 is a mild bullish (upward) trend.\n",
            "\n",
            "ChatCompletionMessage(content=None, role='assistant', function_call=FunctionCall(arguments='{\\n  \"symbol\": \"GC\",\\n  \"lookback\": \"2 hours\"\\n}', name='detect_trend'), tool_calls=None)\n",
            "\n",
            "from(bucket:\"bronze\") \n",
            "                |> range(start: time(v:2024-04-21T22:07:32Z), stop: time(v: 2024-04-22T00:07:32Z))\n",
            "                |> filter(fn: (r) => r[\"_measurement\"] == \"GC\" and                    r[\"timeframe\"] == \"1min\" and                    r[\"liq_threshold\"] == \"-1\")\n",
            "                |> pivot(rowKey:[\"_time\"], columnKey:[\"_field\"], valueColumn:\"_value\")\n",
            "                \n",
            "[Error] result output is not DataFrame\n",
            "There is no data for this period of time...\n",
            "Trend of GC, past 2 hours    =>    The trend of GC stock for the past 2 hours is without a significant trend.\n",
            "\n",
            "ChatCompletionMessage(content=None, role='assistant', function_call=FunctionCall(arguments='{\\n  \"symbol\": \"YM\",\\n  \"lookback_days\": \"10 days\",\\n  \"timeframe\": \"1h\"\\n}', name='calculate_sr'), tool_calls=None)\n",
            "\n",
            "Calculate Support and Resistance Levels based on YM by looking back up to past 10 days and timeframe of 1 hour.    =>    Based on the analysis of YM stock with a lookback of 10 days and a timeframe of 1 hour, the support and resistance levels are as follows:\n",
            "\n",
            "Support Levels:\n",
            "1. Price Level: $38,637.0 (Starting from 2024-04-15 06:00:00, Ending at 2024-04-19 13:58:00), Score: 4.8\n",
            "2. Price Level: $38,317.0 (Starting from 2024-04-18 08:00:00, Ending at 2024-04-19 13:58:00), Score: 5.5\n",
            "3. Price Level: $37,463.0 (Starting from 2024-04-18 19:00:00, Ending at 2024-04-19 13:58:00), Score: 3.1\n",
            "\n",
            "Resistance Levels:\n",
            "1. Price Level: $38,060.0 (Starting from 2024-04-19 09:00:00, Ending at 2024-04-19 13:58:00), Score: 3.4\n",
            "2. Price Level: $38,344.0 (Starting from 2024-04-19 10:00:00, Ending at 2024-04-19 13:58:00), Score: 3.1\n",
            "\n",
            "These levels indicate the prices at which support and resistance have been identified, along with their respective start and end timestamps, as well as the associated scores which indicate their strength or significance.\n",
            "\n",
            "ChatCompletionMessage(content=None, role='assistant', function_call=FunctionCall(arguments='{\\n  \"symbol\": \"CL\",\\n  \"lookback_days\": \"1 week\",\\n  \"timeframe\": \"1h\"\\n}', name='calculate_sr'), tool_calls=None)\n",
            "\n",
            "from(bucket:\"bronze\") \n",
            "                |> range(start: time(v:2024-04-21T01:00:49Z), stop: time(v: 2024-04-22T01:00:49Z))\n",
            "                |> filter(fn: (r) => r[\"_measurement\"] == \"CL\" and                    r[\"timeframe\"] == \"1min\" and                    r[\"liq_threshold\"] == \"-1\")\n",
            "                |> pivot(rowKey:[\"_time\"], columnKey:[\"_field\"], valueColumn:\"_value\")\n",
            "                \n",
            "[Error] result output is not DataFrame\n",
            "There is no data for this period of time...\n",
            "The following exception occured:\n",
            "cannot unpack non-iterable int object\n"
          ]
        }
      ],
      "source": [
        "messages = chat_with_ai_azureopenai.messages\n",
        "\n",
        "# providing prompt samples\n",
        "prompts = [\n",
        "    # detect_trend\n",
        "    \"What is the trend of NQ stock from 3/10/2023 15:45:30 until 3/11/2023 15:45:30?\",\n",
        "    \"What is the trend of NQ stock for the past week?\",\n",
        "    \"What is the trend of NQ?\",\n",
        "    \"What is the trend?\",\n",
        "    \"Show me the trend of ES from 2024-03-25 11:12:17 to 2024-04-01 9:31:23.\",\n",
        "    \"Trend of GC, 2024-03-25 11:12:17 to 2024-04-01 9:31:23\",\n",
        "    \"Trend of GC, past 2 hours\",\n",
        "    # calculate_sr\n",
        "    \"Calculate Support and Resistance Levels based on YM by looking back up to past 10 days and timeframe of 1 hour.\",\n",
        "    \"How much is the sr of CL for the past week?\"\n",
        "]\n",
        "\n",
        "# saving the answer of the prompt in a dictionary which its key is the prompt and its value is the answer to that prompt\n",
        "results = {}\n",
        "\n",
        "# getting the answer of the prompts\n",
        "try:\n",
        "    processor = FileProcessor()\n",
        "    for prompt in prompts:\n",
        "        #api = 'openai'\n",
        "        api = 'azureopenai'\n",
        "        #result = processor.get_user_input(file_path=None, prompt=prompt, messages=messages, api)\n",
        "        result = processor.get_user_input(None, prompt, messages, api)\n",
        "        print(f\"{prompt}    =>    {result}\")\n",
        "        results[prompt]=result\n",
        "\n",
        "except Exception as e:\n",
        "    print(f\"The following exception occured:\\n{e}\")\n",
        "\n",
        "finally:\n",
        "    # saving the answers\n",
        "    with open(\"test_results.json\", \"w\") as outfile:\n",
        "        json.dump(results, outfile)\n"
      ]
    },
    {
      "cell_type": "markdown",
      "metadata": {
        "id": "bJ0XixSDtaFO"
      },
      "source": [
        "# File"
      ]
    },
    {
      "cell_type": "code",
      "source": [
        "!pip install openai\n",
        "!pip install python-docx\n",
        "!pip install PyPDF2\n",
        "!pip install python-pptx\n",
        "!pip install influxdb-client"
      ],
      "metadata": {
        "id": "mpEdZ3Awusn9"
      },
      "execution_count": null,
      "outputs": []
    },
    {
      "cell_type": "code",
      "execution_count": 2,
      "metadata": {
        "id": "KV7RTe8StaFP",
        "colab": {
          "base_uri": "https://localhost:8080/"
        },
        "outputId": "42517387-4de3-4d02-c7e4-6ce083f4fcf5"
      },
      "outputs": [
        {
          "output_type": "stream",
          "name": "stdout",
          "text": [
            "CSV file detected. Extracting text...\n",
            "Extraction complete.\n",
            "The main idea of this file appears to be a dataset containing information about various meal bills, including the total bill amount, the tip amount, the gender of the person paying the bill, whether they are a smoker or not, the day of the week, the time of day, and the size of the dining party.\n",
            "Powerpoint document detected. Extracting text...\n",
            "Extraction complete.\n",
            "The main idea of this file appears to be an exploration and discussion of the field of Artificial Intelligence (AI), including its definition, its impact on society, the concept of intelligence, the Physical Symbol System Hypothesis, and the Turing Test. It also mentions specific examples of AI systems, such as Eliza and A.L.I.C.E., and provides dialogues demonstrating their functionality.\n",
            "Image file detected. VisionGPT processing...\n",
            "Image processing complete.\n",
            "Apologies, but it seems like there was an issue with the information you provided. The given information appears to be about a financial chart displaying the price action of Cardano (ADA) against the US Dollar Tether (USDT). It describes elements such as the candlestick chart, exponential moving averages (EMAs), trend lines, relative strength index (RSI), and volume bars. However, it is not clear what file or context this information is referring to. Could you please provide more details or specify what you would like to know about the main idea of this file?\n",
            "Excel file detected. Extracting text...\n",
            "Extraction complete.\n",
            "The main idea of this file appears to be a list of job positions related to the field of Artificial Intelligence (AI) or data analysis. The information includes company names, job titles, required qualifications, application dates, salary ranges, contact details, work locations, and work schedules. It seems to be a collection of job advertisements or job descriptions in the AI and data analysis industry.\n",
            "PDF file detected. Extracting text...\n",
            "Extraction complete.\n",
            "The main idea of this file is to provide education and information to investors about different types of orders and trading instructions used in buying and selling stocks through brokerage firms. It explains concepts such as market orders, limit orders, stop orders, stop-limit orders, day orders, GTC orders, IOC orders, FOK orders, and AON orders. The file aims to help investors understand the different order types, their characteristics, and considerations to keep in mind when using them. The information is provided by the Securities and Exchange Commission's Office of Investor Education and Advocacy.\n",
            "Text file detected. Extracting text...\n",
            "Extraction complete.\n",
            "The main idea of this file is to provide information about a trained model that is capable of transcribing audio files containing speech in English. The model is optimized for transcribing audio and text data in English and is trained on a large dataset. It can accurately transcribe English speech from audio files. Additionally, the model has the ability to transcribe audio files containing mixed language speech, but the output will be in English. The file emphasizes the model's suitability for transcribing audio files in English and highlights its ability to handle mixed language inputs.\n",
            "Speech file detected. Processing speech...\n",
            "Speech processing complete.\n",
            "The main idea of this file is to advocate for natural and independent methods of learning English, highlighting the drawbacks and ineffectiveness of traditional education systems. The file emphasizes that students should shift away from memorization and passive learning techniques and instead focus on listening as the foundation of natural language learning. It argues that leaving the education system and becoming an independent learner is necessary to achieve fluency in English. The file also proposes the idea of joining an English learning community that encourages communication and support among its members. The main message is that natural and independent learning is the most effective and enjoyable way to learn English.\n",
            "Word document detected. Extracting text...\n",
            "Extraction complete.\n",
            "The main idea of this file is to explain the Beez algorithm, an optimization algorithm that combines local search and global search to solve complex optimization problems. The algorithm is inspired by the behavior of bees in a hive. It involves sending scout bees to search for initial solutions, evaluating and rearranging these solutions based on their costs, and then iteratively improving the solutions through a search process. The algorithm utilizes elite solutions, non-elite solutions, and randomly generated solutions to iteratively update and improve the solutions. The file highlights that the algorithm guarantees convergence to an optimal solution.\n",
            "\n",
            "ChatCompletionMessage(content=None, role='assistant', function_call=FunctionCall(arguments='{\\n  \"symbol\": \"NQ\",\\n  \"start_datetime\": \"3/10/2023 15:45:30\",\\n  \"end_datetime\": \"3/11/2023 15:45:30\"\\n}', name='detect_trend'), tool_calls=None)\n",
            "\n",
            "from(bucket:\"bronze\") \n",
            "                |> range(start: time(v:2023-03-10T23:45:30Z), stop: time(v: 2023-03-11T23:45:30Z))\n",
            "                |> filter(fn: (r) => r[\"_measurement\"] == \"NQ\" and                    r[\"timeframe\"] == \"1min\" and                    r[\"liq_threshold\"] == \"-1\")\n",
            "                |> pivot(rowKey:[\"_time\"], columnKey:[\"_field\"], valueColumn:\"_value\")\n",
            "                \n",
            "[Error] result output is not DataFrame\n",
            "There is no data for this period of time...\n",
            "The trend of the NQ stock from 3/10/2023 15:45:30 until 3/11/2023 15:45:30 is not specified. Please provide either the start and end datetime or the lookback parameter to analyze the trend of the NQ stock during that period.\n"
          ]
        }
      ],
      "source": [
        "import json\n",
        "import chat_with_ai_azureopenai\n",
        "from chat_with_ai_azureopenai import FileProcessor\n",
        "# Define the list of file paths and prompts\n",
        "messages = chat_with_ai_azureopenai.messages\n",
        "file_paths = ['/content/tips.csv', '/content/intro.pptx', \"/content/TjqcZqip.png\", '/content/applyjobs.xlsx',\n",
        "              '/content/sample.pdf', '/content/transcription.txt', '/content/english.mp3', '/content/paper.docx',  None]\n",
        "prompts = [\"what is the main idea of this file?\",\n",
        "           \"what is the main idea of this file?\",\n",
        "           \"what is the main idea of this file?\",\n",
        "           \"what is the main idea of this file?\",\n",
        "           \"what is the main idea of this file?\",\n",
        "           \"what is the main idea of this file?\",\n",
        "           \"what is the main idea of this file?\",\n",
        "           \"what is the main idea of this file?\",\n",
        "           \"What is the trend of NQ stock from 3/10/2023 15:45:30 until 3/11/2023 15:45:30?\"]\n",
        "\n",
        "\n",
        "# Iterate over file_paths and prompts and run the code\n",
        "for file_path, prompt in zip(file_paths, prompts):\n",
        "    try:\n",
        "        processor = FileProcessor()\n",
        "        #api = 'openai'\n",
        "        api = 'azureopenai'\n",
        "        print(processor.get_user_input(file_path, prompt, messages, api))\n",
        "    except Exception as e:\n",
        "        print(f\"An error occurred: {e}\")"
      ]
    },
    {
      "cell_type": "code",
      "source": [],
      "metadata": {
        "id": "q1EiyKuUyhJz"
      },
      "execution_count": null,
      "outputs": []
    }
  ],
  "metadata": {
    "kernelspec": {
      "display_name": "sepehr",
      "language": "python",
      "name": "python3"
    },
    "language_info": {
      "codemirror_mode": {
        "name": "ipython",
        "version": 3
      },
      "file_extension": ".py",
      "mimetype": "text/x-python",
      "name": "python",
      "nbconvert_exporter": "python",
      "pygments_lexer": "ipython3",
      "version": "3.10.13"
    },
    "colab": {
      "provenance": []
    }
  },
  "nbformat": 4,
  "nbformat_minor": 0
}