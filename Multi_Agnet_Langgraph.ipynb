{
  "nbformat": 4,
  "nbformat_minor": 0,
  "metadata": {
    "colab": {
      "provenance": [],
      "collapsed_sections": [
        "nlPLaNe4GjgH",
        "behgQf7V1wNk",
        "EciRRD4YELCo",
        "lt4sSmAQH1Ph",
        "AahZLwrkH-G-",
        "ALEtGCoWoI_2"
      ]
    },
    "kernelspec": {
      "name": "python3",
      "display_name": "Python 3"
    },
    "language_info": {
      "name": "python"
    }
  },
  "cells": [
    {
      "cell_type": "code",
      "source": [
        "!pip install Openai"
      ],
      "metadata": {
        "colab": {
          "base_uri": "https://localhost:8080/"
        },
        "id": "XvP4kQpiU3bz",
        "outputId": "0ca0c98a-c720-4711-f7d4-bd1120ba6936"
      },
      "execution_count": 1,
      "outputs": [
        {
          "output_type": "stream",
          "name": "stdout",
          "text": [
            "Collecting Openai\n",
            "  Downloading openai-1.30.1-py3-none-any.whl (320 kB)\n",
            "\u001b[2K     \u001b[90m━━━━━━━━━━━━━━━━━━━━━━━━━━━━━━━━━━━━━━━━\u001b[0m \u001b[32m320.6/320.6 kB\u001b[0m \u001b[31m5.6 MB/s\u001b[0m eta \u001b[36m0:00:00\u001b[0m\n",
            "\u001b[?25hRequirement already satisfied: anyio<5,>=3.5.0 in /usr/local/lib/python3.10/dist-packages (from Openai) (3.7.1)\n",
            "Requirement already satisfied: distro<2,>=1.7.0 in /usr/lib/python3/dist-packages (from Openai) (1.7.0)\n",
            "Collecting httpx<1,>=0.23.0 (from Openai)\n",
            "  Downloading httpx-0.27.0-py3-none-any.whl (75 kB)\n",
            "\u001b[2K     \u001b[90m━━━━━━━━━━━━━━━━━━━━━━━━━━━━━━━━━━━━━━━━\u001b[0m \u001b[32m75.6/75.6 kB\u001b[0m \u001b[31m8.9 MB/s\u001b[0m eta \u001b[36m0:00:00\u001b[0m\n",
            "\u001b[?25hRequirement already satisfied: pydantic<3,>=1.9.0 in /usr/local/lib/python3.10/dist-packages (from Openai) (2.7.1)\n",
            "Requirement already satisfied: sniffio in /usr/local/lib/python3.10/dist-packages (from Openai) (1.3.1)\n",
            "Requirement already satisfied: tqdm>4 in /usr/local/lib/python3.10/dist-packages (from Openai) (4.66.4)\n",
            "Requirement already satisfied: typing-extensions<5,>=4.7 in /usr/local/lib/python3.10/dist-packages (from Openai) (4.11.0)\n",
            "Requirement already satisfied: idna>=2.8 in /usr/local/lib/python3.10/dist-packages (from anyio<5,>=3.5.0->Openai) (3.7)\n",
            "Requirement already satisfied: exceptiongroup in /usr/local/lib/python3.10/dist-packages (from anyio<5,>=3.5.0->Openai) (1.2.1)\n",
            "Requirement already satisfied: certifi in /usr/local/lib/python3.10/dist-packages (from httpx<1,>=0.23.0->Openai) (2024.2.2)\n",
            "Collecting httpcore==1.* (from httpx<1,>=0.23.0->Openai)\n",
            "  Downloading httpcore-1.0.5-py3-none-any.whl (77 kB)\n",
            "\u001b[2K     \u001b[90m━━━━━━━━━━━━━━━━━━━━━━━━━━━━━━━━━━━━━━━━\u001b[0m \u001b[32m77.9/77.9 kB\u001b[0m \u001b[31m9.2 MB/s\u001b[0m eta \u001b[36m0:00:00\u001b[0m\n",
            "\u001b[?25hCollecting h11<0.15,>=0.13 (from httpcore==1.*->httpx<1,>=0.23.0->Openai)\n",
            "  Downloading h11-0.14.0-py3-none-any.whl (58 kB)\n",
            "\u001b[2K     \u001b[90m━━━━━━━━━━━━━━━━━━━━━━━━━━━━━━━━━━━━━━━━\u001b[0m \u001b[32m58.3/58.3 kB\u001b[0m \u001b[31m5.7 MB/s\u001b[0m eta \u001b[36m0:00:00\u001b[0m\n",
            "\u001b[?25hRequirement already satisfied: annotated-types>=0.4.0 in /usr/local/lib/python3.10/dist-packages (from pydantic<3,>=1.9.0->Openai) (0.6.0)\n",
            "Requirement already satisfied: pydantic-core==2.18.2 in /usr/local/lib/python3.10/dist-packages (from pydantic<3,>=1.9.0->Openai) (2.18.2)\n",
            "Installing collected packages: h11, httpcore, httpx, Openai\n",
            "Successfully installed Openai-1.30.1 h11-0.14.0 httpcore-1.0.5 httpx-0.27.0\n"
          ]
        }
      ]
    },
    {
      "cell_type": "code",
      "source": [
        "!apt install libgraphviz-dev\n",
        "!pip install pygraphviz"
      ],
      "metadata": {
        "id": "CcrPkYWKEnFJ",
        "colab": {
          "base_uri": "https://localhost:8080/"
        },
        "outputId": "c36b98de-969a-4938-f2f5-3075a34129a4"
      },
      "execution_count": 2,
      "outputs": [
        {
          "output_type": "stream",
          "name": "stdout",
          "text": [
            "Reading package lists... Done\n",
            "Building dependency tree... Done\n",
            "Reading state information... Done\n",
            "The following additional packages will be installed:\n",
            "  libgail-common libgail18 libgtk2.0-0 libgtk2.0-bin libgtk2.0-common libgvc6-plugins-gtk\n",
            "  librsvg2-common libxdot4\n",
            "Suggested packages:\n",
            "  gvfs\n",
            "The following NEW packages will be installed:\n",
            "  libgail-common libgail18 libgraphviz-dev libgtk2.0-0 libgtk2.0-bin libgtk2.0-common\n",
            "  libgvc6-plugins-gtk librsvg2-common libxdot4\n",
            "0 upgraded, 9 newly installed, 0 to remove and 45 not upgraded.\n",
            "Need to get 2,433 kB of archives.\n",
            "After this operation, 7,694 kB of additional disk space will be used.\n",
            "Get:1 http://archive.ubuntu.com/ubuntu jammy/main amd64 libgtk2.0-common all 2.24.33-2ubuntu2 [125 kB]\n",
            "Get:2 http://archive.ubuntu.com/ubuntu jammy/main amd64 libgtk2.0-0 amd64 2.24.33-2ubuntu2 [2,037 kB]\n",
            "Get:3 http://archive.ubuntu.com/ubuntu jammy/main amd64 libgail18 amd64 2.24.33-2ubuntu2 [15.9 kB]\n",
            "Get:4 http://archive.ubuntu.com/ubuntu jammy/main amd64 libgail-common amd64 2.24.33-2ubuntu2 [132 kB]\n",
            "Get:5 http://archive.ubuntu.com/ubuntu jammy/universe amd64 libxdot4 amd64 2.42.2-6 [16.4 kB]\n",
            "Get:6 http://archive.ubuntu.com/ubuntu jammy/universe amd64 libgvc6-plugins-gtk amd64 2.42.2-6 [22.6 kB]\n",
            "Get:7 http://archive.ubuntu.com/ubuntu jammy/universe amd64 libgraphviz-dev amd64 2.42.2-6 [58.5 kB]\n",
            "Get:8 http://archive.ubuntu.com/ubuntu jammy/main amd64 libgtk2.0-bin amd64 2.24.33-2ubuntu2 [7,932 B]\n",
            "Get:9 http://archive.ubuntu.com/ubuntu jammy-updates/main amd64 librsvg2-common amd64 2.52.5+dfsg-3ubuntu0.2 [17.7 kB]\n",
            "Fetched 2,433 kB in 0s (8,825 kB/s)\n",
            "Selecting previously unselected package libgtk2.0-common.\n",
            "(Reading database ... 121918 files and directories currently installed.)\n",
            "Preparing to unpack .../0-libgtk2.0-common_2.24.33-2ubuntu2_all.deb ...\n",
            "Unpacking libgtk2.0-common (2.24.33-2ubuntu2) ...\n",
            "Selecting previously unselected package libgtk2.0-0:amd64.\n",
            "Preparing to unpack .../1-libgtk2.0-0_2.24.33-2ubuntu2_amd64.deb ...\n",
            "Unpacking libgtk2.0-0:amd64 (2.24.33-2ubuntu2) ...\n",
            "Selecting previously unselected package libgail18:amd64.\n",
            "Preparing to unpack .../2-libgail18_2.24.33-2ubuntu2_amd64.deb ...\n",
            "Unpacking libgail18:amd64 (2.24.33-2ubuntu2) ...\n",
            "Selecting previously unselected package libgail-common:amd64.\n",
            "Preparing to unpack .../3-libgail-common_2.24.33-2ubuntu2_amd64.deb ...\n",
            "Unpacking libgail-common:amd64 (2.24.33-2ubuntu2) ...\n",
            "Selecting previously unselected package libxdot4:amd64.\n",
            "Preparing to unpack .../4-libxdot4_2.42.2-6_amd64.deb ...\n",
            "Unpacking libxdot4:amd64 (2.42.2-6) ...\n",
            "Selecting previously unselected package libgvc6-plugins-gtk.\n",
            "Preparing to unpack .../5-libgvc6-plugins-gtk_2.42.2-6_amd64.deb ...\n",
            "Unpacking libgvc6-plugins-gtk (2.42.2-6) ...\n",
            "Selecting previously unselected package libgraphviz-dev:amd64.\n",
            "Preparing to unpack .../6-libgraphviz-dev_2.42.2-6_amd64.deb ...\n",
            "Unpacking libgraphviz-dev:amd64 (2.42.2-6) ...\n",
            "Selecting previously unselected package libgtk2.0-bin.\n",
            "Preparing to unpack .../7-libgtk2.0-bin_2.24.33-2ubuntu2_amd64.deb ...\n",
            "Unpacking libgtk2.0-bin (2.24.33-2ubuntu2) ...\n",
            "Selecting previously unselected package librsvg2-common:amd64.\n",
            "Preparing to unpack .../8-librsvg2-common_2.52.5+dfsg-3ubuntu0.2_amd64.deb ...\n",
            "Unpacking librsvg2-common:amd64 (2.52.5+dfsg-3ubuntu0.2) ...\n",
            "Setting up libxdot4:amd64 (2.42.2-6) ...\n",
            "Setting up librsvg2-common:amd64 (2.52.5+dfsg-3ubuntu0.2) ...\n",
            "Setting up libgtk2.0-common (2.24.33-2ubuntu2) ...\n",
            "Setting up libgtk2.0-0:amd64 (2.24.33-2ubuntu2) ...\n",
            "Setting up libgvc6-plugins-gtk (2.42.2-6) ...\n",
            "Setting up libgail18:amd64 (2.24.33-2ubuntu2) ...\n",
            "Setting up libgtk2.0-bin (2.24.33-2ubuntu2) ...\n",
            "Setting up libgail-common:amd64 (2.24.33-2ubuntu2) ...\n",
            "Setting up libgraphviz-dev:amd64 (2.42.2-6) ...\n",
            "Processing triggers for libc-bin (2.35-0ubuntu3.4) ...\n",
            "/sbin/ldconfig.real: /usr/local/lib/libtbbmalloc_proxy.so.2 is not a symbolic link\n",
            "\n",
            "/sbin/ldconfig.real: /usr/local/lib/libtbbbind_2_5.so.3 is not a symbolic link\n",
            "\n",
            "/sbin/ldconfig.real: /usr/local/lib/libtbbmalloc.so.2 is not a symbolic link\n",
            "\n",
            "/sbin/ldconfig.real: /usr/local/lib/libtbbbind.so.3 is not a symbolic link\n",
            "\n",
            "/sbin/ldconfig.real: /usr/local/lib/libtbbbind_2_0.so.3 is not a symbolic link\n",
            "\n",
            "/sbin/ldconfig.real: /usr/local/lib/libtbb.so.12 is not a symbolic link\n",
            "\n",
            "Processing triggers for man-db (2.10.2-1) ...\n",
            "Processing triggers for libgdk-pixbuf-2.0-0:amd64 (2.42.8+dfsg-1ubuntu0.2) ...\n",
            "Collecting pygraphviz\n",
            "  Downloading pygraphviz-1.13.tar.gz (104 kB)\n",
            "\u001b[2K     \u001b[90m━━━━━━━━━━━━━━━━━━━━━━━━━━━━━━━━━━━━━━━━\u001b[0m \u001b[32m104.6/104.6 kB\u001b[0m \u001b[31m2.2 MB/s\u001b[0m eta \u001b[36m0:00:00\u001b[0m\n",
            "\u001b[?25h  Installing build dependencies ... \u001b[?25l\u001b[?25hdone\n",
            "  Getting requirements to build wheel ... \u001b[?25l\u001b[?25hdone\n",
            "  Installing backend dependencies ... \u001b[?25l\u001b[?25hdone\n",
            "  Preparing metadata (pyproject.toml) ... \u001b[?25l\u001b[?25hdone\n",
            "Building wheels for collected packages: pygraphviz\n",
            "  Building wheel for pygraphviz (pyproject.toml) ... \u001b[?25l\u001b[?25hdone\n",
            "  Created wheel for pygraphviz: filename=pygraphviz-1.13-cp310-cp310-linux_x86_64.whl size=168497 sha256=ed6b0d6186dac71aa03562989b549010e0b89b4c604facf3068a25cbeb2884ec\n",
            "  Stored in directory: /root/.cache/pip/wheels/c5/96/10/6c25add1fffc368b1927252bf73b63fcb938de8f4486e23691\n",
            "Successfully built pygraphviz\n",
            "Installing collected packages: pygraphviz\n",
            "Successfully installed pygraphviz-1.13\n"
          ]
        }
      ]
    },
    {
      "cell_type": "code",
      "source": [
        "!pip install zigzag"
      ],
      "metadata": {
        "colab": {
          "base_uri": "https://localhost:8080/"
        },
        "id": "5V8z7XbSFNAh",
        "outputId": "a590c881-30c8-4aaa-a031-6fbd81f8cf0a"
      },
      "execution_count": 3,
      "outputs": [
        {
          "output_type": "stream",
          "name": "stdout",
          "text": [
            "Collecting zigzag\n",
            "  Downloading zigzag-0.3.2.tar.gz (112 kB)\n",
            "\u001b[?25l     \u001b[90m━━━━━━━━━━━━━━━━━━━━━━━━━━━━━━━━━━━━━━━━\u001b[0m \u001b[32m0.0/112.3 kB\u001b[0m \u001b[31m?\u001b[0m eta \u001b[36m-:--:--\u001b[0m\r\u001b[2K     \u001b[91m━━━━━━━━━━━━━━━━━━━━━━━━━━━━━━━━━━━━\u001b[0m\u001b[90m╺\u001b[0m\u001b[90m━━━\u001b[0m \u001b[32m102.4/112.3 kB\u001b[0m \u001b[31m3.3 MB/s\u001b[0m eta \u001b[36m0:00:01\u001b[0m\r\u001b[2K     \u001b[90m━━━━━━━━━━━━━━━━━━━━━━━━━━━━━━━━━━━━━━━━\u001b[0m \u001b[32m112.3/112.3 kB\u001b[0m \u001b[31m2.8 MB/s\u001b[0m eta \u001b[36m0:00:00\u001b[0m\n",
            "\u001b[?25h  Installing build dependencies ... \u001b[?25l\u001b[?25hdone\n",
            "  Getting requirements to build wheel ... \u001b[?25l\u001b[?25hdone\n",
            "  Preparing metadata (pyproject.toml) ... \u001b[?25l\u001b[?25hdone\n",
            "Collecting Cython<0.30,>=0.29 (from zigzag)\n",
            "  Downloading Cython-0.29.37-cp310-cp310-manylinux_2_17_x86_64.manylinux2014_x86_64.manylinux_2_24_x86_64.whl (1.9 MB)\n",
            "\u001b[2K     \u001b[90m━━━━━━━━━━━━━━━━━━━━━━━━━━━━━━━━━━━━━━━━\u001b[0m \u001b[32m1.9/1.9 MB\u001b[0m \u001b[31m33.4 MB/s\u001b[0m eta \u001b[36m0:00:00\u001b[0m\n",
            "\u001b[?25hRequirement already satisfied: numpy>=1.21.1 in /usr/local/lib/python3.10/dist-packages (from zigzag) (1.25.2)\n",
            "Building wheels for collected packages: zigzag\n",
            "  Building wheel for zigzag (pyproject.toml) ... \u001b[?25l\u001b[?25hdone\n",
            "  Created wheel for zigzag: filename=zigzag-0.3.2-cp310-cp310-manylinux_2_35_x86_64.whl size=782650 sha256=11f32f3fdc1626a733bd38e57f72b3509f3d5c9f3444de64d115919b6622657a\n",
            "  Stored in directory: /root/.cache/pip/wheels/e2/27/4f/a2cca46b8db81b9fdbec9d8cdd22ad52ccfce1deb318c108c4\n",
            "Successfully built zigzag\n",
            "Installing collected packages: Cython, zigzag\n",
            "  Attempting uninstall: Cython\n",
            "    Found existing installation: Cython 3.0.10\n",
            "    Uninstalling Cython-3.0.10:\n",
            "      Successfully uninstalled Cython-3.0.10\n",
            "Successfully installed Cython-0.29.37 zigzag-0.3.2\n"
          ]
        }
      ]
    },
    {
      "cell_type": "code",
      "source": [
        "!pip install influxdb_client"
      ],
      "metadata": {
        "id": "hnLtdz5cFwdn",
        "colab": {
          "base_uri": "https://localhost:8080/"
        },
        "outputId": "869922cb-b721-482d-ebf1-9ee02b19e083"
      },
      "execution_count": 4,
      "outputs": [
        {
          "output_type": "stream",
          "name": "stdout",
          "text": [
            "Collecting influxdb_client\n",
            "  Downloading influxdb_client-1.43.0-py3-none-any.whl (744 kB)\n",
            "\u001b[2K     \u001b[90m━━━━━━━━━━━━━━━━━━━━━━━━━━━━━━━━━━━━━━━━\u001b[0m \u001b[32m744.7/744.7 kB\u001b[0m \u001b[31m10.1 MB/s\u001b[0m eta \u001b[36m0:00:00\u001b[0m\n",
            "\u001b[?25hCollecting reactivex>=4.0.4 (from influxdb_client)\n",
            "  Downloading reactivex-4.0.4-py3-none-any.whl (217 kB)\n",
            "\u001b[2K     \u001b[90m━━━━━━━━━━━━━━━━━━━━━━━━━━━━━━━━━━━━━━━━\u001b[0m \u001b[32m217.8/217.8 kB\u001b[0m \u001b[31m14.9 MB/s\u001b[0m eta \u001b[36m0:00:00\u001b[0m\n",
            "\u001b[?25hRequirement already satisfied: certifi>=14.05.14 in /usr/local/lib/python3.10/dist-packages (from influxdb_client) (2024.2.2)\n",
            "Requirement already satisfied: python-dateutil>=2.5.3 in /usr/local/lib/python3.10/dist-packages (from influxdb_client) (2.8.2)\n",
            "Requirement already satisfied: setuptools>=21.0.0 in /usr/local/lib/python3.10/dist-packages (from influxdb_client) (67.7.2)\n",
            "Requirement already satisfied: urllib3>=1.26.0 in /usr/local/lib/python3.10/dist-packages (from influxdb_client) (2.0.7)\n",
            "Requirement already satisfied: six>=1.5 in /usr/local/lib/python3.10/dist-packages (from python-dateutil>=2.5.3->influxdb_client) (1.16.0)\n",
            "Requirement already satisfied: typing-extensions<5.0.0,>=4.1.1 in /usr/local/lib/python3.10/dist-packages (from reactivex>=4.0.4->influxdb_client) (4.11.0)\n",
            "Installing collected packages: reactivex, influxdb_client\n",
            "Successfully installed influxdb_client-1.43.0 reactivex-4.0.4\n"
          ]
        }
      ]
    },
    {
      "cell_type": "code",
      "source": [
        "!pip install import_ipynb"
      ],
      "metadata": {
        "colab": {
          "base_uri": "https://localhost:8080/"
        },
        "id": "eiiOvTlEm1vz",
        "outputId": "7a337f66-a68b-47ce-d739-03f6be49032f"
      },
      "execution_count": 5,
      "outputs": [
        {
          "output_type": "stream",
          "name": "stdout",
          "text": [
            "Collecting import_ipynb\n",
            "  Downloading import_ipynb-0.1.4-py3-none-any.whl (4.1 kB)\n",
            "Requirement already satisfied: IPython in /usr/local/lib/python3.10/dist-packages (from import_ipynb) (7.34.0)\n",
            "Requirement already satisfied: nbformat in /usr/local/lib/python3.10/dist-packages (from import_ipynb) (5.10.4)\n",
            "Requirement already satisfied: setuptools>=18.5 in /usr/local/lib/python3.10/dist-packages (from IPython->import_ipynb) (67.7.2)\n",
            "Collecting jedi>=0.16 (from IPython->import_ipynb)\n",
            "  Downloading jedi-0.19.1-py2.py3-none-any.whl (1.6 MB)\n",
            "\u001b[2K     \u001b[90m━━━━━━━━━━━━━━━━━━━━━━━━━━━━━━━━━━━━━━━━\u001b[0m \u001b[32m1.6/1.6 MB\u001b[0m \u001b[31m7.4 MB/s\u001b[0m eta \u001b[36m0:00:00\u001b[0m\n",
            "\u001b[?25hRequirement already satisfied: decorator in /usr/local/lib/python3.10/dist-packages (from IPython->import_ipynb) (4.4.2)\n",
            "Requirement already satisfied: pickleshare in /usr/local/lib/python3.10/dist-packages (from IPython->import_ipynb) (0.7.5)\n",
            "Requirement already satisfied: traitlets>=4.2 in /usr/local/lib/python3.10/dist-packages (from IPython->import_ipynb) (5.7.1)\n",
            "Requirement already satisfied: prompt-toolkit!=3.0.0,!=3.0.1,<3.1.0,>=2.0.0 in /usr/local/lib/python3.10/dist-packages (from IPython->import_ipynb) (3.0.43)\n",
            "Requirement already satisfied: pygments in /usr/local/lib/python3.10/dist-packages (from IPython->import_ipynb) (2.16.1)\n",
            "Requirement already satisfied: backcall in /usr/local/lib/python3.10/dist-packages (from IPython->import_ipynb) (0.2.0)\n",
            "Requirement already satisfied: matplotlib-inline in /usr/local/lib/python3.10/dist-packages (from IPython->import_ipynb) (0.1.7)\n",
            "Requirement already satisfied: pexpect>4.3 in /usr/local/lib/python3.10/dist-packages (from IPython->import_ipynb) (4.9.0)\n",
            "Requirement already satisfied: fastjsonschema>=2.15 in /usr/local/lib/python3.10/dist-packages (from nbformat->import_ipynb) (2.19.1)\n",
            "Requirement already satisfied: jsonschema>=2.6 in /usr/local/lib/python3.10/dist-packages (from nbformat->import_ipynb) (4.19.2)\n",
            "Requirement already satisfied: jupyter-core!=5.0.*,>=4.12 in /usr/local/lib/python3.10/dist-packages (from nbformat->import_ipynb) (5.7.2)\n",
            "Requirement already satisfied: parso<0.9.0,>=0.8.3 in /usr/local/lib/python3.10/dist-packages (from jedi>=0.16->IPython->import_ipynb) (0.8.4)\n",
            "Requirement already satisfied: attrs>=22.2.0 in /usr/local/lib/python3.10/dist-packages (from jsonschema>=2.6->nbformat->import_ipynb) (23.2.0)\n",
            "Requirement already satisfied: jsonschema-specifications>=2023.03.6 in /usr/local/lib/python3.10/dist-packages (from jsonschema>=2.6->nbformat->import_ipynb) (2023.12.1)\n",
            "Requirement already satisfied: referencing>=0.28.4 in /usr/local/lib/python3.10/dist-packages (from jsonschema>=2.6->nbformat->import_ipynb) (0.35.1)\n",
            "Requirement already satisfied: rpds-py>=0.7.1 in /usr/local/lib/python3.10/dist-packages (from jsonschema>=2.6->nbformat->import_ipynb) (0.18.1)\n",
            "Requirement already satisfied: platformdirs>=2.5 in /usr/local/lib/python3.10/dist-packages (from jupyter-core!=5.0.*,>=4.12->nbformat->import_ipynb) (4.2.1)\n",
            "Requirement already satisfied: ptyprocess>=0.5 in /usr/local/lib/python3.10/dist-packages (from pexpect>4.3->IPython->import_ipynb) (0.7.0)\n",
            "Requirement already satisfied: wcwidth in /usr/local/lib/python3.10/dist-packages (from prompt-toolkit!=3.0.0,!=3.0.1,<3.1.0,>=2.0.0->IPython->import_ipynb) (0.2.13)\n",
            "Installing collected packages: jedi, import_ipynb\n",
            "Successfully installed import_ipynb-0.1.4 jedi-0.19.1\n"
          ]
        }
      ]
    },
    {
      "cell_type": "code",
      "source": [
        "!pip install crewai"
      ],
      "metadata": {
        "colab": {
          "base_uri": "https://localhost:8080/"
        },
        "id": "DZo2S6-jmtdz",
        "outputId": "2f3c84b8-1855-4c67-d920-63d94c049b20"
      },
      "execution_count": 6,
      "outputs": [
        {
          "output_type": "stream",
          "name": "stdout",
          "text": [
            "Collecting crewai\n",
            "  Downloading crewai-0.30.11-py3-none-any.whl (66 kB)\n",
            "\u001b[?25l     \u001b[90m━━━━━━━━━━━━━━━━━━━━━━━━━━━━━━━━━━━━━━━━\u001b[0m \u001b[32m0.0/66.1 kB\u001b[0m \u001b[31m?\u001b[0m eta \u001b[36m-:--:--\u001b[0m\r\u001b[2K     \u001b[90m━━━━━━━━━━━━━━━━━━━━━━━━━━━━━━━━━━━━━━━━\u001b[0m \u001b[32m66.1/66.1 kB\u001b[0m \u001b[31m2.2 MB/s\u001b[0m eta \u001b[36m0:00:00\u001b[0m\n",
            "\u001b[?25hRequirement already satisfied: appdirs<2.0.0,>=1.4.4 in /usr/local/lib/python3.10/dist-packages (from crewai) (1.4.4)\n",
            "Requirement already satisfied: click<9.0.0,>=8.1.7 in /usr/local/lib/python3.10/dist-packages (from crewai) (8.1.7)\n",
            "Collecting embedchain<0.2.0,>=0.1.98 (from crewai)\n",
            "  Downloading embedchain-0.1.103-py3-none-any.whl (194 kB)\n",
            "\u001b[2K     \u001b[90m━━━━━━━━━━━━━━━━━━━━━━━━━━━━━━━━━━━━━━━━\u001b[0m \u001b[32m194.4/194.4 kB\u001b[0m \u001b[31m5.8 MB/s\u001b[0m eta \u001b[36m0:00:00\u001b[0m\n",
            "\u001b[?25hCollecting instructor<0.6.0,>=0.5.2 (from crewai)\n",
            "  Downloading instructor-0.5.2-py3-none-any.whl (33 kB)\n",
            "Collecting langchain<0.2.0,>=0.1.10 (from crewai)\n",
            "  Downloading langchain-0.1.20-py3-none-any.whl (1.0 MB)\n",
            "\u001b[2K     \u001b[90m━━━━━━━━━━━━━━━━━━━━━━━━━━━━━━━━━━━━━━━━\u001b[0m \u001b[32m1.0/1.0 MB\u001b[0m \u001b[31m7.5 MB/s\u001b[0m eta \u001b[36m0:00:00\u001b[0m\n",
            "\u001b[?25hRequirement already satisfied: openai<2.0.0,>=1.13.3 in /usr/local/lib/python3.10/dist-packages (from crewai) (1.30.1)\n",
            "Collecting opentelemetry-api<2.0.0,>=1.22.0 (from crewai)\n",
            "  Downloading opentelemetry_api-1.24.0-py3-none-any.whl (60 kB)\n",
            "\u001b[2K     \u001b[90m━━━━━━━━━━━━━━━━━━━━━━━━━━━━━━━━━━━━━━━━\u001b[0m \u001b[32m60.1/60.1 kB\u001b[0m \u001b[31m7.3 MB/s\u001b[0m eta \u001b[36m0:00:00\u001b[0m\n",
            "\u001b[?25hCollecting opentelemetry-exporter-otlp-proto-http<2.0.0,>=1.22.0 (from crewai)\n",
            "  Downloading opentelemetry_exporter_otlp_proto_http-1.24.0-py3-none-any.whl (16 kB)\n",
            "Collecting opentelemetry-sdk<2.0.0,>=1.22.0 (from crewai)\n",
            "  Downloading opentelemetry_sdk-1.24.0-py3-none-any.whl (106 kB)\n",
            "\u001b[2K     \u001b[90m━━━━━━━━━━━━━━━━━━━━━━━━━━━━━━━━━━━━━━━━\u001b[0m \u001b[32m106.1/106.1 kB\u001b[0m \u001b[31m10.2 MB/s\u001b[0m eta \u001b[36m0:00:00\u001b[0m\n",
            "\u001b[?25hRequirement already satisfied: pydantic<3.0.0,>=2.4.2 in /usr/local/lib/python3.10/dist-packages (from crewai) (2.7.1)\n",
            "Collecting python-dotenv<2.0.0,>=1.0.0 (from crewai)\n",
            "  Downloading python_dotenv-1.0.1-py3-none-any.whl (19 kB)\n",
            "Requirement already satisfied: regex<2024.0.0,>=2023.12.25 in /usr/local/lib/python3.10/dist-packages (from crewai) (2023.12.25)\n",
            "Collecting alembic<2.0.0,>=1.13.1 (from embedchain<0.2.0,>=0.1.98->crewai)\n",
            "  Downloading alembic-1.13.1-py3-none-any.whl (233 kB)\n",
            "\u001b[2K     \u001b[90m━━━━━━━━━━━━━━━━━━━━━━━━━━━━━━━━━━━━━━━━\u001b[0m \u001b[32m233.4/233.4 kB\u001b[0m \u001b[31m8.8 MB/s\u001b[0m eta \u001b[36m0:00:00\u001b[0m\n",
            "\u001b[?25hRequirement already satisfied: beautifulsoup4<5.0.0,>=4.12.2 in /usr/local/lib/python3.10/dist-packages (from embedchain<0.2.0,>=0.1.98->crewai) (4.12.3)\n",
            "Collecting chromadb<0.6.0,>=0.5.0 (from embedchain<0.2.0,>=0.1.98->crewai)\n",
            "  Downloading chromadb-0.5.0-py3-none-any.whl (526 kB)\n",
            "\u001b[2K     \u001b[90m━━━━━━━━━━━━━━━━━━━━━━━━━━━━━━━━━━━━━━━━\u001b[0m \u001b[32m526.8/526.8 kB\u001b[0m \u001b[31m10.7 MB/s\u001b[0m eta \u001b[36m0:00:00\u001b[0m\n",
            "\u001b[?25hRequirement already satisfied: google-cloud-aiplatform<2.0.0,>=1.26.1 in /usr/local/lib/python3.10/dist-packages (from embedchain<0.2.0,>=0.1.98->crewai) (1.51.0)\n",
            "Collecting gptcache<0.2.0,>=0.1.43 (from embedchain<0.2.0,>=0.1.98->crewai)\n",
            "  Downloading gptcache-0.1.43-py3-none-any.whl (131 kB)\n",
            "\u001b[2K     \u001b[90m━━━━━━━━━━━━━━━━━━━━━━━━━━━━━━━━━━━━━━━━\u001b[0m \u001b[32m131.5/131.5 kB\u001b[0m \u001b[31m16.3 MB/s\u001b[0m eta \u001b[36m0:00:00\u001b[0m\n",
            "\u001b[?25hCollecting langchain-openai<0.0.6,>=0.0.5 (from embedchain<0.2.0,>=0.1.98->crewai)\n",
            "  Downloading langchain_openai-0.0.5-py3-none-any.whl (29 kB)\n",
            "Collecting posthog<4.0.0,>=3.0.2 (from embedchain<0.2.0,>=0.1.98->crewai)\n",
            "  Downloading posthog-3.5.0-py2.py3-none-any.whl (41 kB)\n",
            "\u001b[2K     \u001b[90m━━━━━━━━━━━━━━━━━━━━━━━━━━━━━━━━━━━━━━━━\u001b[0m \u001b[32m41.3/41.3 kB\u001b[0m \u001b[31m5.1 MB/s\u001b[0m eta \u001b[36m0:00:00\u001b[0m\n",
            "\u001b[?25hCollecting pypdf<5.0.0,>=4.0.1 (from embedchain<0.2.0,>=0.1.98->crewai)\n",
            "  Downloading pypdf-4.2.0-py3-none-any.whl (290 kB)\n",
            "\u001b[2K     \u001b[90m━━━━━━━━━━━━━━━━━━━━━━━━━━━━━━━━━━━━━━━━\u001b[0m \u001b[32m290.4/290.4 kB\u001b[0m \u001b[31m11.5 MB/s\u001b[0m eta \u001b[36m0:00:00\u001b[0m\n",
            "\u001b[?25hCollecting pysbd<0.4.0,>=0.3.4 (from embedchain<0.2.0,>=0.1.98->crewai)\n",
            "  Downloading pysbd-0.3.4-py3-none-any.whl (71 kB)\n",
            "\u001b[2K     \u001b[90m━━━━━━━━━━━━━━━━━━━━━━━━━━━━━━━━━━━━━━━━\u001b[0m \u001b[32m71.1/71.1 kB\u001b[0m \u001b[31m8.5 MB/s\u001b[0m eta \u001b[36m0:00:00\u001b[0m\n",
            "\u001b[?25hRequirement already satisfied: rich<14.0.0,>=13.7.0 in /usr/local/lib/python3.10/dist-packages (from embedchain<0.2.0,>=0.1.98->crewai) (13.7.1)\n",
            "Collecting schema<0.8.0,>=0.7.5 (from embedchain<0.2.0,>=0.1.98->crewai)\n",
            "  Downloading schema-0.7.7-py2.py3-none-any.whl (18 kB)\n",
            "Requirement already satisfied: sqlalchemy<3.0.0,>=2.0.27 in /usr/local/lib/python3.10/dist-packages (from embedchain<0.2.0,>=0.1.98->crewai) (2.0.30)\n",
            "Collecting tiktoken<0.6.0,>=0.5.2 (from embedchain<0.2.0,>=0.1.98->crewai)\n",
            "  Downloading tiktoken-0.5.2-cp310-cp310-manylinux_2_17_x86_64.manylinux2014_x86_64.whl (2.0 MB)\n",
            "\u001b[2K     \u001b[90m━━━━━━━━━━━━━━━━━━━━━━━━━━━━━━━━━━━━━━━━\u001b[0m \u001b[32m2.0/2.0 MB\u001b[0m \u001b[31m13.4 MB/s\u001b[0m eta \u001b[36m0:00:00\u001b[0m\n",
            "\u001b[?25hRequirement already satisfied: aiohttp<4.0.0,>=3.9.1 in /usr/local/lib/python3.10/dist-packages (from instructor<0.6.0,>=0.5.2->crewai) (3.9.5)\n",
            "Collecting docstring-parser<0.16,>=0.15 (from instructor<0.6.0,>=0.5.2->crewai)\n",
            "  Downloading docstring_parser-0.15-py3-none-any.whl (36 kB)\n",
            "Requirement already satisfied: tenacity<9.0.0,>=8.2.3 in /usr/local/lib/python3.10/dist-packages (from instructor<0.6.0,>=0.5.2->crewai) (8.3.0)\n",
            "Requirement already satisfied: typer<0.10.0,>=0.9.0 in /usr/local/lib/python3.10/dist-packages (from instructor<0.6.0,>=0.5.2->crewai) (0.9.4)\n",
            "Requirement already satisfied: PyYAML>=5.3 in /usr/local/lib/python3.10/dist-packages (from langchain<0.2.0,>=0.1.10->crewai) (6.0.1)\n",
            "Requirement already satisfied: async-timeout<5.0.0,>=4.0.0 in /usr/local/lib/python3.10/dist-packages (from langchain<0.2.0,>=0.1.10->crewai) (4.0.3)\n",
            "Collecting dataclasses-json<0.7,>=0.5.7 (from langchain<0.2.0,>=0.1.10->crewai)\n",
            "  Downloading dataclasses_json-0.6.6-py3-none-any.whl (28 kB)\n",
            "Collecting langchain-community<0.1,>=0.0.38 (from langchain<0.2.0,>=0.1.10->crewai)\n",
            "  Downloading langchain_community-0.0.38-py3-none-any.whl (2.0 MB)\n",
            "\u001b[2K     \u001b[90m━━━━━━━━━━━━━━━━━━━━━━━━━━━━━━━━━━━━━━━━\u001b[0m \u001b[32m2.0/2.0 MB\u001b[0m \u001b[31m16.2 MB/s\u001b[0m eta \u001b[36m0:00:00\u001b[0m\n",
            "\u001b[?25hCollecting langchain-core<0.2.0,>=0.1.52 (from langchain<0.2.0,>=0.1.10->crewai)\n",
            "  Downloading langchain_core-0.1.52-py3-none-any.whl (302 kB)\n",
            "\u001b[2K     \u001b[90m━━━━━━━━━━━━━━━━━━━━━━━━━━━━━━━━━━━━━━━━\u001b[0m \u001b[32m302.9/302.9 kB\u001b[0m \u001b[31m17.4 MB/s\u001b[0m eta \u001b[36m0:00:00\u001b[0m\n",
            "\u001b[?25hCollecting langchain-text-splitters<0.1,>=0.0.1 (from langchain<0.2.0,>=0.1.10->crewai)\n",
            "  Downloading langchain_text_splitters-0.0.2-py3-none-any.whl (23 kB)\n",
            "Collecting langsmith<0.2.0,>=0.1.17 (from langchain<0.2.0,>=0.1.10->crewai)\n",
            "  Downloading langsmith-0.1.59-py3-none-any.whl (121 kB)\n",
            "\u001b[2K     \u001b[90m━━━━━━━━━━━━━━━━━━━━━━━━━━━━━━━━━━━━━━━━\u001b[0m \u001b[32m121.2/121.2 kB\u001b[0m \u001b[31m12.4 MB/s\u001b[0m eta \u001b[36m0:00:00\u001b[0m\n",
            "\u001b[?25hRequirement already satisfied: numpy<2,>=1 in /usr/local/lib/python3.10/dist-packages (from langchain<0.2.0,>=0.1.10->crewai) (1.25.2)\n",
            "Requirement already satisfied: requests<3,>=2 in /usr/local/lib/python3.10/dist-packages (from langchain<0.2.0,>=0.1.10->crewai) (2.31.0)\n",
            "Requirement already satisfied: anyio<5,>=3.5.0 in /usr/local/lib/python3.10/dist-packages (from openai<2.0.0,>=1.13.3->crewai) (3.7.1)\n",
            "Requirement already satisfied: distro<2,>=1.7.0 in /usr/lib/python3/dist-packages (from openai<2.0.0,>=1.13.3->crewai) (1.7.0)\n",
            "Requirement already satisfied: httpx<1,>=0.23.0 in /usr/local/lib/python3.10/dist-packages (from openai<2.0.0,>=1.13.3->crewai) (0.27.0)\n",
            "Requirement already satisfied: sniffio in /usr/local/lib/python3.10/dist-packages (from openai<2.0.0,>=1.13.3->crewai) (1.3.1)\n",
            "Requirement already satisfied: tqdm>4 in /usr/local/lib/python3.10/dist-packages (from openai<2.0.0,>=1.13.3->crewai) (4.66.4)\n",
            "Requirement already satisfied: typing-extensions<5,>=4.7 in /usr/local/lib/python3.10/dist-packages (from openai<2.0.0,>=1.13.3->crewai) (4.11.0)\n",
            "Collecting deprecated>=1.2.6 (from opentelemetry-api<2.0.0,>=1.22.0->crewai)\n",
            "  Downloading Deprecated-1.2.14-py2.py3-none-any.whl (9.6 kB)\n",
            "Collecting importlib-metadata<=7.0,>=6.0 (from opentelemetry-api<2.0.0,>=1.22.0->crewai)\n",
            "  Downloading importlib_metadata-7.0.0-py3-none-any.whl (23 kB)\n",
            "Requirement already satisfied: googleapis-common-protos~=1.52 in /usr/local/lib/python3.10/dist-packages (from opentelemetry-exporter-otlp-proto-http<2.0.0,>=1.22.0->crewai) (1.63.0)\n",
            "Collecting opentelemetry-exporter-otlp-proto-common==1.24.0 (from opentelemetry-exporter-otlp-proto-http<2.0.0,>=1.22.0->crewai)\n",
            "  Downloading opentelemetry_exporter_otlp_proto_common-1.24.0-py3-none-any.whl (17 kB)\n",
            "Collecting opentelemetry-proto==1.24.0 (from opentelemetry-exporter-otlp-proto-http<2.0.0,>=1.22.0->crewai)\n",
            "  Downloading opentelemetry_proto-1.24.0-py3-none-any.whl (50 kB)\n",
            "\u001b[2K     \u001b[90m━━━━━━━━━━━━━━━━━━━━━━━━━━━━━━━━━━━━━━━━\u001b[0m \u001b[32m50.8/50.8 kB\u001b[0m \u001b[31m4.6 MB/s\u001b[0m eta \u001b[36m0:00:00\u001b[0m\n",
            "\u001b[?25hRequirement already satisfied: protobuf<5.0,>=3.19 in /usr/local/lib/python3.10/dist-packages (from opentelemetry-proto==1.24.0->opentelemetry-exporter-otlp-proto-http<2.0.0,>=1.22.0->crewai) (3.20.3)\n",
            "Collecting opentelemetry-semantic-conventions==0.45b0 (from opentelemetry-sdk<2.0.0,>=1.22.0->crewai)\n",
            "  Downloading opentelemetry_semantic_conventions-0.45b0-py3-none-any.whl (36 kB)\n",
            "Requirement already satisfied: annotated-types>=0.4.0 in /usr/local/lib/python3.10/dist-packages (from pydantic<3.0.0,>=2.4.2->crewai) (0.6.0)\n",
            "Requirement already satisfied: pydantic-core==2.18.2 in /usr/local/lib/python3.10/dist-packages (from pydantic<3.0.0,>=2.4.2->crewai) (2.18.2)\n",
            "Requirement already satisfied: aiosignal>=1.1.2 in /usr/local/lib/python3.10/dist-packages (from aiohttp<4.0.0,>=3.9.1->instructor<0.6.0,>=0.5.2->crewai) (1.3.1)\n",
            "Requirement already satisfied: attrs>=17.3.0 in /usr/local/lib/python3.10/dist-packages (from aiohttp<4.0.0,>=3.9.1->instructor<0.6.0,>=0.5.2->crewai) (23.2.0)\n",
            "Requirement already satisfied: frozenlist>=1.1.1 in /usr/local/lib/python3.10/dist-packages (from aiohttp<4.0.0,>=3.9.1->instructor<0.6.0,>=0.5.2->crewai) (1.4.1)\n",
            "Requirement already satisfied: multidict<7.0,>=4.5 in /usr/local/lib/python3.10/dist-packages (from aiohttp<4.0.0,>=3.9.1->instructor<0.6.0,>=0.5.2->crewai) (6.0.5)\n",
            "Requirement already satisfied: yarl<2.0,>=1.0 in /usr/local/lib/python3.10/dist-packages (from aiohttp<4.0.0,>=3.9.1->instructor<0.6.0,>=0.5.2->crewai) (1.9.4)\n",
            "Collecting Mako (from alembic<2.0.0,>=1.13.1->embedchain<0.2.0,>=0.1.98->crewai)\n",
            "  Downloading Mako-1.3.5-py3-none-any.whl (78 kB)\n",
            "\u001b[2K     \u001b[90m━━━━━━━━━━━━━━━━━━━━━━━━━━━━━━━━━━━━━━━━\u001b[0m \u001b[32m78.6/78.6 kB\u001b[0m \u001b[31m9.3 MB/s\u001b[0m eta \u001b[36m0:00:00\u001b[0m\n",
            "\u001b[?25hRequirement already satisfied: idna>=2.8 in /usr/local/lib/python3.10/dist-packages (from anyio<5,>=3.5.0->openai<2.0.0,>=1.13.3->crewai) (3.7)\n",
            "Requirement already satisfied: exceptiongroup in /usr/local/lib/python3.10/dist-packages (from anyio<5,>=3.5.0->openai<2.0.0,>=1.13.3->crewai) (1.2.1)\n",
            "Requirement already satisfied: soupsieve>1.2 in /usr/local/lib/python3.10/dist-packages (from beautifulsoup4<5.0.0,>=4.12.2->embedchain<0.2.0,>=0.1.98->crewai) (2.5)\n",
            "Requirement already satisfied: build>=1.0.3 in /usr/local/lib/python3.10/dist-packages (from chromadb<0.6.0,>=0.5.0->embedchain<0.2.0,>=0.1.98->crewai) (1.2.1)\n",
            "Collecting chroma-hnswlib==0.7.3 (from chromadb<0.6.0,>=0.5.0->embedchain<0.2.0,>=0.1.98->crewai)\n",
            "  Downloading chroma_hnswlib-0.7.3-cp310-cp310-manylinux_2_17_x86_64.manylinux2014_x86_64.whl (2.4 MB)\n",
            "\u001b[2K     \u001b[90m━━━━━━━━━━━━━━━━━━━━━━━━━━━━━━━━━━━━━━━━\u001b[0m \u001b[32m2.4/2.4 MB\u001b[0m \u001b[31m20.8 MB/s\u001b[0m eta \u001b[36m0:00:00\u001b[0m\n",
            "\u001b[?25hCollecting fastapi>=0.95.2 (from chromadb<0.6.0,>=0.5.0->embedchain<0.2.0,>=0.1.98->crewai)\n",
            "  Downloading fastapi-0.111.0-py3-none-any.whl (91 kB)\n",
            "\u001b[2K     \u001b[90m━━━━━━━━━━━━━━━━━━━━━━━━━━━━━━━━━━━━━━━━\u001b[0m \u001b[32m92.0/92.0 kB\u001b[0m \u001b[31m7.6 MB/s\u001b[0m eta \u001b[36m0:00:00\u001b[0m\n",
            "\u001b[?25hCollecting uvicorn[standard]>=0.18.3 (from chromadb<0.6.0,>=0.5.0->embedchain<0.2.0,>=0.1.98->crewai)\n",
            "  Downloading uvicorn-0.29.0-py3-none-any.whl (60 kB)\n",
            "\u001b[2K     \u001b[90m━━━━━━━━━━━━━━━━━━━━━━━━━━━━━━━━━━━━━━━━\u001b[0m \u001b[32m60.8/60.8 kB\u001b[0m \u001b[31m7.8 MB/s\u001b[0m eta \u001b[36m0:00:00\u001b[0m\n",
            "\u001b[?25hCollecting onnxruntime>=1.14.1 (from chromadb<0.6.0,>=0.5.0->embedchain<0.2.0,>=0.1.98->crewai)\n",
            "  Downloading onnxruntime-1.18.0-cp310-cp310-manylinux_2_27_x86_64.manylinux_2_28_x86_64.whl (6.8 MB)\n",
            "\u001b[2K     \u001b[90m━━━━━━━━━━━━━━━━━━━━━━━━━━━━━━━━━━━━━━━━\u001b[0m \u001b[32m6.8/6.8 MB\u001b[0m \u001b[31m33.1 MB/s\u001b[0m eta \u001b[36m0:00:00\u001b[0m\n",
            "\u001b[?25hCollecting opentelemetry-exporter-otlp-proto-grpc>=1.2.0 (from chromadb<0.6.0,>=0.5.0->embedchain<0.2.0,>=0.1.98->crewai)\n",
            "  Downloading opentelemetry_exporter_otlp_proto_grpc-1.24.0-py3-none-any.whl (18 kB)\n",
            "Collecting opentelemetry-instrumentation-fastapi>=0.41b0 (from chromadb<0.6.0,>=0.5.0->embedchain<0.2.0,>=0.1.98->crewai)\n",
            "  Downloading opentelemetry_instrumentation_fastapi-0.45b0-py3-none-any.whl (11 kB)\n",
            "Requirement already satisfied: tokenizers>=0.13.2 in /usr/local/lib/python3.10/dist-packages (from chromadb<0.6.0,>=0.5.0->embedchain<0.2.0,>=0.1.98->crewai) (0.19.1)\n",
            "Collecting pypika>=0.48.9 (from chromadb<0.6.0,>=0.5.0->embedchain<0.2.0,>=0.1.98->crewai)\n",
            "  Downloading PyPika-0.48.9.tar.gz (67 kB)\n",
            "\u001b[2K     \u001b[90m━━━━━━━━━━━━━━━━━━━━━━━━━━━━━━━━━━━━━━━━\u001b[0m \u001b[32m67.3/67.3 kB\u001b[0m \u001b[31m3.8 MB/s\u001b[0m eta \u001b[36m0:00:00\u001b[0m\n",
            "\u001b[?25h  Installing build dependencies ... \u001b[?25l\u001b[?25hdone\n",
            "  Getting requirements to build wheel ... \u001b[?25l\u001b[?25hdone\n",
            "  Preparing metadata (pyproject.toml) ... \u001b[?25l\u001b[?25hdone\n",
            "Collecting overrides>=7.3.1 (from chromadb<0.6.0,>=0.5.0->embedchain<0.2.0,>=0.1.98->crewai)\n",
            "  Downloading overrides-7.7.0-py3-none-any.whl (17 kB)\n",
            "Requirement already satisfied: importlib-resources in /usr/local/lib/python3.10/dist-packages (from chromadb<0.6.0,>=0.5.0->embedchain<0.2.0,>=0.1.98->crewai) (6.4.0)\n",
            "Requirement already satisfied: grpcio>=1.58.0 in /usr/local/lib/python3.10/dist-packages (from chromadb<0.6.0,>=0.5.0->embedchain<0.2.0,>=0.1.98->crewai) (1.63.0)\n",
            "Collecting bcrypt>=4.0.1 (from chromadb<0.6.0,>=0.5.0->embedchain<0.2.0,>=0.1.98->crewai)\n",
            "  Downloading bcrypt-4.1.3-cp39-abi3-manylinux_2_28_x86_64.whl (283 kB)\n",
            "\u001b[2K     \u001b[90m━━━━━━━━━━━━━━━━━━━━━━━━━━━━━━━━━━━━━━━━\u001b[0m \u001b[32m283.7/283.7 kB\u001b[0m \u001b[31m25.1 MB/s\u001b[0m eta \u001b[36m0:00:00\u001b[0m\n",
            "\u001b[?25hCollecting kubernetes>=28.1.0 (from chromadb<0.6.0,>=0.5.0->embedchain<0.2.0,>=0.1.98->crewai)\n",
            "  Downloading kubernetes-29.0.0-py2.py3-none-any.whl (1.6 MB)\n",
            "\u001b[2K     \u001b[90m━━━━━━━━━━━━━━━━━━━━━━━━━━━━━━━━━━━━━━━━\u001b[0m \u001b[32m1.6/1.6 MB\u001b[0m \u001b[31m50.8 MB/s\u001b[0m eta \u001b[36m0:00:00\u001b[0m\n",
            "\u001b[?25hCollecting mmh3>=4.0.1 (from chromadb<0.6.0,>=0.5.0->embedchain<0.2.0,>=0.1.98->crewai)\n",
            "  Downloading mmh3-4.1.0-cp310-cp310-manylinux_2_5_x86_64.manylinux1_x86_64.manylinux_2_17_x86_64.manylinux2014_x86_64.whl (67 kB)\n",
            "\u001b[2K     \u001b[90m━━━━━━━━━━━━━━━━━━━━━━━━━━━━━━━━━━━━━━━━\u001b[0m \u001b[32m67.6/67.6 kB\u001b[0m \u001b[31m8.8 MB/s\u001b[0m eta \u001b[36m0:00:00\u001b[0m\n",
            "\u001b[?25hCollecting orjson>=3.9.12 (from chromadb<0.6.0,>=0.5.0->embedchain<0.2.0,>=0.1.98->crewai)\n",
            "  Downloading orjson-3.10.3-cp310-cp310-manylinux_2_17_x86_64.manylinux2014_x86_64.whl (142 kB)\n",
            "\u001b[2K     \u001b[90m━━━━━━━━━━━━━━━━━━━━━━━━━━━━━━━━━━━━━━━━\u001b[0m \u001b[32m142.5/142.5 kB\u001b[0m \u001b[31m17.6 MB/s\u001b[0m eta \u001b[36m0:00:00\u001b[0m\n",
            "\u001b[?25hCollecting marshmallow<4.0.0,>=3.18.0 (from dataclasses-json<0.7,>=0.5.7->langchain<0.2.0,>=0.1.10->crewai)\n",
            "  Downloading marshmallow-3.21.2-py3-none-any.whl (49 kB)\n",
            "\u001b[2K     \u001b[90m━━━━━━━━━━━━━━━━━━━━━━━━━━━━━━━━━━━━━━━━\u001b[0m \u001b[32m49.3/49.3 kB\u001b[0m \u001b[31m5.8 MB/s\u001b[0m eta \u001b[36m0:00:00\u001b[0m\n",
            "\u001b[?25hCollecting typing-inspect<1,>=0.4.0 (from dataclasses-json<0.7,>=0.5.7->langchain<0.2.0,>=0.1.10->crewai)\n",
            "  Downloading typing_inspect-0.9.0-py3-none-any.whl (8.8 kB)\n",
            "Requirement already satisfied: wrapt<2,>=1.10 in /usr/local/lib/python3.10/dist-packages (from deprecated>=1.2.6->opentelemetry-api<2.0.0,>=1.22.0->crewai) (1.14.1)\n",
            "Requirement already satisfied: google-api-core[grpc]!=2.0.*,!=2.1.*,!=2.2.*,!=2.3.*,!=2.4.*,!=2.5.*,!=2.6.*,!=2.7.*,<3.0.0dev,>=1.34.1 in /usr/local/lib/python3.10/dist-packages (from google-cloud-aiplatform<2.0.0,>=1.26.1->embedchain<0.2.0,>=0.1.98->crewai) (2.11.1)\n",
            "Requirement already satisfied: google-auth<3.0.0dev,>=2.14.1 in /usr/local/lib/python3.10/dist-packages (from google-cloud-aiplatform<2.0.0,>=1.26.1->embedchain<0.2.0,>=0.1.98->crewai) (2.27.0)\n",
            "Requirement already satisfied: proto-plus<2.0.0dev,>=1.22.0 in /usr/local/lib/python3.10/dist-packages (from google-cloud-aiplatform<2.0.0,>=1.26.1->embedchain<0.2.0,>=0.1.98->crewai) (1.23.0)\n",
            "Requirement already satisfied: packaging>=14.3 in /usr/local/lib/python3.10/dist-packages (from google-cloud-aiplatform<2.0.0,>=1.26.1->embedchain<0.2.0,>=0.1.98->crewai) (24.0)\n",
            "Requirement already satisfied: google-cloud-storage<3.0.0dev,>=1.32.0 in /usr/local/lib/python3.10/dist-packages (from google-cloud-aiplatform<2.0.0,>=1.26.1->embedchain<0.2.0,>=0.1.98->crewai) (2.8.0)\n",
            "Requirement already satisfied: google-cloud-bigquery!=3.20.0,<4.0.0dev,>=1.15.0 in /usr/local/lib/python3.10/dist-packages (from google-cloud-aiplatform<2.0.0,>=1.26.1->embedchain<0.2.0,>=0.1.98->crewai) (3.21.0)\n",
            "Requirement already satisfied: google-cloud-resource-manager<3.0.0dev,>=1.3.3 in /usr/local/lib/python3.10/dist-packages (from google-cloud-aiplatform<2.0.0,>=1.26.1->embedchain<0.2.0,>=0.1.98->crewai) (1.12.3)\n",
            "Requirement already satisfied: shapely<3.0.0dev in /usr/local/lib/python3.10/dist-packages (from google-cloud-aiplatform<2.0.0,>=1.26.1->embedchain<0.2.0,>=0.1.98->crewai) (2.0.4)\n",
            "Requirement already satisfied: cachetools in /usr/local/lib/python3.10/dist-packages (from gptcache<0.2.0,>=0.1.43->embedchain<0.2.0,>=0.1.98->crewai) (5.3.3)\n",
            "Requirement already satisfied: certifi in /usr/local/lib/python3.10/dist-packages (from httpx<1,>=0.23.0->openai<2.0.0,>=1.13.3->crewai) (2024.2.2)\n",
            "Requirement already satisfied: httpcore==1.* in /usr/local/lib/python3.10/dist-packages (from httpx<1,>=0.23.0->openai<2.0.0,>=1.13.3->crewai) (1.0.5)\n",
            "Requirement already satisfied: h11<0.15,>=0.13 in /usr/local/lib/python3.10/dist-packages (from httpcore==1.*->httpx<1,>=0.23.0->openai<2.0.0,>=1.13.3->crewai) (0.14.0)\n",
            "Requirement already satisfied: zipp>=0.5 in /usr/local/lib/python3.10/dist-packages (from importlib-metadata<=7.0,>=6.0->opentelemetry-api<2.0.0,>=1.22.0->crewai) (3.18.1)\n",
            "Collecting jsonpatch<2.0,>=1.33 (from langchain-core<0.2.0,>=0.1.52->langchain<0.2.0,>=0.1.10->crewai)\n",
            "  Downloading jsonpatch-1.33-py2.py3-none-any.whl (12 kB)\n",
            "Collecting packaging>=14.3 (from google-cloud-aiplatform<2.0.0,>=1.26.1->embedchain<0.2.0,>=0.1.98->crewai)\n",
            "  Downloading packaging-23.2-py3-none-any.whl (53 kB)\n",
            "\u001b[2K     \u001b[90m━━━━━━━━━━━━━━━━━━━━━━━━━━━━━━━━━━━━━━━━\u001b[0m \u001b[32m53.0/53.0 kB\u001b[0m \u001b[31m6.6 MB/s\u001b[0m eta \u001b[36m0:00:00\u001b[0m\n",
            "\u001b[?25hRequirement already satisfied: six>=1.5 in /usr/local/lib/python3.10/dist-packages (from posthog<4.0.0,>=3.0.2->embedchain<0.2.0,>=0.1.98->crewai) (1.16.0)\n",
            "Collecting monotonic>=1.5 (from posthog<4.0.0,>=3.0.2->embedchain<0.2.0,>=0.1.98->crewai)\n",
            "  Downloading monotonic-1.6-py2.py3-none-any.whl (8.2 kB)\n",
            "Collecting backoff>=1.10.0 (from posthog<4.0.0,>=3.0.2->embedchain<0.2.0,>=0.1.98->crewai)\n",
            "  Downloading backoff-2.2.1-py3-none-any.whl (15 kB)\n",
            "Requirement already satisfied: python-dateutil>2.1 in /usr/local/lib/python3.10/dist-packages (from posthog<4.0.0,>=3.0.2->embedchain<0.2.0,>=0.1.98->crewai) (2.8.2)\n",
            "Requirement already satisfied: charset-normalizer<4,>=2 in /usr/local/lib/python3.10/dist-packages (from requests<3,>=2->langchain<0.2.0,>=0.1.10->crewai) (3.3.2)\n",
            "Requirement already satisfied: urllib3<3,>=1.21.1 in /usr/local/lib/python3.10/dist-packages (from requests<3,>=2->langchain<0.2.0,>=0.1.10->crewai) (2.0.7)\n",
            "Requirement already satisfied: markdown-it-py>=2.2.0 in /usr/local/lib/python3.10/dist-packages (from rich<14.0.0,>=13.7.0->embedchain<0.2.0,>=0.1.98->crewai) (3.0.0)\n",
            "Requirement already satisfied: pygments<3.0.0,>=2.13.0 in /usr/local/lib/python3.10/dist-packages (from rich<14.0.0,>=13.7.0->embedchain<0.2.0,>=0.1.98->crewai) (2.16.1)\n",
            "Requirement already satisfied: greenlet!=0.4.17 in /usr/local/lib/python3.10/dist-packages (from sqlalchemy<3.0.0,>=2.0.27->embedchain<0.2.0,>=0.1.98->crewai) (3.0.3)\n",
            "Requirement already satisfied: pyproject_hooks in /usr/local/lib/python3.10/dist-packages (from build>=1.0.3->chromadb<0.6.0,>=0.5.0->embedchain<0.2.0,>=0.1.98->crewai) (1.1.0)\n",
            "Requirement already satisfied: tomli>=1.1.0 in /usr/local/lib/python3.10/dist-packages (from build>=1.0.3->chromadb<0.6.0,>=0.5.0->embedchain<0.2.0,>=0.1.98->crewai) (2.0.1)\n",
            "Collecting starlette<0.38.0,>=0.37.2 (from fastapi>=0.95.2->chromadb<0.6.0,>=0.5.0->embedchain<0.2.0,>=0.1.98->crewai)\n",
            "  Downloading starlette-0.37.2-py3-none-any.whl (71 kB)\n",
            "\u001b[2K     \u001b[90m━━━━━━━━━━━━━━━━━━━━━━━━━━━━━━━━━━━━━━━━\u001b[0m \u001b[32m71.9/71.9 kB\u001b[0m \u001b[31m9.2 MB/s\u001b[0m eta \u001b[36m0:00:00\u001b[0m\n",
            "\u001b[?25hCollecting fastapi-cli>=0.0.2 (from fastapi>=0.95.2->chromadb<0.6.0,>=0.5.0->embedchain<0.2.0,>=0.1.98->crewai)\n",
            "  Downloading fastapi_cli-0.0.3-py3-none-any.whl (9.2 kB)\n",
            "Requirement already satisfied: jinja2>=2.11.2 in /usr/local/lib/python3.10/dist-packages (from fastapi>=0.95.2->chromadb<0.6.0,>=0.5.0->embedchain<0.2.0,>=0.1.98->crewai) (3.1.4)\n",
            "Collecting python-multipart>=0.0.7 (from fastapi>=0.95.2->chromadb<0.6.0,>=0.5.0->embedchain<0.2.0,>=0.1.98->crewai)\n",
            "  Downloading python_multipart-0.0.9-py3-none-any.whl (22 kB)\n",
            "Collecting ujson!=4.0.2,!=4.1.0,!=4.2.0,!=4.3.0,!=5.0.0,!=5.1.0,>=4.0.1 (from fastapi>=0.95.2->chromadb<0.6.0,>=0.5.0->embedchain<0.2.0,>=0.1.98->crewai)\n",
            "  Downloading ujson-5.10.0-cp310-cp310-manylinux_2_17_x86_64.manylinux2014_x86_64.whl (53 kB)\n",
            "\u001b[2K     \u001b[90m━━━━━━━━━━━━━━━━━━━━━━━━━━━━━━━━━━━━━━━━\u001b[0m \u001b[32m53.6/53.6 kB\u001b[0m \u001b[31m5.8 MB/s\u001b[0m eta \u001b[36m0:00:00\u001b[0m\n",
            "\u001b[?25hCollecting email_validator>=2.0.0 (from fastapi>=0.95.2->chromadb<0.6.0,>=0.5.0->embedchain<0.2.0,>=0.1.98->crewai)\n",
            "  Downloading email_validator-2.1.1-py3-none-any.whl (30 kB)\n",
            "Requirement already satisfied: grpcio-status<2.0.dev0,>=1.33.2 in /usr/local/lib/python3.10/dist-packages (from google-api-core[grpc]!=2.0.*,!=2.1.*,!=2.2.*,!=2.3.*,!=2.4.*,!=2.5.*,!=2.6.*,!=2.7.*,<3.0.0dev,>=1.34.1->google-cloud-aiplatform<2.0.0,>=1.26.1->embedchain<0.2.0,>=0.1.98->crewai) (1.48.2)\n",
            "Requirement already satisfied: pyasn1-modules>=0.2.1 in /usr/local/lib/python3.10/dist-packages (from google-auth<3.0.0dev,>=2.14.1->google-cloud-aiplatform<2.0.0,>=1.26.1->embedchain<0.2.0,>=0.1.98->crewai) (0.4.0)\n",
            "Requirement already satisfied: rsa<5,>=3.1.4 in /usr/local/lib/python3.10/dist-packages (from google-auth<3.0.0dev,>=2.14.1->google-cloud-aiplatform<2.0.0,>=1.26.1->embedchain<0.2.0,>=0.1.98->crewai) (4.9)\n",
            "Requirement already satisfied: google-cloud-core<3.0.0dev,>=1.6.0 in /usr/local/lib/python3.10/dist-packages (from google-cloud-bigquery!=3.20.0,<4.0.0dev,>=1.15.0->google-cloud-aiplatform<2.0.0,>=1.26.1->embedchain<0.2.0,>=0.1.98->crewai) (2.3.3)\n",
            "Requirement already satisfied: google-resumable-media<3.0dev,>=0.6.0 in /usr/local/lib/python3.10/dist-packages (from google-cloud-bigquery!=3.20.0,<4.0.0dev,>=1.15.0->google-cloud-aiplatform<2.0.0,>=1.26.1->embedchain<0.2.0,>=0.1.98->crewai) (2.7.0)\n",
            "Requirement already satisfied: grpc-google-iam-v1<1.0.0dev,>=0.12.4 in /usr/local/lib/python3.10/dist-packages (from google-cloud-resource-manager<3.0.0dev,>=1.3.3->google-cloud-aiplatform<2.0.0,>=1.26.1->embedchain<0.2.0,>=0.1.98->crewai) (0.13.0)\n",
            "Collecting jsonpointer>=1.9 (from jsonpatch<2.0,>=1.33->langchain-core<0.2.0,>=0.1.52->langchain<0.2.0,>=0.1.10->crewai)\n",
            "  Downloading jsonpointer-2.4-py2.py3-none-any.whl (7.8 kB)\n",
            "Requirement already satisfied: websocket-client!=0.40.0,!=0.41.*,!=0.42.*,>=0.32.0 in /usr/local/lib/python3.10/dist-packages (from kubernetes>=28.1.0->chromadb<0.6.0,>=0.5.0->embedchain<0.2.0,>=0.1.98->crewai) (1.8.0)\n",
            "Requirement already satisfied: requests-oauthlib in /usr/local/lib/python3.10/dist-packages (from kubernetes>=28.1.0->chromadb<0.6.0,>=0.5.0->embedchain<0.2.0,>=0.1.98->crewai) (1.3.1)\n",
            "Requirement already satisfied: oauthlib>=3.2.2 in /usr/local/lib/python3.10/dist-packages (from kubernetes>=28.1.0->chromadb<0.6.0,>=0.5.0->embedchain<0.2.0,>=0.1.98->crewai) (3.2.2)\n",
            "Requirement already satisfied: mdurl~=0.1 in /usr/local/lib/python3.10/dist-packages (from markdown-it-py>=2.2.0->rich<14.0.0,>=13.7.0->embedchain<0.2.0,>=0.1.98->crewai) (0.1.2)\n",
            "Collecting coloredlogs (from onnxruntime>=1.14.1->chromadb<0.6.0,>=0.5.0->embedchain<0.2.0,>=0.1.98->crewai)\n",
            "  Downloading coloredlogs-15.0.1-py2.py3-none-any.whl (46 kB)\n",
            "\u001b[2K     \u001b[90m━━━━━━━━━━━━━━━━━━━━━━━━━━━━━━━━━━━━━━━━\u001b[0m \u001b[32m46.0/46.0 kB\u001b[0m \u001b[31m5.9 MB/s\u001b[0m eta \u001b[36m0:00:00\u001b[0m\n",
            "\u001b[?25hRequirement already satisfied: flatbuffers in /usr/local/lib/python3.10/dist-packages (from onnxruntime>=1.14.1->chromadb<0.6.0,>=0.5.0->embedchain<0.2.0,>=0.1.98->crewai) (24.3.25)\n",
            "Requirement already satisfied: sympy in /usr/local/lib/python3.10/dist-packages (from onnxruntime>=1.14.1->chromadb<0.6.0,>=0.5.0->embedchain<0.2.0,>=0.1.98->crewai) (1.12)\n",
            "Collecting opentelemetry-instrumentation-asgi==0.45b0 (from opentelemetry-instrumentation-fastapi>=0.41b0->chromadb<0.6.0,>=0.5.0->embedchain<0.2.0,>=0.1.98->crewai)\n",
            "  Downloading opentelemetry_instrumentation_asgi-0.45b0-py3-none-any.whl (14 kB)\n",
            "Collecting opentelemetry-instrumentation==0.45b0 (from opentelemetry-instrumentation-fastapi>=0.41b0->chromadb<0.6.0,>=0.5.0->embedchain<0.2.0,>=0.1.98->crewai)\n",
            "  Downloading opentelemetry_instrumentation-0.45b0-py3-none-any.whl (28 kB)\n",
            "Collecting opentelemetry-util-http==0.45b0 (from opentelemetry-instrumentation-fastapi>=0.41b0->chromadb<0.6.0,>=0.5.0->embedchain<0.2.0,>=0.1.98->crewai)\n",
            "  Downloading opentelemetry_util_http-0.45b0-py3-none-any.whl (6.9 kB)\n",
            "Requirement already satisfied: setuptools>=16.0 in /usr/local/lib/python3.10/dist-packages (from opentelemetry-instrumentation==0.45b0->opentelemetry-instrumentation-fastapi>=0.41b0->chromadb<0.6.0,>=0.5.0->embedchain<0.2.0,>=0.1.98->crewai) (67.7.2)\n",
            "Collecting asgiref~=3.0 (from opentelemetry-instrumentation-asgi==0.45b0->opentelemetry-instrumentation-fastapi>=0.41b0->chromadb<0.6.0,>=0.5.0->embedchain<0.2.0,>=0.1.98->crewai)\n",
            "  Downloading asgiref-3.8.1-py3-none-any.whl (23 kB)\n",
            "Requirement already satisfied: huggingface-hub<1.0,>=0.16.4 in /usr/local/lib/python3.10/dist-packages (from tokenizers>=0.13.2->chromadb<0.6.0,>=0.5.0->embedchain<0.2.0,>=0.1.98->crewai) (0.20.3)\n",
            "Collecting mypy-extensions>=0.3.0 (from typing-inspect<1,>=0.4.0->dataclasses-json<0.7,>=0.5.7->langchain<0.2.0,>=0.1.10->crewai)\n",
            "  Downloading mypy_extensions-1.0.0-py3-none-any.whl (4.7 kB)\n",
            "Collecting httptools>=0.5.0 (from uvicorn[standard]>=0.18.3->chromadb<0.6.0,>=0.5.0->embedchain<0.2.0,>=0.1.98->crewai)\n",
            "  Downloading httptools-0.6.1-cp310-cp310-manylinux_2_5_x86_64.manylinux1_x86_64.manylinux_2_17_x86_64.manylinux2014_x86_64.whl (341 kB)\n",
            "\u001b[2K     \u001b[90m━━━━━━━━━━━━━━━━━━━━━━━━━━━━━━━━━━━━━━━━\u001b[0m \u001b[32m341.4/341.4 kB\u001b[0m \u001b[31m31.1 MB/s\u001b[0m eta \u001b[36m0:00:00\u001b[0m\n",
            "\u001b[?25hCollecting uvloop!=0.15.0,!=0.15.1,>=0.14.0 (from uvicorn[standard]>=0.18.3->chromadb<0.6.0,>=0.5.0->embedchain<0.2.0,>=0.1.98->crewai)\n",
            "  Downloading uvloop-0.19.0-cp310-cp310-manylinux_2_17_x86_64.manylinux2014_x86_64.whl (3.4 MB)\n",
            "\u001b[2K     \u001b[90m━━━━━━━━━━━━━━━━━━━━━━━━━━━━━━━━━━━━━━━━\u001b[0m \u001b[32m3.4/3.4 MB\u001b[0m \u001b[31m53.7 MB/s\u001b[0m eta \u001b[36m0:00:00\u001b[0m\n",
            "\u001b[?25hCollecting watchfiles>=0.13 (from uvicorn[standard]>=0.18.3->chromadb<0.6.0,>=0.5.0->embedchain<0.2.0,>=0.1.98->crewai)\n",
            "  Downloading watchfiles-0.21.0-cp310-cp310-manylinux_2_17_x86_64.manylinux2014_x86_64.whl (1.3 MB)\n",
            "\u001b[2K     \u001b[90m━━━━━━━━━━━━━━━━━━━━━━━━━━━━━━━━━━━━━━━━\u001b[0m \u001b[32m1.3/1.3 MB\u001b[0m \u001b[31m52.3 MB/s\u001b[0m eta \u001b[36m0:00:00\u001b[0m\n",
            "\u001b[?25hCollecting websockets>=10.4 (from uvicorn[standard]>=0.18.3->chromadb<0.6.0,>=0.5.0->embedchain<0.2.0,>=0.1.98->crewai)\n",
            "  Downloading websockets-12.0-cp310-cp310-manylinux_2_5_x86_64.manylinux1_x86_64.manylinux_2_17_x86_64.manylinux2014_x86_64.whl (130 kB)\n",
            "\u001b[2K     \u001b[90m━━━━━━━━━━━━━━━━━━━━━━━━━━━━━━━━━━━━━━━━\u001b[0m \u001b[32m130.2/130.2 kB\u001b[0m \u001b[31m15.0 MB/s\u001b[0m eta \u001b[36m0:00:00\u001b[0m\n",
            "\u001b[?25hRequirement already satisfied: MarkupSafe>=0.9.2 in /usr/local/lib/python3.10/dist-packages (from Mako->alembic<2.0.0,>=1.13.1->embedchain<0.2.0,>=0.1.98->crewai) (2.1.5)\n",
            "Collecting dnspython>=2.0.0 (from email_validator>=2.0.0->fastapi>=0.95.2->chromadb<0.6.0,>=0.5.0->embedchain<0.2.0,>=0.1.98->crewai)\n",
            "  Downloading dnspython-2.6.1-py3-none-any.whl (307 kB)\n",
            "\u001b[2K     \u001b[90m━━━━━━━━━━━━━━━━━━━━━━━━━━━━━━━━━━━━━━━━\u001b[0m \u001b[32m307.7/307.7 kB\u001b[0m \u001b[31m27.9 MB/s\u001b[0m eta \u001b[36m0:00:00\u001b[0m\n",
            "\u001b[?25hINFO: pip is looking at multiple versions of fastapi-cli to determine which version is compatible with other requirements. This could take a while.\n",
            "Collecting fastapi-cli>=0.0.2 (from fastapi>=0.95.2->chromadb<0.6.0,>=0.5.0->embedchain<0.2.0,>=0.1.98->crewai)\n",
            "  Downloading fastapi_cli-0.0.2-py3-none-any.whl (9.1 kB)\n",
            "Collecting fastapi>=0.95.2 (from chromadb<0.6.0,>=0.5.0->embedchain<0.2.0,>=0.1.98->crewai)\n",
            "  Downloading fastapi-0.110.3-py3-none-any.whl (91 kB)\n",
            "\u001b[2K     \u001b[90m━━━━━━━━━━━━━━━━━━━━━━━━━━━━━━━━━━━━━━━━\u001b[0m \u001b[32m91.8/91.8 kB\u001b[0m \u001b[31m12.2 MB/s\u001b[0m eta \u001b[36m0:00:00\u001b[0m\n",
            "\u001b[?25hRequirement already satisfied: google-crc32c<2.0dev,>=1.0 in /usr/local/lib/python3.10/dist-packages (from google-resumable-media<3.0dev,>=0.6.0->google-cloud-bigquery!=3.20.0,<4.0.0dev,>=1.15.0->google-cloud-aiplatform<2.0.0,>=1.26.1->embedchain<0.2.0,>=0.1.98->crewai) (1.5.0)\n",
            "Requirement already satisfied: filelock in /usr/local/lib/python3.10/dist-packages (from huggingface-hub<1.0,>=0.16.4->tokenizers>=0.13.2->chromadb<0.6.0,>=0.5.0->embedchain<0.2.0,>=0.1.98->crewai) (3.14.0)\n",
            "Requirement already satisfied: fsspec>=2023.5.0 in /usr/local/lib/python3.10/dist-packages (from huggingface-hub<1.0,>=0.16.4->tokenizers>=0.13.2->chromadb<0.6.0,>=0.5.0->embedchain<0.2.0,>=0.1.98->crewai) (2023.6.0)\n",
            "Requirement already satisfied: pyasn1<0.7.0,>=0.4.6 in /usr/local/lib/python3.10/dist-packages (from pyasn1-modules>=0.2.1->google-auth<3.0.0dev,>=2.14.1->google-cloud-aiplatform<2.0.0,>=1.26.1->embedchain<0.2.0,>=0.1.98->crewai) (0.6.0)\n",
            "Collecting humanfriendly>=9.1 (from coloredlogs->onnxruntime>=1.14.1->chromadb<0.6.0,>=0.5.0->embedchain<0.2.0,>=0.1.98->crewai)\n",
            "  Downloading humanfriendly-10.0-py2.py3-none-any.whl (86 kB)\n",
            "\u001b[2K     \u001b[90m━━━━━━━━━━━━━━━━━━━━━━━━━━━━━━━━━━━━━━━━\u001b[0m \u001b[32m86.8/86.8 kB\u001b[0m \u001b[31m11.2 MB/s\u001b[0m eta \u001b[36m0:00:00\u001b[0m\n",
            "\u001b[?25hRequirement already satisfied: mpmath>=0.19 in /usr/local/lib/python3.10/dist-packages (from sympy->onnxruntime>=1.14.1->chromadb<0.6.0,>=0.5.0->embedchain<0.2.0,>=0.1.98->crewai) (1.3.0)\n",
            "Building wheels for collected packages: pypika\n",
            "  Building wheel for pypika (pyproject.toml) ... \u001b[?25l\u001b[?25hdone\n",
            "  Created wheel for pypika: filename=PyPika-0.48.9-py2.py3-none-any.whl size=53724 sha256=eb8b47dace6d229be5abc3492e86835f3f1885c612dc3edc77ea26a50482bfb5\n",
            "  Stored in directory: /root/.cache/pip/wheels/e1/26/51/d0bffb3d2fd82256676d7ad3003faea3bd6dddc9577af665f4\n",
            "Successfully built pypika\n",
            "Installing collected packages: schema, pypika, monotonic, mmh3, websockets, uvloop, uvicorn, python-dotenv, pysbd, pypdf, packaging, overrides, orjson, opentelemetry-util-http, opentelemetry-semantic-conventions, opentelemetry-proto, mypy-extensions, Mako, jsonpointer, importlib-metadata, humanfriendly, httptools, docstring-parser, deprecated, chroma-hnswlib, bcrypt, backoff, asgiref, watchfiles, typing-inspect, tiktoken, starlette, posthog, opentelemetry-exporter-otlp-proto-common, opentelemetry-api, marshmallow, jsonpatch, gptcache, coloredlogs, alembic, opentelemetry-sdk, opentelemetry-instrumentation, onnxruntime, langsmith, kubernetes, fastapi, dataclasses-json, opentelemetry-instrumentation-asgi, opentelemetry-exporter-otlp-proto-http, opentelemetry-exporter-otlp-proto-grpc, langchain-core, instructor, opentelemetry-instrumentation-fastapi, langchain-text-splitters, langchain-openai, langchain-community, langchain, chromadb, embedchain, crewai\n",
            "  Attempting uninstall: packaging\n",
            "    Found existing installation: packaging 24.0\n",
            "    Uninstalling packaging-24.0:\n",
            "      Successfully uninstalled packaging-24.0\n",
            "  Attempting uninstall: importlib-metadata\n",
            "    Found existing installation: importlib_metadata 7.1.0\n",
            "    Uninstalling importlib_metadata-7.1.0:\n",
            "      Successfully uninstalled importlib_metadata-7.1.0\n",
            "  Attempting uninstall: docstring-parser\n",
            "    Found existing installation: docstring_parser 0.16\n",
            "    Uninstalling docstring_parser-0.16:\n",
            "      Successfully uninstalled docstring_parser-0.16\n",
            "Successfully installed Mako-1.3.5 alembic-1.13.1 asgiref-3.8.1 backoff-2.2.1 bcrypt-4.1.3 chroma-hnswlib-0.7.3 chromadb-0.5.0 coloredlogs-15.0.1 crewai-0.30.11 dataclasses-json-0.6.6 deprecated-1.2.14 docstring-parser-0.15 embedchain-0.1.103 fastapi-0.110.3 gptcache-0.1.43 httptools-0.6.1 humanfriendly-10.0 importlib-metadata-7.0.0 instructor-0.5.2 jsonpatch-1.33 jsonpointer-2.4 kubernetes-29.0.0 langchain-0.1.20 langchain-community-0.0.38 langchain-core-0.1.52 langchain-openai-0.0.5 langchain-text-splitters-0.0.2 langsmith-0.1.59 marshmallow-3.21.2 mmh3-4.1.0 monotonic-1.6 mypy-extensions-1.0.0 onnxruntime-1.18.0 opentelemetry-api-1.24.0 opentelemetry-exporter-otlp-proto-common-1.24.0 opentelemetry-exporter-otlp-proto-grpc-1.24.0 opentelemetry-exporter-otlp-proto-http-1.24.0 opentelemetry-instrumentation-0.45b0 opentelemetry-instrumentation-asgi-0.45b0 opentelemetry-instrumentation-fastapi-0.45b0 opentelemetry-proto-1.24.0 opentelemetry-sdk-1.24.0 opentelemetry-semantic-conventions-0.45b0 opentelemetry-util-http-0.45b0 orjson-3.10.3 overrides-7.7.0 packaging-23.2 posthog-3.5.0 pypdf-4.2.0 pypika-0.48.9 pysbd-0.3.4 python-dotenv-1.0.1 schema-0.7.7 starlette-0.37.2 tiktoken-0.5.2 typing-inspect-0.9.0 uvicorn-0.29.0 uvloop-0.19.0 watchfiles-0.21.0 websockets-12.0\n"
          ]
        }
      ]
    },
    {
      "cell_type": "code",
      "source": [
        "!pip install unstructured"
      ],
      "metadata": {
        "colab": {
          "base_uri": "https://localhost:8080/"
        },
        "id": "_m7_gzAqnAk7",
        "outputId": "eb4806e3-43fc-4bb5-cc1d-5767135e1fe0"
      },
      "execution_count": 7,
      "outputs": [
        {
          "output_type": "stream",
          "name": "stdout",
          "text": [
            "Collecting unstructured\n",
            "  Downloading unstructured-0.14.0-py3-none-any.whl (1.9 MB)\n",
            "\u001b[2K     \u001b[90m━━━━━━━━━━━━━━━━━━━━━━━━━━━━━━━━━━━━━━━━\u001b[0m \u001b[32m1.9/1.9 MB\u001b[0m \u001b[31m20.5 MB/s\u001b[0m eta \u001b[36m0:00:00\u001b[0m\n",
            "\u001b[?25hRequirement already satisfied: chardet in /usr/local/lib/python3.10/dist-packages (from unstructured) (5.2.0)\n",
            "Collecting filetype (from unstructured)\n",
            "  Downloading filetype-1.2.0-py2.py3-none-any.whl (19 kB)\n",
            "Collecting python-magic (from unstructured)\n",
            "  Downloading python_magic-0.4.27-py2.py3-none-any.whl (13 kB)\n",
            "Requirement already satisfied: lxml in /usr/local/lib/python3.10/dist-packages (from unstructured) (4.9.4)\n",
            "Requirement already satisfied: nltk in /usr/local/lib/python3.10/dist-packages (from unstructured) (3.8.1)\n",
            "Requirement already satisfied: tabulate in /usr/local/lib/python3.10/dist-packages (from unstructured) (0.9.0)\n",
            "Requirement already satisfied: requests in /usr/local/lib/python3.10/dist-packages (from unstructured) (2.31.0)\n",
            "Requirement already satisfied: beautifulsoup4 in /usr/local/lib/python3.10/dist-packages (from unstructured) (4.12.3)\n",
            "Collecting emoji (from unstructured)\n",
            "  Downloading emoji-2.11.1-py2.py3-none-any.whl (433 kB)\n",
            "\u001b[2K     \u001b[90m━━━━━━━━━━━━━━━━━━━━━━━━━━━━━━━━━━━━━━━━\u001b[0m \u001b[32m433.8/433.8 kB\u001b[0m \u001b[31m38.1 MB/s\u001b[0m eta \u001b[36m0:00:00\u001b[0m\n",
            "\u001b[?25hRequirement already satisfied: dataclasses-json in /usr/local/lib/python3.10/dist-packages (from unstructured) (0.6.6)\n",
            "Collecting python-iso639 (from unstructured)\n",
            "  Downloading python_iso639-2024.4.27-py3-none-any.whl (274 kB)\n",
            "\u001b[2K     \u001b[90m━━━━━━━━━━━━━━━━━━━━━━━━━━━━━━━━━━━━━━━━\u001b[0m \u001b[32m274.7/274.7 kB\u001b[0m \u001b[31m27.9 MB/s\u001b[0m eta \u001b[36m0:00:00\u001b[0m\n",
            "\u001b[?25hCollecting langdetect (from unstructured)\n",
            "  Downloading langdetect-1.0.9.tar.gz (981 kB)\n",
            "\u001b[2K     \u001b[90m━━━━━━━━━━━━━━━━━━━━━━━━━━━━━━━━━━━━━━━━\u001b[0m \u001b[32m981.5/981.5 kB\u001b[0m \u001b[31m58.4 MB/s\u001b[0m eta \u001b[36m0:00:00\u001b[0m\n",
            "\u001b[?25h  Preparing metadata (setup.py) ... \u001b[?25l\u001b[?25hdone\n",
            "Requirement already satisfied: numpy in /usr/local/lib/python3.10/dist-packages (from unstructured) (1.25.2)\n",
            "Collecting rapidfuzz (from unstructured)\n",
            "  Downloading rapidfuzz-3.9.0-cp310-cp310-manylinux_2_17_x86_64.manylinux2014_x86_64.whl (3.4 MB)\n",
            "\u001b[2K     \u001b[90m━━━━━━━━━━━━━━━━━━━━━━━━━━━━━━━━━━━━━━━━\u001b[0m \u001b[32m3.4/3.4 MB\u001b[0m \u001b[31m53.5 MB/s\u001b[0m eta \u001b[36m0:00:00\u001b[0m\n",
            "\u001b[?25hRequirement already satisfied: backoff in /usr/local/lib/python3.10/dist-packages (from unstructured) (2.2.1)\n",
            "Requirement already satisfied: typing-extensions in /usr/local/lib/python3.10/dist-packages (from unstructured) (4.11.0)\n",
            "Collecting unstructured-client (from unstructured)\n",
            "  Downloading unstructured_client-0.22.0-py3-none-any.whl (28 kB)\n",
            "Requirement already satisfied: wrapt in /usr/local/lib/python3.10/dist-packages (from unstructured) (1.14.1)\n",
            "Requirement already satisfied: soupsieve>1.2 in /usr/local/lib/python3.10/dist-packages (from beautifulsoup4->unstructured) (2.5)\n",
            "Requirement already satisfied: marshmallow<4.0.0,>=3.18.0 in /usr/local/lib/python3.10/dist-packages (from dataclasses-json->unstructured) (3.21.2)\n",
            "Requirement already satisfied: typing-inspect<1,>=0.4.0 in /usr/local/lib/python3.10/dist-packages (from dataclasses-json->unstructured) (0.9.0)\n",
            "Requirement already satisfied: six in /usr/local/lib/python3.10/dist-packages (from langdetect->unstructured) (1.16.0)\n",
            "Requirement already satisfied: click in /usr/local/lib/python3.10/dist-packages (from nltk->unstructured) (8.1.7)\n",
            "Requirement already satisfied: joblib in /usr/local/lib/python3.10/dist-packages (from nltk->unstructured) (1.4.2)\n",
            "Requirement already satisfied: regex>=2021.8.3 in /usr/local/lib/python3.10/dist-packages (from nltk->unstructured) (2023.12.25)\n",
            "Requirement already satisfied: tqdm in /usr/local/lib/python3.10/dist-packages (from nltk->unstructured) (4.66.4)\n",
            "Requirement already satisfied: charset-normalizer<4,>=2 in /usr/local/lib/python3.10/dist-packages (from requests->unstructured) (3.3.2)\n",
            "Requirement already satisfied: idna<4,>=2.5 in /usr/local/lib/python3.10/dist-packages (from requests->unstructured) (3.7)\n",
            "Requirement already satisfied: urllib3<3,>=1.21.1 in /usr/local/lib/python3.10/dist-packages (from requests->unstructured) (2.0.7)\n",
            "Requirement already satisfied: certifi>=2017.4.17 in /usr/local/lib/python3.10/dist-packages (from requests->unstructured) (2024.2.2)\n",
            "Collecting deepdiff>=6.0 (from unstructured-client->unstructured)\n",
            "  Downloading deepdiff-7.0.1-py3-none-any.whl (80 kB)\n",
            "\u001b[2K     \u001b[90m━━━━━━━━━━━━━━━━━━━━━━━━━━━━━━━━━━━━━━━━\u001b[0m \u001b[32m80.8/80.8 kB\u001b[0m \u001b[31m7.0 MB/s\u001b[0m eta \u001b[36m0:00:00\u001b[0m\n",
            "\u001b[?25hCollecting jsonpath-python>=1.0.6 (from unstructured-client->unstructured)\n",
            "  Downloading jsonpath_python-1.0.6-py3-none-any.whl (7.6 kB)\n",
            "Requirement already satisfied: mypy-extensions>=1.0.0 in /usr/local/lib/python3.10/dist-packages (from unstructured-client->unstructured) (1.0.0)\n",
            "Requirement already satisfied: packaging>=23.1 in /usr/local/lib/python3.10/dist-packages (from unstructured-client->unstructured) (23.2)\n",
            "Requirement already satisfied: pypdf>=4.0 in /usr/local/lib/python3.10/dist-packages (from unstructured-client->unstructured) (4.2.0)\n",
            "Requirement already satisfied: python-dateutil>=2.8.2 in /usr/local/lib/python3.10/dist-packages (from unstructured-client->unstructured) (2.8.2)\n",
            "Collecting ordered-set<4.2.0,>=4.1.0 (from deepdiff>=6.0->unstructured-client->unstructured)\n",
            "  Downloading ordered_set-4.1.0-py3-none-any.whl (7.6 kB)\n",
            "Building wheels for collected packages: langdetect\n",
            "  Building wheel for langdetect (setup.py) ... \u001b[?25l\u001b[?25hdone\n",
            "  Created wheel for langdetect: filename=langdetect-1.0.9-py3-none-any.whl size=993227 sha256=7b88726d9f576d04eb51274ae12fd43c37dc71673ce335a872af956f656be128\n",
            "  Stored in directory: /root/.cache/pip/wheels/95/03/7d/59ea870c70ce4e5a370638b5462a7711ab78fba2f655d05106\n",
            "Successfully built langdetect\n",
            "Installing collected packages: filetype, rapidfuzz, python-magic, python-iso639, ordered-set, langdetect, jsonpath-python, emoji, deepdiff, unstructured-client, unstructured\n",
            "Successfully installed deepdiff-7.0.1 emoji-2.11.1 filetype-1.2.0 jsonpath-python-1.0.6 langdetect-1.0.9 ordered-set-4.1.0 python-iso639-2024.4.27 python-magic-0.4.27 rapidfuzz-3.9.0 unstructured-0.14.0 unstructured-client-0.22.0\n"
          ]
        }
      ]
    },
    {
      "cell_type": "code",
      "source": [
        "!pip install langgraph langchain langchain_openai langchainhub langchain-core langchain_experimental"
      ],
      "metadata": {
        "colab": {
          "base_uri": "https://localhost:8080/"
        },
        "id": "9_bBjlk-nErZ",
        "outputId": "ebf183b2-50c0-41a4-90d7-7dd9dbbc6d4a"
      },
      "execution_count": 8,
      "outputs": [
        {
          "output_type": "stream",
          "name": "stdout",
          "text": [
            "Collecting langgraph\n",
            "  Downloading langgraph-0.0.50-py3-none-any.whl (83 kB)\n",
            "\u001b[2K     \u001b[90m━━━━━━━━━━━━━━━━━━━━━━━━━━━━━━━━━━━━━━━━\u001b[0m \u001b[32m83.3/83.3 kB\u001b[0m \u001b[31m1.7 MB/s\u001b[0m eta \u001b[36m0:00:00\u001b[0m\n",
            "\u001b[?25hRequirement already satisfied: langchain in /usr/local/lib/python3.10/dist-packages (0.1.20)\n",
            "Requirement already satisfied: langchain_openai in /usr/local/lib/python3.10/dist-packages (0.0.5)\n",
            "Collecting langchainhub\n",
            "  Downloading langchainhub-0.1.15-py3-none-any.whl (4.6 kB)\n",
            "Requirement already satisfied: langchain-core in /usr/local/lib/python3.10/dist-packages (0.1.52)\n",
            "Collecting langchain_experimental\n",
            "  Downloading langchain_experimental-0.0.59-py3-none-any.whl (199 kB)\n",
            "\u001b[2K     \u001b[90m━━━━━━━━━━━━━━━━━━━━━━━━━━━━━━━━━━━━━━━━\u001b[0m \u001b[32m199.5/199.5 kB\u001b[0m \u001b[31m9.3 MB/s\u001b[0m eta \u001b[36m0:00:00\u001b[0m\n",
            "\u001b[?25hCollecting uuid6<2025.0.0,>=2024.1.12 (from langgraph)\n",
            "  Downloading uuid6-2024.1.12-py3-none-any.whl (6.4 kB)\n",
            "Requirement already satisfied: PyYAML>=5.3 in /usr/local/lib/python3.10/dist-packages (from langchain) (6.0.1)\n",
            "Requirement already satisfied: SQLAlchemy<3,>=1.4 in /usr/local/lib/python3.10/dist-packages (from langchain) (2.0.30)\n",
            "Requirement already satisfied: aiohttp<4.0.0,>=3.8.3 in /usr/local/lib/python3.10/dist-packages (from langchain) (3.9.5)\n",
            "Requirement already satisfied: async-timeout<5.0.0,>=4.0.0 in /usr/local/lib/python3.10/dist-packages (from langchain) (4.0.3)\n",
            "Requirement already satisfied: dataclasses-json<0.7,>=0.5.7 in /usr/local/lib/python3.10/dist-packages (from langchain) (0.6.6)\n",
            "Requirement already satisfied: langchain-community<0.1,>=0.0.38 in /usr/local/lib/python3.10/dist-packages (from langchain) (0.0.38)\n",
            "Requirement already satisfied: langchain-text-splitters<0.1,>=0.0.1 in /usr/local/lib/python3.10/dist-packages (from langchain) (0.0.2)\n",
            "Requirement already satisfied: langsmith<0.2.0,>=0.1.17 in /usr/local/lib/python3.10/dist-packages (from langchain) (0.1.59)\n",
            "Requirement already satisfied: numpy<2,>=1 in /usr/local/lib/python3.10/dist-packages (from langchain) (1.25.2)\n",
            "Requirement already satisfied: pydantic<3,>=1 in /usr/local/lib/python3.10/dist-packages (from langchain) (2.7.1)\n",
            "Requirement already satisfied: requests<3,>=2 in /usr/local/lib/python3.10/dist-packages (from langchain) (2.31.0)\n",
            "Requirement already satisfied: tenacity<9.0.0,>=8.1.0 in /usr/local/lib/python3.10/dist-packages (from langchain) (8.3.0)\n",
            "Requirement already satisfied: openai<2.0.0,>=1.10.0 in /usr/local/lib/python3.10/dist-packages (from langchain_openai) (1.30.1)\n",
            "Requirement already satisfied: tiktoken<0.6.0,>=0.5.2 in /usr/local/lib/python3.10/dist-packages (from langchain_openai) (0.5.2)\n",
            "Collecting types-requests<3.0.0.0,>=2.31.0.2 (from langchainhub)\n",
            "  Downloading types_requests-2.31.0.20240406-py3-none-any.whl (15 kB)\n",
            "Requirement already satisfied: jsonpatch<2.0,>=1.33 in /usr/local/lib/python3.10/dist-packages (from langchain-core) (1.33)\n",
            "Requirement already satisfied: packaging<24.0,>=23.2 in /usr/local/lib/python3.10/dist-packages (from langchain-core) (23.2)\n",
            "INFO: pip is looking at multiple versions of langchain-experimental to determine which version is compatible with other requirements. This could take a while.\n",
            "Collecting langchain_experimental\n",
            "  Downloading langchain_experimental-0.0.58-py3-none-any.whl (199 kB)\n",
            "\u001b[2K     \u001b[90m━━━━━━━━━━━━━━━━━━━━━━━━━━━━━━━━━━━━━━━━\u001b[0m \u001b[32m199.4/199.4 kB\u001b[0m \u001b[31m23.6 MB/s\u001b[0m eta \u001b[36m0:00:00\u001b[0m\n",
            "\u001b[?25hRequirement already satisfied: aiosignal>=1.1.2 in /usr/local/lib/python3.10/dist-packages (from aiohttp<4.0.0,>=3.8.3->langchain) (1.3.1)\n",
            "Requirement already satisfied: attrs>=17.3.0 in /usr/local/lib/python3.10/dist-packages (from aiohttp<4.0.0,>=3.8.3->langchain) (23.2.0)\n",
            "Requirement already satisfied: frozenlist>=1.1.1 in /usr/local/lib/python3.10/dist-packages (from aiohttp<4.0.0,>=3.8.3->langchain) (1.4.1)\n",
            "Requirement already satisfied: multidict<7.0,>=4.5 in /usr/local/lib/python3.10/dist-packages (from aiohttp<4.0.0,>=3.8.3->langchain) (6.0.5)\n",
            "Requirement already satisfied: yarl<2.0,>=1.0 in /usr/local/lib/python3.10/dist-packages (from aiohttp<4.0.0,>=3.8.3->langchain) (1.9.4)\n",
            "Requirement already satisfied: marshmallow<4.0.0,>=3.18.0 in /usr/local/lib/python3.10/dist-packages (from dataclasses-json<0.7,>=0.5.7->langchain) (3.21.2)\n",
            "Requirement already satisfied: typing-inspect<1,>=0.4.0 in /usr/local/lib/python3.10/dist-packages (from dataclasses-json<0.7,>=0.5.7->langchain) (0.9.0)\n",
            "Requirement already satisfied: jsonpointer>=1.9 in /usr/local/lib/python3.10/dist-packages (from jsonpatch<2.0,>=1.33->langchain-core) (2.4)\n",
            "Requirement already satisfied: orjson<4.0.0,>=3.9.14 in /usr/local/lib/python3.10/dist-packages (from langsmith<0.2.0,>=0.1.17->langchain) (3.10.3)\n",
            "Requirement already satisfied: anyio<5,>=3.5.0 in /usr/local/lib/python3.10/dist-packages (from openai<2.0.0,>=1.10.0->langchain_openai) (3.7.1)\n",
            "Requirement already satisfied: distro<2,>=1.7.0 in /usr/lib/python3/dist-packages (from openai<2.0.0,>=1.10.0->langchain_openai) (1.7.0)\n",
            "Requirement already satisfied: httpx<1,>=0.23.0 in /usr/local/lib/python3.10/dist-packages (from openai<2.0.0,>=1.10.0->langchain_openai) (0.27.0)\n",
            "Requirement already satisfied: sniffio in /usr/local/lib/python3.10/dist-packages (from openai<2.0.0,>=1.10.0->langchain_openai) (1.3.1)\n",
            "Requirement already satisfied: tqdm>4 in /usr/local/lib/python3.10/dist-packages (from openai<2.0.0,>=1.10.0->langchain_openai) (4.66.4)\n",
            "Requirement already satisfied: typing-extensions<5,>=4.7 in /usr/local/lib/python3.10/dist-packages (from openai<2.0.0,>=1.10.0->langchain_openai) (4.11.0)\n",
            "Requirement already satisfied: annotated-types>=0.4.0 in /usr/local/lib/python3.10/dist-packages (from pydantic<3,>=1->langchain) (0.6.0)\n",
            "Requirement already satisfied: pydantic-core==2.18.2 in /usr/local/lib/python3.10/dist-packages (from pydantic<3,>=1->langchain) (2.18.2)\n",
            "Requirement already satisfied: charset-normalizer<4,>=2 in /usr/local/lib/python3.10/dist-packages (from requests<3,>=2->langchain) (3.3.2)\n",
            "Requirement already satisfied: idna<4,>=2.5 in /usr/local/lib/python3.10/dist-packages (from requests<3,>=2->langchain) (3.7)\n",
            "Requirement already satisfied: urllib3<3,>=1.21.1 in /usr/local/lib/python3.10/dist-packages (from requests<3,>=2->langchain) (2.0.7)\n",
            "Requirement already satisfied: certifi>=2017.4.17 in /usr/local/lib/python3.10/dist-packages (from requests<3,>=2->langchain) (2024.2.2)\n",
            "Requirement already satisfied: greenlet!=0.4.17 in /usr/local/lib/python3.10/dist-packages (from SQLAlchemy<3,>=1.4->langchain) (3.0.3)\n",
            "Requirement already satisfied: regex>=2022.1.18 in /usr/local/lib/python3.10/dist-packages (from tiktoken<0.6.0,>=0.5.2->langchain_openai) (2023.12.25)\n",
            "Requirement already satisfied: exceptiongroup in /usr/local/lib/python3.10/dist-packages (from anyio<5,>=3.5.0->openai<2.0.0,>=1.10.0->langchain_openai) (1.2.1)\n",
            "Requirement already satisfied: httpcore==1.* in /usr/local/lib/python3.10/dist-packages (from httpx<1,>=0.23.0->openai<2.0.0,>=1.10.0->langchain_openai) (1.0.5)\n",
            "Requirement already satisfied: h11<0.15,>=0.13 in /usr/local/lib/python3.10/dist-packages (from httpcore==1.*->httpx<1,>=0.23.0->openai<2.0.0,>=1.10.0->langchain_openai) (0.14.0)\n",
            "Requirement already satisfied: mypy-extensions>=0.3.0 in /usr/local/lib/python3.10/dist-packages (from typing-inspect<1,>=0.4.0->dataclasses-json<0.7,>=0.5.7->langchain) (1.0.0)\n",
            "Installing collected packages: uuid6, types-requests, langchainhub, langgraph, langchain_experimental\n",
            "Successfully installed langchain_experimental-0.0.58 langchainhub-0.1.15 langgraph-0.0.50 types-requests-2.31.0.20240406 uuid6-2024.1.12\n"
          ]
        }
      ]
    },
    {
      "cell_type": "code",
      "source": [
        "!pip install sec_api"
      ],
      "metadata": {
        "colab": {
          "base_uri": "https://localhost:8080/"
        },
        "id": "et1N1I-snLxA",
        "outputId": "1852e677-55ac-42f8-e42c-03a06913aaef"
      },
      "execution_count": 9,
      "outputs": [
        {
          "output_type": "stream",
          "name": "stdout",
          "text": [
            "Collecting sec_api\n",
            "  Downloading sec_api-1.0.18-py3-none-any.whl (17 kB)\n",
            "Requirement already satisfied: requests in /usr/local/lib/python3.10/dist-packages (from sec_api) (2.31.0)\n",
            "Requirement already satisfied: charset-normalizer<4,>=2 in /usr/local/lib/python3.10/dist-packages (from requests->sec_api) (3.3.2)\n",
            "Requirement already satisfied: idna<4,>=2.5 in /usr/local/lib/python3.10/dist-packages (from requests->sec_api) (3.7)\n",
            "Requirement already satisfied: urllib3<3,>=1.21.1 in /usr/local/lib/python3.10/dist-packages (from requests->sec_api) (2.0.7)\n",
            "Requirement already satisfied: certifi>=2017.4.17 in /usr/local/lib/python3.10/dist-packages (from requests->sec_api) (2024.2.2)\n",
            "Installing collected packages: sec_api\n",
            "Successfully installed sec_api-1.0.18\n"
          ]
        }
      ]
    },
    {
      "cell_type": "markdown",
      "source": [
        "# Function_call notebook"
      ],
      "metadata": {
        "id": "bVaURl9SEzMm"
      }
    },
    {
      "cell_type": "code",
      "source": [
        "%run functions_python.ipynb"
      ],
      "metadata": {
        "id": "Q40lkyLGnjWy"
      },
      "execution_count": 10,
      "outputs": []
    },
    {
      "cell_type": "code",
      "source": [
        "fc = FunctionCalls()"
      ],
      "metadata": {
        "id": "sqCrGtqPn8zd"
      },
      "execution_count": 11,
      "outputs": []
    },
    {
      "cell_type": "markdown",
      "source": [
        "#Langgraph"
      ],
      "metadata": {
        "id": "ScRdMcIrHYZX"
      }
    },
    {
      "cell_type": "code",
      "source": [
        "from langchain_core.pydantic_v1 import BaseModel, Field\n",
        "from langchain.tools import StructuredTool, BaseTool\n",
        "from langgraph.prebuilt import ToolExecutor\n",
        "from typing import Optional, Type"
      ],
      "metadata": {
        "id": "3e30lMEBHFcy"
      },
      "execution_count": 12,
      "outputs": []
    },
    {
      "cell_type": "markdown",
      "source": [
        "##On boarding:"
      ],
      "metadata": {
        "id": "nlPLaNe4GjgH"
      }
    },
    {
      "cell_type": "code",
      "source": [
        "# !pip install psycopg2"
      ],
      "metadata": {
        "id": "446r9He4Go5K"
      },
      "execution_count": null,
      "outputs": []
    },
    {
      "cell_type": "code",
      "source": [
        "# import psycopg2"
      ],
      "metadata": {
        "id": "gCKEDbC-ogr2"
      },
      "execution_count": null,
      "outputs": []
    },
    {
      "cell_type": "code",
      "source": [
        "# class SaveTradingStyle(BaseModel):\n",
        "#     \"\"\"save the style of trading.\"\"\"\n",
        "\n",
        "#     userId: float = Field(..., description=\"user id\")\n",
        "\n",
        "\n",
        "# def trading_style_saver(userId: float) -> str:\n",
        "#     try:\n",
        "#         # Connect to the PostgreSQL server\n",
        "#         conn = psycopg2.connect(\n",
        "#             dbname=\"tensurf\",\n",
        "#             user=\"tensurf\",\n",
        "#             password=\"tensurf\",\n",
        "#             host=\"135.181.158.245\",\n",
        "#             port=\"5432\"\n",
        "#         )\n",
        "\n",
        "#         # Create a cursor object\n",
        "#         cur = conn.cursor()\n",
        "\n",
        "#         trading_style = input(\"What is your trading style (day trader, swing trader, or both)? \")\n",
        "#         cur.execute(\"SELECT COUNT(*) FROM onboarding_user WHERE id = %s\",(userId,))\n",
        "#         count = cur.fetchone()[0]\n",
        "#         if count > 0:\n",
        "#             cur.execute(\"UPDATE onboarding_user SET trading_style=%s WHERE id=%s\",(trading_style, userId))\n",
        "#         else:\n",
        "#             cur.execute(\"INSERT INTO onboarding_user (id,trading_style) values (%s,%s)\", (userId, trading_style))\n",
        "\n",
        "#         conn.commit()\n",
        "#         cur.close()\n",
        "#         conn.close()\n",
        "\n",
        "#         return \"Trading style is saved successfully.\"\n",
        "\n",
        "#     except psycopg2.Error as e:\n",
        "#         return f\"Error in trading_style_saver: {e}\"\n",
        "\n",
        "\n",
        "# databaseStyle = StructuredTool.from_function(\n",
        "#     func=trading_style_saver,\n",
        "#     name=\"SaveTradingStyle\",\n",
        "#     description=\"save the style of trading\",\n",
        "#     args_schema=SaveTradingStyle,\n",
        "#     return_direct=False,\n",
        "# )"
      ],
      "metadata": {
        "id": "gPAJPkmMGsbX"
      },
      "execution_count": null,
      "outputs": []
    },
    {
      "cell_type": "code",
      "source": [
        "# class SaveRiskPercentage(BaseModel):\n",
        "#     \"\"\"Get the info of the trader about how much risk they take for trading.\"\"\"\n",
        "\n",
        "#     userId: float = Field(..., description=\"user id\")\n",
        "\n",
        "# def risk_percentage_saver(userId) -> str:\n",
        "#     # Save risk percentage to the database\n",
        "#     try:\n",
        "#         # Connect to the PostgreSQL server\n",
        "#         conn = psycopg2.connect(\n",
        "#             dbname=\"tensurf\",\n",
        "#             user=\"tensurf\",\n",
        "#             password=\"tensurf\",\n",
        "#             host=\"135.181.158.245\",\n",
        "#             port=\"5432\"\n",
        "#         )\n",
        "\n",
        "#         # Create a cursor object\n",
        "#         cur = conn.cursor()\n",
        "\n",
        "#         cur.execute(\"SELECT COUNT(*) FROM onboarding_user WHERE id = %s\",(userId,))\n",
        "#         while True:\n",
        "#             percentage = float(input(\"What is the maximum percentage of your capital that you want to risk in trade (0-100)? \"))\n",
        "#             if 0 <= percentage <= 100:\n",
        "#                 break\n",
        "#             else:\n",
        "#                 print(\"Please enter a positive float number between 0 and 100.\")\n",
        "#         count = cur.fetchone()[0]\n",
        "#         if count > 0:\n",
        "#             cur.execute(\"UPDATE onboarding_user SET risk_parameter=%s WHERE id=%s\",(percentage, userId))\n",
        "#         else:\n",
        "#             cur.execute(\"INSERT INTO onboarding_user (id,risk_parameter) values (%s,%s)\", (userId, percentage))\n",
        "\n",
        "#         # Commit the transaction\n",
        "#         conn.commit()\n",
        "#         cur.close()\n",
        "#         conn.close()\n",
        "\n",
        "#         return \"percentage of risk is saved successfully.\"\n",
        "\n",
        "#     except psycopg2.Error as e:\n",
        "#         return f\"Error in risk_percentage_saver: {e}\"\n",
        "\n",
        "\n",
        "# databaseRisk = StructuredTool.from_function(\n",
        "#     func=risk_percentage_saver,\n",
        "#     name=\"SaveRiskPercentage\",\n",
        "#     description=\"Get the info of the trader about how much risk they take for trading.\",\n",
        "#     args_schema=SaveRiskPercentage,\n",
        "#     return_direct=False,\n",
        "# )"
      ],
      "metadata": {
        "id": "pMvPszfGG0VH"
      },
      "execution_count": null,
      "outputs": []
    },
    {
      "cell_type": "code",
      "source": [
        "# def check_user_id():\n",
        "#     try:\n",
        "#         # Connect to the PostgreSQL server\n",
        "#         conn = psycopg2.connect(\n",
        "#             dbname=\"tensurf\",\n",
        "#             user=\"tensurf\",\n",
        "#             password=\"tensurf\",\n",
        "#             host=\"135.181.158.245\",\n",
        "#             port=\"5432\"\n",
        "#         )\n",
        "\n",
        "#         # Create a cursor object\n",
        "#         cur = conn.cursor()\n",
        "#         user_id = input(\"What is your id?\")\n",
        "#         # Query to check if the user_id exists in the table\n",
        "#         cur.execute(\"SELECT COUNT(*) FROM onboarding_user WHERE id = %s\",(user_id,))\n",
        "#         count = cur.fetchone()[0]\n",
        "\n",
        "#         if count > 0:\n",
        "#           return user_id\n",
        "\n",
        "#         else:\n",
        "#           return f\"User with user_id= {user_id} does not exist in the table.\"\n",
        "\n",
        "#     except psycopg2.Error as e:\n",
        "#       return f\"Error in check_user_id: {e}\"\n",
        "\n",
        "# databaseId = StructuredTool.from_function(\n",
        "#     func=check_user_id,\n",
        "#     name=\"CheckUserId\",\n",
        "#     description=\"Checking the id of the user\",\n",
        "#     return_direct=False,\n",
        "# )"
      ],
      "metadata": {
        "id": "5mB3KvXDG06h"
      },
      "execution_count": null,
      "outputs": []
    },
    {
      "cell_type": "markdown",
      "source": [
        "##Calculate sl:"
      ],
      "metadata": {
        "id": "behgQf7V1wNk"
      }
    },
    {
      "cell_type": "code",
      "source": [
        "class PropertiesCalculateSl(BaseModel):\n",
        "    symbol: str = Field(..., description=\"The ticker symbol of the financial instrument to be analyzed.\")\n",
        "\n",
        "    method: str = Field(..., description=\"shows the method of SL calculation.\")\n",
        "\n",
        "    direction: int = Field(..., description=\"-1: means the user want to calculate stoploss for a short position. 1: means the user want to calculate stoploss for a long position\")\n",
        "\n",
        "    lookback: int = Field(..., description=\"it is used when the method is set to 'minmax' and shows the number of candles that the SL is calculated based on them.\")\n",
        "\n",
        "    neighborhood: int = Field(..., description=\"A parameter that is used in the swing method to define the range or window within which swings are detected. example: \\\n",
        "                                                 If the 'neighborhood' parameter is set to 3, it means that the swing detection is based on considering 3 candles to the \\\n",
        "                                                 left and 3 candles to the right of the swing point.\")\n",
        "\n",
        "    atr_coef: int = Field(..., description=\"it is used if the method is 'atr' and shows the coefficient of atr\")\n",
        "\n",
        "\n",
        "class CalculateSl(BaseTool):\n",
        "    name = \"calculate_sl\"\n",
        "    description = \"\"\"Stoploss (SL) is a limitation for potential losses in a position. It's below the current price for long position and above it for short position. Distance between the SL and current price is named risk value. This function calculates the SL based o some different methods. Returns A dictionary same as this:\n",
        "                     {'sl': [17542.5], 'risk': [268.5], 'info': ['calculated based on maximum high price of previous 100 candles']} which includes sl value, risk on the trade and an information. If user don't select any method for sl calculation or select \"level\" method, or zigzag method the otput can include more than one stoploss and the values type in the output can be a list such as this\n",
        "                     {'sl': [17542.5, 17818.25, 17858.5, 17882.5, 18518.75], 'risk': [268.5, 7.25, 47.5, 71.5, 707.75], 'info': ['minmax', 'swing', 'atr', '5min_SR', 'daily_SR']}\n",
        "                     It includes a list of stoplosses and the risk on them and finally the level or method name of stoploss.\"\"\"\n",
        "\n",
        "    args_schema: Type[BaseModel] = PropertiesCalculateSl\n",
        "\n",
        "    def _run(\n",
        "        self, symbol: str, method: str, direction: int, lookback: int, neighborhood: int, atr_coef: int\n",
        "    ) -> int:\n",
        "        parameters = {\n",
        "                      \"symbol\": symbol,\n",
        "                      \"method\": method,\n",
        "                      \"direction\": direction,\n",
        "                      \"lookback\": lookback,\n",
        "                      \"neighborhood\": neighborhood,\n",
        "                      \"atr_coef\": atr_coef\n",
        "\n",
        "                      }\n",
        "\n",
        "        return fc.calculate_sl(parameters)\n",
        "\n",
        "Sl = CalculateSl()"
      ],
      "metadata": {
        "id": "enrMEMS7HaTe"
      },
      "execution_count": 13,
      "outputs": []
    },
    {
      "cell_type": "markdown",
      "source": [
        "##Calculate TP:"
      ],
      "metadata": {
        "id": "EciRRD4YELCo"
      }
    },
    {
      "cell_type": "code",
      "source": [
        "class PropertiesCalculateTp(BaseModel):\n",
        "    symbol: str = Field(..., description=\"The ticker symbol of the financial instrument to be analyzed.\")\n",
        "\n",
        "    direction: int = Field(..., description=\"-1: means the user want to calculate stoploss for a short position. 1: means the user want to calculate stoploss for a long position\")\n",
        "\n",
        "    stoploss: int = Field(..., description=\"the value for stoploss\")\n",
        "\n",
        "\n",
        "class CalculateTp(BaseTool):\n",
        "    name = \"CalculateTp\"\n",
        "    description = \"\"\"Take profit (TP) is opposite of the stop-loss (SL) and is based on maximum reward that we intend to achieve from a trade. \\\n",
        "                     It represents the price level at which a trader aims to close a position to secure profits before the market reverses. \\\n",
        "                     Returns list of price for take-profit and information for each price For exampe: \\\n",
        "                     {'tp': [5139.25, 5140.25, 5144.0], 'info': ['calculated based on the level VWAP_Top_Band_2', 'calculated based on the level Overnight_high', 'calculated based on the level VWAP_Top_Band_3']}\"\"\"\n",
        "\n",
        "    args_schema: Type[BaseModel] = PropertiesCalculateTp\n",
        "\n",
        "    def _run(\n",
        "        self, symbol: str, direction: int, stoploss: int\n",
        "    ) -> int:\n",
        "        parameters = {\n",
        "                      \"symbol\": symbol,\n",
        "                      \"direction\": direction,\n",
        "                      \"stoploss\": stoploss\n",
        "                      }\n",
        "        print(parameters)\n",
        "\n",
        "        return fc.calculate_tp(parameters)\n",
        "\n",
        "TP = CalculateTp()"
      ],
      "metadata": {
        "id": "JianU1wXGZL3"
      },
      "execution_count": 14,
      "outputs": []
    },
    {
      "cell_type": "markdown",
      "source": [
        "##Calculate Trend:"
      ],
      "metadata": {
        "id": "lt4sSmAQH1Ph"
      }
    },
    {
      "cell_type": "code",
      "source": [
        "class PropertiesCalculateTrend(BaseModel):\n",
        "    symbol: str = Field(..., description=\"The ticker symbol of the financial instrument to be analyzed.\")\n",
        "    start_datetime: str = Field(..., description=\"The start timestamp of period over which the analysis is done. \\\n",
        "                                                  The format of the date should be in the following format \\\n",
        "                                                  %b-%d-%y %H:%M:%S like this example: May-1-2024 13:27:49\")\n",
        "    end_datetime: Optional[str] = Field(None, description=\"The end timestamp of period over which the analysis \\\n",
        "                                                           is done. \\\n",
        "                                                           The format of the date should be in the following \\\n",
        "                                                           format %b-%d-%y %H:%M:%S like this example: \\\n",
        "                                                           May-1-2024 13:27:49. The user can set this \\\n",
        "                                                           parameter to now. In this situation this \\\n",
        "                                                           parameter's value is the current date time.\")\n",
        "\n",
        "    lookback: Optional[str] = Field(None, description=\"The number of seconds, minutes, hours, days, weeks, \\\n",
        "                                                       months or years to look back for calculating the \\\n",
        "                                                       trend of the given symbol. \\\n",
        "                                                       This parameter determines the depth of historical \\\n",
        "                                                       data to be considered in the analysis. \\\n",
        "                                                       The format of this value must obey one of the \\\n",
        "                                                       following examples: 30 seconds, 10 minutes, \\\n",
        "                                                       2 hours, 5 days, 3 weeks, 2 months and 3 years. \\\n",
        "                                                       Either start_datetime along with end_datetime should \\\n",
        "                                                       be specified or lookback should be specified but \\\n",
        "                                                       both cases should not happen simultaneously.\")\n",
        "\n",
        "class CalculateTrend(BaseTool):\n",
        "    name = \"CalculateTrend\"\n",
        "    description = \"\"\"Analyzes the trend of a specified financial instrument over a given time range. It is designed primarily for financial data analysis, enabling users to gauge the general direction of a security or market index. Whether start_datetime with end_datetime, end_datetime with lookback or lookback parameters could be valued for determining the period over which's trend wants to be detected. The function returns a numerical value that indicates the trend intensity and direction within the specified parameters. Returns a number between -3 and 3 that represents the trend’s intensity and direction. The value is interpreted as follows:\n",
        "                     -3: strong bearish (downward) trend\n",
        "                     -2: moderate bearish (downward) trend\n",
        "                     -1: mild bearish (downward) trend\n",
        "                     0: without significant trend\n",
        "                     3: strong bullish (upward) trend\n",
        "                     2: moderate bullish (upward) trend\n",
        "                     1: mild bullish (upward) trend.\"\"\"\n",
        "\n",
        "    args_schema: Type[BaseModel] = PropertiesCalculateTrend\n",
        "\n",
        "    def _run(\n",
        "        self, symbol: str, start_datetime: str, end_datetime: str = None, lookback: str = None\n",
        "    ) -> dict:\n",
        "        parameters = {\n",
        "                      \"symbol\": symbol,\n",
        "                      \"start_datetime\": start_datetime,\n",
        "                      \"end_datetime\": end_datetime,\n",
        "                      \"lookback\": lookback\n",
        "                      }\n",
        "\n",
        "        return fc.detect_trend(parameters)\n",
        "        # return {\"levels_prices\": [0.25, 0.5], \"levels_start_timestamps\": [None, None], \"levels_end_timestamps\": [None, None], \"levels_scores\": [0.1, 0.2]}\n",
        "\n",
        "trend = CalculateTrend()"
      ],
      "metadata": {
        "id": "ZM38gBSZEjBk"
      },
      "execution_count": 15,
      "outputs": []
    },
    {
      "cell_type": "markdown",
      "source": [
        "##Calculate Support and Resistance Levels:"
      ],
      "metadata": {
        "id": "AahZLwrkH-G-"
      }
    },
    {
      "cell_type": "code",
      "source": [
        "class PropertiesCalculateSR(BaseModel):\n",
        "    symbol: str = Field(..., description=\"The ticker symbol of the financial instrument to be analyzed.\")\n",
        "    timeframe: str = Field(..., description=\"Specifies the timeframe of the candlestick chart to be analyzed. \\\n",
        "                                             This parameter defines the granularity of the data used for calculating the levels. \\\n",
        "                                             The only allowed formats would like 3h, 20min, 1d.\")\n",
        "    lookback_days: Optional[str] = Field(None, description=\"The number of days to look back for calculating the support and resistance levels. \\\n",
        "                                                            This parameter determines the depth of historical data to be considered in the \\\n",
        "                                                            analysis.\")\n",
        "\n",
        "class CalculateSR(BaseTool):\n",
        "    name = \"CalculateSR\"\n",
        "    description = \"\"\"This function analyzes candlestick charts over a specified\n",
        "                     timeframe and lookback period to calculate these levels and their respective strengths. Returns a dictionary\n",
        "                     containing four lists, each corresponding to a specific aspect of the calculated support and resistance levels:\n",
        "                     1.levels_prices (list of floats): The prices at which support and resistance levels have been identified.\n",
        "                     2.levels_start_timestamps (list of timestamps): The starting timestamps for each identified level, indicating when the level first became relevant.\n",
        "                     3.levels_end_timestamps (list of timestamps): The ending timestamps for each level, marking when the level was last relevant.\n",
        "                     4.levels_scores (list of floats): Scores associated with each level, indicating the strength or significance of the level. Higher scores typically imply stronger levels.\"\"\"\n",
        "\n",
        "    args_schema: Type[BaseModel] = PropertiesCalculateSR\n",
        "\n",
        "    def _run(\n",
        "        self, symbol: str, timeframe: str, lookback_days: str = None\n",
        "    ) -> dict:\n",
        "        parameters = {\n",
        "                      \"symbol\": symbol,\n",
        "                      \"timeframe\": timeframe,\n",
        "                      \"lookback_days\": lookback_days\n",
        "                      }\n",
        "\n",
        "        return fc.calculate_sr(parameters)\n",
        "        # return {\"levels_prices\": [0.25, 0.5], \"levels_start_timestamps\": [None, None], \"levels_end_timestamps\": [None, None], \"levels_scores\": [0.1, 0.2]}\n",
        "\n",
        "SR = CalculateSR()"
      ],
      "metadata": {
        "id": "Gv2RBUw3H6s_"
      },
      "execution_count": 16,
      "outputs": []
    },
    {
      "cell_type": "markdown",
      "source": [
        "##Bias detection"
      ],
      "metadata": {
        "id": "ALEtGCoWoI_2"
      }
    },
    {
      "cell_type": "code",
      "source": [
        "class PropertiesBiasDetection(BaseModel):\n",
        "    symbol: str = Field(..., description=\"The ticker symbol of the financial instrument to be analyzed.\")\n",
        "    method: str = Field(..., description=\"The user can choose from different methods including MC, Zigzag trend, \\\n",
        "                                          Trend detection, weekly wvap, candle stick pattern, cross ma, \\\n",
        "                                          vp detection ,power & counter ratio.\")\n",
        "\n",
        "class BiasDetection(BaseTool):\n",
        "    name = \"BiasDetection\"\n",
        "    description = \"\"\"Detecting trading bias through different methods or Detecting the appropriate entry point for a long or short trade.\n",
        "                     Returns a number between -3 and 3 that represents the trend’s intensity and direction. The value is interpreted as follows:\n",
        "                     -3: Strong downward , -2: downward -1: Weak downward, 0: No significant trend / Neutral, 1: Weak upward, 2.upward, 3: Strong upward\"\"\"\n",
        "\n",
        "    args_schema: Type[BaseModel] = PropertiesBiasDetection\n",
        "\n",
        "    def _run(\n",
        "        self, symbol: str, method: str\n",
        "    ) -> dict:\n",
        "        parameters = {\n",
        "                      \"symbol\": symbol,\n",
        "                      \"method\": method\n",
        "                      }\n",
        "\n",
        "        return fc.bias_detection(parameters)\n",
        "\n",
        "Bias = BiasDetection()"
      ],
      "metadata": {
        "id": "Xj0NnY7OoRtF"
      },
      "execution_count": 17,
      "outputs": []
    },
    {
      "cell_type": "markdown",
      "source": [
        "## Financial tools"
      ],
      "metadata": {
        "id": "LwjkTlbXlsgC"
      }
    },
    {
      "cell_type": "code",
      "source": [
        "from langchain.tools.yahoo_finance_news import YahooFinanceNewsTool\n",
        "from langchain.text_splitter            import CharacterTextSplitter\n",
        "from langchain.embeddings               import OpenAIEmbeddings\n",
        "from langchain_community.vectorstores   import FAISS\n",
        "from unstructured.partition.html        import partition_html\n",
        "from sec_api                            import QueryApi\n",
        "import requests\n",
        "import json"
      ],
      "metadata": {
        "id": "7_Y5zF-Ol0oi"
      },
      "execution_count": null,
      "outputs": []
    },
    {
      "cell_type": "code",
      "source": [
        "api_type = \"azure\"\n",
        "api_endpoint = 'https://tensurfbrain1.openai.azure.com/'\n",
        "api_version = '2023-10-01-preview'\n",
        "api_key = '80ddd1ad72504f2fa226755d49491a61'"
      ],
      "metadata": {
        "id": "k1sZSRy4cGWU"
      },
      "execution_count": null,
      "outputs": []
    },
    {
      "cell_type": "code",
      "source": [
        "import os\n",
        "from openai import AzureOpenAI"
      ],
      "metadata": {
        "id": "Uj86R_SODN7t"
      },
      "execution_count": null,
      "outputs": []
    },
    {
      "cell_type": "code",
      "source": [
        "api_type = \"azure\"\n",
        "api_endpoint = 'https://tensurfbrain1.openai.azure.com/'\n",
        "api_version = '2023-10-01-preview'\n",
        "api_key = '80ddd1ad72504f2fa226755d49491a61'"
      ],
      "metadata": {
        "id": "IojgHYsIDP7j"
      },
      "execution_count": null,
      "outputs": []
    },
    {
      "cell_type": "code",
      "source": [
        "client = AzureOpenAI(\n",
        "    api_key=api_key,\n",
        "    api_version=api_version,\n",
        "    azure_endpoint=api_endpoint\n",
        ")"
      ],
      "metadata": {
        "id": "Z4wONgm_DpdO"
      },
      "execution_count": null,
      "outputs": []
    },
    {
      "cell_type": "code",
      "source": [
        "def generate_embeddings(text, model='embedding-ada-002'):\n",
        "  return client.embeddings.create(input = [text], model=model).data[0].embedding"
      ],
      "metadata": {
        "id": "qNPoFrgXDVvZ"
      },
      "execution_count": null,
      "outputs": []
    },
    {
      "cell_type": "markdown",
      "source": [
        "### Search tools:"
      ],
      "metadata": {
        "id": "ZXLc0iHYZ48v"
      }
    },
    {
      "cell_type": "code",
      "source": [
        "class PropertiesSearchTheInternet(BaseModel):\n",
        "    query: str = Field(..., description=\"A random topic that will be searched on the internet\")\n",
        "\n",
        "\n",
        "class SearchTheInternet(BaseTool):\n",
        "    name = \"SearchTheInternet\"\n",
        "    description = \"\"\"Useful to search the internet about a a given topic and return relevant results\"\"\"\n",
        "\n",
        "    args_schema: Type[BaseModel] = PropertiesSearchTheInternet\n",
        "\n",
        "    def _run(\n",
        "        self, query: str\n",
        "    ) -> dict:\n",
        "            top_result_to_return = 4\n",
        "            url = \"https://google.serper.dev/search\"\n",
        "            payload = json.dumps({\"q\": query})\n",
        "            headers = {\n",
        "                'X-API-KEY': '77976766163a61a4bae1ed8672ae79e916955783',\n",
        "                'content-type': 'application/json'\n",
        "            }\n",
        "            response = requests.request(\"POST\", url, headers=headers, data=payload)\n",
        "            results = response.json()['organic']\n",
        "            string = []\n",
        "            for result in results[:top_result_to_return]:\n",
        "              try:\n",
        "                string.append('\\n'.join([\n",
        "                    f\"Title: {result['title']}\", f\"Link: {result['link']}\",\n",
        "                    f\"Snippet: {result['snippet']}\", \"\\n-----------------\"\n",
        "                ]))\n",
        "              except KeyError:\n",
        "                next\n",
        "\n",
        "            return '\\n'.join(string)\n",
        "\n",
        "SearchInternet = SearchTheInternet()"
      ],
      "metadata": {
        "id": "280xJBiDmFrH"
      },
      "execution_count": null,
      "outputs": []
    },
    {
      "cell_type": "code",
      "source": [
        "SearchInternet.run(\"Apple\")"
      ],
      "metadata": {
        "colab": {
          "base_uri": "https://localhost:8080/",
          "height": 140
        },
        "id": "J6Ou8CTPZIp9",
        "outputId": "282c9765-8850-49c5-cc75-59cb5150b2ea"
      },
      "execution_count": null,
      "outputs": [
        {
          "output_type": "execute_result",
          "data": {
            "text/plain": [
              "\"Title: Apple\\nLink: https://www.apple.com/\\nSnippet: Apple Footer · 1. · Available in the U.S. on apple.com, in the Apple Store app, and at Apple Stores. · To access and use all Apple Card features and products ...\\n\\n-----------------\\nTitle: Apple Inc. - Wikipedia\\nLink: https://en.wikipedia.org/wiki/Apple_Inc.\\nSnippet: Apple Inc. (formerly Apple Computer, Inc.) is an American multinational corporation and technology company headquartered in Cupertino, California, ...\\n\\n-----------------\\nTitle: iCloud\\nLink: https://www.icloud.com/\\nSnippet: Log in to iCloud to access your photos, mail, notes, documents and more. Sign in with your Apple ID or create a new account to start using Apple services.\\n\\n-----------------\\nTitle: Apple - YouTube\\nLink: https://www.youtube.com/@Apple\\nSnippet: Welcome to the official Apple YouTube channel. Here you'll find news about product launches, tutorials, and other great content.\\n\\n-----------------\""
            ],
            "application/vnd.google.colaboratory.intrinsic+json": {
              "type": "string"
            }
          },
          "metadata": {},
          "execution_count": 34
        }
      ]
    },
    {
      "cell_type": "code",
      "source": [
        "class PropertiesSearchNews(BaseModel):\n",
        "    query: str = Field(..., description=\"A random topic that will be searched on the internet\")\n",
        "\n",
        "\n",
        "class SearchNews(BaseTool):\n",
        "    name = \"SearchNews\"\n",
        "    description = \"\"\"Useful to search news about a company, stock or any other topic and return relevant results\"\"\"\n",
        "\n",
        "    args_schema: Type[BaseModel] = PropertiesSearchNews\n",
        "\n",
        "    def _run(\n",
        "        self, query: str\n",
        "    ) -> dict:\n",
        "            top_result_to_return = 4\n",
        "            url = \"https://google.serper.dev/news\"\n",
        "            payload = json.dumps({\"q\": query})\n",
        "            headers = {\n",
        "                'X-API-KEY': '77976766163a61a4bae1ed8672ae79e916955783',\n",
        "                'content-type': 'application/json'\n",
        "            }\n",
        "            response = requests.request(\"POST\", url, headers=headers, data=payload)\n",
        "            results = response.json()['news']\n",
        "            string = []\n",
        "            for result in results[:top_result_to_return]:\n",
        "              try:\n",
        "                string.append('\\n'.join([\n",
        "                    f\"Title: {result['title']}\", f\"Link: {result['link']}\",\n",
        "                    f\"Snippet: {result['snippet']}\", \"\\n-----------------\"\n",
        "                ]))\n",
        "              except KeyError:\n",
        "                next\n",
        "\n",
        "            return '\\n'.join(string)\n",
        "\n",
        "NewsSearch = SearchNews()"
      ],
      "metadata": {
        "id": "EawXSHEOXRFq"
      },
      "execution_count": null,
      "outputs": []
    },
    {
      "cell_type": "code",
      "source": [
        "NewsSearch.run(\"NQ\")"
      ],
      "metadata": {
        "colab": {
          "base_uri": "https://localhost:8080/",
          "height": 140
        },
        "id": "nNVEG3bmZzf0",
        "outputId": "546c60a9-e734-40ff-8bb1-3791111a7f2d"
      },
      "execution_count": null,
      "outputs": [
        {
          "output_type": "execute_result",
          "data": {
            "text/plain": [
              "\"Title: NQ salary war: What are young lawyers being paid in the City?\\nLink: https://uk.finance.yahoo.com/news/nq-salary-war-young-lawyers-080120080.html\\nSnippet: In the last two weeks, two notable City law firms have raised the salaries of their young, newly qualified (NQ) lawyers – a sure sign that...\\n\\n-----------------\\nTitle: Quinn Emanuel Hikes London NQ Pay to £180K\\nLink: https://www.law.com/international-edition/2024/05/10/quinn-emanuel-hikes-london-nq-pay-to-180k/\\nSnippet: The raise follows Freshfields's increase earlier this month with some suggesting it signals a revival of the pay war.\\n\\n-----------------\\nTitle: Quinn Emanuel ups London NQ pay to £180k\\nLink: https://www.globallegalpost.com/news/quinn-emanuel-ups-london-nq-pay-to-ps180k-1799807658\\nSnippet: Litigation heavyweight matches Gibson Dunn's market-topping NQ pay as it ups associate salaries across the board.\\n\\n-----------------\\nTitle: Quinn Emanuel hikes NQ lawyer pay to market topping £180k\\nLink: https://www.legalcheek.com/2024/05/quinn-emanuel-hikes-nq-lawyer-pay-to-market-topping-180k/\\nSnippet: US law firm Quinn Emanuel has increased salaries in its London office, with newly qualified (NQ) associates now earning a staggering...\\n\\n-----------------\""
            ],
            "application/vnd.google.colaboratory.intrinsic+json": {
              "type": "string"
            }
          },
          "metadata": {},
          "execution_count": 40
        }
      ]
    },
    {
      "cell_type": "markdown",
      "source": [
        "### SECTools:"
      ],
      "metadata": {
        "id": "etCFxbh3Z8iv"
      }
    },
    {
      "cell_type": "code",
      "source": [
        "def download_form_html(url):\n",
        "  headers = {\n",
        "    'Accept': 'text/html,application/xhtml+xml,application/xml;q=0.9,image/avif,image/webp,image/apng,*/*;q=0.8,application/signed-exchange;v=b3;q=0.7',\n",
        "    'Accept-Encoding': 'gzip, deflate, br',\n",
        "    'Accept-Language': 'en-US,en;q=0.9,pt-BR;q=0.8,pt;q=0.7',\n",
        "    'Cache-Control': 'max-age=0',\n",
        "    'Dnt': '1',\n",
        "    'Sec-Ch-Ua': '\"Not_A Brand\";v=\"8\", \"Chromium\";v=\"120\"',\n",
        "    'Sec-Ch-Ua-Mobile': '?0',\n",
        "    'Sec-Ch-Ua-Platform': '\"macOS\"',\n",
        "    'Sec-Fetch-Dest': 'document',\n",
        "    'Sec-Fetch-Mode': 'navigate',\n",
        "    'Sec-Fetch-Site': 'none',\n",
        "    'Sec-Fetch-User': '?1',\n",
        "    'Upgrade-Insecure-Requests': '1',\n",
        "    'User-Agent': 'Mozilla/5.0 (Macintosh; Intel Mac OS X 10_15_7) AppleWebKit/537.36 (KHTML, like Gecko) Chrome/120.0.0.0 Safari/537.36'\n",
        "  }\n",
        "\n",
        "  response = requests.get(url, headers=headers)\n",
        "\n",
        "  return response.text"
      ],
      "metadata": {
        "id": "TvUHS5EHbzb2"
      },
      "execution_count": null,
      "outputs": []
    },
    {
      "cell_type": "code",
      "source": [
        "def embedding_search(url, ask):\n",
        "  text = download_form_html(url)\n",
        "  elements = partition_html(text=text)\n",
        "  content = \"\\n\".join([str(el) for el in elements])\n",
        "  text_splitter = CharacterTextSplitter(\n",
        "      separator = \"\\n\",\n",
        "      chunk_size = 1000,\n",
        "      chunk_overlap  = 150,\n",
        "      length_function = len,\n",
        "      is_separator_regex = False,\n",
        "  )\n",
        "  docs = text_splitter.create_documents([content])\n",
        "  # text_embeddings = generate_embeddings(ask)\n",
        "  retriever = FAISS.from_documents(\n",
        "    docs, client.embeddings\n",
        "  ).as_retriever()\n",
        "  answers = retriever.get_relevant_documents(ask, top_k=4)\n",
        "  answers = \"\\n\\n\".join([a.page_content for a in answers])\n",
        "\n",
        "  return answers"
      ],
      "metadata": {
        "id": "Pl1QuMSZb2sL"
      },
      "execution_count": null,
      "outputs": []
    },
    {
      "cell_type": "code",
      "source": [
        "class PropertiesSearch10q(BaseModel):\n",
        "    stock: str = Field(..., description=\"A random stock.\")\n",
        "    ask: str = Field(..., description=\"Question from the 10-Q of the stock\")\n",
        "\n",
        "\n",
        "class Search10q(BaseTool):\n",
        "    name = \"Search10q\"\n",
        "    description = \"\"\"Useful to search information from the latest 10-Q form for a given stock.\n",
        "                     The input to this tool should be a pipe (|) separated text of\n",
        "                     length two, representing the stock ticker you are interested and what\n",
        "                     question you have from it.\n",
        "                     For example, `AAPL|what was last quarter's revenue`.\"\"\"\n",
        "\n",
        "    args_schema: Type[BaseModel] = PropertiesSearch10q\n",
        "\n",
        "    def _run(\n",
        "        self, stock: str, ask: str\n",
        "    ) -> dict:\n",
        "            queryApi = QueryApi(api_key=\"befd094ddadf6a9e080bf194b6d9197e753ec1d4226fc8e595ed717b2f1bc3a5\")\n",
        "            query = {\n",
        "              \"query\": {\n",
        "                \"query_string\": {\n",
        "                  \"query\": f\"ticker:{stock} AND formType:\\\"10-Q\\\"\"\n",
        "                }\n",
        "              },\n",
        "              \"from\": \"0\",\n",
        "              \"size\": \"1\",\n",
        "              \"sort\": [{ \"filedAt\": { \"order\": \"desc\" }}]\n",
        "            }\n",
        "\n",
        "            fillings = queryApi.get_filings(query)['filings']\n",
        "            if len(fillings) == 0:\n",
        "              return \"Sorry, I couldn't find any filling for this stock, check if the ticker is correct.\"\n",
        "            link = fillings[0]['linkToFilingDetails']\n",
        "            answer = embedding_search(link, ask)\n",
        "            return answer\n",
        "\n",
        "TenQ = Search10q()"
      ],
      "metadata": {
        "id": "CbRpT87iaNZy"
      },
      "execution_count": null,
      "outputs": []
    },
    {
      "cell_type": "code",
      "source": [
        "TenQ.run({\"stock\":\"AAPL\", \"ask\":\"what was last quarter's revenue.\"})"
      ],
      "metadata": {
        "colab": {
          "base_uri": "https://localhost:8080/",
          "height": 425
        },
        "id": "zpdtHTRAcJ72",
        "outputId": "c4568820-2df2-42ee-c133-ce9b4c7037b3"
      },
      "execution_count": null,
      "outputs": [
        {
          "output_type": "stream",
          "name": "stderr",
          "text": [
            "WARNING:langchain_text_splitters.base:Created a chunk of size 1102, which is longer than the specified 1000\n",
            "WARNING:langchain_text_splitters.base:Created a chunk of size 1057, which is longer than the specified 1000\n",
            "WARNING:langchain_text_splitters.base:Created a chunk of size 1417, which is longer than the specified 1000\n",
            "WARNING:langchain_text_splitters.base:Created a chunk of size 1331, which is longer than the specified 1000\n",
            "WARNING:langchain_text_splitters.base:Created a chunk of size 1714, which is longer than the specified 1000\n",
            "WARNING:langchain_text_splitters.base:Created a chunk of size 1010, which is longer than the specified 1000\n",
            "WARNING:langchain_text_splitters.base:Created a chunk of size 1143, which is longer than the specified 1000\n",
            "WARNING:langchain_text_splitters.base:Created a chunk of size 1039, which is longer than the specified 1000\n"
          ]
        },
        {
          "output_type": "error",
          "ename": "AttributeError",
          "evalue": "'Embeddings' object has no attribute 'embed_documents'",
          "traceback": [
            "\u001b[0;31m---------------------------------------------------------------------------\u001b[0m",
            "\u001b[0;31mAttributeError\u001b[0m                            Traceback (most recent call last)",
            "\u001b[0;32m<ipython-input-47-3acbd8d3d167>\u001b[0m in \u001b[0;36m<cell line: 1>\u001b[0;34m()\u001b[0m\n\u001b[0;32m----> 1\u001b[0;31m \u001b[0mTenQ\u001b[0m\u001b[0;34m.\u001b[0m\u001b[0mrun\u001b[0m\u001b[0;34m(\u001b[0m\u001b[0;34m{\u001b[0m\u001b[0;34m\"stock\"\u001b[0m\u001b[0;34m:\u001b[0m\u001b[0;34m\"AAPL\"\u001b[0m\u001b[0;34m,\u001b[0m \u001b[0;34m\"ask\"\u001b[0m\u001b[0;34m:\u001b[0m\u001b[0;34m\"what was last quarter's revenue.\"\u001b[0m\u001b[0;34m}\u001b[0m\u001b[0;34m)\u001b[0m\u001b[0;34m\u001b[0m\u001b[0;34m\u001b[0m\u001b[0m\n\u001b[0m",
            "\u001b[0;32m/usr/local/lib/python3.10/dist-packages/langchain_core/tools.py\u001b[0m in \u001b[0;36mrun\u001b[0;34m(self, tool_input, verbose, start_color, color, callbacks, tags, metadata, run_name, run_id, config, **kwargs)\u001b[0m\n\u001b[1;32m    450\u001b[0m         \u001b[0;32mexcept\u001b[0m \u001b[0;34m(\u001b[0m\u001b[0mException\u001b[0m\u001b[0;34m,\u001b[0m \u001b[0mKeyboardInterrupt\u001b[0m\u001b[0;34m)\u001b[0m \u001b[0;32mas\u001b[0m \u001b[0me\u001b[0m\u001b[0;34m:\u001b[0m\u001b[0;34m\u001b[0m\u001b[0;34m\u001b[0m\u001b[0m\n\u001b[1;32m    451\u001b[0m             \u001b[0mrun_manager\u001b[0m\u001b[0;34m.\u001b[0m\u001b[0mon_tool_error\u001b[0m\u001b[0;34m(\u001b[0m\u001b[0me\u001b[0m\u001b[0;34m)\u001b[0m\u001b[0;34m\u001b[0m\u001b[0;34m\u001b[0m\u001b[0m\n\u001b[0;32m--> 452\u001b[0;31m             \u001b[0;32mraise\u001b[0m \u001b[0me\u001b[0m\u001b[0;34m\u001b[0m\u001b[0;34m\u001b[0m\u001b[0m\n\u001b[0m\u001b[1;32m    453\u001b[0m         \u001b[0;32melse\u001b[0m\u001b[0;34m:\u001b[0m\u001b[0;34m\u001b[0m\u001b[0;34m\u001b[0m\u001b[0m\n\u001b[1;32m    454\u001b[0m             \u001b[0mrun_manager\u001b[0m\u001b[0;34m.\u001b[0m\u001b[0mon_tool_end\u001b[0m\u001b[0;34m(\u001b[0m\u001b[0mobservation\u001b[0m\u001b[0;34m,\u001b[0m \u001b[0mcolor\u001b[0m\u001b[0;34m=\u001b[0m\u001b[0mcolor\u001b[0m\u001b[0;34m,\u001b[0m \u001b[0mname\u001b[0m\u001b[0;34m=\u001b[0m\u001b[0mself\u001b[0m\u001b[0;34m.\u001b[0m\u001b[0mname\u001b[0m\u001b[0;34m,\u001b[0m \u001b[0;34m**\u001b[0m\u001b[0mkwargs\u001b[0m\u001b[0;34m)\u001b[0m\u001b[0;34m\u001b[0m\u001b[0;34m\u001b[0m\u001b[0m\n",
            "\u001b[0;32m/usr/local/lib/python3.10/dist-packages/langchain_core/tools.py\u001b[0m in \u001b[0;36mrun\u001b[0;34m(self, tool_input, verbose, start_color, color, callbacks, tags, metadata, run_name, run_id, config, **kwargs)\u001b[0m\n\u001b[1;32m    411\u001b[0m                 )\n\u001b[1;32m    412\u001b[0m                 \u001b[0;32mif\u001b[0m \u001b[0mnew_arg_supported\u001b[0m\u001b[0;34m\u001b[0m\u001b[0;34m\u001b[0m\u001b[0m\n\u001b[0;32m--> 413\u001b[0;31m                 \u001b[0;32melse\u001b[0m \u001b[0mcontext\u001b[0m\u001b[0;34m.\u001b[0m\u001b[0mrun\u001b[0m\u001b[0;34m(\u001b[0m\u001b[0mself\u001b[0m\u001b[0;34m.\u001b[0m\u001b[0m_run\u001b[0m\u001b[0;34m,\u001b[0m \u001b[0;34m*\u001b[0m\u001b[0mtool_args\u001b[0m\u001b[0;34m,\u001b[0m \u001b[0;34m**\u001b[0m\u001b[0mtool_kwargs\u001b[0m\u001b[0;34m)\u001b[0m\u001b[0;34m\u001b[0m\u001b[0;34m\u001b[0m\u001b[0m\n\u001b[0m\u001b[1;32m    414\u001b[0m             )\n\u001b[1;32m    415\u001b[0m         \u001b[0;32mexcept\u001b[0m \u001b[0mValidationError\u001b[0m \u001b[0;32mas\u001b[0m \u001b[0me\u001b[0m\u001b[0;34m:\u001b[0m\u001b[0;34m\u001b[0m\u001b[0;34m\u001b[0m\u001b[0m\n",
            "\u001b[0;32m<ipython-input-46-256cef835a2c>\u001b[0m in \u001b[0;36m_run\u001b[0;34m(self, stock, ask)\u001b[0m\n\u001b[1;32m     33\u001b[0m               \u001b[0;32mreturn\u001b[0m \u001b[0;34m\"Sorry, I couldn't find any filling for this stock, check if the ticker is correct.\"\u001b[0m\u001b[0;34m\u001b[0m\u001b[0;34m\u001b[0m\u001b[0m\n\u001b[1;32m     34\u001b[0m             \u001b[0mlink\u001b[0m \u001b[0;34m=\u001b[0m \u001b[0mfillings\u001b[0m\u001b[0;34m[\u001b[0m\u001b[0;36m0\u001b[0m\u001b[0;34m]\u001b[0m\u001b[0;34m[\u001b[0m\u001b[0;34m'linkToFilingDetails'\u001b[0m\u001b[0;34m]\u001b[0m\u001b[0;34m\u001b[0m\u001b[0;34m\u001b[0m\u001b[0m\n\u001b[0;32m---> 35\u001b[0;31m             \u001b[0manswer\u001b[0m \u001b[0;34m=\u001b[0m \u001b[0membedding_search\u001b[0m\u001b[0;34m(\u001b[0m\u001b[0mlink\u001b[0m\u001b[0;34m,\u001b[0m \u001b[0mask\u001b[0m\u001b[0;34m)\u001b[0m\u001b[0;34m\u001b[0m\u001b[0;34m\u001b[0m\u001b[0m\n\u001b[0m\u001b[1;32m     36\u001b[0m             \u001b[0;32mreturn\u001b[0m \u001b[0manswer\u001b[0m\u001b[0;34m\u001b[0m\u001b[0;34m\u001b[0m\u001b[0m\n\u001b[1;32m     37\u001b[0m \u001b[0;34m\u001b[0m\u001b[0m\n",
            "\u001b[0;32m<ipython-input-45-0e5e0343374e>\u001b[0m in \u001b[0;36membedding_search\u001b[0;34m(url, ask)\u001b[0m\n\u001b[1;32m     12\u001b[0m   \u001b[0mdocs\u001b[0m \u001b[0;34m=\u001b[0m \u001b[0mtext_splitter\u001b[0m\u001b[0;34m.\u001b[0m\u001b[0mcreate_documents\u001b[0m\u001b[0;34m(\u001b[0m\u001b[0;34m[\u001b[0m\u001b[0mcontent\u001b[0m\u001b[0;34m]\u001b[0m\u001b[0;34m)\u001b[0m\u001b[0;34m\u001b[0m\u001b[0;34m\u001b[0m\u001b[0m\n\u001b[1;32m     13\u001b[0m   \u001b[0;31m# text_embeddings = generate_embeddings(ask)\u001b[0m\u001b[0;34m\u001b[0m\u001b[0;34m\u001b[0m\u001b[0m\n\u001b[0;32m---> 14\u001b[0;31m   retriever = FAISS.from_documents(\n\u001b[0m\u001b[1;32m     15\u001b[0m     \u001b[0mdocs\u001b[0m\u001b[0;34m,\u001b[0m \u001b[0mclient\u001b[0m\u001b[0;34m.\u001b[0m\u001b[0membeddings\u001b[0m\u001b[0;34m\u001b[0m\u001b[0;34m\u001b[0m\u001b[0m\n\u001b[1;32m     16\u001b[0m   ).as_retriever()\n",
            "\u001b[0;32m/usr/local/lib/python3.10/dist-packages/langchain_core/vectorstores.py\u001b[0m in \u001b[0;36mfrom_documents\u001b[0;34m(cls, documents, embedding, **kwargs)\u001b[0m\n\u001b[1;32m    548\u001b[0m         \u001b[0mtexts\u001b[0m \u001b[0;34m=\u001b[0m \u001b[0;34m[\u001b[0m\u001b[0md\u001b[0m\u001b[0;34m.\u001b[0m\u001b[0mpage_content\u001b[0m \u001b[0;32mfor\u001b[0m \u001b[0md\u001b[0m \u001b[0;32min\u001b[0m \u001b[0mdocuments\u001b[0m\u001b[0;34m]\u001b[0m\u001b[0;34m\u001b[0m\u001b[0;34m\u001b[0m\u001b[0m\n\u001b[1;32m    549\u001b[0m         \u001b[0mmetadatas\u001b[0m \u001b[0;34m=\u001b[0m \u001b[0;34m[\u001b[0m\u001b[0md\u001b[0m\u001b[0;34m.\u001b[0m\u001b[0mmetadata\u001b[0m \u001b[0;32mfor\u001b[0m \u001b[0md\u001b[0m \u001b[0;32min\u001b[0m \u001b[0mdocuments\u001b[0m\u001b[0;34m]\u001b[0m\u001b[0;34m\u001b[0m\u001b[0;34m\u001b[0m\u001b[0m\n\u001b[0;32m--> 550\u001b[0;31m         \u001b[0;32mreturn\u001b[0m \u001b[0mcls\u001b[0m\u001b[0;34m.\u001b[0m\u001b[0mfrom_texts\u001b[0m\u001b[0;34m(\u001b[0m\u001b[0mtexts\u001b[0m\u001b[0;34m,\u001b[0m \u001b[0membedding\u001b[0m\u001b[0;34m,\u001b[0m \u001b[0mmetadatas\u001b[0m\u001b[0;34m=\u001b[0m\u001b[0mmetadatas\u001b[0m\u001b[0;34m,\u001b[0m \u001b[0;34m**\u001b[0m\u001b[0mkwargs\u001b[0m\u001b[0;34m)\u001b[0m\u001b[0;34m\u001b[0m\u001b[0;34m\u001b[0m\u001b[0m\n\u001b[0m\u001b[1;32m    551\u001b[0m \u001b[0;34m\u001b[0m\u001b[0m\n\u001b[1;32m    552\u001b[0m     \u001b[0;34m@\u001b[0m\u001b[0mclassmethod\u001b[0m\u001b[0;34m\u001b[0m\u001b[0;34m\u001b[0m\u001b[0m\n",
            "\u001b[0;32m/usr/local/lib/python3.10/dist-packages/langchain_community/vectorstores/faiss.py\u001b[0m in \u001b[0;36mfrom_texts\u001b[0;34m(cls, texts, embedding, metadatas, ids, **kwargs)\u001b[0m\n\u001b[1;32m    928\u001b[0m                 \u001b[0mfaiss\u001b[0m \u001b[0;34m=\u001b[0m \u001b[0mFAISS\u001b[0m\u001b[0;34m.\u001b[0m\u001b[0mfrom_texts\u001b[0m\u001b[0;34m(\u001b[0m\u001b[0mtexts\u001b[0m\u001b[0;34m,\u001b[0m \u001b[0membeddings\u001b[0m\u001b[0;34m)\u001b[0m\u001b[0;34m\u001b[0m\u001b[0;34m\u001b[0m\u001b[0m\n\u001b[1;32m    929\u001b[0m         \"\"\"\n\u001b[0;32m--> 930\u001b[0;31m         \u001b[0membeddings\u001b[0m \u001b[0;34m=\u001b[0m \u001b[0membedding\u001b[0m\u001b[0;34m.\u001b[0m\u001b[0membed_documents\u001b[0m\u001b[0;34m(\u001b[0m\u001b[0mtexts\u001b[0m\u001b[0;34m)\u001b[0m\u001b[0;34m\u001b[0m\u001b[0;34m\u001b[0m\u001b[0m\n\u001b[0m\u001b[1;32m    931\u001b[0m         return cls.__from(\n\u001b[1;32m    932\u001b[0m             \u001b[0mtexts\u001b[0m\u001b[0;34m,\u001b[0m\u001b[0;34m\u001b[0m\u001b[0;34m\u001b[0m\u001b[0m\n",
            "\u001b[0;31mAttributeError\u001b[0m: 'Embeddings' object has no attribute 'embed_documents'"
          ]
        }
      ]
    },
    {
      "cell_type": "code",
      "source": [
        "class PropertiesSearch10k(BaseModel):\n",
        "    stock: str = Field(..., description=\"A random stock.\")\n",
        "    ask: str = Field(..., description=\"Question from the 10-k of the stock\")\n",
        "\n",
        "\n",
        "class Search10k(BaseTool):\n",
        "    name = \"Search10k\"\n",
        "    description = \"\"\"Useful to search information from the latest 10-K form for a given stock.\n",
        "                     The input to this tool should be a pipe (|) separated text of\n",
        "                     length two, representing the stock ticker you are interested, what\n",
        "                     question you have from it.\n",
        "                     For example, `AAPL|what was last year's revenue`.\"\"\"\n",
        "\n",
        "    args_schema: Type[BaseModel] = PropertiesSearch10k\n",
        "\n",
        "    def _run(\n",
        "        self, stock: str, ask: str\n",
        "    ) -> dict:\n",
        "            queryApi = QueryApi(api_key=\"befd094ddadf6a9e080bf194b6d9197e753ec1d4226fc8e595ed717b2f1bc3a5\")\n",
        "            query = {\n",
        "              \"query\": {\n",
        "                \"query_string\": {\n",
        "                  \"query\": f\"ticker:{stock} AND formType:\\\"10-K\\\"\"\n",
        "                }\n",
        "              },\n",
        "              \"from\": \"0\",\n",
        "              \"size\": \"1\",\n",
        "              \"sort\": [{ \"filedAt\": { \"order\": \"desc\" }}]\n",
        "            }\n",
        "\n",
        "            fillings = queryApi.get_filings(query)['filings']\n",
        "            if len(fillings) == 0:\n",
        "              return \"Sorry, I couldn't find any filling for this stock, check if the ticker is correct.\"\n",
        "            link = fillings[0]['linkToFilingDetails']\n",
        "            answer = embedding_search(link, ask)\n",
        "            return answer\n",
        "\n",
        "Tenk = Search10k()"
      ],
      "metadata": {
        "id": "g4Qb73vldAkP"
      },
      "execution_count": null,
      "outputs": []
    },
    {
      "cell_type": "markdown",
      "source": [
        "##Openai utilites"
      ],
      "metadata": {
        "id": "nhFk82hXFm2b"
      }
    },
    {
      "cell_type": "code",
      "source": [
        "import os\n",
        "from openai import AzureOpenAI"
      ],
      "metadata": {
        "id": "rivfZPicJUKb"
      },
      "execution_count": 18,
      "outputs": []
    },
    {
      "cell_type": "code",
      "source": [
        "api_type = \"azure\"\n",
        "api_endpoint = 'https://tensurfbrain1.openai.azure.com/'\n",
        "api_version = '2023-10-01-preview'\n",
        "api_key = '80ddd1ad72504f2fa226755d49491a61'\n",
        "client = AzureOpenAI(\n",
        "    api_key= api_key,\n",
        "    api_version= api_version,\n",
        "    azure_endpoint= api_endpoint\n",
        ")"
      ],
      "metadata": {
        "id": "W16S_ST_JQA0"
      },
      "execution_count": 19,
      "outputs": []
    },
    {
      "cell_type": "code",
      "source": [
        "class ChatWithOpenai:\n",
        "  def __init__(self, system_message, model, temperature, max_tokens, client, default_user_messages=None):\n",
        "    self.system_message = system_message\n",
        "    self.model = model\n",
        "    self.temperature = temperature\n",
        "    self.max_tokens = max_tokens\n",
        "    self.client = client\n",
        "    self.messages = [{\"role\": \"system\", \"content\": system_message}]\n",
        "    if default_user_messages:\n",
        "      for user_message in default_user_messages:\n",
        "        self.messages += [{\"role\": \"user\", \"content\": user_message}]\n",
        "\n",
        "  def chat(self, user_input):\n",
        "    # print(self.messages + user_input)\n",
        "    response = self.client.chat.completions.create(\n",
        "        model=self.model,\n",
        "        messages=self.messages + user_input,\n",
        "        temperature=self.temperature,\n",
        "        max_tokens=self.max_tokens\n",
        "    )\n",
        "    return response.choices[0].message.content"
      ],
      "metadata": {
        "id": "JHliSi6UsYzU"
      },
      "execution_count": 20,
      "outputs": []
    },
    {
      "cell_type": "markdown",
      "source": [
        "##Irrelevant handler"
      ],
      "metadata": {
        "id": "Xr_s_UHkFGCT"
      }
    },
    {
      "cell_type": "code",
      "source": [
        "# message = \"'check the grammer for me?'\"\n",
        "# user_input = [{\"role\": \"user\", \"content\": message}]\n",
        "# handler_zero_openai.chat(user_input)"
      ],
      "metadata": {
        "id": "v5b3pyZJNYl3"
      },
      "execution_count": 21,
      "outputs": []
    },
    {
      "cell_type": "code",
      "source": [
        "# Handler.run(\"check the grammer for me?\")"
      ],
      "metadata": {
        "id": "T6nK6QWyOlx-"
      },
      "execution_count": 22,
      "outputs": []
    },
    {
      "cell_type": "code",
      "source": [
        "default_message = [\"Check the following text for greeting words and do as the system message said. \"]"
      ],
      "metadata": {
        "id": "GvR7waNZrJSZ"
      },
      "execution_count": 23,
      "outputs": []
    },
    {
      "cell_type": "code",
      "source": [
        "handler_zero_openai = ChatWithOpenai(system_message=\"You are an assistant. Your job is to check the user input Not answer it.\\\n",
        "                                                     If the user input contains greeting words like ‘hello’, ‘hi’, and so on, \\\n",
        "                                                     then you should remove these words. \\\n",
        "                                                     Note that the final response is either the input with the greeting word removed, \\\n",
        "                                                     or ‘None’ if the input consists only of a greeting word. \\\n",
        "                                                     if there is no greeting word in the input, the response is the last user input itself \\\n",
        "                                                     without any changes. \\\n",
        "                                                     No other responses are possible. \\\n",
        "                                                     Here are some examples and the valid responses: \\\n",
        "                                                     Example 1 (when there is no greeting word): \\\n",
        "                                                     { input: ‘What is the weather?’ response: ‘What is the weather?’ } \\\n",
        "                                                     Example 2 (when there is a greeting word): \\\n",
        "                                                     { input: ‘Hi can you speak French?’ response: ‘Can you speak French?’ } \\\n",
        "                                                     Example 3 (when there is just one or more greeting words): \\\n",
        "                                                     { input: ‘Hello.’ response: ‘None’ } \\\n",
        "                                                     Note that you are not permitted to answer user requests directly. \\\n",
        "                                                     Only perform the tasks instructed by system messages.\",\n",
        "\n",
        "                                      default_user_messages=default_message,\n",
        "                                      model=\"gpt_35_16k\",\n",
        "                                      temperature=0.2,\n",
        "                                      max_tokens=100,\n",
        "                                      client=client)"
      ],
      "metadata": {
        "id": "ry7DgJSZQT0g"
      },
      "execution_count": 24,
      "outputs": []
    },
    {
      "cell_type": "code",
      "source": [
        "handler_one_openai = ChatWithOpenai(system_message=\"You are an assistant. Your job is to check the user input, not answer it. \\\n",
        "                                                    We are a system with the name 'Tensurf Brain' or 'Tensurf'. \\\n",
        "                                                    If the user needs any information about us or needs a tutorial for \\\n",
        "                                                    how our system is working, your job is to detect these scenarios and respond with 'True'. \\\n",
        "                                                    If the user asks about you, the answer is also 'True'. \\\n",
        "                                                    Also, when the user is confused and doesn't know how to start or what to do, \\\n",
        "                                                    the answer is also 'True'. \\\n",
        "                                                    For any other input that doesn't classify in the tutorial or information \\\n",
        "                                                    about 'Tensurf Brain' or 'Tensurf' you should return false. \\\n",
        "                                                    Note that you are not permitted to answer user requests directly. \\\n",
        "                                                    Only perform the tasks instructed by system messages.\",\n",
        "                                    model=\"gpt_35_16k\",\n",
        "                                    temperature=0.2,\n",
        "                                    max_tokens=100,\n",
        "                                    client=client)"
      ],
      "metadata": {
        "id": "dx8bLNJsCY0U"
      },
      "execution_count": 25,
      "outputs": []
    },
    {
      "cell_type": "code",
      "source": [
        "handler_two_openai = ChatWithOpenai(system_message=\"You are an assistant. Your job is to check the user input. \\\n",
        "                                                    If the user input does not contain any financial and \\\n",
        "                                                    trading topics or requests, then you should answer only\\\n",
        "                                                    with ‘True’. Otherwise, return ‘False’. \\\n",
        "                                                    Possible responses for you are 'True' or 'False'. \\\n",
        "                                                    For example, the correct response to the question \\\n",
        "                                                    'What is the trend?' is 'False'.\",\n",
        "                              model=\"gpt_35_16k\",\n",
        "                              temperature=0,\n",
        "                              max_tokens=100,\n",
        "                              client=client)"
      ],
      "metadata": {
        "id": "Deg_ndB8NhcO"
      },
      "execution_count": 26,
      "outputs": []
    },
    {
      "cell_type": "code",
      "source": [
        "class HandleIrrelevantSchema(BaseModel):\n",
        "    massage: str = Field(..., description=\"The humanmassage\")\n",
        "\n",
        "\n",
        "class HandleIrrelevant(BaseTool):\n",
        "    name = \"HandleIrrelevant\"\n",
        "    description = \"\"\"This function checks if the message contains financial or trading subjects or not.\n",
        "                     The output of this function is either True or False and the possible output of this function are 'True' or 'False'.:\n",
        "                     True: when the message contains financial or trading subjects.\n",
        "                     False: when the message request is not in these fields.\"\"\"\n",
        "\n",
        "    args_schema: Type[BaseModel] = HandleIrrelevantSchema\n",
        "\n",
        "    def _run(\n",
        "        self, massage: str\n",
        "    ) -> dict:\n",
        "\n",
        "        user_input = [{\"role\": \"user\", \"content\": \"'\" + massage + \"'\"}]\n",
        "\n",
        "        modified_input = handler_zero_openai.chat(user_input)\n",
        "        # print(f\"inside handler func: {modified_input}\")\n",
        "        if modified_input == 'None':\n",
        "          return 'Greeting'\n",
        "\n",
        "        modified_user_input = [{\"role\": \"user\", \"content\": modified_input}]\n",
        "\n",
        "        if handler_one_openai.chat(modified_user_input) == 'True':\n",
        "          return \"Tutorial\"\n",
        "        # print(f\"in the handler: {modified_user_input}\")\n",
        "        else:\n",
        "          return handler_two_openai.chat(modified_user_input)\n",
        "\n",
        "        # chat_with_openai(user_input)\n",
        "        # return chat_with_openai(user_input)\n",
        "\n",
        "Handler = HandleIrrelevant()"
      ],
      "metadata": {
        "id": "J8UHKYBEEfH5"
      },
      "execution_count": 27,
      "outputs": []
    },
    {
      "cell_type": "code",
      "source": [
        "Handler.run(\"What is the trend?\")"
      ],
      "metadata": {
        "colab": {
          "base_uri": "https://localhost:8080/",
          "height": 36
        },
        "id": "ZzsXJuayUsk2",
        "outputId": "33a7f999-6c9a-4973-9c8e-6654b8868643"
      },
      "execution_count": 28,
      "outputs": [
        {
          "output_type": "execute_result",
          "data": {
            "text/plain": [
              "'False'"
            ],
            "application/vnd.google.colaboratory.intrinsic+json": {
              "type": "string"
            }
          },
          "metadata": {},
          "execution_count": 28
        }
      ]
    },
    {
      "cell_type": "code",
      "source": [
        "# tools = [trend, SR, TP, Sl, Bias, databaseId, databaseRisk, databaseStyle, Handler]"
      ],
      "metadata": {
        "id": "5NqR7iXE65aV"
      },
      "execution_count": null,
      "outputs": []
    },
    {
      "cell_type": "code",
      "source": [
        "tools = [trend, SR, TP, Sl, Bias, Handler]"
      ],
      "metadata": {
        "id": "AmVaq852XjDt"
      },
      "execution_count": 29,
      "outputs": []
    },
    {
      "cell_type": "code",
      "source": [
        "tool_executor = ToolExecutor(tools)"
      ],
      "metadata": {
        "id": "mmuJdTx-LkO3"
      },
      "execution_count": 30,
      "outputs": []
    },
    {
      "cell_type": "markdown",
      "source": [
        "##Helper functions:"
      ],
      "metadata": {
        "id": "2nDgbgr9HdZl"
      }
    },
    {
      "cell_type": "code",
      "source": [
        "# class AgentState(TypedDict):\n",
        "#     # The input string\n",
        "#     input: str\n",
        "#     # The list of previous messages in the conversation\n",
        "#     chat_history: list[BaseMessage]\n",
        "#     # The outcome of a given call to the agent\n",
        "#     # Needs `None` as a valid type, since this is what this will start as\n",
        "#     agent_outcome: Union[AgentAction, AgentFinish, None]\n",
        "#     # List of actions and corresponding observations\n",
        "#     # Here we annotate this with `operator.add` to indicate that operations to\n",
        "#     # this state should be ADDED to the existing values (not overwrite it)\n",
        "#     intermediate_steps: Annotated[list[tuple[AgentAction, str]], operator.add]"
      ],
      "metadata": {
        "id": "cUh89phSGI9o"
      },
      "execution_count": null,
      "outputs": []
    },
    {
      "cell_type": "code",
      "source": [
        "from langchain_core.messages import AIMessage, BaseMessage, ChatMessage, FunctionMessage, HumanMessage\n",
        "from langchain.tools.render import format_tool_to_openai_function\n",
        "from langchain_core.agents import AgentAction, AgentFinish\n",
        "from langgraph.graph import END, StateGraph\n",
        "from langgraph.prebuilt.tool_executor import ToolExecutor, ToolInvocation\n",
        "from langchain_core.tools import tool\n",
        "from typing import Annotated, List, Sequence, Tuple, TypedDict, Union\n",
        "from langchain.agents import create_openai_functions_agent\n",
        "from langchain_core.prompts import ChatPromptTemplate, BasePromptTemplate, MessagesPlaceholder\n",
        "import operator\n",
        "import functools\n",
        "import json"
      ],
      "metadata": {
        "id": "j1mr9W5nxLW6"
      },
      "execution_count": 31,
      "outputs": []
    },
    {
      "cell_type": "code",
      "source": [
        "def create_agent(llm, tools, system_message: str):\n",
        "  \"\"\"Create an agent.\"\"\"\n",
        "  functions = [format_tool_to_openai_function(t) for t in tools]\n",
        "  prompt = ChatPromptTemplate.from_messages(\n",
        "      [\n",
        "          (\n",
        "              \"system\",\n",
        "              \" You are a helpful AI assistant, collaborating with other assistants.\"\n",
        "              \" Use the provided tools to progress towards answering the question.\"\n",
        "              \" If you are unable to fully answer, that's OK, another assistant with different tools \"\n",
        "              \" will help where you left off. Execute what you can to make progress.\"\n",
        "              \" If you or any of the other assistants have the final answer or deliverable,\"\n",
        "              \" prefix your response with FINAL ANSWER so the team knows to stop.\"\n",
        "              f\" You have access to the following tools: {tool}.\\n{system_message}\",\n",
        "          ),\n",
        "          MessagesPlaceholder(variable_name=\"messages\"),\n",
        "      ]\n",
        "  )\n",
        "  prompt = prompt.partial(system_message=system_message)\n",
        "  prompt = prompt.partial(tool_names=\", \".join([tool.name for tool in tools]))\n",
        "  return prompt | llm.bind_functions(functions)"
      ],
      "metadata": {
        "id": "QDz0tK9PxPDJ"
      },
      "execution_count": 32,
      "outputs": []
    },
    {
      "cell_type": "code",
      "source": [
        "def agent_node(state, agent, name):\n",
        "  result = agent.invoke(state)\n",
        "\n",
        "  if isinstance(result, FunctionMessage):\n",
        "      pass\n",
        "\n",
        "  else:\n",
        "      result = HumanMessage(**result.dict(exclude={\"type\", \"name\"}), name=name)\n",
        "\n",
        "  return {\n",
        "      \"messages\": [result],\n",
        "      \"sender\": name,\n",
        "  }"
      ],
      "metadata": {
        "id": "qmFMyzFvxkVl"
      },
      "execution_count": 33,
      "outputs": []
    },
    {
      "cell_type": "markdown",
      "source": [
        "##Agents:"
      ],
      "metadata": {
        "id": "uG5-7xPrWAEO"
      }
    },
    {
      "cell_type": "code",
      "source": [
        "from langchain_core.agents import AgentActionMessageLog\n",
        "from langchain_openai import AzureChatOpenAI"
      ],
      "metadata": {
        "id": "I3GZHhQgWrtm"
      },
      "execution_count": 34,
      "outputs": []
    },
    {
      "cell_type": "code",
      "source": [
        "api_type = \"azure\"\n",
        "api_endpoint = 'https://tensurfbrain1.openai.azure.com/'\n",
        "api_version = '2023-10-01-preview'\n",
        "api_key = '80ddd1ad72504f2fa226755d49491a61'"
      ],
      "metadata": {
        "id": "LW8US-J3xzUH"
      },
      "execution_count": 35,
      "outputs": []
    },
    {
      "cell_type": "code",
      "source": [
        "llm = AzureChatOpenAI(\n",
        "                  api_key=api_key,\n",
        "                  api_version=api_version,\n",
        "                  azure_endpoint=api_endpoint,\n",
        "                  deployment_name=\"gpt_35_16k\",\n",
        "                  temperature=0,\n",
        "                  streaming=True\n",
        ")"
      ],
      "metadata": {
        "id": "P7L2tpF8xzUH"
      },
      "execution_count": 36,
      "outputs": []
    },
    {
      "cell_type": "code",
      "source": [
        "trading_agent = create_agent(\n",
        "    llm,\n",
        "    [trend, SR, TP, Sl],\n",
        "    system_message=\"\"\"You are an assistant with the following capabilities given to you by your tools:\n",
        "                      SR: Calculate support and resistance levels.\n",
        "                      Trend: Calculate the trend of a specified financial instrument over a given time range and timeframe.\n",
        "                      TP: Calculate Take profit (TP),\n",
        "                      SL: Calculate Stoploss (SL)\"\"\",\n",
        ")\n",
        "trading_node = functools.partial(agent_node, agent=trading_agent, name=\"Trading\")"
      ],
      "metadata": {
        "id": "k9XEZ_r8xscp"
      },
      "execution_count": 38,
      "outputs": []
    },
    {
      "cell_type": "code",
      "source": [
        "# onboarding_agent = create_agent(\n",
        "#     llm,\n",
        "#     [databaseId, databaseRisk, databaseStyle],\n",
        "#     \"\"\"You are an onboarding assistant who helps new users set and change some of the user fields in the database.\n",
        "#        Note that user requests in our systems must only pertain to financial and trading topics.\n",
        "#        If the user’s request is not related to these topics, this tool will handle it.\"\"\",\n",
        "# )\n",
        "# onboarding_node = functools.partial(agent_node, agent=onboarding_agent, name=\"Onboarding\")"
      ],
      "metadata": {
        "id": "DlECe-H-yZaV"
      },
      "execution_count": null,
      "outputs": []
    },
    {
      "cell_type": "markdown",
      "source": [
        "##Graph"
      ],
      "metadata": {
        "id": "gjyNdJzWW4-C"
      }
    },
    {
      "cell_type": "markdown",
      "source": [
        "###adding sub graph"
      ],
      "metadata": {
        "id": "elx78emqXsiT"
      }
    },
    {
      "cell_type": "code",
      "source": [
        "import uuid"
      ],
      "metadata": {
        "id": "Thp0qoYhCrDj"
      },
      "execution_count": 49,
      "outputs": []
    },
    {
      "cell_type": "code",
      "source": [
        "def reduce_list(left: list | None, right: list | None) -> list:\n",
        "  \"\"\"Append the right-hand list, replacing any elements with the same id in the left-hand list.\"\"\"\n",
        "  if not left:\n",
        "      left = []\n",
        "  if not right:\n",
        "      right = []\n",
        "  left_, right_ = [], []\n",
        "  for orig, new in [(left, left_), (right, right_)]:\n",
        "      for val in orig:\n",
        "          if not isinstance(val, dict):\n",
        "              val = {\"val\": val}\n",
        "          if \"id\" not in val:\n",
        "              val[\"id\"] = str(uuid.uuid4())\n",
        "          new.append(val)\n",
        "  # Merge the two lists\n",
        "  left_idx_by_id = {val[\"id\"]: i for i, val in enumerate(left_)}\n",
        "  merged = left_.copy()\n",
        "  for val in right_:\n",
        "      if (existing_idx := left_idx_by_id.get(val[\"id\"])) is not None:\n",
        "          merged[existing_idx] = val\n",
        "      else:\n",
        "          merged.append(val)\n",
        "  return merged"
      ],
      "metadata": {
        "id": "5KxGO5t6CobZ"
      },
      "execution_count": null,
      "outputs": []
    },
    {
      "cell_type": "code",
      "source": [
        "# class AgentState(TypedDict):\n",
        "#   messages: Annotated[Sequence[BaseMessage], operator.add]\n",
        "#   path: Annotated[list[str], reduce_list]\n",
        "#   # sender: str"
      ],
      "metadata": {
        "id": "MB1Z12UJxPLB"
      },
      "execution_count": null,
      "outputs": []
    },
    {
      "cell_type": "code",
      "source": [
        "# subGraphOne = StateGraph(AgentState)\n",
        "# mainGraph = StateGraph(AgentState)\n",
        "\n",
        "# mainGraph.add_node(\"Handler\", run_Handler)\n",
        "\n",
        "# subGraphOne.add_node(\"Greeting\", run_greeting)\n",
        "# subGraphOne.add_node(\"Tutorial\", run_tutorial)\n",
        "\n",
        "# subGraphOne.add_edge(\"Greeting\", END)\n",
        "# subGraphOne.add_edge(\"Tutorial\", END)\n",
        "# subGraphOne.add_conditional_edges(\n",
        "#     \"Handler\",\n",
        "#     router,\n",
        "#     {\"Greeting\": \"Greeting\", \"Tutorial\": \"Tutorial\", \"end\": END},\n",
        "# )\n",
        "\n",
        "# subGraphOne.set_entry_point(\"Handler\")\n",
        "# # subGraphOne.set_finish_point(\"Trading\")\n",
        "\n",
        "# mainGraph.add_node(\"Trading\", trading_node)\n",
        "# mainGraph.add_node(\"Onboarding\", onboarding_node)\n",
        "# mainGraph.add_node(\"call_tool\", tool_node)\n",
        "# mainGraph.add_node(\"child\", subGraphOne.compile())\n",
        "\n",
        "# mainGraph.add_conditional_edges(\n",
        "#     \"Trading\",\n",
        "#     router,\n",
        "#     {\"continue\": \"Trading\", \"call_tool\": \"call_tool\", \"end\": END},\n",
        "# )\n",
        "# mainGraph.add_conditional_edges(\n",
        "#     \"Onboarding\",\n",
        "#     router,\n",
        "#     {\"continue\": \"Trading\", \"call_tool\": \"call_tool\", \"end\": END},\n",
        "# )\n",
        "\n",
        "\n",
        "# mainGraph.add_conditional_edges(\n",
        "#     \"call_tool\",\n",
        "#     lambda x: x[\"sender\"],\n",
        "#     {\n",
        "#         \"Trading\": \"Trading\",\n",
        "#         \"Onboarding\": \"Onboarding\",\n",
        "#     },\n",
        "# )\n",
        "# mainGraph.set_entry_point(\"Handler\")\n",
        "\n",
        "# graph = mainGraph.compile()"
      ],
      "metadata": {
        "id": "q9bdSVwA4iPg"
      },
      "execution_count": null,
      "outputs": []
    },
    {
      "cell_type": "markdown",
      "source": [
        "### normal"
      ],
      "metadata": {
        "id": "_pXiBnGkX13I"
      }
    },
    {
      "cell_type": "code",
      "source": [
        "def run_Handler(state):\n",
        "  tool_name = \"HandleIrrelevant\"\n",
        "\n",
        "  messages = state[\"messages\"]\n",
        "  last_message = messages[-1]\n",
        "\n",
        "  # print(\"&\"*50)\n",
        "  # print(last_message.content)\n",
        "  # print(\"&\"*50)\n",
        "\n",
        "  action = ToolInvocation(\n",
        "      tool=tool_name,\n",
        "      tool_input=last_message.content,\n",
        "  )\n",
        "\n",
        "  response = tool_executor.invoke(action)\n",
        "  # print(response)\n",
        "  standard_response = \"\"\n",
        "  if response == 'True':\n",
        "    standard_response = \"I'm here to help with trading and financial market queries. If you think your ask relates to trading and isn't addressed, please report a bug using the bottom right panel.\"\n",
        "\n",
        "  function_message = FunctionMessage(\n",
        "       content=standard_response, HandleIrrelevant_response=f\"{str(response)}\", name=action.tool\n",
        "  )\n",
        "\n",
        "  return {\"messages\": [function_message]}"
      ],
      "metadata": {
        "id": "tVkwTo3E48dI"
      },
      "execution_count": 39,
      "outputs": []
    },
    {
      "cell_type": "code",
      "source": [
        "def run_greeting(state):\n",
        "  # tool_name = \"HandleIrrelevant\"\n",
        "\n",
        "  # action = ToolInvocation(\n",
        "  #     tool=tool_name,\n",
        "  #     tool_input=\"Hi\",\n",
        "  # )\n",
        "\n",
        "  # response = tool_executor.invoke(action)\n",
        "\n",
        "  greeting = ChatWithOpenai(system_message=\"You are an financial and trading assistant.\",\n",
        "                            model=\"gpt_35_16k\",\n",
        "                            temperature=0.2,\n",
        "                            max_tokens=100,\n",
        "                            client=client)\n",
        "  input = [{\"role\": \"user\", \"content\": \"Hi\"}]\n",
        "  response = greeting.chat(input)\n",
        "\n",
        "  function_message = FunctionMessage(\n",
        "       content=response ,name='openai chat'\n",
        "  )\n",
        "\n",
        "  return {\"messages\": [function_message]}"
      ],
      "metadata": {
        "id": "JkjI0fgMbhT2"
      },
      "execution_count": 40,
      "outputs": []
    },
    {
      "cell_type": "code",
      "source": [
        "def run_tutorial(state):\n",
        "  response = \"\"\"I'm TenSurf Brain, your AI trading assistant within TenSurf Hub platform, designed to enhance your trading experience with advanced analytical and data-driven tools:\n",
        "                1. Trend Detection: I can analyze and report the trend of financial instruments over your specified period. For example, ask me, \"What is the trend of NQ stock from May-1-2024 12:00:00 until May-5-2024 12:00:00?\"\n",
        "                2. Support and Resistance Levels: I identify and score key price levels that may influence market behavior based on historical data. Try, \"Calculate Support and Resistance Levels based on YM by looking back up to the past 10 days and a timeframe of 1 hour.\"\n",
        "                3. Stop Loss Calculation: I determine optimal stop loss points to help you manage risk effectively. Query me like, \"How much would be the optimal stop loss for a short trade on NQ?\"\n",
        "                4. Take Profit Calculation: I calculate the ideal exit points for securing profits before a potential trend reversal. For example, \"How much would be the take-profit of a short position on Dow Jones with the stop loss of 10 points?\"\n",
        "                5. Trading Bias Identification: I analyze market conditions to detect the best trading biases and directions, whether for long or short positions. Ask me, \"What is the current trading bias for ES?\"\n",
        "                Each tool is tailored to help you make smarter, faster, and more informed trading decisions. Enjoy!\"\"\"\n",
        "\n",
        "  function_message = FunctionMessage(\n",
        "       content=response ,name='hardcoded string'\n",
        "  )\n",
        "\n",
        "  return {\"messages\": [function_message]}"
      ],
      "metadata": {
        "id": "wxNA-zRPTE42"
      },
      "execution_count": 41,
      "outputs": []
    },
    {
      "cell_type": "code",
      "source": [
        "def tool_node(state):\n",
        "  \"\"\"This runs tools in the graph\n",
        "      It takes in an agent action\n",
        "      and calls that tool and\n",
        "      returns the result.\"\"\"\n",
        "\n",
        "  messages = state[\"messages\"]\n",
        "  last_message = messages[-1]\n",
        "  tool_input = json.loads(\n",
        "      last_message.additional_kwargs[\"function_call\"][\"arguments\"]\n",
        "  )\n",
        "\n",
        "  if len(tool_input) == 1 and \"__arg1\" in tool_input:\n",
        "      tool_input = next(iter(tool_input.values()))\n",
        "  # tool_name = last_message.additional_kwargs[\"function_call\"][\"name\"]\n",
        "\n",
        "  tool_name = last_message.additional_kwargs[\"function_call\"][\"name\"].split(\".\")[-1]\n",
        "\n",
        "  action = ToolInvocation(\n",
        "      tool=tool_name,\n",
        "      tool_input=tool_input,\n",
        "  )\n",
        "\n",
        "  response = tool_executor.invoke(action)\n",
        "  function_message = FunctionMessage(\n",
        "      content=f\"{tool_name} response: {str(response)}\", name=action.tool\n",
        "  )\n",
        "\n",
        "  return {\"messages\": [function_message]}"
      ],
      "metadata": {
        "id": "nS7yahoQzOaI"
      },
      "execution_count": 42,
      "outputs": []
    },
    {
      "cell_type": "code",
      "source": [
        "def router(state):\n",
        "    messages = state[\"messages\"]\n",
        "    last_message = messages[-1]\n",
        "    # print(last_message)\n",
        "    # second_to_last_message = messages[-2]\n",
        "    # print(\"#\"*50)\n",
        "    # print(f\"router:{last_message}\")\n",
        "    # print(\"#\"*50)\n",
        "\n",
        "    if len(last_message.content) == 0:\n",
        "      last_message = messages[-2]\n",
        "\n",
        "      if \"function_call\" in last_message.additional_kwargs:\n",
        "        return \"call_tool\"\n",
        "\n",
        "      if not \"function_call\" in last_message.additional_kwargs:\n",
        "        return \"continue\"\n",
        "\n",
        "    if not last_message.additional_kwargs:\n",
        "        return \"end\"\n",
        "\n",
        "    else:\n",
        "      if \"Greeting\" in last_message.HandleIrrelevant_response and last_message.name == 'HandleIrrelevant':\n",
        "        return \"Greeting\"\n",
        "\n",
        "      if \"Tutorial\" in last_message.HandleIrrelevant_response and last_message.name == 'HandleIrrelevant':\n",
        "        return \"Tutorial\"\n",
        "\n",
        "      if \"True\" in last_message.HandleIrrelevant_response and last_message.name == 'HandleIrrelevant':\n",
        "        return \"end\"\n",
        "\n",
        "      if \"False\" in last_message.HandleIrrelevant_response and last_message.name == 'HandleIrrelevant':\n",
        "        return \"continue\"\n",
        "\n",
        "      if \"False\" in last_message.content and last_message.name == \"HandleGreeting\":\n",
        "        return \"continue\"\n",
        "\n",
        "      if \"False\" not in last_message.content and last_message.name == \"HandleGreeting\":\n",
        "        return \"end\"\n",
        "\n",
        "    return \"continue\""
      ],
      "metadata": {
        "id": "ZqafxFRLzXlm"
      },
      "execution_count": 43,
      "outputs": []
    },
    {
      "cell_type": "code",
      "source": [
        "class AgentState(TypedDict):\n",
        "  messages: Annotated[Sequence[BaseMessage], operator.add]\n",
        "  sender: str"
      ],
      "metadata": {
        "id": "rQJEV9IJYO0r"
      },
      "execution_count": 51,
      "outputs": []
    },
    {
      "cell_type": "code",
      "source": [
        "workflow = StateGraph(AgentState)\n",
        "\n",
        "workflow.add_node(\"Trading\", trading_node)\n",
        "# workflow.add_node(\"Onboarding\", onboarding_node)\n",
        "workflow.add_node(\"call_tool\", tool_node)\n",
        "workflow.add_node(\"Handler\", run_Handler)\n",
        "workflow.add_node(\"Greeting\", run_greeting)\n",
        "workflow.add_node(\"Tutorial\", run_tutorial)\n",
        "\n",
        "# workflow.add_node(\"Inquiry\", inquiry_node)\n",
        "# workflow.add_node(\"Support\", support_node)\n",
        "# workflow.add_node(\"Inquiry\", inquiry_node)\n",
        "\n",
        "# workflow.add_edge(\"Inquiry\", \"call_tool\")\n",
        "\n",
        "# workflow.add_edge(\"Handler\", \"Trading\")\n",
        "\n",
        "workflow.add_edge(\"Greeting\", END)\n",
        "workflow.add_edge(\"Tutorial\", END)\n",
        "\n",
        "# workflow.add_conditional_edges(\n",
        "#     \"Inquiry\",\n",
        "#     router,\n",
        "#     {\"call_tool\": \"call_tool\", \"continue\": \"Inquiry\"},\n",
        "# )\n",
        "# workflow.add_conditional_edges(\n",
        "#     \"Support\",\n",
        "#     router,\n",
        "#     {\"continue\": \"Trading\", \"call_tool\": \"call_tool\", \"end\": END},\n",
        "# )\n",
        "workflow.add_conditional_edges(\n",
        "    \"Handler\",\n",
        "    router,\n",
        "    {\"continue\": \"Trading\", \"Greeting\": \"Greeting\", \"Tutorial\": \"Tutorial\", \"end\": END},\n",
        ")\n",
        "# workflow.add_conditional_edges(\n",
        "#     \"Greeting\",\n",
        "#     router,\n",
        "#     {\"continue\": \"Trading\", \"end\": END},\n",
        "# )\n",
        "workflow.add_conditional_edges(\n",
        "    \"Trading\",\n",
        "    router,\n",
        "    {\"continue\": \"Trading\", \"call_tool\": \"call_tool\", \"end\": END},\n",
        ")\n",
        "# workflow.add_conditional_edges(\n",
        "#     \"Onboarding\",\n",
        "#     router,\n",
        "#     {\"continue\": \"Trading\", \"call_tool\": \"call_tool\", \"end\": END},\n",
        "# )\n",
        "\n",
        "\n",
        "workflow.add_conditional_edges(\n",
        "    \"call_tool\",\n",
        "    lambda x: x[\"sender\"],\n",
        "    {\n",
        "        \"Trading\": \"Trading\",\n",
        "        # \"Onboarding\": \"Onboarding\",\n",
        "        # \"Inquiry\": \"Inquiry\",\n",
        "        # \"Support\": END\n",
        "    },\n",
        ")\n",
        "workflow.set_entry_point(\"Handler\")\n",
        "\n",
        "graph = workflow.compile()"
      ],
      "metadata": {
        "id": "HWKy0Tnuzr7P"
      },
      "execution_count": 45,
      "outputs": []
    },
    {
      "cell_type": "markdown",
      "source": [
        "##Graph visualization"
      ],
      "metadata": {
        "id": "W8B2R2gjXU6A"
      }
    },
    {
      "cell_type": "code",
      "source": [
        "from IPython.display import display, HTML\n",
        "import base64"
      ],
      "metadata": {
        "id": "MogS2xefyYIf"
      },
      "execution_count": 46,
      "outputs": []
    },
    {
      "cell_type": "code",
      "source": [
        "def display_image(image_bytes: bytes, width=300):\n",
        "    decoded_img_bytes = base64.b64encode(image_bytes).decode(\"utf-8\")\n",
        "    html = f'<img src=\"data:image/png;base64,{decoded_img_bytes}\" style=\"width: {width}px;\" />'\n",
        "    display(HTML(html))"
      ],
      "metadata": {
        "id": "-3izld86Xfj9"
      },
      "execution_count": 47,
      "outputs": []
    },
    {
      "cell_type": "code",
      "source": [
        "display_image(graph.get_graph().draw_png())"
      ],
      "metadata": {
        "colab": {
          "base_uri": "https://localhost:8080/",
          "height": 228
        },
        "id": "OlsVc0H1xviv",
        "outputId": "db2b30e9-9b42-4a84-f928-d2986d5aa26a"
      },
      "execution_count": 48,
      "outputs": [
        {
          "output_type": "display_data",
          "data": {
            "text/plain": [
              "<IPython.core.display.HTML object>"
            ],
            "text/html": [
              "<img src=\"data:image/png;base64,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\" style=\"width: 300px;\" />"
            ]
          },
          "metadata": {}
        }
      ]
    },
    {
      "cell_type": "markdown",
      "source": [
        "##Test prompts:"
      ],
      "metadata": {
        "id": "1FWNCO4ZXlMp"
      }
    },
    {
      "cell_type": "code",
      "source": [
        "for s in graph.stream(\n",
        "    {\n",
        "        \"messages\": [\n",
        "            HumanMessage(\n",
        "                content=\"What is the trend of NQ stock from 4/22/2024 15:45:30 until 4/23/2024 15:45:30?\"\n",
        "            )\n",
        "        ],\n",
        "    },\n",
        "    # Maximum number of steps to take in the graph\n",
        "    {\"recursion_limit\": 150},\n",
        "):\n",
        "    print(s)\n",
        "    print(\"----\")"
      ],
      "metadata": {
        "colab": {
          "base_uri": "https://localhost:8080/"
        },
        "id": "xED_KlG1MAxp",
        "outputId": "e8a9f8fd-b260-4114-cb81-1216923c3f91"
      },
      "execution_count": null,
      "outputs": [
        {
          "output_type": "stream",
          "name": "stdout",
          "text": [
            "{'Handler': {'messages': [FunctionMessage(content='', name='HandleIrrelevant', HandleIrrelevant_response='False')]}}\n",
            "----\n",
            "{'Trading': {'messages': [HumanMessage(content='', additional_kwargs={'function_call': {'arguments': '{\\n  \"symbol\": \"NQ\",\\n  \"start_datetime\": \"Apr-22-2024 15:45:30\",\\n  \"end_datetime\": \"Apr-23-2024 15:45:30\"\\n}', 'name': 'CalculateTrend'}}, response_metadata={'finish_reason': 'function_call'}, name='Trading', id='run-671bdce7-3dca-427e-a60d-b002edb98b4e-0', tool_calls=[], invalid_tool_calls=[])], 'sender': 'Trading'}}\n",
            "----\n",
            "{'Trading': {'messages': [HumanMessage(content='', additional_kwargs={'function_call': {'arguments': '{\\n  \"symbol\": \"NQ\",\\n  \"start_datetime\": \"Apr-22-2024 15:45:30\",\\n  \"end_datetime\": \"Apr-23-2024 15:45:30\"\\n}', 'name': 'CalculateTrend'}}, response_metadata={'finish_reason': 'function_call'}, name='Trading', id='run-d7906e4f-387a-42f4-9c0a-4172f03a3c25-0', tool_calls=[], invalid_tool_calls=[])], 'sender': 'Trading'}}\n",
            "----\n",
            "Error reading data from InfluxDB: Invalid value for `api_client`, must be defined.\n",
            " Query is from(bucket:\"bronze\") \n",
            "                |> range(start: time(v:2024-04-22T22:45:30Z), stop: time(v: 2024-04-23T22:45:30Z))\n",
            "                |> filter(fn: (r) => r[\"_measurement\"] == \"NQ\" and                    r[\"timeframe\"] == \"1min\" and                    r[\"liq_threshold\"] == \"-1\")\n",
            "                |> pivot(rowKey:[\"_time\"], columnKey:[\"_field\"], valueColumn:\"_value\")\n",
            "                \n",
            "There is no data for this period of time...\n",
            "{'call_tool': {'messages': [FunctionMessage(content='CalculateTrend response: 0', name='CalculateTrend')]}}\n",
            "----\n",
            "{'Trading': {'messages': [HumanMessage(content='The trend of NQ stock from 4/22/2024 15:45:30 until 4/23/2024 15:45:30 is without significant trend (0).', response_metadata={'finish_reason': 'stop'}, name='Trading', id='run-63c06324-1c5a-482d-8c1a-f3d5e46bde6c-0', tool_calls=[], invalid_tool_calls=[])], 'sender': 'Trading'}}\n",
            "----\n"
          ]
        }
      ]
    },
    {
      "cell_type": "code",
      "source": [
        "for s in graph.stream(\n",
        "    {\n",
        "        \"messages\": [\n",
        "            HumanMessage(\n",
        "                content=\"Calculate Support and Resistance Levels based on YM by looking back up to past 10 days and timeframe of 1 hour.\"\n",
        "            )\n",
        "        ],\n",
        "    },\n",
        "    # Maximum number of steps to take in the graph\n",
        "    {\"recursion_limit\": 150},\n",
        "):\n",
        "    print(s)\n",
        "    print(\"----\")"
      ],
      "metadata": {
        "colab": {
          "base_uri": "https://localhost:8080/",
          "height": 480
        },
        "id": "g6RvqKsXMCxk",
        "outputId": "8488d50a-f43c-44e6-e84a-03eee23a2a23"
      },
      "execution_count": null,
      "outputs": [
        {
          "output_type": "stream",
          "name": "stdout",
          "text": [
            "{'Handler': {'messages': [FunctionMessage(content='', name='HandleIrrelevant', HandleIrrelevant_response='False')]}}\n",
            "----\n",
            "{'Trading': {'messages': [HumanMessage(content='', additional_kwargs={'function_call': {'arguments': '{\\n  \"symbol\": \"YM\",\\n  \"timeframe\": \"1h\",\\n  \"lookback_days\": 10\\n}', 'name': 'CalculateSR'}}, response_metadata={'finish_reason': 'function_call'}, name='Trading', id='run-e65311f0-ffab-4629-97b7-ee691e7473e5-0', tool_calls=[], invalid_tool_calls=[])], 'sender': 'Trading'}}\n",
            "----\n",
            "{'Trading': {'messages': [HumanMessage(content='', additional_kwargs={'function_call': {'arguments': '{\\n  \"symbol\": \"YM\",\\n  \"timeframe\": \"1h\",\\n  \"lookback_days\": 10\\n}', 'name': 'CalculateSR'}}, response_metadata={'finish_reason': 'function_call'}, name='Trading', id='run-142c46b2-24e4-4734-b7e4-05f68e7a94ae-0', tool_calls=[], invalid_tool_calls=[])], 'sender': 'Trading'}}\n",
            "----\n"
          ]
        },
        {
          "output_type": "error",
          "ename": "AttributeError",
          "evalue": "'int' object has no attribute 'split'",
          "traceback": [
            "\u001b[0;31m---------------------------------------------------------------------------\u001b[0m",
            "\u001b[0;31mAttributeError\u001b[0m                            Traceback (most recent call last)",
            "\u001b[0;32m<ipython-input-271-74f45917f382>\u001b[0m in \u001b[0;36m<cell line: 1>\u001b[0;34m()\u001b[0m\n\u001b[0;32m----> 1\u001b[0;31m for s in graph.stream(\n\u001b[0m\u001b[1;32m      2\u001b[0m     {\n\u001b[1;32m      3\u001b[0m         \"messages\": [\n\u001b[1;32m      4\u001b[0m             HumanMessage(\n\u001b[1;32m      5\u001b[0m                 \u001b[0mcontent\u001b[0m\u001b[0;34m=\u001b[0m\u001b[0;34m\"Calculate Support and Resistance Levels based on YM by looking back up to past 10 days and timeframe of 1 hour.\"\u001b[0m\u001b[0;34m\u001b[0m\u001b[0;34m\u001b[0m\u001b[0m\n",
            "\u001b[0;32m/usr/local/lib/python3.10/dist-packages/langgraph/pregel/__init__.py\u001b[0m in \u001b[0;36mstream\u001b[0;34m(self, input, config, stream_mode, output_keys, input_keys, interrupt_before, interrupt_after, debug)\u001b[0m\n\u001b[1;32m    769\u001b[0m \u001b[0;34m\u001b[0m\u001b[0m\n\u001b[1;32m    770\u001b[0m                     \u001b[0;31m# panic on failure or timeout\u001b[0m\u001b[0;34m\u001b[0m\u001b[0;34m\u001b[0m\u001b[0m\n\u001b[0;32m--> 771\u001b[0;31m                     \u001b[0m_panic_or_proceed\u001b[0m\u001b[0;34m(\u001b[0m\u001b[0mdone\u001b[0m\u001b[0;34m,\u001b[0m \u001b[0minflight\u001b[0m\u001b[0;34m,\u001b[0m \u001b[0mstep\u001b[0m\u001b[0;34m)\u001b[0m\u001b[0;34m\u001b[0m\u001b[0;34m\u001b[0m\u001b[0m\n\u001b[0m\u001b[1;32m    772\u001b[0m \u001b[0;34m\u001b[0m\u001b[0m\n\u001b[1;32m    773\u001b[0m                     \u001b[0;31m# combine pending writes from all tasks\u001b[0m\u001b[0;34m\u001b[0m\u001b[0;34m\u001b[0m\u001b[0m\n",
            "\u001b[0;32m/usr/local/lib/python3.10/dist-packages/langgraph/pregel/__init__.py\u001b[0m in \u001b[0;36m_panic_or_proceed\u001b[0;34m(done, inflight, step)\u001b[0m\n\u001b[1;32m   1261\u001b[0m                 \u001b[0minflight\u001b[0m\u001b[0;34m.\u001b[0m\u001b[0mpop\u001b[0m\u001b[0;34m(\u001b[0m\u001b[0;34m)\u001b[0m\u001b[0;34m.\u001b[0m\u001b[0mcancel\u001b[0m\u001b[0;34m(\u001b[0m\u001b[0;34m)\u001b[0m\u001b[0;34m\u001b[0m\u001b[0;34m\u001b[0m\u001b[0m\n\u001b[1;32m   1262\u001b[0m             \u001b[0;31m# raise the exception\u001b[0m\u001b[0;34m\u001b[0m\u001b[0;34m\u001b[0m\u001b[0m\n\u001b[0;32m-> 1263\u001b[0;31m             \u001b[0;32mraise\u001b[0m \u001b[0mexc\u001b[0m\u001b[0;34m\u001b[0m\u001b[0;34m\u001b[0m\u001b[0m\n\u001b[0m\u001b[1;32m   1264\u001b[0m             \u001b[0;31m# TODO this is where retry of an entire step would happen\u001b[0m\u001b[0;34m\u001b[0m\u001b[0;34m\u001b[0m\u001b[0m\n\u001b[1;32m   1265\u001b[0m \u001b[0;34m\u001b[0m\u001b[0m\n",
            "\u001b[0;32m/usr/lib/python3.10/concurrent/futures/thread.py\u001b[0m in \u001b[0;36mrun\u001b[0;34m(self)\u001b[0m\n\u001b[1;32m     56\u001b[0m \u001b[0;34m\u001b[0m\u001b[0m\n\u001b[1;32m     57\u001b[0m         \u001b[0;32mtry\u001b[0m\u001b[0;34m:\u001b[0m\u001b[0;34m\u001b[0m\u001b[0;34m\u001b[0m\u001b[0m\n\u001b[0;32m---> 58\u001b[0;31m             \u001b[0mresult\u001b[0m \u001b[0;34m=\u001b[0m \u001b[0mself\u001b[0m\u001b[0;34m.\u001b[0m\u001b[0mfn\u001b[0m\u001b[0;34m(\u001b[0m\u001b[0;34m*\u001b[0m\u001b[0mself\u001b[0m\u001b[0;34m.\u001b[0m\u001b[0margs\u001b[0m\u001b[0;34m,\u001b[0m \u001b[0;34m**\u001b[0m\u001b[0mself\u001b[0m\u001b[0;34m.\u001b[0m\u001b[0mkwargs\u001b[0m\u001b[0;34m)\u001b[0m\u001b[0;34m\u001b[0m\u001b[0;34m\u001b[0m\u001b[0m\n\u001b[0m\u001b[1;32m     59\u001b[0m         \u001b[0;32mexcept\u001b[0m \u001b[0mBaseException\u001b[0m \u001b[0;32mas\u001b[0m \u001b[0mexc\u001b[0m\u001b[0;34m:\u001b[0m\u001b[0;34m\u001b[0m\u001b[0;34m\u001b[0m\u001b[0m\n\u001b[1;32m     60\u001b[0m             \u001b[0mself\u001b[0m\u001b[0;34m.\u001b[0m\u001b[0mfuture\u001b[0m\u001b[0;34m.\u001b[0m\u001b[0mset_exception\u001b[0m\u001b[0;34m(\u001b[0m\u001b[0mexc\u001b[0m\u001b[0;34m)\u001b[0m\u001b[0;34m\u001b[0m\u001b[0;34m\u001b[0m\u001b[0m\n",
            "\u001b[0;32m/usr/local/lib/python3.10/dist-packages/langchain_core/runnables/base.py\u001b[0m in \u001b[0;36minvoke\u001b[0;34m(self, input, config)\u001b[0m\n\u001b[1;32m   2497\u001b[0m         \u001b[0;32mtry\u001b[0m\u001b[0;34m:\u001b[0m\u001b[0;34m\u001b[0m\u001b[0;34m\u001b[0m\u001b[0m\n\u001b[1;32m   2498\u001b[0m             \u001b[0;32mfor\u001b[0m \u001b[0mi\u001b[0m\u001b[0;34m,\u001b[0m \u001b[0mstep\u001b[0m \u001b[0;32min\u001b[0m \u001b[0menumerate\u001b[0m\u001b[0;34m(\u001b[0m\u001b[0mself\u001b[0m\u001b[0;34m.\u001b[0m\u001b[0msteps\u001b[0m\u001b[0;34m)\u001b[0m\u001b[0;34m:\u001b[0m\u001b[0;34m\u001b[0m\u001b[0;34m\u001b[0m\u001b[0m\n\u001b[0;32m-> 2499\u001b[0;31m                 input = step.invoke(\n\u001b[0m\u001b[1;32m   2500\u001b[0m                     \u001b[0minput\u001b[0m\u001b[0;34m,\u001b[0m\u001b[0;34m\u001b[0m\u001b[0;34m\u001b[0m\u001b[0m\n\u001b[1;32m   2501\u001b[0m                     \u001b[0;31m# mark each step as a child run\u001b[0m\u001b[0;34m\u001b[0m\u001b[0;34m\u001b[0m\u001b[0m\n",
            "\u001b[0;32m/usr/local/lib/python3.10/dist-packages/langgraph/utils.py\u001b[0m in \u001b[0;36minvoke\u001b[0;34m(self, input, config)\u001b[0m\n\u001b[1;32m     86\u001b[0m                 \u001b[0;32melse\u001b[0m \u001b[0mself\u001b[0m\u001b[0;34m.\u001b[0m\u001b[0mkwargs\u001b[0m\u001b[0;34m\u001b[0m\u001b[0;34m\u001b[0m\u001b[0m\n\u001b[1;32m     87\u001b[0m             )\n\u001b[0;32m---> 88\u001b[0;31m             \u001b[0mret\u001b[0m \u001b[0;34m=\u001b[0m \u001b[0mcontext\u001b[0m\u001b[0;34m.\u001b[0m\u001b[0mrun\u001b[0m\u001b[0;34m(\u001b[0m\u001b[0mself\u001b[0m\u001b[0;34m.\u001b[0m\u001b[0mfunc\u001b[0m\u001b[0;34m,\u001b[0m \u001b[0minput\u001b[0m\u001b[0;34m,\u001b[0m \u001b[0;34m**\u001b[0m\u001b[0mkwargs\u001b[0m\u001b[0;34m)\u001b[0m\u001b[0;34m\u001b[0m\u001b[0;34m\u001b[0m\u001b[0m\n\u001b[0m\u001b[1;32m     89\u001b[0m         \u001b[0;32mif\u001b[0m \u001b[0misinstance\u001b[0m\u001b[0;34m(\u001b[0m\u001b[0mret\u001b[0m\u001b[0;34m,\u001b[0m \u001b[0mRunnable\u001b[0m\u001b[0;34m)\u001b[0m \u001b[0;32mand\u001b[0m \u001b[0mself\u001b[0m\u001b[0;34m.\u001b[0m\u001b[0mrecurse\u001b[0m\u001b[0;34m:\u001b[0m\u001b[0;34m\u001b[0m\u001b[0;34m\u001b[0m\u001b[0m\n\u001b[1;32m     90\u001b[0m             \u001b[0;32mreturn\u001b[0m \u001b[0mret\u001b[0m\u001b[0;34m.\u001b[0m\u001b[0minvoke\u001b[0m\u001b[0;34m(\u001b[0m\u001b[0minput\u001b[0m\u001b[0;34m,\u001b[0m \u001b[0mconfig\u001b[0m\u001b[0;34m)\u001b[0m\u001b[0;34m\u001b[0m\u001b[0;34m\u001b[0m\u001b[0m\n",
            "\u001b[0;32m<ipython-input-263-538ae3c4e230>\u001b[0m in \u001b[0;36mtool_node\u001b[0;34m(state)\u001b[0m\n\u001b[1;32m     22\u001b[0m   )\n\u001b[1;32m     23\u001b[0m \u001b[0;34m\u001b[0m\u001b[0m\n\u001b[0;32m---> 24\u001b[0;31m   \u001b[0mresponse\u001b[0m \u001b[0;34m=\u001b[0m \u001b[0mtool_executor\u001b[0m\u001b[0;34m.\u001b[0m\u001b[0minvoke\u001b[0m\u001b[0;34m(\u001b[0m\u001b[0maction\u001b[0m\u001b[0;34m)\u001b[0m\u001b[0;34m\u001b[0m\u001b[0;34m\u001b[0m\u001b[0m\n\u001b[0m\u001b[1;32m     25\u001b[0m   function_message = FunctionMessage(\n\u001b[1;32m     26\u001b[0m       \u001b[0mcontent\u001b[0m\u001b[0;34m=\u001b[0m\u001b[0;34mf\"{tool_name} response: {str(response)}\"\u001b[0m\u001b[0;34m,\u001b[0m \u001b[0mname\u001b[0m\u001b[0;34m=\u001b[0m\u001b[0maction\u001b[0m\u001b[0;34m.\u001b[0m\u001b[0mtool\u001b[0m\u001b[0;34m\u001b[0m\u001b[0;34m\u001b[0m\u001b[0m\n",
            "\u001b[0;32m/usr/local/lib/python3.10/dist-packages/langgraph/utils.py\u001b[0m in \u001b[0;36minvoke\u001b[0;34m(self, input, config)\u001b[0m\n\u001b[1;32m     86\u001b[0m                 \u001b[0;32melse\u001b[0m \u001b[0mself\u001b[0m\u001b[0;34m.\u001b[0m\u001b[0mkwargs\u001b[0m\u001b[0;34m\u001b[0m\u001b[0;34m\u001b[0m\u001b[0m\n\u001b[1;32m     87\u001b[0m             )\n\u001b[0;32m---> 88\u001b[0;31m             \u001b[0mret\u001b[0m \u001b[0;34m=\u001b[0m \u001b[0mcontext\u001b[0m\u001b[0;34m.\u001b[0m\u001b[0mrun\u001b[0m\u001b[0;34m(\u001b[0m\u001b[0mself\u001b[0m\u001b[0;34m.\u001b[0m\u001b[0mfunc\u001b[0m\u001b[0;34m,\u001b[0m \u001b[0minput\u001b[0m\u001b[0;34m,\u001b[0m \u001b[0;34m**\u001b[0m\u001b[0mkwargs\u001b[0m\u001b[0;34m)\u001b[0m\u001b[0;34m\u001b[0m\u001b[0;34m\u001b[0m\u001b[0m\n\u001b[0m\u001b[1;32m     89\u001b[0m         \u001b[0;32mif\u001b[0m \u001b[0misinstance\u001b[0m\u001b[0;34m(\u001b[0m\u001b[0mret\u001b[0m\u001b[0;34m,\u001b[0m \u001b[0mRunnable\u001b[0m\u001b[0;34m)\u001b[0m \u001b[0;32mand\u001b[0m \u001b[0mself\u001b[0m\u001b[0;34m.\u001b[0m\u001b[0mrecurse\u001b[0m\u001b[0;34m:\u001b[0m\u001b[0;34m\u001b[0m\u001b[0;34m\u001b[0m\u001b[0m\n\u001b[1;32m     90\u001b[0m             \u001b[0;32mreturn\u001b[0m \u001b[0mret\u001b[0m\u001b[0;34m.\u001b[0m\u001b[0minvoke\u001b[0m\u001b[0;34m(\u001b[0m\u001b[0minput\u001b[0m\u001b[0;34m,\u001b[0m \u001b[0mconfig\u001b[0m\u001b[0;34m)\u001b[0m\u001b[0;34m\u001b[0m\u001b[0;34m\u001b[0m\u001b[0m\n",
            "\u001b[0;32m/usr/local/lib/python3.10/dist-packages/langgraph/prebuilt/tool_executor.py\u001b[0m in \u001b[0;36m_execute\u001b[0;34m(self, tool_invocation, config)\u001b[0m\n\u001b[1;32m    100\u001b[0m         \u001b[0;32melse\u001b[0m\u001b[0;34m:\u001b[0m\u001b[0;34m\u001b[0m\u001b[0;34m\u001b[0m\u001b[0m\n\u001b[1;32m    101\u001b[0m             \u001b[0mtool\u001b[0m \u001b[0;34m=\u001b[0m \u001b[0mself\u001b[0m\u001b[0;34m.\u001b[0m\u001b[0mtool_map\u001b[0m\u001b[0;34m[\u001b[0m\u001b[0mtool_invocation\u001b[0m\u001b[0;34m.\u001b[0m\u001b[0mtool\u001b[0m\u001b[0;34m]\u001b[0m\u001b[0;34m\u001b[0m\u001b[0;34m\u001b[0m\u001b[0m\n\u001b[0;32m--> 102\u001b[0;31m             \u001b[0moutput\u001b[0m \u001b[0;34m=\u001b[0m \u001b[0mtool\u001b[0m\u001b[0;34m.\u001b[0m\u001b[0minvoke\u001b[0m\u001b[0;34m(\u001b[0m\u001b[0mtool_invocation\u001b[0m\u001b[0;34m.\u001b[0m\u001b[0mtool_input\u001b[0m\u001b[0;34m,\u001b[0m \u001b[0mconfig\u001b[0m\u001b[0;34m)\u001b[0m\u001b[0;34m\u001b[0m\u001b[0;34m\u001b[0m\u001b[0m\n\u001b[0m\u001b[1;32m    103\u001b[0m             \u001b[0;32mreturn\u001b[0m \u001b[0moutput\u001b[0m\u001b[0;34m\u001b[0m\u001b[0;34m\u001b[0m\u001b[0m\n\u001b[1;32m    104\u001b[0m \u001b[0;34m\u001b[0m\u001b[0m\n",
            "\u001b[0;32m/usr/local/lib/python3.10/dist-packages/langchain_core/tools.py\u001b[0m in \u001b[0;36minvoke\u001b[0;34m(self, input, config, **kwargs)\u001b[0m\n\u001b[1;32m    258\u001b[0m     ) -> Any:\n\u001b[1;32m    259\u001b[0m         \u001b[0mconfig\u001b[0m \u001b[0;34m=\u001b[0m \u001b[0mensure_config\u001b[0m\u001b[0;34m(\u001b[0m\u001b[0mconfig\u001b[0m\u001b[0;34m)\u001b[0m\u001b[0;34m\u001b[0m\u001b[0;34m\u001b[0m\u001b[0m\n\u001b[0;32m--> 260\u001b[0;31m         return self.run(\n\u001b[0m\u001b[1;32m    261\u001b[0m             \u001b[0minput\u001b[0m\u001b[0;34m,\u001b[0m\u001b[0;34m\u001b[0m\u001b[0;34m\u001b[0m\u001b[0m\n\u001b[1;32m    262\u001b[0m             \u001b[0mcallbacks\u001b[0m\u001b[0;34m=\u001b[0m\u001b[0mconfig\u001b[0m\u001b[0;34m.\u001b[0m\u001b[0mget\u001b[0m\u001b[0;34m(\u001b[0m\u001b[0;34m\"callbacks\"\u001b[0m\u001b[0;34m)\u001b[0m\u001b[0;34m,\u001b[0m\u001b[0;34m\u001b[0m\u001b[0;34m\u001b[0m\u001b[0m\n",
            "\u001b[0;32m/usr/local/lib/python3.10/dist-packages/langchain_core/tools.py\u001b[0m in \u001b[0;36mrun\u001b[0;34m(self, tool_input, verbose, start_color, color, callbacks, tags, metadata, run_name, run_id, config, **kwargs)\u001b[0m\n\u001b[1;32m    450\u001b[0m         \u001b[0;32mexcept\u001b[0m \u001b[0;34m(\u001b[0m\u001b[0mException\u001b[0m\u001b[0;34m,\u001b[0m \u001b[0mKeyboardInterrupt\u001b[0m\u001b[0;34m)\u001b[0m \u001b[0;32mas\u001b[0m \u001b[0me\u001b[0m\u001b[0;34m:\u001b[0m\u001b[0;34m\u001b[0m\u001b[0;34m\u001b[0m\u001b[0m\n\u001b[1;32m    451\u001b[0m             \u001b[0mrun_manager\u001b[0m\u001b[0;34m.\u001b[0m\u001b[0mon_tool_error\u001b[0m\u001b[0;34m(\u001b[0m\u001b[0me\u001b[0m\u001b[0;34m)\u001b[0m\u001b[0;34m\u001b[0m\u001b[0;34m\u001b[0m\u001b[0m\n\u001b[0;32m--> 452\u001b[0;31m             \u001b[0;32mraise\u001b[0m \u001b[0me\u001b[0m\u001b[0;34m\u001b[0m\u001b[0;34m\u001b[0m\u001b[0m\n\u001b[0m\u001b[1;32m    453\u001b[0m         \u001b[0;32melse\u001b[0m\u001b[0;34m:\u001b[0m\u001b[0;34m\u001b[0m\u001b[0;34m\u001b[0m\u001b[0m\n\u001b[1;32m    454\u001b[0m             \u001b[0mrun_manager\u001b[0m\u001b[0;34m.\u001b[0m\u001b[0mon_tool_end\u001b[0m\u001b[0;34m(\u001b[0m\u001b[0mobservation\u001b[0m\u001b[0;34m,\u001b[0m \u001b[0mcolor\u001b[0m\u001b[0;34m=\u001b[0m\u001b[0mcolor\u001b[0m\u001b[0;34m,\u001b[0m \u001b[0mname\u001b[0m\u001b[0;34m=\u001b[0m\u001b[0mself\u001b[0m\u001b[0;34m.\u001b[0m\u001b[0mname\u001b[0m\u001b[0;34m,\u001b[0m \u001b[0;34m**\u001b[0m\u001b[0mkwargs\u001b[0m\u001b[0;34m)\u001b[0m\u001b[0;34m\u001b[0m\u001b[0;34m\u001b[0m\u001b[0m\n",
            "\u001b[0;32m/usr/local/lib/python3.10/dist-packages/langchain_core/tools.py\u001b[0m in \u001b[0;36mrun\u001b[0;34m(self, tool_input, verbose, start_color, color, callbacks, tags, metadata, run_name, run_id, config, **kwargs)\u001b[0m\n\u001b[1;32m    411\u001b[0m                 )\n\u001b[1;32m    412\u001b[0m                 \u001b[0;32mif\u001b[0m \u001b[0mnew_arg_supported\u001b[0m\u001b[0;34m\u001b[0m\u001b[0;34m\u001b[0m\u001b[0m\n\u001b[0;32m--> 413\u001b[0;31m                 \u001b[0;32melse\u001b[0m \u001b[0mcontext\u001b[0m\u001b[0;34m.\u001b[0m\u001b[0mrun\u001b[0m\u001b[0;34m(\u001b[0m\u001b[0mself\u001b[0m\u001b[0;34m.\u001b[0m\u001b[0m_run\u001b[0m\u001b[0;34m,\u001b[0m \u001b[0;34m*\u001b[0m\u001b[0mtool_args\u001b[0m\u001b[0;34m,\u001b[0m \u001b[0;34m**\u001b[0m\u001b[0mtool_kwargs\u001b[0m\u001b[0;34m)\u001b[0m\u001b[0;34m\u001b[0m\u001b[0;34m\u001b[0m\u001b[0m\n\u001b[0m\u001b[1;32m    414\u001b[0m             )\n\u001b[1;32m    415\u001b[0m         \u001b[0;32mexcept\u001b[0m \u001b[0mValidationError\u001b[0m \u001b[0;32mas\u001b[0m \u001b[0me\u001b[0m\u001b[0;34m:\u001b[0m\u001b[0;34m\u001b[0m\u001b[0;34m\u001b[0m\u001b[0m\n",
            "\u001b[0;32m<ipython-input-236-c22508e58304>\u001b[0m in \u001b[0;36m_run\u001b[0;34m(self, symbol, timeframe, lookback_days)\u001b[0m\n\u001b[1;32m     29\u001b[0m                       }\n\u001b[1;32m     30\u001b[0m \u001b[0;34m\u001b[0m\u001b[0m\n\u001b[0;32m---> 31\u001b[0;31m         \u001b[0;32mreturn\u001b[0m \u001b[0mfc\u001b[0m\u001b[0;34m.\u001b[0m\u001b[0mcalculate_sr\u001b[0m\u001b[0;34m(\u001b[0m\u001b[0mparameters\u001b[0m\u001b[0;34m)\u001b[0m\u001b[0;34m\u001b[0m\u001b[0;34m\u001b[0m\u001b[0m\n\u001b[0m\u001b[1;32m     32\u001b[0m         \u001b[0;31m# return {\"levels_prices\": [0.25, 0.5], \"levels_start_timestamps\": [None, None], \"levels_end_timestamps\": [None, None], \"levels_scores\": [0.1, 0.2]}\u001b[0m\u001b[0;34m\u001b[0m\u001b[0;34m\u001b[0m\u001b[0m\n\u001b[1;32m     33\u001b[0m \u001b[0;34m\u001b[0m\u001b[0m\n",
            "\u001b[0;32m<ipython-input-7-64eda4b6c46d>\u001b[0m in \u001b[0;36mcalculate_sr\u001b[0;34m(self, parameters)\u001b[0m\n\u001b[1;32m    159\u001b[0m         \u001b[0msymbol\u001b[0m \u001b[0;34m=\u001b[0m \u001b[0mparameters\u001b[0m\u001b[0;34m[\u001b[0m\u001b[0;34m\"symbol\"\u001b[0m\u001b[0;34m]\u001b[0m\u001b[0;34m\u001b[0m\u001b[0;34m\u001b[0m\u001b[0m\n\u001b[1;32m    160\u001b[0m         \u001b[0mtimeframe\u001b[0m \u001b[0;34m=\u001b[0m \u001b[0mparameters\u001b[0m\u001b[0;34m[\u001b[0m\u001b[0;34m\"timeframe\"\u001b[0m\u001b[0;34m]\u001b[0m\u001b[0;34m\u001b[0m\u001b[0;34m\u001b[0m\u001b[0m\n\u001b[0;32m--> 161\u001b[0;31m         \u001b[0mlookback_days\u001b[0m \u001b[0;34m=\u001b[0m \u001b[0mint\u001b[0m\u001b[0;34m(\u001b[0m\u001b[0mparameters\u001b[0m\u001b[0;34m[\u001b[0m\u001b[0;34m\"lookback_days\"\u001b[0m\u001b[0;34m]\u001b[0m\u001b[0;34m.\u001b[0m\u001b[0msplit\u001b[0m\u001b[0;34m(\u001b[0m\u001b[0;34m\" \"\u001b[0m\u001b[0;34m)\u001b[0m\u001b[0;34m[\u001b[0m\u001b[0;36m0\u001b[0m\u001b[0;34m]\u001b[0m\u001b[0;34m)\u001b[0m\u001b[0;34m\u001b[0m\u001b[0;34m\u001b[0m\u001b[0m\n\u001b[0m\u001b[1;32m    162\u001b[0m         \u001b[0mend_datetime\u001b[0m \u001b[0;34m=\u001b[0m \u001b[0mdatetime\u001b[0m\u001b[0;34m.\u001b[0m\u001b[0mnow\u001b[0m\u001b[0;34m(\u001b[0m\u001b[0;34m)\u001b[0m\u001b[0;34m\u001b[0m\u001b[0;34m\u001b[0m\u001b[0m\n\u001b[1;32m    163\u001b[0m         \u001b[0mstart_datetime\u001b[0m \u001b[0;34m=\u001b[0m \u001b[0mend_datetime\u001b[0m \u001b[0;34m-\u001b[0m \u001b[0mtimedelta\u001b[0m\u001b[0;34m(\u001b[0m\u001b[0mdays\u001b[0m\u001b[0;34m=\u001b[0m\u001b[0mlookback_days\u001b[0m\u001b[0;34m)\u001b[0m\u001b[0;34m\u001b[0m\u001b[0;34m\u001b[0m\u001b[0m\n",
            "\u001b[0;31mAttributeError\u001b[0m: 'int' object has no attribute 'split'"
          ]
        }
      ]
    },
    {
      "cell_type": "code",
      "source": [
        "for s in graph.stream(\n",
        "    {\n",
        "        \"messages\": [\n",
        "            HumanMessage(\n",
        "                content=\"How much would be the stop loss for trading based on NQ?\"\n",
        "            )\n",
        "        ],\n",
        "    },\n",
        "    # Maximum number of steps to take in the graph\n",
        "    {\"recursion_limit\": 150},\n",
        "):\n",
        "    print(s)\n",
        "    print(\"----\")"
      ],
      "metadata": {
        "colab": {
          "base_uri": "https://localhost:8080/"
        },
        "id": "BFORU6YAMDXt",
        "outputId": "efdf4fbd-fbef-4720-c01b-b08d63ecc537"
      },
      "execution_count": null,
      "outputs": [
        {
          "output_type": "stream",
          "name": "stdout",
          "text": [
            "{'Handler': {'messages': [FunctionMessage(content='', name='HandleIrrelevant', HandleIrrelevant_response='False')]}}\n",
            "----\n",
            "{'Trading': {'messages': [HumanMessage(content='To calculate the stop loss for trading based on NQ, I need more information such as the direction of the trade (long or short) and the method you would like to use for calculating the stop loss. Can you please provide these details?', response_metadata={'finish_reason': 'stop'}, name='Trading', id='run-5a7a6236-83ff-4e44-a2fe-65f42c5ee099-0', tool_calls=[], invalid_tool_calls=[])], 'sender': 'Trading'}}\n",
            "----\n"
          ]
        }
      ]
    },
    {
      "cell_type": "code",
      "source": [
        "for s in graph.stream(\n",
        "    {\n",
        "        \"messages\": [\n",
        "            HumanMessage(\n",
        "                content=\"How much would be the take-profit of the NQ with the stop loss of 10 and direction of 1?\"\n",
        "            )\n",
        "        ],\n",
        "    },\n",
        "    # Maximum number of steps to take in the graph\n",
        "    {\"recursion_limit\": 150},\n",
        "):\n",
        "    print(s)\n",
        "    print(\"----\")"
      ],
      "metadata": {
        "colab": {
          "base_uri": "https://localhost:8080/"
        },
        "id": "TGb5oFwfMD0U",
        "outputId": "c58e7c13-17ee-4a5e-bcee-3b2ea7200a2a"
      },
      "execution_count": null,
      "outputs": [
        {
          "output_type": "stream",
          "name": "stdout",
          "text": [
            "{'Handler': {'messages': [FunctionMessage(content='', name='HandleIrrelevant', HandleIrrelevant_response='False')]}}\n",
            "----\n",
            "{'Trading': {'messages': [HumanMessage(content='', additional_kwargs={'function_call': {'arguments': '{\\n  \"symbol\": \"NQ\",\\n  \"direction\": 1,\\n  \"stoploss\": 10\\n}', 'name': 'CalculateTp'}}, response_metadata={'finish_reason': 'function_call'}, name='Trading', id='run-cef400c5-75eb-45f4-83ff-28d26193e0a2-0', tool_calls=[], invalid_tool_calls=[])], 'sender': 'Trading'}}\n",
            "----\n",
            "{'Trading': {'messages': [HumanMessage(content='', additional_kwargs={'function_call': {'arguments': '{\\n  \"symbol\": \"NQ\",\\n  \"direction\": 1,\\n  \"stoploss\": 10\\n}', 'name': 'CalculateTp'}}, response_metadata={'finish_reason': 'function_call'}, name='Trading', id='run-29d96b70-086c-42fc-90c9-945f5176c787-0', tool_calls=[], invalid_tool_calls=[])], 'sender': 'Trading'}}\n",
            "----\n",
            "{'symbol': 'NQ', 'direction': 1, 'stoploss': 10}\n",
            "Error reading data from InfluxDB: Invalid value for `api_client`, must be defined.\n",
            " Query is from(bucket:\"bronze\") \n",
            "                |> range(start: time(v:2024-05-08T03:42:29Z), stop: time(v: 2024-05-12T03:42:29Z))\n",
            "                |> filter(fn: (r) => r[\"_measurement\"] == \"NQ\" and                    r[\"timeframe\"] == \"1min\" and                    r[\"liq_threshold\"] == \"-1\")\n",
            "                |> pivot(rowKey:[\"_time\"], columnKey:[\"_field\"], valueColumn:\"_value\")\n",
            "                \n",
            "There is no data for this period of time...\n",
            "{'call_tool': {'messages': [FunctionMessage(content='CalculateTp response: {}', name='CalculateTp')]}}\n",
            "----\n",
            "{'Trading': {'messages': [HumanMessage(content='', additional_kwargs={'function_call': {'arguments': '{\\n  \"symbol\": \"NQ\",\\n  \"direction\": 1,\\n  \"stoploss\": 10\\n}', 'name': 'CalculateTp'}}, response_metadata={'finish_reason': 'function_call'}, name='Trading', id='run-1fd5baea-3244-403f-8fec-c81e9484fbc6-0', tool_calls=[], invalid_tool_calls=[])], 'sender': 'Trading'}}\n",
            "----\n",
            "{'Trading': {'messages': [HumanMessage(content='', additional_kwargs={'function_call': {'arguments': '{\\n  \"symbol\": \"NQ\",\\n  \"direction\": 1,\\n  \"stoploss\": 10\\n}', 'name': 'CalculateTp'}}, response_metadata={'finish_reason': 'function_call'}, name='Trading', id='run-354e3ddb-61b5-4cf2-9677-ec9bfc31c88a-0', tool_calls=[], invalid_tool_calls=[])], 'sender': 'Trading'}}\n",
            "----\n",
            "{'symbol': 'NQ', 'direction': 1, 'stoploss': 10}\n",
            "Error reading data from InfluxDB: Invalid value for `api_client`, must be defined.\n",
            " Query is from(bucket:\"bronze\") \n",
            "                |> range(start: time(v:2024-05-08T03:42:29Z), stop: time(v: 2024-05-12T03:42:29Z))\n",
            "                |> filter(fn: (r) => r[\"_measurement\"] == \"NQ\" and                    r[\"timeframe\"] == \"1min\" and                    r[\"liq_threshold\"] == \"-1\")\n",
            "                |> pivot(rowKey:[\"_time\"], columnKey:[\"_field\"], valueColumn:\"_value\")\n",
            "                \n",
            "There is no data for this period of time...\n",
            "{'call_tool': {'messages': [FunctionMessage(content='CalculateTp response: {}', name='CalculateTp')]}}\n",
            "----\n",
            "{'Trading': {'messages': [HumanMessage(content='I apologize, but it seems that I am unable to calculate the take-profit for the NQ with the given parameters. Could you please provide me with more information or clarify your request?', response_metadata={'finish_reason': 'stop'}, name='Trading', id='run-012fb798-5c07-4e47-a7df-dba8758e2018-0', tool_calls=[], invalid_tool_calls=[])], 'sender': 'Trading'}}\n",
            "----\n"
          ]
        }
      ]
    },
    {
      "cell_type": "code",
      "source": [
        "for s in graph.stream(\n",
        "    {\n",
        "        \"messages\": [\n",
        "            HumanMessage(\n",
        "                content=\"hi\"\n",
        "            )\n",
        "        ],\n",
        "    },\n",
        "    # Maximum number of steps to take in the graph\n",
        "    {\"recursion_limit\": 150},\n",
        "):\n",
        "    print(s)\n",
        "    print(\"----\")"
      ],
      "metadata": {
        "colab": {
          "base_uri": "https://localhost:8080/"
        },
        "id": "yfD-xqL4sCNG",
        "outputId": "b07a1a3c-30da-42c0-f267-47701d358a0a"
      },
      "execution_count": null,
      "outputs": [
        {
          "output_type": "stream",
          "name": "stdout",
          "text": [
            "{'Handler': {'messages': [FunctionMessage(content='', name='HandleIrrelevant', HandleIrrelevant_response='Greeting')]}}\n",
            "----\n",
            "{'Trading': {'messages': [HumanMessage(content='Hello! How can I assist you today?', response_metadata={'finish_reason': 'stop'}, name='Trading', id='run-ac76d227-c993-4c09-a587-03378bd85768-0', tool_calls=[], invalid_tool_calls=[])], 'sender': 'Trading'}}\n",
            "----\n"
          ]
        }
      ]
    },
    {
      "cell_type": "code",
      "source": [
        "for s in graph.stream(\n",
        "    {\n",
        "        \"messages\": [\n",
        "            HumanMessage(\n",
        "                content=\"how can i start?\"\n",
        "            )\n",
        "        ],\n",
        "    },\n",
        "    # Maximum number of steps to take in the graph\n",
        "    {\"recursion_limit\": 150},\n",
        "):\n",
        "    print(s)\n",
        "    print(\"----\")"
      ],
      "metadata": {
        "colab": {
          "base_uri": "https://localhost:8080/"
        },
        "id": "rEjOdoOKQaqP",
        "outputId": "c5d6ff43-7e77-4da5-e9fc-079dedc1394b"
      },
      "execution_count": null,
      "outputs": [
        {
          "output_type": "stream",
          "name": "stdout",
          "text": [
            "{'Handler': {'messages': [FunctionMessage(content=\"I'm here to help with trading and financial market queries. If you think your ask relates to trading and isn't addressed, please report a bug using the bottom right panel.\", name='HandleIrrelevant', HandleIrrelevant_response='True')]}}\n",
            "----\n"
          ]
        }
      ]
    },
    {
      "cell_type": "code",
      "source": [
        "for s in graph.stream(\n",
        "    {\n",
        "        \"messages\": [\n",
        "            HumanMessage(\n",
        "                content=\"please help me\"\n",
        "            )\n",
        "        ],\n",
        "    },\n",
        "    # Maximum number of steps to take in the graph\n",
        "    {\"recursion_limit\": 150},\n",
        "):\n",
        "    print(s)\n",
        "    print(\"----\")"
      ],
      "metadata": {
        "colab": {
          "base_uri": "https://localhost:8080/"
        },
        "id": "noZEsJXvVBmL",
        "outputId": "88337677-b4a9-4d17-e1a0-a6ccd65daf8d"
      },
      "execution_count": null,
      "outputs": [
        {
          "output_type": "stream",
          "name": "stdout",
          "text": [
            "{'Handler': {'messages': [FunctionMessage(content='', name='HandleIrrelevant', HandleIrrelevant_response='Tutorial')]}}\n",
            "----\n",
            "{'Tutorial': {'messages': [FunctionMessage(content='I\\'m TenSurf Brain, your AI trading assistant within TenSurf Hub platform, designed to enhance your trading experience with advanced analytical and data-driven tools:\\n                1. Trend Detection: I can analyze and report the trend of financial instruments over your specified period. For example, ask me, \"What is the trend of NQ stock from May-1-2024 12:00:00 until May-5-2024 12:00:00?\"\\n                2. Support and Resistance Levels: I identify and score key price levels that may influence market behavior based on historical data. Try, \"Calculate Support and Resistance Levels based on YM by looking back up to the past 10 days and a timeframe of 1 hour.\"\\n                3. Stop Loss Calculation: I determine optimal stop loss points to help you manage risk effectively. Query me like, \"How much would be the optimal stop loss for a short trade on NQ?\"\\n                4. Take Profit Calculation: I calculate the ideal exit points for securing profits before a potential trend reversal. For example, \"How much would be the take-profit of a short position on Dow Jones with the stop loss of 10 points?\"\\n                5. Trading Bias Identification: I analyze market conditions to detect the best trading biases and directions, whether for long or short positions. Ask me, \"What is the current trading bias for ES?\"\\n                Each tool is tailored to help you make smarter, faster, and more informed trading decisions. Enjoy!', name='hardcoded string')]}}\n",
            "----\n"
          ]
        }
      ]
    },
    {
      "cell_type": "code",
      "source": [
        "for s in graph.stream(\n",
        "    {\n",
        "        \"messages\": [\n",
        "            HumanMessage(\n",
        "                content=\"what is tensurf?\"\n",
        "            )\n",
        "        ],\n",
        "    },\n",
        "    # Maximum number of steps to take in the graph\n",
        "    {\"recursion_limit\": 150},\n",
        "):\n",
        "    print(s)\n",
        "    print(\"----\")"
      ],
      "metadata": {
        "colab": {
          "base_uri": "https://localhost:8080/"
        },
        "id": "ZVKQLQn7VE_v",
        "outputId": "46d59abc-b3ea-48a8-a1a6-35858cda5b8d"
      },
      "execution_count": null,
      "outputs": [
        {
          "output_type": "stream",
          "name": "stdout",
          "text": [
            "{'Handler': {'messages': [FunctionMessage(content='', name='HandleIrrelevant', HandleIrrelevant_response='Tutorial')]}}\n",
            "----\n",
            "{'Tutorial': {'messages': [FunctionMessage(content='I\\'m TenSurf Brain, your AI trading assistant within TenSurf Hub platform, designed to enhance your trading experience with advanced analytical and data-driven tools:\\n                1. Trend Detection: I can analyze and report the trend of financial instruments over your specified period. For example, ask me, \"What is the trend of NQ stock from May-1-2024 12:00:00 until May-5-2024 12:00:00?\"\\n                2. Support and Resistance Levels: I identify and score key price levels that may influence market behavior based on historical data. Try, \"Calculate Support and Resistance Levels based on YM by looking back up to the past 10 days and a timeframe of 1 hour.\"\\n                3. Stop Loss Calculation: I determine optimal stop loss points to help you manage risk effectively. Query me like, \"How much would be the optimal stop loss for a short trade on NQ?\"\\n                4. Take Profit Calculation: I calculate the ideal exit points for securing profits before a potential trend reversal. For example, \"How much would be the take-profit of a short position on Dow Jones with the stop loss of 10 points?\"\\n                5. Trading Bias Identification: I analyze market conditions to detect the best trading biases and directions, whether for long or short positions. Ask me, \"What is the current trading bias for ES?\"\\n                Each tool is tailored to help you make smarter, faster, and more informed trading decisions. Enjoy!', name='hardcoded string')]}}\n",
            "----\n"
          ]
        }
      ]
    },
    {
      "cell_type": "code",
      "source": [
        "for s in graph.stream(\n",
        "    {\n",
        "        \"messages\": [\n",
        "            HumanMessage(\n",
        "                content=\"how could you help me?\"\n",
        "            )\n",
        "        ],\n",
        "    },\n",
        "    # Maximum number of steps to take in the graph\n",
        "    {\"recursion_limit\": 150},\n",
        "):\n",
        "    print(s)\n",
        "    print(\"----\")"
      ],
      "metadata": {
        "colab": {
          "base_uri": "https://localhost:8080/"
        },
        "id": "fYa1hTidVJYo",
        "outputId": "9575d2b4-abcc-4464-d1e3-001688bcb2ce"
      },
      "execution_count": null,
      "outputs": [
        {
          "output_type": "stream",
          "name": "stdout",
          "text": [
            "{'Handler': {'messages': [FunctionMessage(content='', name='HandleIrrelevant', HandleIrrelevant_response='Tutorial')]}}\n",
            "----\n",
            "{'Tutorial': {'messages': [FunctionMessage(content='I\\'m TenSurf Brain, your AI trading assistant within TenSurf Hub platform, designed to enhance your trading experience with advanced analytical and data-driven tools:\\n                1. Trend Detection: I can analyze and report the trend of financial instruments over your specified period. For example, ask me, \"What is the trend of NQ stock from May-1-2024 12:00:00 until May-5-2024 12:00:00?\"\\n                2. Support and Resistance Levels: I identify and score key price levels that may influence market behavior based on historical data. Try, \"Calculate Support and Resistance Levels based on YM by looking back up to the past 10 days and a timeframe of 1 hour.\"\\n                3. Stop Loss Calculation: I determine optimal stop loss points to help you manage risk effectively. Query me like, \"How much would be the optimal stop loss for a short trade on NQ?\"\\n                4. Take Profit Calculation: I calculate the ideal exit points for securing profits before a potential trend reversal. For example, \"How much would be the take-profit of a short position on Dow Jones with the stop loss of 10 points?\"\\n                5. Trading Bias Identification: I analyze market conditions to detect the best trading biases and directions, whether for long or short positions. Ask me, \"What is the current trading bias for ES?\"\\n                Each tool is tailored to help you make smarter, faster, and more informed trading decisions. Enjoy!', name='hardcoded string')]}}\n",
            "----\n"
          ]
        }
      ]
    },
    {
      "cell_type": "code",
      "source": [
        "for s in graph.stream(\n",
        "    {\n",
        "        \"messages\": [\n",
        "            HumanMessage(\n",
        "                content=\"what are you?\"\n",
        "            )\n",
        "        ],\n",
        "    },\n",
        "    # Maximum number of steps to take in the graph\n",
        "    {\"recursion_limit\": 150},\n",
        "):\n",
        "    print(s)\n",
        "    print(\"----\")"
      ],
      "metadata": {
        "colab": {
          "base_uri": "https://localhost:8080/"
        },
        "id": "g312AuYWVOkc",
        "outputId": "943b1686-0135-441d-944e-9f41a4df6734"
      },
      "execution_count": null,
      "outputs": [
        {
          "output_type": "stream",
          "name": "stdout",
          "text": [
            "{'Handler': {'messages': [FunctionMessage(content=\"I'm here to help with trading and financial market queries. If you think your ask relates to trading and isn't addressed, please report a bug using the bottom right panel.\", name='HandleIrrelevant', HandleIrrelevant_response='True')]}}\n",
            "----\n"
          ]
        }
      ]
    },
    {
      "cell_type": "code",
      "source": [
        "for s in graph.stream(\n",
        "    {\n",
        "        \"messages\": [\n",
        "            HumanMessage(\n",
        "                content=\"could you guide me on how to use tensurf?\"\n",
        "            )\n",
        "        ],\n",
        "    },\n",
        "    # Maximum number of steps to take in the graph\n",
        "    {\"recursion_limit\": 150},\n",
        "):\n",
        "    print(s)\n",
        "    print(\"----\")"
      ],
      "metadata": {
        "colab": {
          "base_uri": "https://localhost:8080/"
        },
        "id": "_RD0thcBVRqZ",
        "outputId": "d5506a26-63bb-4ae4-c22f-b2ffa29a1195"
      },
      "execution_count": null,
      "outputs": [
        {
          "output_type": "stream",
          "name": "stdout",
          "text": [
            "{'Handler': {'messages': [FunctionMessage(content='', name='HandleIrrelevant', HandleIrrelevant_response='Tutorial')]}}\n",
            "----\n",
            "{'Tutorial': {'messages': [FunctionMessage(content='I\\'m TenSurf Brain, your AI trading assistant within TenSurf Hub platform, designed to enhance your trading experience with advanced analytical and data-driven tools:\\n                1. Trend Detection: I can analyze and report the trend of financial instruments over your specified period. For example, ask me, \"What is the trend of NQ stock from May-1-2024 12:00:00 until May-5-2024 12:00:00?\"\\n                2. Support and Resistance Levels: I identify and score key price levels that may influence market behavior based on historical data. Try, \"Calculate Support and Resistance Levels based on YM by looking back up to the past 10 days and a timeframe of 1 hour.\"\\n                3. Stop Loss Calculation: I determine optimal stop loss points to help you manage risk effectively. Query me like, \"How much would be the optimal stop loss for a short trade on NQ?\"\\n                4. Take Profit Calculation: I calculate the ideal exit points for securing profits before a potential trend reversal. For example, \"How much would be the take-profit of a short position on Dow Jones with the stop loss of 10 points?\"\\n                5. Trading Bias Identification: I analyze market conditions to detect the best trading biases and directions, whether for long or short positions. Ask me, \"What is the current trading bias for ES?\"\\n                Each tool is tailored to help you make smarter, faster, and more informed trading decisions. Enjoy!', name='hardcoded string')]}}\n",
            "----\n"
          ]
        }
      ]
    },
    {
      "cell_type": "code",
      "source": [
        "for s in graph.stream(\n",
        "    {\n",
        "        \"messages\": [\n",
        "            HumanMessage(\n",
        "                content=\"i need tutorial?\"\n",
        "            )\n",
        "        ],\n",
        "    },\n",
        "    # Maximum number of steps to take in the graph\n",
        "    {\"recursion_limit\": 150},\n",
        "):\n",
        "    print(s)\n",
        "    print(\"----\")"
      ],
      "metadata": {
        "colab": {
          "base_uri": "https://localhost:8080/"
        },
        "id": "g0M3M00y1Ooo",
        "outputId": "a2e4bd19-8d0f-4c74-fbba-0087aceb9b84"
      },
      "execution_count": null,
      "outputs": [
        {
          "output_type": "stream",
          "name": "stdout",
          "text": [
            "{'Handler': {'messages': [FunctionMessage(content='', name='HandleIrrelevant', HandleIrrelevant_response='Tutorial')]}}\n",
            "----\n",
            "{'Tutorial': {'messages': [FunctionMessage(content='I\\'m TenSurf Brain, your AI trading assistant within TenSurf Hub platform, designed to enhance your trading experience with advanced analytical and data-driven tools:\\n                1. Trend Detection: I can analyze and report the trend of financial instruments over your specified period. For example, ask me, \"What is the trend of NQ stock from May-1-2024 12:00:00 until May-5-2024 12:00:00?\"\\n                2. Support and Resistance Levels: I identify and score key price levels that may influence market behavior based on historical data. Try, \"Calculate Support and Resistance Levels based on YM by looking back up to the past 10 days and a timeframe of 1 hour.\"\\n                3. Stop Loss Calculation: I determine optimal stop loss points to help you manage risk effectively. Query me like, \"How much would be the optimal stop loss for a short trade on NQ?\"\\n                4. Take Profit Calculation: I calculate the ideal exit points for securing profits before a potential trend reversal. For example, \"How much would be the take-profit of a short position on Dow Jones with the stop loss of 10 points?\"\\n                5. Trading Bias Identification: I analyze market conditions to detect the best trading biases and directions, whether for long or short positions. Ask me, \"What is the current trading bias for ES?\"\\n                Each tool is tailored to help you make smarter, faster, and more informed trading decisions. Enjoy!', name='hardcoded string')]}}\n",
            "----\n"
          ]
        }
      ]
    },
    {
      "cell_type": "markdown",
      "source": [
        "## Tensurf testset"
      ],
      "metadata": {
        "id": "InmozLr6Yzv3"
      }
    },
    {
      "cell_type": "markdown",
      "source": [
        "###Detect Trend:"
      ],
      "metadata": {
        "id": "c8GuNb4ZY9UV"
      }
    },
    {
      "cell_type": "code",
      "source": [
        "for s in graph.stream(\n",
        "    {\n",
        "        \"messages\": [\n",
        "            HumanMessage(\n",
        "                content=\"What is the trend of NQ stock from 3/4/2024 15:45:30 until 13/4/2024 15:45:30?\"\n",
        "            )\n",
        "        ],\n",
        "    },\n",
        "    # Maximum number of steps to take in the graph\n",
        "    {\"recursion_limit\": 150},\n",
        "):\n",
        "    print(s)\n",
        "    print(\"----\")"
      ],
      "metadata": {
        "colab": {
          "base_uri": "https://localhost:8080/"
        },
        "id": "h6FsVV_CZGaS",
        "outputId": "11411e4d-7b26-4334-80d6-89833f28ca16"
      },
      "execution_count": null,
      "outputs": [
        {
          "output_type": "stream",
          "name": "stdout",
          "text": [
            "{'Handler': {'messages': [FunctionMessage(content='', name='HandleIrrelevant', HandleIrrelevant_response='False')]}}\n",
            "----\n",
            "{'Trading': {'messages': [HumanMessage(content='', additional_kwargs={'function_call': {'arguments': '{\\n  \"symbol\": \"NQ\",\\n  \"start_datetime\": \"Mar-4-2024 15:45:30\",\\n  \"end_datetime\": \"Apr-13-2024 15:45:30\"\\n}', 'name': 'CalculateTrend'}}, response_metadata={'finish_reason': 'function_call'}, name='Trading', id='run-e9f85033-e6d6-4674-9a18-973bbf08ae33-0', tool_calls=[], invalid_tool_calls=[])], 'sender': 'Trading'}}\n",
            "----\n",
            "{'Trading': {'messages': [HumanMessage(content='', additional_kwargs={'function_call': {'arguments': '{\\n  \"symbol\": \"NQ\",\\n  \"start_datetime\": \"Mar-4-2024 15:45:30\",\\n  \"end_datetime\": \"Apr-13-2024 15:45:30\"\\n}', 'name': 'CalculateTrend'}}, response_metadata={'finish_reason': 'function_call'}, name='Trading', id='run-c702f37e-6d8b-4163-b109-12ad091ea468-0', tool_calls=[], invalid_tool_calls=[])], 'sender': 'Trading'}}\n",
            "----\n",
            "Error reading data from InfluxDB: Invalid value for `api_client`, must be defined.\n",
            " Query is from(bucket:\"bronze\") \n",
            "                |> range(start: time(v:2024-03-04T23:45:30Z), stop: time(v: 2024-04-13T22:45:30Z))\n",
            "                |> filter(fn: (r) => r[\"_measurement\"] == \"NQ\" and                    r[\"timeframe\"] == \"1min\" and                    r[\"liq_threshold\"] == \"-1\")\n",
            "                |> pivot(rowKey:[\"_time\"], columnKey:[\"_field\"], valueColumn:\"_value\")\n",
            "                \n",
            "There is no data for this period of time...\n",
            "{'call_tool': {'messages': [FunctionMessage(content='CalculateTrend response: 0', name='CalculateTrend')]}}\n",
            "----\n",
            "{'Trading': {'messages': [HumanMessage(content='The trend of the NQ stock from 3/4/2024 15:45:30 until 13/4/2024 15:45:30 is 0, indicating that there is no significant trend during that period.', response_metadata={'finish_reason': 'stop'}, name='Trading', id='run-5b330081-080c-42f7-a714-1d99891d0fd5-0', tool_calls=[], invalid_tool_calls=[])], 'sender': 'Trading'}}\n",
            "----\n"
          ]
        }
      ]
    },
    {
      "cell_type": "code",
      "source": [
        "for s in graph.stream(\n",
        "    {\n",
        "        \"messages\": [\n",
        "            HumanMessage(\n",
        "                content=\"What is the trend of NQ stock for the past week?\"\n",
        "            )\n",
        "        ],\n",
        "    },\n",
        "    # Maximum number of steps to take in the graph\n",
        "    {\"recursion_limit\": 150},\n",
        "):\n",
        "    print(s)\n",
        "    print(\"----\")"
      ],
      "metadata": {
        "colab": {
          "base_uri": "https://localhost:8080/",
          "height": 515
        },
        "id": "CEXXfTGUaGY5",
        "outputId": "d7fc8197-838c-4562-b548-7390c4f8d98e"
      },
      "execution_count": null,
      "outputs": [
        {
          "output_type": "stream",
          "name": "stdout",
          "text": [
            "{'Handler': {'messages': [FunctionMessage(content='', name='HandleIrrelevant', HandleIrrelevant_response='False')]}}\n",
            "----\n",
            "{'Trading': {'messages': [HumanMessage(content='', additional_kwargs={'function_call': {'arguments': '{\\n  \"symbol\": \"NQ\",\\n  \"lookback\": \"1 week\"\\n}', 'name': 'CalculateTrend'}}, response_metadata={'finish_reason': 'function_call'}, name='Trading', id='run-9c7f2c05-ce9d-483a-a85e-3bace3dc097e-0', tool_calls=[], invalid_tool_calls=[])], 'sender': 'Trading'}}\n",
            "----\n",
            "{'Trading': {'messages': [HumanMessage(content='', additional_kwargs={'function_call': {'arguments': '{\\n  \"symbol\": \"NQ\",\\n  \"lookback\": \"1 week\"\\n}', 'name': 'CalculateTrend'}}, response_metadata={'finish_reason': 'function_call'}, name='Trading', id='run-86a56f22-4362-46d9-8d1e-f814072c0ca0-0', tool_calls=[], invalid_tool_calls=[])], 'sender': 'Trading'}}\n",
            "----\n"
          ]
        },
        {
          "output_type": "error",
          "ename": "ValidationError",
          "evalue": "1 validation error for PropertiesCalculateTrend\nstart_datetime\n  field required (type=value_error.missing)",
          "traceback": [
            "\u001b[0;31m---------------------------------------------------------------------------\u001b[0m",
            "\u001b[0;31mValidationError\u001b[0m                           Traceback (most recent call last)",
            "\u001b[0;32m<ipython-input-64-b528f128bbdd>\u001b[0m in \u001b[0;36m<cell line: 1>\u001b[0;34m()\u001b[0m\n\u001b[0;32m----> 1\u001b[0;31m for s in graph.stream(\n\u001b[0m\u001b[1;32m      2\u001b[0m     {\n\u001b[1;32m      3\u001b[0m         \"messages\": [\n\u001b[1;32m      4\u001b[0m             HumanMessage(\n\u001b[1;32m      5\u001b[0m                 \u001b[0mcontent\u001b[0m\u001b[0;34m=\u001b[0m\u001b[0;34m\"What is the trend of NQ stock for the past week?\"\u001b[0m\u001b[0;34m\u001b[0m\u001b[0;34m\u001b[0m\u001b[0m\n",
            "\u001b[0;32m/usr/local/lib/python3.10/dist-packages/langgraph/pregel/__init__.py\u001b[0m in \u001b[0;36mstream\u001b[0;34m(self, input, config, stream_mode, output_keys, input_keys, interrupt_before, interrupt_after, debug)\u001b[0m\n\u001b[1;32m    769\u001b[0m \u001b[0;34m\u001b[0m\u001b[0m\n\u001b[1;32m    770\u001b[0m                     \u001b[0;31m# panic on failure or timeout\u001b[0m\u001b[0;34m\u001b[0m\u001b[0;34m\u001b[0m\u001b[0m\n\u001b[0;32m--> 771\u001b[0;31m                     \u001b[0m_panic_or_proceed\u001b[0m\u001b[0;34m(\u001b[0m\u001b[0mdone\u001b[0m\u001b[0;34m,\u001b[0m \u001b[0minflight\u001b[0m\u001b[0;34m,\u001b[0m \u001b[0mstep\u001b[0m\u001b[0;34m)\u001b[0m\u001b[0;34m\u001b[0m\u001b[0;34m\u001b[0m\u001b[0m\n\u001b[0m\u001b[1;32m    772\u001b[0m \u001b[0;34m\u001b[0m\u001b[0m\n\u001b[1;32m    773\u001b[0m                     \u001b[0;31m# combine pending writes from all tasks\u001b[0m\u001b[0;34m\u001b[0m\u001b[0;34m\u001b[0m\u001b[0m\n",
            "\u001b[0;32m/usr/local/lib/python3.10/dist-packages/langgraph/pregel/__init__.py\u001b[0m in \u001b[0;36m_panic_or_proceed\u001b[0;34m(done, inflight, step)\u001b[0m\n\u001b[1;32m   1261\u001b[0m                 \u001b[0minflight\u001b[0m\u001b[0;34m.\u001b[0m\u001b[0mpop\u001b[0m\u001b[0;34m(\u001b[0m\u001b[0;34m)\u001b[0m\u001b[0;34m.\u001b[0m\u001b[0mcancel\u001b[0m\u001b[0;34m(\u001b[0m\u001b[0;34m)\u001b[0m\u001b[0;34m\u001b[0m\u001b[0;34m\u001b[0m\u001b[0m\n\u001b[1;32m   1262\u001b[0m             \u001b[0;31m# raise the exception\u001b[0m\u001b[0;34m\u001b[0m\u001b[0;34m\u001b[0m\u001b[0m\n\u001b[0;32m-> 1263\u001b[0;31m             \u001b[0;32mraise\u001b[0m \u001b[0mexc\u001b[0m\u001b[0;34m\u001b[0m\u001b[0;34m\u001b[0m\u001b[0m\n\u001b[0m\u001b[1;32m   1264\u001b[0m             \u001b[0;31m# TODO this is where retry of an entire step would happen\u001b[0m\u001b[0;34m\u001b[0m\u001b[0;34m\u001b[0m\u001b[0m\n\u001b[1;32m   1265\u001b[0m \u001b[0;34m\u001b[0m\u001b[0m\n",
            "\u001b[0;32m/usr/lib/python3.10/concurrent/futures/thread.py\u001b[0m in \u001b[0;36mrun\u001b[0;34m(self)\u001b[0m\n\u001b[1;32m     56\u001b[0m \u001b[0;34m\u001b[0m\u001b[0m\n\u001b[1;32m     57\u001b[0m         \u001b[0;32mtry\u001b[0m\u001b[0;34m:\u001b[0m\u001b[0;34m\u001b[0m\u001b[0;34m\u001b[0m\u001b[0m\n\u001b[0;32m---> 58\u001b[0;31m             \u001b[0mresult\u001b[0m \u001b[0;34m=\u001b[0m \u001b[0mself\u001b[0m\u001b[0;34m.\u001b[0m\u001b[0mfn\u001b[0m\u001b[0;34m(\u001b[0m\u001b[0;34m*\u001b[0m\u001b[0mself\u001b[0m\u001b[0;34m.\u001b[0m\u001b[0margs\u001b[0m\u001b[0;34m,\u001b[0m \u001b[0;34m**\u001b[0m\u001b[0mself\u001b[0m\u001b[0;34m.\u001b[0m\u001b[0mkwargs\u001b[0m\u001b[0;34m)\u001b[0m\u001b[0;34m\u001b[0m\u001b[0;34m\u001b[0m\u001b[0m\n\u001b[0m\u001b[1;32m     59\u001b[0m         \u001b[0;32mexcept\u001b[0m \u001b[0mBaseException\u001b[0m \u001b[0;32mas\u001b[0m \u001b[0mexc\u001b[0m\u001b[0;34m:\u001b[0m\u001b[0;34m\u001b[0m\u001b[0;34m\u001b[0m\u001b[0m\n\u001b[1;32m     60\u001b[0m             \u001b[0mself\u001b[0m\u001b[0;34m.\u001b[0m\u001b[0mfuture\u001b[0m\u001b[0;34m.\u001b[0m\u001b[0mset_exception\u001b[0m\u001b[0;34m(\u001b[0m\u001b[0mexc\u001b[0m\u001b[0;34m)\u001b[0m\u001b[0;34m\u001b[0m\u001b[0;34m\u001b[0m\u001b[0m\n",
            "\u001b[0;32m/usr/local/lib/python3.10/dist-packages/langchain_core/runnables/base.py\u001b[0m in \u001b[0;36minvoke\u001b[0;34m(self, input, config)\u001b[0m\n\u001b[1;32m   2497\u001b[0m         \u001b[0;32mtry\u001b[0m\u001b[0;34m:\u001b[0m\u001b[0;34m\u001b[0m\u001b[0;34m\u001b[0m\u001b[0m\n\u001b[1;32m   2498\u001b[0m             \u001b[0;32mfor\u001b[0m \u001b[0mi\u001b[0m\u001b[0;34m,\u001b[0m \u001b[0mstep\u001b[0m \u001b[0;32min\u001b[0m \u001b[0menumerate\u001b[0m\u001b[0;34m(\u001b[0m\u001b[0mself\u001b[0m\u001b[0;34m.\u001b[0m\u001b[0msteps\u001b[0m\u001b[0;34m)\u001b[0m\u001b[0;34m:\u001b[0m\u001b[0;34m\u001b[0m\u001b[0;34m\u001b[0m\u001b[0m\n\u001b[0;32m-> 2499\u001b[0;31m                 input = step.invoke(\n\u001b[0m\u001b[1;32m   2500\u001b[0m                     \u001b[0minput\u001b[0m\u001b[0;34m,\u001b[0m\u001b[0;34m\u001b[0m\u001b[0;34m\u001b[0m\u001b[0m\n\u001b[1;32m   2501\u001b[0m                     \u001b[0;31m# mark each step as a child run\u001b[0m\u001b[0;34m\u001b[0m\u001b[0;34m\u001b[0m\u001b[0m\n",
            "\u001b[0;32m/usr/local/lib/python3.10/dist-packages/langgraph/utils.py\u001b[0m in \u001b[0;36minvoke\u001b[0;34m(self, input, config)\u001b[0m\n\u001b[1;32m     86\u001b[0m                 \u001b[0;32melse\u001b[0m \u001b[0mself\u001b[0m\u001b[0;34m.\u001b[0m\u001b[0mkwargs\u001b[0m\u001b[0;34m\u001b[0m\u001b[0;34m\u001b[0m\u001b[0m\n\u001b[1;32m     87\u001b[0m             )\n\u001b[0;32m---> 88\u001b[0;31m             \u001b[0mret\u001b[0m \u001b[0;34m=\u001b[0m \u001b[0mcontext\u001b[0m\u001b[0;34m.\u001b[0m\u001b[0mrun\u001b[0m\u001b[0;34m(\u001b[0m\u001b[0mself\u001b[0m\u001b[0;34m.\u001b[0m\u001b[0mfunc\u001b[0m\u001b[0;34m,\u001b[0m \u001b[0minput\u001b[0m\u001b[0;34m,\u001b[0m \u001b[0;34m**\u001b[0m\u001b[0mkwargs\u001b[0m\u001b[0;34m)\u001b[0m\u001b[0;34m\u001b[0m\u001b[0;34m\u001b[0m\u001b[0m\n\u001b[0m\u001b[1;32m     89\u001b[0m         \u001b[0;32mif\u001b[0m \u001b[0misinstance\u001b[0m\u001b[0;34m(\u001b[0m\u001b[0mret\u001b[0m\u001b[0;34m,\u001b[0m \u001b[0mRunnable\u001b[0m\u001b[0;34m)\u001b[0m \u001b[0;32mand\u001b[0m \u001b[0mself\u001b[0m\u001b[0;34m.\u001b[0m\u001b[0mrecurse\u001b[0m\u001b[0;34m:\u001b[0m\u001b[0;34m\u001b[0m\u001b[0;34m\u001b[0m\u001b[0m\n\u001b[1;32m     90\u001b[0m             \u001b[0;32mreturn\u001b[0m \u001b[0mret\u001b[0m\u001b[0;34m.\u001b[0m\u001b[0minvoke\u001b[0m\u001b[0;34m(\u001b[0m\u001b[0minput\u001b[0m\u001b[0;34m,\u001b[0m \u001b[0mconfig\u001b[0m\u001b[0;34m)\u001b[0m\u001b[0;34m\u001b[0m\u001b[0;34m\u001b[0m\u001b[0m\n",
            "\u001b[0;32m<ipython-input-45-38e78445e906>\u001b[0m in \u001b[0;36mtool_node\u001b[0;34m(state)\u001b[0m\n\u001b[1;32m     22\u001b[0m   )\n\u001b[1;32m     23\u001b[0m \u001b[0;34m\u001b[0m\u001b[0m\n\u001b[0;32m---> 24\u001b[0;31m   \u001b[0mresponse\u001b[0m \u001b[0;34m=\u001b[0m \u001b[0mtool_executor\u001b[0m\u001b[0;34m.\u001b[0m\u001b[0minvoke\u001b[0m\u001b[0;34m(\u001b[0m\u001b[0maction\u001b[0m\u001b[0;34m)\u001b[0m\u001b[0;34m\u001b[0m\u001b[0;34m\u001b[0m\u001b[0m\n\u001b[0m\u001b[1;32m     25\u001b[0m   function_message = FunctionMessage(\n\u001b[1;32m     26\u001b[0m       \u001b[0mcontent\u001b[0m\u001b[0;34m=\u001b[0m\u001b[0;34mf\"{tool_name} response: {str(response)}\"\u001b[0m\u001b[0;34m,\u001b[0m \u001b[0mname\u001b[0m\u001b[0;34m=\u001b[0m\u001b[0maction\u001b[0m\u001b[0;34m.\u001b[0m\u001b[0mtool\u001b[0m\u001b[0;34m\u001b[0m\u001b[0;34m\u001b[0m\u001b[0m\n",
            "\u001b[0;32m/usr/local/lib/python3.10/dist-packages/langgraph/utils.py\u001b[0m in \u001b[0;36minvoke\u001b[0;34m(self, input, config)\u001b[0m\n\u001b[1;32m     86\u001b[0m                 \u001b[0;32melse\u001b[0m \u001b[0mself\u001b[0m\u001b[0;34m.\u001b[0m\u001b[0mkwargs\u001b[0m\u001b[0;34m\u001b[0m\u001b[0;34m\u001b[0m\u001b[0m\n\u001b[1;32m     87\u001b[0m             )\n\u001b[0;32m---> 88\u001b[0;31m             \u001b[0mret\u001b[0m \u001b[0;34m=\u001b[0m \u001b[0mcontext\u001b[0m\u001b[0;34m.\u001b[0m\u001b[0mrun\u001b[0m\u001b[0;34m(\u001b[0m\u001b[0mself\u001b[0m\u001b[0;34m.\u001b[0m\u001b[0mfunc\u001b[0m\u001b[0;34m,\u001b[0m \u001b[0minput\u001b[0m\u001b[0;34m,\u001b[0m \u001b[0;34m**\u001b[0m\u001b[0mkwargs\u001b[0m\u001b[0;34m)\u001b[0m\u001b[0;34m\u001b[0m\u001b[0;34m\u001b[0m\u001b[0m\n\u001b[0m\u001b[1;32m     89\u001b[0m         \u001b[0;32mif\u001b[0m \u001b[0misinstance\u001b[0m\u001b[0;34m(\u001b[0m\u001b[0mret\u001b[0m\u001b[0;34m,\u001b[0m \u001b[0mRunnable\u001b[0m\u001b[0;34m)\u001b[0m \u001b[0;32mand\u001b[0m \u001b[0mself\u001b[0m\u001b[0;34m.\u001b[0m\u001b[0mrecurse\u001b[0m\u001b[0;34m:\u001b[0m\u001b[0;34m\u001b[0m\u001b[0;34m\u001b[0m\u001b[0m\n\u001b[1;32m     90\u001b[0m             \u001b[0;32mreturn\u001b[0m \u001b[0mret\u001b[0m\u001b[0;34m.\u001b[0m\u001b[0minvoke\u001b[0m\u001b[0;34m(\u001b[0m\u001b[0minput\u001b[0m\u001b[0;34m,\u001b[0m \u001b[0mconfig\u001b[0m\u001b[0;34m)\u001b[0m\u001b[0;34m\u001b[0m\u001b[0;34m\u001b[0m\u001b[0m\n",
            "\u001b[0;32m/usr/local/lib/python3.10/dist-packages/langgraph/prebuilt/tool_executor.py\u001b[0m in \u001b[0;36m_execute\u001b[0;34m(self, tool_invocation, config)\u001b[0m\n\u001b[1;32m    100\u001b[0m         \u001b[0;32melse\u001b[0m\u001b[0;34m:\u001b[0m\u001b[0;34m\u001b[0m\u001b[0;34m\u001b[0m\u001b[0m\n\u001b[1;32m    101\u001b[0m             \u001b[0mtool\u001b[0m \u001b[0;34m=\u001b[0m \u001b[0mself\u001b[0m\u001b[0;34m.\u001b[0m\u001b[0mtool_map\u001b[0m\u001b[0;34m[\u001b[0m\u001b[0mtool_invocation\u001b[0m\u001b[0;34m.\u001b[0m\u001b[0mtool\u001b[0m\u001b[0;34m]\u001b[0m\u001b[0;34m\u001b[0m\u001b[0;34m\u001b[0m\u001b[0m\n\u001b[0;32m--> 102\u001b[0;31m             \u001b[0moutput\u001b[0m \u001b[0;34m=\u001b[0m \u001b[0mtool\u001b[0m\u001b[0;34m.\u001b[0m\u001b[0minvoke\u001b[0m\u001b[0;34m(\u001b[0m\u001b[0mtool_invocation\u001b[0m\u001b[0;34m.\u001b[0m\u001b[0mtool_input\u001b[0m\u001b[0;34m,\u001b[0m \u001b[0mconfig\u001b[0m\u001b[0;34m)\u001b[0m\u001b[0;34m\u001b[0m\u001b[0;34m\u001b[0m\u001b[0m\n\u001b[0m\u001b[1;32m    103\u001b[0m             \u001b[0;32mreturn\u001b[0m \u001b[0moutput\u001b[0m\u001b[0;34m\u001b[0m\u001b[0;34m\u001b[0m\u001b[0m\n\u001b[1;32m    104\u001b[0m \u001b[0;34m\u001b[0m\u001b[0m\n",
            "\u001b[0;32m/usr/local/lib/python3.10/dist-packages/langchain_core/tools.py\u001b[0m in \u001b[0;36minvoke\u001b[0;34m(self, input, config, **kwargs)\u001b[0m\n\u001b[1;32m    258\u001b[0m     ) -> Any:\n\u001b[1;32m    259\u001b[0m         \u001b[0mconfig\u001b[0m \u001b[0;34m=\u001b[0m \u001b[0mensure_config\u001b[0m\u001b[0;34m(\u001b[0m\u001b[0mconfig\u001b[0m\u001b[0;34m)\u001b[0m\u001b[0;34m\u001b[0m\u001b[0;34m\u001b[0m\u001b[0m\n\u001b[0;32m--> 260\u001b[0;31m         return self.run(\n\u001b[0m\u001b[1;32m    261\u001b[0m             \u001b[0minput\u001b[0m\u001b[0;34m,\u001b[0m\u001b[0;34m\u001b[0m\u001b[0;34m\u001b[0m\u001b[0m\n\u001b[1;32m    262\u001b[0m             \u001b[0mcallbacks\u001b[0m\u001b[0;34m=\u001b[0m\u001b[0mconfig\u001b[0m\u001b[0;34m.\u001b[0m\u001b[0mget\u001b[0m\u001b[0;34m(\u001b[0m\u001b[0;34m\"callbacks\"\u001b[0m\u001b[0;34m)\u001b[0m\u001b[0;34m,\u001b[0m\u001b[0;34m\u001b[0m\u001b[0;34m\u001b[0m\u001b[0m\n",
            "\u001b[0;32m/usr/local/lib/python3.10/dist-packages/langchain_core/tools.py\u001b[0m in \u001b[0;36mrun\u001b[0;34m(self, tool_input, verbose, start_color, color, callbacks, tags, metadata, run_name, run_id, config, **kwargs)\u001b[0m\n\u001b[1;32m    415\u001b[0m         \u001b[0;32mexcept\u001b[0m \u001b[0mValidationError\u001b[0m \u001b[0;32mas\u001b[0m \u001b[0me\u001b[0m\u001b[0;34m:\u001b[0m\u001b[0;34m\u001b[0m\u001b[0;34m\u001b[0m\u001b[0m\n\u001b[1;32m    416\u001b[0m             \u001b[0;32mif\u001b[0m \u001b[0;32mnot\u001b[0m \u001b[0mself\u001b[0m\u001b[0;34m.\u001b[0m\u001b[0mhandle_validation_error\u001b[0m\u001b[0;34m:\u001b[0m\u001b[0;34m\u001b[0m\u001b[0;34m\u001b[0m\u001b[0m\n\u001b[0;32m--> 417\u001b[0;31m                 \u001b[0;32mraise\u001b[0m \u001b[0me\u001b[0m\u001b[0;34m\u001b[0m\u001b[0;34m\u001b[0m\u001b[0m\n\u001b[0m\u001b[1;32m    418\u001b[0m             \u001b[0;32melif\u001b[0m \u001b[0misinstance\u001b[0m\u001b[0;34m(\u001b[0m\u001b[0mself\u001b[0m\u001b[0;34m.\u001b[0m\u001b[0mhandle_validation_error\u001b[0m\u001b[0;34m,\u001b[0m \u001b[0mbool\u001b[0m\u001b[0;34m)\u001b[0m\u001b[0;34m:\u001b[0m\u001b[0;34m\u001b[0m\u001b[0;34m\u001b[0m\u001b[0m\n\u001b[1;32m    419\u001b[0m                 \u001b[0mobservation\u001b[0m \u001b[0;34m=\u001b[0m \u001b[0;34m\"Tool input validation error\"\u001b[0m\u001b[0;34m\u001b[0m\u001b[0;34m\u001b[0m\u001b[0m\n",
            "\u001b[0;32m/usr/local/lib/python3.10/dist-packages/langchain_core/tools.py\u001b[0m in \u001b[0;36mrun\u001b[0;34m(self, tool_input, verbose, start_color, color, callbacks, tags, metadata, run_name, run_id, config, **kwargs)\u001b[0m\n\u001b[1;32m    404\u001b[0m             \u001b[0mcontext\u001b[0m \u001b[0;34m=\u001b[0m \u001b[0mcopy_context\u001b[0m\u001b[0;34m(\u001b[0m\u001b[0;34m)\u001b[0m\u001b[0;34m\u001b[0m\u001b[0;34m\u001b[0m\u001b[0m\n\u001b[1;32m    405\u001b[0m             \u001b[0mcontext\u001b[0m\u001b[0;34m.\u001b[0m\u001b[0mrun\u001b[0m\u001b[0;34m(\u001b[0m\u001b[0mvar_child_runnable_config\u001b[0m\u001b[0;34m.\u001b[0m\u001b[0mset\u001b[0m\u001b[0;34m,\u001b[0m \u001b[0mchild_config\u001b[0m\u001b[0;34m)\u001b[0m\u001b[0;34m\u001b[0m\u001b[0;34m\u001b[0m\u001b[0m\n\u001b[0;32m--> 406\u001b[0;31m             \u001b[0mparsed_input\u001b[0m \u001b[0;34m=\u001b[0m \u001b[0mself\u001b[0m\u001b[0;34m.\u001b[0m\u001b[0m_parse_input\u001b[0m\u001b[0;34m(\u001b[0m\u001b[0mtool_input\u001b[0m\u001b[0;34m)\u001b[0m\u001b[0;34m\u001b[0m\u001b[0;34m\u001b[0m\u001b[0m\n\u001b[0m\u001b[1;32m    407\u001b[0m             \u001b[0mtool_args\u001b[0m\u001b[0;34m,\u001b[0m \u001b[0mtool_kwargs\u001b[0m \u001b[0;34m=\u001b[0m \u001b[0mself\u001b[0m\u001b[0;34m.\u001b[0m\u001b[0m_to_args_and_kwargs\u001b[0m\u001b[0;34m(\u001b[0m\u001b[0mparsed_input\u001b[0m\u001b[0;34m)\u001b[0m\u001b[0;34m\u001b[0m\u001b[0;34m\u001b[0m\u001b[0m\n\u001b[1;32m    408\u001b[0m             observation = (\n",
            "\u001b[0;32m/usr/local/lib/python3.10/dist-packages/langchain_core/tools.py\u001b[0m in \u001b[0;36m_parse_input\u001b[0;34m(self, tool_input)\u001b[0m\n\u001b[1;32m    302\u001b[0m         \u001b[0;32melse\u001b[0m\u001b[0;34m:\u001b[0m\u001b[0;34m\u001b[0m\u001b[0;34m\u001b[0m\u001b[0m\n\u001b[1;32m    303\u001b[0m             \u001b[0;32mif\u001b[0m \u001b[0minput_args\u001b[0m \u001b[0;32mis\u001b[0m \u001b[0;32mnot\u001b[0m \u001b[0;32mNone\u001b[0m\u001b[0;34m:\u001b[0m\u001b[0;34m\u001b[0m\u001b[0;34m\u001b[0m\u001b[0m\n\u001b[0;32m--> 304\u001b[0;31m                 \u001b[0mresult\u001b[0m \u001b[0;34m=\u001b[0m \u001b[0minput_args\u001b[0m\u001b[0;34m.\u001b[0m\u001b[0mparse_obj\u001b[0m\u001b[0;34m(\u001b[0m\u001b[0mtool_input\u001b[0m\u001b[0;34m)\u001b[0m\u001b[0;34m\u001b[0m\u001b[0;34m\u001b[0m\u001b[0m\n\u001b[0m\u001b[1;32m    305\u001b[0m                 return {\n\u001b[1;32m    306\u001b[0m                     \u001b[0mk\u001b[0m\u001b[0;34m:\u001b[0m \u001b[0mgetattr\u001b[0m\u001b[0;34m(\u001b[0m\u001b[0mresult\u001b[0m\u001b[0;34m,\u001b[0m \u001b[0mk\u001b[0m\u001b[0;34m)\u001b[0m\u001b[0;34m\u001b[0m\u001b[0;34m\u001b[0m\u001b[0m\n",
            "\u001b[0;32m/usr/local/lib/python3.10/dist-packages/pydantic/v1/main.py\u001b[0m in \u001b[0;36mparse_obj\u001b[0;34m(cls, obj)\u001b[0m\n\u001b[1;32m    524\u001b[0m                 \u001b[0mexc\u001b[0m \u001b[0;34m=\u001b[0m \u001b[0mTypeError\u001b[0m\u001b[0;34m(\u001b[0m\u001b[0;34mf'{cls.__name__} expected dict not {obj.__class__.__name__}'\u001b[0m\u001b[0;34m)\u001b[0m\u001b[0;34m\u001b[0m\u001b[0;34m\u001b[0m\u001b[0m\n\u001b[1;32m    525\u001b[0m                 \u001b[0;32mraise\u001b[0m \u001b[0mValidationError\u001b[0m\u001b[0;34m(\u001b[0m\u001b[0;34m[\u001b[0m\u001b[0mErrorWrapper\u001b[0m\u001b[0;34m(\u001b[0m\u001b[0mexc\u001b[0m\u001b[0;34m,\u001b[0m \u001b[0mloc\u001b[0m\u001b[0;34m=\u001b[0m\u001b[0mROOT_KEY\u001b[0m\u001b[0;34m)\u001b[0m\u001b[0;34m]\u001b[0m\u001b[0;34m,\u001b[0m \u001b[0mcls\u001b[0m\u001b[0;34m)\u001b[0m \u001b[0;32mfrom\u001b[0m \u001b[0me\u001b[0m\u001b[0;34m\u001b[0m\u001b[0;34m\u001b[0m\u001b[0m\n\u001b[0;32m--> 526\u001b[0;31m         \u001b[0;32mreturn\u001b[0m \u001b[0mcls\u001b[0m\u001b[0;34m(\u001b[0m\u001b[0;34m**\u001b[0m\u001b[0mobj\u001b[0m\u001b[0;34m)\u001b[0m\u001b[0;34m\u001b[0m\u001b[0;34m\u001b[0m\u001b[0m\n\u001b[0m\u001b[1;32m    527\u001b[0m \u001b[0;34m\u001b[0m\u001b[0m\n\u001b[1;32m    528\u001b[0m     \u001b[0;34m@\u001b[0m\u001b[0mclassmethod\u001b[0m\u001b[0;34m\u001b[0m\u001b[0;34m\u001b[0m\u001b[0m\n",
            "\u001b[0;32m/usr/local/lib/python3.10/dist-packages/pydantic/v1/main.py\u001b[0m in \u001b[0;36m__init__\u001b[0;34m(__pydantic_self__, **data)\u001b[0m\n\u001b[1;32m    339\u001b[0m         \u001b[0mvalues\u001b[0m\u001b[0;34m,\u001b[0m \u001b[0mfields_set\u001b[0m\u001b[0;34m,\u001b[0m \u001b[0mvalidation_error\u001b[0m \u001b[0;34m=\u001b[0m \u001b[0mvalidate_model\u001b[0m\u001b[0;34m(\u001b[0m\u001b[0m__pydantic_self__\u001b[0m\u001b[0;34m.\u001b[0m\u001b[0m__class__\u001b[0m\u001b[0;34m,\u001b[0m \u001b[0mdata\u001b[0m\u001b[0;34m)\u001b[0m\u001b[0;34m\u001b[0m\u001b[0;34m\u001b[0m\u001b[0m\n\u001b[1;32m    340\u001b[0m         \u001b[0;32mif\u001b[0m \u001b[0mvalidation_error\u001b[0m\u001b[0;34m:\u001b[0m\u001b[0;34m\u001b[0m\u001b[0;34m\u001b[0m\u001b[0m\n\u001b[0;32m--> 341\u001b[0;31m             \u001b[0;32mraise\u001b[0m \u001b[0mvalidation_error\u001b[0m\u001b[0;34m\u001b[0m\u001b[0;34m\u001b[0m\u001b[0m\n\u001b[0m\u001b[1;32m    342\u001b[0m         \u001b[0;32mtry\u001b[0m\u001b[0;34m:\u001b[0m\u001b[0;34m\u001b[0m\u001b[0;34m\u001b[0m\u001b[0m\n\u001b[1;32m    343\u001b[0m             \u001b[0mobject_setattr\u001b[0m\u001b[0;34m(\u001b[0m\u001b[0m__pydantic_self__\u001b[0m\u001b[0;34m,\u001b[0m \u001b[0;34m'__dict__'\u001b[0m\u001b[0;34m,\u001b[0m \u001b[0mvalues\u001b[0m\u001b[0;34m)\u001b[0m\u001b[0;34m\u001b[0m\u001b[0;34m\u001b[0m\u001b[0m\n",
            "\u001b[0;31mValidationError\u001b[0m: 1 validation error for PropertiesCalculateTrend\nstart_datetime\n  field required (type=value_error.missing)"
          ]
        }
      ]
    },
    {
      "cell_type": "code",
      "source": [
        "for s in graph.stream(\n",
        "    {\n",
        "        \"messages\": [\n",
        "            HumanMessage(\n",
        "                content=\"What is the trend of NQ?\"\n",
        "            )\n",
        "        ],\n",
        "    },\n",
        "    # Maximum number of steps to take in the graph\n",
        "    {\"recursion_limit\": 150},\n",
        "):\n",
        "    print(s)\n",
        "    print(\"----\")"
      ],
      "metadata": {
        "colab": {
          "base_uri": "https://localhost:8080/"
        },
        "id": "KHU2wN9qaIKO",
        "outputId": "e8793d23-3196-4434-d086-a8ac071dc8c0"
      },
      "execution_count": null,
      "outputs": [
        {
          "output_type": "stream",
          "name": "stdout",
          "text": [
            "{'Handler': {'messages': [FunctionMessage(content='', name='HandleIrrelevant', HandleIrrelevant_response='False')]}}\n",
            "----\n",
            "{'Trading': {'messages': [HumanMessage(content='', additional_kwargs={'function_call': {'arguments': '{\\n  \"symbol\": \"NQ\",\\n  \"start_datetime\": \"May-1-2022 00:00:00\",\\n  \"end_datetime\": \"May-31-2022 23:59:59\"\\n}', 'name': 'CalculateTrend'}}, response_metadata={'finish_reason': 'function_call'}, name='Trading', id='run-eec49efd-e4a1-464d-ba5a-8b8751da9b07-0', tool_calls=[], invalid_tool_calls=[])], 'sender': 'Trading'}}\n",
            "----\n",
            "{'Trading': {'messages': [HumanMessage(content='', additional_kwargs={'function_call': {'arguments': '{\\n  \"symbol\": \"NQ\",\\n  \"start_datetime\": \"May-1-2022 00:00:00\",\\n  \"end_datetime\": \"May-31-2022 23:59:59\"\\n}', 'name': 'CalculateTrend'}}, response_metadata={'finish_reason': 'function_call'}, name='Trading', id='run-ad90c8fa-c813-4b0c-ad56-0f3d3fb11cbd-0', tool_calls=[], invalid_tool_calls=[])], 'sender': 'Trading'}}\n",
            "----\n",
            "Error reading data from InfluxDB: Invalid value for `api_client`, must be defined.\n",
            " Query is from(bucket:\"bronze\") \n",
            "                |> range(start: time(v:2022-05-01T07:00:00Z), stop: time(v: 2022-06-01T06:59:59Z))\n",
            "                |> filter(fn: (r) => r[\"_measurement\"] == \"NQ\" and                    r[\"timeframe\"] == \"1min\" and                    r[\"liq_threshold\"] == \"-1\")\n",
            "                |> pivot(rowKey:[\"_time\"], columnKey:[\"_field\"], valueColumn:\"_value\")\n",
            "                \n",
            "There is no data for this period of time...\n",
            "{'call_tool': {'messages': [FunctionMessage(content='CalculateTrend response: 0', name='CalculateTrend')]}}\n",
            "----\n",
            "{'Trading': {'messages': [HumanMessage(content='The current trend of NQ is without a significant trend.', response_metadata={'finish_reason': 'stop'}, name='Trading', id='run-e45401c6-1cbe-4f0f-b3f6-29a2e6161b63-0', tool_calls=[], invalid_tool_calls=[])], 'sender': 'Trading'}}\n",
            "----\n"
          ]
        }
      ]
    },
    {
      "cell_type": "code",
      "source": [
        "for s in graph.stream(\n",
        "    {\n",
        "        \"messages\": [\n",
        "            HumanMessage(\n",
        "                content=\"What is the trend?\"\n",
        "            )\n",
        "        ],\n",
        "    },\n",
        "    # Maximum number of steps to take in the graph\n",
        "    {\"recursion_limit\": 150},\n",
        "):\n",
        "    print(s)\n",
        "    print(\"----\")"
      ],
      "metadata": {
        "colab": {
          "base_uri": "https://localhost:8080/"
        },
        "id": "2RiSaKhsaIsx",
        "outputId": "edadf504-f731-44e8-a149-9a8780f89dd6"
      },
      "execution_count": null,
      "outputs": [
        {
          "output_type": "stream",
          "name": "stdout",
          "text": [
            "{'Handler': {'messages': [FunctionMessage(content='', name='HandleIrrelevant', HandleIrrelevant_response='False')]}}\n",
            "----\n",
            "{'Trading': {'messages': [HumanMessage(content='To determine the trend, I need more information. Please provide the symbol of the financial instrument and the time range you would like to analyze.', response_metadata={'finish_reason': 'stop'}, name='Trading', id='run-81a4ca89-0d99-470d-bf4d-34acfaddc709-0', tool_calls=[], invalid_tool_calls=[])], 'sender': 'Trading'}}\n",
            "----\n"
          ]
        }
      ]
    },
    {
      "cell_type": "code",
      "source": [
        "for s in graph.stream(\n",
        "    {\n",
        "        \"messages\": [\n",
        "            HumanMessage(\n",
        "                content=\"Show me the trend of ES from 2024-03-25 11:12:17 to 2024-04-01 9:31:23.\"\n",
        "            )\n",
        "        ],\n",
        "    },\n",
        "    # Maximum number of steps to take in the graph\n",
        "    {\"recursion_limit\": 150},\n",
        "):\n",
        "    print(s)\n",
        "    print(\"----\")"
      ],
      "metadata": {
        "colab": {
          "base_uri": "https://localhost:8080/"
        },
        "id": "chOfh39vaJIS",
        "outputId": "8ebf8ce5-1dfa-4167-c449-87bf8a8fc6b6"
      },
      "execution_count": null,
      "outputs": [
        {
          "output_type": "stream",
          "name": "stdout",
          "text": [
            "{'Handler': {'messages': [FunctionMessage(content='', name='HandleIrrelevant', HandleIrrelevant_response='False')]}}\n",
            "----\n",
            "{'Trading': {'messages': [HumanMessage(content='', additional_kwargs={'function_call': {'arguments': '{\\n  \"symbol\": \"ES\",\\n  \"start_datetime\": \"Mar-25-2024 11:12:17\",\\n  \"end_datetime\": \"Apr-01-2024 9:31:23\"\\n}', 'name': 'CalculateTrend'}}, response_metadata={'finish_reason': 'function_call'}, name='Trading', id='run-26ac2ac1-72b7-4aa3-9e49-47973bd6d6d7-0', tool_calls=[], invalid_tool_calls=[])], 'sender': 'Trading'}}\n",
            "----\n",
            "{'Trading': {'messages': [HumanMessage(content='', additional_kwargs={'function_call': {'arguments': '{\\n  \"symbol\": \"ES\",\\n  \"start_datetime\": \"Mar-25-2024 11:12:17\",\\n  \"end_datetime\": \"Apr-01-2024 9:31:23\"\\n}', 'name': 'CalculateTrend'}}, response_metadata={'finish_reason': 'function_call'}, name='Trading', id='run-9476a50b-cb39-4275-85ed-b9bf0bd05af9-0', tool_calls=[], invalid_tool_calls=[])], 'sender': 'Trading'}}\n",
            "----\n",
            "Error reading data from InfluxDB: Invalid value for `api_client`, must be defined.\n",
            " Query is from(bucket:\"bronze\") \n",
            "                |> range(start: time(v:2024-03-25T18:12:17Z), stop: time(v: 2024-04-01T16:31:23Z))\n",
            "                |> filter(fn: (r) => r[\"_measurement\"] == \"ES\" and                    r[\"timeframe\"] == \"1min\" and                    r[\"liq_threshold\"] == \"-1\")\n",
            "                |> pivot(rowKey:[\"_time\"], columnKey:[\"_field\"], valueColumn:\"_value\")\n",
            "                \n",
            "There is no data for this period of time...\n",
            "{'call_tool': {'messages': [FunctionMessage(content='CalculateTrend response: 0', name='CalculateTrend')]}}\n",
            "----\n",
            "{'Trading': {'messages': [HumanMessage(content='The trend of ES from 2024-03-25 11:12:17 to 2024-04-01 9:31:23 is 0, indicating that there is no significant trend during that time period.', response_metadata={'finish_reason': 'stop'}, name='Trading', id='run-f3e3ce98-4108-4592-abc3-bac5107d01ec-0', tool_calls=[], invalid_tool_calls=[])], 'sender': 'Trading'}}\n",
            "----\n"
          ]
        }
      ]
    },
    {
      "cell_type": "code",
      "source": [
        "for s in graph.stream(\n",
        "    {\n",
        "        \"messages\": [\n",
        "            HumanMessage(\n",
        "                content=\"Trend of GC, 2024-03-25 11:12:17 to 2024-04-01 9:31:23\"\n",
        "            )\n",
        "        ],\n",
        "    },\n",
        "    # Maximum number of steps to take in the graph\n",
        "    {\"recursion_limit\": 150},\n",
        "):\n",
        "    print(s)\n",
        "    print(\"----\")"
      ],
      "metadata": {
        "colab": {
          "base_uri": "https://localhost:8080/"
        },
        "id": "fsvqlY2MaJhY",
        "outputId": "a712620e-222a-4cd6-f32e-89fce5b591c2"
      },
      "execution_count": null,
      "outputs": [
        {
          "output_type": "stream",
          "name": "stdout",
          "text": [
            "{'Handler': {'messages': [FunctionMessage(content='', name='HandleIrrelevant', HandleIrrelevant_response='False')]}}\n",
            "----\n",
            "{'Trading': {'messages': [HumanMessage(content='', additional_kwargs={'function_call': {'arguments': '{\\n  \"symbol\": \"GC\",\\n  \"start_datetime\": \"Mar-25-2024 11:12:17\",\\n  \"end_datetime\": \"Apr-01-2024 9:31:23\"\\n}', 'name': 'CalculateTrend'}}, response_metadata={'finish_reason': 'function_call'}, name='Trading', id='run-d7065396-0651-40d2-9299-aa795a42dd64-0', tool_calls=[], invalid_tool_calls=[])], 'sender': 'Trading'}}\n",
            "----\n",
            "{'Trading': {'messages': [HumanMessage(content='', additional_kwargs={'function_call': {'arguments': '{\\n  \"symbol\": \"GC\",\\n  \"start_datetime\": \"Mar-25-2024 11:12:17\",\\n  \"end_datetime\": \"Apr-01-2024 9:31:23\"\\n}', 'name': 'CalculateTrend'}}, response_metadata={'finish_reason': 'function_call'}, name='Trading', id='run-b8742075-1047-4167-9615-590d030c6dad-0', tool_calls=[], invalid_tool_calls=[])], 'sender': 'Trading'}}\n",
            "----\n",
            "Error reading data from InfluxDB: Invalid value for `api_client`, must be defined.\n",
            " Query is from(bucket:\"bronze\") \n",
            "                |> range(start: time(v:2024-03-25T18:12:17Z), stop: time(v: 2024-04-01T16:31:23Z))\n",
            "                |> filter(fn: (r) => r[\"_measurement\"] == \"GC\" and                    r[\"timeframe\"] == \"1min\" and                    r[\"liq_threshold\"] == \"-1\")\n",
            "                |> pivot(rowKey:[\"_time\"], columnKey:[\"_field\"], valueColumn:\"_value\")\n",
            "                \n",
            "There is no data for this period of time...\n",
            "{'call_tool': {'messages': [FunctionMessage(content='CalculateTrend response: 0', name='CalculateTrend')]}}\n",
            "----\n",
            "{'Trading': {'messages': [HumanMessage(content='The trend of GC from 2024-03-25 11:12:17 to 2024-04-01 9:31:23 is without significant trend (0).', response_metadata={'finish_reason': 'stop'}, name='Trading', id='run-9caa4fda-0ac8-4be4-bae5-bb10375d5af3-0', tool_calls=[], invalid_tool_calls=[])], 'sender': 'Trading'}}\n",
            "----\n"
          ]
        }
      ]
    },
    {
      "cell_type": "code",
      "source": [
        "for s in graph.stream(\n",
        "    {\n",
        "        \"messages\": [\n",
        "            HumanMessage(\n",
        "                content=\"Trend of GC, past 2 hours\"\n",
        "            )\n",
        "        ],\n",
        "    },\n",
        "    # Maximum number of steps to take in the graph\n",
        "    {\"recursion_limit\": 150},\n",
        "):\n",
        "    print(s)\n",
        "    print(\"----\")"
      ],
      "metadata": {
        "colab": {
          "base_uri": "https://localhost:8080/",
          "height": 515
        },
        "id": "_wcYy6Q5aJ-p",
        "outputId": "7d1f52bd-a4e9-4570-dda8-4c6222c48676"
      },
      "execution_count": null,
      "outputs": [
        {
          "output_type": "stream",
          "name": "stdout",
          "text": [
            "{'Handler': {'messages': [FunctionMessage(content='', name='HandleIrrelevant', HandleIrrelevant_response='False')]}}\n",
            "----\n",
            "{'Trading': {'messages': [HumanMessage(content='', additional_kwargs={'function_call': {'arguments': '{\\n  \"symbol\": \"GC\",\\n  \"lookback\": \"2 hours\"\\n}', 'name': 'CalculateTrend'}}, response_metadata={'finish_reason': 'function_call'}, name='Trading', id='run-867b9d93-4fca-4bed-8e06-0fc7eb26a71b-0', tool_calls=[], invalid_tool_calls=[])], 'sender': 'Trading'}}\n",
            "----\n",
            "{'Trading': {'messages': [HumanMessage(content='', additional_kwargs={'function_call': {'arguments': '{\\n  \"symbol\": \"GC\",\\n  \"lookback\": \"2 hours\"\\n}', 'name': 'CalculateTrend'}}, response_metadata={'finish_reason': 'function_call'}, name='Trading', id='run-b4a8dfb0-07db-4e58-9004-d04dfc3f521f-0', tool_calls=[], invalid_tool_calls=[])], 'sender': 'Trading'}}\n",
            "----\n"
          ]
        },
        {
          "output_type": "error",
          "ename": "ValidationError",
          "evalue": "1 validation error for PropertiesCalculateTrend\nstart_datetime\n  field required (type=value_error.missing)",
          "traceback": [
            "\u001b[0;31m---------------------------------------------------------------------------\u001b[0m",
            "\u001b[0;31mValidationError\u001b[0m                           Traceback (most recent call last)",
            "\u001b[0;32m<ipython-input-69-f9aed9bb9876>\u001b[0m in \u001b[0;36m<cell line: 1>\u001b[0;34m()\u001b[0m\n\u001b[0;32m----> 1\u001b[0;31m for s in graph.stream(\n\u001b[0m\u001b[1;32m      2\u001b[0m     {\n\u001b[1;32m      3\u001b[0m         \"messages\": [\n\u001b[1;32m      4\u001b[0m             HumanMessage(\n\u001b[1;32m      5\u001b[0m                 \u001b[0mcontent\u001b[0m\u001b[0;34m=\u001b[0m\u001b[0;34m\"Trend of GC, past 2 hours\"\u001b[0m\u001b[0;34m\u001b[0m\u001b[0;34m\u001b[0m\u001b[0m\n",
            "\u001b[0;32m/usr/local/lib/python3.10/dist-packages/langgraph/pregel/__init__.py\u001b[0m in \u001b[0;36mstream\u001b[0;34m(self, input, config, stream_mode, output_keys, input_keys, interrupt_before, interrupt_after, debug)\u001b[0m\n\u001b[1;32m    769\u001b[0m \u001b[0;34m\u001b[0m\u001b[0m\n\u001b[1;32m    770\u001b[0m                     \u001b[0;31m# panic on failure or timeout\u001b[0m\u001b[0;34m\u001b[0m\u001b[0;34m\u001b[0m\u001b[0m\n\u001b[0;32m--> 771\u001b[0;31m                     \u001b[0m_panic_or_proceed\u001b[0m\u001b[0;34m(\u001b[0m\u001b[0mdone\u001b[0m\u001b[0;34m,\u001b[0m \u001b[0minflight\u001b[0m\u001b[0;34m,\u001b[0m \u001b[0mstep\u001b[0m\u001b[0;34m)\u001b[0m\u001b[0;34m\u001b[0m\u001b[0;34m\u001b[0m\u001b[0m\n\u001b[0m\u001b[1;32m    772\u001b[0m \u001b[0;34m\u001b[0m\u001b[0m\n\u001b[1;32m    773\u001b[0m                     \u001b[0;31m# combine pending writes from all tasks\u001b[0m\u001b[0;34m\u001b[0m\u001b[0;34m\u001b[0m\u001b[0m\n",
            "\u001b[0;32m/usr/local/lib/python3.10/dist-packages/langgraph/pregel/__init__.py\u001b[0m in \u001b[0;36m_panic_or_proceed\u001b[0;34m(done, inflight, step)\u001b[0m\n\u001b[1;32m   1261\u001b[0m                 \u001b[0minflight\u001b[0m\u001b[0;34m.\u001b[0m\u001b[0mpop\u001b[0m\u001b[0;34m(\u001b[0m\u001b[0;34m)\u001b[0m\u001b[0;34m.\u001b[0m\u001b[0mcancel\u001b[0m\u001b[0;34m(\u001b[0m\u001b[0;34m)\u001b[0m\u001b[0;34m\u001b[0m\u001b[0;34m\u001b[0m\u001b[0m\n\u001b[1;32m   1262\u001b[0m             \u001b[0;31m# raise the exception\u001b[0m\u001b[0;34m\u001b[0m\u001b[0;34m\u001b[0m\u001b[0m\n\u001b[0;32m-> 1263\u001b[0;31m             \u001b[0;32mraise\u001b[0m \u001b[0mexc\u001b[0m\u001b[0;34m\u001b[0m\u001b[0;34m\u001b[0m\u001b[0m\n\u001b[0m\u001b[1;32m   1264\u001b[0m             \u001b[0;31m# TODO this is where retry of an entire step would happen\u001b[0m\u001b[0;34m\u001b[0m\u001b[0;34m\u001b[0m\u001b[0m\n\u001b[1;32m   1265\u001b[0m \u001b[0;34m\u001b[0m\u001b[0m\n",
            "\u001b[0;32m/usr/lib/python3.10/concurrent/futures/thread.py\u001b[0m in \u001b[0;36mrun\u001b[0;34m(self)\u001b[0m\n\u001b[1;32m     56\u001b[0m \u001b[0;34m\u001b[0m\u001b[0m\n\u001b[1;32m     57\u001b[0m         \u001b[0;32mtry\u001b[0m\u001b[0;34m:\u001b[0m\u001b[0;34m\u001b[0m\u001b[0;34m\u001b[0m\u001b[0m\n\u001b[0;32m---> 58\u001b[0;31m             \u001b[0mresult\u001b[0m \u001b[0;34m=\u001b[0m \u001b[0mself\u001b[0m\u001b[0;34m.\u001b[0m\u001b[0mfn\u001b[0m\u001b[0;34m(\u001b[0m\u001b[0;34m*\u001b[0m\u001b[0mself\u001b[0m\u001b[0;34m.\u001b[0m\u001b[0margs\u001b[0m\u001b[0;34m,\u001b[0m \u001b[0;34m**\u001b[0m\u001b[0mself\u001b[0m\u001b[0;34m.\u001b[0m\u001b[0mkwargs\u001b[0m\u001b[0;34m)\u001b[0m\u001b[0;34m\u001b[0m\u001b[0;34m\u001b[0m\u001b[0m\n\u001b[0m\u001b[1;32m     59\u001b[0m         \u001b[0;32mexcept\u001b[0m \u001b[0mBaseException\u001b[0m \u001b[0;32mas\u001b[0m \u001b[0mexc\u001b[0m\u001b[0;34m:\u001b[0m\u001b[0;34m\u001b[0m\u001b[0;34m\u001b[0m\u001b[0m\n\u001b[1;32m     60\u001b[0m             \u001b[0mself\u001b[0m\u001b[0;34m.\u001b[0m\u001b[0mfuture\u001b[0m\u001b[0;34m.\u001b[0m\u001b[0mset_exception\u001b[0m\u001b[0;34m(\u001b[0m\u001b[0mexc\u001b[0m\u001b[0;34m)\u001b[0m\u001b[0;34m\u001b[0m\u001b[0;34m\u001b[0m\u001b[0m\n",
            "\u001b[0;32m/usr/local/lib/python3.10/dist-packages/langchain_core/runnables/base.py\u001b[0m in \u001b[0;36minvoke\u001b[0;34m(self, input, config)\u001b[0m\n\u001b[1;32m   2497\u001b[0m         \u001b[0;32mtry\u001b[0m\u001b[0;34m:\u001b[0m\u001b[0;34m\u001b[0m\u001b[0;34m\u001b[0m\u001b[0m\n\u001b[1;32m   2498\u001b[0m             \u001b[0;32mfor\u001b[0m \u001b[0mi\u001b[0m\u001b[0;34m,\u001b[0m \u001b[0mstep\u001b[0m \u001b[0;32min\u001b[0m \u001b[0menumerate\u001b[0m\u001b[0;34m(\u001b[0m\u001b[0mself\u001b[0m\u001b[0;34m.\u001b[0m\u001b[0msteps\u001b[0m\u001b[0;34m)\u001b[0m\u001b[0;34m:\u001b[0m\u001b[0;34m\u001b[0m\u001b[0;34m\u001b[0m\u001b[0m\n\u001b[0;32m-> 2499\u001b[0;31m                 input = step.invoke(\n\u001b[0m\u001b[1;32m   2500\u001b[0m                     \u001b[0minput\u001b[0m\u001b[0;34m,\u001b[0m\u001b[0;34m\u001b[0m\u001b[0;34m\u001b[0m\u001b[0m\n\u001b[1;32m   2501\u001b[0m                     \u001b[0;31m# mark each step as a child run\u001b[0m\u001b[0;34m\u001b[0m\u001b[0;34m\u001b[0m\u001b[0m\n",
            "\u001b[0;32m/usr/local/lib/python3.10/dist-packages/langgraph/utils.py\u001b[0m in \u001b[0;36minvoke\u001b[0;34m(self, input, config)\u001b[0m\n\u001b[1;32m     86\u001b[0m                 \u001b[0;32melse\u001b[0m \u001b[0mself\u001b[0m\u001b[0;34m.\u001b[0m\u001b[0mkwargs\u001b[0m\u001b[0;34m\u001b[0m\u001b[0;34m\u001b[0m\u001b[0m\n\u001b[1;32m     87\u001b[0m             )\n\u001b[0;32m---> 88\u001b[0;31m             \u001b[0mret\u001b[0m \u001b[0;34m=\u001b[0m \u001b[0mcontext\u001b[0m\u001b[0;34m.\u001b[0m\u001b[0mrun\u001b[0m\u001b[0;34m(\u001b[0m\u001b[0mself\u001b[0m\u001b[0;34m.\u001b[0m\u001b[0mfunc\u001b[0m\u001b[0;34m,\u001b[0m \u001b[0minput\u001b[0m\u001b[0;34m,\u001b[0m \u001b[0;34m**\u001b[0m\u001b[0mkwargs\u001b[0m\u001b[0;34m)\u001b[0m\u001b[0;34m\u001b[0m\u001b[0;34m\u001b[0m\u001b[0m\n\u001b[0m\u001b[1;32m     89\u001b[0m         \u001b[0;32mif\u001b[0m \u001b[0misinstance\u001b[0m\u001b[0;34m(\u001b[0m\u001b[0mret\u001b[0m\u001b[0;34m,\u001b[0m \u001b[0mRunnable\u001b[0m\u001b[0;34m)\u001b[0m \u001b[0;32mand\u001b[0m \u001b[0mself\u001b[0m\u001b[0;34m.\u001b[0m\u001b[0mrecurse\u001b[0m\u001b[0;34m:\u001b[0m\u001b[0;34m\u001b[0m\u001b[0;34m\u001b[0m\u001b[0m\n\u001b[1;32m     90\u001b[0m             \u001b[0;32mreturn\u001b[0m \u001b[0mret\u001b[0m\u001b[0;34m.\u001b[0m\u001b[0minvoke\u001b[0m\u001b[0;34m(\u001b[0m\u001b[0minput\u001b[0m\u001b[0;34m,\u001b[0m \u001b[0mconfig\u001b[0m\u001b[0;34m)\u001b[0m\u001b[0;34m\u001b[0m\u001b[0;34m\u001b[0m\u001b[0m\n",
            "\u001b[0;32m<ipython-input-45-38e78445e906>\u001b[0m in \u001b[0;36mtool_node\u001b[0;34m(state)\u001b[0m\n\u001b[1;32m     22\u001b[0m   )\n\u001b[1;32m     23\u001b[0m \u001b[0;34m\u001b[0m\u001b[0m\n\u001b[0;32m---> 24\u001b[0;31m   \u001b[0mresponse\u001b[0m \u001b[0;34m=\u001b[0m \u001b[0mtool_executor\u001b[0m\u001b[0;34m.\u001b[0m\u001b[0minvoke\u001b[0m\u001b[0;34m(\u001b[0m\u001b[0maction\u001b[0m\u001b[0;34m)\u001b[0m\u001b[0;34m\u001b[0m\u001b[0;34m\u001b[0m\u001b[0m\n\u001b[0m\u001b[1;32m     25\u001b[0m   function_message = FunctionMessage(\n\u001b[1;32m     26\u001b[0m       \u001b[0mcontent\u001b[0m\u001b[0;34m=\u001b[0m\u001b[0;34mf\"{tool_name} response: {str(response)}\"\u001b[0m\u001b[0;34m,\u001b[0m \u001b[0mname\u001b[0m\u001b[0;34m=\u001b[0m\u001b[0maction\u001b[0m\u001b[0;34m.\u001b[0m\u001b[0mtool\u001b[0m\u001b[0;34m\u001b[0m\u001b[0;34m\u001b[0m\u001b[0m\n",
            "\u001b[0;32m/usr/local/lib/python3.10/dist-packages/langgraph/utils.py\u001b[0m in \u001b[0;36minvoke\u001b[0;34m(self, input, config)\u001b[0m\n\u001b[1;32m     86\u001b[0m                 \u001b[0;32melse\u001b[0m \u001b[0mself\u001b[0m\u001b[0;34m.\u001b[0m\u001b[0mkwargs\u001b[0m\u001b[0;34m\u001b[0m\u001b[0;34m\u001b[0m\u001b[0m\n\u001b[1;32m     87\u001b[0m             )\n\u001b[0;32m---> 88\u001b[0;31m             \u001b[0mret\u001b[0m \u001b[0;34m=\u001b[0m \u001b[0mcontext\u001b[0m\u001b[0;34m.\u001b[0m\u001b[0mrun\u001b[0m\u001b[0;34m(\u001b[0m\u001b[0mself\u001b[0m\u001b[0;34m.\u001b[0m\u001b[0mfunc\u001b[0m\u001b[0;34m,\u001b[0m \u001b[0minput\u001b[0m\u001b[0;34m,\u001b[0m \u001b[0;34m**\u001b[0m\u001b[0mkwargs\u001b[0m\u001b[0;34m)\u001b[0m\u001b[0;34m\u001b[0m\u001b[0;34m\u001b[0m\u001b[0m\n\u001b[0m\u001b[1;32m     89\u001b[0m         \u001b[0;32mif\u001b[0m \u001b[0misinstance\u001b[0m\u001b[0;34m(\u001b[0m\u001b[0mret\u001b[0m\u001b[0;34m,\u001b[0m \u001b[0mRunnable\u001b[0m\u001b[0;34m)\u001b[0m \u001b[0;32mand\u001b[0m \u001b[0mself\u001b[0m\u001b[0;34m.\u001b[0m\u001b[0mrecurse\u001b[0m\u001b[0;34m:\u001b[0m\u001b[0;34m\u001b[0m\u001b[0;34m\u001b[0m\u001b[0m\n\u001b[1;32m     90\u001b[0m             \u001b[0;32mreturn\u001b[0m \u001b[0mret\u001b[0m\u001b[0;34m.\u001b[0m\u001b[0minvoke\u001b[0m\u001b[0;34m(\u001b[0m\u001b[0minput\u001b[0m\u001b[0;34m,\u001b[0m \u001b[0mconfig\u001b[0m\u001b[0;34m)\u001b[0m\u001b[0;34m\u001b[0m\u001b[0;34m\u001b[0m\u001b[0m\n",
            "\u001b[0;32m/usr/local/lib/python3.10/dist-packages/langgraph/prebuilt/tool_executor.py\u001b[0m in \u001b[0;36m_execute\u001b[0;34m(self, tool_invocation, config)\u001b[0m\n\u001b[1;32m    100\u001b[0m         \u001b[0;32melse\u001b[0m\u001b[0;34m:\u001b[0m\u001b[0;34m\u001b[0m\u001b[0;34m\u001b[0m\u001b[0m\n\u001b[1;32m    101\u001b[0m             \u001b[0mtool\u001b[0m \u001b[0;34m=\u001b[0m \u001b[0mself\u001b[0m\u001b[0;34m.\u001b[0m\u001b[0mtool_map\u001b[0m\u001b[0;34m[\u001b[0m\u001b[0mtool_invocation\u001b[0m\u001b[0;34m.\u001b[0m\u001b[0mtool\u001b[0m\u001b[0;34m]\u001b[0m\u001b[0;34m\u001b[0m\u001b[0;34m\u001b[0m\u001b[0m\n\u001b[0;32m--> 102\u001b[0;31m             \u001b[0moutput\u001b[0m \u001b[0;34m=\u001b[0m \u001b[0mtool\u001b[0m\u001b[0;34m.\u001b[0m\u001b[0minvoke\u001b[0m\u001b[0;34m(\u001b[0m\u001b[0mtool_invocation\u001b[0m\u001b[0;34m.\u001b[0m\u001b[0mtool_input\u001b[0m\u001b[0;34m,\u001b[0m \u001b[0mconfig\u001b[0m\u001b[0;34m)\u001b[0m\u001b[0;34m\u001b[0m\u001b[0;34m\u001b[0m\u001b[0m\n\u001b[0m\u001b[1;32m    103\u001b[0m             \u001b[0;32mreturn\u001b[0m \u001b[0moutput\u001b[0m\u001b[0;34m\u001b[0m\u001b[0;34m\u001b[0m\u001b[0m\n\u001b[1;32m    104\u001b[0m \u001b[0;34m\u001b[0m\u001b[0m\n",
            "\u001b[0;32m/usr/local/lib/python3.10/dist-packages/langchain_core/tools.py\u001b[0m in \u001b[0;36minvoke\u001b[0;34m(self, input, config, **kwargs)\u001b[0m\n\u001b[1;32m    258\u001b[0m     ) -> Any:\n\u001b[1;32m    259\u001b[0m         \u001b[0mconfig\u001b[0m \u001b[0;34m=\u001b[0m \u001b[0mensure_config\u001b[0m\u001b[0;34m(\u001b[0m\u001b[0mconfig\u001b[0m\u001b[0;34m)\u001b[0m\u001b[0;34m\u001b[0m\u001b[0;34m\u001b[0m\u001b[0m\n\u001b[0;32m--> 260\u001b[0;31m         return self.run(\n\u001b[0m\u001b[1;32m    261\u001b[0m             \u001b[0minput\u001b[0m\u001b[0;34m,\u001b[0m\u001b[0;34m\u001b[0m\u001b[0;34m\u001b[0m\u001b[0m\n\u001b[1;32m    262\u001b[0m             \u001b[0mcallbacks\u001b[0m\u001b[0;34m=\u001b[0m\u001b[0mconfig\u001b[0m\u001b[0;34m.\u001b[0m\u001b[0mget\u001b[0m\u001b[0;34m(\u001b[0m\u001b[0;34m\"callbacks\"\u001b[0m\u001b[0;34m)\u001b[0m\u001b[0;34m,\u001b[0m\u001b[0;34m\u001b[0m\u001b[0;34m\u001b[0m\u001b[0m\n",
            "\u001b[0;32m/usr/local/lib/python3.10/dist-packages/langchain_core/tools.py\u001b[0m in \u001b[0;36mrun\u001b[0;34m(self, tool_input, verbose, start_color, color, callbacks, tags, metadata, run_name, run_id, config, **kwargs)\u001b[0m\n\u001b[1;32m    415\u001b[0m         \u001b[0;32mexcept\u001b[0m \u001b[0mValidationError\u001b[0m \u001b[0;32mas\u001b[0m \u001b[0me\u001b[0m\u001b[0;34m:\u001b[0m\u001b[0;34m\u001b[0m\u001b[0;34m\u001b[0m\u001b[0m\n\u001b[1;32m    416\u001b[0m             \u001b[0;32mif\u001b[0m \u001b[0;32mnot\u001b[0m \u001b[0mself\u001b[0m\u001b[0;34m.\u001b[0m\u001b[0mhandle_validation_error\u001b[0m\u001b[0;34m:\u001b[0m\u001b[0;34m\u001b[0m\u001b[0;34m\u001b[0m\u001b[0m\n\u001b[0;32m--> 417\u001b[0;31m                 \u001b[0;32mraise\u001b[0m \u001b[0me\u001b[0m\u001b[0;34m\u001b[0m\u001b[0;34m\u001b[0m\u001b[0m\n\u001b[0m\u001b[1;32m    418\u001b[0m             \u001b[0;32melif\u001b[0m \u001b[0misinstance\u001b[0m\u001b[0;34m(\u001b[0m\u001b[0mself\u001b[0m\u001b[0;34m.\u001b[0m\u001b[0mhandle_validation_error\u001b[0m\u001b[0;34m,\u001b[0m \u001b[0mbool\u001b[0m\u001b[0;34m)\u001b[0m\u001b[0;34m:\u001b[0m\u001b[0;34m\u001b[0m\u001b[0;34m\u001b[0m\u001b[0m\n\u001b[1;32m    419\u001b[0m                 \u001b[0mobservation\u001b[0m \u001b[0;34m=\u001b[0m \u001b[0;34m\"Tool input validation error\"\u001b[0m\u001b[0;34m\u001b[0m\u001b[0;34m\u001b[0m\u001b[0m\n",
            "\u001b[0;32m/usr/local/lib/python3.10/dist-packages/langchain_core/tools.py\u001b[0m in \u001b[0;36mrun\u001b[0;34m(self, tool_input, verbose, start_color, color, callbacks, tags, metadata, run_name, run_id, config, **kwargs)\u001b[0m\n\u001b[1;32m    404\u001b[0m             \u001b[0mcontext\u001b[0m \u001b[0;34m=\u001b[0m \u001b[0mcopy_context\u001b[0m\u001b[0;34m(\u001b[0m\u001b[0;34m)\u001b[0m\u001b[0;34m\u001b[0m\u001b[0;34m\u001b[0m\u001b[0m\n\u001b[1;32m    405\u001b[0m             \u001b[0mcontext\u001b[0m\u001b[0;34m.\u001b[0m\u001b[0mrun\u001b[0m\u001b[0;34m(\u001b[0m\u001b[0mvar_child_runnable_config\u001b[0m\u001b[0;34m.\u001b[0m\u001b[0mset\u001b[0m\u001b[0;34m,\u001b[0m \u001b[0mchild_config\u001b[0m\u001b[0;34m)\u001b[0m\u001b[0;34m\u001b[0m\u001b[0;34m\u001b[0m\u001b[0m\n\u001b[0;32m--> 406\u001b[0;31m             \u001b[0mparsed_input\u001b[0m \u001b[0;34m=\u001b[0m \u001b[0mself\u001b[0m\u001b[0;34m.\u001b[0m\u001b[0m_parse_input\u001b[0m\u001b[0;34m(\u001b[0m\u001b[0mtool_input\u001b[0m\u001b[0;34m)\u001b[0m\u001b[0;34m\u001b[0m\u001b[0;34m\u001b[0m\u001b[0m\n\u001b[0m\u001b[1;32m    407\u001b[0m             \u001b[0mtool_args\u001b[0m\u001b[0;34m,\u001b[0m \u001b[0mtool_kwargs\u001b[0m \u001b[0;34m=\u001b[0m \u001b[0mself\u001b[0m\u001b[0;34m.\u001b[0m\u001b[0m_to_args_and_kwargs\u001b[0m\u001b[0;34m(\u001b[0m\u001b[0mparsed_input\u001b[0m\u001b[0;34m)\u001b[0m\u001b[0;34m\u001b[0m\u001b[0;34m\u001b[0m\u001b[0m\n\u001b[1;32m    408\u001b[0m             observation = (\n",
            "\u001b[0;32m/usr/local/lib/python3.10/dist-packages/langchain_core/tools.py\u001b[0m in \u001b[0;36m_parse_input\u001b[0;34m(self, tool_input)\u001b[0m\n\u001b[1;32m    302\u001b[0m         \u001b[0;32melse\u001b[0m\u001b[0;34m:\u001b[0m\u001b[0;34m\u001b[0m\u001b[0;34m\u001b[0m\u001b[0m\n\u001b[1;32m    303\u001b[0m             \u001b[0;32mif\u001b[0m \u001b[0minput_args\u001b[0m \u001b[0;32mis\u001b[0m \u001b[0;32mnot\u001b[0m \u001b[0;32mNone\u001b[0m\u001b[0;34m:\u001b[0m\u001b[0;34m\u001b[0m\u001b[0;34m\u001b[0m\u001b[0m\n\u001b[0;32m--> 304\u001b[0;31m                 \u001b[0mresult\u001b[0m \u001b[0;34m=\u001b[0m \u001b[0minput_args\u001b[0m\u001b[0;34m.\u001b[0m\u001b[0mparse_obj\u001b[0m\u001b[0;34m(\u001b[0m\u001b[0mtool_input\u001b[0m\u001b[0;34m)\u001b[0m\u001b[0;34m\u001b[0m\u001b[0;34m\u001b[0m\u001b[0m\n\u001b[0m\u001b[1;32m    305\u001b[0m                 return {\n\u001b[1;32m    306\u001b[0m                     \u001b[0mk\u001b[0m\u001b[0;34m:\u001b[0m \u001b[0mgetattr\u001b[0m\u001b[0;34m(\u001b[0m\u001b[0mresult\u001b[0m\u001b[0;34m,\u001b[0m \u001b[0mk\u001b[0m\u001b[0;34m)\u001b[0m\u001b[0;34m\u001b[0m\u001b[0;34m\u001b[0m\u001b[0m\n",
            "\u001b[0;32m/usr/local/lib/python3.10/dist-packages/pydantic/v1/main.py\u001b[0m in \u001b[0;36mparse_obj\u001b[0;34m(cls, obj)\u001b[0m\n\u001b[1;32m    524\u001b[0m                 \u001b[0mexc\u001b[0m \u001b[0;34m=\u001b[0m \u001b[0mTypeError\u001b[0m\u001b[0;34m(\u001b[0m\u001b[0;34mf'{cls.__name__} expected dict not {obj.__class__.__name__}'\u001b[0m\u001b[0;34m)\u001b[0m\u001b[0;34m\u001b[0m\u001b[0;34m\u001b[0m\u001b[0m\n\u001b[1;32m    525\u001b[0m                 \u001b[0;32mraise\u001b[0m \u001b[0mValidationError\u001b[0m\u001b[0;34m(\u001b[0m\u001b[0;34m[\u001b[0m\u001b[0mErrorWrapper\u001b[0m\u001b[0;34m(\u001b[0m\u001b[0mexc\u001b[0m\u001b[0;34m,\u001b[0m \u001b[0mloc\u001b[0m\u001b[0;34m=\u001b[0m\u001b[0mROOT_KEY\u001b[0m\u001b[0;34m)\u001b[0m\u001b[0;34m]\u001b[0m\u001b[0;34m,\u001b[0m \u001b[0mcls\u001b[0m\u001b[0;34m)\u001b[0m \u001b[0;32mfrom\u001b[0m \u001b[0me\u001b[0m\u001b[0;34m\u001b[0m\u001b[0;34m\u001b[0m\u001b[0m\n\u001b[0;32m--> 526\u001b[0;31m         \u001b[0;32mreturn\u001b[0m \u001b[0mcls\u001b[0m\u001b[0;34m(\u001b[0m\u001b[0;34m**\u001b[0m\u001b[0mobj\u001b[0m\u001b[0;34m)\u001b[0m\u001b[0;34m\u001b[0m\u001b[0;34m\u001b[0m\u001b[0m\n\u001b[0m\u001b[1;32m    527\u001b[0m \u001b[0;34m\u001b[0m\u001b[0m\n\u001b[1;32m    528\u001b[0m     \u001b[0;34m@\u001b[0m\u001b[0mclassmethod\u001b[0m\u001b[0;34m\u001b[0m\u001b[0;34m\u001b[0m\u001b[0m\n",
            "\u001b[0;32m/usr/local/lib/python3.10/dist-packages/pydantic/v1/main.py\u001b[0m in \u001b[0;36m__init__\u001b[0;34m(__pydantic_self__, **data)\u001b[0m\n\u001b[1;32m    339\u001b[0m         \u001b[0mvalues\u001b[0m\u001b[0;34m,\u001b[0m \u001b[0mfields_set\u001b[0m\u001b[0;34m,\u001b[0m \u001b[0mvalidation_error\u001b[0m \u001b[0;34m=\u001b[0m \u001b[0mvalidate_model\u001b[0m\u001b[0;34m(\u001b[0m\u001b[0m__pydantic_self__\u001b[0m\u001b[0;34m.\u001b[0m\u001b[0m__class__\u001b[0m\u001b[0;34m,\u001b[0m \u001b[0mdata\u001b[0m\u001b[0;34m)\u001b[0m\u001b[0;34m\u001b[0m\u001b[0;34m\u001b[0m\u001b[0m\n\u001b[1;32m    340\u001b[0m         \u001b[0;32mif\u001b[0m \u001b[0mvalidation_error\u001b[0m\u001b[0;34m:\u001b[0m\u001b[0;34m\u001b[0m\u001b[0;34m\u001b[0m\u001b[0m\n\u001b[0;32m--> 341\u001b[0;31m             \u001b[0;32mraise\u001b[0m \u001b[0mvalidation_error\u001b[0m\u001b[0;34m\u001b[0m\u001b[0;34m\u001b[0m\u001b[0m\n\u001b[0m\u001b[1;32m    342\u001b[0m         \u001b[0;32mtry\u001b[0m\u001b[0;34m:\u001b[0m\u001b[0;34m\u001b[0m\u001b[0;34m\u001b[0m\u001b[0m\n\u001b[1;32m    343\u001b[0m             \u001b[0mobject_setattr\u001b[0m\u001b[0;34m(\u001b[0m\u001b[0m__pydantic_self__\u001b[0m\u001b[0;34m,\u001b[0m \u001b[0;34m'__dict__'\u001b[0m\u001b[0;34m,\u001b[0m \u001b[0mvalues\u001b[0m\u001b[0;34m)\u001b[0m\u001b[0;34m\u001b[0m\u001b[0;34m\u001b[0m\u001b[0m\n",
            "\u001b[0;31mValidationError\u001b[0m: 1 validation error for PropertiesCalculateTrend\nstart_datetime\n  field required (type=value_error.missing)"
          ]
        }
      ]
    },
    {
      "cell_type": "code",
      "source": [
        "for s in graph.stream(\n",
        "    {\n",
        "        \"messages\": [\n",
        "            HumanMessage(\n",
        "                content=\"What is the trend of NQ stock from 3/4/2024/45 15:45:30 until 3/4/2024/67 15:45:30?\"\n",
        "            )\n",
        "        ],\n",
        "    },\n",
        "    # Maximum number of steps to take in the graph\n",
        "    {\"recursion_limit\": 150},\n",
        "):\n",
        "    print(s)\n",
        "    print(\"----\")"
      ],
      "metadata": {
        "colab": {
          "base_uri": "https://localhost:8080/"
        },
        "id": "g3Fa6-WIaKYF",
        "outputId": "52312009-41a8-492f-f802-2d44045394d8"
      },
      "execution_count": null,
      "outputs": [
        {
          "output_type": "stream",
          "name": "stdout",
          "text": [
            "{'Handler': {'messages': [FunctionMessage(content='', name='HandleIrrelevant', HandleIrrelevant_response='False')]}}\n",
            "----\n",
            "{'Trading': {'messages': [HumanMessage(content='', additional_kwargs={'function_call': {'arguments': '{\\n  \"symbol\": \"NQ\",\\n  \"start_datetime\": \"Mar-4-2024 15:45:30\",\\n  \"end_datetime\": \"Mar-4-2024 15:45:30\"\\n}', 'name': 'CalculateTrend'}}, response_metadata={'finish_reason': 'function_call'}, name='Trading', id='run-70f0dc12-7114-463f-accc-03fd86bfbc26-0', tool_calls=[], invalid_tool_calls=[])], 'sender': 'Trading'}}\n",
            "----\n",
            "{'Trading': {'messages': [HumanMessage(content='', additional_kwargs={'function_call': {'arguments': '{\\n  \"symbol\": \"NQ\",\\n  \"start_datetime\": \"Mar-4-2024 15:45:30\",\\n  \"end_datetime\": \"Mar-4-2024 15:45:30\"\\n}', 'name': 'CalculateTrend'}}, response_metadata={'finish_reason': 'function_call'}, name='Trading', id='run-83697088-d6bb-44c9-99a9-82f23564c715-0', tool_calls=[], invalid_tool_calls=[])], 'sender': 'Trading'}}\n",
            "----\n",
            "Error reading data from InfluxDB: Invalid value for `api_client`, must be defined.\n",
            " Query is from(bucket:\"bronze\") \n",
            "                |> range(start: time(v:2024-03-04T23:45:30Z), stop: time(v: 2024-03-04T23:45:30Z))\n",
            "                |> filter(fn: (r) => r[\"_measurement\"] == \"NQ\" and                    r[\"timeframe\"] == \"1min\" and                    r[\"liq_threshold\"] == \"-1\")\n",
            "                |> pivot(rowKey:[\"_time\"], columnKey:[\"_field\"], valueColumn:\"_value\")\n",
            "                \n",
            "There is no data for this period of time...\n",
            "{'call_tool': {'messages': [FunctionMessage(content='CalculateTrend response: 0', name='CalculateTrend')]}}\n",
            "----\n",
            "{'Trading': {'messages': [HumanMessage(content='The trend of the NQ stock from 3/4/2024/45 15:45:30 until 3/4/2024/67 15:45:30 is without significant trend (0).', response_metadata={'finish_reason': 'stop'}, name='Trading', id='run-5b8c3f2c-1781-4b55-b55b-bf4c3462147f-0', tool_calls=[], invalid_tool_calls=[])], 'sender': 'Trading'}}\n",
            "----\n"
          ]
        }
      ]
    },
    {
      "cell_type": "code",
      "source": [
        "for s in graph.stream(\n",
        "    {\n",
        "        \"messages\": [\n",
        "            HumanMessage(\n",
        "                content=\"What is the trend of NQ stock from 2024/4/3 15:45:30 until 2024/4/13 15:45:30?\"\n",
        "            )\n",
        "        ],\n",
        "    },\n",
        "    # Maximum number of steps to take in the graph\n",
        "    {\"recursion_limit\": 150},\n",
        "):\n",
        "    print(s)\n",
        "    print(\"----\")"
      ],
      "metadata": {
        "colab": {
          "base_uri": "https://localhost:8080/"
        },
        "id": "UhwhWBMhaKuK",
        "outputId": "38adbd73-3964-4f9b-a687-8bc5225da980"
      },
      "execution_count": null,
      "outputs": [
        {
          "output_type": "stream",
          "name": "stdout",
          "text": [
            "{'Handler': {'messages': [FunctionMessage(content='', name='HandleIrrelevant', HandleIrrelevant_response='False')]}}\n",
            "----\n",
            "{'Trading': {'messages': [HumanMessage(content='', additional_kwargs={'function_call': {'arguments': '{\\n  \"symbol\": \"NQ\",\\n  \"start_datetime\": \"Apr-3-2024 15:45:30\",\\n  \"end_datetime\": \"Apr-13-2024 15:45:30\"\\n}', 'name': 'CalculateTrend'}}, response_metadata={'finish_reason': 'function_call'}, name='Trading', id='run-fc4bdaa1-4356-4fee-9618-a29041dcc181-0', tool_calls=[], invalid_tool_calls=[])], 'sender': 'Trading'}}\n",
            "----\n",
            "{'Trading': {'messages': [HumanMessage(content='', additional_kwargs={'function_call': {'arguments': '{\\n  \"symbol\": \"NQ\",\\n  \"start_datetime\": \"Apr-3-2024 15:45:30\",\\n  \"end_datetime\": \"Apr-13-2024 15:45:30\"\\n}', 'name': 'CalculateTrend'}}, response_metadata={'finish_reason': 'function_call'}, name='Trading', id='run-1f36db60-cd83-4cbb-ab97-05b05bbf1576-0', tool_calls=[], invalid_tool_calls=[])], 'sender': 'Trading'}}\n",
            "----\n",
            "Error reading data from InfluxDB: Invalid value for `api_client`, must be defined.\n",
            " Query is from(bucket:\"bronze\") \n",
            "                |> range(start: time(v:2024-04-03T22:45:30Z), stop: time(v: 2024-04-13T22:45:30Z))\n",
            "                |> filter(fn: (r) => r[\"_measurement\"] == \"NQ\" and                    r[\"timeframe\"] == \"1min\" and                    r[\"liq_threshold\"] == \"-1\")\n",
            "                |> pivot(rowKey:[\"_time\"], columnKey:[\"_field\"], valueColumn:\"_value\")\n",
            "                \n",
            "There is no data for this period of time...\n",
            "{'call_tool': {'messages': [FunctionMessage(content='CalculateTrend response: 0', name='CalculateTrend')]}}\n",
            "----\n",
            "{'Trading': {'messages': [HumanMessage(content='The trend of NQ stock from 2024/4/3 15:45:30 until 2024/4/13 15:45:30 is without significant trend (0).', response_metadata={'finish_reason': 'stop'}, name='Trading', id='run-0600f2b8-498a-4014-964f-e28bdd48eb35-0', tool_calls=[], invalid_tool_calls=[])], 'sender': 'Trading'}}\n",
            "----\n"
          ]
        }
      ]
    },
    {
      "cell_type": "code",
      "source": [
        "for s in graph.stream(\n",
        "    {\n",
        "        \"messages\": [\n",
        "            HumanMessage(\n",
        "                content=\"What is the trend of NQ stock from 2024/4/13 15:45:30 until 2024/4/3 15:45:30?\"\n",
        "            )\n",
        "        ],\n",
        "    },\n",
        "    # Maximum number of steps to take in the graph\n",
        "    {\"recursion_limit\": 150},\n",
        "):\n",
        "    print(s)\n",
        "    print(\"----\")"
      ],
      "metadata": {
        "colab": {
          "base_uri": "https://localhost:8080/"
        },
        "id": "wlt5V-Q2aMH4",
        "outputId": "25527c87-022e-4818-8add-285d8fc0c133"
      },
      "execution_count": null,
      "outputs": [
        {
          "output_type": "stream",
          "name": "stdout",
          "text": [
            "{'Handler': {'messages': [FunctionMessage(content='', name='HandleIrrelevant', HandleIrrelevant_response='False')]}}\n",
            "----\n",
            "{'Trading': {'messages': [HumanMessage(content='', additional_kwargs={'function_call': {'arguments': '{\\n  \"symbol\": \"NQ\",\\n  \"start_datetime\": \"Apr-13-2024 15:45:30\",\\n  \"end_datetime\": \"Apr-3-2024 15:45:30\"\\n}', 'name': 'CalculateTrend'}}, response_metadata={'finish_reason': 'function_call'}, name='Trading', id='run-1d520a11-69d6-44bf-bb10-77b16fc7fb31-0', tool_calls=[], invalid_tool_calls=[])], 'sender': 'Trading'}}\n",
            "----\n",
            "{'Trading': {'messages': [HumanMessage(content='', additional_kwargs={'function_call': {'arguments': '{\\n  \"symbol\": \"NQ\",\\n  \"start_datetime\": \"Apr-13-2024 15:45:30\",\\n  \"end_datetime\": \"Apr-3-2024 15:45:30\"\\n}', 'name': 'CalculateTrend'}}, response_metadata={'finish_reason': 'function_call'}, name='Trading', id='run-98e53e79-a4c2-4cad-a9e8-cedf3ec6e9ab-0', tool_calls=[], invalid_tool_calls=[])], 'sender': 'Trading'}}\n",
            "----\n",
            "Error reading data from InfluxDB: Invalid value for `api_client`, must be defined.\n",
            " Query is from(bucket:\"bronze\") \n",
            "                |> range(start: time(v:2024-04-13T22:45:30Z), stop: time(v: 2024-04-03T22:45:30Z))\n",
            "                |> filter(fn: (r) => r[\"_measurement\"] == \"NQ\" and                    r[\"timeframe\"] == \"1min\" and                    r[\"liq_threshold\"] == \"-1\")\n",
            "                |> pivot(rowKey:[\"_time\"], columnKey:[\"_field\"], valueColumn:\"_value\")\n",
            "                \n",
            "There is no data for this period of time...\n",
            "{'call_tool': {'messages': [FunctionMessage(content='CalculateTrend response: 0', name='CalculateTrend')]}}\n",
            "----\n",
            "{'Trading': {'messages': [HumanMessage(content='The trend of the NQ stock from 2024/4/13 15:45:30 until 2024/4/3 15:45:30 is without a significant trend (0).', response_metadata={'finish_reason': 'stop'}, name='Trading', id='run-a37585b5-9f6c-4211-aa13-3f1198f0bb3c-0', tool_calls=[], invalid_tool_calls=[])], 'sender': 'Trading'}}\n",
            "----\n"
          ]
        }
      ]
    },
    {
      "cell_type": "markdown",
      "source": [
        "###Calculate Support and Resistance:"
      ],
      "metadata": {
        "id": "5QAje8bTbSv1"
      }
    },
    {
      "cell_type": "code",
      "source": [
        "for s in graph.stream(\n",
        "    {\n",
        "        \"messages\": [\n",
        "            HumanMessage(\n",
        "                content=\"Calculate Support and Resistance Levels based on YM by looking back up to past 10 days and timeframe of 1 hour.\"\n",
        "            )\n",
        "        ],\n",
        "    },\n",
        "    # Maximum number of steps to take in the graph\n",
        "    {\"recursion_limit\": 150},\n",
        "):\n",
        "    print(s)\n",
        "    print(\"----\")"
      ],
      "metadata": {
        "colab": {
          "base_uri": "https://localhost:8080/"
        },
        "id": "dkAqvu1FcGOE",
        "outputId": "643589a6-e941-4f27-f663-dfa11731cf71"
      },
      "execution_count": null,
      "outputs": [
        {
          "output_type": "stream",
          "name": "stdout",
          "text": [
            "{'Handler': {'messages': [FunctionMessage(content='', name='HandleIrrelevant', HandleIrrelevant_response='False')]}}\n",
            "----\n",
            "{'Trading': {'messages': [HumanMessage(content='', additional_kwargs={'function_call': {'arguments': '{\\n  \"symbol\": \"YM\",\\n  \"timeframe\": \"1h\",\\n  \"lookback_days\": \"10\"\\n}', 'name': 'CalculateSR'}}, response_metadata={'finish_reason': 'function_call'}, name='Trading', id='run-703247d2-63f6-49e4-bd13-738aea17ed6c-0', tool_calls=[], invalid_tool_calls=[])], 'sender': 'Trading'}}\n",
            "----\n",
            "{'Trading': {'messages': [HumanMessage(content='', additional_kwargs={'function_call': {'arguments': '{\\n  \"symbol\": \"YM\",\\n  \"timeframe\": \"1h\",\\n  \"lookback_days\": \"10\"\\n}', 'name': 'CalculateSR'}}, response_metadata={'finish_reason': 'function_call'}, name='Trading', id='run-2f2db117-db6e-4e32-98be-7e509c0ea5c4-0', tool_calls=[], invalid_tool_calls=[])], 'sender': 'Trading'}}\n",
            "----\n",
            "Error reading data from InfluxDB: Invalid value for `api_client`, must be defined.\n",
            " Query is from(bucket:\"bronze\") \n",
            "                |> range(start: time(v:2024-05-04T03:24:49Z), stop: time(v: 2024-05-14T03:24:49Z))\n",
            "                |> filter(fn: (r) => r[\"_measurement\"] == \"YM\" and                    r[\"timeframe\"] == \"1min\" and                    r[\"liq_threshold\"] == \"-1\")\n",
            "                |> pivot(rowKey:[\"_time\"], columnKey:[\"_field\"], valueColumn:\"_value\")\n",
            "                \n",
            "There is no data for this period of time...\n",
            "{'call_tool': {'messages': [FunctionMessage(content='CalculateSR response: 0', name='CalculateSR')]}}\n",
            "----\n",
            "{'Trading': {'messages': [HumanMessage(content='', additional_kwargs={'function_call': {'arguments': '{\\n  \"symbol\": \"YM\",\\n  \"timeframe\": \"1h\",\\n  \"lookback_days\": \"10\"\\n}', 'name': 'CalculateSR'}}, response_metadata={'finish_reason': 'function_call'}, name='Trading', id='run-488c0412-ff4d-4e73-8faf-276f621c0743-0', tool_calls=[], invalid_tool_calls=[])], 'sender': 'Trading'}}\n",
            "----\n",
            "{'Trading': {'messages': [HumanMessage(content='', additional_kwargs={'function_call': {'arguments': '{\\n  \"symbol\": \"YM\",\\n  \"timeframe\": \"1h\",\\n  \"lookback_days\": \"10\"\\n}', 'name': 'CalculateSR'}}, response_metadata={'finish_reason': 'function_call'}, name='Trading', id='run-833e7275-3fb7-4384-a20b-0fabb306366e-0', tool_calls=[], invalid_tool_calls=[])], 'sender': 'Trading'}}\n",
            "----\n",
            "Error reading data from InfluxDB: Invalid value for `api_client`, must be defined.\n",
            " Query is from(bucket:\"bronze\") \n",
            "                |> range(start: time(v:2024-05-04T03:24:50Z), stop: time(v: 2024-05-14T03:24:50Z))\n",
            "                |> filter(fn: (r) => r[\"_measurement\"] == \"YM\" and                    r[\"timeframe\"] == \"1min\" and                    r[\"liq_threshold\"] == \"-1\")\n",
            "                |> pivot(rowKey:[\"_time\"], columnKey:[\"_field\"], valueColumn:\"_value\")\n",
            "                \n",
            "There is no data for this period of time...\n",
            "{'call_tool': {'messages': [FunctionMessage(content='CalculateSR response: 0', name='CalculateSR')]}}\n",
            "----\n",
            "{'Trading': {'messages': [HumanMessage(content='', additional_kwargs={'function_call': {'arguments': '{\\n  \"symbol\": \"YM\",\\n  \"timeframe\": \"1h\",\\n  \"lookback_days\": \"10\"\\n}', 'name': 'CalculateSR'}}, response_metadata={'finish_reason': 'function_call'}, name='Trading', id='run-7a11ee30-381d-4bdf-a270-a46630cd022d-0', tool_calls=[], invalid_tool_calls=[])], 'sender': 'Trading'}}\n",
            "----\n",
            "{'Trading': {'messages': [HumanMessage(content='', additional_kwargs={'function_call': {'arguments': '{\\n  \"symbol\": \"YM\",\\n  \"timeframe\": \"1h\",\\n  \"lookback_days\": \"10\"\\n}', 'name': 'CalculateSR'}}, response_metadata={'finish_reason': 'function_call'}, name='Trading', id='run-809d46cc-48a4-4e23-9c65-7b3adcc6b4b1-0', tool_calls=[], invalid_tool_calls=[])], 'sender': 'Trading'}}\n",
            "----\n",
            "Error reading data from InfluxDB: Invalid value for `api_client`, must be defined.\n",
            " Query is from(bucket:\"bronze\") \n",
            "                |> range(start: time(v:2024-05-04T03:24:51Z), stop: time(v: 2024-05-14T03:24:51Z))\n",
            "                |> filter(fn: (r) => r[\"_measurement\"] == \"YM\" and                    r[\"timeframe\"] == \"1min\" and                    r[\"liq_threshold\"] == \"-1\")\n",
            "                |> pivot(rowKey:[\"_time\"], columnKey:[\"_field\"], valueColumn:\"_value\")\n",
            "                \n",
            "There is no data for this period of time...\n",
            "{'call_tool': {'messages': [FunctionMessage(content='CalculateSR response: 0', name='CalculateSR')]}}\n",
            "----\n",
            "{'Trading': {'messages': [HumanMessage(content='', additional_kwargs={'function_call': {'arguments': '{\\n  \"symbol\": \"YM\",\\n  \"timeframe\": \"1h\",\\n  \"lookback_days\": \"10\"\\n}', 'name': 'CalculateSR'}}, response_metadata={'finish_reason': 'function_call'}, name='Trading', id='run-b42c2a27-cf28-4318-b5f5-1a9e83314e5b-0', tool_calls=[], invalid_tool_calls=[])], 'sender': 'Trading'}}\n",
            "----\n",
            "{'Trading': {'messages': [HumanMessage(content='', additional_kwargs={'function_call': {'arguments': '{\\n  \"symbol\": \"YM\",\\n  \"timeframe\": \"1h\",\\n  \"lookback_days\": \"10\"\\n}', 'name': 'CalculateSR'}}, response_metadata={'finish_reason': 'function_call'}, name='Trading', id='run-d416832c-a26d-467c-a839-78c76e3117f0-0', tool_calls=[], invalid_tool_calls=[])], 'sender': 'Trading'}}\n",
            "----\n",
            "Error reading data from InfluxDB: Invalid value for `api_client`, must be defined.\n",
            " Query is from(bucket:\"bronze\") \n",
            "                |> range(start: time(v:2024-05-04T03:24:52Z), stop: time(v: 2024-05-14T03:24:52Z))\n",
            "                |> filter(fn: (r) => r[\"_measurement\"] == \"YM\" and                    r[\"timeframe\"] == \"1min\" and                    r[\"liq_threshold\"] == \"-1\")\n",
            "                |> pivot(rowKey:[\"_time\"], columnKey:[\"_field\"], valueColumn:\"_value\")\n",
            "                \n",
            "There is no data for this period of time...\n",
            "{'call_tool': {'messages': [FunctionMessage(content='CalculateSR response: 0', name='CalculateSR')]}}\n",
            "----\n",
            "{'Trading': {'messages': [HumanMessage(content='', additional_kwargs={'function_call': {'arguments': '{\\n  \"symbol\": \"YM\",\\n  \"timeframe\": \"1h\",\\n  \"lookback_days\": \"10\"\\n}', 'name': 'CalculateSR'}}, response_metadata={'finish_reason': 'function_call'}, name='Trading', id='run-a88a32a0-6ae1-4217-9d78-3b7b8c2f3b2e-0', tool_calls=[], invalid_tool_calls=[])], 'sender': 'Trading'}}\n",
            "----\n",
            "{'Trading': {'messages': [HumanMessage(content='', additional_kwargs={'function_call': {'arguments': '{\\n  \"symbol\": \"YM\",\\n  \"timeframe\": \"1h\",\\n  \"lookback_days\": \"10\"\\n}', 'name': 'CalculateSR'}}, response_metadata={'finish_reason': 'function_call'}, name='Trading', id='run-9f4fb6eb-2ddb-4c6e-b259-d5f70c96d61b-0', tool_calls=[], invalid_tool_calls=[])], 'sender': 'Trading'}}\n",
            "----\n",
            "Error reading data from InfluxDB: Invalid value for `api_client`, must be defined.\n",
            " Query is from(bucket:\"bronze\") \n",
            "                |> range(start: time(v:2024-05-04T03:24:53Z), stop: time(v: 2024-05-14T03:24:53Z))\n",
            "                |> filter(fn: (r) => r[\"_measurement\"] == \"YM\" and                    r[\"timeframe\"] == \"1min\" and                    r[\"liq_threshold\"] == \"-1\")\n",
            "                |> pivot(rowKey:[\"_time\"], columnKey:[\"_field\"], valueColumn:\"_value\")\n",
            "                \n",
            "There is no data for this period of time...\n",
            "{'call_tool': {'messages': [FunctionMessage(content='CalculateSR response: 0', name='CalculateSR')]}}\n",
            "----\n",
            "{'Trading': {'messages': [HumanMessage(content='', additional_kwargs={'function_call': {'arguments': '{\\n  \"symbol\": \"YM\",\\n  \"timeframe\": \"1h\",\\n  \"lookback_days\": \"10\"\\n}', 'name': 'CalculateSR'}}, response_metadata={'finish_reason': 'function_call'}, name='Trading', id='run-4dcd777e-fecc-4e97-918b-45772109a740-0', tool_calls=[], invalid_tool_calls=[])], 'sender': 'Trading'}}\n",
            "----\n",
            "{'Trading': {'messages': [HumanMessage(content='', additional_kwargs={'function_call': {'arguments': '{\\n  \"symbol\": \"YM\",\\n  \"timeframe\": \"1h\",\\n  \"lookback_days\": \"10\"\\n}', 'name': 'CalculateSR'}}, response_metadata={'finish_reason': 'function_call'}, name='Trading', id='run-26b2397f-175f-4f07-a73d-d693425e4301-0', tool_calls=[], invalid_tool_calls=[])], 'sender': 'Trading'}}\n",
            "----\n",
            "Error reading data from InfluxDB: Invalid value for `api_client`, must be defined.\n",
            " Query is from(bucket:\"bronze\") \n",
            "                |> range(start: time(v:2024-05-04T03:24:54Z), stop: time(v: 2024-05-14T03:24:54Z))\n",
            "                |> filter(fn: (r) => r[\"_measurement\"] == \"YM\" and                    r[\"timeframe\"] == \"1min\" and                    r[\"liq_threshold\"] == \"-1\")\n",
            "                |> pivot(rowKey:[\"_time\"], columnKey:[\"_field\"], valueColumn:\"_value\")\n",
            "                \n",
            "There is no data for this period of time...\n",
            "{'call_tool': {'messages': [FunctionMessage(content='CalculateSR response: 0', name='CalculateSR')]}}\n",
            "----\n",
            "{'Trading': {'messages': [HumanMessage(content='I apologize, but I am unable to calculate the support and resistance levels based on the given parameters. However, I can assist you with other trading-related queries or provide information on different topics.', response_metadata={'finish_reason': 'stop'}, name='Trading', id='run-95a30107-8f57-4404-ae91-3112ee9fc879-0', tool_calls=[], invalid_tool_calls=[])], 'sender': 'Trading'}}\n",
            "----\n"
          ]
        }
      ]
    },
    {
      "cell_type": "code",
      "source": [
        "for s in graph.stream(\n",
        "    {\n",
        "        \"messages\": [\n",
        "            HumanMessage(\n",
        "                content=\"Calculate Support and Resistance Levels based on YM by looking back up to past 10 days.\"\n",
        "            )\n",
        "        ],\n",
        "    },\n",
        "    # Maximum number of steps to take in the graph\n",
        "    {\"recursion_limit\": 150},\n",
        "):\n",
        "    print(s)\n",
        "    print(\"----\")"
      ],
      "metadata": {
        "colab": {
          "base_uri": "https://localhost:8080/"
        },
        "id": "EGdniJp4b9tu",
        "outputId": "2d5d64b8-5dd5-43f8-a36b-4de2dc65a751"
      },
      "execution_count": null,
      "outputs": [
        {
          "output_type": "stream",
          "name": "stdout",
          "text": [
            "{'Handler': {'messages': [FunctionMessage(content='', name='HandleIrrelevant', HandleIrrelevant_response='False')]}}\n",
            "----\n",
            "{'Trading': {'messages': [HumanMessage(content='', additional_kwargs={'function_call': {'arguments': '{\\n  \"symbol\": \"YM\",\\n  \"timeframe\": \"1d\",\\n  \"lookback_days\": \"10\"\\n}', 'name': 'CalculateSR'}}, response_metadata={'finish_reason': 'function_call'}, name='Trading', id='run-f929d678-3d89-4b7b-a578-f8e83fc4da5c-0', tool_calls=[], invalid_tool_calls=[])], 'sender': 'Trading'}}\n",
            "----\n",
            "{'Trading': {'messages': [HumanMessage(content='', additional_kwargs={'function_call': {'arguments': '{\\n  \"symbol\": \"YM\",\\n  \"timeframe\": \"1d\",\\n  \"lookback_days\": \"10\"\\n}', 'name': 'CalculateSR'}}, response_metadata={'finish_reason': 'function_call'}, name='Trading', id='run-480fb05a-3112-4ba7-beab-ecc9b33cd8b2-0', tool_calls=[], invalid_tool_calls=[])], 'sender': 'Trading'}}\n",
            "----\n",
            "Error reading data from InfluxDB: Invalid value for `api_client`, must be defined.\n",
            " Query is from(bucket:\"bronze\") \n",
            "                |> range(start: time(v:2024-05-04T03:24:15Z), stop: time(v: 2024-05-14T03:24:15Z))\n",
            "                |> filter(fn: (r) => r[\"_measurement\"] == \"YM\" and                    r[\"timeframe\"] == \"1min\" and                    r[\"liq_threshold\"] == \"-1\")\n",
            "                |> pivot(rowKey:[\"_time\"], columnKey:[\"_field\"], valueColumn:\"_value\")\n",
            "                \n",
            "There is no data for this period of time...\n",
            "{'call_tool': {'messages': [FunctionMessage(content='CalculateSR response: 0', name='CalculateSR')]}}\n",
            "----\n",
            "{'Trading': {'messages': [HumanMessage(content='', additional_kwargs={'function_call': {'arguments': '{\\n  \"symbol\": \"YM\",\\n  \"timeframe\": \"1d\",\\n  \"lookback_days\": \"10\"\\n}', 'name': 'CalculateSR'}}, response_metadata={'finish_reason': 'function_call'}, name='Trading', id='run-ffb4513a-3e84-4a1d-b99c-074d2bce9bd0-0', tool_calls=[], invalid_tool_calls=[])], 'sender': 'Trading'}}\n",
            "----\n",
            "{'Trading': {'messages': [HumanMessage(content='', additional_kwargs={'function_call': {'arguments': '{\\n  \"symbol\": \"YM\",\\n  \"timeframe\": \"1d\",\\n  \"lookback_days\": \"10\"\\n}', 'name': 'CalculateSR'}}, response_metadata={'finish_reason': 'function_call'}, name='Trading', id='run-df8ea15a-5e01-4d99-97d5-614d36e69ea9-0', tool_calls=[], invalid_tool_calls=[])], 'sender': 'Trading'}}\n",
            "----\n",
            "Error reading data from InfluxDB: Invalid value for `api_client`, must be defined.\n",
            " Query is from(bucket:\"bronze\") \n",
            "                |> range(start: time(v:2024-05-04T03:24:16Z), stop: time(v: 2024-05-14T03:24:16Z))\n",
            "                |> filter(fn: (r) => r[\"_measurement\"] == \"YM\" and                    r[\"timeframe\"] == \"1min\" and                    r[\"liq_threshold\"] == \"-1\")\n",
            "                |> pivot(rowKey:[\"_time\"], columnKey:[\"_field\"], valueColumn:\"_value\")\n",
            "                \n",
            "There is no data for this period of time...\n",
            "{'call_tool': {'messages': [FunctionMessage(content='CalculateSR response: 0', name='CalculateSR')]}}\n",
            "----\n",
            "{'Trading': {'messages': [HumanMessage(content='', additional_kwargs={'function_call': {'arguments': '{\\n  \"symbol\": \"YM\",\\n  \"timeframe\": \"1d\",\\n  \"lookback_days\": \"10\"\\n}', 'name': 'CalculateSR'}}, response_metadata={'finish_reason': 'function_call'}, name='Trading', id='run-5e89a5ab-8d73-4040-8548-3d07dd6cc722-0', tool_calls=[], invalid_tool_calls=[])], 'sender': 'Trading'}}\n",
            "----\n",
            "{'Trading': {'messages': [HumanMessage(content='', additional_kwargs={'function_call': {'arguments': '{\\n  \"symbol\": \"YM\",\\n  \"timeframe\": \"1d\",\\n  \"lookback_days\": \"10\"\\n}', 'name': 'CalculateSR'}}, response_metadata={'finish_reason': 'function_call'}, name='Trading', id='run-0e6ca9d1-d24e-467d-a001-5dfa4fa312cf-0', tool_calls=[], invalid_tool_calls=[])], 'sender': 'Trading'}}\n",
            "----\n",
            "Error reading data from InfluxDB: Invalid value for `api_client`, must be defined.\n",
            " Query is from(bucket:\"bronze\") \n",
            "                |> range(start: time(v:2024-05-04T03:24:17Z), stop: time(v: 2024-05-14T03:24:17Z))\n",
            "                |> filter(fn: (r) => r[\"_measurement\"] == \"YM\" and                    r[\"timeframe\"] == \"1min\" and                    r[\"liq_threshold\"] == \"-1\")\n",
            "                |> pivot(rowKey:[\"_time\"], columnKey:[\"_field\"], valueColumn:\"_value\")\n",
            "                \n",
            "There is no data for this period of time...\n",
            "{'call_tool': {'messages': [FunctionMessage(content='CalculateSR response: 0', name='CalculateSR')]}}\n",
            "----\n",
            "{'Trading': {'messages': [HumanMessage(content='', additional_kwargs={'function_call': {'arguments': '{\\n  \"symbol\": \"YM\",\\n  \"timeframe\": \"1d\",\\n  \"lookback_days\": \"10\"\\n}', 'name': 'CalculateSR'}}, response_metadata={'finish_reason': 'function_call'}, name='Trading', id='run-d3aabc97-df98-40b6-b7f1-4c1d06d7b953-0', tool_calls=[], invalid_tool_calls=[])], 'sender': 'Trading'}}\n",
            "----\n",
            "{'Trading': {'messages': [HumanMessage(content='', additional_kwargs={'function_call': {'arguments': '{\\n  \"symbol\": \"YM\",\\n  \"timeframe\": \"1d\",\\n  \"lookback_days\": \"10\"\\n}', 'name': 'CalculateSR'}}, response_metadata={'finish_reason': 'function_call'}, name='Trading', id='run-ca1f6e5a-f906-4b13-bacb-5a39da01871d-0', tool_calls=[], invalid_tool_calls=[])], 'sender': 'Trading'}}\n",
            "----\n",
            "Error reading data from InfluxDB: Invalid value for `api_client`, must be defined.\n",
            " Query is from(bucket:\"bronze\") \n",
            "                |> range(start: time(v:2024-05-04T03:24:18Z), stop: time(v: 2024-05-14T03:24:18Z))\n",
            "                |> filter(fn: (r) => r[\"_measurement\"] == \"YM\" and                    r[\"timeframe\"] == \"1min\" and                    r[\"liq_threshold\"] == \"-1\")\n",
            "                |> pivot(rowKey:[\"_time\"], columnKey:[\"_field\"], valueColumn:\"_value\")\n",
            "                \n",
            "There is no data for this period of time...\n",
            "{'call_tool': {'messages': [FunctionMessage(content='CalculateSR response: 0', name='CalculateSR')]}}\n",
            "----\n",
            "{'Trading': {'messages': [HumanMessage(content='', additional_kwargs={'function_call': {'arguments': '{\\n  \"symbol\": \"YM\",\\n  \"timeframe\": \"1d\",\\n  \"lookback_days\": \"10\"\\n}', 'name': 'CalculateSR'}}, response_metadata={'finish_reason': 'function_call'}, name='Trading', id='run-e4589f2a-e517-4b29-8d91-29710063042b-0', tool_calls=[], invalid_tool_calls=[])], 'sender': 'Trading'}}\n",
            "----\n",
            "{'Trading': {'messages': [HumanMessage(content='', additional_kwargs={'function_call': {'arguments': '{\\n  \"symbol\": \"YM\",\\n  \"timeframe\": \"1d\",\\n  \"lookback_days\": \"10\"\\n}', 'name': 'CalculateSR'}}, response_metadata={'finish_reason': 'function_call'}, name='Trading', id='run-b7341c1f-231c-41a1-a389-cc36b53078ed-0', tool_calls=[], invalid_tool_calls=[])], 'sender': 'Trading'}}\n",
            "----\n",
            "Error reading data from InfluxDB: Invalid value for `api_client`, must be defined.\n",
            " Query is from(bucket:\"bronze\") \n",
            "                |> range(start: time(v:2024-05-04T03:24:19Z), stop: time(v: 2024-05-14T03:24:19Z))\n",
            "                |> filter(fn: (r) => r[\"_measurement\"] == \"YM\" and                    r[\"timeframe\"] == \"1min\" and                    r[\"liq_threshold\"] == \"-1\")\n",
            "                |> pivot(rowKey:[\"_time\"], columnKey:[\"_field\"], valueColumn:\"_value\")\n",
            "                \n",
            "There is no data for this period of time...\n",
            "{'call_tool': {'messages': [FunctionMessage(content='CalculateSR response: 0', name='CalculateSR')]}}\n",
            "----\n",
            "{'Trading': {'messages': [HumanMessage(content='', additional_kwargs={'function_call': {'arguments': '{\\n  \"symbol\": \"YM\",\\n  \"timeframe\": \"1d\",\\n  \"lookback_days\": \"10\"\\n}', 'name': 'CalculateSR'}}, response_metadata={'finish_reason': 'function_call'}, name='Trading', id='run-3bfa587b-4e73-44c7-9046-80d4afe02f79-0', tool_calls=[], invalid_tool_calls=[])], 'sender': 'Trading'}}\n",
            "----\n",
            "{'Trading': {'messages': [HumanMessage(content='', additional_kwargs={'function_call': {'arguments': '{\\n  \"symbol\": \"YM\",\\n  \"timeframe\": \"1d\",\\n  \"lookback_days\": \"10\"\\n}', 'name': 'CalculateSR'}}, response_metadata={'finish_reason': 'function_call'}, name='Trading', id='run-879deac0-934b-40fe-8dcf-2c3511ef5bb5-0', tool_calls=[], invalid_tool_calls=[])], 'sender': 'Trading'}}\n",
            "----\n",
            "Error reading data from InfluxDB: Invalid value for `api_client`, must be defined.\n",
            " Query is from(bucket:\"bronze\") \n",
            "                |> range(start: time(v:2024-05-04T03:24:21Z), stop: time(v: 2024-05-14T03:24:21Z))\n",
            "                |> filter(fn: (r) => r[\"_measurement\"] == \"YM\" and                    r[\"timeframe\"] == \"1min\" and                    r[\"liq_threshold\"] == \"-1\")\n",
            "                |> pivot(rowKey:[\"_time\"], columnKey:[\"_field\"], valueColumn:\"_value\")\n",
            "                \n",
            "There is no data for this period of time...\n",
            "{'call_tool': {'messages': [FunctionMessage(content='CalculateSR response: 0', name='CalculateSR')]}}\n",
            "----\n",
            "{'Trading': {'messages': [HumanMessage(content='I apologize, but I am unable to calculate the support and resistance levels based on the provided information.', response_metadata={'finish_reason': 'stop'}, name='Trading', id='run-1fa32603-e2aa-4537-b133-d1ede7d348a0-0', tool_calls=[], invalid_tool_calls=[])], 'sender': 'Trading'}}\n",
            "----\n"
          ]
        }
      ]
    },
    {
      "cell_type": "code",
      "source": [
        "for s in graph.stream(\n",
        "    {\n",
        "        \"messages\": [\n",
        "            HumanMessage(\n",
        "                content=\"Calculate Support and Resistance Levels based on YM by the timeframe of 1 hour.\"\n",
        "            )\n",
        "        ],\n",
        "    },\n",
        "    # Maximum number of steps to take in the graph\n",
        "    {\"recursion_limit\": 150},\n",
        "):\n",
        "    print(s)\n",
        "    print(\"----\")"
      ],
      "metadata": {
        "colab": {
          "base_uri": "https://localhost:8080/",
          "height": 480
        },
        "id": "PT4ZrWoDb14K",
        "outputId": "56f99f1a-292d-4fa2-9759-e710ecc0606a"
      },
      "execution_count": null,
      "outputs": [
        {
          "output_type": "stream",
          "name": "stdout",
          "text": [
            "{'Handler': {'messages': [FunctionMessage(content='', name='HandleIrrelevant', HandleIrrelevant_response='False')]}}\n",
            "----\n",
            "{'Trading': {'messages': [HumanMessage(content='', additional_kwargs={'function_call': {'arguments': '{\\n  \"symbol\": \"YM\",\\n  \"timeframe\": \"1h\"\\n}', 'name': 'CalculateSR'}}, response_metadata={'finish_reason': 'function_call'}, name='Trading', id='run-a1f794de-b4b1-4760-9d98-5495179a6b66-0', tool_calls=[], invalid_tool_calls=[])], 'sender': 'Trading'}}\n",
            "----\n",
            "{'Trading': {'messages': [HumanMessage(content='', additional_kwargs={'function_call': {'arguments': '{\\n  \"symbol\": \"YM\",\\n  \"timeframe\": \"1h\"\\n}', 'name': 'CalculateSR'}}, response_metadata={'finish_reason': 'function_call'}, name='Trading', id='run-dff776ad-869e-4958-9619-f98aef587a2a-0', tool_calls=[], invalid_tool_calls=[])], 'sender': 'Trading'}}\n",
            "----\n"
          ]
        },
        {
          "output_type": "error",
          "ename": "AttributeError",
          "evalue": "'NoneType' object has no attribute 'split'",
          "traceback": [
            "\u001b[0;31m---------------------------------------------------------------------------\u001b[0m",
            "\u001b[0;31mAttributeError\u001b[0m                            Traceback (most recent call last)",
            "\u001b[0;32m<ipython-input-114-3fc16bf3fd0b>\u001b[0m in \u001b[0;36m<cell line: 1>\u001b[0;34m()\u001b[0m\n\u001b[0;32m----> 1\u001b[0;31m for s in graph.stream(\n\u001b[0m\u001b[1;32m      2\u001b[0m     {\n\u001b[1;32m      3\u001b[0m         \"messages\": [\n\u001b[1;32m      4\u001b[0m             HumanMessage(\n\u001b[1;32m      5\u001b[0m                 \u001b[0mcontent\u001b[0m\u001b[0;34m=\u001b[0m\u001b[0;34m\"Calculate Support and Resistance Levels based on YM by the timeframe of 1 hour.\"\u001b[0m\u001b[0;34m\u001b[0m\u001b[0;34m\u001b[0m\u001b[0m\n",
            "\u001b[0;32m/usr/local/lib/python3.10/dist-packages/langgraph/pregel/__init__.py\u001b[0m in \u001b[0;36mstream\u001b[0;34m(self, input, config, stream_mode, output_keys, input_keys, interrupt_before, interrupt_after, debug)\u001b[0m\n\u001b[1;32m    769\u001b[0m \u001b[0;34m\u001b[0m\u001b[0m\n\u001b[1;32m    770\u001b[0m                     \u001b[0;31m# panic on failure or timeout\u001b[0m\u001b[0;34m\u001b[0m\u001b[0;34m\u001b[0m\u001b[0m\n\u001b[0;32m--> 771\u001b[0;31m                     \u001b[0m_panic_or_proceed\u001b[0m\u001b[0;34m(\u001b[0m\u001b[0mdone\u001b[0m\u001b[0;34m,\u001b[0m \u001b[0minflight\u001b[0m\u001b[0;34m,\u001b[0m \u001b[0mstep\u001b[0m\u001b[0;34m)\u001b[0m\u001b[0;34m\u001b[0m\u001b[0;34m\u001b[0m\u001b[0m\n\u001b[0m\u001b[1;32m    772\u001b[0m \u001b[0;34m\u001b[0m\u001b[0m\n\u001b[1;32m    773\u001b[0m                     \u001b[0;31m# combine pending writes from all tasks\u001b[0m\u001b[0;34m\u001b[0m\u001b[0;34m\u001b[0m\u001b[0m\n",
            "\u001b[0;32m/usr/local/lib/python3.10/dist-packages/langgraph/pregel/__init__.py\u001b[0m in \u001b[0;36m_panic_or_proceed\u001b[0;34m(done, inflight, step)\u001b[0m\n\u001b[1;32m   1261\u001b[0m                 \u001b[0minflight\u001b[0m\u001b[0;34m.\u001b[0m\u001b[0mpop\u001b[0m\u001b[0;34m(\u001b[0m\u001b[0;34m)\u001b[0m\u001b[0;34m.\u001b[0m\u001b[0mcancel\u001b[0m\u001b[0;34m(\u001b[0m\u001b[0;34m)\u001b[0m\u001b[0;34m\u001b[0m\u001b[0;34m\u001b[0m\u001b[0m\n\u001b[1;32m   1262\u001b[0m             \u001b[0;31m# raise the exception\u001b[0m\u001b[0;34m\u001b[0m\u001b[0;34m\u001b[0m\u001b[0m\n\u001b[0;32m-> 1263\u001b[0;31m             \u001b[0;32mraise\u001b[0m \u001b[0mexc\u001b[0m\u001b[0;34m\u001b[0m\u001b[0;34m\u001b[0m\u001b[0m\n\u001b[0m\u001b[1;32m   1264\u001b[0m             \u001b[0;31m# TODO this is where retry of an entire step would happen\u001b[0m\u001b[0;34m\u001b[0m\u001b[0;34m\u001b[0m\u001b[0m\n\u001b[1;32m   1265\u001b[0m \u001b[0;34m\u001b[0m\u001b[0m\n",
            "\u001b[0;32m/usr/lib/python3.10/concurrent/futures/thread.py\u001b[0m in \u001b[0;36mrun\u001b[0;34m(self)\u001b[0m\n\u001b[1;32m     56\u001b[0m \u001b[0;34m\u001b[0m\u001b[0m\n\u001b[1;32m     57\u001b[0m         \u001b[0;32mtry\u001b[0m\u001b[0;34m:\u001b[0m\u001b[0;34m\u001b[0m\u001b[0;34m\u001b[0m\u001b[0m\n\u001b[0;32m---> 58\u001b[0;31m             \u001b[0mresult\u001b[0m \u001b[0;34m=\u001b[0m \u001b[0mself\u001b[0m\u001b[0;34m.\u001b[0m\u001b[0mfn\u001b[0m\u001b[0;34m(\u001b[0m\u001b[0;34m*\u001b[0m\u001b[0mself\u001b[0m\u001b[0;34m.\u001b[0m\u001b[0margs\u001b[0m\u001b[0;34m,\u001b[0m \u001b[0;34m**\u001b[0m\u001b[0mself\u001b[0m\u001b[0;34m.\u001b[0m\u001b[0mkwargs\u001b[0m\u001b[0;34m)\u001b[0m\u001b[0;34m\u001b[0m\u001b[0;34m\u001b[0m\u001b[0m\n\u001b[0m\u001b[1;32m     59\u001b[0m         \u001b[0;32mexcept\u001b[0m \u001b[0mBaseException\u001b[0m \u001b[0;32mas\u001b[0m \u001b[0mexc\u001b[0m\u001b[0;34m:\u001b[0m\u001b[0;34m\u001b[0m\u001b[0;34m\u001b[0m\u001b[0m\n\u001b[1;32m     60\u001b[0m             \u001b[0mself\u001b[0m\u001b[0;34m.\u001b[0m\u001b[0mfuture\u001b[0m\u001b[0;34m.\u001b[0m\u001b[0mset_exception\u001b[0m\u001b[0;34m(\u001b[0m\u001b[0mexc\u001b[0m\u001b[0;34m)\u001b[0m\u001b[0;34m\u001b[0m\u001b[0;34m\u001b[0m\u001b[0m\n",
            "\u001b[0;32m/usr/local/lib/python3.10/dist-packages/langchain_core/runnables/base.py\u001b[0m in \u001b[0;36minvoke\u001b[0;34m(self, input, config)\u001b[0m\n\u001b[1;32m   2497\u001b[0m         \u001b[0;32mtry\u001b[0m\u001b[0;34m:\u001b[0m\u001b[0;34m\u001b[0m\u001b[0;34m\u001b[0m\u001b[0m\n\u001b[1;32m   2498\u001b[0m             \u001b[0;32mfor\u001b[0m \u001b[0mi\u001b[0m\u001b[0;34m,\u001b[0m \u001b[0mstep\u001b[0m \u001b[0;32min\u001b[0m \u001b[0menumerate\u001b[0m\u001b[0;34m(\u001b[0m\u001b[0mself\u001b[0m\u001b[0;34m.\u001b[0m\u001b[0msteps\u001b[0m\u001b[0;34m)\u001b[0m\u001b[0;34m:\u001b[0m\u001b[0;34m\u001b[0m\u001b[0;34m\u001b[0m\u001b[0m\n\u001b[0;32m-> 2499\u001b[0;31m                 input = step.invoke(\n\u001b[0m\u001b[1;32m   2500\u001b[0m                     \u001b[0minput\u001b[0m\u001b[0;34m,\u001b[0m\u001b[0;34m\u001b[0m\u001b[0;34m\u001b[0m\u001b[0m\n\u001b[1;32m   2501\u001b[0m                     \u001b[0;31m# mark each step as a child run\u001b[0m\u001b[0;34m\u001b[0m\u001b[0;34m\u001b[0m\u001b[0m\n",
            "\u001b[0;32m/usr/local/lib/python3.10/dist-packages/langgraph/utils.py\u001b[0m in \u001b[0;36minvoke\u001b[0;34m(self, input, config)\u001b[0m\n\u001b[1;32m     86\u001b[0m                 \u001b[0;32melse\u001b[0m \u001b[0mself\u001b[0m\u001b[0;34m.\u001b[0m\u001b[0mkwargs\u001b[0m\u001b[0;34m\u001b[0m\u001b[0;34m\u001b[0m\u001b[0m\n\u001b[1;32m     87\u001b[0m             )\n\u001b[0;32m---> 88\u001b[0;31m             \u001b[0mret\u001b[0m \u001b[0;34m=\u001b[0m \u001b[0mcontext\u001b[0m\u001b[0;34m.\u001b[0m\u001b[0mrun\u001b[0m\u001b[0;34m(\u001b[0m\u001b[0mself\u001b[0m\u001b[0;34m.\u001b[0m\u001b[0mfunc\u001b[0m\u001b[0;34m,\u001b[0m \u001b[0minput\u001b[0m\u001b[0;34m,\u001b[0m \u001b[0;34m**\u001b[0m\u001b[0mkwargs\u001b[0m\u001b[0;34m)\u001b[0m\u001b[0;34m\u001b[0m\u001b[0;34m\u001b[0m\u001b[0m\n\u001b[0m\u001b[1;32m     89\u001b[0m         \u001b[0;32mif\u001b[0m \u001b[0misinstance\u001b[0m\u001b[0;34m(\u001b[0m\u001b[0mret\u001b[0m\u001b[0;34m,\u001b[0m \u001b[0mRunnable\u001b[0m\u001b[0;34m)\u001b[0m \u001b[0;32mand\u001b[0m \u001b[0mself\u001b[0m\u001b[0;34m.\u001b[0m\u001b[0mrecurse\u001b[0m\u001b[0;34m:\u001b[0m\u001b[0;34m\u001b[0m\u001b[0;34m\u001b[0m\u001b[0m\n\u001b[1;32m     90\u001b[0m             \u001b[0;32mreturn\u001b[0m \u001b[0mret\u001b[0m\u001b[0;34m.\u001b[0m\u001b[0minvoke\u001b[0m\u001b[0;34m(\u001b[0m\u001b[0minput\u001b[0m\u001b[0;34m,\u001b[0m \u001b[0mconfig\u001b[0m\u001b[0;34m)\u001b[0m\u001b[0;34m\u001b[0m\u001b[0;34m\u001b[0m\u001b[0m\n",
            "\u001b[0;32m<ipython-input-106-38e78445e906>\u001b[0m in \u001b[0;36mtool_node\u001b[0;34m(state)\u001b[0m\n\u001b[1;32m     22\u001b[0m   )\n\u001b[1;32m     23\u001b[0m \u001b[0;34m\u001b[0m\u001b[0m\n\u001b[0;32m---> 24\u001b[0;31m   \u001b[0mresponse\u001b[0m \u001b[0;34m=\u001b[0m \u001b[0mtool_executor\u001b[0m\u001b[0;34m.\u001b[0m\u001b[0minvoke\u001b[0m\u001b[0;34m(\u001b[0m\u001b[0maction\u001b[0m\u001b[0;34m)\u001b[0m\u001b[0;34m\u001b[0m\u001b[0;34m\u001b[0m\u001b[0m\n\u001b[0m\u001b[1;32m     25\u001b[0m   function_message = FunctionMessage(\n\u001b[1;32m     26\u001b[0m       \u001b[0mcontent\u001b[0m\u001b[0;34m=\u001b[0m\u001b[0;34mf\"{tool_name} response: {str(response)}\"\u001b[0m\u001b[0;34m,\u001b[0m \u001b[0mname\u001b[0m\u001b[0;34m=\u001b[0m\u001b[0maction\u001b[0m\u001b[0;34m.\u001b[0m\u001b[0mtool\u001b[0m\u001b[0;34m\u001b[0m\u001b[0;34m\u001b[0m\u001b[0m\n",
            "\u001b[0;32m/usr/local/lib/python3.10/dist-packages/langgraph/utils.py\u001b[0m in \u001b[0;36minvoke\u001b[0;34m(self, input, config)\u001b[0m\n\u001b[1;32m     86\u001b[0m                 \u001b[0;32melse\u001b[0m \u001b[0mself\u001b[0m\u001b[0;34m.\u001b[0m\u001b[0mkwargs\u001b[0m\u001b[0;34m\u001b[0m\u001b[0;34m\u001b[0m\u001b[0m\n\u001b[1;32m     87\u001b[0m             )\n\u001b[0;32m---> 88\u001b[0;31m             \u001b[0mret\u001b[0m \u001b[0;34m=\u001b[0m \u001b[0mcontext\u001b[0m\u001b[0;34m.\u001b[0m\u001b[0mrun\u001b[0m\u001b[0;34m(\u001b[0m\u001b[0mself\u001b[0m\u001b[0;34m.\u001b[0m\u001b[0mfunc\u001b[0m\u001b[0;34m,\u001b[0m \u001b[0minput\u001b[0m\u001b[0;34m,\u001b[0m \u001b[0;34m**\u001b[0m\u001b[0mkwargs\u001b[0m\u001b[0;34m)\u001b[0m\u001b[0;34m\u001b[0m\u001b[0;34m\u001b[0m\u001b[0m\n\u001b[0m\u001b[1;32m     89\u001b[0m         \u001b[0;32mif\u001b[0m \u001b[0misinstance\u001b[0m\u001b[0;34m(\u001b[0m\u001b[0mret\u001b[0m\u001b[0;34m,\u001b[0m \u001b[0mRunnable\u001b[0m\u001b[0;34m)\u001b[0m \u001b[0;32mand\u001b[0m \u001b[0mself\u001b[0m\u001b[0;34m.\u001b[0m\u001b[0mrecurse\u001b[0m\u001b[0;34m:\u001b[0m\u001b[0;34m\u001b[0m\u001b[0;34m\u001b[0m\u001b[0m\n\u001b[1;32m     90\u001b[0m             \u001b[0;32mreturn\u001b[0m \u001b[0mret\u001b[0m\u001b[0;34m.\u001b[0m\u001b[0minvoke\u001b[0m\u001b[0;34m(\u001b[0m\u001b[0minput\u001b[0m\u001b[0;34m,\u001b[0m \u001b[0mconfig\u001b[0m\u001b[0;34m)\u001b[0m\u001b[0;34m\u001b[0m\u001b[0;34m\u001b[0m\u001b[0m\n",
            "\u001b[0;32m/usr/local/lib/python3.10/dist-packages/langgraph/prebuilt/tool_executor.py\u001b[0m in \u001b[0;36m_execute\u001b[0;34m(self, tool_invocation, config)\u001b[0m\n\u001b[1;32m    100\u001b[0m         \u001b[0;32melse\u001b[0m\u001b[0;34m:\u001b[0m\u001b[0;34m\u001b[0m\u001b[0;34m\u001b[0m\u001b[0m\n\u001b[1;32m    101\u001b[0m             \u001b[0mtool\u001b[0m \u001b[0;34m=\u001b[0m \u001b[0mself\u001b[0m\u001b[0;34m.\u001b[0m\u001b[0mtool_map\u001b[0m\u001b[0;34m[\u001b[0m\u001b[0mtool_invocation\u001b[0m\u001b[0;34m.\u001b[0m\u001b[0mtool\u001b[0m\u001b[0;34m]\u001b[0m\u001b[0;34m\u001b[0m\u001b[0;34m\u001b[0m\u001b[0m\n\u001b[0;32m--> 102\u001b[0;31m             \u001b[0moutput\u001b[0m \u001b[0;34m=\u001b[0m \u001b[0mtool\u001b[0m\u001b[0;34m.\u001b[0m\u001b[0minvoke\u001b[0m\u001b[0;34m(\u001b[0m\u001b[0mtool_invocation\u001b[0m\u001b[0;34m.\u001b[0m\u001b[0mtool_input\u001b[0m\u001b[0;34m,\u001b[0m \u001b[0mconfig\u001b[0m\u001b[0;34m)\u001b[0m\u001b[0;34m\u001b[0m\u001b[0;34m\u001b[0m\u001b[0m\n\u001b[0m\u001b[1;32m    103\u001b[0m             \u001b[0;32mreturn\u001b[0m \u001b[0moutput\u001b[0m\u001b[0;34m\u001b[0m\u001b[0;34m\u001b[0m\u001b[0m\n\u001b[1;32m    104\u001b[0m \u001b[0;34m\u001b[0m\u001b[0m\n",
            "\u001b[0;32m/usr/local/lib/python3.10/dist-packages/langchain_core/tools.py\u001b[0m in \u001b[0;36minvoke\u001b[0;34m(self, input, config, **kwargs)\u001b[0m\n\u001b[1;32m    258\u001b[0m     ) -> Any:\n\u001b[1;32m    259\u001b[0m         \u001b[0mconfig\u001b[0m \u001b[0;34m=\u001b[0m \u001b[0mensure_config\u001b[0m\u001b[0;34m(\u001b[0m\u001b[0mconfig\u001b[0m\u001b[0;34m)\u001b[0m\u001b[0;34m\u001b[0m\u001b[0;34m\u001b[0m\u001b[0m\n\u001b[0;32m--> 260\u001b[0;31m         return self.run(\n\u001b[0m\u001b[1;32m    261\u001b[0m             \u001b[0minput\u001b[0m\u001b[0;34m,\u001b[0m\u001b[0;34m\u001b[0m\u001b[0;34m\u001b[0m\u001b[0m\n\u001b[1;32m    262\u001b[0m             \u001b[0mcallbacks\u001b[0m\u001b[0;34m=\u001b[0m\u001b[0mconfig\u001b[0m\u001b[0;34m.\u001b[0m\u001b[0mget\u001b[0m\u001b[0;34m(\u001b[0m\u001b[0;34m\"callbacks\"\u001b[0m\u001b[0;34m)\u001b[0m\u001b[0;34m,\u001b[0m\u001b[0;34m\u001b[0m\u001b[0;34m\u001b[0m\u001b[0m\n",
            "\u001b[0;32m/usr/local/lib/python3.10/dist-packages/langchain_core/tools.py\u001b[0m in \u001b[0;36mrun\u001b[0;34m(self, tool_input, verbose, start_color, color, callbacks, tags, metadata, run_name, run_id, config, **kwargs)\u001b[0m\n\u001b[1;32m    450\u001b[0m         \u001b[0;32mexcept\u001b[0m \u001b[0;34m(\u001b[0m\u001b[0mException\u001b[0m\u001b[0;34m,\u001b[0m \u001b[0mKeyboardInterrupt\u001b[0m\u001b[0;34m)\u001b[0m \u001b[0;32mas\u001b[0m \u001b[0me\u001b[0m\u001b[0;34m:\u001b[0m\u001b[0;34m\u001b[0m\u001b[0;34m\u001b[0m\u001b[0m\n\u001b[1;32m    451\u001b[0m             \u001b[0mrun_manager\u001b[0m\u001b[0;34m.\u001b[0m\u001b[0mon_tool_error\u001b[0m\u001b[0;34m(\u001b[0m\u001b[0me\u001b[0m\u001b[0;34m)\u001b[0m\u001b[0;34m\u001b[0m\u001b[0;34m\u001b[0m\u001b[0m\n\u001b[0;32m--> 452\u001b[0;31m             \u001b[0;32mraise\u001b[0m \u001b[0me\u001b[0m\u001b[0;34m\u001b[0m\u001b[0;34m\u001b[0m\u001b[0m\n\u001b[0m\u001b[1;32m    453\u001b[0m         \u001b[0;32melse\u001b[0m\u001b[0;34m:\u001b[0m\u001b[0;34m\u001b[0m\u001b[0;34m\u001b[0m\u001b[0m\n\u001b[1;32m    454\u001b[0m             \u001b[0mrun_manager\u001b[0m\u001b[0;34m.\u001b[0m\u001b[0mon_tool_end\u001b[0m\u001b[0;34m(\u001b[0m\u001b[0mobservation\u001b[0m\u001b[0;34m,\u001b[0m \u001b[0mcolor\u001b[0m\u001b[0;34m=\u001b[0m\u001b[0mcolor\u001b[0m\u001b[0;34m,\u001b[0m \u001b[0mname\u001b[0m\u001b[0;34m=\u001b[0m\u001b[0mself\u001b[0m\u001b[0;34m.\u001b[0m\u001b[0mname\u001b[0m\u001b[0;34m,\u001b[0m \u001b[0;34m**\u001b[0m\u001b[0mkwargs\u001b[0m\u001b[0;34m)\u001b[0m\u001b[0;34m\u001b[0m\u001b[0;34m\u001b[0m\u001b[0m\n",
            "\u001b[0;32m/usr/local/lib/python3.10/dist-packages/langchain_core/tools.py\u001b[0m in \u001b[0;36mrun\u001b[0;34m(self, tool_input, verbose, start_color, color, callbacks, tags, metadata, run_name, run_id, config, **kwargs)\u001b[0m\n\u001b[1;32m    411\u001b[0m                 )\n\u001b[1;32m    412\u001b[0m                 \u001b[0;32mif\u001b[0m \u001b[0mnew_arg_supported\u001b[0m\u001b[0;34m\u001b[0m\u001b[0;34m\u001b[0m\u001b[0m\n\u001b[0;32m--> 413\u001b[0;31m                 \u001b[0;32melse\u001b[0m \u001b[0mcontext\u001b[0m\u001b[0;34m.\u001b[0m\u001b[0mrun\u001b[0m\u001b[0;34m(\u001b[0m\u001b[0mself\u001b[0m\u001b[0;34m.\u001b[0m\u001b[0m_run\u001b[0m\u001b[0;34m,\u001b[0m \u001b[0;34m*\u001b[0m\u001b[0mtool_args\u001b[0m\u001b[0;34m,\u001b[0m \u001b[0;34m**\u001b[0m\u001b[0mtool_kwargs\u001b[0m\u001b[0;34m)\u001b[0m\u001b[0;34m\u001b[0m\u001b[0;34m\u001b[0m\u001b[0m\n\u001b[0m\u001b[1;32m    414\u001b[0m             )\n\u001b[1;32m    415\u001b[0m         \u001b[0;32mexcept\u001b[0m \u001b[0mValidationError\u001b[0m \u001b[0;32mas\u001b[0m \u001b[0me\u001b[0m\u001b[0;34m:\u001b[0m\u001b[0;34m\u001b[0m\u001b[0;34m\u001b[0m\u001b[0m\n",
            "\u001b[0;32m<ipython-input-75-76570eec9b9c>\u001b[0m in \u001b[0;36m_run\u001b[0;34m(self, symbol, timeframe, lookback_days)\u001b[0m\n\u001b[1;32m     29\u001b[0m                       }\n\u001b[1;32m     30\u001b[0m \u001b[0;34m\u001b[0m\u001b[0m\n\u001b[0;32m---> 31\u001b[0;31m         \u001b[0;32mreturn\u001b[0m \u001b[0mfc\u001b[0m\u001b[0;34m.\u001b[0m\u001b[0mcalculate_sr\u001b[0m\u001b[0;34m(\u001b[0m\u001b[0mparameters\u001b[0m\u001b[0;34m)\u001b[0m\u001b[0;34m\u001b[0m\u001b[0;34m\u001b[0m\u001b[0m\n\u001b[0m\u001b[1;32m     32\u001b[0m         \u001b[0;31m# return {\"levels_prices\": [0.25, 0.5], \"levels_start_timestamps\": [None, None], \"levels_end_timestamps\": [None, None], \"levels_scores\": [0.1, 0.2]}\u001b[0m\u001b[0;34m\u001b[0m\u001b[0;34m\u001b[0m\u001b[0m\n\u001b[1;32m     33\u001b[0m \u001b[0;34m\u001b[0m\u001b[0m\n",
            "\u001b[0;32m<ipython-input-7-64eda4b6c46d>\u001b[0m in \u001b[0;36mcalculate_sr\u001b[0;34m(self, parameters)\u001b[0m\n\u001b[1;32m    159\u001b[0m         \u001b[0msymbol\u001b[0m \u001b[0;34m=\u001b[0m \u001b[0mparameters\u001b[0m\u001b[0;34m[\u001b[0m\u001b[0;34m\"symbol\"\u001b[0m\u001b[0;34m]\u001b[0m\u001b[0;34m\u001b[0m\u001b[0;34m\u001b[0m\u001b[0m\n\u001b[1;32m    160\u001b[0m         \u001b[0mtimeframe\u001b[0m \u001b[0;34m=\u001b[0m \u001b[0mparameters\u001b[0m\u001b[0;34m[\u001b[0m\u001b[0;34m\"timeframe\"\u001b[0m\u001b[0;34m]\u001b[0m\u001b[0;34m\u001b[0m\u001b[0;34m\u001b[0m\u001b[0m\n\u001b[0;32m--> 161\u001b[0;31m         \u001b[0mlookback_days\u001b[0m \u001b[0;34m=\u001b[0m \u001b[0mint\u001b[0m\u001b[0;34m(\u001b[0m\u001b[0mparameters\u001b[0m\u001b[0;34m[\u001b[0m\u001b[0;34m\"lookback_days\"\u001b[0m\u001b[0;34m]\u001b[0m\u001b[0;34m.\u001b[0m\u001b[0msplit\u001b[0m\u001b[0;34m(\u001b[0m\u001b[0;34m\" \"\u001b[0m\u001b[0;34m)\u001b[0m\u001b[0;34m[\u001b[0m\u001b[0;36m0\u001b[0m\u001b[0;34m]\u001b[0m\u001b[0;34m)\u001b[0m\u001b[0;34m\u001b[0m\u001b[0;34m\u001b[0m\u001b[0m\n\u001b[0m\u001b[1;32m    162\u001b[0m         \u001b[0mend_datetime\u001b[0m \u001b[0;34m=\u001b[0m \u001b[0mdatetime\u001b[0m\u001b[0;34m.\u001b[0m\u001b[0mnow\u001b[0m\u001b[0;34m(\u001b[0m\u001b[0;34m)\u001b[0m\u001b[0;34m\u001b[0m\u001b[0;34m\u001b[0m\u001b[0m\n\u001b[1;32m    163\u001b[0m         \u001b[0mstart_datetime\u001b[0m \u001b[0;34m=\u001b[0m \u001b[0mend_datetime\u001b[0m \u001b[0;34m-\u001b[0m \u001b[0mtimedelta\u001b[0m\u001b[0;34m(\u001b[0m\u001b[0mdays\u001b[0m\u001b[0;34m=\u001b[0m\u001b[0mlookback_days\u001b[0m\u001b[0;34m)\u001b[0m\u001b[0;34m\u001b[0m\u001b[0;34m\u001b[0m\u001b[0m\n",
            "\u001b[0;31mAttributeError\u001b[0m: 'NoneType' object has no attribute 'split'"
          ]
        }
      ]
    },
    {
      "cell_type": "code",
      "source": [
        "for s in graph.stream(\n",
        "    {\n",
        "        \"messages\": [\n",
        "            HumanMessage(\n",
        "                content=\"How much is the sr of CL for the past week?\"\n",
        "            )\n",
        "        ],\n",
        "    },\n",
        "    # Maximum number of steps to take in the graph\n",
        "    {\"recursion_limit\": 150},\n",
        "):\n",
        "    print(s)\n",
        "    print(\"----\")"
      ],
      "metadata": {
        "colab": {
          "base_uri": "https://localhost:8080/"
        },
        "id": "G4odHnkfbXRv",
        "outputId": "a50da665-23ca-48f4-fd8c-6e91d021348b"
      },
      "execution_count": null,
      "outputs": [
        {
          "output_type": "stream",
          "name": "stdout",
          "text": [
            "{'Handler': {'messages': [FunctionMessage(content='', name='HandleIrrelevant', HandleIrrelevant_response='False')]}}\n",
            "----\n",
            "{'Trading': {'messages': [HumanMessage(content='', additional_kwargs={'function_call': {'arguments': '{\\n  \"symbol\": \"CL\",\\n  \"timeframe\": \"1d\",\\n  \"lookback_days\": \"7\"\\n}', 'name': 'CalculateSR'}}, response_metadata={'finish_reason': 'function_call'}, name='Trading', id='run-b5ef6688-ff50-48a2-bf3a-0e7cecc9c0b5-0', tool_calls=[], invalid_tool_calls=[])], 'sender': 'Trading'}}\n",
            "----\n",
            "{'Trading': {'messages': [HumanMessage(content='', additional_kwargs={'function_call': {'arguments': '{\\n  \"symbol\": \"CL\",\\n  \"timeframe\": \"1d\",\\n  \"lookback_days\": \"7\"\\n}', 'name': 'CalculateSR'}}, response_metadata={'finish_reason': 'function_call'}, name='Trading', id='run-fb4f2d82-08ee-4684-8e00-141b2e007364-0', tool_calls=[], invalid_tool_calls=[])], 'sender': 'Trading'}}\n",
            "----\n",
            "Error reading data from InfluxDB: Invalid value for `api_client`, must be defined.\n",
            " Query is from(bucket:\"bronze\") \n",
            "                |> range(start: time(v:2024-05-07T03:23:04Z), stop: time(v: 2024-05-14T03:23:04Z))\n",
            "                |> filter(fn: (r) => r[\"_measurement\"] == \"CL\" and                    r[\"timeframe\"] == \"1min\" and                    r[\"liq_threshold\"] == \"-1\")\n",
            "                |> pivot(rowKey:[\"_time\"], columnKey:[\"_field\"], valueColumn:\"_value\")\n",
            "                \n",
            "There is no data for this period of time...\n",
            "{'call_tool': {'messages': [FunctionMessage(content='CalculateSR response: 0', name='CalculateSR')]}}\n",
            "----\n",
            "{'Trading': {'messages': [HumanMessage(content='I apologize, but I am unable to calculate the support and resistance levels for CL (Crude Oil) for the past week. Is there anything else I can assist you with?', response_metadata={'finish_reason': 'stop'}, name='Trading', id='run-b5242e8a-e44d-4a36-b532-e4450c99b4c7-0', tool_calls=[], invalid_tool_calls=[])], 'sender': 'Trading'}}\n",
            "----\n"
          ]
        }
      ]
    },
    {
      "cell_type": "markdown",
      "source": [
        "###Calculate Stop Loss:"
      ],
      "metadata": {
        "id": "8XznGCjIcRl7"
      }
    },
    {
      "cell_type": "code",
      "source": [
        "for s in graph.stream(\n",
        "    {\n",
        "        \"messages\": [\n",
        "            HumanMessage(\n",
        "                content=\"How much would be the stop loss for trading based on NQ and short positions with minmax method by looking back up to 30 candles and considering 50 candles neighboring the current time and also attribute coefficient of 1.3?\"\n",
        "            )\n",
        "        ],\n",
        "    },\n",
        "    # Maximum number of steps to take in the graph\n",
        "    {\"recursion_limit\": 150},\n",
        "):\n",
        "    print(s)\n",
        "    print(\"----\")"
      ],
      "metadata": {
        "colab": {
          "base_uri": "https://localhost:8080/"
        },
        "id": "vEB-fMN2dMw2",
        "outputId": "2ecd4797-c5ea-4d56-d9fe-3ab4926f5f1e"
      },
      "execution_count": null,
      "outputs": [
        {
          "output_type": "stream",
          "name": "stdout",
          "text": [
            "{'Handler': {'messages': [FunctionMessage(content='', name='HandleIrrelevant', HandleIrrelevant_response='False')]}}\n",
            "----\n",
            "{'Trading': {'messages': [HumanMessage(content='', additional_kwargs={'function_call': {'arguments': '{\\n  \"symbol\": \"NQ\",\\n  \"method\": \"minmax\",\\n  \"direction\": -1,\\n  \"lookback\": 30,\\n  \"neighborhood\": 50,\\n  \"atr_coef\": 1.3\\n}', 'name': 'calculate_sl'}}, response_metadata={'finish_reason': 'function_call'}, name='Trading', id='run-f6a9a386-5ee4-47c1-9669-62b5814e5ac7-0', tool_calls=[], invalid_tool_calls=[])], 'sender': 'Trading'}}\n",
            "----\n",
            "{'Trading': {'messages': [HumanMessage(content='', additional_kwargs={'function_call': {'arguments': '{\\n  \"symbol\": \"NQ\",\\n  \"method\": \"minmax\",\\n  \"direction\": -1,\\n  \"lookback\": 30,\\n  \"neighborhood\": 50,\\n  \"atr_coef\": 1.3\\n}', 'name': 'calculate_sl'}}, response_metadata={'finish_reason': 'function_call'}, name='Trading', id='run-c5165357-d511-4136-96db-fde8babc7b48-0', tool_calls=[], invalid_tool_calls=[])], 'sender': 'Trading'}}\n",
            "----\n",
            "Error reading data from InfluxDB: Invalid value for `api_client`, must be defined.\n",
            " Query is from(bucket:\"bronze\") \n",
            "                |> range(start: time(v:2024-05-10T03:29:43Z), stop: time(v: 2024-05-14T03:29:43Z))\n",
            "                |> filter(fn: (r) => r[\"_measurement\"] == \"NQ\" and                    r[\"timeframe\"] == \"1min\" and                    r[\"liq_threshold\"] == \"-1\")\n",
            "                |> pivot(rowKey:[\"_time\"], columnKey:[\"_field\"], valueColumn:\"_value\")\n",
            "                \n",
            "There is no data for this period of time...\n",
            "{'call_tool': {'messages': [FunctionMessage(content='calculate_sl response: {}', name='calculate_sl')]}}\n",
            "----\n",
            "{'Trading': {'messages': [HumanMessage(content='', additional_kwargs={'function_call': {'arguments': '{\\n  \"symbol\": \"NQ\",\\n  \"method\": \"minmax\",\\n  \"direction\": -1,\\n  \"lookback\": 30,\\n  \"neighborhood\": 50,\\n  \"atr_coef\": 1.3\\n}', 'name': 'calculate_sl'}}, response_metadata={'finish_reason': 'function_call'}, name='Trading', id='run-1badc965-7a9b-4a15-8b04-49082da48010-0', tool_calls=[], invalid_tool_calls=[])], 'sender': 'Trading'}}\n",
            "----\n",
            "{'Trading': {'messages': [HumanMessage(content='', additional_kwargs={'function_call': {'arguments': '{\\n  \"symbol\": \"NQ\",\\n  \"method\": \"minmax\",\\n  \"direction\": -1,\\n  \"lookback\": 30,\\n  \"neighborhood\": 50,\\n  \"atr_coef\": 1.3\\n}', 'name': 'calculate_sl'}}, response_metadata={'finish_reason': 'function_call'}, name='Trading', id='run-7f49dc2c-bc01-4356-9c7e-8e93ad33048b-0', tool_calls=[], invalid_tool_calls=[])], 'sender': 'Trading'}}\n",
            "----\n",
            "Error reading data from InfluxDB: Invalid value for `api_client`, must be defined.\n",
            " Query is from(bucket:\"bronze\") \n",
            "                |> range(start: time(v:2024-05-10T03:29:45Z), stop: time(v: 2024-05-14T03:29:45Z))\n",
            "                |> filter(fn: (r) => r[\"_measurement\"] == \"NQ\" and                    r[\"timeframe\"] == \"1min\" and                    r[\"liq_threshold\"] == \"-1\")\n",
            "                |> pivot(rowKey:[\"_time\"], columnKey:[\"_field\"], valueColumn:\"_value\")\n",
            "                \n",
            "There is no data for this period of time...\n",
            "{'call_tool': {'messages': [FunctionMessage(content='calculate_sl response: {}', name='calculate_sl')]}}\n",
            "----\n",
            "{'Trading': {'messages': [HumanMessage(content='', additional_kwargs={'function_call': {'arguments': '{\\n  \"symbol\": \"NQ\",\\n  \"method\": \"minmax\",\\n  \"direction\": -1,\\n  \"lookback\": 30,\\n  \"neighborhood\": 50,\\n  \"atr_coef\": 1.3\\n}', 'name': 'calculate_sl'}}, response_metadata={'finish_reason': 'function_call'}, name='Trading', id='run-9466ee58-3b08-4987-aff6-bf06ed7d25f6-0', tool_calls=[], invalid_tool_calls=[])], 'sender': 'Trading'}}\n",
            "----\n",
            "{'Trading': {'messages': [HumanMessage(content='', additional_kwargs={'function_call': {'arguments': '{\\n  \"symbol\": \"NQ\",\\n  \"method\": \"minmax\",\\n  \"direction\": -1,\\n  \"lookback\": 30,\\n  \"neighborhood\": 50,\\n  \"atr_coef\": 1.3\\n}', 'name': 'calculate_sl'}}, response_metadata={'finish_reason': 'function_call'}, name='Trading', id='run-dddd990c-123a-483f-b115-212cc75f2101-0', tool_calls=[], invalid_tool_calls=[])], 'sender': 'Trading'}}\n",
            "----\n",
            "Error reading data from InfluxDB: Invalid value for `api_client`, must be defined.\n",
            " Query is from(bucket:\"bronze\") \n",
            "                |> range(start: time(v:2024-05-10T03:29:47Z), stop: time(v: 2024-05-14T03:29:47Z))\n",
            "                |> filter(fn: (r) => r[\"_measurement\"] == \"NQ\" and                    r[\"timeframe\"] == \"1min\" and                    r[\"liq_threshold\"] == \"-1\")\n",
            "                |> pivot(rowKey:[\"_time\"], columnKey:[\"_field\"], valueColumn:\"_value\")\n",
            "                \n",
            "There is no data for this period of time...\n",
            "{'call_tool': {'messages': [FunctionMessage(content='calculate_sl response: {}', name='calculate_sl')]}}\n",
            "----\n",
            "{'Trading': {'messages': [HumanMessage(content='', additional_kwargs={'function_call': {'arguments': '{\\n  \"symbol\": \"NQ\",\\n  \"method\": \"minmax\",\\n  \"direction\": -1,\\n  \"lookback\": 30,\\n  \"neighborhood\": 50,\\n  \"atr_coef\": 1.3\\n}', 'name': 'calculate_sl'}}, response_metadata={'finish_reason': 'function_call'}, name='Trading', id='run-d6801a94-67b4-4c2b-b932-21b42d718d22-0', tool_calls=[], invalid_tool_calls=[])], 'sender': 'Trading'}}\n",
            "----\n",
            "{'Trading': {'messages': [HumanMessage(content='', additional_kwargs={'function_call': {'arguments': '{\\n  \"symbol\": \"NQ\",\\n  \"method\": \"minmax\",\\n  \"direction\": -1,\\n  \"lookback\": 30,\\n  \"neighborhood\": 50,\\n  \"atr_coef\": 1.3\\n}', 'name': 'calculate_sl'}}, response_metadata={'finish_reason': 'function_call'}, name='Trading', id='run-f1b0fede-d678-4a77-9cbb-810828a9a3d0-0', tool_calls=[], invalid_tool_calls=[])], 'sender': 'Trading'}}\n",
            "----\n",
            "Error reading data from InfluxDB: Invalid value for `api_client`, must be defined.\n",
            " Query is from(bucket:\"bronze\") \n",
            "                |> range(start: time(v:2024-05-10T03:29:49Z), stop: time(v: 2024-05-14T03:29:49Z))\n",
            "                |> filter(fn: (r) => r[\"_measurement\"] == \"NQ\" and                    r[\"timeframe\"] == \"1min\" and                    r[\"liq_threshold\"] == \"-1\")\n",
            "                |> pivot(rowKey:[\"_time\"], columnKey:[\"_field\"], valueColumn:\"_value\")\n",
            "                \n",
            "There is no data for this period of time...\n",
            "{'call_tool': {'messages': [FunctionMessage(content='calculate_sl response: {}', name='calculate_sl')]}}\n",
            "----\n",
            "{'Trading': {'messages': [HumanMessage(content='I apologize, but it seems that I am unable to calculate the stop loss for trading based on the given parameters. Is there anything else I can assist you with?', response_metadata={'finish_reason': 'stop'}, name='Trading', id='run-d2702f6c-7e38-4a0b-beb3-e675bdd83b1a-0', tool_calls=[], invalid_tool_calls=[])], 'sender': 'Trading'}}\n",
            "----\n"
          ]
        }
      ]
    },
    {
      "cell_type": "code",
      "source": [
        "for s in graph.stream(\n",
        "    {\n",
        "        \"messages\": [\n",
        "            HumanMessage(\n",
        "                content=\"How much would be the stop loss for trading based on NQ and short positions with minmax method by looking back up to 30 candles and considering 50 candles neighboring the current time?\"\n",
        "            )\n",
        "        ],\n",
        "    },\n",
        "    # Maximum number of steps to take in the graph\n",
        "    {\"recursion_limit\": 150},\n",
        "):\n",
        "    print(s)\n",
        "    print(\"----\")"
      ],
      "metadata": {
        "colab": {
          "base_uri": "https://localhost:8080/",
          "height": 532
        },
        "id": "IQoLkQUGdEel",
        "outputId": "c75ba135-cb0c-42bd-ed8b-160e32392ade"
      },
      "execution_count": null,
      "outputs": [
        {
          "output_type": "stream",
          "name": "stdout",
          "text": [
            "{'Handler': {'messages': [FunctionMessage(content='', name='HandleIrrelevant', HandleIrrelevant_response='False')]}}\n",
            "----\n",
            "{'Trading': {'messages': [HumanMessage(content='', additional_kwargs={'function_call': {'arguments': '{\\n  \"symbol\": \"NQ\",\\n  \"method\": \"minmax\",\\n  \"direction\": -1,\\n  \"lookback\": 30,\\n  \"neighborhood\": 50\\n}', 'name': 'calculate_sl'}}, response_metadata={'finish_reason': 'function_call'}, name='Trading', id='run-12773a84-17cc-4915-be07-087c3df24f3c-0', tool_calls=[], invalid_tool_calls=[])], 'sender': 'Trading'}}\n",
            "----\n",
            "{'Trading': {'messages': [HumanMessage(content='', additional_kwargs={'function_call': {'arguments': '{\\n  \"symbol\": \"NQ\",\\n  \"method\": \"minmax\",\\n  \"direction\": -1,\\n  \"lookback\": 30,\\n  \"neighborhood\": 50\\n}', 'name': 'calculate_sl'}}, response_metadata={'finish_reason': 'function_call'}, name='Trading', id='run-4d50390e-be8b-43d9-9412-0867c92ec67f-0', tool_calls=[], invalid_tool_calls=[])], 'sender': 'Trading'}}\n",
            "----\n"
          ]
        },
        {
          "output_type": "error",
          "ename": "ValidationError",
          "evalue": "1 validation error for PropertiesCalculateSl\natr_coef\n  field required (type=value_error.missing)",
          "traceback": [
            "\u001b[0;31m---------------------------------------------------------------------------\u001b[0m",
            "\u001b[0;31mValidationError\u001b[0m                           Traceback (most recent call last)",
            "\u001b[0;32m<ipython-input-122-93dd97458b14>\u001b[0m in \u001b[0;36m<cell line: 1>\u001b[0;34m()\u001b[0m\n\u001b[0;32m----> 1\u001b[0;31m for s in graph.stream(\n\u001b[0m\u001b[1;32m      2\u001b[0m     {\n\u001b[1;32m      3\u001b[0m         \"messages\": [\n\u001b[1;32m      4\u001b[0m             HumanMessage(\n\u001b[1;32m      5\u001b[0m                 \u001b[0mcontent\u001b[0m\u001b[0;34m=\u001b[0m\u001b[0;34m\"How much would be the stop loss for trading based on NQ and short positions with minmax method by looking back up to 30 candles and considering 50 candles neighboring the current time?\"\u001b[0m\u001b[0;34m\u001b[0m\u001b[0;34m\u001b[0m\u001b[0m\n",
            "\u001b[0;32m/usr/local/lib/python3.10/dist-packages/langgraph/pregel/__init__.py\u001b[0m in \u001b[0;36mstream\u001b[0;34m(self, input, config, stream_mode, output_keys, input_keys, interrupt_before, interrupt_after, debug)\u001b[0m\n\u001b[1;32m    769\u001b[0m \u001b[0;34m\u001b[0m\u001b[0m\n\u001b[1;32m    770\u001b[0m                     \u001b[0;31m# panic on failure or timeout\u001b[0m\u001b[0;34m\u001b[0m\u001b[0;34m\u001b[0m\u001b[0m\n\u001b[0;32m--> 771\u001b[0;31m                     \u001b[0m_panic_or_proceed\u001b[0m\u001b[0;34m(\u001b[0m\u001b[0mdone\u001b[0m\u001b[0;34m,\u001b[0m \u001b[0minflight\u001b[0m\u001b[0;34m,\u001b[0m \u001b[0mstep\u001b[0m\u001b[0;34m)\u001b[0m\u001b[0;34m\u001b[0m\u001b[0;34m\u001b[0m\u001b[0m\n\u001b[0m\u001b[1;32m    772\u001b[0m \u001b[0;34m\u001b[0m\u001b[0m\n\u001b[1;32m    773\u001b[0m                     \u001b[0;31m# combine pending writes from all tasks\u001b[0m\u001b[0;34m\u001b[0m\u001b[0;34m\u001b[0m\u001b[0m\n",
            "\u001b[0;32m/usr/local/lib/python3.10/dist-packages/langgraph/pregel/__init__.py\u001b[0m in \u001b[0;36m_panic_or_proceed\u001b[0;34m(done, inflight, step)\u001b[0m\n\u001b[1;32m   1261\u001b[0m                 \u001b[0minflight\u001b[0m\u001b[0;34m.\u001b[0m\u001b[0mpop\u001b[0m\u001b[0;34m(\u001b[0m\u001b[0;34m)\u001b[0m\u001b[0;34m.\u001b[0m\u001b[0mcancel\u001b[0m\u001b[0;34m(\u001b[0m\u001b[0;34m)\u001b[0m\u001b[0;34m\u001b[0m\u001b[0;34m\u001b[0m\u001b[0m\n\u001b[1;32m   1262\u001b[0m             \u001b[0;31m# raise the exception\u001b[0m\u001b[0;34m\u001b[0m\u001b[0;34m\u001b[0m\u001b[0m\n\u001b[0;32m-> 1263\u001b[0;31m             \u001b[0;32mraise\u001b[0m \u001b[0mexc\u001b[0m\u001b[0;34m\u001b[0m\u001b[0;34m\u001b[0m\u001b[0m\n\u001b[0m\u001b[1;32m   1264\u001b[0m             \u001b[0;31m# TODO this is where retry of an entire step would happen\u001b[0m\u001b[0;34m\u001b[0m\u001b[0;34m\u001b[0m\u001b[0m\n\u001b[1;32m   1265\u001b[0m \u001b[0;34m\u001b[0m\u001b[0m\n",
            "\u001b[0;32m/usr/lib/python3.10/concurrent/futures/thread.py\u001b[0m in \u001b[0;36mrun\u001b[0;34m(self)\u001b[0m\n\u001b[1;32m     56\u001b[0m \u001b[0;34m\u001b[0m\u001b[0m\n\u001b[1;32m     57\u001b[0m         \u001b[0;32mtry\u001b[0m\u001b[0;34m:\u001b[0m\u001b[0;34m\u001b[0m\u001b[0;34m\u001b[0m\u001b[0m\n\u001b[0;32m---> 58\u001b[0;31m             \u001b[0mresult\u001b[0m \u001b[0;34m=\u001b[0m \u001b[0mself\u001b[0m\u001b[0;34m.\u001b[0m\u001b[0mfn\u001b[0m\u001b[0;34m(\u001b[0m\u001b[0;34m*\u001b[0m\u001b[0mself\u001b[0m\u001b[0;34m.\u001b[0m\u001b[0margs\u001b[0m\u001b[0;34m,\u001b[0m \u001b[0;34m**\u001b[0m\u001b[0mself\u001b[0m\u001b[0;34m.\u001b[0m\u001b[0mkwargs\u001b[0m\u001b[0;34m)\u001b[0m\u001b[0;34m\u001b[0m\u001b[0;34m\u001b[0m\u001b[0m\n\u001b[0m\u001b[1;32m     59\u001b[0m         \u001b[0;32mexcept\u001b[0m \u001b[0mBaseException\u001b[0m \u001b[0;32mas\u001b[0m \u001b[0mexc\u001b[0m\u001b[0;34m:\u001b[0m\u001b[0;34m\u001b[0m\u001b[0;34m\u001b[0m\u001b[0m\n\u001b[1;32m     60\u001b[0m             \u001b[0mself\u001b[0m\u001b[0;34m.\u001b[0m\u001b[0mfuture\u001b[0m\u001b[0;34m.\u001b[0m\u001b[0mset_exception\u001b[0m\u001b[0;34m(\u001b[0m\u001b[0mexc\u001b[0m\u001b[0;34m)\u001b[0m\u001b[0;34m\u001b[0m\u001b[0;34m\u001b[0m\u001b[0m\n",
            "\u001b[0;32m/usr/local/lib/python3.10/dist-packages/langchain_core/runnables/base.py\u001b[0m in \u001b[0;36minvoke\u001b[0;34m(self, input, config)\u001b[0m\n\u001b[1;32m   2497\u001b[0m         \u001b[0;32mtry\u001b[0m\u001b[0;34m:\u001b[0m\u001b[0;34m\u001b[0m\u001b[0;34m\u001b[0m\u001b[0m\n\u001b[1;32m   2498\u001b[0m             \u001b[0;32mfor\u001b[0m \u001b[0mi\u001b[0m\u001b[0;34m,\u001b[0m \u001b[0mstep\u001b[0m \u001b[0;32min\u001b[0m \u001b[0menumerate\u001b[0m\u001b[0;34m(\u001b[0m\u001b[0mself\u001b[0m\u001b[0;34m.\u001b[0m\u001b[0msteps\u001b[0m\u001b[0;34m)\u001b[0m\u001b[0;34m:\u001b[0m\u001b[0;34m\u001b[0m\u001b[0;34m\u001b[0m\u001b[0m\n\u001b[0;32m-> 2499\u001b[0;31m                 input = step.invoke(\n\u001b[0m\u001b[1;32m   2500\u001b[0m                     \u001b[0minput\u001b[0m\u001b[0;34m,\u001b[0m\u001b[0;34m\u001b[0m\u001b[0;34m\u001b[0m\u001b[0m\n\u001b[1;32m   2501\u001b[0m                     \u001b[0;31m# mark each step as a child run\u001b[0m\u001b[0;34m\u001b[0m\u001b[0;34m\u001b[0m\u001b[0m\n",
            "\u001b[0;32m/usr/local/lib/python3.10/dist-packages/langgraph/utils.py\u001b[0m in \u001b[0;36minvoke\u001b[0;34m(self, input, config)\u001b[0m\n\u001b[1;32m     86\u001b[0m                 \u001b[0;32melse\u001b[0m \u001b[0mself\u001b[0m\u001b[0;34m.\u001b[0m\u001b[0mkwargs\u001b[0m\u001b[0;34m\u001b[0m\u001b[0;34m\u001b[0m\u001b[0m\n\u001b[1;32m     87\u001b[0m             )\n\u001b[0;32m---> 88\u001b[0;31m             \u001b[0mret\u001b[0m \u001b[0;34m=\u001b[0m \u001b[0mcontext\u001b[0m\u001b[0;34m.\u001b[0m\u001b[0mrun\u001b[0m\u001b[0;34m(\u001b[0m\u001b[0mself\u001b[0m\u001b[0;34m.\u001b[0m\u001b[0mfunc\u001b[0m\u001b[0;34m,\u001b[0m \u001b[0minput\u001b[0m\u001b[0;34m,\u001b[0m \u001b[0;34m**\u001b[0m\u001b[0mkwargs\u001b[0m\u001b[0;34m)\u001b[0m\u001b[0;34m\u001b[0m\u001b[0;34m\u001b[0m\u001b[0m\n\u001b[0m\u001b[1;32m     89\u001b[0m         \u001b[0;32mif\u001b[0m \u001b[0misinstance\u001b[0m\u001b[0;34m(\u001b[0m\u001b[0mret\u001b[0m\u001b[0;34m,\u001b[0m \u001b[0mRunnable\u001b[0m\u001b[0;34m)\u001b[0m \u001b[0;32mand\u001b[0m \u001b[0mself\u001b[0m\u001b[0;34m.\u001b[0m\u001b[0mrecurse\u001b[0m\u001b[0;34m:\u001b[0m\u001b[0;34m\u001b[0m\u001b[0;34m\u001b[0m\u001b[0m\n\u001b[1;32m     90\u001b[0m             \u001b[0;32mreturn\u001b[0m \u001b[0mret\u001b[0m\u001b[0;34m.\u001b[0m\u001b[0minvoke\u001b[0m\u001b[0;34m(\u001b[0m\u001b[0minput\u001b[0m\u001b[0;34m,\u001b[0m \u001b[0mconfig\u001b[0m\u001b[0;34m)\u001b[0m\u001b[0;34m\u001b[0m\u001b[0;34m\u001b[0m\u001b[0m\n",
            "\u001b[0;32m<ipython-input-106-38e78445e906>\u001b[0m in \u001b[0;36mtool_node\u001b[0;34m(state)\u001b[0m\n\u001b[1;32m     22\u001b[0m   )\n\u001b[1;32m     23\u001b[0m \u001b[0;34m\u001b[0m\u001b[0m\n\u001b[0;32m---> 24\u001b[0;31m   \u001b[0mresponse\u001b[0m \u001b[0;34m=\u001b[0m \u001b[0mtool_executor\u001b[0m\u001b[0;34m.\u001b[0m\u001b[0minvoke\u001b[0m\u001b[0;34m(\u001b[0m\u001b[0maction\u001b[0m\u001b[0;34m)\u001b[0m\u001b[0;34m\u001b[0m\u001b[0;34m\u001b[0m\u001b[0m\n\u001b[0m\u001b[1;32m     25\u001b[0m   function_message = FunctionMessage(\n\u001b[1;32m     26\u001b[0m       \u001b[0mcontent\u001b[0m\u001b[0;34m=\u001b[0m\u001b[0;34mf\"{tool_name} response: {str(response)}\"\u001b[0m\u001b[0;34m,\u001b[0m \u001b[0mname\u001b[0m\u001b[0;34m=\u001b[0m\u001b[0maction\u001b[0m\u001b[0;34m.\u001b[0m\u001b[0mtool\u001b[0m\u001b[0;34m\u001b[0m\u001b[0;34m\u001b[0m\u001b[0m\n",
            "\u001b[0;32m/usr/local/lib/python3.10/dist-packages/langgraph/utils.py\u001b[0m in \u001b[0;36minvoke\u001b[0;34m(self, input, config)\u001b[0m\n\u001b[1;32m     86\u001b[0m                 \u001b[0;32melse\u001b[0m \u001b[0mself\u001b[0m\u001b[0;34m.\u001b[0m\u001b[0mkwargs\u001b[0m\u001b[0;34m\u001b[0m\u001b[0;34m\u001b[0m\u001b[0m\n\u001b[1;32m     87\u001b[0m             )\n\u001b[0;32m---> 88\u001b[0;31m             \u001b[0mret\u001b[0m \u001b[0;34m=\u001b[0m \u001b[0mcontext\u001b[0m\u001b[0;34m.\u001b[0m\u001b[0mrun\u001b[0m\u001b[0;34m(\u001b[0m\u001b[0mself\u001b[0m\u001b[0;34m.\u001b[0m\u001b[0mfunc\u001b[0m\u001b[0;34m,\u001b[0m \u001b[0minput\u001b[0m\u001b[0;34m,\u001b[0m \u001b[0;34m**\u001b[0m\u001b[0mkwargs\u001b[0m\u001b[0;34m)\u001b[0m\u001b[0;34m\u001b[0m\u001b[0;34m\u001b[0m\u001b[0m\n\u001b[0m\u001b[1;32m     89\u001b[0m         \u001b[0;32mif\u001b[0m \u001b[0misinstance\u001b[0m\u001b[0;34m(\u001b[0m\u001b[0mret\u001b[0m\u001b[0;34m,\u001b[0m \u001b[0mRunnable\u001b[0m\u001b[0;34m)\u001b[0m \u001b[0;32mand\u001b[0m \u001b[0mself\u001b[0m\u001b[0;34m.\u001b[0m\u001b[0mrecurse\u001b[0m\u001b[0;34m:\u001b[0m\u001b[0;34m\u001b[0m\u001b[0;34m\u001b[0m\u001b[0m\n\u001b[1;32m     90\u001b[0m             \u001b[0;32mreturn\u001b[0m \u001b[0mret\u001b[0m\u001b[0;34m.\u001b[0m\u001b[0minvoke\u001b[0m\u001b[0;34m(\u001b[0m\u001b[0minput\u001b[0m\u001b[0;34m,\u001b[0m \u001b[0mconfig\u001b[0m\u001b[0;34m)\u001b[0m\u001b[0;34m\u001b[0m\u001b[0;34m\u001b[0m\u001b[0m\n",
            "\u001b[0;32m/usr/local/lib/python3.10/dist-packages/langgraph/prebuilt/tool_executor.py\u001b[0m in \u001b[0;36m_execute\u001b[0;34m(self, tool_invocation, config)\u001b[0m\n\u001b[1;32m    100\u001b[0m         \u001b[0;32melse\u001b[0m\u001b[0;34m:\u001b[0m\u001b[0;34m\u001b[0m\u001b[0;34m\u001b[0m\u001b[0m\n\u001b[1;32m    101\u001b[0m             \u001b[0mtool\u001b[0m \u001b[0;34m=\u001b[0m \u001b[0mself\u001b[0m\u001b[0;34m.\u001b[0m\u001b[0mtool_map\u001b[0m\u001b[0;34m[\u001b[0m\u001b[0mtool_invocation\u001b[0m\u001b[0;34m.\u001b[0m\u001b[0mtool\u001b[0m\u001b[0;34m]\u001b[0m\u001b[0;34m\u001b[0m\u001b[0;34m\u001b[0m\u001b[0m\n\u001b[0;32m--> 102\u001b[0;31m             \u001b[0moutput\u001b[0m \u001b[0;34m=\u001b[0m \u001b[0mtool\u001b[0m\u001b[0;34m.\u001b[0m\u001b[0minvoke\u001b[0m\u001b[0;34m(\u001b[0m\u001b[0mtool_invocation\u001b[0m\u001b[0;34m.\u001b[0m\u001b[0mtool_input\u001b[0m\u001b[0;34m,\u001b[0m \u001b[0mconfig\u001b[0m\u001b[0;34m)\u001b[0m\u001b[0;34m\u001b[0m\u001b[0;34m\u001b[0m\u001b[0m\n\u001b[0m\u001b[1;32m    103\u001b[0m             \u001b[0;32mreturn\u001b[0m \u001b[0moutput\u001b[0m\u001b[0;34m\u001b[0m\u001b[0;34m\u001b[0m\u001b[0m\n\u001b[1;32m    104\u001b[0m \u001b[0;34m\u001b[0m\u001b[0m\n",
            "\u001b[0;32m/usr/local/lib/python3.10/dist-packages/langchain_core/tools.py\u001b[0m in \u001b[0;36minvoke\u001b[0;34m(self, input, config, **kwargs)\u001b[0m\n\u001b[1;32m    258\u001b[0m     ) -> Any:\n\u001b[1;32m    259\u001b[0m         \u001b[0mconfig\u001b[0m \u001b[0;34m=\u001b[0m \u001b[0mensure_config\u001b[0m\u001b[0;34m(\u001b[0m\u001b[0mconfig\u001b[0m\u001b[0;34m)\u001b[0m\u001b[0;34m\u001b[0m\u001b[0;34m\u001b[0m\u001b[0m\n\u001b[0;32m--> 260\u001b[0;31m         return self.run(\n\u001b[0m\u001b[1;32m    261\u001b[0m             \u001b[0minput\u001b[0m\u001b[0;34m,\u001b[0m\u001b[0;34m\u001b[0m\u001b[0;34m\u001b[0m\u001b[0m\n\u001b[1;32m    262\u001b[0m             \u001b[0mcallbacks\u001b[0m\u001b[0;34m=\u001b[0m\u001b[0mconfig\u001b[0m\u001b[0;34m.\u001b[0m\u001b[0mget\u001b[0m\u001b[0;34m(\u001b[0m\u001b[0;34m\"callbacks\"\u001b[0m\u001b[0;34m)\u001b[0m\u001b[0;34m,\u001b[0m\u001b[0;34m\u001b[0m\u001b[0;34m\u001b[0m\u001b[0m\n",
            "\u001b[0;32m/usr/local/lib/python3.10/dist-packages/langchain_core/tools.py\u001b[0m in \u001b[0;36mrun\u001b[0;34m(self, tool_input, verbose, start_color, color, callbacks, tags, metadata, run_name, run_id, config, **kwargs)\u001b[0m\n\u001b[1;32m    415\u001b[0m         \u001b[0;32mexcept\u001b[0m \u001b[0mValidationError\u001b[0m \u001b[0;32mas\u001b[0m \u001b[0me\u001b[0m\u001b[0;34m:\u001b[0m\u001b[0;34m\u001b[0m\u001b[0;34m\u001b[0m\u001b[0m\n\u001b[1;32m    416\u001b[0m             \u001b[0;32mif\u001b[0m \u001b[0;32mnot\u001b[0m \u001b[0mself\u001b[0m\u001b[0;34m.\u001b[0m\u001b[0mhandle_validation_error\u001b[0m\u001b[0;34m:\u001b[0m\u001b[0;34m\u001b[0m\u001b[0;34m\u001b[0m\u001b[0m\n\u001b[0;32m--> 417\u001b[0;31m                 \u001b[0;32mraise\u001b[0m \u001b[0me\u001b[0m\u001b[0;34m\u001b[0m\u001b[0;34m\u001b[0m\u001b[0m\n\u001b[0m\u001b[1;32m    418\u001b[0m             \u001b[0;32melif\u001b[0m \u001b[0misinstance\u001b[0m\u001b[0;34m(\u001b[0m\u001b[0mself\u001b[0m\u001b[0;34m.\u001b[0m\u001b[0mhandle_validation_error\u001b[0m\u001b[0;34m,\u001b[0m \u001b[0mbool\u001b[0m\u001b[0;34m)\u001b[0m\u001b[0;34m:\u001b[0m\u001b[0;34m\u001b[0m\u001b[0;34m\u001b[0m\u001b[0m\n\u001b[1;32m    419\u001b[0m                 \u001b[0mobservation\u001b[0m \u001b[0;34m=\u001b[0m \u001b[0;34m\"Tool input validation error\"\u001b[0m\u001b[0;34m\u001b[0m\u001b[0;34m\u001b[0m\u001b[0m\n",
            "\u001b[0;32m/usr/local/lib/python3.10/dist-packages/langchain_core/tools.py\u001b[0m in \u001b[0;36mrun\u001b[0;34m(self, tool_input, verbose, start_color, color, callbacks, tags, metadata, run_name, run_id, config, **kwargs)\u001b[0m\n\u001b[1;32m    404\u001b[0m             \u001b[0mcontext\u001b[0m \u001b[0;34m=\u001b[0m \u001b[0mcopy_context\u001b[0m\u001b[0;34m(\u001b[0m\u001b[0;34m)\u001b[0m\u001b[0;34m\u001b[0m\u001b[0;34m\u001b[0m\u001b[0m\n\u001b[1;32m    405\u001b[0m             \u001b[0mcontext\u001b[0m\u001b[0;34m.\u001b[0m\u001b[0mrun\u001b[0m\u001b[0;34m(\u001b[0m\u001b[0mvar_child_runnable_config\u001b[0m\u001b[0;34m.\u001b[0m\u001b[0mset\u001b[0m\u001b[0;34m,\u001b[0m \u001b[0mchild_config\u001b[0m\u001b[0;34m)\u001b[0m\u001b[0;34m\u001b[0m\u001b[0;34m\u001b[0m\u001b[0m\n\u001b[0;32m--> 406\u001b[0;31m             \u001b[0mparsed_input\u001b[0m \u001b[0;34m=\u001b[0m \u001b[0mself\u001b[0m\u001b[0;34m.\u001b[0m\u001b[0m_parse_input\u001b[0m\u001b[0;34m(\u001b[0m\u001b[0mtool_input\u001b[0m\u001b[0;34m)\u001b[0m\u001b[0;34m\u001b[0m\u001b[0;34m\u001b[0m\u001b[0m\n\u001b[0m\u001b[1;32m    407\u001b[0m             \u001b[0mtool_args\u001b[0m\u001b[0;34m,\u001b[0m \u001b[0mtool_kwargs\u001b[0m \u001b[0;34m=\u001b[0m \u001b[0mself\u001b[0m\u001b[0;34m.\u001b[0m\u001b[0m_to_args_and_kwargs\u001b[0m\u001b[0;34m(\u001b[0m\u001b[0mparsed_input\u001b[0m\u001b[0;34m)\u001b[0m\u001b[0;34m\u001b[0m\u001b[0;34m\u001b[0m\u001b[0m\n\u001b[1;32m    408\u001b[0m             observation = (\n",
            "\u001b[0;32m/usr/local/lib/python3.10/dist-packages/langchain_core/tools.py\u001b[0m in \u001b[0;36m_parse_input\u001b[0;34m(self, tool_input)\u001b[0m\n\u001b[1;32m    302\u001b[0m         \u001b[0;32melse\u001b[0m\u001b[0;34m:\u001b[0m\u001b[0;34m\u001b[0m\u001b[0;34m\u001b[0m\u001b[0m\n\u001b[1;32m    303\u001b[0m             \u001b[0;32mif\u001b[0m \u001b[0minput_args\u001b[0m \u001b[0;32mis\u001b[0m \u001b[0;32mnot\u001b[0m \u001b[0;32mNone\u001b[0m\u001b[0;34m:\u001b[0m\u001b[0;34m\u001b[0m\u001b[0;34m\u001b[0m\u001b[0m\n\u001b[0;32m--> 304\u001b[0;31m                 \u001b[0mresult\u001b[0m \u001b[0;34m=\u001b[0m \u001b[0minput_args\u001b[0m\u001b[0;34m.\u001b[0m\u001b[0mparse_obj\u001b[0m\u001b[0;34m(\u001b[0m\u001b[0mtool_input\u001b[0m\u001b[0;34m)\u001b[0m\u001b[0;34m\u001b[0m\u001b[0;34m\u001b[0m\u001b[0m\n\u001b[0m\u001b[1;32m    305\u001b[0m                 return {\n\u001b[1;32m    306\u001b[0m                     \u001b[0mk\u001b[0m\u001b[0;34m:\u001b[0m \u001b[0mgetattr\u001b[0m\u001b[0;34m(\u001b[0m\u001b[0mresult\u001b[0m\u001b[0;34m,\u001b[0m \u001b[0mk\u001b[0m\u001b[0;34m)\u001b[0m\u001b[0;34m\u001b[0m\u001b[0;34m\u001b[0m\u001b[0m\n",
            "\u001b[0;32m/usr/local/lib/python3.10/dist-packages/pydantic/v1/main.py\u001b[0m in \u001b[0;36mparse_obj\u001b[0;34m(cls, obj)\u001b[0m\n\u001b[1;32m    524\u001b[0m                 \u001b[0mexc\u001b[0m \u001b[0;34m=\u001b[0m \u001b[0mTypeError\u001b[0m\u001b[0;34m(\u001b[0m\u001b[0;34mf'{cls.__name__} expected dict not {obj.__class__.__name__}'\u001b[0m\u001b[0;34m)\u001b[0m\u001b[0;34m\u001b[0m\u001b[0;34m\u001b[0m\u001b[0m\n\u001b[1;32m    525\u001b[0m                 \u001b[0;32mraise\u001b[0m \u001b[0mValidationError\u001b[0m\u001b[0;34m(\u001b[0m\u001b[0;34m[\u001b[0m\u001b[0mErrorWrapper\u001b[0m\u001b[0;34m(\u001b[0m\u001b[0mexc\u001b[0m\u001b[0;34m,\u001b[0m \u001b[0mloc\u001b[0m\u001b[0;34m=\u001b[0m\u001b[0mROOT_KEY\u001b[0m\u001b[0;34m)\u001b[0m\u001b[0;34m]\u001b[0m\u001b[0;34m,\u001b[0m \u001b[0mcls\u001b[0m\u001b[0;34m)\u001b[0m \u001b[0;32mfrom\u001b[0m \u001b[0me\u001b[0m\u001b[0;34m\u001b[0m\u001b[0;34m\u001b[0m\u001b[0m\n\u001b[0;32m--> 526\u001b[0;31m         \u001b[0;32mreturn\u001b[0m \u001b[0mcls\u001b[0m\u001b[0;34m(\u001b[0m\u001b[0;34m**\u001b[0m\u001b[0mobj\u001b[0m\u001b[0;34m)\u001b[0m\u001b[0;34m\u001b[0m\u001b[0;34m\u001b[0m\u001b[0m\n\u001b[0m\u001b[1;32m    527\u001b[0m \u001b[0;34m\u001b[0m\u001b[0m\n\u001b[1;32m    528\u001b[0m     \u001b[0;34m@\u001b[0m\u001b[0mclassmethod\u001b[0m\u001b[0;34m\u001b[0m\u001b[0;34m\u001b[0m\u001b[0m\n",
            "\u001b[0;32m/usr/local/lib/python3.10/dist-packages/pydantic/v1/main.py\u001b[0m in \u001b[0;36m__init__\u001b[0;34m(__pydantic_self__, **data)\u001b[0m\n\u001b[1;32m    339\u001b[0m         \u001b[0mvalues\u001b[0m\u001b[0;34m,\u001b[0m \u001b[0mfields_set\u001b[0m\u001b[0;34m,\u001b[0m \u001b[0mvalidation_error\u001b[0m \u001b[0;34m=\u001b[0m \u001b[0mvalidate_model\u001b[0m\u001b[0;34m(\u001b[0m\u001b[0m__pydantic_self__\u001b[0m\u001b[0;34m.\u001b[0m\u001b[0m__class__\u001b[0m\u001b[0;34m,\u001b[0m \u001b[0mdata\u001b[0m\u001b[0;34m)\u001b[0m\u001b[0;34m\u001b[0m\u001b[0;34m\u001b[0m\u001b[0m\n\u001b[1;32m    340\u001b[0m         \u001b[0;32mif\u001b[0m \u001b[0mvalidation_error\u001b[0m\u001b[0;34m:\u001b[0m\u001b[0;34m\u001b[0m\u001b[0;34m\u001b[0m\u001b[0m\n\u001b[0;32m--> 341\u001b[0;31m             \u001b[0;32mraise\u001b[0m \u001b[0mvalidation_error\u001b[0m\u001b[0;34m\u001b[0m\u001b[0;34m\u001b[0m\u001b[0m\n\u001b[0m\u001b[1;32m    342\u001b[0m         \u001b[0;32mtry\u001b[0m\u001b[0;34m:\u001b[0m\u001b[0;34m\u001b[0m\u001b[0;34m\u001b[0m\u001b[0m\n\u001b[1;32m    343\u001b[0m             \u001b[0mobject_setattr\u001b[0m\u001b[0;34m(\u001b[0m\u001b[0m__pydantic_self__\u001b[0m\u001b[0;34m,\u001b[0m \u001b[0;34m'__dict__'\u001b[0m\u001b[0;34m,\u001b[0m \u001b[0mvalues\u001b[0m\u001b[0;34m)\u001b[0m\u001b[0;34m\u001b[0m\u001b[0;34m\u001b[0m\u001b[0m\n",
            "\u001b[0;31mValidationError\u001b[0m: 1 validation error for PropertiesCalculateSl\natr_coef\n  field required (type=value_error.missing)"
          ]
        }
      ]
    },
    {
      "cell_type": "code",
      "source": [
        "for s in graph.stream(\n",
        "    {\n",
        "        \"messages\": [\n",
        "            HumanMessage(\n",
        "                content=\"How much would be the stop loss for trading based on NQ and short positions with minmax method by looking back up to 30 candles?\"\n",
        "            )\n",
        "        ],\n",
        "    },\n",
        "    # Maximum number of steps to take in the graph\n",
        "    {\"recursion_limit\": 150},\n",
        "):\n",
        "    print(s)\n",
        "    print(\"----\")"
      ],
      "metadata": {
        "colab": {
          "base_uri": "https://localhost:8080/"
        },
        "id": "N5fvw0NEc_EO",
        "outputId": "217b2226-34cf-41ca-ecb7-66e85b66d671"
      },
      "execution_count": null,
      "outputs": [
        {
          "output_type": "stream",
          "name": "stdout",
          "text": [
            "{'Handler': {'messages': [FunctionMessage(content='', name='HandleIrrelevant', HandleIrrelevant_response='False')]}}\n",
            "----\n",
            "{'Trading': {'messages': [HumanMessage(content='', additional_kwargs={'function_call': {'arguments': '{\\n  \"symbol\": \"NQ\",\\n  \"method\": \"minmax\",\\n  \"direction\": -1,\\n  \"lookback\": 30,\\n  \"neighborhood\": 0,\\n  \"atr_coef\": 0\\n}', 'name': 'calculate_sl'}}, response_metadata={'finish_reason': 'function_call'}, name='Trading', id='run-29307e21-e28e-45fe-abb2-a2960d9ac5df-0', tool_calls=[], invalid_tool_calls=[])], 'sender': 'Trading'}}\n",
            "----\n",
            "{'Trading': {'messages': [HumanMessage(content='', additional_kwargs={'function_call': {'arguments': '{\\n  \"symbol\": \"NQ\",\\n  \"method\": \"minmax\",\\n  \"direction\": -1,\\n  \"lookback\": 30,\\n  \"neighborhood\": 0,\\n  \"atr_coef\": 0\\n}', 'name': 'calculate_sl'}}, response_metadata={'finish_reason': 'function_call'}, name='Trading', id='run-f0f403ef-60a0-4d52-a87b-69429fc60aba-0', tool_calls=[], invalid_tool_calls=[])], 'sender': 'Trading'}}\n",
            "----\n",
            "Error reading data from InfluxDB: Invalid value for `api_client`, must be defined.\n",
            " Query is from(bucket:\"bronze\") \n",
            "                |> range(start: time(v:2024-05-10T03:28:44Z), stop: time(v: 2024-05-14T03:28:44Z))\n",
            "                |> filter(fn: (r) => r[\"_measurement\"] == \"NQ\" and                    r[\"timeframe\"] == \"1min\" and                    r[\"liq_threshold\"] == \"-1\")\n",
            "                |> pivot(rowKey:[\"_time\"], columnKey:[\"_field\"], valueColumn:\"_value\")\n",
            "                \n",
            "There is no data for this period of time...\n",
            "{'call_tool': {'messages': [FunctionMessage(content='calculate_sl response: {}', name='calculate_sl')]}}\n",
            "----\n",
            "{'Trading': {'messages': [HumanMessage(content='', additional_kwargs={'function_call': {'arguments': '{\\n  \"symbol\": \"NQ\",\\n  \"method\": \"minmax\",\\n  \"direction\": -1,\\n  \"lookback\": 30,\\n  \"neighborhood\": 0,\\n  \"atr_coef\": 0\\n}', 'name': 'calculate_sl'}}, response_metadata={'finish_reason': 'function_call'}, name='Trading', id='run-a2e1b172-3455-4d56-893c-1090eeb07bc4-0', tool_calls=[], invalid_tool_calls=[])], 'sender': 'Trading'}}\n",
            "----\n",
            "{'Trading': {'messages': [HumanMessage(content='', additional_kwargs={'function_call': {'arguments': '{\\n  \"symbol\": \"NQ\",\\n  \"method\": \"minmax\",\\n  \"direction\": -1,\\n  \"lookback\": 30,\\n  \"neighborhood\": 0,\\n  \"atr_coef\": 0\\n}', 'name': 'calculate_sl'}}, response_metadata={'finish_reason': 'function_call'}, name='Trading', id='run-41614970-e1fc-40d9-adf3-12c054024d2a-0', tool_calls=[], invalid_tool_calls=[])], 'sender': 'Trading'}}\n",
            "----\n",
            "Error reading data from InfluxDB: Invalid value for `api_client`, must be defined.\n",
            " Query is from(bucket:\"bronze\") \n",
            "                |> range(start: time(v:2024-05-10T03:28:46Z), stop: time(v: 2024-05-14T03:28:46Z))\n",
            "                |> filter(fn: (r) => r[\"_measurement\"] == \"NQ\" and                    r[\"timeframe\"] == \"1min\" and                    r[\"liq_threshold\"] == \"-1\")\n",
            "                |> pivot(rowKey:[\"_time\"], columnKey:[\"_field\"], valueColumn:\"_value\")\n",
            "                \n",
            "There is no data for this period of time...\n",
            "{'call_tool': {'messages': [FunctionMessage(content='calculate_sl response: {}', name='calculate_sl')]}}\n",
            "----\n",
            "{'Trading': {'messages': [HumanMessage(content='', additional_kwargs={'function_call': {'arguments': '{\\n  \"symbol\": \"NQ\",\\n  \"method\": \"minmax\",\\n  \"direction\": -1,\\n  \"lookback\": 30,\\n  \"neighborhood\": 0,\\n  \"atr_coef\": 0\\n}', 'name': 'calculate_sl'}}, response_metadata={'finish_reason': 'function_call'}, name='Trading', id='run-68fc8530-d532-4a16-a243-6e22aef2702a-0', tool_calls=[], invalid_tool_calls=[])], 'sender': 'Trading'}}\n",
            "----\n",
            "{'Trading': {'messages': [HumanMessage(content='', additional_kwargs={'function_call': {'arguments': '{\\n  \"symbol\": \"NQ\",\\n  \"method\": \"minmax\",\\n  \"direction\": -1,\\n  \"lookback\": 30,\\n  \"neighborhood\": 0,\\n  \"atr_coef\": 0\\n}', 'name': 'calculate_sl'}}, response_metadata={'finish_reason': 'function_call'}, name='Trading', id='run-bdb5fd9b-aacf-4d5c-8501-28cb7c6f9789-0', tool_calls=[], invalid_tool_calls=[])], 'sender': 'Trading'}}\n",
            "----\n",
            "Error reading data from InfluxDB: Invalid value for `api_client`, must be defined.\n",
            " Query is from(bucket:\"bronze\") \n",
            "                |> range(start: time(v:2024-05-10T03:28:47Z), stop: time(v: 2024-05-14T03:28:47Z))\n",
            "                |> filter(fn: (r) => r[\"_measurement\"] == \"NQ\" and                    r[\"timeframe\"] == \"1min\" and                    r[\"liq_threshold\"] == \"-1\")\n",
            "                |> pivot(rowKey:[\"_time\"], columnKey:[\"_field\"], valueColumn:\"_value\")\n",
            "                \n",
            "There is no data for this period of time...\n",
            "{'call_tool': {'messages': [FunctionMessage(content='calculate_sl response: {}', name='calculate_sl')]}}\n",
            "----\n",
            "{'Trading': {'messages': [HumanMessage(content='I apologize, but it seems that I am unable to calculate the stop loss for trading based on NQ and short positions with the minmax method by looking back up to 30 candles. Is there anything else I can assist you with?', response_metadata={'finish_reason': 'stop'}, name='Trading', id='run-d0e9a7a1-cced-473e-9f1d-f4f14eebbaf2-0', tool_calls=[], invalid_tool_calls=[])], 'sender': 'Trading'}}\n",
            "----\n"
          ]
        }
      ]
    },
    {
      "cell_type": "code",
      "source": [
        "for s in graph.stream(\n",
        "    {\n",
        "        \"messages\": [\n",
        "            HumanMessage(\n",
        "                content=\"How much would be the stop loss for trading based on NQ and short positions with minmax method?\"\n",
        "            )\n",
        "        ],\n",
        "    },\n",
        "    # Maximum number of steps to take in the graph\n",
        "    {\"recursion_limit\": 150},\n",
        "):\n",
        "    print(s)\n",
        "    print(\"----\")"
      ],
      "metadata": {
        "colab": {
          "base_uri": "https://localhost:8080/"
        },
        "id": "kxNd6dJ8c5A_",
        "outputId": "b282d237-9e0a-4477-da50-977bc252fed2"
      },
      "execution_count": null,
      "outputs": [
        {
          "output_type": "stream",
          "name": "stdout",
          "text": [
            "{'Handler': {'messages': [FunctionMessage(content='', name='HandleIrrelevant', HandleIrrelevant_response='False')]}}\n",
            "----\n",
            "{'Trading': {'messages': [HumanMessage(content='', additional_kwargs={'function_call': {'arguments': '{\\n  \"symbol\": \"NQ\",\\n  \"method\": \"minmax\",\\n  \"direction\": -1,\\n  \"lookback\": 100,\\n  \"neighborhood\": 0,\\n  \"atr_coef\": 0\\n}', 'name': 'calculate_sl'}}, response_metadata={'finish_reason': 'function_call'}, name='Trading', id='run-2565fda9-abbe-465b-a231-3043d598230c-0', tool_calls=[], invalid_tool_calls=[])], 'sender': 'Trading'}}\n",
            "----\n",
            "{'Trading': {'messages': [HumanMessage(content='', additional_kwargs={'function_call': {'arguments': '{\\n  \"symbol\": \"NQ\",\\n  \"method\": \"minmax\",\\n  \"direction\": -1,\\n  \"lookback\": 100,\\n  \"neighborhood\": 0,\\n  \"atr_coef\": 0\\n}', 'name': 'calculate_sl'}}, response_metadata={'finish_reason': 'function_call'}, name='Trading', id='run-b3aae34e-746d-44e8-aca7-fb8b70763d6d-0', tool_calls=[], invalid_tool_calls=[])], 'sender': 'Trading'}}\n",
            "----\n",
            "Error reading data from InfluxDB: Invalid value for `api_client`, must be defined.\n",
            " Query is from(bucket:\"bronze\") \n",
            "                |> range(start: time(v:2024-05-10T03:28:17Z), stop: time(v: 2024-05-14T03:28:17Z))\n",
            "                |> filter(fn: (r) => r[\"_measurement\"] == \"NQ\" and                    r[\"timeframe\"] == \"1min\" and                    r[\"liq_threshold\"] == \"-1\")\n",
            "                |> pivot(rowKey:[\"_time\"], columnKey:[\"_field\"], valueColumn:\"_value\")\n",
            "                \n",
            "There is no data for this period of time...\n",
            "{'call_tool': {'messages': [FunctionMessage(content='calculate_sl response: {}', name='calculate_sl')]}}\n",
            "----\n",
            "{'Trading': {'messages': [HumanMessage(content='To calculate the stop loss for trading based on NQ and short positions using the minmax method, I need more information such as the symbol, direction, lookback, and neighborhood parameters. Could you please provide those details?', response_metadata={'finish_reason': 'stop'}, name='Trading', id='run-22f17f0c-9af9-4140-b42a-839f95786b78-0', tool_calls=[], invalid_tool_calls=[])], 'sender': 'Trading'}}\n",
            "----\n"
          ]
        }
      ]
    },
    {
      "cell_type": "code",
      "source": [
        "for s in graph.stream(\n",
        "    {\n",
        "        \"messages\": [\n",
        "            HumanMessage(\n",
        "                content=\"How much would be the stop loss for trading based on NQ and short positions?\"\n",
        "            )\n",
        "        ],\n",
        "    },\n",
        "    # Maximum number of steps to take in the graph\n",
        "    {\"recursion_limit\": 150},\n",
        "):\n",
        "    print(s)\n",
        "    print(\"----\")"
      ],
      "metadata": {
        "colab": {
          "base_uri": "https://localhost:8080/"
        },
        "id": "wWhowWdSc0yf",
        "outputId": "12f8434b-7418-4cbd-c9dd-ae3717457e19"
      },
      "execution_count": null,
      "outputs": [
        {
          "output_type": "stream",
          "name": "stdout",
          "text": [
            "{'Handler': {'messages': [FunctionMessage(content='', name='HandleIrrelevant', HandleIrrelevant_response='False')]}}\n",
            "----\n",
            "{'Trading': {'messages': [HumanMessage(content='', additional_kwargs={'function_call': {'arguments': '{\\n  \"symbol\": \"NQ\",\\n  \"method\": \"level\",\\n  \"direction\": -1,\\n  \"lookback\": 100,\\n  \"neighborhood\": 3,\\n  \"atr_coef\": 2\\n}', 'name': 'calculate_sl'}}, response_metadata={'finish_reason': 'function_call'}, name='Trading', id='run-d5652149-9ee3-4ea5-8bd3-d132588b74c6-0', tool_calls=[], invalid_tool_calls=[])], 'sender': 'Trading'}}\n",
            "----\n",
            "{'Trading': {'messages': [HumanMessage(content='', additional_kwargs={'function_call': {'arguments': '{\\n  \"symbol\": \"NQ\",\\n  \"method\": \"level\",\\n  \"direction\": -1,\\n  \"lookback\": 100,\\n  \"neighborhood\": 0,\\n  \"atr_coef\": 0\\n}', 'name': 'calculate_sl'}}, response_metadata={'finish_reason': 'function_call'}, name='Trading', id='run-32028a75-957c-46c6-a886-0d8e62d395a1-0', tool_calls=[], invalid_tool_calls=[])], 'sender': 'Trading'}}\n",
            "----\n",
            "Error reading data from InfluxDB: Invalid value for `api_client`, must be defined.\n",
            " Query is from(bucket:\"bronze\") \n",
            "                |> range(start: time(v:2024-05-10T03:27:58Z), stop: time(v: 2024-05-14T03:27:58Z))\n",
            "                |> filter(fn: (r) => r[\"_measurement\"] == \"NQ\" and                    r[\"timeframe\"] == \"1min\" and                    r[\"liq_threshold\"] == \"-1\")\n",
            "                |> pivot(rowKey:[\"_time\"], columnKey:[\"_field\"], valueColumn:\"_value\")\n",
            "                \n",
            "There is no data for this period of time...\n",
            "{'call_tool': {'messages': [FunctionMessage(content='calculate_sl response: {}', name='calculate_sl')]}}\n",
            "----\n",
            "{'Trading': {'messages': [HumanMessage(content='To calculate the stop loss for trading based on NQ and short positions, I need more information such as the method of stop loss calculation, the direction (-1 for short positions), and any additional parameters required by the chosen method. Can you please provide these details?', response_metadata={'finish_reason': 'stop'}, name='Trading', id='run-3e780fa4-b5c0-43a3-a1ea-a0c64b4fed6c-0', tool_calls=[], invalid_tool_calls=[])], 'sender': 'Trading'}}\n",
            "----\n"
          ]
        }
      ]
    },
    {
      "cell_type": "code",
      "source": [
        "for s in graph.stream(\n",
        "    {\n",
        "        \"messages\": [\n",
        "            HumanMessage(\n",
        "                content=\"How much would be the stop loss for trading?\"\n",
        "            )\n",
        "        ],\n",
        "    },\n",
        "    # Maximum number of steps to take in the graph\n",
        "    {\"recursion_limit\": 150},\n",
        "):\n",
        "    print(s)\n",
        "    print(\"----\")"
      ],
      "metadata": {
        "colab": {
          "base_uri": "https://localhost:8080/"
        },
        "id": "qr1QfrjLculw",
        "outputId": "f9988f5f-45ea-4a81-f2b6-d8624c6ba3db"
      },
      "execution_count": null,
      "outputs": [
        {
          "output_type": "stream",
          "name": "stdout",
          "text": [
            "{'Handler': {'messages': [FunctionMessage(content='', name='HandleIrrelevant', HandleIrrelevant_response='False')]}}\n",
            "----\n",
            "{'Trading': {'messages': [HumanMessage(content='To calculate the stop loss for trading, I need more information. Please provide the following details:\\n\\n1. Ticker symbol of the financial instrument you want to trade.\\n2. Direction of the trade (short or long).\\n3. Value for the stop loss.\\n\\nOnce I have these details, I can calculate the stop loss for you.', response_metadata={'finish_reason': 'stop'}, name='Trading', id='run-ffaa374d-be9a-42ad-bdb1-4a43ce74c0c1-0', tool_calls=[], invalid_tool_calls=[])], 'sender': 'Trading'}}\n",
            "----\n"
          ]
        }
      ]
    },
    {
      "cell_type": "code",
      "source": [
        "for s in graph.stream(\n",
        "    {\n",
        "        \"messages\": [\n",
        "            HumanMessage(\n",
        "                content=\"How much would be the stop loss for trading?\"\n",
        "            )\n",
        "        ],\n",
        "    },\n",
        "    # Maximum number of steps to take in the graph\n",
        "    {\"recursion_limit\": 150},\n",
        "):\n",
        "    print(s)\n",
        "    print(\"----\")"
      ],
      "metadata": {
        "colab": {
          "base_uri": "https://localhost:8080/"
        },
        "id": "NRXATFZkcnoy",
        "outputId": "00aa60cc-ab35-4511-c4b4-8b3dea3c9d5f"
      },
      "execution_count": null,
      "outputs": [
        {
          "output_type": "stream",
          "name": "stdout",
          "text": [
            "{'Handler': {'messages': [FunctionMessage(content='', name='HandleIrrelevant', HandleIrrelevant_response='False')]}}\n",
            "----\n",
            "{'Trading': {'messages': [HumanMessage(content='To calculate the stop loss for trading, I need more information. Please provide the following details:\\n\\n1. Ticker symbol of the financial instrument you want to trade.\\n2. Direction of the trade (short or long).\\n3. Value for the stop loss.\\n\\nOnce I have these details, I can calculate the stop loss for your trade.', response_metadata={'finish_reason': 'stop'}, name='Trading', id='run-0f3dbea4-a4d9-4e51-b913-6a58ac174ae0-0', tool_calls=[], invalid_tool_calls=[])], 'sender': 'Trading'}}\n",
            "----\n"
          ]
        }
      ]
    },
    {
      "cell_type": "markdown",
      "source": [
        "###Calculate Take-Profit:"
      ],
      "metadata": {
        "id": "XAnRpTpZccZP"
      }
    },
    {
      "cell_type": "code",
      "source": [
        "for s in graph.stream(\n",
        "    {\n",
        "        \"messages\": [\n",
        "            HumanMessage(\n",
        "                content=\"How much would be the take-profit of the NQ with the stop loss of 10 and direction of 1?\"\n",
        "            )\n",
        "        ],\n",
        "    },\n",
        "    # Maximum number of steps to take in the graph\n",
        "    {\"recursion_limit\": 150},\n",
        "):\n",
        "    print(s)\n",
        "    print(\"----\")"
      ],
      "metadata": {
        "colab": {
          "base_uri": "https://localhost:8080/"
        },
        "id": "0KqRohSidwKc",
        "outputId": "c5253861-f718-4d5f-ca7f-737a9f3ffb8c"
      },
      "execution_count": null,
      "outputs": [
        {
          "output_type": "stream",
          "name": "stdout",
          "text": [
            "{'Handler': {'messages': [FunctionMessage(content='', name='HandleIrrelevant', HandleIrrelevant_response='False')]}}\n",
            "----\n",
            "{'Trading': {'messages': [HumanMessage(content='', additional_kwargs={'function_call': {'arguments': '{\\n  \"symbol\": \"NQ\",\\n  \"direction\": 1,\\n  \"stoploss\": 10\\n}', 'name': 'CalculateTp'}}, response_metadata={'finish_reason': 'function_call'}, name='Trading', id='run-f1050d52-5779-4190-b884-1ae8f6672950-0', tool_calls=[], invalid_tool_calls=[])], 'sender': 'Trading'}}\n",
            "----\n",
            "{'Trading': {'messages': [HumanMessage(content='', additional_kwargs={'function_call': {'arguments': '{\\n  \"symbol\": \"NQ\",\\n  \"direction\": 1,\\n  \"stoploss\": 10\\n}', 'name': 'CalculateTp'}}, response_metadata={'finish_reason': 'function_call'}, name='Trading', id='run-e226dfd1-a954-417a-a75f-43d3e181cac7-0', tool_calls=[], invalid_tool_calls=[])], 'sender': 'Trading'}}\n",
            "----\n",
            "{'symbol': 'NQ', 'direction': 1, 'stoploss': 10}\n",
            "Error reading data from InfluxDB: Invalid value for `api_client`, must be defined.\n",
            " Query is from(bucket:\"bronze\") \n",
            "                |> range(start: time(v:2024-05-10T03:32:08Z), stop: time(v: 2024-05-14T03:32:08Z))\n",
            "                |> filter(fn: (r) => r[\"_measurement\"] == \"NQ\" and                    r[\"timeframe\"] == \"1min\" and                    r[\"liq_threshold\"] == \"-1\")\n",
            "                |> pivot(rowKey:[\"_time\"], columnKey:[\"_field\"], valueColumn:\"_value\")\n",
            "                \n",
            "There is no data for this period of time...\n",
            "{'call_tool': {'messages': [FunctionMessage(content='CalculateTp response: {}', name='CalculateTp')]}}\n",
            "----\n",
            "{'Trading': {'messages': [HumanMessage(content='', additional_kwargs={'function_call': {'arguments': '{\\n  \"symbol\": \"NQ\",\\n  \"direction\": 1,\\n  \"stoploss\": 10\\n}', 'name': 'CalculateTp'}}, response_metadata={'finish_reason': 'function_call'}, name='Trading', id='run-56f7249a-167f-4d38-9dc0-a6f45a6ebc0c-0', tool_calls=[], invalid_tool_calls=[])], 'sender': 'Trading'}}\n",
            "----\n",
            "{'Trading': {'messages': [HumanMessage(content='', additional_kwargs={'function_call': {'arguments': '{\\n  \"symbol\": \"NQ\",\\n  \"direction\": 1,\\n  \"stoploss\": 10\\n}', 'name': 'CalculateTp'}}, response_metadata={'finish_reason': 'function_call'}, name='Trading', id='run-fa8b0165-4685-4e17-a728-a94dee70b1a6-0', tool_calls=[], invalid_tool_calls=[])], 'sender': 'Trading'}}\n",
            "----\n",
            "{'symbol': 'NQ', 'direction': 1, 'stoploss': 10}\n",
            "Error reading data from InfluxDB: Invalid value for `api_client`, must be defined.\n",
            " Query is from(bucket:\"bronze\") \n",
            "                |> range(start: time(v:2024-05-10T03:32:09Z), stop: time(v: 2024-05-14T03:32:09Z))\n",
            "                |> filter(fn: (r) => r[\"_measurement\"] == \"NQ\" and                    r[\"timeframe\"] == \"1min\" and                    r[\"liq_threshold\"] == \"-1\")\n",
            "                |> pivot(rowKey:[\"_time\"], columnKey:[\"_field\"], valueColumn:\"_value\")\n",
            "                \n",
            "There is no data for this period of time...\n",
            "{'call_tool': {'messages': [FunctionMessage(content='CalculateTp response: {}', name='CalculateTp')]}}\n",
            "----\n",
            "{'Trading': {'messages': [HumanMessage(content='I apologize, but it seems that I am unable to calculate the take-profit for the NQ with the given parameters. Could you please provide me with more information or clarify your request?', response_metadata={'finish_reason': 'stop'}, name='Trading', id='run-f1a4ec70-d08b-454b-9844-8948ef86fbc9-0', tool_calls=[], invalid_tool_calls=[])], 'sender': 'Trading'}}\n",
            "----\n"
          ]
        }
      ]
    },
    {
      "cell_type": "code",
      "source": [
        "for s in graph.stream(\n",
        "    {\n",
        "        \"messages\": [\n",
        "            HumanMessage(\n",
        "                content=\"How much would be the take-profit of the NQ with the stop loss of 10?\"\n",
        "            )\n",
        "        ],\n",
        "    },\n",
        "    # Maximum number of steps to take in the graph\n",
        "    {\"recursion_limit\": 150},\n",
        "):\n",
        "    print(s)\n",
        "    print(\"----\")"
      ],
      "metadata": {
        "colab": {
          "base_uri": "https://localhost:8080/"
        },
        "id": "uU1xCzaBdoUO",
        "outputId": "22c73262-04b3-41a3-a8ad-ee160dcd5136"
      },
      "execution_count": null,
      "outputs": [
        {
          "output_type": "stream",
          "name": "stdout",
          "text": [
            "{'Handler': {'messages': [FunctionMessage(content='', name='HandleIrrelevant', HandleIrrelevant_response='False')]}}\n",
            "----\n",
            "{'Trading': {'messages': [HumanMessage(content='', additional_kwargs={'function_call': {'arguments': '{\\n  \"symbol\": \"NQ\",\\n  \"direction\": 1,\\n  \"stoploss\": 10\\n}', 'name': 'CalculateTp'}}, response_metadata={'finish_reason': 'function_call'}, name='Trading', id='run-425a053b-a45c-4fbd-8dce-2eb12339b82c-0', tool_calls=[], invalid_tool_calls=[])], 'sender': 'Trading'}}\n",
            "----\n",
            "{'Trading': {'messages': [HumanMessage(content='', additional_kwargs={'function_call': {'arguments': '{\\n  \"symbol\": \"NQ\",\\n  \"direction\": 1,\\n  \"stoploss\": 10\\n}', 'name': 'CalculateTp'}}, response_metadata={'finish_reason': 'function_call'}, name='Trading', id='run-2c6d7580-da2a-48d1-86ed-79b507b65f8e-0', tool_calls=[], invalid_tool_calls=[])], 'sender': 'Trading'}}\n",
            "----\n",
            "{'symbol': 'NQ', 'direction': 1, 'stoploss': 10}\n",
            "Error reading data from InfluxDB: Invalid value for `api_client`, must be defined.\n",
            " Query is from(bucket:\"bronze\") \n",
            "                |> range(start: time(v:2024-05-10T03:31:40Z), stop: time(v: 2024-05-14T03:31:40Z))\n",
            "                |> filter(fn: (r) => r[\"_measurement\"] == \"NQ\" and                    r[\"timeframe\"] == \"1min\" and                    r[\"liq_threshold\"] == \"-1\")\n",
            "                |> pivot(rowKey:[\"_time\"], columnKey:[\"_field\"], valueColumn:\"_value\")\n",
            "                \n",
            "There is no data for this period of time...\n",
            "{'call_tool': {'messages': [FunctionMessage(content='CalculateTp response: {}', name='CalculateTp')]}}\n",
            "----\n",
            "{'Trading': {'messages': [HumanMessage(content='', additional_kwargs={'function_call': {'arguments': '{\\n  \"symbol\": \"NQ\",\\n  \"direction\": 1,\\n  \"stoploss\": 10\\n}', 'name': 'CalculateTp'}}, response_metadata={'finish_reason': 'function_call'}, name='Trading', id='run-d266a8e8-e217-4f4a-9bb6-b3e754717cba-0', tool_calls=[], invalid_tool_calls=[])], 'sender': 'Trading'}}\n",
            "----\n",
            "{'Trading': {'messages': [HumanMessage(content='I apologize, but it seems that I am unable to calculate the take-profit for the NQ with a stop loss of 10 at the moment. Is there anything else I can assist you with?', response_metadata={'finish_reason': 'stop'}, name='Trading', id='run-075608b2-90b5-4a00-a622-c9180df27953-0', tool_calls=[], invalid_tool_calls=[])], 'sender': 'Trading'}}\n",
            "----\n"
          ]
        }
      ]
    },
    {
      "cell_type": "code",
      "source": [
        "for s in graph.stream(\n",
        "    {\n",
        "        \"messages\": [\n",
        "            HumanMessage(\n",
        "                content=\"How much would be the take-profit of the NQ with direction of 1?\"\n",
        "            )\n",
        "        ],\n",
        "    },\n",
        "    # Maximum number of steps to take in the graph\n",
        "    {\"recursion_limit\": 150},\n",
        "):\n",
        "    print(s)\n",
        "    print(\"----\")"
      ],
      "metadata": {
        "colab": {
          "base_uri": "https://localhost:8080/"
        },
        "id": "iIysBmDQdj9Y",
        "outputId": "781f7e82-7476-46f3-85fb-230c6ade576f"
      },
      "execution_count": null,
      "outputs": [
        {
          "output_type": "stream",
          "name": "stdout",
          "text": [
            "{'Handler': {'messages': [FunctionMessage(content='', name='HandleIrrelevant', HandleIrrelevant_response='False')]}}\n",
            "----\n",
            "{'Trading': {'messages': [HumanMessage(content='', additional_kwargs={'function_call': {'arguments': '{\\n  \"symbol\": \"NQ\",\\n  \"direction\": 1,\\n  \"stoploss\": 100\\n}', 'name': 'CalculateTp'}}, response_metadata={'finish_reason': 'function_call'}, name='Trading', id='run-98c801ae-0a96-4913-a766-9cb3eefc6353-0', tool_calls=[], invalid_tool_calls=[])], 'sender': 'Trading'}}\n",
            "----\n",
            "{'Trading': {'messages': [HumanMessage(content='', additional_kwargs={'function_call': {'arguments': '{\\n  \"symbol\": \"NQ\",\\n  \"direction\": 1,\\n  \"stoploss\": 100\\n}', 'name': 'CalculateTp'}}, response_metadata={'finish_reason': 'function_call'}, name='Trading', id='run-7a3004d6-c2d6-4ea9-8e6d-3c70e10cc851-0', tool_calls=[], invalid_tool_calls=[])], 'sender': 'Trading'}}\n",
            "----\n",
            "{'symbol': 'NQ', 'direction': 1, 'stoploss': 100}\n",
            "Error reading data from InfluxDB: Invalid value for `api_client`, must be defined.\n",
            " Query is from(bucket:\"bronze\") \n",
            "                |> range(start: time(v:2024-05-10T03:31:12Z), stop: time(v: 2024-05-14T03:31:12Z))\n",
            "                |> filter(fn: (r) => r[\"_measurement\"] == \"NQ\" and                    r[\"timeframe\"] == \"1min\" and                    r[\"liq_threshold\"] == \"-1\")\n",
            "                |> pivot(rowKey:[\"_time\"], columnKey:[\"_field\"], valueColumn:\"_value\")\n",
            "                \n",
            "There is no data for this period of time...\n",
            "{'call_tool': {'messages': [FunctionMessage(content='CalculateTp response: {}', name='CalculateTp')]}}\n",
            "----\n",
            "{'Trading': {'messages': [HumanMessage(content='I apologize, but I am unable to calculate the take-profit for the NQ with a direction of 1 at the moment. Is there anything else I can assist you with?', response_metadata={'finish_reason': 'stop'}, name='Trading', id='run-e5045c46-2204-4af7-8436-48e9ebe531d1-0', tool_calls=[], invalid_tool_calls=[])], 'sender': 'Trading'}}\n",
            "----\n"
          ]
        }
      ]
    },
    {
      "cell_type": "code",
      "source": [
        "for s in graph.stream(\n",
        "    {\n",
        "        \"messages\": [\n",
        "            HumanMessage(\n",
        "                content=\"How much would be the take-profit with the stop loss of 10 and direction of 1?\"\n",
        "            )\n",
        "        ],\n",
        "    },\n",
        "    # Maximum number of steps to take in the graph\n",
        "    {\"recursion_limit\": 150},\n",
        "):\n",
        "    print(s)\n",
        "    print(\"----\")"
      ],
      "metadata": {
        "colab": {
          "base_uri": "https://localhost:8080/",
          "height": 497
        },
        "id": "VXQOIQEQdb0q",
        "outputId": "34774db9-68e3-4d31-805e-e78874ce2c5f"
      },
      "execution_count": null,
      "outputs": [
        {
          "output_type": "stream",
          "name": "stdout",
          "text": [
            "{'Handler': {'messages': [FunctionMessage(content='', name='HandleIrrelevant', HandleIrrelevant_response='False')]}}\n",
            "----\n",
            "{'Trading': {'messages': [HumanMessage(content='', additional_kwargs={'function_call': {'arguments': '{\\n  \"symbol\": \"\",\\n  \"direction\": 1,\\n  \"stoploss\": 10\\n}', 'name': 'CalculateTp'}}, response_metadata={'finish_reason': 'function_call'}, name='Trading', id='run-97b5e5ae-1724-4bb8-94d3-cf322eedef45-0', tool_calls=[], invalid_tool_calls=[])], 'sender': 'Trading'}}\n",
            "----\n",
            "{'Trading': {'messages': [HumanMessage(content='', additional_kwargs={'function_call': {'arguments': '{\\n  \"symbol\": \"Trading\",\\n  \"direction\": 1,\\n  \"stoploss\": 10\\n}', 'name': 'CalculateTp'}}, response_metadata={'finish_reason': 'function_call'}, name='Trading', id='run-ecd65646-e585-4818-9b10-1f333f2514e9-0', tool_calls=[], invalid_tool_calls=[])], 'sender': 'Trading'}}\n",
            "----\n",
            "{'symbol': 'Trading', 'direction': 1, 'stoploss': 10}\n"
          ]
        },
        {
          "output_type": "error",
          "ename": "KeyError",
          "evalue": "'Trading'",
          "traceback": [
            "\u001b[0;31m---------------------------------------------------------------------------\u001b[0m",
            "\u001b[0;31mKeyError\u001b[0m                                  Traceback (most recent call last)",
            "\u001b[0;32m<ipython-input-126-a95692c90658>\u001b[0m in \u001b[0;36m<cell line: 1>\u001b[0;34m()\u001b[0m\n\u001b[0;32m----> 1\u001b[0;31m for s in graph.stream(\n\u001b[0m\u001b[1;32m      2\u001b[0m     {\n\u001b[1;32m      3\u001b[0m         \"messages\": [\n\u001b[1;32m      4\u001b[0m             HumanMessage(\n\u001b[1;32m      5\u001b[0m                 \u001b[0mcontent\u001b[0m\u001b[0;34m=\u001b[0m\u001b[0;34m\"How much would be the take-profit with the stop loss of 10 and direction of 1?\"\u001b[0m\u001b[0;34m\u001b[0m\u001b[0;34m\u001b[0m\u001b[0m\n",
            "\u001b[0;32m/usr/local/lib/python3.10/dist-packages/langgraph/pregel/__init__.py\u001b[0m in \u001b[0;36mstream\u001b[0;34m(self, input, config, stream_mode, output_keys, input_keys, interrupt_before, interrupt_after, debug)\u001b[0m\n\u001b[1;32m    769\u001b[0m \u001b[0;34m\u001b[0m\u001b[0m\n\u001b[1;32m    770\u001b[0m                     \u001b[0;31m# panic on failure or timeout\u001b[0m\u001b[0;34m\u001b[0m\u001b[0;34m\u001b[0m\u001b[0m\n\u001b[0;32m--> 771\u001b[0;31m                     \u001b[0m_panic_or_proceed\u001b[0m\u001b[0;34m(\u001b[0m\u001b[0mdone\u001b[0m\u001b[0;34m,\u001b[0m \u001b[0minflight\u001b[0m\u001b[0;34m,\u001b[0m \u001b[0mstep\u001b[0m\u001b[0;34m)\u001b[0m\u001b[0;34m\u001b[0m\u001b[0;34m\u001b[0m\u001b[0m\n\u001b[0m\u001b[1;32m    772\u001b[0m \u001b[0;34m\u001b[0m\u001b[0m\n\u001b[1;32m    773\u001b[0m                     \u001b[0;31m# combine pending writes from all tasks\u001b[0m\u001b[0;34m\u001b[0m\u001b[0;34m\u001b[0m\u001b[0m\n",
            "\u001b[0;32m/usr/local/lib/python3.10/dist-packages/langgraph/pregel/__init__.py\u001b[0m in \u001b[0;36m_panic_or_proceed\u001b[0;34m(done, inflight, step)\u001b[0m\n\u001b[1;32m   1261\u001b[0m                 \u001b[0minflight\u001b[0m\u001b[0;34m.\u001b[0m\u001b[0mpop\u001b[0m\u001b[0;34m(\u001b[0m\u001b[0;34m)\u001b[0m\u001b[0;34m.\u001b[0m\u001b[0mcancel\u001b[0m\u001b[0;34m(\u001b[0m\u001b[0;34m)\u001b[0m\u001b[0;34m\u001b[0m\u001b[0;34m\u001b[0m\u001b[0m\n\u001b[1;32m   1262\u001b[0m             \u001b[0;31m# raise the exception\u001b[0m\u001b[0;34m\u001b[0m\u001b[0;34m\u001b[0m\u001b[0m\n\u001b[0;32m-> 1263\u001b[0;31m             \u001b[0;32mraise\u001b[0m \u001b[0mexc\u001b[0m\u001b[0;34m\u001b[0m\u001b[0;34m\u001b[0m\u001b[0m\n\u001b[0m\u001b[1;32m   1264\u001b[0m             \u001b[0;31m# TODO this is where retry of an entire step would happen\u001b[0m\u001b[0;34m\u001b[0m\u001b[0;34m\u001b[0m\u001b[0m\n\u001b[1;32m   1265\u001b[0m \u001b[0;34m\u001b[0m\u001b[0m\n",
            "\u001b[0;32m/usr/lib/python3.10/concurrent/futures/thread.py\u001b[0m in \u001b[0;36mrun\u001b[0;34m(self)\u001b[0m\n\u001b[1;32m     56\u001b[0m \u001b[0;34m\u001b[0m\u001b[0m\n\u001b[1;32m     57\u001b[0m         \u001b[0;32mtry\u001b[0m\u001b[0;34m:\u001b[0m\u001b[0;34m\u001b[0m\u001b[0;34m\u001b[0m\u001b[0m\n\u001b[0;32m---> 58\u001b[0;31m             \u001b[0mresult\u001b[0m \u001b[0;34m=\u001b[0m \u001b[0mself\u001b[0m\u001b[0;34m.\u001b[0m\u001b[0mfn\u001b[0m\u001b[0;34m(\u001b[0m\u001b[0;34m*\u001b[0m\u001b[0mself\u001b[0m\u001b[0;34m.\u001b[0m\u001b[0margs\u001b[0m\u001b[0;34m,\u001b[0m \u001b[0;34m**\u001b[0m\u001b[0mself\u001b[0m\u001b[0;34m.\u001b[0m\u001b[0mkwargs\u001b[0m\u001b[0;34m)\u001b[0m\u001b[0;34m\u001b[0m\u001b[0;34m\u001b[0m\u001b[0m\n\u001b[0m\u001b[1;32m     59\u001b[0m         \u001b[0;32mexcept\u001b[0m \u001b[0mBaseException\u001b[0m \u001b[0;32mas\u001b[0m \u001b[0mexc\u001b[0m\u001b[0;34m:\u001b[0m\u001b[0;34m\u001b[0m\u001b[0;34m\u001b[0m\u001b[0m\n\u001b[1;32m     60\u001b[0m             \u001b[0mself\u001b[0m\u001b[0;34m.\u001b[0m\u001b[0mfuture\u001b[0m\u001b[0;34m.\u001b[0m\u001b[0mset_exception\u001b[0m\u001b[0;34m(\u001b[0m\u001b[0mexc\u001b[0m\u001b[0;34m)\u001b[0m\u001b[0;34m\u001b[0m\u001b[0;34m\u001b[0m\u001b[0m\n",
            "\u001b[0;32m/usr/local/lib/python3.10/dist-packages/langchain_core/runnables/base.py\u001b[0m in \u001b[0;36minvoke\u001b[0;34m(self, input, config)\u001b[0m\n\u001b[1;32m   2497\u001b[0m         \u001b[0;32mtry\u001b[0m\u001b[0;34m:\u001b[0m\u001b[0;34m\u001b[0m\u001b[0;34m\u001b[0m\u001b[0m\n\u001b[1;32m   2498\u001b[0m             \u001b[0;32mfor\u001b[0m \u001b[0mi\u001b[0m\u001b[0;34m,\u001b[0m \u001b[0mstep\u001b[0m \u001b[0;32min\u001b[0m \u001b[0menumerate\u001b[0m\u001b[0;34m(\u001b[0m\u001b[0mself\u001b[0m\u001b[0;34m.\u001b[0m\u001b[0msteps\u001b[0m\u001b[0;34m)\u001b[0m\u001b[0;34m:\u001b[0m\u001b[0;34m\u001b[0m\u001b[0;34m\u001b[0m\u001b[0m\n\u001b[0;32m-> 2499\u001b[0;31m                 input = step.invoke(\n\u001b[0m\u001b[1;32m   2500\u001b[0m                     \u001b[0minput\u001b[0m\u001b[0;34m,\u001b[0m\u001b[0;34m\u001b[0m\u001b[0;34m\u001b[0m\u001b[0m\n\u001b[1;32m   2501\u001b[0m                     \u001b[0;31m# mark each step as a child run\u001b[0m\u001b[0;34m\u001b[0m\u001b[0;34m\u001b[0m\u001b[0m\n",
            "\u001b[0;32m/usr/local/lib/python3.10/dist-packages/langgraph/utils.py\u001b[0m in \u001b[0;36minvoke\u001b[0;34m(self, input, config)\u001b[0m\n\u001b[1;32m     86\u001b[0m                 \u001b[0;32melse\u001b[0m \u001b[0mself\u001b[0m\u001b[0;34m.\u001b[0m\u001b[0mkwargs\u001b[0m\u001b[0;34m\u001b[0m\u001b[0;34m\u001b[0m\u001b[0m\n\u001b[1;32m     87\u001b[0m             )\n\u001b[0;32m---> 88\u001b[0;31m             \u001b[0mret\u001b[0m \u001b[0;34m=\u001b[0m \u001b[0mcontext\u001b[0m\u001b[0;34m.\u001b[0m\u001b[0mrun\u001b[0m\u001b[0;34m(\u001b[0m\u001b[0mself\u001b[0m\u001b[0;34m.\u001b[0m\u001b[0mfunc\u001b[0m\u001b[0;34m,\u001b[0m \u001b[0minput\u001b[0m\u001b[0;34m,\u001b[0m \u001b[0;34m**\u001b[0m\u001b[0mkwargs\u001b[0m\u001b[0;34m)\u001b[0m\u001b[0;34m\u001b[0m\u001b[0;34m\u001b[0m\u001b[0m\n\u001b[0m\u001b[1;32m     89\u001b[0m         \u001b[0;32mif\u001b[0m \u001b[0misinstance\u001b[0m\u001b[0;34m(\u001b[0m\u001b[0mret\u001b[0m\u001b[0;34m,\u001b[0m \u001b[0mRunnable\u001b[0m\u001b[0;34m)\u001b[0m \u001b[0;32mand\u001b[0m \u001b[0mself\u001b[0m\u001b[0;34m.\u001b[0m\u001b[0mrecurse\u001b[0m\u001b[0;34m:\u001b[0m\u001b[0;34m\u001b[0m\u001b[0;34m\u001b[0m\u001b[0m\n\u001b[1;32m     90\u001b[0m             \u001b[0;32mreturn\u001b[0m \u001b[0mret\u001b[0m\u001b[0;34m.\u001b[0m\u001b[0minvoke\u001b[0m\u001b[0;34m(\u001b[0m\u001b[0minput\u001b[0m\u001b[0;34m,\u001b[0m \u001b[0mconfig\u001b[0m\u001b[0;34m)\u001b[0m\u001b[0;34m\u001b[0m\u001b[0;34m\u001b[0m\u001b[0m\n",
            "\u001b[0;32m<ipython-input-106-38e78445e906>\u001b[0m in \u001b[0;36mtool_node\u001b[0;34m(state)\u001b[0m\n\u001b[1;32m     22\u001b[0m   )\n\u001b[1;32m     23\u001b[0m \u001b[0;34m\u001b[0m\u001b[0m\n\u001b[0;32m---> 24\u001b[0;31m   \u001b[0mresponse\u001b[0m \u001b[0;34m=\u001b[0m \u001b[0mtool_executor\u001b[0m\u001b[0;34m.\u001b[0m\u001b[0minvoke\u001b[0m\u001b[0;34m(\u001b[0m\u001b[0maction\u001b[0m\u001b[0;34m)\u001b[0m\u001b[0;34m\u001b[0m\u001b[0;34m\u001b[0m\u001b[0m\n\u001b[0m\u001b[1;32m     25\u001b[0m   function_message = FunctionMessage(\n\u001b[1;32m     26\u001b[0m       \u001b[0mcontent\u001b[0m\u001b[0;34m=\u001b[0m\u001b[0;34mf\"{tool_name} response: {str(response)}\"\u001b[0m\u001b[0;34m,\u001b[0m \u001b[0mname\u001b[0m\u001b[0;34m=\u001b[0m\u001b[0maction\u001b[0m\u001b[0;34m.\u001b[0m\u001b[0mtool\u001b[0m\u001b[0;34m\u001b[0m\u001b[0;34m\u001b[0m\u001b[0m\n",
            "\u001b[0;32m/usr/local/lib/python3.10/dist-packages/langgraph/utils.py\u001b[0m in \u001b[0;36minvoke\u001b[0;34m(self, input, config)\u001b[0m\n\u001b[1;32m     86\u001b[0m                 \u001b[0;32melse\u001b[0m \u001b[0mself\u001b[0m\u001b[0;34m.\u001b[0m\u001b[0mkwargs\u001b[0m\u001b[0;34m\u001b[0m\u001b[0;34m\u001b[0m\u001b[0m\n\u001b[1;32m     87\u001b[0m             )\n\u001b[0;32m---> 88\u001b[0;31m             \u001b[0mret\u001b[0m \u001b[0;34m=\u001b[0m \u001b[0mcontext\u001b[0m\u001b[0;34m.\u001b[0m\u001b[0mrun\u001b[0m\u001b[0;34m(\u001b[0m\u001b[0mself\u001b[0m\u001b[0;34m.\u001b[0m\u001b[0mfunc\u001b[0m\u001b[0;34m,\u001b[0m \u001b[0minput\u001b[0m\u001b[0;34m,\u001b[0m \u001b[0;34m**\u001b[0m\u001b[0mkwargs\u001b[0m\u001b[0;34m)\u001b[0m\u001b[0;34m\u001b[0m\u001b[0;34m\u001b[0m\u001b[0m\n\u001b[0m\u001b[1;32m     89\u001b[0m         \u001b[0;32mif\u001b[0m \u001b[0misinstance\u001b[0m\u001b[0;34m(\u001b[0m\u001b[0mret\u001b[0m\u001b[0;34m,\u001b[0m \u001b[0mRunnable\u001b[0m\u001b[0;34m)\u001b[0m \u001b[0;32mand\u001b[0m \u001b[0mself\u001b[0m\u001b[0;34m.\u001b[0m\u001b[0mrecurse\u001b[0m\u001b[0;34m:\u001b[0m\u001b[0;34m\u001b[0m\u001b[0;34m\u001b[0m\u001b[0m\n\u001b[1;32m     90\u001b[0m             \u001b[0;32mreturn\u001b[0m \u001b[0mret\u001b[0m\u001b[0;34m.\u001b[0m\u001b[0minvoke\u001b[0m\u001b[0;34m(\u001b[0m\u001b[0minput\u001b[0m\u001b[0;34m,\u001b[0m \u001b[0mconfig\u001b[0m\u001b[0;34m)\u001b[0m\u001b[0;34m\u001b[0m\u001b[0;34m\u001b[0m\u001b[0m\n",
            "\u001b[0;32m/usr/local/lib/python3.10/dist-packages/langgraph/prebuilt/tool_executor.py\u001b[0m in \u001b[0;36m_execute\u001b[0;34m(self, tool_invocation, config)\u001b[0m\n\u001b[1;32m    100\u001b[0m         \u001b[0;32melse\u001b[0m\u001b[0;34m:\u001b[0m\u001b[0;34m\u001b[0m\u001b[0;34m\u001b[0m\u001b[0m\n\u001b[1;32m    101\u001b[0m             \u001b[0mtool\u001b[0m \u001b[0;34m=\u001b[0m \u001b[0mself\u001b[0m\u001b[0;34m.\u001b[0m\u001b[0mtool_map\u001b[0m\u001b[0;34m[\u001b[0m\u001b[0mtool_invocation\u001b[0m\u001b[0;34m.\u001b[0m\u001b[0mtool\u001b[0m\u001b[0;34m]\u001b[0m\u001b[0;34m\u001b[0m\u001b[0;34m\u001b[0m\u001b[0m\n\u001b[0;32m--> 102\u001b[0;31m             \u001b[0moutput\u001b[0m \u001b[0;34m=\u001b[0m \u001b[0mtool\u001b[0m\u001b[0;34m.\u001b[0m\u001b[0minvoke\u001b[0m\u001b[0;34m(\u001b[0m\u001b[0mtool_invocation\u001b[0m\u001b[0;34m.\u001b[0m\u001b[0mtool_input\u001b[0m\u001b[0;34m,\u001b[0m \u001b[0mconfig\u001b[0m\u001b[0;34m)\u001b[0m\u001b[0;34m\u001b[0m\u001b[0;34m\u001b[0m\u001b[0m\n\u001b[0m\u001b[1;32m    103\u001b[0m             \u001b[0;32mreturn\u001b[0m \u001b[0moutput\u001b[0m\u001b[0;34m\u001b[0m\u001b[0;34m\u001b[0m\u001b[0m\n\u001b[1;32m    104\u001b[0m \u001b[0;34m\u001b[0m\u001b[0m\n",
            "\u001b[0;32m/usr/local/lib/python3.10/dist-packages/langchain_core/tools.py\u001b[0m in \u001b[0;36minvoke\u001b[0;34m(self, input, config, **kwargs)\u001b[0m\n\u001b[1;32m    258\u001b[0m     ) -> Any:\n\u001b[1;32m    259\u001b[0m         \u001b[0mconfig\u001b[0m \u001b[0;34m=\u001b[0m \u001b[0mensure_config\u001b[0m\u001b[0;34m(\u001b[0m\u001b[0mconfig\u001b[0m\u001b[0;34m)\u001b[0m\u001b[0;34m\u001b[0m\u001b[0;34m\u001b[0m\u001b[0m\n\u001b[0;32m--> 260\u001b[0;31m         return self.run(\n\u001b[0m\u001b[1;32m    261\u001b[0m             \u001b[0minput\u001b[0m\u001b[0;34m,\u001b[0m\u001b[0;34m\u001b[0m\u001b[0;34m\u001b[0m\u001b[0m\n\u001b[1;32m    262\u001b[0m             \u001b[0mcallbacks\u001b[0m\u001b[0;34m=\u001b[0m\u001b[0mconfig\u001b[0m\u001b[0;34m.\u001b[0m\u001b[0mget\u001b[0m\u001b[0;34m(\u001b[0m\u001b[0;34m\"callbacks\"\u001b[0m\u001b[0;34m)\u001b[0m\u001b[0;34m,\u001b[0m\u001b[0;34m\u001b[0m\u001b[0;34m\u001b[0m\u001b[0m\n",
            "\u001b[0;32m/usr/local/lib/python3.10/dist-packages/langchain_core/tools.py\u001b[0m in \u001b[0;36mrun\u001b[0;34m(self, tool_input, verbose, start_color, color, callbacks, tags, metadata, run_name, run_id, config, **kwargs)\u001b[0m\n\u001b[1;32m    450\u001b[0m         \u001b[0;32mexcept\u001b[0m \u001b[0;34m(\u001b[0m\u001b[0mException\u001b[0m\u001b[0;34m,\u001b[0m \u001b[0mKeyboardInterrupt\u001b[0m\u001b[0;34m)\u001b[0m \u001b[0;32mas\u001b[0m \u001b[0me\u001b[0m\u001b[0;34m:\u001b[0m\u001b[0;34m\u001b[0m\u001b[0;34m\u001b[0m\u001b[0m\n\u001b[1;32m    451\u001b[0m             \u001b[0mrun_manager\u001b[0m\u001b[0;34m.\u001b[0m\u001b[0mon_tool_error\u001b[0m\u001b[0;34m(\u001b[0m\u001b[0me\u001b[0m\u001b[0;34m)\u001b[0m\u001b[0;34m\u001b[0m\u001b[0;34m\u001b[0m\u001b[0m\n\u001b[0;32m--> 452\u001b[0;31m             \u001b[0;32mraise\u001b[0m \u001b[0me\u001b[0m\u001b[0;34m\u001b[0m\u001b[0;34m\u001b[0m\u001b[0m\n\u001b[0m\u001b[1;32m    453\u001b[0m         \u001b[0;32melse\u001b[0m\u001b[0;34m:\u001b[0m\u001b[0;34m\u001b[0m\u001b[0;34m\u001b[0m\u001b[0m\n\u001b[1;32m    454\u001b[0m             \u001b[0mrun_manager\u001b[0m\u001b[0;34m.\u001b[0m\u001b[0mon_tool_end\u001b[0m\u001b[0;34m(\u001b[0m\u001b[0mobservation\u001b[0m\u001b[0;34m,\u001b[0m \u001b[0mcolor\u001b[0m\u001b[0;34m=\u001b[0m\u001b[0mcolor\u001b[0m\u001b[0;34m,\u001b[0m \u001b[0mname\u001b[0m\u001b[0;34m=\u001b[0m\u001b[0mself\u001b[0m\u001b[0;34m.\u001b[0m\u001b[0mname\u001b[0m\u001b[0;34m,\u001b[0m \u001b[0;34m**\u001b[0m\u001b[0mkwargs\u001b[0m\u001b[0;34m)\u001b[0m\u001b[0;34m\u001b[0m\u001b[0;34m\u001b[0m\u001b[0m\n",
            "\u001b[0;32m/usr/local/lib/python3.10/dist-packages/langchain_core/tools.py\u001b[0m in \u001b[0;36mrun\u001b[0;34m(self, tool_input, verbose, start_color, color, callbacks, tags, metadata, run_name, run_id, config, **kwargs)\u001b[0m\n\u001b[1;32m    411\u001b[0m                 )\n\u001b[1;32m    412\u001b[0m                 \u001b[0;32mif\u001b[0m \u001b[0mnew_arg_supported\u001b[0m\u001b[0;34m\u001b[0m\u001b[0;34m\u001b[0m\u001b[0m\n\u001b[0;32m--> 413\u001b[0;31m                 \u001b[0;32melse\u001b[0m \u001b[0mcontext\u001b[0m\u001b[0;34m.\u001b[0m\u001b[0mrun\u001b[0m\u001b[0;34m(\u001b[0m\u001b[0mself\u001b[0m\u001b[0;34m.\u001b[0m\u001b[0m_run\u001b[0m\u001b[0;34m,\u001b[0m \u001b[0;34m*\u001b[0m\u001b[0mtool_args\u001b[0m\u001b[0;34m,\u001b[0m \u001b[0;34m**\u001b[0m\u001b[0mtool_kwargs\u001b[0m\u001b[0;34m)\u001b[0m\u001b[0;34m\u001b[0m\u001b[0;34m\u001b[0m\u001b[0m\n\u001b[0m\u001b[1;32m    414\u001b[0m             )\n\u001b[1;32m    415\u001b[0m         \u001b[0;32mexcept\u001b[0m \u001b[0mValidationError\u001b[0m \u001b[0;32mas\u001b[0m \u001b[0me\u001b[0m\u001b[0;34m:\u001b[0m\u001b[0;34m\u001b[0m\u001b[0;34m\u001b[0m\u001b[0m\n",
            "\u001b[0;32m<ipython-input-17-8694a0601759>\u001b[0m in \u001b[0;36m_run\u001b[0;34m(self, symbol, direction, stoploss)\u001b[0m\n\u001b[1;32m     26\u001b[0m         \u001b[0mprint\u001b[0m\u001b[0;34m(\u001b[0m\u001b[0mparameters\u001b[0m\u001b[0;34m)\u001b[0m\u001b[0;34m\u001b[0m\u001b[0;34m\u001b[0m\u001b[0m\n\u001b[1;32m     27\u001b[0m \u001b[0;34m\u001b[0m\u001b[0m\n\u001b[0;32m---> 28\u001b[0;31m         \u001b[0;32mreturn\u001b[0m \u001b[0mfc\u001b[0m\u001b[0;34m.\u001b[0m\u001b[0mcalculate_tp\u001b[0m\u001b[0;34m(\u001b[0m\u001b[0mparameters\u001b[0m\u001b[0;34m)\u001b[0m\u001b[0;34m\u001b[0m\u001b[0;34m\u001b[0m\u001b[0m\n\u001b[0m\u001b[1;32m     29\u001b[0m \u001b[0;34m\u001b[0m\u001b[0m\n\u001b[1;32m     30\u001b[0m \u001b[0mTP\u001b[0m \u001b[0;34m=\u001b[0m \u001b[0mCalculateTp\u001b[0m\u001b[0;34m(\u001b[0m\u001b[0;34m)\u001b[0m\u001b[0;34m\u001b[0m\u001b[0;34m\u001b[0m\u001b[0m\n",
            "\u001b[0;32m<ipython-input-7-64eda4b6c46d>\u001b[0m in \u001b[0;36mcalculate_tp\u001b[0;34m(self, parameters)\u001b[0m\n\u001b[1;32m    446\u001b[0m     \u001b[0;32mdef\u001b[0m \u001b[0mcalculate_tp\u001b[0m\u001b[0;34m(\u001b[0m\u001b[0mself\u001b[0m\u001b[0;34m,\u001b[0m \u001b[0mparameters\u001b[0m\u001b[0;34m)\u001b[0m\u001b[0;34m:\u001b[0m\u001b[0;34m\u001b[0m\u001b[0;34m\u001b[0m\u001b[0m\n\u001b[1;32m    447\u001b[0m         \u001b[0msymbol\u001b[0m \u001b[0;34m=\u001b[0m \u001b[0mparameters\u001b[0m\u001b[0;34m[\u001b[0m\u001b[0;34m\"symbol\"\u001b[0m\u001b[0;34m]\u001b[0m\u001b[0;34m\u001b[0m\u001b[0;34m\u001b[0m\u001b[0m\n\u001b[0;32m--> 448\u001b[0;31m         \u001b[0mticksize\u001b[0m \u001b[0;34m=\u001b[0m \u001b[0mconfig\u001b[0m\u001b[0;34m[\u001b[0m\u001b[0msymbol\u001b[0m\u001b[0;34m]\u001b[0m\u001b[0;34m[\u001b[0m\u001b[0;34m'tick_size'\u001b[0m\u001b[0;34m]\u001b[0m\u001b[0;34m\u001b[0m\u001b[0;34m\u001b[0m\u001b[0m\n\u001b[0m\u001b[1;32m    449\u001b[0m         \u001b[0mself\u001b[0m\u001b[0;34m.\u001b[0m\u001b[0mticksize\u001b[0m \u001b[0;34m=\u001b[0m \u001b[0mticksize\u001b[0m\u001b[0;34m\u001b[0m\u001b[0;34m\u001b[0m\u001b[0m\n\u001b[1;32m    450\u001b[0m         \u001b[0mdirection\u001b[0m \u001b[0;34m=\u001b[0m \u001b[0mparameters\u001b[0m\u001b[0;34m[\u001b[0m\u001b[0;34m\"direction\"\u001b[0m\u001b[0;34m]\u001b[0m\u001b[0;34m\u001b[0m\u001b[0;34m\u001b[0m\u001b[0m\n",
            "\u001b[0;31mKeyError\u001b[0m: 'Trading'"
          ]
        }
      ]
    },
    {
      "cell_type": "code",
      "source": [
        "for s in graph.stream(\n",
        "    {\n",
        "        \"messages\": [\n",
        "            HumanMessage(\n",
        "                content=\"How much would be the take-profit?\"\n",
        "            )\n",
        "        ],\n",
        "    },\n",
        "    # Maximum number of steps to take in the graph\n",
        "    {\"recursion_limit\": 150},\n",
        "):\n",
        "    print(s)\n",
        "    print(\"----\")"
      ],
      "metadata": {
        "colab": {
          "base_uri": "https://localhost:8080/"
        },
        "id": "ByMX1wLUdXp7",
        "outputId": "deb62abb-08f3-4dc6-af34-54861cafc83e"
      },
      "execution_count": null,
      "outputs": [
        {
          "output_type": "stream",
          "name": "stdout",
          "text": [
            "{'Handler': {'messages': [FunctionMessage(content='', name='HandleIrrelevant', HandleIrrelevant_response='False')]}}\n",
            "----\n",
            "{'Trading': {'messages': [HumanMessage(content='To calculate the take-profit (TP), I need more information. Please provide the ticker symbol of the financial instrument and the direction of the trade (short or long).', response_metadata={'finish_reason': 'stop'}, name='Trading', id='run-566d03a8-ff16-4b1f-9975-0dd104d497dc-0', tool_calls=[], invalid_tool_calls=[])], 'sender': 'Trading'}}\n",
            "----\n"
          ]
        }
      ]
    },
    {
      "cell_type": "code",
      "source": [],
      "metadata": {
        "id": "0Exy5u3WdaRV"
      },
      "execution_count": null,
      "outputs": []
    }
  ]
}